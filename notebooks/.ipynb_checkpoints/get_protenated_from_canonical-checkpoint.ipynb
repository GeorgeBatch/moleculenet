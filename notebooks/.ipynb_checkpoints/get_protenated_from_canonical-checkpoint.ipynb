{
 "cells": [
  {
   "cell_type": "code",
   "execution_count": 2,
   "metadata": {
    "colab": {
     "base_uri": "https://localhost:8080/",
     "height": 68
    },
    "colab_type": "code",
    "executionInfo": {
     "elapsed": 2036,
     "status": "ok",
     "timestamp": 1593507634558,
     "user": {
      "displayName": "George Batchkala",
      "photoUrl": "",
      "userId": "17039292136363863281"
     },
     "user_tz": -60
    },
    "id": "KXdDhDGgeIeq",
    "outputId": "d264ab67-bb16-42a9-832c-4c50f93a3969"
   },
   "outputs": [
    {
     "name": "stdout",
     "output_type": "stream",
     "text": [
      "get_all_fingerprints_from_all_smiles.ipynb\r\n",
      "get_fingerprints_lipophilicity_original.ipynb\r\n",
      "get_original_id_smile_target_esol.ipynb\r\n",
      "get_original_id_smile_target_freeesolv.ipynb\r\n",
      "get_original_id_smile_target_lipophilicity.ipynb\r\n",
      "get_protenated_from_canonical.ipynb\r\n",
      "get_rdkit_descriptors_freesolv_original.ipynb\r\n",
      "rf_grid_search_on_fingerprints.ipynb\r\n"
     ]
    }
   ],
   "source": [
    "%ls"
   ]
  },
  {
   "cell_type": "code",
   "execution_count": 3,
   "metadata": {},
   "outputs": [
    {
     "name": "stdout",
     "output_type": "stream",
     "text": [
      "ESOL_README\r\n",
      "FreeSolv_README\r\n",
      "Lipo_README\r\n",
      "esol_original.csv\r\n",
      "esol_original_IdSmileTarget.csv\r\n",
      "esol_original_ecfp4_features.csv\r\n",
      "esol_original_ecfp6_features.csv\r\n",
      "esol_original_extra_features.csv\r\n",
      "freesolv_original.csv\r\n",
      "freesolv_original_IdSmileTarget.csv\r\n",
      "freesolv_original_ecfp4_features.csv\r\n",
      "freesolv_original_ecfp6_features.csv\r\n",
      "lipophilicity_original.csv\r\n",
      "lipophilicity_original_IdSmileTarget.csv\r\n",
      "lipophilicity_original_ecfp4_features.csv\r\n",
      "lipophilicity_original_ecfp6_features.csv\r\n"
     ]
    }
   ],
   "source": [
    "%ls ../data/"
   ]
  },
  {
   "cell_type": "markdown",
   "metadata": {
    "colab_type": "text",
    "id": "cG9tpt04e0iN"
   },
   "source": [
    "# Import modules"
   ]
  },
  {
   "cell_type": "code",
   "execution_count": 11,
   "metadata": {
    "colab": {},
    "colab_type": "code",
    "executionInfo": {
     "elapsed": 423,
     "status": "ok",
     "timestamp": 1593507643409,
     "user": {
      "displayName": "George Batchkala",
      "photoUrl": "",
      "userId": "17039292136363863281"
     },
     "user_tz": -60
    },
    "id": "sjl-QAB5e4I3"
   },
   "outputs": [],
   "source": [
    "import pathlib\n",
    "\n",
    "import numpy as np\n",
    "import pandas as pd\n",
    "\n",
    "from rdkit import Chem\n",
    "from rdkit.Chem import AllChem\n",
    "from rdkit.Chem.rdmolfiles import SmilesWriter"
   ]
  },
  {
   "cell_type": "markdown",
   "metadata": {},
   "source": [
    "# Load Data"
   ]
  },
  {
   "cell_type": "code",
   "execution_count": null,
   "metadata": {},
   "outputs": [],
   "source": [
    "dataset = 'lipophilicity'"
   ]
  },
  {
   "cell_type": "code",
   "execution_count": 3,
   "metadata": {
    "colab": {
     "base_uri": "https://localhost:8080/",
     "height": 170
    },
    "colab_type": "code",
    "executionInfo": {
     "elapsed": 925,
     "status": "ok",
     "timestamp": 1593005977272,
     "user": {
      "displayName": "George Batchkala",
      "photoUrl": "",
      "userId": "17039292136363863281"
     },
     "user_tz": -60
    },
    "id": "xmL5nV-BeOcC",
    "outputId": "e2ee0fad-ca78-455e-a45c-6465ec2418e8"
   },
   "outputs": [
    {
     "name": "stdout",
     "output_type": "stream",
     "text": [
      "                exp                                             smiles\n",
      "CMPD_CHEMBLID                                                         \n",
      "CHEMBL596271   3.54            Cn1c(CN2CCN(CC2)c3ccc(Cl)cc3)nc4ccccc14\n",
      "CHEMBL1951080 -1.18  COc1cc(OC)c(cc1NC(=O)CSCC(=O)O)S(=O)(=O)N2C(C)...\n",
      "CHEMBL1771     3.69             COC(=O)[C@@H](N1CCc2sccc2C1)c3ccccc3Cl\n",
      "CHEMBL234951   3.37  OC[C@H](O)CN1C(=O)C(Cc2ccccc12)NC(=O)c3cc4cc(C...\n",
      "CHEMBL565079   3.10  Cc1cccc(C[C@H](NC(=O)c2cc(nn2C)C(C)(C)C)C(=O)N... \n",
      "\n"
     ]
    },
    {
     "data": {
      "text/plain": [
       "(4200, 2)"
      ]
     },
     "execution_count": 3,
     "metadata": {},
     "output_type": "execute_result"
    }
   ],
   "source": [
    "data = pd.read_csv(f'../data/{dataset}_original_IdSmileTarget.csv', index_col=0)\n",
    "print(data.head(), '\\n')\n",
    "data.shape"
   ]
  },
  {
   "cell_type": "code",
   "execution_count": 4,
   "metadata": {
    "colab": {
     "base_uri": "https://localhost:8080/",
     "height": 391
    },
    "colab_type": "code",
    "executionInfo": {
     "elapsed": 835,
     "status": "ok",
     "timestamp": 1593006007436,
     "user": {
      "displayName": "George Batchkala",
      "photoUrl": "",
      "userId": "17039292136363863281"
     },
     "user_tz": -60
    },
    "id": "mBSFk3wiex-U",
    "outputId": "2918ed64-948b-417f-dfb8-a4786f4bb94d"
   },
   "outputs": [
    {
     "data": {
      "text/plain": [
       "CMPD_CHEMBLID\n",
       "CHEMBL596271     3.54\n",
       "CHEMBL1951080   -1.18\n",
       "CHEMBL1771       3.69\n",
       "CHEMBL234951     3.37\n",
       "CHEMBL565079     3.10\n",
       "Name: exp, dtype: float64"
      ]
     },
     "execution_count": 4,
     "metadata": {},
     "output_type": "execute_result"
    }
   ],
   "source": [
    "target = data['exp']\n",
    "target[:5]"
   ]
  },
  {
   "cell_type": "code",
   "execution_count": 5,
   "metadata": {
    "colab": {},
    "colab_type": "code",
    "id": "E0PWJ6EAy-sz"
   },
   "outputs": [],
   "source": [
    "# save target series\n",
    "target.to_csv('logD.csv')"
   ]
  },
  {
   "cell_type": "code",
   "execution_count": 6,
   "metadata": {},
   "outputs": [
    {
     "name": "stdout",
     "output_type": "stream",
     "text": [
      "Lipo_README                           get_fingerprints_local.ipynb\r\n",
      "Lipophilicity.csv                     get_protenated_from_canonical.ipynb\r\n",
      "cdk2smi1.smi                          logD.csv\r\n",
      "ecfp4_features.csv                    protonated_smiles.smi\r\n",
      "ecfp6_features.csv                    rf_grid_search_on_fingerprints.ipynb\r\n",
      "example.smi                           smiles.smi\r\n",
      "get_fingerprints.ipynb\r\n"
     ]
    }
   ],
   "source": [
    "%ls"
   ]
  },
  {
   "cell_type": "code",
   "execution_count": 57,
   "metadata": {
    "colab": {
     "base_uri": "https://localhost:8080/",
     "height": 391
    },
    "colab_type": "code",
    "executionInfo": {
     "elapsed": 696,
     "status": "ok",
     "timestamp": 1593006490380,
     "user": {
      "displayName": "George Batchkala",
      "photoUrl": "",
      "userId": "17039292136363863281"
     },
     "user_tz": -60
    },
    "id": "fzmU_vj6jlcm",
    "outputId": "5401df6b-83ba-404e-b43b-5ece33b5c0c7"
   },
   "outputs": [
    {
     "name": "stdout",
     "output_type": "stream",
     "text": [
      "4200\n"
     ]
    },
    {
     "data": {
      "text/plain": [
       "CMPD_CHEMBLID\n",
       "CHEMBL596271               Cn1c(CN2CCN(CC2)c3ccc(Cl)cc3)nc4ccccc14\n",
       "CHEMBL1951080    COc1cc(OC)c(cc1NC(=O)CSCC(=O)O)S(=O)(=O)N2C(C)...\n",
       "CHEMBL1771                  COC(=O)[C@@H](N1CCc2sccc2C1)c3ccccc3Cl\n",
       "CHEMBL234951     OC[C@H](O)CN1C(=O)C(Cc2ccccc12)NC(=O)c3cc4cc(C...\n",
       "CHEMBL565079     Cc1cccc(C[C@H](NC(=O)c2cc(nn2C)C(C)(C)C)C(=O)N...\n",
       "Name: smiles, dtype: object"
      ]
     },
     "execution_count": 57,
     "metadata": {},
     "output_type": "execute_result"
    }
   ],
   "source": [
    "smiles = data['smiles']\n",
    "print(len(smiles))\n",
    "\n",
    "smiles[:5]"
   ]
  },
  {
   "cell_type": "code",
   "execution_count": 58,
   "metadata": {},
   "outputs": [],
   "source": [
    "smiles_list = list(smiles)"
   ]
  },
  {
   "cell_type": "code",
   "execution_count": 59,
   "metadata": {},
   "outputs": [],
   "source": [
    "smiles_list100 = smiles_list[:100]"
   ]
  },
  {
   "cell_type": "markdown",
   "metadata": {},
   "source": [
    "# Create molecules from smiles"
   ]
  },
  {
   "cell_type": "code",
   "execution_count": 41,
   "metadata": {
    "colab": {
     "base_uri": "https://localhost:8080/",
     "height": 51
    },
    "colab_type": "code",
    "executionInfo": {
     "elapsed": 1330,
     "status": "ok",
     "timestamp": 1593008049096,
     "user": {
      "displayName": "George Batchkala",
      "photoUrl": "",
      "userId": "17039292136363863281"
     },
     "user_tz": -60
    },
    "id": "Hzwk1r8_lZow",
    "outputId": "86f33ba6-464a-4401-a394-1af8907b1431"
   },
   "outputs": [
    {
     "name": "stdout",
     "output_type": "stream",
     "text": [
      "CPU times: user 2.09 s, sys: 225 ms, total: 2.32 s\n",
      "Wall time: 2.38 s\n"
     ]
    }
   ],
   "source": [
    "%%time\n",
    "\n",
    "# record molecules\n",
    "ms = [Chem.MolFromSmiles(smile) for smile in smiles_list]"
   ]
  },
  {
   "cell_type": "code",
   "execution_count": 42,
   "metadata": {},
   "outputs": [
    {
     "name": "stdout",
     "output_type": "stream",
     "text": [
      "CPU times: user 9 µs, sys: 1e+03 ns, total: 10 µs\n",
      "Wall time: 14.1 µs\n"
     ]
    }
   ],
   "source": [
    "%%time\n",
    "\n",
    "# record molecules\n",
    "ms100 = ms[:100]"
   ]
  },
  {
   "cell_type": "markdown",
   "metadata": {},
   "source": [
    "# Write the molecules in the `smiles.smi` file"
   ]
  },
  {
   "cell_type": "code",
   "execution_count": 43,
   "metadata": {},
   "outputs": [],
   "source": [
    "writer = SmilesWriter('smiles.smi')"
   ]
  },
  {
   "cell_type": "code",
   "execution_count": 44,
   "metadata": {},
   "outputs": [],
   "source": [
    "#The way of writing molecules can perform common way.\n",
    "for m in ms:\n",
    "    writer.write(m)\n",
    "writer.close()"
   ]
  },
  {
   "cell_type": "code",
   "execution_count": 45,
   "metadata": {},
   "outputs": [
    {
     "name": "stdout",
     "output_type": "stream",
     "text": [
      "Lipo_README                           get_fingerprints_local.ipynb\r\n",
      "Lipophilicity.csv                     get_protenated_from_canonical.ipynb\r\n",
      "cdk2smi1.smi                          logD.csv\r\n",
      "ecfp4_features.csv                    protonated_smiles.smi\r\n",
      "ecfp6_features.csv                    protonated_smiles_messy.txt\r\n",
      "example.smi                           rf_grid_search_on_fingerprints.ipynb\r\n",
      "get_fingerprints.ipynb                smiles.smi\r\n"
     ]
    }
   ],
   "source": [
    "%ls"
   ]
  },
  {
   "cell_type": "code",
   "execution_count": 46,
   "metadata": {},
   "outputs": [],
   "source": [
    "# small version to run fast\n",
    "writer = SmilesWriter('smiles100.smi')\n",
    "\n",
    "#The way of writing molecules can perform common way.\n",
    "for m in ms100:\n",
    "    writer.write(m)\n",
    "writer.close()"
   ]
  },
  {
   "cell_type": "code",
   "execution_count": 47,
   "metadata": {},
   "outputs": [
    {
     "name": "stdout",
     "output_type": "stream",
     "text": [
      "Lipo_README                           get_protenated_from_canonical.ipynb\r\n",
      "Lipophilicity.csv                     logD.csv\r\n",
      "cdk2smi1.smi                          protonated_smiles.smi\r\n",
      "ecfp4_features.csv                    protonated_smiles_messy.txt\r\n",
      "ecfp6_features.csv                    rf_grid_search_on_fingerprints.ipynb\r\n",
      "example.smi                           smiles.smi\r\n",
      "get_fingerprints.ipynb                smiles100.smi\r\n",
      "get_fingerprints_local.ipynb\r\n"
     ]
    }
   ],
   "source": [
    "%ls"
   ]
  },
  {
   "cell_type": "markdown",
   "metadata": {},
   "source": [
    "# Compare smiles written from the molecules to the original smiles"
   ]
  },
  {
   "cell_type": "code",
   "execution_count": 15,
   "metadata": {},
   "outputs": [],
   "source": [
    "check_suppl = Chem.SmilesMolSupplier('smiles.smi')"
   ]
  },
  {
   "cell_type": "code",
   "execution_count": 16,
   "metadata": {},
   "outputs": [
    {
     "name": "stdout",
     "output_type": "stream",
     "text": [
      "CPU times: user 3.15 s, sys: 89.3 ms, total: 3.24 s\n",
      "Wall time: 3.31 s\n"
     ]
    },
    {
     "data": {
      "text/plain": [
       "['Cn1c(CN2CCN(c3ccc(Cl)cc3)CC2)nc2ccccc21',\n",
       " 'COc1cc(OC)c(S(=O)(=O)N2c3ccccc3CCC2C)cc1NC(=O)CSCC(=O)O',\n",
       " 'COC(=O)[C@H](c1ccccc1Cl)N1CCc2sccc2C1',\n",
       " 'O=C(NC1Cc2ccccc2N(C[C@@H](O)CO)C1=O)c1cc2cc(Cl)sc2[nH]1',\n",
       " 'Cc1cccc(C[C@H](NC(=O)c2cc(C(C)(C)C)nn2C)C(=O)NCC#N)c1']"
      ]
     },
     "execution_count": 16,
     "metadata": {},
     "output_type": "execute_result"
    }
   ],
   "source": [
    "%%time\n",
    "\n",
    "check_smiles_list = [Chem.MolToSmiles(mol) for mol in check_suppl if mol != None]\n",
    "len(check_smiles_list)\n",
    "check_smiles_list[:5]"
   ]
  },
  {
   "cell_type": "code",
   "execution_count": 17,
   "metadata": {},
   "outputs": [
    {
     "data": {
      "text/plain": [
       "False"
      ]
     },
     "execution_count": 17,
     "metadata": {},
     "output_type": "execute_result"
    }
   ],
   "source": [
    "set(check_smiles_list) == set(smiles_list)"
   ]
  },
  {
   "cell_type": "code",
   "execution_count": 18,
   "metadata": {},
   "outputs": [
    {
     "data": {
      "text/plain": [
       "354"
      ]
     },
     "execution_count": 18,
     "metadata": {},
     "output_type": "execute_result"
    }
   ],
   "source": [
    "len(set(check_smiles_list).intersection(set(smiles_list)))"
   ]
  },
  {
   "cell_type": "code",
   "execution_count": 19,
   "metadata": {},
   "outputs": [
    {
     "data": {
      "text/plain": [
       "4200"
      ]
     },
     "execution_count": 19,
     "metadata": {},
     "output_type": "execute_result"
    }
   ],
   "source": [
    "len(smiles_list)"
   ]
  },
  {
   "cell_type": "code",
   "execution_count": 20,
   "metadata": {},
   "outputs": [
    {
     "name": "stdout",
     "output_type": "stream",
     "text": [
      "Original:\n",
      " Cn1c(CN2CCN(CC2)c3ccc(Cl)cc3)nc4ccccc14\n"
     ]
    },
    {
     "data": {
      "text/plain": [
       "'Cn1c(CN2CCN(c3ccc(Cl)cc3)CC2)nc2ccccc21'"
      ]
     },
     "execution_count": 20,
     "metadata": {},
     "output_type": "execute_result"
    }
   ],
   "source": [
    "print(\"Original:\\n\", smiles_list[0])\n",
    "Chem.MolToSmiles(Chem.MolFromSmiles(smiles_list[0]))"
   ]
  },
  {
   "cell_type": "code",
   "execution_count": 21,
   "metadata": {},
   "outputs": [
    {
     "name": "stdout",
     "output_type": "stream",
     "text": [
      "After:\n",
      " Cn1c(CN2CCN(c3ccc(Cl)cc3)CC2)nc2ccccc21\n"
     ]
    },
    {
     "data": {
      "text/plain": [
       "'Cn1c(CN2CCN(c3ccc(Cl)cc3)CC2)nc2ccccc21'"
      ]
     },
     "execution_count": 21,
     "metadata": {},
     "output_type": "execute_result"
    }
   ],
   "source": [
    "print(\"After:\\n\", check_smiles_list[0])\n",
    "Chem.MolToSmiles(Chem.MolFromSmiles(check_smiles_list[0]))"
   ]
  },
  {
   "cell_type": "code",
   "execution_count": 22,
   "metadata": {},
   "outputs": [
    {
     "data": {
      "text/plain": [
       "True"
      ]
     },
     "execution_count": 22,
     "metadata": {},
     "output_type": "execute_result"
    }
   ],
   "source": [
    "[Chem.MolToSmiles(Chem.MolFromSmiles(smiles_list[i])) for i in range(len(smiles_list))] == check_smiles_list"
   ]
  },
  {
   "cell_type": "markdown",
   "metadata": {},
   "source": [
    "The `check_smiles_list` and `smiles_list` are the same except that `check_smiles_list` has all the smiles in the canonical form"
   ]
  },
  {
   "cell_type": "markdown",
   "metadata": {},
   "source": [
    "# Create a file with protonated smiles"
   ]
  },
  {
   "cell_type": "code",
   "execution_count": 48,
   "metadata": {},
   "outputs": [
    {
     "name": "stdout",
     "output_type": "stream",
     "text": [
      "\u001b[31mCHANGES.md\u001b[m\u001b[m*                \u001b[34m__pycache__\u001b[m\u001b[m/\r\n",
      "\u001b[31mCONTRIBUTORS.md\u001b[m\u001b[m*           \u001b[31mdimorphite_dl.py\u001b[m\u001b[m*\r\n",
      "\u001b[31mLICENSE.txt\u001b[m\u001b[m*               \u001b[31msample_molecules.smi\u001b[m\u001b[m*\r\n",
      "\u001b[31mREADME.md\u001b[m\u001b[m*                 \u001b[31msite_substructures.smarts\u001b[m\u001b[m*\r\n",
      "\u001b[31m__init__.py\u001b[m\u001b[m*               \u001b[34mtraining_data\u001b[m\u001b[m/\r\n"
     ]
    }
   ],
   "source": [
    "# check the directory of dimorphite_dl.py file\n",
    "\n",
    "%ls ../../../packages/dimorphite_dl-1.2.4/"
   ]
  },
  {
   "cell_type": "code",
   "execution_count": 49,
   "metadata": {},
   "outputs": [
    {
     "name": "stdout",
     "output_type": "stream",
     "text": [
      "\n",
      "For help, use: python dimorphite_dl.py --help\n",
      "\n",
      "If you use Dimorphite-DL in your research, please cite:\n",
      "Ropp PJ, Kaminsky JC, Yablonski S, Durrant JD (2019) Dimorphite-DL: An\n",
      "open-source program for enumerating the ionization states of drug-like small\n",
      "molecules. J Cheminform 11:14. doi:10.1186/s13321-019-0336-9.\n",
      "\n",
      "\n",
      "PARAMETERS:\n",
      "\n",
      " label_states: False\n",
      "       max_ph: 7.4\n",
      " max_variants: 128\n",
      "       min_ph: 7.4\n",
      "  output_file: protonated_smiles100.smi\n",
      "pka_precision: 1.0\n",
      "       silent: False\n",
      "       smiles: None\n",
      "  smiles_file: smiles100.smi\n",
      "         test: False\n",
      "\n",
      "WARNING: Skipping poorly formed SMILES string: SMILES Name \n",
      "\n",
      "CPU times: user 41.3 ms, sys: 22.2 ms, total: 63.5 ms\n",
      "Wall time: 2.21 s\n"
     ]
    }
   ],
   "source": [
    "%%time\n",
    "\n",
    "! python ../../../packages/dimorphite_dl-1.2.4/dimorphite_dl.py --smiles_file smiles100.smi --min_ph 7.4 --max_ph 7.4 --output_file protonated_smiles100.smi"
   ]
  },
  {
   "cell_type": "code",
   "execution_count": 50,
   "metadata": {},
   "outputs": [
    {
     "name": "stdout",
     "output_type": "stream",
     "text": [
      "\n",
      "For help, use: python dimorphite_dl.py --help\n",
      "\n",
      "If you use Dimorphite-DL in your research, please cite:\n",
      "Ropp PJ, Kaminsky JC, Yablonski S, Durrant JD (2019) Dimorphite-DL: An\n",
      "open-source program for enumerating the ionization states of drug-like small\n",
      "molecules. J Cheminform 11:14. doi:10.1186/s13321-019-0336-9.\n",
      "\n",
      "\n",
      "PARAMETERS:\n",
      "\n",
      " label_states: False\n",
      "       max_ph: 7.4\n",
      " max_variants: 128\n",
      "       min_ph: 7.4\n",
      "  output_file: None\n",
      "pka_precision: 1.0\n",
      "       silent: False\n",
      "       smiles: None\n",
      "  smiles_file: smiles100.smi\n",
      "         test: False\n",
      "\n",
      "WARNING: Skipping poorly formed SMILES string: SMILES Name \n",
      "\n",
      "Cn1c(CN2CCN(c3ccc(Cl)cc3)CC2)nc2ccccc21\t0\n",
      "Cn1c(C[NH+]2CCN(c3ccc(Cl)cc3)CC2)nc2ccccc21\t0\n",
      "COc1cc(OC)c(S(=O)(=O)[NH+]2c3ccccc3CCC2C)cc1NC(=O)CSCC(=O)[O-]\t1\n",
      "COc1cc(OC)c(S(=O)(=O)N2c3ccccc3CCC2C)cc1NC(=O)CSCC(=O)[O-]\t1\n",
      "COC(=O)[C@H](c1ccccc1Cl)[NH+]1CCc2sccc2C1\t2\n",
      "COC(=O)[C@H](c1ccccc1Cl)N1CCc2sccc2C1\t2\n",
      "O=C(NC1Cc2ccccc2N(C[C@@H](O)CO)C1=O)c1cc2cc(Cl)sc2[nH]1\t3\n",
      "Cc1cccc(C[C@H](NC(=O)c2cc(C(C)(C)C)nn2C)C(=O)NCC#N)c1\t4\n",
      "OC1(C#Cc2ccc(-c3ccccc3)cc2)CN2CCC1CC2\t5\n",
      "OC1(C#Cc2ccc(-c3ccccc3)cc2)C[NH+]2CCC1CC2\t5\n",
      "COc1cc(OC)c(S(=O)(=O)NCc2ccccc2N2CCCCC2)cc1NC(=O)CCC(=O)[O-]\t6\n",
      "COc1cc(OC)c(S(=O)(=O)[N-]Cc2ccccc2N2CCCCC2)cc1NC(=O)CCC(=O)[O-]\t6\n",
      "CNc1cccc(CCOc2ccc(C[C@H](NC(=O)c3c(Cl)cccc3Cl)C(=O)[O-])cc2C)n1\t7\n",
      "COc1ccc(-c2coc3cc(OC)cc(OC)c3c2=O)cc1\t8\n",
      "Oc1ncnc2scc(-c3ccsc3)c12\t9\n",
      "[O-]c1ncnc2scc(-c3ccsc3)c12\t9\n",
      "CS(=O)(=O)c1ccc(Oc2ccc(C#C[C@]3(O)C[NH+]4CCC3CC4)cc2)cc1\t10\n",
      "CS(=O)(=O)c1ccc(Oc2ccc(C#C[C@]3(O)CN4CCC3CC4)cc2)cc1\t10\n",
      "Cc1cc(Nc2nc([NH2+][C@@H](C)c3ccc(F)cn3)c(C#N)nc2C)n[nH]1\t11\n",
      "Cc1cc(Nc2nc(N[C@@H](C)c3ccc(F)cn3)c(C#N)nc2C)n[n-]1\t11\n",
      "Cc1cc(Nc2nc([NH2+][C@@H](C)c3ccc(F)cn3)c(C#N)nc2C)n[n-]1\t11\n",
      "Cc1cc(Nc2nc(N[C@@H](C)c3ccc(F)cn3)c(C#N)nc2C)n[nH]1\t11\n",
      "O=C1CCCCCN1\t12\n",
      "CCCSc1ncccc1C(=O)N1CCCC1c1ccncc1\t13\n",
      "CCCSc1ncccc1C(=O)[NH+]1CCCC1c1ccncc1\t13\n",
      "Cc1ccc(S(=O)(=O)[N-]c2c(C(=O)NC3CCCCC3C)cnn2-c2ccccc2)cc1\t14\n",
      "Cc1ccc(S(=O)(=O)Nc2c(C(=O)NC3CCCCC3C)cnn2-c2ccccc2)cc1\t14\n",
      "Nc1ccc(-c2nc3ccc(O)cc3s2)cc1\t15\n",
      "Nc1ccc(-c2nc3ccc([O-])cc3s2)cc1\t15\n",
      "COc1ccc(N2CC[NH+](C(=O)[C@@H]3CCCC[C@H]3C(=O)NCC#N)CC2)cc1\t16\n",
      "COc1ccc(N2CCN(C(=O)[C@@H]3CCCC[C@H]3C(=O)NCC#N)CC2)cc1\t16\n",
      "CCC(COC(=O)c1cc(OC)c(OC)c(OC)c1)(c1ccccc1)N(C)C\t17\n",
      "CCC(COC(=O)c1cc(OC)c(OC)c(OC)c1)(c1ccccc1)[NH+](C)C\t17\n",
      "COc1cc(-n2nnc3cc(-c4ccc(Cl)cc4)sc3c2=O)ccc1N1CC[C@@H](O)C1\t18\n",
      "CO[C@H]1C[NH+](CCn2c(=O)ccc3ccc(C#N)cc32)CC[C@H]1NCc1ccc2c(n1)NC(=O)CO2\t19\n",
      "CO[C@H]1C[NH+](CCn2c(=O)ccc3ccc(C#N)cc32)CC[C@H]1[NH2+]Cc1ccc2c(n1)NC(=O)CO2\t19\n",
      "CO[C@H]1CN(CCn2c(=O)ccc3ccc(C#N)cc32)CC[C@H]1NCc1ccc2c(n1)NC(=O)CO2\t19\n",
      "CO[C@H]1CN(CCn2c(=O)ccc3ccc(C#N)cc32)CC[C@H]1[NH2+]Cc1ccc2c(n1)NC(=O)CO2\t19\n",
      "CC(C)(CCCCCOCCc1ccccc1)[NH2+]CCc1ccc([O-])c2nc(O)sc12\t20\n",
      "CC(C)(CCCCCOCCc1ccccc1)[NH2+]CCc1ccc(O)c2nc(O)sc12\t20\n",
      "CC(C)(CCCCCOCCc1ccccc1)NCCc1ccc([O-])c2nc(O)sc12\t20\n",
      "CC(C)(CCCCCOCCc1ccccc1)[NH2+]CCc1ccc([O-])c2nc([O-])sc12\t20\n",
      "CC(C)(CCCCCOCCc1ccccc1)[NH2+]CCc1ccc(O)c2nc([O-])sc12\t20\n",
      "CC(C)(CCCCCOCCc1ccccc1)NCCc1ccc([O-])c2nc([O-])sc12\t20\n",
      "CC(C)(CCCCCOCCc1ccccc1)NCCc1ccc(O)c2nc([O-])sc12\t20\n",
      "CC(C)(CCCCCOCCc1ccccc1)NCCc1ccc(O)c2nc(O)sc12\t20\n",
      "O=C(Nc1nnc(C(=O)Nc2ccc(N3CCOCC3)cc2)o1)c1ccc(Cl)cc1\t21\n",
      "COc1ccc(Oc2cccc(C[NH+]3CCCC(n4cc(C)c(=O)[n-]c4=O)C3)c2)cc1\t22\n",
      "COc1ccc(Oc2cccc(CN3CCCC(n4cc(C)c(=O)[n-]c4=O)C3)c2)cc1\t22\n",
      "COc1ccc(Oc2cccc(C[NH+]3CCCC(n4cc(C)c(=O)[nH]c4=O)C3)c2)cc1\t22\n",
      "COc1ccc(Oc2cccc(CN3CCCC(n4cc(C)c(=O)[nH]c4=O)C3)c2)cc1\t22\n",
      "O=C([O-])c1cccc(N2CCC(C[NH+]3CCC(Oc4ccc(Cl)c(Cl)c4)CC3)CC2)c1\t23\n",
      "O=C([O-])c1cccc(N2CCC(CN3CCC(Oc4ccc(Cl)c(Cl)c4)CC3)CC2)c1\t23\n",
      "C[NH2+]CC[C@@H](Oc1ccccc1C)c1ccccc1\t24\n",
      "CNCC[C@@H](Oc1ccccc1C)c1ccccc1\t24\n",
      "O=C(CCCc1ccncc1)N1CCN(c2ccc(Cl)cc2Cl)CC1\t25\n",
      "O=C(CCCc1ccncc1)[NH+]1CCN(c2ccc(Cl)cc2Cl)CC1\t25\n",
      "COc1cnc(-c2ccccn2)nc1N(C)C\t26\n",
      "c1ccc(-c2cc(NCCCCCCCCNc3cc(-c4ccccc4)nc4ccccc34)c3ccccc3n2)cc1\t27\n",
      "CSc1c(C(=O)NC2C3CC4CC(C3)CC2C4)cnn1-c1ccc(C(=O)[O-])cc1\t28\n",
      "CNC1=[NH+]c2ncccc2C(c2ncco2)=NC1c1cccs1\t29\n",
      "CS(=O)(=O)C1(c2cc(N3CC4CCC(C3)O4)nc(-c3cccc4[nH]ccc34)n2)CC1\t30\n",
      "C[NH+](C(=O)Cc1ccc(-n2cnnn2)cc1)[C@@H]1CC[NH+](Cc2ccc(C(F)(F)F)cc2)C[C@@H]1F\t31\n",
      "CN(C(=O)Cc1ccc(-n2cnnn2)cc1)[C@@H]1CCN(Cc2ccc(C(F)(F)F)cc2)C[C@@H]1F\t31\n",
      "CN(C(=O)Cc1ccc(-n2cnnn2)cc1)[C@@H]1CC[NH+](Cc2ccc(C(F)(F)F)cc2)C[C@@H]1F\t31\n",
      "C[NH+](C(=O)Cc1ccc(-n2cnnn2)cc1)[C@@H]1CCN(Cc2ccc(C(F)(F)F)cc2)C[C@@H]1F\t31\n",
      "CC(=O)[C@H]1CC[C@H]2[C@@H]3CCC4=CC(=O)CC[C@]4(C)[C@H]3CC[C@]12C\t32\n",
      "CS(=O)(=O)c1ccccc1C(=O)NC[C@@H](O)CN1CCC(Oc2ccc(Cl)c(Cl)c2)CC1\t33\n",
      "CS(=O)(=O)c1ccccc1C(=O)NC[C@@H](O)C[NH+]1CCC(Oc2ccc(Cl)c(Cl)c2)CC1\t33\n",
      "N#Cc1ccccc1Oc1ccc(C(=O)NCc2ccncc2)cc1\t34\n",
      "CN(C)c1ccnc2sc(C(=O)NCc3ccccc3)c(N)c12\t35\n",
      "Cc1ccc(NC(=O)c2cscn2)cc1-n1cnc2ccc(N3CC[NH+](C)CC3)cc2c1=O\t36\n",
      "Cc1ccc(NC(=O)c2cscn2)cc1-n1cnc2ccc(N3CCN(C)CC3)cc2c1=O\t36\n",
      "Cn1cncc1-c1c2c(=O)n(CC3CC3)c(=O)n(CC3CC3)c2nn1Cc1ccnc2ccc(Cl)cc12\t37\n",
      "COc1ccc2ncc(C#N)c(CCN3CCC([NH2+]Cc4cc5c(cn4)OCS5)CC3)c2c1\t38\n",
      "COc1ccc2ncc(C#N)c(CC[NH+]3CCC(NCc4cc5c(cn4)OCS5)CC3)c2c1\t38\n",
      "COc1ccc2ncc(C#N)c(CCN3CCC(NCc4cc5c(cn4)OCS5)CC3)c2c1\t38\n",
      "COc1ccc2ncc(C#N)c(CC[NH+]3CCC([NH2+]Cc4cc5c(cn4)OCS5)CC3)c2c1\t38\n",
      "CNC(=O)C1([NH+]2CCCCC2=O)CC[NH+](CC[C@H](CN(C)C(=O)c2c(OC)c(C#N)cc3ccccc23)c2ccc(Cl)c(Cl)c2)CC1\t39\n",
      "CNC(=O)C1([NH+]2CCCCC2=O)CCN(CC[C@H](C[NH+](C)C(=O)c2c(OC)c(C#N)cc3ccccc23)c2ccc(Cl)c(Cl)c2)CC1\t39\n",
      "CNC(=O)C1(N2CCCCC2=O)CC[NH+](CC[C@H](C[NH+](C)C(=O)c2c(OC)c(C#N)cc3ccccc23)c2ccc(Cl)c(Cl)c2)CC1\t39\n",
      "CNC(=O)C1(N2CCCCC2=O)CCN(CC[C@H](C[NH+](C)C(=O)c2c(OC)c(C#N)cc3ccccc23)c2ccc(Cl)c(Cl)c2)CC1\t39\n",
      "CNC(=O)C1([NH+]2CCCCC2=O)CC[NH+](CC[C@H](C[NH+](C)C(=O)c2c(OC)c(C#N)cc3ccccc23)c2ccc(Cl)c(Cl)c2)CC1\t39\n",
      "CNC(=O)C1([NH+]2CCCCC2=O)CCN(CC[C@H](CN(C)C(=O)c2c(OC)c(C#N)cc3ccccc23)c2ccc(Cl)c(Cl)c2)CC1\t39\n",
      "CNC(=O)C1(N2CCCCC2=O)CCN(CC[C@H](CN(C)C(=O)c2c(OC)c(C#N)cc3ccccc23)c2ccc(Cl)c(Cl)c2)CC1\t39\n",
      "CNC(=O)C1(N2CCCCC2=O)CC[NH+](CC[C@H](CN(C)C(=O)c2c(OC)c(C#N)cc3ccccc23)c2ccc(Cl)c(Cl)c2)CC1\t39\n",
      "O=C1Nc2ccccc2B(O)N1c1ccccc1\t40\n",
      "CC(C)[NH+](CCC(C(N)=O)(c1ccccc1)c1ccccn1)C(C)C\t41\n",
      "CC(C)N(CCC(C(N)=O)(c1ccccc1)c1ccccn1)C(C)C\t41\n",
      "N#C[NH+]=C(N)c1sc(Nc2ccccc2)nc1N\t42\n",
      "CCS(=O)(=O)c1ccc(-c2cc(C(F)(F)F)ccc2O[C@H](C)C(=O)[O-])c(C)c1\t43\n",
      "N#Cc1ccc(F)c(-c2cc(C(F)(F)F)ccc2OCC(=O)[O-])c1\t44\n",
      "COc1ccc(-c2cc3c(C)nc(N)nc3n([C@H]3CC[C@H](OCCO)CC3)c2=O)cn1\t45\n",
      "CC([NH2+]c1ncnc2ccccc12)c1ccccc1\t46\n",
      "CC(Nc1ncnc2ccccc12)c1ccccc1\t46\n",
      "CC(C)c1ccc2oc3nc(N)c(C(=O)[O-])cc3c(=O)c2c1\t47\n",
      "O=c1[nH]c2c(O)ccc([C@@H](O)CNCCCOCCOCCc3cccc4ccccc34)c2s1\t48\n",
      "O=c1[nH]c2c([O-])ccc([C@@H](O)C[NH2+]CCCOCCOCCc3cccc4ccccc34)c2s1\t48\n",
      "O=c1[nH]c2c(O)ccc([C@@H](O)C[NH2+]CCCOCCOCCc3cccc4ccccc34)c2s1\t48\n",
      "O=c1[n-]c2c(O)ccc([C@@H](O)C[NH2+]CCCOCCOCCc3cccc4ccccc34)c2s1\t48\n",
      "O=c1[n-]c2c([O-])ccc([C@@H](O)CNCCCOCCOCCc3cccc4ccccc34)c2s1\t48\n",
      "O=c1[nH]c2c([O-])ccc([C@@H](O)CNCCCOCCOCCc3cccc4ccccc34)c2s1\t48\n",
      "O=c1[n-]c2c([O-])ccc([C@@H](O)C[NH2+]CCCOCCOCCc3cccc4ccccc34)c2s1\t48\n",
      "O=c1[n-]c2c(O)ccc([C@@H](O)CNCCCOCCOCCc3cccc4ccccc34)c2s1\t48\n",
      "COc1ccccc1Cn1c(C)nc2ccccc21\t49\n",
      "O=C([O-])c1ccc(NC(=O)c2cc(OCc3ccccc3F)cc(OCc3ccccc3F)c2)nc1\t50\n",
      "[NH3+]C(Cc1c[nH]c2ccccc12)C(=O)[O-]\t51\n",
      "NC(Cc1c[nH]c2ccccc12)C(=O)[O-]\t51\n",
      "O=C([O-])CCC[C@@H]1c2ccccc2C[C@H]1NC(=O)c1cc2cc(F)ccc2[nH]1\t52\n",
      "CCNC(=O)c1cc2c(-n3ccc(C(F)(F)F)n3)c(-c3cncc(C(=O)[O-])c3)cnc2[nH]1\t53\n",
      "Cc1ccc(S(=O)(=O)Nc2c(C(=O)N[C@@H](C)C(C)(C)C)c(C)nn2C2CCCC2)cc1\t54\n",
      "Cc1ccc(S(=O)(=O)[N-]c2c(C(=O)N[C@@H](C)C(C)(C)C)c(C)nn2C2CCCC2)cc1\t54\n",
      "c1ccc(Nc2cc(Nc3ccccc3)[nH]n2)cc1\t55\n",
      "c1ccc(Nc2cc(Nc3ccccc3)[n-]n2)cc1\t55\n",
      "COCCNC(=O)c1cccc(Nc2ncc3cc(-c4ccncc4)ccc3n2)c1\t56\n",
      "CCC(CC)NC(=O)c1cnn(C)c1NS(=O)(=O)c1ccc(C)cc1\t57\n",
      "CCC(CC)NC(=O)c1cnn(C)c1[N-]S(=O)(=O)c1ccc(C)cc1\t57\n",
      "NC(=O)c1cc(F)cc(O[C@@H]2C[C@@H]3CC[C@H](C2)[NH+]3Cc2ccccc2)c1\t58\n",
      "NC(=O)c1cc(F)cc(O[C@@H]2C[C@@H]3CC[C@H](C2)N3Cc2ccccc2)c1\t58\n",
      "N#Cc1c(-c2ccccc2)nc(SCCc2ccccc2)[n-]c1=O\t59\n",
      "N#Cc1c(-c2ccccc2)nc(SCCc2ccccc2)[nH]c1=O\t59\n",
      "O=C(OC1CN2CCC1CC2)C(O)(c1ccccc1)c1ccccc1\t60\n",
      "O=C(OC1C[NH+]2CCC1CC2)C(O)(c1ccccc1)c1ccccc1\t60\n",
      "Cc1ccccc1NC(=O)CCS(=O)(=O)c1ccc(Br)s1\t61\n",
      "Cc1ncc(-c2nc(Nc3ccc(C(=O)N(C)C)cc3)ncc2F)n1C(C)C\t62\n",
      "Cc1ncc(-c2nc(Nc3ccc(C(=O)[NH+](C)C)cc3)ncc2F)n1C(C)C\t62\n",
      "COc1cccc(-c2c[nH]c(-c3ccccc3)n2)c1\t63\n",
      "COc1cccc(-c2c[n-]c(-c3ccccc3)n2)c1\t63\n",
      "O=C(COc1ccccc1)c1ccccc1\t64\n",
      "COc1cc2ncc(C(N)=O)c(Nc3ccc(F)cc3F)c2cc1NCCN(C)C\t65\n",
      "COc1cc2ncc(C(N)=O)c(Nc3ccc(F)cc3F)c2cc1NCC[NH+](C)C\t65\n",
      "CO[C@H]1CC[C@]2(CC1)Cc1ccc(OCC(C)C)cc1C21N=C(C)C(N)=[NH+]1\t66\n",
      "COc1cc2ncnc(Nc3ccc(F)c(Cl)c3)c2cc1OCCC[NH+]1CCCC1\t67\n",
      "COc1cc2ncnc(Nc3ccc(F)c(Cl)c3)c2cc1OCCCN1CCCC1\t67\n",
      "O=C1CCOc2cc(COc3ccccc3)ccc21\t68\n",
      "Clc1cccc2cn[nH]c12\t69\n",
      "Clc1cccc2cn[n-]c12\t69\n",
      "CNC(=O)c1ccc(CC(=O)[NH+](C)C2CC[NH+](Cc3ccc(C(F)(F)F)cc3)CC2)cc1\t70\n",
      "CNC(=O)c1ccc(CC(=O)N(C)C2CCN(Cc3ccc(C(F)(F)F)cc3)CC2)cc1\t70\n",
      "CNC(=O)c1ccc(CC(=O)N(C)C2CC[NH+](Cc3ccc(C(F)(F)F)cc3)CC2)cc1\t70\n",
      "CNC(=O)c1ccc(CC(=O)[NH+](C)C2CCN(Cc3ccc(C(F)(F)F)cc3)CC2)cc1\t70\n"
     ]
    },
    {
     "name": "stdout",
     "output_type": "stream",
     "text": [
      "COCC[NH2+]Cc1ccc(CC[NH2+]C[C@H](O)c2ccc([O-])c3[n-]c(=O)sc23)cc1\t71\n",
      "COCC[NH2+]Cc1ccc(CCNC[C@H](O)c2ccc([O-])c3[nH]c(=O)sc23)cc1\t71\n",
      "COCCNCc1ccc(CCNC[C@H](O)c2ccc([O-])c3[nH]c(=O)sc23)cc1\t71\n",
      "COCCNCc1ccc(CC[NH2+]C[C@H](O)c2ccc([O-])c3[nH]c(=O)sc23)cc1\t71\n",
      "COCCNCc1ccc(CCNC[C@H](O)c2ccc(O)c3[n-]c(=O)sc23)cc1\t71\n",
      "COCCNCc1ccc(CC[NH2+]C[C@H](O)c2ccc([O-])c3[n-]c(=O)sc23)cc1\t71\n",
      "COCC[NH2+]Cc1ccc(CCNC[C@H](O)c2ccc([O-])c3[n-]c(=O)sc23)cc1\t71\n",
      "COCCNCc1ccc(CC[NH2+]C[C@H](O)c2ccc(O)c3[nH]c(=O)sc23)cc1\t71\n",
      "COCCNCc1ccc(CC[NH2+]C[C@H](O)c2ccc(O)c3[n-]c(=O)sc23)cc1\t71\n",
      "COCC[NH2+]Cc1ccc(CC[NH2+]C[C@H](O)c2ccc([O-])c3[nH]c(=O)sc23)cc1\t71\n",
      "COCC[NH2+]Cc1ccc(CC[NH2+]C[C@H](O)c2ccc(O)c3[nH]c(=O)sc23)cc1\t71\n",
      "COCCNCc1ccc(CCNC[C@H](O)c2ccc([O-])c3[n-]c(=O)sc23)cc1\t71\n",
      "COCC[NH2+]Cc1ccc(CCNC[C@H](O)c2ccc(O)c3[nH]c(=O)sc23)cc1\t71\n",
      "COCC[NH2+]Cc1ccc(CC[NH2+]C[C@H](O)c2ccc(O)c3[n-]c(=O)sc23)cc1\t71\n",
      "COCC[NH2+]Cc1ccc(CCNC[C@H](O)c2ccc(O)c3[n-]c(=O)sc23)cc1\t71\n",
      "COCCNCc1ccc(CCNC[C@H](O)c2ccc(O)c3[nH]c(=O)sc23)cc1\t71\n",
      "C#CCn1c(=O)c2c(-c3cncn3C)n(Cc3ccnc4ccc(Cl)cc34)nc2n(CC2CC2)c1=O\t72\n",
      "C[C@H](NC(=O)c1cccnc1Oc1ccccc1)c1ccccc1\t73\n",
      "O=C(NCC12CC3CC(CC(C3)C1)C2)c1cc(CN2CC3CNCC(C2)O3)ccc1Cl\t74\n",
      "O=C(NCC12CC3CC(CC(C3)C1)C2)c1cc(CN2CC3C[NH2+]CC(C2)O3)ccc1Cl\t74\n",
      "O=C(NCC12CC3CC(CC(C3)C1)C2)c1cc(C[NH+]2CC3C[NH2+]CC(C2)O3)ccc1Cl\t74\n",
      "O=C(NCC12CC3CC(CC(C3)C1)C2)c1cc(C[NH+]2CC3CNCC(C2)O3)ccc1Cl\t74\n",
      "COc1cc(NS(=O)(=O)c2ccc(N)cc2)nc(OC)n1\t75\n",
      "COc1cc([N-]S(=O)(=O)c2ccc(N)cc2)nc(OC)n1\t75\n",
      "Cc1cc(CCC2CCN(S(=O)(=O)CC3(N(O)C=O)CCOCC3)CC2)c(C)cn1\t76\n",
      "Cc1cc(CCC2CC[NH+](S(=O)(=O)CC3(N(O)C=O)CCOCC3)CC2)c(C)cn1\t76\n",
      "C[C@H](Nc1ncc(F)c(Nc2cc(C3CC3)[nH]n2)n1)c1ncc(F)cn1\t77\n",
      "C[C@H]([NH2+]c1ncc(F)c(Nc2cc(C3CC3)[nH]n2)n1)c1ncc(F)cn1\t77\n",
      "C[C@H](Nc1ncc(F)c(Nc2cc(C3CC3)[n-]n2)n1)c1ncc(F)cn1\t77\n",
      "C[C@H]([NH2+]c1ncc(F)c(Nc2cc(C3CC3)[n-]n2)n1)c1ncc(F)cn1\t77\n",
      "CC(=O)Nc1ccc2c(c1)c(-c1cc(NC3CC3)n3ncc(C#N)c3n1)cn2CCCO\t78\n",
      "CC(=O)Nc1ccc2c(c1)c(-c1cc([NH2+]C3CC3)n3ncc(C#N)c3n1)cn2CCCO\t78\n",
      "CC1COc2c(N3CC[NH+](C)CC3)c(F)cc3c(=O)c(C(=O)[O-])cn1c23\t79\n",
      "CC1COc2c(N3CCN(C)CC3)c(F)cc3c(=O)c(C(=O)[O-])cn1c23\t79\n",
      "CC1(c2nc(N3CCOCC3)ncc2C(=O)NC2C3CC4CC2CC(O)(C4)C3)CC1\t80\n",
      "COC(=O)c1ccc(C)c([N-]S(=O)(=O)c2ccc3c(c2)c(=O)sn3C)c1\t81\n",
      "COC(=O)c1ccc(C)c(NS(=O)(=O)c2ccc3c(c2)c(=O)sn3C)c1\t81\n",
      "COc1ccc(-c2coc3cc(O)cc([O-])c3c2=O)cc1\t82\n",
      "COc1ccc(-c2coc3cc([O-])cc([O-])c3c2=O)cc1\t82\n",
      "COc1ccc(-c2coc3cc([O-])cc(O)c3c2=O)cc1\t82\n",
      "COc1ccc(-c2coc3cc(O)cc(O)c3c2=O)cc1\t82\n",
      "CNCCCC12CCC(c3ccccc31)c1ccccc12\t83\n",
      "C[NH2+]CCCC12CCC(c3ccccc31)c1ccccc12\t83\n",
      "[O-]c1cc(-c2ccccc2)nc2ccnn12\t84\n",
      "Oc1cc(-c2ccccc2)nc2ccnn12\t84\n",
      "O=C[NH+]1CC=C(c2c(F)cc(N3C[C@H](COc4ccon4)OC3=O)cc2F)CC1\t85\n",
      "O=CN1CC=C(c2c(F)cc(N3C[C@H](COc4ccon4)OC3=O)cc2F)CC1\t85\n",
      "C#CC(C)n1c(=O)c2c(-c3cncn3C)n(Cc3ccnc4ccc(Cl)cc34)nc2n(CC2CC2)c1=O\t86\n",
      "C[C@H]1CN(Cc2cc(Cl)ccc2OCC(=O)[O-])CC[NH+]1C(=O)Cc1ccccc1\t87\n",
      "C[C@H]1C[NH+](Cc2cc(Cl)ccc2OCC(=O)[O-])CC[NH+]1C(=O)Cc1ccccc1\t87\n",
      "C[C@H]1CN(Cc2cc(Cl)ccc2OCC(=O)[O-])CCN1C(=O)Cc1ccccc1\t87\n",
      "C[C@H]1C[NH+](Cc2cc(Cl)ccc2OCC(=O)[O-])CCN1C(=O)Cc1ccccc1\t87\n",
      "COc1cc(Nc2nc(N[C@@H](C)c3ncc(F)cn3)ncc2Br)n[nH]1\t88\n",
      "COc1cc(Nc2nc([NH2+][C@@H](C)c3ncc(F)cn3)ncc2Br)n[nH]1\t88\n",
      "COc1cc(Nc2nc([NH2+][C@@H](C)c3ncc(F)cn3)ncc2Br)n[n-]1\t88\n",
      "COc1cc(Nc2nc(N[C@@H](C)c3ncc(F)cn3)ncc2Br)n[n-]1\t88\n",
      "Cc1nc(C)c(-c2ccc([C@H]3CC[C@H](CC(=O)[O-])CC3)c(F)c2)nc1C(N)=O\t89\n",
      "COc1ccnc(CCc2nc3c(C)ccnc3[n-]2)c1\t90\n",
      "COc1ccnc(CCc2nc3c(C)ccnc3[nH]2)c1\t90\n",
      "Cc1cc(CCCOc2c(Cl)cc(C3=NCCO3)cc2Cl)on1\t91\n",
      "C[NH+](C)C(=O)c1ccc(C[NH+]2CCc3cc4nc(N)sc4cc3CC2)cc1\t92\n",
      "C[NH+](C)C(=O)c1ccc(CN2CCc3cc4nc(N)sc4cc3CC2)cc1\t92\n",
      "CN(C)C(=O)c1ccc(CN2CCc3cc4nc(N)sc4cc3CC2)cc1\t92\n",
      "CN(C)C(=O)c1ccc(C[NH+]2CCc3cc4nc(N)sc4cc3CC2)cc1\t92\n",
      "COC(=O)[C@H]1[C@@H](O)CC[C@H]2C[NH+]3CCc4c([nH]c5ccccc45)[C@@H]3C[C@@H]21\t93\n",
      "COC(=O)[C@H]1[C@@H](O)CC[C@H]2CN3CCc4c([nH]c5ccccc45)[C@@H]3C[C@@H]21\t93\n",
      "CC[NH+]1CCN(c2ccc(Nc3cc([NH+](C)C(=O)Nc4c(Cl)c(OC)cc(OC)c4Cl)ncn3)cc2)CC1\t94\n",
      "CCN1CCN(c2ccc(Nc3cc([NH+](C)C(=O)Nc4c(Cl)c(OC)cc(OC)c4Cl)ncn3)cc2)CC1\t94\n",
      "CCN1CCN(c2ccc(Nc3cc(N(C)C(=O)Nc4c(Cl)c(OC)cc(OC)c4Cl)ncn3)cc2)CC1\t94\n",
      "CC[NH+]1CCN(c2ccc(Nc3cc(N(C)C(=O)Nc4c(Cl)c(OC)cc(OC)c4Cl)ncn3)cc2)CC1\t94\n",
      "CC(C)[NH+](CCCNC(=O)Nc1ccc(C(C)(C)C)cc1)C[C@H]1O[C@@H](n2cnc3c(N)ncnc32)[C@H](O)[C@@H]1O\t95\n",
      "CC(C)N(CCCNC(=O)Nc1ccc(C(C)(C)C)cc1)C[C@H]1O[C@@H](n2cnc3c(N)ncnc32)[C@H](O)[C@@H]1O\t95\n",
      "C=CC(=O)Nc1cccc(CN2C(=O)N(c3c(Cl)c(OC)cc(OC)c3Cl)Cc3cnc(NCCCC[NH+](CC)CC)nc32)c1\t96\n",
      "C=CC(=O)Nc1cccc(CN2C(=O)N(c3c(Cl)c(OC)cc(OC)c3Cl)Cc3cnc(NCCCCN(CC)CC)nc32)c1\t96\n",
      "CCSc1c(Cc2ccccc2C(F)(F)F)sc2c1c(=O)n(C)c(=O)n2CC(C)C\t97\n",
      "COc1ccc(Cc2c(N)n[n-]c2N)cc1\t98\n",
      "COc1ccc(Cc2c(N)n[nH]c2N)cc1\t98\n",
      "CC[NH+](CCN(C)C)S(=O)(=O)c1ccc(-c2cnc(N)c(C(=O)Nc3cccnc3)n2)cc1\t99\n",
      "CC[NH+](CC[NH+](C)C)S(=O)(=O)c1ccc(-c2cnc(N)c(C(=O)Nc3cccnc3)n2)cc1\t99\n",
      "CCN(CC[NH+](C)C)S(=O)(=O)c1ccc(-c2cnc(N)c(C(=O)Nc3cccnc3)n2)cc1\t99\n",
      "CCN(CCN(C)C)S(=O)(=O)c1ccc(-c2cnc(N)c(C(=O)Nc3cccnc3)n2)cc1\t99\n",
      "CPU times: user 84.6 ms, sys: 36.2 ms, total: 121 ms\n",
      "Wall time: 2.7 s\n"
     ]
    }
   ],
   "source": [
    "%%time\n",
    "\n",
    "! python ../../../packages/dimorphite_dl-1.2.4/dimorphite_dl.py --smiles_file smiles100.smi --min_ph 7.4 --max_ph 7.4"
   ]
  },
  {
   "cell_type": "code",
   "execution_count": 55,
   "metadata": {},
   "outputs": [
    {
     "name": "stdout",
     "output_type": "stream",
     "text": [
      "CPU times: user 44.3 ms, sys: 27 ms, total: 71.3 ms\n",
      "Wall time: 2.29 s\n"
     ]
    }
   ],
   "source": [
    "%%time\n",
    "\n",
    "! python ../../../packages/dimorphite_dl-1.2.4/dimorphite_dl.py --smiles_file smiles100.smi --min_ph 7.4 --max_ph 7.4 --silent > protonated_smiles100_messy.txt"
   ]
  },
  {
   "cell_type": "code",
   "execution_count": 56,
   "metadata": {},
   "outputs": [
    {
     "name": "stdout",
     "output_type": "stream",
     "text": [
      "Lipo_README                           logD.csv\r\n",
      "Lipophilicity.csv                     protonated_smiles.smi\r\n",
      "cdk2smi1.smi                          protonated_smiles100.smi\r\n",
      "ecfp4_features.csv                    protonated_smiles100_messy.txt\r\n",
      "ecfp6_features.csv                    protonated_smiles_messy.txt\r\n",
      "example.smi                           rf_grid_search_on_fingerprints.ipynb\r\n",
      "get_fingerprints.ipynb                smiles.smi\r\n",
      "get_fingerprints_local.ipynb          smiles100.smi\r\n",
      "get_protenated_from_canonical.ipynb\r\n"
     ]
    }
   ],
   "source": [
    "%ls"
   ]
  },
  {
   "cell_type": "code",
   "execution_count": 53,
   "metadata": {},
   "outputs": [],
   "source": [
    "prot_suppl = Chem.SmilesMolSupplier('protonated_smiles.smi')"
   ]
  },
  {
   "cell_type": "code",
   "execution_count": 54,
   "metadata": {},
   "outputs": [
    {
     "name": "stdout",
     "output_type": "stream",
     "text": [
      "0\n",
      "CPU times: user 1.7 s, sys: 527 ms, total: 2.23 s\n",
      "Wall time: 2.36 s\n"
     ]
    },
    {
     "data": {
      "text/plain": [
       "[]"
      ]
     },
     "execution_count": 54,
     "metadata": {},
     "output_type": "execute_result"
    }
   ],
   "source": [
    "%%time\n",
    "\n",
    "prot_smiles_list = [Chem.MolToSmiles(mol) for mol in prot_suppl if mol != None]\n",
    "print(len(prot_smiles_list))\n",
    "prot_smiles_list[:5]"
   ]
  },
  {
   "cell_type": "code",
   "execution_count": null,
   "metadata": {},
   "outputs": [],
   "source": [
    "with open('protonated_smiles100_messy.txt', 'r') as f:\n",
    "    prot100 = []"
   ]
  }
 ],
 "metadata": {
  "colab": {
   "authorship_tag": "ABX9TyOg9MJ0O+zofNPhfqKPki2H",
   "collapsed_sections": [
    "1GZlT0HZkIPZ",
    "jxzJYRinkNb2"
   ],
   "name": "get_fingerprints.ipynb",
   "provenance": [],
   "toc_visible": true
  },
  "kernelspec": {
   "display_name": "Python 3",
   "language": "python",
   "name": "python3"
  },
  "language_info": {
   "codemirror_mode": {
    "name": "ipython",
    "version": 3
   },
   "file_extension": ".py",
   "mimetype": "text/x-python",
   "name": "python",
   "nbconvert_exporter": "python",
   "pygments_lexer": "ipython3",
   "version": "3.6.10"
  }
 },
 "nbformat": 4,
 "nbformat_minor": 1
}
