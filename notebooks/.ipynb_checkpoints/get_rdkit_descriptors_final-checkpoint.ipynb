{
 "cells": [
  {
   "cell_type": "code",
   "execution_count": 1,
   "metadata": {
    "colab": {
     "base_uri": "https://localhost:8080/",
     "height": 68
    },
    "colab_type": "code",
    "executionInfo": {
     "elapsed": 2036,
     "status": "ok",
     "timestamp": 1593507634558,
     "user": {
      "displayName": "George Batchkala",
      "photoUrl": "",
      "userId": "17039292136363863281"
     },
     "user_tz": -60
    },
    "id": "KXdDhDGgeIeq",
    "outputId": "d264ab67-bb16-42a9-832c-4c50f93a3969"
   },
   "outputs": [
    {
     "name": "stdout",
     "output_type": "stream",
     "text": [
      "ESOL_README\r\n",
      "FreeSolv_README\r\n",
      "Lipo_README\r\n",
      "esol_original.csv\r\n",
      "esol_original_IdSmileTarget.csv\r\n",
      "esol_original_ecfp4_features.csv\r\n",
      "esol_original_ecfp6_features.csv\r\n",
      "esol_original_extra_features.csv\r\n",
      "freesolv_original.csv\r\n",
      "freesolv_original_IdSmileTarget.csv\r\n",
      "freesolv_original_ecfp4_features.csv\r\n",
      "freesolv_original_ecfp6_features.csv\r\n",
      "lipophilicity_original.csv\r\n",
      "lipophilicity_original_IdSmileTarget.csv\r\n",
      "lipophilicity_original_ecfp4_features.csv\r\n",
      "lipophilicity_original_ecfp6_features.csv\r\n",
      "lipophilicity_original_smiles.smi\r\n",
      "lipophilicity_original_smiles20.smi\r\n",
      "lipophilicity_protonated_smiles20_messy.txt\r\n"
     ]
    }
   ],
   "source": [
    "%ls ../data/"
   ]
  },
  {
   "cell_type": "markdown",
   "metadata": {
    "colab_type": "text",
    "id": "cG9tpt04e0iN"
   },
   "source": [
    "# Import modules"
   ]
  },
  {
   "cell_type": "code",
   "execution_count": 2,
   "metadata": {
    "colab": {},
    "colab_type": "code",
    "executionInfo": {
     "elapsed": 423,
     "status": "ok",
     "timestamp": 1593507643409,
     "user": {
      "displayName": "George Batchkala",
      "photoUrl": "",
      "userId": "17039292136363863281"
     },
     "user_tz": -60
    },
    "id": "sjl-QAB5e4I3"
   },
   "outputs": [],
   "source": [
    "import numpy as np\n",
    "import pandas as pd\n",
    "\n",
    "from rdkit import Chem\n",
    "from rdkit.Chem import AllChem\n",
    "\n",
    "from rdkit import RDLogger\n",
    "from rdkit.Chem import Descriptors"
   ]
  },
  {
   "cell_type": "markdown",
   "metadata": {},
   "source": [
    "# Load Data"
   ]
  },
  {
   "cell_type": "code",
   "execution_count": 3,
   "metadata": {},
   "outputs": [],
   "source": [
    "dataset = 'freesolv'\n",
    "smile_type = 'original'"
   ]
  },
  {
   "cell_type": "code",
   "execution_count": 4,
   "metadata": {
    "colab": {
     "base_uri": "https://localhost:8080/",
     "height": 170
    },
    "colab_type": "code",
    "executionInfo": {
     "elapsed": 925,
     "status": "ok",
     "timestamp": 1593005977272,
     "user": {
      "displayName": "George Batchkala",
      "photoUrl": "",
      "userId": "17039292136363863281"
     },
     "user_tz": -60
    },
    "id": "xmL5nV-BeOcC",
    "outputId": "e2ee0fad-ca78-455e-a45c-6465ec2418e8"
   },
   "outputs": [
    {
     "name": "stdout",
     "output_type": "stream",
     "text": [
      "                                                   smile  target\n",
      "id                                                              \n",
      "4-methoxy-N,N-dimethyl-benzamide  CN(C)C(=O)c1ccc(cc1)OC  -11.01\n",
      "methanesulfonyl chloride                    CS(=O)(=O)Cl   -4.87\n",
      "3-methylbut-1-ene                               CC(C)C=C    1.83\n",
      "2-ethylpyrazine                               CCc1cnccn1   -5.45\n",
      "heptan-1-ol                                     CCCCCCCO   -4.21 \n",
      "\n"
     ]
    },
    {
     "data": {
      "text/plain": [
       "(642, 2)"
      ]
     },
     "execution_count": 4,
     "metadata": {},
     "output_type": "execute_result"
    }
   ],
   "source": [
    "data = pd.read_csv(f'../data/{dataset}_{smile_type}_IdSmileTarget.csv', index_col=0)\n",
    "print(data.head(), '\\n')\n",
    "data.shape"
   ]
  },
  {
   "cell_type": "code",
   "execution_count": 5,
   "metadata": {
    "colab": {
     "base_uri": "https://localhost:8080/",
     "height": 391
    },
    "colab_type": "code",
    "executionInfo": {
     "elapsed": 696,
     "status": "ok",
     "timestamp": 1593006490380,
     "user": {
      "displayName": "George Batchkala",
      "photoUrl": "",
      "userId": "17039292136363863281"
     },
     "user_tz": -60
    },
    "id": "fzmU_vj6jlcm",
    "outputId": "5401df6b-83ba-404e-b43b-5ece33b5c0c7"
   },
   "outputs": [
    {
     "name": "stdout",
     "output_type": "stream",
     "text": [
      "642\n"
     ]
    },
    {
     "data": {
      "text/plain": [
       "id\n",
       "4-methoxy-N,N-dimethyl-benzamide    CN(C)C(=O)c1ccc(cc1)OC\n",
       "methanesulfonyl chloride                      CS(=O)(=O)Cl\n",
       "3-methylbut-1-ene                                 CC(C)C=C\n",
       "2-ethylpyrazine                                 CCc1cnccn1\n",
       "heptan-1-ol                                       CCCCCCCO\n",
       "Name: smile, dtype: object"
      ]
     },
     "execution_count": 5,
     "metadata": {},
     "output_type": "execute_result"
    }
   ],
   "source": [
    "smiles = data['smile']\n",
    "print(len(smiles))\n",
    "\n",
    "smiles[:5]"
   ]
  },
  {
   "cell_type": "markdown",
   "metadata": {
    "colab_type": "text",
    "id": "o4r2WevweR5i"
   },
   "source": [
    "# Get RDKit Molecular descriptors"
   ]
  },
  {
   "cell_type": "code",
   "execution_count": 6,
   "metadata": {},
   "outputs": [
    {
     "data": {
      "text/html": [
       "<div>\n",
       "<style scoped>\n",
       "    .dataframe tbody tr th:only-of-type {\n",
       "        vertical-align: middle;\n",
       "    }\n",
       "\n",
       "    .dataframe tbody tr th {\n",
       "        vertical-align: top;\n",
       "    }\n",
       "\n",
       "    .dataframe thead th {\n",
       "        text-align: right;\n",
       "    }\n",
       "</style>\n",
       "<table border=\"1\" class=\"dataframe\">\n",
       "  <thead>\n",
       "    <tr style=\"text-align: right;\">\n",
       "      <th></th>\n",
       "      <th>MaxEStateIndex</th>\n",
       "      <th>MinEStateIndex</th>\n",
       "      <th>MaxAbsEStateIndex</th>\n",
       "      <th>MinAbsEStateIndex</th>\n",
       "      <th>qed</th>\n",
       "      <th>MolWt</th>\n",
       "      <th>HeavyAtomMolWt</th>\n",
       "      <th>ExactMolWt</th>\n",
       "      <th>NumValenceElectrons</th>\n",
       "      <th>NumRadicalElectrons</th>\n",
       "      <th>...</th>\n",
       "      <th>fr_sulfide</th>\n",
       "      <th>fr_sulfonamd</th>\n",
       "      <th>fr_sulfone</th>\n",
       "      <th>fr_term_acetylene</th>\n",
       "      <th>fr_tetrazole</th>\n",
       "      <th>fr_thiazole</th>\n",
       "      <th>fr_thiocyan</th>\n",
       "      <th>fr_thiophene</th>\n",
       "      <th>fr_unbrch_alkane</th>\n",
       "      <th>fr_urea</th>\n",
       "    </tr>\n",
       "  </thead>\n",
       "  <tbody>\n",
       "    <tr>\n",
       "      <th>4-methoxy-N,N-dimethyl-benzamide</th>\n",
       "      <td>12.428170</td>\n",
       "      <td>-3.458874</td>\n",
       "      <td>12.428170</td>\n",
       "      <td>0.519264</td>\n",
       "      <td>0.686360</td>\n",
       "      <td>179.219</td>\n",
       "      <td>166.115</td>\n",
       "      <td>179.094629</td>\n",
       "      <td>70.0</td>\n",
       "      <td>0.0</td>\n",
       "      <td>...</td>\n",
       "      <td>0.0</td>\n",
       "      <td>0.0</td>\n",
       "      <td>0.0</td>\n",
       "      <td>0.0</td>\n",
       "      <td>0.0</td>\n",
       "      <td>0.0</td>\n",
       "      <td>0.0</td>\n",
       "      <td>0.0</td>\n",
       "      <td>0.0</td>\n",
       "      <td>0.0</td>\n",
       "    </tr>\n",
       "    <tr>\n",
       "      <th>methanesulfonyl chloride</th>\n",
       "      <td>9.855710</td>\n",
       "      <td>-4.368056</td>\n",
       "      <td>9.855710</td>\n",
       "      <td>3.074846</td>\n",
       "      <td>0.421427</td>\n",
       "      <td>114.553</td>\n",
       "      <td>111.529</td>\n",
       "      <td>113.954228</td>\n",
       "      <td>32.0</td>\n",
       "      <td>0.0</td>\n",
       "      <td>...</td>\n",
       "      <td>0.0</td>\n",
       "      <td>0.0</td>\n",
       "      <td>0.0</td>\n",
       "      <td>0.0</td>\n",
       "      <td>0.0</td>\n",
       "      <td>0.0</td>\n",
       "      <td>0.0</td>\n",
       "      <td>0.0</td>\n",
       "      <td>0.0</td>\n",
       "      <td>0.0</td>\n",
       "    </tr>\n",
       "    <tr>\n",
       "      <th>3-methylbut-1-ene</th>\n",
       "      <td>7.349537</td>\n",
       "      <td>-3.289005</td>\n",
       "      <td>7.349537</td>\n",
       "      <td>1.280324</td>\n",
       "      <td>0.412737</td>\n",
       "      <td>70.135</td>\n",
       "      <td>60.055</td>\n",
       "      <td>70.078250</td>\n",
       "      <td>30.0</td>\n",
       "      <td>0.0</td>\n",
       "      <td>...</td>\n",
       "      <td>0.0</td>\n",
       "      <td>0.0</td>\n",
       "      <td>0.0</td>\n",
       "      <td>0.0</td>\n",
       "      <td>0.0</td>\n",
       "      <td>0.0</td>\n",
       "      <td>0.0</td>\n",
       "      <td>0.0</td>\n",
       "      <td>0.0</td>\n",
       "      <td>0.0</td>\n",
       "    </tr>\n",
       "    <tr>\n",
       "      <th>2-ethylpyrazine</th>\n",
       "      <td>7.363796</td>\n",
       "      <td>-3.006484</td>\n",
       "      <td>7.363796</td>\n",
       "      <td>0.587878</td>\n",
       "      <td>0.536795</td>\n",
       "      <td>108.144</td>\n",
       "      <td>100.080</td>\n",
       "      <td>108.068748</td>\n",
       "      <td>42.0</td>\n",
       "      <td>0.0</td>\n",
       "      <td>...</td>\n",
       "      <td>0.0</td>\n",
       "      <td>0.0</td>\n",
       "      <td>0.0</td>\n",
       "      <td>0.0</td>\n",
       "      <td>0.0</td>\n",
       "      <td>0.0</td>\n",
       "      <td>0.0</td>\n",
       "      <td>0.0</td>\n",
       "      <td>0.0</td>\n",
       "      <td>0.0</td>\n",
       "    </tr>\n",
       "    <tr>\n",
       "      <th>heptan-1-ol</th>\n",
       "      <td>7.581250</td>\n",
       "      <td>-4.173333</td>\n",
       "      <td>7.581250</td>\n",
       "      <td>3.423878</td>\n",
       "      <td>0.544191</td>\n",
       "      <td>116.204</td>\n",
       "      <td>100.076</td>\n",
       "      <td>116.120115</td>\n",
       "      <td>50.0</td>\n",
       "      <td>0.0</td>\n",
       "      <td>...</td>\n",
       "      <td>0.0</td>\n",
       "      <td>0.0</td>\n",
       "      <td>0.0</td>\n",
       "      <td>0.0</td>\n",
       "      <td>0.0</td>\n",
       "      <td>0.0</td>\n",
       "      <td>0.0</td>\n",
       "      <td>0.0</td>\n",
       "      <td>0.0</td>\n",
       "      <td>0.0</td>\n",
       "    </tr>\n",
       "  </tbody>\n",
       "</table>\n",
       "<p>5 rows × 200 columns</p>\n",
       "</div>"
      ],
      "text/plain": [
       "                                  MaxEStateIndex  MinEStateIndex  \\\n",
       "4-methoxy-N,N-dimethyl-benzamide       12.428170       -3.458874   \n",
       "methanesulfonyl chloride                9.855710       -4.368056   \n",
       "3-methylbut-1-ene                       7.349537       -3.289005   \n",
       "2-ethylpyrazine                         7.363796       -3.006484   \n",
       "heptan-1-ol                             7.581250       -4.173333   \n",
       "\n",
       "                                  MaxAbsEStateIndex  MinAbsEStateIndex  \\\n",
       "4-methoxy-N,N-dimethyl-benzamide          12.428170           0.519264   \n",
       "methanesulfonyl chloride                   9.855710           3.074846   \n",
       "3-methylbut-1-ene                          7.349537           1.280324   \n",
       "2-ethylpyrazine                            7.363796           0.587878   \n",
       "heptan-1-ol                                7.581250           3.423878   \n",
       "\n",
       "                                       qed    MolWt  HeavyAtomMolWt  \\\n",
       "4-methoxy-N,N-dimethyl-benzamide  0.686360  179.219         166.115   \n",
       "methanesulfonyl chloride          0.421427  114.553         111.529   \n",
       "3-methylbut-1-ene                 0.412737   70.135          60.055   \n",
       "2-ethylpyrazine                   0.536795  108.144         100.080   \n",
       "heptan-1-ol                       0.544191  116.204         100.076   \n",
       "\n",
       "                                  ExactMolWt  NumValenceElectrons  \\\n",
       "4-methoxy-N,N-dimethyl-benzamide  179.094629                 70.0   \n",
       "methanesulfonyl chloride          113.954228                 32.0   \n",
       "3-methylbut-1-ene                  70.078250                 30.0   \n",
       "2-ethylpyrazine                   108.068748                 42.0   \n",
       "heptan-1-ol                       116.120115                 50.0   \n",
       "\n",
       "                                  NumRadicalElectrons  ...  fr_sulfide  \\\n",
       "4-methoxy-N,N-dimethyl-benzamide                  0.0  ...         0.0   \n",
       "methanesulfonyl chloride                          0.0  ...         0.0   \n",
       "3-methylbut-1-ene                                 0.0  ...         0.0   \n",
       "2-ethylpyrazine                                   0.0  ...         0.0   \n",
       "heptan-1-ol                                       0.0  ...         0.0   \n",
       "\n",
       "                                  fr_sulfonamd  fr_sulfone  fr_term_acetylene  \\\n",
       "4-methoxy-N,N-dimethyl-benzamide           0.0         0.0                0.0   \n",
       "methanesulfonyl chloride                   0.0         0.0                0.0   \n",
       "3-methylbut-1-ene                          0.0         0.0                0.0   \n",
       "2-ethylpyrazine                            0.0         0.0                0.0   \n",
       "heptan-1-ol                                0.0         0.0                0.0   \n",
       "\n",
       "                                  fr_tetrazole  fr_thiazole  fr_thiocyan  \\\n",
       "4-methoxy-N,N-dimethyl-benzamide           0.0          0.0          0.0   \n",
       "methanesulfonyl chloride                   0.0          0.0          0.0   \n",
       "3-methylbut-1-ene                          0.0          0.0          0.0   \n",
       "2-ethylpyrazine                            0.0          0.0          0.0   \n",
       "heptan-1-ol                                0.0          0.0          0.0   \n",
       "\n",
       "                                  fr_thiophene  fr_unbrch_alkane  fr_urea  \n",
       "4-methoxy-N,N-dimethyl-benzamide           0.0               0.0      0.0  \n",
       "methanesulfonyl chloride                   0.0               0.0      0.0  \n",
       "3-methylbut-1-ene                          0.0               0.0      0.0  \n",
       "2-ethylpyrazine                            0.0               0.0      0.0  \n",
       "heptan-1-ol                                0.0               0.0      0.0  \n",
       "\n",
       "[5 rows x 200 columns]"
      ]
     },
     "execution_count": 6,
     "metadata": {},
     "output_type": "execute_result"
    }
   ],
   "source": [
    "# load ligands and compute features\n",
    "features = {}\n",
    "descriptors = {d[0]: d[1] for d in Descriptors.descList}\n",
    "\n",
    "for index in smiles.index:\n",
    "    \n",
    "    mol = Chem.MolFromSmiles(smiles.loc[index])\n",
    "    \n",
    "    # how exactly do we add hydrogens here???\n",
    "    mol = Chem.AddHs(mol)\n",
    "    \n",
    "    try:\n",
    "        features[index] = {d: descriptors[d](mol) for d in descriptors}\n",
    "    except ValueError as e:\n",
    "        print(e)\n",
    "        continue\n",
    "    \n",
    "features = pd.DataFrame.from_dict(features).T\n",
    "features.head()"
   ]
  },
  {
   "cell_type": "code",
   "execution_count": 8,
   "metadata": {},
   "outputs": [],
   "source": [
    "# save file\n",
    "features.to_csv(f'../data/{dataset}_{smile_type}_rdkit_features.csv', index=True)"
   ]
  },
  {
   "cell_type": "code",
   "execution_count": null,
   "metadata": {},
   "outputs": [],
   "source": []
  }
 ],
 "metadata": {
  "colab": {
   "authorship_tag": "ABX9TyOg9MJ0O+zofNPhfqKPki2H",
   "collapsed_sections": [
    "1GZlT0HZkIPZ",
    "jxzJYRinkNb2"
   ],
   "name": "get_fingerprints.ipynb",
   "provenance": [],
   "toc_visible": true
  },
  "kernelspec": {
   "display_name": "Python [conda env:batch-msc] *",
   "language": "python",
   "name": "conda-env-batch-msc-py"
  },
  "language_info": {
   "codemirror_mode": {
    "name": "ipython",
    "version": 3
   },
   "file_extension": ".py",
   "mimetype": "text/x-python",
   "name": "python",
   "nbconvert_exporter": "python",
   "pygments_lexer": "ipython3",
   "version": "3.6.10"
  }
 },
 "nbformat": 4,
 "nbformat_minor": 1
}
