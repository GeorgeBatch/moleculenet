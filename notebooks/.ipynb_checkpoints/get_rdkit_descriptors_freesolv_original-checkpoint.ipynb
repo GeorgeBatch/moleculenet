{
 "cells": [
  {
   "cell_type": "code",
   "execution_count": 1,
   "metadata": {
    "colab": {
     "base_uri": "https://localhost:8080/",
     "height": 68
    },
    "colab_type": "code",
    "executionInfo": {
     "elapsed": 2036,
     "status": "ok",
     "timestamp": 1593507634558,
     "user": {
      "displayName": "George Batchkala",
      "photoUrl": "",
      "userId": "17039292136363863281"
     },
     "user_tz": -60
    },
    "id": "KXdDhDGgeIeq",
    "outputId": "d264ab67-bb16-42a9-832c-4c50f93a3969"
   },
   "outputs": [
    {
     "name": "stdout",
     "output_type": "stream",
     "text": [
      "ESOL_README\r\n",
      "FreeSolv_README\r\n",
      "Lipo_README\r\n",
      "esol_original.csv\r\n",
      "esol_original_IdSmileTarget.csv\r\n",
      "esol_original_ecfp4_features.csv\r\n",
      "esol_original_ecfp6_features.csv\r\n",
      "esol_original_extra_features.csv\r\n",
      "freesolv_original.csv\r\n",
      "freesolv_original_IdSmileTarget.csv\r\n",
      "freesolv_original_ecfp4_features.csv\r\n",
      "freesolv_original_ecfp6_features.csv\r\n",
      "lipophilicity_original.csv\r\n",
      "lipophilicity_original_IdSmileTarget.csv\r\n",
      "lipophilicity_original_ecfp4_features.csv\r\n",
      "lipophilicity_original_ecfp6_features.csv\r\n"
     ]
    }
   ],
   "source": [
    "%ls ../data/"
   ]
  },
  {
   "cell_type": "markdown",
   "metadata": {
    "colab_type": "text",
    "id": "cG9tpt04e0iN"
   },
   "source": [
    "# Import modules"
   ]
  },
  {
   "cell_type": "code",
   "execution_count": 10,
   "metadata": {
    "colab": {},
    "colab_type": "code",
    "executionInfo": {
     "elapsed": 423,
     "status": "ok",
     "timestamp": 1593507643409,
     "user": {
      "displayName": "George Batchkala",
      "photoUrl": "",
      "userId": "17039292136363863281"
     },
     "user_tz": -60
    },
    "id": "sjl-QAB5e4I3"
   },
   "outputs": [],
   "source": [
    "import numpy as np\n",
    "import pandas as pd\n",
    "\n",
    "from rdkit import Chem\n",
    "from rdkit.Chem import AllChem\n",
    "\n",
    "from rdkit import RDLogger\n",
    "from rdkit.Chem import Descriptors"
   ]
  },
  {
   "cell_type": "markdown",
   "metadata": {},
   "source": [
    "# Load Data"
   ]
  },
  {
   "cell_type": "code",
   "execution_count": 3,
   "metadata": {},
   "outputs": [],
   "source": [
    "dataset = 'freesolv'\n",
    "smile_type = 'original'"
   ]
  },
  {
   "cell_type": "code",
   "execution_count": 4,
   "metadata": {
    "colab": {
     "base_uri": "https://localhost:8080/",
     "height": 170
    },
    "colab_type": "code",
    "executionInfo": {
     "elapsed": 925,
     "status": "ok",
     "timestamp": 1593005977272,
     "user": {
      "displayName": "George Batchkala",
      "photoUrl": "",
      "userId": "17039292136363863281"
     },
     "user_tz": -60
    },
    "id": "xmL5nV-BeOcC",
    "outputId": "e2ee0fad-ca78-455e-a45c-6465ec2418e8"
   },
   "outputs": [
    {
     "name": "stdout",
     "output_type": "stream",
     "text": [
      "                                                   smile  target\n",
      "id                                                              \n",
      "4-methoxy-N,N-dimethyl-benzamide  CN(C)C(=O)c1ccc(cc1)OC  -11.01\n",
      "methanesulfonyl chloride                    CS(=O)(=O)Cl   -4.87\n",
      "3-methylbut-1-ene                               CC(C)C=C    1.83\n",
      "2-ethylpyrazine                               CCc1cnccn1   -5.45\n",
      "heptan-1-ol                                     CCCCCCCO   -4.21 \n",
      "\n"
     ]
    },
    {
     "data": {
      "text/plain": [
       "(642, 2)"
      ]
     },
     "execution_count": 4,
     "metadata": {},
     "output_type": "execute_result"
    }
   ],
   "source": [
    "data = pd.read_csv(f'../data/{dataset}_{smile_type}_IdSmileTarget.csv', index_col=0)\n",
    "print(data.head(), '\\n')\n",
    "data.shape"
   ]
  },
  {
   "cell_type": "code",
   "execution_count": 11,
   "metadata": {
    "colab": {
     "base_uri": "https://localhost:8080/",
     "height": 391
    },
    "colab_type": "code",
    "executionInfo": {
     "elapsed": 696,
     "status": "ok",
     "timestamp": 1593006490380,
     "user": {
      "displayName": "George Batchkala",
      "photoUrl": "",
      "userId": "17039292136363863281"
     },
     "user_tz": -60
    },
    "id": "fzmU_vj6jlcm",
    "outputId": "5401df6b-83ba-404e-b43b-5ece33b5c0c7"
   },
   "outputs": [
    {
     "name": "stdout",
     "output_type": "stream",
     "text": [
      "642\n"
     ]
    },
    {
     "data": {
      "text/plain": [
       "id\n",
       "4-methoxy-N,N-dimethyl-benzamide    CN(C)C(=O)c1ccc(cc1)OC\n",
       "methanesulfonyl chloride                      CS(=O)(=O)Cl\n",
       "3-methylbut-1-ene                                 CC(C)C=C\n",
       "2-ethylpyrazine                                 CCc1cnccn1\n",
       "heptan-1-ol                                       CCCCCCCO\n",
       "Name: smile, dtype: object"
      ]
     },
     "execution_count": 11,
     "metadata": {},
     "output_type": "execute_result"
    }
   ],
   "source": [
    "smiles = data['smile']\n",
    "print(len(smiles))\n",
    "\n",
    "smiles[:5]"
   ]
  },
  {
   "cell_type": "markdown",
   "metadata": {
    "colab_type": "text",
    "id": "o4r2WevweR5i"
   },
   "source": [
    "# Get RDKit Molecular descriptors"
   ]
  },
  {
   "cell_type": "code",
   "execution_count": 33,
   "metadata": {},
   "outputs": [
    {
     "name": "stdout",
     "output_type": "stream",
     "text": [
      "CPU times: user 9.11 s, sys: 69 ms, total: 9.18 s\n",
      "Wall time: 7.17 s\n"
     ]
    },
    {
     "data": {
      "text/html": [
       "<div>\n",
       "<style scoped>\n",
       "    .dataframe tbody tr th:only-of-type {\n",
       "        vertical-align: middle;\n",
       "    }\n",
       "\n",
       "    .dataframe tbody tr th {\n",
       "        vertical-align: top;\n",
       "    }\n",
       "\n",
       "    .dataframe thead th {\n",
       "        text-align: right;\n",
       "    }\n",
       "</style>\n",
       "<table border=\"1\" class=\"dataframe\">\n",
       "  <thead>\n",
       "    <tr style=\"text-align: right;\">\n",
       "      <th></th>\n",
       "      <th>MaxEStateIndex</th>\n",
       "      <th>MinEStateIndex</th>\n",
       "      <th>MaxAbsEStateIndex</th>\n",
       "      <th>MinAbsEStateIndex</th>\n",
       "      <th>qed</th>\n",
       "      <th>MolWt</th>\n",
       "      <th>HeavyAtomMolWt</th>\n",
       "      <th>ExactMolWt</th>\n",
       "      <th>NumValenceElectrons</th>\n",
       "      <th>NumRadicalElectrons</th>\n",
       "      <th>...</th>\n",
       "      <th>fr_sulfide</th>\n",
       "      <th>fr_sulfonamd</th>\n",
       "      <th>fr_sulfone</th>\n",
       "      <th>fr_term_acetylene</th>\n",
       "      <th>fr_tetrazole</th>\n",
       "      <th>fr_thiazole</th>\n",
       "      <th>fr_thiocyan</th>\n",
       "      <th>fr_thiophene</th>\n",
       "      <th>fr_unbrch_alkane</th>\n",
       "      <th>fr_urea</th>\n",
       "    </tr>\n",
       "  </thead>\n",
       "  <tbody>\n",
       "    <tr>\n",
       "      <th>4-methoxy-N,N-dimethyl-benzamide</th>\n",
       "      <td>12.428170</td>\n",
       "      <td>-3.458874</td>\n",
       "      <td>12.428170</td>\n",
       "      <td>0.519264</td>\n",
       "      <td>0.686360</td>\n",
       "      <td>179.219</td>\n",
       "      <td>166.115</td>\n",
       "      <td>179.094629</td>\n",
       "      <td>70.0</td>\n",
       "      <td>0.0</td>\n",
       "      <td>...</td>\n",
       "      <td>0.0</td>\n",
       "      <td>0.0</td>\n",
       "      <td>0.0</td>\n",
       "      <td>0.0</td>\n",
       "      <td>0.0</td>\n",
       "      <td>0.0</td>\n",
       "      <td>0.0</td>\n",
       "      <td>0.0</td>\n",
       "      <td>0.0</td>\n",
       "      <td>0.0</td>\n",
       "    </tr>\n",
       "    <tr>\n",
       "      <th>methanesulfonyl chloride</th>\n",
       "      <td>9.855710</td>\n",
       "      <td>-4.368056</td>\n",
       "      <td>9.855710</td>\n",
       "      <td>3.074846</td>\n",
       "      <td>0.421427</td>\n",
       "      <td>114.553</td>\n",
       "      <td>111.529</td>\n",
       "      <td>113.954228</td>\n",
       "      <td>32.0</td>\n",
       "      <td>0.0</td>\n",
       "      <td>...</td>\n",
       "      <td>0.0</td>\n",
       "      <td>0.0</td>\n",
       "      <td>0.0</td>\n",
       "      <td>0.0</td>\n",
       "      <td>0.0</td>\n",
       "      <td>0.0</td>\n",
       "      <td>0.0</td>\n",
       "      <td>0.0</td>\n",
       "      <td>0.0</td>\n",
       "      <td>0.0</td>\n",
       "    </tr>\n",
       "    <tr>\n",
       "      <th>3-methylbut-1-ene</th>\n",
       "      <td>7.349537</td>\n",
       "      <td>-3.289005</td>\n",
       "      <td>7.349537</td>\n",
       "      <td>1.280324</td>\n",
       "      <td>0.412737</td>\n",
       "      <td>70.135</td>\n",
       "      <td>60.055</td>\n",
       "      <td>70.078250</td>\n",
       "      <td>30.0</td>\n",
       "      <td>0.0</td>\n",
       "      <td>...</td>\n",
       "      <td>0.0</td>\n",
       "      <td>0.0</td>\n",
       "      <td>0.0</td>\n",
       "      <td>0.0</td>\n",
       "      <td>0.0</td>\n",
       "      <td>0.0</td>\n",
       "      <td>0.0</td>\n",
       "      <td>0.0</td>\n",
       "      <td>0.0</td>\n",
       "      <td>0.0</td>\n",
       "    </tr>\n",
       "    <tr>\n",
       "      <th>2-ethylpyrazine</th>\n",
       "      <td>7.363796</td>\n",
       "      <td>-3.006484</td>\n",
       "      <td>7.363796</td>\n",
       "      <td>0.587878</td>\n",
       "      <td>0.536795</td>\n",
       "      <td>108.144</td>\n",
       "      <td>100.080</td>\n",
       "      <td>108.068748</td>\n",
       "      <td>42.0</td>\n",
       "      <td>0.0</td>\n",
       "      <td>...</td>\n",
       "      <td>0.0</td>\n",
       "      <td>0.0</td>\n",
       "      <td>0.0</td>\n",
       "      <td>0.0</td>\n",
       "      <td>0.0</td>\n",
       "      <td>0.0</td>\n",
       "      <td>0.0</td>\n",
       "      <td>0.0</td>\n",
       "      <td>0.0</td>\n",
       "      <td>0.0</td>\n",
       "    </tr>\n",
       "    <tr>\n",
       "      <th>heptan-1-ol</th>\n",
       "      <td>7.581250</td>\n",
       "      <td>-4.173333</td>\n",
       "      <td>7.581250</td>\n",
       "      <td>3.423878</td>\n",
       "      <td>0.544191</td>\n",
       "      <td>116.204</td>\n",
       "      <td>100.076</td>\n",
       "      <td>116.120115</td>\n",
       "      <td>50.0</td>\n",
       "      <td>0.0</td>\n",
       "      <td>...</td>\n",
       "      <td>0.0</td>\n",
       "      <td>0.0</td>\n",
       "      <td>0.0</td>\n",
       "      <td>0.0</td>\n",
       "      <td>0.0</td>\n",
       "      <td>0.0</td>\n",
       "      <td>0.0</td>\n",
       "      <td>0.0</td>\n",
       "      <td>0.0</td>\n",
       "      <td>0.0</td>\n",
       "    </tr>\n",
       "  </tbody>\n",
       "</table>\n",
       "<p>5 rows × 200 columns</p>\n",
       "</div>"
      ],
      "text/plain": [
       "                                  MaxEStateIndex  MinEStateIndex  \\\n",
       "4-methoxy-N,N-dimethyl-benzamide       12.428170       -3.458874   \n",
       "methanesulfonyl chloride                9.855710       -4.368056   \n",
       "3-methylbut-1-ene                       7.349537       -3.289005   \n",
       "2-ethylpyrazine                         7.363796       -3.006484   \n",
       "heptan-1-ol                             7.581250       -4.173333   \n",
       "\n",
       "                                  MaxAbsEStateIndex  MinAbsEStateIndex  \\\n",
       "4-methoxy-N,N-dimethyl-benzamide          12.428170           0.519264   \n",
       "methanesulfonyl chloride                   9.855710           3.074846   \n",
       "3-methylbut-1-ene                          7.349537           1.280324   \n",
       "2-ethylpyrazine                            7.363796           0.587878   \n",
       "heptan-1-ol                                7.581250           3.423878   \n",
       "\n",
       "                                       qed    MolWt  HeavyAtomMolWt  \\\n",
       "4-methoxy-N,N-dimethyl-benzamide  0.686360  179.219         166.115   \n",
       "methanesulfonyl chloride          0.421427  114.553         111.529   \n",
       "3-methylbut-1-ene                 0.412737   70.135          60.055   \n",
       "2-ethylpyrazine                   0.536795  108.144         100.080   \n",
       "heptan-1-ol                       0.544191  116.204         100.076   \n",
       "\n",
       "                                  ExactMolWt  NumValenceElectrons  \\\n",
       "4-methoxy-N,N-dimethyl-benzamide  179.094629                 70.0   \n",
       "methanesulfonyl chloride          113.954228                 32.0   \n",
       "3-methylbut-1-ene                  70.078250                 30.0   \n",
       "2-ethylpyrazine                   108.068748                 42.0   \n",
       "heptan-1-ol                       116.120115                 50.0   \n",
       "\n",
       "                                  NumRadicalElectrons  ...  fr_sulfide  \\\n",
       "4-methoxy-N,N-dimethyl-benzamide                  0.0  ...         0.0   \n",
       "methanesulfonyl chloride                          0.0  ...         0.0   \n",
       "3-methylbut-1-ene                                 0.0  ...         0.0   \n",
       "2-ethylpyrazine                                   0.0  ...         0.0   \n",
       "heptan-1-ol                                       0.0  ...         0.0   \n",
       "\n",
       "                                  fr_sulfonamd  fr_sulfone  fr_term_acetylene  \\\n",
       "4-methoxy-N,N-dimethyl-benzamide           0.0         0.0                0.0   \n",
       "methanesulfonyl chloride                   0.0         0.0                0.0   \n",
       "3-methylbut-1-ene                          0.0         0.0                0.0   \n",
       "2-ethylpyrazine                            0.0         0.0                0.0   \n",
       "heptan-1-ol                                0.0         0.0                0.0   \n",
       "\n",
       "                                  fr_tetrazole  fr_thiazole  fr_thiocyan  \\\n",
       "4-methoxy-N,N-dimethyl-benzamide           0.0          0.0          0.0   \n",
       "methanesulfonyl chloride                   0.0          0.0          0.0   \n",
       "3-methylbut-1-ene                          0.0          0.0          0.0   \n",
       "2-ethylpyrazine                            0.0          0.0          0.0   \n",
       "heptan-1-ol                                0.0          0.0          0.0   \n",
       "\n",
       "                                  fr_thiophene  fr_unbrch_alkane  fr_urea  \n",
       "4-methoxy-N,N-dimethyl-benzamide           0.0               0.0      0.0  \n",
       "methanesulfonyl chloride                   0.0               0.0      0.0  \n",
       "3-methylbut-1-ene                          0.0               0.0      0.0  \n",
       "2-ethylpyrazine                            0.0               0.0      0.0  \n",
       "heptan-1-ol                                0.0               0.0      0.0  \n",
       "\n",
       "[5 rows x 200 columns]"
      ]
     },
     "execution_count": 33,
     "metadata": {},
     "output_type": "execute_result"
    }
   ],
   "source": [
    "%%time\n",
    "\n",
    "# load ligands and compute features\n",
    "features = {}\n",
    "descriptors = {d[0]: d[1] for d in Descriptors.descList}\n",
    "\n",
    "for index in smiles.index:\n",
    "    \n",
    "    mol = Chem.MolFromSmiles(smiles.loc[index])\n",
    "    \n",
    "    # how exactly do we add hydrogens here???\n",
    "    mol = Chem.AddHs(mol)\n",
    "    \n",
    "    try:\n",
    "        features[index] = {d: descriptors[d](mol) for d in descriptors}\n",
    "    except ValueError as e:\n",
    "        print(e)\n",
    "        continue\n",
    "    \n",
    "features = pd.DataFrame.from_dict(features).T\n",
    "features.head()"
   ]
  },
  {
   "cell_type": "code",
   "execution_count": 17,
   "metadata": {},
   "outputs": [],
   "source": []
  },
  {
   "cell_type": "markdown",
   "metadata": {
    "colab_type": "text",
    "id": "_odhIJWlo4hw"
   },
   "source": [
    "## ECFP-4"
   ]
  },
  {
   "cell_type": "code",
   "execution_count": null,
   "metadata": {
    "colab": {
     "base_uri": "https://localhost:8080/",
     "height": 51
    },
    "colab_type": "code",
    "executionInfo": {
     "elapsed": 746,
     "status": "ok",
     "timestamp": 1593008042921,
     "user": {
      "displayName": "George Batchkala",
      "photoUrl": "",
      "userId": "17039292136363863281"
     },
     "user_tz": -60
    },
    "id": "Y9ZL3wa5mkyW",
    "outputId": "57e04890-9a98-41d1-a353-a66a94771db6"
   },
   "outputs": [],
   "source": []
  },
  {
   "cell_type": "code",
   "execution_count": null,
   "metadata": {
    "colab": {
     "base_uri": "https://localhost:8080/",
     "height": 34
    },
    "colab_type": "code",
    "executionInfo": {
     "elapsed": 1048,
     "status": "ok",
     "timestamp": 1593007209077,
     "user": {
      "displayName": "George Batchkala",
      "photoUrl": "",
      "userId": "17039292136363863281"
     },
     "user_tz": -60
    },
    "id": "7Wf8d3wIn1MD",
    "outputId": "243edfd1-fb94-47e2-e4d2-a51cd680b5bb"
   },
   "outputs": [],
   "source": [
    "len(ecfp4), len(ecfp4[0])"
   ]
  },
  {
   "cell_type": "code",
   "execution_count": null,
   "metadata": {
    "colab": {
     "base_uri": "https://localhost:8080/",
     "height": 51
    },
    "colab_type": "code",
    "executionInfo": {
     "elapsed": 18975,
     "status": "ok",
     "timestamp": 1593008198081,
     "user": {
      "displayName": "George Batchkala",
      "photoUrl": "",
      "userId": "17039292136363863281"
     },
     "user_tz": -60
    },
    "id": "fSWkIK00oFsw",
    "outputId": "3c2a2679-7ace-4f03-9711-e035e7bf6eb4"
   },
   "outputs": [],
   "source": [
    "# record them to np.array\n",
    "%time ecfp4_np = np.array(ecfp4)"
   ]
  },
  {
   "cell_type": "code",
   "execution_count": null,
   "metadata": {
    "colab": {
     "base_uri": "https://localhost:8080/",
     "height": 34
    },
    "colab_type": "code",
    "executionInfo": {
     "elapsed": 868,
     "status": "ok",
     "timestamp": 1593008207546,
     "user": {
      "displayName": "George Batchkala",
      "photoUrl": "",
      "userId": "17039292136363863281"
     },
     "user_tz": -60
    },
    "id": "fKtjS3JboezD",
    "outputId": "e6e37eb7-3561-4cbf-9510-0e8ba58a6315"
   },
   "outputs": [],
   "source": [
    "ecfp4_np.shape"
   ]
  },
  {
   "cell_type": "code",
   "execution_count": null,
   "metadata": {
    "colab": {
     "base_uri": "https://localhost:8080/",
     "height": 51
    },
    "colab_type": "code",
    "executionInfo": {
     "elapsed": 1126,
     "status": "ok",
     "timestamp": 1593008213319,
     "user": {
      "displayName": "George Batchkala",
      "photoUrl": "",
      "userId": "17039292136363863281"
     },
     "user_tz": -60
    },
    "id": "-uvQ5Hb_pEzy",
    "outputId": "ec056fb7-7485-44b5-d642-d4a8fe813cfc"
   },
   "outputs": [],
   "source": [
    "# record pandas DataFrame\n",
    "%time ecfp4_pd = pd.DataFrame(ecfp4_np)"
   ]
  },
  {
   "cell_type": "code",
   "execution_count": null,
   "metadata": {
    "colab": {
     "base_uri": "https://localhost:8080/",
     "height": 253
    },
    "colab_type": "code",
    "executionInfo": {
     "elapsed": 922,
     "status": "ok",
     "timestamp": 1593008135495,
     "user": {
      "displayName": "George Batchkala",
      "photoUrl": "",
      "userId": "17039292136363863281"
     },
     "user_tz": -60
    },
    "id": "ErNLZE9cpLGG",
    "outputId": "806c0c68-d410-4bca-9d7b-cb09fbf17f02"
   },
   "outputs": [],
   "source": [
    "ecfp4_pd.head()"
   ]
  },
  {
   "cell_type": "code",
   "execution_count": null,
   "metadata": {
    "colab": {
     "base_uri": "https://localhost:8080/",
     "height": 357
    },
    "colab_type": "code",
    "executionInfo": {
     "elapsed": 725,
     "status": "ok",
     "timestamp": 1593008325988,
     "user": {
      "displayName": "George Batchkala",
      "photoUrl": "",
      "userId": "17039292136363863281"
     },
     "user_tz": -60
    },
    "id": "5j7Prj_asNOv",
    "outputId": "72dfe392-f8c9-40a7-b76a-e90decc63b5a"
   },
   "outputs": [],
   "source": [
    "list(data.index)[:20]"
   ]
  },
  {
   "cell_type": "code",
   "execution_count": null,
   "metadata": {
    "colab": {},
    "colab_type": "code",
    "id": "zhf2dzeCrGSK"
   },
   "outputs": [],
   "source": [
    "ecfp4_pd.index = list(data.index)"
   ]
  },
  {
   "cell_type": "code",
   "execution_count": null,
   "metadata": {
    "colab": {
     "base_uri": "https://localhost:8080/",
     "height": 253
    },
    "colab_type": "code",
    "executionInfo": {
     "elapsed": 962,
     "status": "ok",
     "timestamp": 1593008476793,
     "user": {
      "displayName": "George Batchkala",
      "photoUrl": "",
      "userId": "17039292136363863281"
     },
     "user_tz": -60
    },
    "id": "1fyHBibHp1UL",
    "outputId": "85d9e17d-5851-49ca-d98f-79aa6b4831be",
    "scrolled": true
   },
   "outputs": [],
   "source": [
    "ecfp4_pd.head()"
   ]
  },
  {
   "cell_type": "markdown",
   "metadata": {
    "colab_type": "text",
    "id": "LTHPht0Utdxy"
   },
   "source": [
    "## ECFP-6"
   ]
  },
  {
   "cell_type": "code",
   "execution_count": null,
   "metadata": {
    "colab": {
     "base_uri": "https://localhost:8080/",
     "height": 51
    },
    "colab_type": "code",
    "executionInfo": {
     "elapsed": 912,
     "status": "ok",
     "timestamp": 1593008620211,
     "user": {
      "displayName": "George Batchkala",
      "photoUrl": "",
      "userId": "17039292136363863281"
     },
     "user_tz": -60
    },
    "id": "FyCedI9xtiqc",
    "outputId": "289a7892-99a4-4090-c8e7-8450c6f4afc0"
   },
   "outputs": [],
   "source": [
    "# get ecfp6\n",
    "%time ecfp6 = [AllChem.GetMorganFingerprintAsBitVect(m, radius=3, nBits=2048) for m in ms]"
   ]
  },
  {
   "cell_type": "code",
   "execution_count": null,
   "metadata": {
    "colab": {
     "base_uri": "https://localhost:8080/",
     "height": 34
    },
    "colab_type": "code",
    "executionInfo": {
     "elapsed": 1120,
     "status": "ok",
     "timestamp": 1593008623172,
     "user": {
      "displayName": "George Batchkala",
      "photoUrl": "",
      "userId": "17039292136363863281"
     },
     "user_tz": -60
    },
    "id": "mm0WDP8otiqg",
    "outputId": "a76ddcff-8f8e-4fbc-a890-4cd17ede2a37"
   },
   "outputs": [],
   "source": [
    "len(ecfp6), len(ecfp6[0])"
   ]
  },
  {
   "cell_type": "code",
   "execution_count": null,
   "metadata": {
    "colab": {
     "base_uri": "https://localhost:8080/",
     "height": 51
    },
    "colab_type": "code",
    "executionInfo": {
     "elapsed": 19196,
     "status": "ok",
     "timestamp": 1593008647334,
     "user": {
      "displayName": "George Batchkala",
      "photoUrl": "",
      "userId": "17039292136363863281"
     },
     "user_tz": -60
    },
    "id": "zHVPIqVitiqz",
    "outputId": "3759d109-f753-4861-e8a4-bcbc61a017e4"
   },
   "outputs": [],
   "source": [
    "# record them to np.array\n",
    "%time ecfp6_np = np.array(ecfp6)"
   ]
  },
  {
   "cell_type": "code",
   "execution_count": null,
   "metadata": {
    "colab": {
     "base_uri": "https://localhost:8080/",
     "height": 34
    },
    "colab_type": "code",
    "executionInfo": {
     "elapsed": 905,
     "status": "ok",
     "timestamp": 1593008648259,
     "user": {
      "displayName": "George Batchkala",
      "photoUrl": "",
      "userId": "17039292136363863281"
     },
     "user_tz": -60
    },
    "id": "VRtKUNzBtiq6",
    "outputId": "96a71457-ff98-4dd7-8f0a-8b092c5a1244"
   },
   "outputs": [],
   "source": [
    "ecfp6_np.shape"
   ]
  },
  {
   "cell_type": "code",
   "execution_count": null,
   "metadata": {
    "colab": {
     "base_uri": "https://localhost:8080/",
     "height": 51
    },
    "colab_type": "code",
    "executionInfo": {
     "elapsed": 1674,
     "status": "ok",
     "timestamp": 1593008649049,
     "user": {
      "displayName": "George Batchkala",
      "photoUrl": "",
      "userId": "17039292136363863281"
     },
     "user_tz": -60
    },
    "id": "zEV-p8d0tiq9",
    "outputId": "bf4521f6-109d-4cb8-ff2b-407913096264"
   },
   "outputs": [],
   "source": [
    "# record pandas DataFrame\n",
    "%time ecfp6_pd = pd.DataFrame(ecfp6_np)"
   ]
  },
  {
   "cell_type": "code",
   "execution_count": null,
   "metadata": {
    "colab": {
     "base_uri": "https://localhost:8080/",
     "height": 253
    },
    "colab_type": "code",
    "executionInfo": {
     "elapsed": 1645,
     "status": "ok",
     "timestamp": 1593008649051,
     "user": {
      "displayName": "George Batchkala",
      "photoUrl": "",
      "userId": "17039292136363863281"
     },
     "user_tz": -60
    },
    "id": "jCBE-k2etiq_",
    "outputId": "736ad039-cf4f-4b88-b8ac-58266d383d69"
   },
   "outputs": [],
   "source": [
    "ecfp6_pd.head()"
   ]
  },
  {
   "cell_type": "code",
   "execution_count": null,
   "metadata": {
    "colab": {
     "base_uri": "https://localhost:8080/",
     "height": 357
    },
    "colab_type": "code",
    "executionInfo": {
     "elapsed": 1620,
     "status": "ok",
     "timestamp": 1593008649053,
     "user": {
      "displayName": "George Batchkala",
      "photoUrl": "",
      "userId": "17039292136363863281"
     },
     "user_tz": -60
    },
    "id": "2p_a4CeKtirC",
    "outputId": "5737c9ea-2738-4016-b612-c9309207b059"
   },
   "outputs": [],
   "source": [
    "list(data.index)[:20]"
   ]
  },
  {
   "cell_type": "code",
   "execution_count": null,
   "metadata": {
    "colab": {},
    "colab_type": "code",
    "id": "xFCvnebWtirE"
   },
   "outputs": [],
   "source": [
    "ecfp6_pd.index = list(data.index)"
   ]
  },
  {
   "cell_type": "code",
   "execution_count": null,
   "metadata": {
    "colab": {
     "base_uri": "https://localhost:8080/",
     "height": 253
    },
    "colab_type": "code",
    "executionInfo": {
     "elapsed": 1026,
     "status": "ok",
     "timestamp": 1593008655226,
     "user": {
      "displayName": "George Batchkala",
      "photoUrl": "",
      "userId": "17039292136363863281"
     },
     "user_tz": -60
    },
    "id": "OoCBcTZItirH",
    "outputId": "28e7a8fb-0a99-40da-d05f-ee70b901b951"
   },
   "outputs": [],
   "source": [
    "ecfp6_pd.head()"
   ]
  },
  {
   "cell_type": "markdown",
   "metadata": {
    "colab_type": "text",
    "id": "ieTk0pamt5PN"
   },
   "source": [
    "## Saving both to .csv and to pickle files"
   ]
  },
  {
   "cell_type": "code",
   "execution_count": null,
   "metadata": {
    "colab": {
     "base_uri": "https://localhost:8080/",
     "height": 34
    },
    "colab_type": "code",
    "executionInfo": {
     "elapsed": 3363,
     "status": "ok",
     "timestamp": 1593008792868,
     "user": {
      "displayName": "George Batchkala",
      "photoUrl": "",
      "userId": "17039292136363863281"
     },
     "user_tz": -60
    },
    "id": "oyIdjXzNuKv8",
    "outputId": "9f692f8b-5620-4066-ecf7-1a4043e57ac8"
   },
   "outputs": [],
   "source": [
    "# check the directory\n",
    "%ls"
   ]
  },
  {
   "cell_type": "code",
   "execution_count": null,
   "metadata": {
    "colab": {
     "base_uri": "https://localhost:8080/",
     "height": 51
    },
    "colab_type": "code",
    "executionInfo": {
     "elapsed": 3192,
     "status": "ok",
     "timestamp": 1593009860168,
     "user": {
      "displayName": "George Batchkala",
      "photoUrl": "",
      "userId": "17039292136363863281"
     },
     "user_tz": -60
    },
    "id": "MWrjwdtPuCre",
    "outputId": "7fa8d1b7-2847-42e5-892a-d8f0587b6bbe"
   },
   "outputs": [],
   "source": [
    "%%time\n",
    "\n",
    "ecfp4_pd.to_csv('ecfp4_features.csv')\n",
    "ecfp6_pd.to_csv('ecfp6_features.csv')"
   ]
  },
  {
   "cell_type": "code",
   "execution_count": null,
   "metadata": {
    "colab": {
     "base_uri": "https://localhost:8080/",
     "height": 85
    },
    "colab_type": "code",
    "executionInfo": {
     "elapsed": 3259,
     "status": "ok",
     "timestamp": 1593009864496,
     "user": {
      "displayName": "George Batchkala",
      "photoUrl": "",
      "userId": "17039292136363863281"
     },
     "user_tz": -60
    },
    "id": "GzmAn7p8vnmr",
    "outputId": "8623fa76-56e3-4418-b334-b0085bb07da7"
   },
   "outputs": [],
   "source": [
    "%ls"
   ]
  },
  {
   "cell_type": "code",
   "execution_count": null,
   "metadata": {
    "colab": {},
    "colab_type": "code",
    "id": "WozjZl4pvwCs"
   },
   "outputs": [],
   "source": []
  }
 ],
 "metadata": {
  "colab": {
   "authorship_tag": "ABX9TyOg9MJ0O+zofNPhfqKPki2H",
   "collapsed_sections": [
    "1GZlT0HZkIPZ",
    "jxzJYRinkNb2"
   ],
   "name": "get_fingerprints.ipynb",
   "provenance": [],
   "toc_visible": true
  },
  "kernelspec": {
   "display_name": "Python [conda env:batch-msc] *",
   "language": "python",
   "name": "conda-env-batch-msc-py"
  },
  "language_info": {
   "codemirror_mode": {
    "name": "ipython",
    "version": 3
   },
   "file_extension": ".py",
   "mimetype": "text/x-python",
   "name": "python",
   "nbconvert_exporter": "python",
   "pygments_lexer": "ipython3",
   "version": "3.6.10"
  }
 },
 "nbformat": 4,
 "nbformat_minor": 1
}
