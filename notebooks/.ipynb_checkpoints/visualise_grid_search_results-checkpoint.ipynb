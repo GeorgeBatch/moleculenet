{
 "cells": [
  {
   "cell_type": "code",
   "execution_count": 9,
   "metadata": {},
   "outputs": [
    {
     "name": "stdout",
     "output_type": "stream",
     "text": [
      "colab_RF_CIs_on_fingerprints_initial.ipynb\r\n",
      "colab_grid_search_pipeline.ipynb\r\n",
      "get_ecfp4_ecfp6_final.ipynb\r\n",
      "get_original_id_smile_target_esol.ipynb\r\n",
      "get_original_id_smile_target_freeesolv.ipynb\r\n",
      "get_original_id_smile_target_lipophilicity.ipynb\r\n",
      "get_protenated_from_canonical.ipynb\r\n",
      "get_rdkit_descriptors_final.ipynb\r\n",
      "grid_search_results_visualised.ipynb\r\n"
     ]
    }
   ],
   "source": [
    "%ls"
   ]
  },
  {
   "cell_type": "code",
   "execution_count": 13,
   "metadata": {},
   "outputs": [
    {
     "name": "stdout",
     "output_type": "stream",
     "text": [
      "esol_original_random_search_best_cv_scores_0.json\r\n",
      "esol_original_random_search_best_params_0.json\r\n",
      "esol_original_random_search_best_test_score_0.json\r\n",
      "freesolv_original_random_search_best_cv_scores_0.json\r\n",
      "freesolv_original_random_search_best_params_0.json\r\n",
      "freesolv_original_random_search_best_test_score_0.json\r\n"
     ]
    }
   ],
   "source": [
    "%ls ../backup_results/"
   ]
  },
  {
   "cell_type": "code",
   "execution_count": 73,
   "metadata": {},
   "outputs": [],
   "source": [
    "import pickle\n",
    "import json\n",
    "\n",
    "import pandas as pd\n",
    "import matplotlib.pyplot as plt\n",
    "import seaborn as sns"
   ]
  },
  {
   "cell_type": "code",
   "execution_count": 74,
   "metadata": {},
   "outputs": [],
   "source": [
    "# root = '../backup_results'\n",
    "root = '../results'\n",
    "dataset = 'freesolv'\n",
    "smile_type = 'original'"
   ]
  },
  {
   "cell_type": "code",
   "execution_count": 75,
   "metadata": {},
   "outputs": [],
   "source": [
    "with open(f'../results/{dataset}_{smile_type}_random_search_best_cv_scores.pickle', 'rb') as fp:\n",
    "    cv_scores = pickle.load(fp)\n",
    "\n",
    "with open(f'../results/{dataset}_{smile_type}_random_search_best_test_score.pickle', 'rb') as fp:\n",
    "    test_score = pickle.load(fp)\n",
    "\n",
    "with open(f'../results/{dataset}_{smile_type}_random_search_best_params.pickle', 'rb') as fp:\n",
    "    best_params = pickle.load(fp)\n",
    "\n",
    "with open(f'../results/{dataset}_{smile_type}_random_search_grid_params.pickle', 'rb') as fp:\n",
    "    params = pickle.load(fp)"
   ]
  },
  {
   "cell_type": "code",
   "execution_count": 76,
   "metadata": {},
   "outputs": [],
   "source": [
    "# with open(f'{root}/{dataset}_{smile_type}_random_search_best_params.json', 'r') as f:\n",
    "#     best_params = json.load(f)\n",
    "\n",
    "# with open(f'{root}/{dataset}_{smile_type}_random_search_best_cv_scores.json', 'r') as f:\n",
    "#     cv_scores = json.load(f)\n",
    "    \n",
    "# with open(f'{root}/{dataset}_{smile_type}_random_search_best_test_score.json', 'r') as f:\n",
    "#     test_score = json.load(f)"
   ]
  },
  {
   "cell_type": "code",
   "execution_count": 77,
   "metadata": {},
   "outputs": [
    {
     "data": {
      "text/plain": [
       "{'rf': {'rf__n_estimators': 700, 'rf__max_features': 0.8},\n",
       " 'xgb': {'xgb__subsample': 1,\n",
       "  'xgb__n_estimators': 200,\n",
       "  'xgb__max_depth': 3,\n",
       "  'xgb__learning_rate': 0.1},\n",
       " 'krr': {'krr__alpha': 100}}"
      ]
     },
     "execution_count": 77,
     "metadata": {},
     "output_type": "execute_result"
    }
   ],
   "source": [
    "best_params['RDKit']"
   ]
  },
  {
   "cell_type": "code",
   "execution_count": 78,
   "metadata": {},
   "outputs": [],
   "source": [
    "column_order = ['RDKit',\n",
    "                '1024ecfp-4', '1024ecfp-4 + RDKit',\n",
    "                '1024ecfp-6', '1024ecfp-6 + RDKit',\n",
    "                '2048ecfp-4', '2048ecfp-4 + RDKit',\n",
    "                '2048ecfp-6', '2048ecfp-6 + RDKit']\n",
    "\n",
    "row_order = ['Kernel Ridge','Random Forest', 'XGBoost', ]\n",
    "mapper = {\n",
    "    'krr': 'Kernel Ridge',\n",
    "    'xgb': 'XGBoost',\n",
    "    'rf': 'Random Forest',\n",
    "}"
   ]
  },
  {
   "cell_type": "code",
   "execution_count": 88,
   "metadata": {},
   "outputs": [
    {
     "data": {
      "text/html": [
       "<div>\n",
       "<style scoped>\n",
       "    .dataframe tbody tr th:only-of-type {\n",
       "        vertical-align: middle;\n",
       "    }\n",
       "\n",
       "    .dataframe tbody tr th {\n",
       "        vertical-align: top;\n",
       "    }\n",
       "\n",
       "    .dataframe thead th {\n",
       "        text-align: right;\n",
       "    }\n",
       "</style>\n",
       "<table border=\"1\" class=\"dataframe\">\n",
       "  <thead>\n",
       "    <tr style=\"text-align: right;\">\n",
       "      <th></th>\n",
       "      <th>RDKit</th>\n",
       "      <th>1024ecfp-4</th>\n",
       "      <th>1024ecfp-6</th>\n",
       "      <th>2048ecfp-4</th>\n",
       "      <th>2048ecfp-6</th>\n",
       "      <th>1024ecfp-4 + RDKit</th>\n",
       "      <th>1024ecfp-6 + RDKit</th>\n",
       "      <th>2048ecfp-4 + RDKit</th>\n",
       "      <th>2048ecfp-6 + RDKit</th>\n",
       "    </tr>\n",
       "  </thead>\n",
       "  <tbody>\n",
       "    <tr>\n",
       "      <th>rf</th>\n",
       "      <td>0.43</td>\n",
       "      <td>0.72</td>\n",
       "      <td>0.77</td>\n",
       "      <td>0.73</td>\n",
       "      <td>0.75</td>\n",
       "      <td>0.46</td>\n",
       "      <td>0.45</td>\n",
       "      <td>0.46</td>\n",
       "      <td>0.44</td>\n",
       "    </tr>\n",
       "    <tr>\n",
       "      <th>xgb</th>\n",
       "      <td>0.27</td>\n",
       "      <td>0.68</td>\n",
       "      <td>0.67</td>\n",
       "      <td>0.14</td>\n",
       "      <td>1.04</td>\n",
       "      <td>0.11</td>\n",
       "      <td>0.12</td>\n",
       "      <td>0.11</td>\n",
       "      <td>0.12</td>\n",
       "    </tr>\n",
       "    <tr>\n",
       "      <th>krr</th>\n",
       "      <td>3.90</td>\n",
       "      <td>3.85</td>\n",
       "      <td>3.84</td>\n",
       "      <td>3.83</td>\n",
       "      <td>3.82</td>\n",
       "      <td>3.80</td>\n",
       "      <td>3.81</td>\n",
       "      <td>3.80</td>\n",
       "      <td>3.80</td>\n",
       "    </tr>\n",
       "  </tbody>\n",
       "</table>\n",
       "</div>"
      ],
      "text/plain": [
       "     RDKit  1024ecfp-4  1024ecfp-6  2048ecfp-4  2048ecfp-6  \\\n",
       "rf    0.43        0.72        0.77        0.73        0.75   \n",
       "xgb   0.27        0.68        0.67        0.14        1.04   \n",
       "krr   3.90        3.85        3.84        3.83        3.82   \n",
       "\n",
       "     1024ecfp-4 + RDKit  1024ecfp-6 + RDKit  2048ecfp-4 + RDKit  \\\n",
       "rf                 0.46                0.45                0.46   \n",
       "xgb                0.11                0.12                0.11   \n",
       "krr                3.80                3.81                3.80   \n",
       "\n",
       "     2048ecfp-6 + RDKit  \n",
       "rf                 0.44  \n",
       "xgb                0.12  \n",
       "krr                3.80  "
      ]
     },
     "execution_count": 88,
     "metadata": {},
     "output_type": "execute_result"
    }
   ],
   "source": [
    "## pull out validation scores for all features for all models (validation set is a test set when working on train/val split )\n",
    "train_rmse = - pd.DataFrame({features: {model: test_score[features][model]['train_RMSE'].mean() for model in cv_scores[features]} for features in cv_scores})\n",
    "train_rmse.round(2)"
   ]
  },
  {
   "cell_type": "code",
   "execution_count": 89,
   "metadata": {},
   "outputs": [
    {
     "data": {
      "text/plain": [
       "<matplotlib.collections.LineCollection at 0x11e08fd30>"
      ]
     },
     "execution_count": 89,
     "metadata": {},
     "output_type": "execute_result"
    },
    {
     "data": {
      "image/png": "[encoded data removed]",
      "text/plain": [
       "<Figure size 432x432 with 2 Axes>"
      ]
     },
     "metadata": {
      "needs_background": "light"
     },
     "output_type": "display_data"
    }
   ],
   "source": [
    "df = train_rmse.round(2)\n",
    "df = df.rename(mapper=mapper, axis='rows')\n",
    "df = df.loc[row_order, column_order]\n",
    "\n",
    "fig, ax = plt.subplots(1,1,figsize=(6,6))\n",
    "sns.heatmap(df, annot=True, cmap='viridis', cbar_kws={'label': r\"root-mean-square error\"}, ax=ax)\n",
    "\n",
    "ax.set_ylabel('Algorithm')\n",
    "ax.set_xlabel('Features Used')\n",
    "ax.hlines([1, 3, 5, 7], *ax.get_xlim(), linestyle=':', linewidth=2)\n",
    "# fig.savefig('../figures/algorithm_comparison.jpg', dpi=350, bbox_inches='tight')"
   ]
  },
  {
   "cell_type": "code",
   "execution_count": 90,
   "metadata": {},
   "outputs": [
    {
     "data": {
      "text/html": [
       "<div>\n",
       "<style scoped>\n",
       "    .dataframe tbody tr th:only-of-type {\n",
       "        vertical-align: middle;\n",
       "    }\n",
       "\n",
       "    .dataframe tbody tr th {\n",
       "        vertical-align: top;\n",
       "    }\n",
       "\n",
       "    .dataframe thead th {\n",
       "        text-align: right;\n",
       "    }\n",
       "</style>\n",
       "<table border=\"1\" class=\"dataframe\">\n",
       "  <thead>\n",
       "    <tr style=\"text-align: right;\">\n",
       "      <th></th>\n",
       "      <th>RDKit</th>\n",
       "      <th>1024ecfp-4</th>\n",
       "      <th>1024ecfp-6</th>\n",
       "      <th>2048ecfp-4</th>\n",
       "      <th>2048ecfp-6</th>\n",
       "      <th>1024ecfp-4 + RDKit</th>\n",
       "      <th>1024ecfp-6 + RDKit</th>\n",
       "      <th>2048ecfp-4 + RDKit</th>\n",
       "      <th>2048ecfp-6 + RDKit</th>\n",
       "    </tr>\n",
       "  </thead>\n",
       "  <tbody>\n",
       "    <tr>\n",
       "      <th>rf</th>\n",
       "      <td>1.01</td>\n",
       "      <td>2.08</td>\n",
       "      <td>2.09</td>\n",
       "      <td>2.07</td>\n",
       "      <td>2.13</td>\n",
       "      <td>1.05</td>\n",
       "      <td>1.00</td>\n",
       "      <td>1.02</td>\n",
       "      <td>0.99</td>\n",
       "    </tr>\n",
       "    <tr>\n",
       "      <th>xgb</th>\n",
       "      <td>0.81</td>\n",
       "      <td>1.94</td>\n",
       "      <td>1.89</td>\n",
       "      <td>1.90</td>\n",
       "      <td>1.93</td>\n",
       "      <td>0.87</td>\n",
       "      <td>0.87</td>\n",
       "      <td>0.84</td>\n",
       "      <td>0.90</td>\n",
       "    </tr>\n",
       "    <tr>\n",
       "      <th>krr</th>\n",
       "      <td>4.02</td>\n",
       "      <td>4.75</td>\n",
       "      <td>4.31</td>\n",
       "      <td>4.81</td>\n",
       "      <td>4.71</td>\n",
       "      <td>3.86</td>\n",
       "      <td>3.94</td>\n",
       "      <td>4.05</td>\n",
       "      <td>4.06</td>\n",
       "    </tr>\n",
       "  </tbody>\n",
       "</table>\n",
       "</div>"
      ],
      "text/plain": [
       "     RDKit  1024ecfp-4  1024ecfp-6  2048ecfp-4  2048ecfp-6  \\\n",
       "rf    1.01        2.08        2.09        2.07        2.13   \n",
       "xgb   0.81        1.94        1.89        1.90        1.93   \n",
       "krr   4.02        4.75        4.31        4.81        4.71   \n",
       "\n",
       "     1024ecfp-4 + RDKit  1024ecfp-6 + RDKit  2048ecfp-4 + RDKit  \\\n",
       "rf                 1.05                1.00                1.02   \n",
       "xgb                0.87                0.87                0.84   \n",
       "krr                3.86                3.94                4.05   \n",
       "\n",
       "     2048ecfp-6 + RDKit  \n",
       "rf                 0.99  \n",
       "xgb                0.90  \n",
       "krr                4.06  "
      ]
     },
     "execution_count": 90,
     "metadata": {},
     "output_type": "execute_result"
    }
   ],
   "source": [
    "## pull out validation scores for all features for all models (validation set is a test set when working on train/val split )\n",
    "val_rmse = - pd.DataFrame({features: {model: cv_scores[features][model]['test_RMSE'].mean() for model in cv_scores[features]} for features in cv_scores})\n",
    "val_rmse.round(2)"
   ]
  },
  {
   "cell_type": "code",
   "execution_count": 91,
   "metadata": {},
   "outputs": [
    {
     "data": {
      "text/plain": [
       "<matplotlib.collections.LineCollection at 0x11e2544e0>"
      ]
     },
     "execution_count": 91,
     "metadata": {},
     "output_type": "execute_result"
    },
    {
     "data": {
      "image/png": "[encoded data removed]",
      "text/plain": [
       "<Figure size 432x432 with 2 Axes>"
      ]
     },
     "metadata": {
      "needs_background": "light"
     },
     "output_type": "display_data"
    }
   ],
   "source": [
    "df = val_rmse.round(2)\n",
    "df = df.rename(mapper=mapper, axis='rows')\n",
    "df = df.loc[row_order, column_order]\n",
    "\n",
    "fig, ax = plt.subplots(1,1,figsize=(6,6))\n",
    "sns.heatmap(df, annot=True, cmap='viridis', cbar_kws={'label': r\"root-mean-square error\"}, ax=ax)\n",
    "\n",
    "ax.set_ylabel('Algorithm')\n",
    "ax.set_xlabel('Features Used')\n",
    "ax.hlines([1, 3, 5, 7], *ax.get_xlim(), linestyle=':', linewidth=2)\n",
    "# fig.savefig('../figures/algorithm_comparison.jpg', dpi=350, bbox_inches='tight')"
   ]
  },
  {
   "cell_type": "code",
   "execution_count": 92,
   "metadata": {},
   "outputs": [
    {
     "data": {
      "text/html": [
       "<div>\n",
       "<style scoped>\n",
       "    .dataframe tbody tr th:only-of-type {\n",
       "        vertical-align: middle;\n",
       "    }\n",
       "\n",
       "    .dataframe tbody tr th {\n",
       "        vertical-align: top;\n",
       "    }\n",
       "\n",
       "    .dataframe thead th {\n",
       "        text-align: right;\n",
       "    }\n",
       "</style>\n",
       "<table border=\"1\" class=\"dataframe\">\n",
       "  <thead>\n",
       "    <tr style=\"text-align: right;\">\n",
       "      <th></th>\n",
       "      <th>RDKit</th>\n",
       "      <th>1024ecfp-4</th>\n",
       "      <th>1024ecfp-6</th>\n",
       "      <th>2048ecfp-4</th>\n",
       "      <th>2048ecfp-6</th>\n",
       "      <th>1024ecfp-4 + RDKit</th>\n",
       "      <th>1024ecfp-6 + RDKit</th>\n",
       "      <th>2048ecfp-4 + RDKit</th>\n",
       "      <th>2048ecfp-6 + RDKit</th>\n",
       "    </tr>\n",
       "  </thead>\n",
       "  <tbody>\n",
       "    <tr>\n",
       "      <th>rf</th>\n",
       "      <td>0.97</td>\n",
       "      <td>2.74</td>\n",
       "      <td>2.72</td>\n",
       "      <td>2.74</td>\n",
       "      <td>2.71</td>\n",
       "      <td>1.13</td>\n",
       "      <td>1.10</td>\n",
       "      <td>1.10</td>\n",
       "      <td>1.06</td>\n",
       "    </tr>\n",
       "    <tr>\n",
       "      <th>xgb</th>\n",
       "      <td>0.78</td>\n",
       "      <td>2.55</td>\n",
       "      <td>2.36</td>\n",
       "      <td>2.17</td>\n",
       "      <td>2.44</td>\n",
       "      <td>0.86</td>\n",
       "      <td>1.00</td>\n",
       "      <td>0.98</td>\n",
       "      <td>0.99</td>\n",
       "    </tr>\n",
       "    <tr>\n",
       "      <th>krr</th>\n",
       "      <td>3.86</td>\n",
       "      <td>5.20</td>\n",
       "      <td>4.87</td>\n",
       "      <td>4.97</td>\n",
       "      <td>4.75</td>\n",
       "      <td>4.16</td>\n",
       "      <td>3.98</td>\n",
       "      <td>3.95</td>\n",
       "      <td>3.98</td>\n",
       "    </tr>\n",
       "  </tbody>\n",
       "</table>\n",
       "</div>"
      ],
      "text/plain": [
       "     RDKit  1024ecfp-4  1024ecfp-6  2048ecfp-4  2048ecfp-6  \\\n",
       "rf    0.97        2.74        2.72        2.74        2.71   \n",
       "xgb   0.78        2.55        2.36        2.17        2.44   \n",
       "krr   3.86        5.20        4.87        4.97        4.75   \n",
       "\n",
       "     1024ecfp-4 + RDKit  1024ecfp-6 + RDKit  2048ecfp-4 + RDKit  \\\n",
       "rf                 1.13                1.10                1.10   \n",
       "xgb                0.86                1.00                0.98   \n",
       "krr                4.16                3.98                3.95   \n",
       "\n",
       "     2048ecfp-6 + RDKit  \n",
       "rf                 1.06  \n",
       "xgb                0.99  \n",
       "krr                3.98  "
      ]
     },
     "execution_count": 92,
     "metadata": {},
     "output_type": "execute_result"
    }
   ],
   "source": [
    "## pull out validation scores for all features for all models (validation set is a test set when working on train/val split )\n",
    "test_rmse = - pd.DataFrame({features: {model: test_score[features][model]['test_RMSE'].mean() for model in cv_scores[features]} for features in cv_scores})\n",
    "test_rmse.round(2)"
   ]
  },
  {
   "cell_type": "code",
   "execution_count": 93,
   "metadata": {},
   "outputs": [
    {
     "data": {
      "text/plain": [
       "<matplotlib.collections.LineCollection at 0x11e481080>"
      ]
     },
     "execution_count": 93,
     "metadata": {},
     "output_type": "execute_result"
    },
    {
     "data": {
      "image/png": "[encoded data removed]",
      "text/plain": [
       "<Figure size 432x432 with 2 Axes>"
      ]
     },
     "metadata": {
      "needs_background": "light"
     },
     "output_type": "display_data"
    }
   ],
   "source": [
    "df = test_rmse.round(2)\n",
    "df = df.rename(mapper=mapper, axis='rows')\n",
    "df = df.loc[row_order, column_order]\n",
    "\n",
    "fig, ax = plt.subplots(1,1,figsize=(6,6))\n",
    "sns.heatmap(df, annot=True, cmap='viridis', cbar_kws={'label': r\"root-mean-square error\"}, ax=ax)\n",
    "\n",
    "ax.set_ylabel('Algorithm')\n",
    "ax.set_xlabel('Features Used')\n",
    "ax.hlines([1, 3, 5, 7], *ax.get_xlim(), linestyle=':', linewidth=2)\n",
    "# fig.savefig('../figures/algorithm_comparison.jpg', dpi=350, bbox_inches='tight')"
   ]
  },
  {
   "cell_type": "code",
   "execution_count": null,
   "metadata": {},
   "outputs": [],
   "source": []
  }
 ],
 "metadata": {
  "kernelspec": {
   "display_name": "Python [conda env:batch-msc] *",
   "language": "python",
   "name": "conda-env-batch-msc-py"
  },
  "language_info": {
   "codemirror_mode": {
    "name": "ipython",
    "version": 3
   },
   "file_extension": ".py",
   "mimetype": "text/x-python",
   "name": "python",
   "nbconvert_exporter": "python",
   "pygments_lexer": "ipython3",
   "version": "3.6.10"
  }
 },
 "nbformat": 4,
 "nbformat_minor": 4
}
