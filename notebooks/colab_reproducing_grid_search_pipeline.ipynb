{
 "cells": [
  {
   "cell_type": "markdown",
   "metadata": {
    "colab_type": "text",
    "id": "iwDYlLl8rOL4"
   },
   "source": [
    "# Setup (same everywhere)"
   ]
  },
  {
   "cell_type": "markdown",
   "metadata": {
    "colab_type": "text",
    "id": "jxzJYRinkNb2"
   },
   "source": [
    "## Mount Drive\n"
   ]
  },
  {
   "cell_type": "code",
   "execution_count": 1,
   "metadata": {
    "colab": {
     "base_uri": "https://localhost:8080/",
     "height": 122
    },
    "colab_type": "code",
    "executionInfo": {
     "elapsed": 42250,
     "status": "ok",
     "timestamp": 1595926467221,
     "user": {
      "displayName": "George Batchkala",
      "photoUrl": "",
      "userId": "17039292136363863281"
     },
     "user_tz": -180
    },
    "id": "-LxExBj9kQPk",
    "outputId": "cc3e40c8-070b-48a4-f161-f610d433ce54"
   },
   "outputs": [
    {
     "name": "stdout",
     "output_type": "stream",
     "text": [
      "Go to this URL in a browser: https://accounts.google.com/o/oauth2/auth?client_id=947318989803-6bn6qk8qdgf4n4g3pfee6491hc0brc4i.apps.googleusercontent.com&redirect_uri=urn%3aietf%3awg%3aoauth%3a2.0%3aoob&response_type=code&scope=email%20https%3a%2f%2fwww.googleapis.com%2fauth%2fdocs.test%20https%3a%2f%2fwww.googleapis.com%2fauth%2fdrive%20https%3a%2f%2fwww.googleapis.com%2fauth%2fdrive.photos.readonly%20https%3a%2f%2fwww.googleapis.com%2fauth%2fpeopleapi.readonly\n",
      "\n",
      "Enter your authorization code:\n",
      "··········\n",
      "Mounted at /content/drive\n"
     ]
    }
   ],
   "source": [
    "from google.colab import drive\n",
    "# drive.mount('/content/drive')"
   ]
  },
  {
   "cell_type": "code",
   "execution_count": 2,
   "metadata": {
    "colab": {
     "base_uri": "https://localhost:8080/",
     "height": 34
    },
    "colab_type": "code",
    "executionInfo": {
     "elapsed": 624,
     "status": "ok",
     "timestamp": 1595926474684,
     "user": {
      "displayName": "George Batchkala",
      "photoUrl": "",
      "userId": "17039292136363863281"
     },
     "user_tz": -180
    },
    "id": "UipGZAsTdu_d",
    "outputId": "aac6a0a1-1726-43a7-b1de-5394353a1ff8"
   },
   "outputs": [
    {
     "name": "stdout",
     "output_type": "stream",
     "text": [
      "/content/drive/My Drive/repositories/moleculenet/notebooks\n"
     ]
    }
   ],
   "source": [
    "%cd drive/'My Drive'/repositories/moleculenet/notebooks"
   ]
  },
  {
   "cell_type": "code",
   "execution_count": 1,
   "metadata": {
    "colab": {
     "base_uri": "https://localhost:8080/",
     "height": 119
    },
    "colab_type": "code",
    "executionInfo": {
     "elapsed": 4310,
     "status": "ok",
     "timestamp": 1595926480635,
     "user": {
      "displayName": "George Batchkala",
      "photoUrl": "",
      "userId": "17039292136363863281"
     },
     "user_tz": -180
    },
    "id": "KXdDhDGgeIeq",
    "outputId": "2bc472ea-1a89-4c15-dabf-944ab8517950"
   },
   "outputs": [
    {
     "name": "stdout",
     "output_type": "stream",
     "text": [
      "colab_RF_CIs_on_fingerprints_initial.ipynb\r\n",
      "colab_extended_grid_search_pipeline.ipynb\r\n",
      "colab_reproducing_grid_search_pipeline.ipynb\r\n",
      "get_protenated_from_canonical.ipynb\r\n",
      "visualise_grid_search_results.ipynb\r\n",
      "visualise_reproducing_grid_search_results.ipynb\r\n"
     ]
    }
   ],
   "source": [
    "%ls"
   ]
  },
  {
   "cell_type": "code",
   "execution_count": 2,
   "metadata": {
    "colab": {
     "base_uri": "https://localhost:8080/",
     "height": 442
    },
    "colab_type": "code",
    "executionInfo": {
     "elapsed": 6250,
     "status": "ok",
     "timestamp": 1595926491919,
     "user": {
      "displayName": "George Batchkala",
      "photoUrl": "",
      "userId": "17039292136363863281"
     },
     "user_tz": -180
    },
    "id": "pKc-Tl2jKRz3",
    "outputId": "fe7a4821-9f20-48da-aacc-b10274e38ef7"
   },
   "outputs": [
    {
     "name": "stdout",
     "output_type": "stream",
     "text": [
      "ESOL_README\r\n",
      "FreeSolv_README\r\n",
      "Lipo_README\r\n",
      "esol_original.csv\r\n",
      "esol_original_1024ecfp4_features.csv\r\n",
      "esol_original_1024ecfp6_features.csv\r\n",
      "esol_original_2048ecfp4_features.csv\r\n",
      "esol_original_2048ecfp6_features.csv\r\n",
      "esol_original_IdSmilesLabels.csv\r\n",
      "esol_original_extra_features.csv\r\n",
      "esol_original_rdkit_features.csv\r\n",
      "freesolv_original.csv\r\n",
      "freesolv_original_1024ecfp4_features.csv\r\n",
      "freesolv_original_1024ecfp6_features.csv\r\n",
      "freesolv_original_2048ecfp4_features.csv\r\n",
      "freesolv_original_2048ecfp6_features.csv\r\n",
      "freesolv_original_IdSmilesLabels.csv\r\n",
      "freesolv_original_rdkit_features.csv\r\n",
      "lipophilicity_original.csv\r\n",
      "lipophilicity_original_1024ecfp4_features.csv\r\n",
      "lipophilicity_original_1024ecfp6_features.csv\r\n",
      "lipophilicity_original_2048ecfp4_features.csv\r\n",
      "lipophilicity_original_2048ecfp6_features.csv\r\n",
      "lipophilicity_original_IdSmilesLabels.csv\r\n",
      "lipophilicity_original_rdkit_features.csv\r\n"
     ]
    }
   ],
   "source": [
    "%ls ../data/"
   ]
  },
  {
   "cell_type": "markdown",
   "metadata": {
    "colab_type": "text",
    "id": "cG9tpt04e0iN"
   },
   "source": [
    "## Import modules"
   ]
  },
  {
   "cell_type": "code",
   "execution_count": 3,
   "metadata": {
    "colab": {},
    "colab_type": "code",
    "executionInfo": {
     "elapsed": 1835,
     "status": "ok",
     "timestamp": 1595926537134,
     "user": {
      "displayName": "George Batchkala",
      "photoUrl": "",
      "userId": "17039292136363863281"
     },
     "user_tz": -180
    },
    "id": "sjl-QAB5e4I3"
   },
   "outputs": [],
   "source": [
    "import warnings\n",
    "warnings.filterwarnings('ignore')\n",
    "\n",
    "# saving models\n",
    "import json\n",
    "import pickle\n",
    "\n",
    "# standard modules\n",
    "import numpy as np\n",
    "import pandas as pd\n",
    "import matplotlib.pyplot as plt\n",
    "\n",
    "# metrics\n",
    "from scipy.stats import pearsonr\n",
    "from sklearn.metrics import r2_score\n",
    "from sklearn.metrics import mean_squared_error\n",
    "from sklearn.metrics import mean_absolute_error\n",
    "from sklearn.metrics import jaccard_score # Tanimoto\n",
    "\n",
    "# making custom metrics\n",
    "from sklearn.metrics import make_scorer\n",
    "\n",
    "# model selection\n",
    "from sklearn.model_selection import train_test_split\n",
    "from sklearn.model_selection import ShuffleSplit, StratifiedShuffleSplit\n",
    "from sklearn.model_selection import RandomizedSearchCV, GridSearchCV\n",
    "from sklearn.model_selection import cross_val_score, cross_validate, cross_val_predict\n",
    "\n",
    "# preprocessing\n",
    "from sklearn.feature_selection import VarianceThreshold # to remove zero-var features\n",
    "from sklearn.preprocessing import MinMaxScaler, Normalizer, StandardScaler\n",
    "\n",
    "# models\n",
    "from sklearn.linear_model import LinearRegression\n",
    "from sklearn.linear_model import ElasticNetCV, ElasticNet\n",
    "from sklearn.ensemble import RandomForestRegressor\n",
    "\n",
    "from xgboost import XGBRegressor\n",
    "from sklearn.ensemble import AdaBoostRegressor\n",
    "from sklearn.ensemble import GradientBoostingRegressor\n",
    "\n",
    "from sklearn.neural_network import MLPRegressor\n",
    "\n",
    "from sklearn.kernel_ridge import KernelRidge\n",
    "\n",
    "from sklearn.gaussian_process import GaussianProcessRegressor\n",
    "from sklearn.gaussian_process.kernels import WhiteKernel, ConstantKernel\n",
    "from sklearn.gaussian_process.kernels import RBF, Matern, DotProduct\n",
    "\n",
    "# pipelines\n",
    "# https://scikit-learn.org/stable/modules/compose.html#combining-estimators\n",
    "from sklearn.pipeline import make_pipeline, Pipeline"
   ]
  },
  {
   "cell_type": "code",
   "execution_count": 4,
   "metadata": {
    "colab": {
     "base_uri": "https://localhost:8080/",
     "height": 34
    },
    "colab_type": "code",
    "executionInfo": {
     "elapsed": 600,
     "status": "ok",
     "timestamp": 1595926539136,
     "user": {
      "displayName": "George Batchkala",
      "photoUrl": "",
      "userId": "17039292136363863281"
     },
     "user_tz": -180
    },
    "id": "sdLWt3y9rOMc",
    "outputId": "453cbfcd-dba9-4932-df08-5650d7077cff"
   },
   "outputs": [
    {
     "name": "stdout",
     "output_type": "stream",
     "text": [
      "0.23.1\n"
     ]
    }
   ],
   "source": [
    "import sklearn\n",
    "print(sklearn.__version__)"
   ]
  },
  {
   "cell_type": "code",
   "execution_count": 5,
   "metadata": {
    "colab": {
     "base_uri": "https://localhost:8080/",
     "height": 395
    },
    "colab_type": "code",
    "executionInfo": {
     "elapsed": 15529,
     "status": "ok",
     "timestamp": 1595926556878,
     "user": {
      "displayName": "George Batchkala",
      "photoUrl": "",
      "userId": "17039292136363863281"
     },
     "user_tz": -180
    },
    "id": "vRtAyn4qrOMg",
    "outputId": "108b33cf-e474-48cd-ee7c-a42717a75bc1"
   },
   "outputs": [
    {
     "name": "stderr",
     "output_type": "stream",
     "text": [
      "Failed to import duecredit due to No module named 'duecredit'\n"
     ]
    }
   ],
   "source": [
    "try:\n",
    "    import forestci as fci\n",
    "except ImportError as e:\n",
    "    ! pip install forestci\n",
    "    import forestci as fci"
   ]
  },
  {
   "cell_type": "code",
   "execution_count": 6,
   "metadata": {
    "colab": {
     "base_uri": "https://localhost:8080/",
     "height": 51
    },
    "colab_type": "code",
    "executionInfo": {
     "elapsed": 13638,
     "status": "ok",
     "timestamp": 1595926556879,
     "user": {
      "displayName": "George Batchkala",
      "photoUrl": "",
      "userId": "17039292136363863281"
     },
     "user_tz": -180
    },
    "id": "xQR-Ysl2wIuu",
    "outputId": "4483ab1c-a5b9-422c-877c-682eb32aeab4"
   },
   "outputs": [
    {
     "name": "stdout",
     "output_type": "stream",
     "text": [
      "sklearn.__version__ : 0.23.1\n",
      "fci.__version__ : 0.3\n"
     ]
    }
   ],
   "source": [
    "print('sklearn.__version__ :', sklearn.__version__)\n",
    "print('fci.__version__ :', fci.__version__)"
   ]
  },
  {
   "cell_type": "markdown",
   "metadata": {
    "colab_type": "text",
    "id": "daKbVAugrOMs"
   },
   "source": [
    "## Set plotting style"
   ]
  },
  {
   "cell_type": "code",
   "execution_count": 7,
   "metadata": {
    "colab": {},
    "colab_type": "code",
    "executionInfo": {
     "elapsed": 8853,
     "status": "ok",
     "timestamp": 1595926556882,
     "user": {
      "displayName": "George Batchkala",
      "photoUrl": "",
      "userId": "17039292136363863281"
     },
     "user_tz": -180
    },
    "id": "wEF0rQL3rOMt"
   },
   "outputs": [],
   "source": [
    "%matplotlib inline\n",
    "plt.style.use('fivethirtyeight')\n",
    "\n",
    "plt.rcParams['axes.facecolor']='w'\n",
    "#plt.rcParams['axes.linewidth']=1\n",
    "plt.rcParams['axes.edgecolor']='w'\n",
    "plt.rcParams['figure.facecolor']='w'\n",
    "plt.rcParams['savefig.facecolor']='w'\n",
    "#plt.rcParams['grid.color']='white'"
   ]
  },
  {
   "cell_type": "markdown",
   "metadata": {
    "colab_type": "text",
    "id": "o4r2WevweR5i"
   },
   "source": [
    "# Load Data (same everywhere)"
   ]
  },
  {
   "cell_type": "markdown",
   "metadata": {
    "colab_type": "text",
    "id": "K-fg6Gq6qt8p"
   },
   "source": [
    "## CHOOSE: dataset, smile_type"
   ]
  },
  {
   "cell_type": "code",
   "execution_count": 8,
   "metadata": {
    "colab": {},
    "colab_type": "code",
    "executionInfo": {
     "elapsed": 7482,
     "status": "ok",
     "timestamp": 1595926556883,
     "user": {
      "displayName": "George Batchkala",
      "photoUrl": "",
      "userId": "17039292136363863281"
     },
     "user_tz": -180
    },
    "id": "DmVtuXvrrOMx"
   },
   "outputs": [],
   "source": [
    "dataset = 'freesolv'\n",
    "smile_type = 'original'\n",
    "\n",
    "# READONLY\n",
    "\n",
    "# small to large datasets\n",
    "assert dataset in ['freesolv', 'esol', 'lipophilicity']\n",
    "assert smile_type in ['original', 'protonated']"
   ]
  },
  {
   "cell_type": "markdown",
   "metadata": {
    "colab_type": "text",
    "id": "1PIRIaAszL4P"
   },
   "source": [
    "## Load Features and Targets"
   ]
  },
  {
   "cell_type": "markdown",
   "metadata": {
    "colab_type": "text",
    "id": "0j-LrNtiVaEG"
   },
   "source": [
    "Leave all features here so setup and Load and prepare data are the same everywhere."
   ]
  },
  {
   "cell_type": "code",
   "execution_count": 9,
   "metadata": {
    "colab": {},
    "colab_type": "code",
    "executionInfo": {
     "elapsed": 7811,
     "status": "ok",
     "timestamp": 1595926559114,
     "user": {
      "displayName": "George Batchkala",
      "photoUrl": "",
      "userId": "17039292136363863281"
     },
     "user_tz": -180
    },
    "id": "xmL5nV-BeOcC"
   },
   "outputs": [],
   "source": [
    "# original data\n",
    "id_smile_target = pd.read_csv(f'../data/{dataset}_{smile_type}_IdSmilesLabels.csv', index_col=0)\n",
    "\n",
    "# features\n",
    "rdkit_features = pd.read_csv(f'../data/{dataset}_{smile_type}_rdkit_features.csv', index_col=0)\n",
    "\n",
    "ecfp4_1024_features = pd.read_csv(f'../data/{dataset}_{smile_type}_1024ecfp4_features.csv', index_col=0)\n",
    "ecfp6_1024_features = pd.read_csv(f'../data/{dataset}_{smile_type}_1024ecfp6_features.csv', index_col=0)\n",
    "\n",
    "ecfp4_2048_features = pd.read_csv(f'../data/{dataset}_{smile_type}_2048ecfp4_features.csv', index_col=0)\n",
    "ecfp6_2048_features = pd.read_csv(f'../data/{dataset}_{smile_type}_2048ecfp6_features.csv', index_col=0)\n",
    "\n",
    "# load target\n",
    "labels = id_smile_target['labels']"
   ]
  },
  {
   "cell_type": "code",
   "execution_count": 12,
   "metadata": {
    "colab": {
     "base_uri": "https://localhost:8080/",
     "height": 119
    },
    "colab_type": "code",
    "executionInfo": {
     "elapsed": 5569,
     "status": "ok",
     "timestamp": 1595926559117,
     "user": {
      "displayName": "George Batchkala",
      "photoUrl": "",
      "userId": "17039292136363863281"
     },
     "user_tz": -180
    },
    "id": "1XSkUqI-rONB",
    "outputId": "a231c87c-4f60-4a3d-a303-431d74197a64"
   },
   "outputs": [
    {
     "name": "stdout",
     "output_type": "stream",
     "text": [
      "rdkit_features.shape:       (642, 200)\n",
      "ecfp4_1024_features.shape:  (642, 1024)\n",
      "ecfp6_1024_features.shape:  (642, 1024)\n",
      "ecfp4_2048_features.shape:  (642, 2048)\n",
      "ecfp6_2048_features.shape:  (642, 2048)\n",
      "labels.shape:               (642,)\n"
     ]
    }
   ],
   "source": [
    "print('rdkit_features.shape:      ', rdkit_features.shape)\n",
    "print('ecfp4_1024_features.shape: ', ecfp4_1024_features.shape)\n",
    "print('ecfp6_1024_features.shape: ', ecfp6_1024_features.shape)\n",
    "print('ecfp4_2048_features.shape: ', ecfp4_2048_features.shape)\n",
    "print('ecfp6_2048_features.shape: ', ecfp6_2048_features.shape)\n",
    "print('labels.shape:              ', labels.shape)"
   ]
  },
  {
   "cell_type": "code",
   "execution_count": 14,
   "metadata": {},
   "outputs": [
    {
     "name": "stdout",
     "output_type": "stream",
     "text": [
      "MaxEStateIndex\n",
      "MinEStateIndex\n",
      "MaxAbsEStateIndex\n",
      "MinAbsEStateIndex\n",
      "qed\n",
      "MolWt\n",
      "HeavyAtomMolWt\n",
      "ExactMolWt\n",
      "NumValenceElectrons\n",
      "NumRadicalElectrons\n",
      "MaxPartialCharge\n",
      "MinPartialCharge\n",
      "MaxAbsPartialCharge\n",
      "MinAbsPartialCharge\n",
      "FpDensityMorgan1\n",
      "FpDensityMorgan2\n",
      "FpDensityMorgan3\n",
      "BalabanJ\n",
      "BertzCT\n",
      "Chi0\n",
      "Chi0n\n",
      "Chi0v\n",
      "Chi1\n",
      "Chi1n\n",
      "Chi1v\n",
      "Chi2n\n",
      "Chi2v\n",
      "Chi3n\n",
      "Chi3v\n",
      "Chi4n\n",
      "Chi4v\n",
      "HallKierAlpha\n",
      "Ipc\n",
      "Kappa1\n",
      "Kappa2\n",
      "Kappa3\n",
      "LabuteASA\n",
      "PEOE_VSA1\n",
      "PEOE_VSA10\n",
      "PEOE_VSA11\n",
      "PEOE_VSA12\n",
      "PEOE_VSA13\n",
      "PEOE_VSA14\n",
      "PEOE_VSA2\n",
      "PEOE_VSA3\n",
      "PEOE_VSA4\n",
      "PEOE_VSA5\n",
      "PEOE_VSA6\n",
      "PEOE_VSA7\n",
      "PEOE_VSA8\n",
      "PEOE_VSA9\n",
      "SMR_VSA1\n",
      "SMR_VSA10\n",
      "SMR_VSA2\n",
      "SMR_VSA3\n",
      "SMR_VSA4\n",
      "SMR_VSA5\n",
      "SMR_VSA6\n",
      "SMR_VSA7\n",
      "SMR_VSA8\n",
      "SMR_VSA9\n",
      "SlogP_VSA1\n",
      "SlogP_VSA10\n",
      "SlogP_VSA11\n",
      "SlogP_VSA12\n",
      "SlogP_VSA2\n",
      "SlogP_VSA3\n",
      "SlogP_VSA4\n",
      "SlogP_VSA5\n",
      "SlogP_VSA6\n",
      "SlogP_VSA7\n",
      "SlogP_VSA8\n",
      "SlogP_VSA9\n",
      "TPSA\n",
      "EState_VSA1\n",
      "EState_VSA10\n",
      "EState_VSA11\n",
      "EState_VSA2\n",
      "EState_VSA3\n",
      "EState_VSA4\n",
      "EState_VSA5\n",
      "EState_VSA6\n",
      "EState_VSA7\n",
      "EState_VSA8\n",
      "EState_VSA9\n",
      "VSA_EState1\n",
      "VSA_EState10\n",
      "VSA_EState2\n",
      "VSA_EState3\n",
      "VSA_EState4\n",
      "VSA_EState5\n",
      "VSA_EState6\n",
      "VSA_EState7\n",
      "VSA_EState8\n",
      "VSA_EState9\n",
      "FractionCSP3\n",
      "HeavyAtomCount\n",
      "NHOHCount\n",
      "NOCount\n",
      "NumAliphaticCarbocycles\n",
      "NumAliphaticHeterocycles\n",
      "NumAliphaticRings\n",
      "NumAromaticCarbocycles\n",
      "NumAromaticHeterocycles\n",
      "NumAromaticRings\n",
      "NumHAcceptors\n",
      "NumHDonors\n",
      "NumHeteroatoms\n",
      "NumRotatableBonds\n",
      "NumSaturatedCarbocycles\n",
      "NumSaturatedHeterocycles\n",
      "NumSaturatedRings\n",
      "RingCount\n",
      "MolLogP\n",
      "MolMR\n",
      "fr_Al_COO\n",
      "fr_Al_OH\n",
      "fr_Al_OH_noTert\n",
      "fr_ArN\n",
      "fr_Ar_COO\n",
      "fr_Ar_N\n",
      "fr_Ar_NH\n",
      "fr_Ar_OH\n",
      "fr_COO\n",
      "fr_COO2\n",
      "fr_C_O\n",
      "fr_C_O_noCOO\n",
      "fr_C_S\n",
      "fr_HOCCN\n",
      "fr_Imine\n",
      "fr_NH0\n",
      "fr_NH1\n",
      "fr_NH2\n",
      "fr_N_O\n",
      "fr_Ndealkylation1\n",
      "fr_Ndealkylation2\n",
      "fr_Nhpyrrole\n",
      "fr_SH\n",
      "fr_aldehyde\n",
      "fr_alkyl_carbamate\n",
      "fr_alkyl_halide\n",
      "fr_allylic_oxid\n",
      "fr_amide\n",
      "fr_amidine\n",
      "fr_aniline\n",
      "fr_aryl_methyl\n",
      "fr_azide\n",
      "fr_azo\n",
      "fr_barbitur\n",
      "fr_benzene\n",
      "fr_benzodiazepine\n",
      "fr_bicyclic\n",
      "fr_diazo\n",
      "fr_dihydropyridine\n",
      "fr_epoxide\n",
      "fr_ester\n",
      "fr_ether\n",
      "fr_furan\n",
      "fr_guanido\n",
      "fr_halogen\n",
      "fr_hdrzine\n",
      "fr_hdrzone\n",
      "fr_imidazole\n",
      "fr_imide\n",
      "fr_isocyan\n",
      "fr_isothiocyan\n",
      "fr_ketone\n",
      "fr_ketone_Topliss\n",
      "fr_lactam\n",
      "fr_lactone\n",
      "fr_methoxy\n",
      "fr_morpholine\n",
      "fr_nitrile\n",
      "fr_nitro\n",
      "fr_nitro_arom\n",
      "fr_nitro_arom_nonortho\n",
      "fr_nitroso\n",
      "fr_oxazole\n",
      "fr_oxime\n",
      "fr_para_hydroxylation\n",
      "fr_phenol\n",
      "fr_phenol_noOrthoHbond\n",
      "fr_phos_acid\n",
      "fr_phos_ester\n",
      "fr_piperdine\n",
      "fr_piperzine\n",
      "fr_priamide\n",
      "fr_prisulfonamd\n",
      "fr_pyridine\n",
      "fr_quatN\n",
      "fr_sulfide\n",
      "fr_sulfonamd\n",
      "fr_sulfone\n",
      "fr_term_acetylene\n",
      "fr_tetrazole\n",
      "fr_thiazole\n",
      "fr_thiocyan\n",
      "fr_thiophene\n",
      "fr_unbrch_alkane\n",
      "fr_urea\n"
     ]
    }
   ],
   "source": [
    "for name in rdkit_features.columns:\n",
    "    print(name)"
   ]
  },
  {
   "cell_type": "code",
   "execution_count": 13,
   "metadata": {
    "colab": {
     "base_uri": "https://localhost:8080/",
     "height": 136
    },
    "colab_type": "code",
    "executionInfo": {
     "elapsed": 5141,
     "status": "ok",
     "timestamp": 1595926559118,
     "user": {
      "displayName": "George Batchkala",
      "photoUrl": "",
      "userId": "17039292136363863281"
     },
     "user_tz": -180
    },
    "id": "r6LtAy9jzToO",
    "outputId": "5a439422-2fc0-4a77-9c9e-ca6352a5a3cf"
   },
   "outputs": [
    {
     "data": {
      "text/plain": [
       "id\n",
       "4-methoxy-N,N-dimethyl-benzamide   -11.01\n",
       "methanesulfonyl chloride            -4.87\n",
       "3-methylbut-1-ene                    1.83\n",
       "2-ethylpyrazine                     -5.45\n",
       "heptan-1-ol                         -4.21\n",
       "Name: labels, dtype: float64"
      ]
     },
     "execution_count": 13,
     "metadata": {
      "tags": []
     },
     "output_type": "execute_result"
    }
   ],
   "source": [
    "labels.head()"
   ]
  },
  {
   "cell_type": "markdown",
   "metadata": {
    "colab_type": "text",
    "id": "vH3i_hYSV8Tc"
   },
   "source": [
    "## Create one DataFrame with all features"
   ]
  },
  {
   "cell_type": "code",
   "execution_count": 14,
   "metadata": {
    "colab": {},
    "colab_type": "code",
    "executionInfo": {
     "elapsed": 4054,
     "status": "ok",
     "timestamp": 1595926559119,
     "user": {
      "displayName": "George Batchkala",
      "photoUrl": "",
      "userId": "17039292136363863281"
     },
     "user_tz": -180
    },
    "id": "mR3iubyprONg"
   },
   "outputs": [],
   "source": [
    "all_features = pd.concat([rdkit_features,\n",
    "                          ecfp4_1024_features, ecfp6_1024_features,\n",
    "                          ecfp4_2048_features, ecfp6_2048_features],\n",
    "                         axis='columns')"
   ]
  },
  {
   "cell_type": "code",
   "execution_count": 15,
   "metadata": {
    "colab": {
     "base_uri": "https://localhost:8080/",
     "height": 34
    },
    "colab_type": "code",
    "executionInfo": {
     "elapsed": 3444,
     "status": "ok",
     "timestamp": 1595926559119,
     "user": {
      "displayName": "George Batchkala",
      "photoUrl": "",
      "userId": "17039292136363863281"
     },
     "user_tz": -180
    },
    "id": "HyDTS2G3rONj",
    "outputId": "6f68b803-236d-40a2-a118-5cb19f49e74b"
   },
   "outputs": [
    {
     "data": {
      "text/plain": [
       "(642, 6344)"
      ]
     },
     "execution_count": 15,
     "metadata": {
      "tags": []
     },
     "output_type": "execute_result"
    }
   ],
   "source": [
    "all_features.shape"
   ]
  },
  {
   "cell_type": "code",
   "execution_count": 16,
   "metadata": {
    "colab": {
     "base_uri": "https://localhost:8080/",
     "height": 338
    },
    "colab_type": "code",
    "executionInfo": {
     "elapsed": 2839,
     "status": "ok",
     "timestamp": 1595926559120,
     "user": {
      "displayName": "George Batchkala",
      "photoUrl": "",
      "userId": "17039292136363863281"
     },
     "user_tz": -180
    },
    "id": "gOJ28OUyrONm",
    "outputId": "a577cdc4-bbc2-47ff-a2fa-745727d7d300"
   },
   "outputs": [
    {
     "data": {
      "text/html": [
       "<div>\n",
       "<style scoped>\n",
       "    .dataframe tbody tr th:only-of-type {\n",
       "        vertical-align: middle;\n",
       "    }\n",
       "\n",
       "    .dataframe tbody tr th {\n",
       "        vertical-align: top;\n",
       "    }\n",
       "\n",
       "    .dataframe thead th {\n",
       "        text-align: right;\n",
       "    }\n",
       "</style>\n",
       "<table border=\"1\" class=\"dataframe\">\n",
       "  <thead>\n",
       "    <tr style=\"text-align: right;\">\n",
       "      <th></th>\n",
       "      <th>MaxEStateIndex</th>\n",
       "      <th>MinEStateIndex</th>\n",
       "      <th>MaxAbsEStateIndex</th>\n",
       "      <th>MinAbsEStateIndex</th>\n",
       "      <th>qed</th>\n",
       "      <th>MolWt</th>\n",
       "      <th>HeavyAtomMolWt</th>\n",
       "      <th>ExactMolWt</th>\n",
       "      <th>NumValenceElectrons</th>\n",
       "      <th>NumRadicalElectrons</th>\n",
       "      <th>MaxPartialCharge</th>\n",
       "      <th>MinPartialCharge</th>\n",
       "      <th>MaxAbsPartialCharge</th>\n",
       "      <th>MinAbsPartialCharge</th>\n",
       "      <th>FpDensityMorgan1</th>\n",
       "      <th>FpDensityMorgan2</th>\n",
       "      <th>FpDensityMorgan3</th>\n",
       "      <th>BalabanJ</th>\n",
       "      <th>BertzCT</th>\n",
       "      <th>Chi0</th>\n",
       "      <th>Chi0n</th>\n",
       "      <th>Chi0v</th>\n",
       "      <th>Chi1</th>\n",
       "      <th>Chi1n</th>\n",
       "      <th>Chi1v</th>\n",
       "      <th>Chi2n</th>\n",
       "      <th>Chi2v</th>\n",
       "      <th>Chi3n</th>\n",
       "      <th>Chi3v</th>\n",
       "      <th>Chi4n</th>\n",
       "      <th>Chi4v</th>\n",
       "      <th>HallKierAlpha</th>\n",
       "      <th>Ipc</th>\n",
       "      <th>Kappa1</th>\n",
       "      <th>Kappa2</th>\n",
       "      <th>Kappa3</th>\n",
       "      <th>LabuteASA</th>\n",
       "      <th>PEOE_VSA1</th>\n",
       "      <th>PEOE_VSA10</th>\n",
       "      <th>PEOE_VSA11</th>\n",
       "      <th>...</th>\n",
       "      <th>2048ecfp6-2008</th>\n",
       "      <th>2048ecfp6-2009</th>\n",
       "      <th>2048ecfp6-2010</th>\n",
       "      <th>2048ecfp6-2011</th>\n",
       "      <th>2048ecfp6-2012</th>\n",
       "      <th>2048ecfp6-2013</th>\n",
       "      <th>2048ecfp6-2014</th>\n",
       "      <th>2048ecfp6-2015</th>\n",
       "      <th>2048ecfp6-2016</th>\n",
       "      <th>2048ecfp6-2017</th>\n",
       "      <th>2048ecfp6-2018</th>\n",
       "      <th>2048ecfp6-2019</th>\n",
       "      <th>2048ecfp6-2020</th>\n",
       "      <th>2048ecfp6-2021</th>\n",
       "      <th>2048ecfp6-2022</th>\n",
       "      <th>2048ecfp6-2023</th>\n",
       "      <th>2048ecfp6-2024</th>\n",
       "      <th>2048ecfp6-2025</th>\n",
       "      <th>2048ecfp6-2026</th>\n",
       "      <th>2048ecfp6-2027</th>\n",
       "      <th>2048ecfp6-2028</th>\n",
       "      <th>2048ecfp6-2029</th>\n",
       "      <th>2048ecfp6-2030</th>\n",
       "      <th>2048ecfp6-2031</th>\n",
       "      <th>2048ecfp6-2032</th>\n",
       "      <th>2048ecfp6-2033</th>\n",
       "      <th>2048ecfp6-2034</th>\n",
       "      <th>2048ecfp6-2035</th>\n",
       "      <th>2048ecfp6-2036</th>\n",
       "      <th>2048ecfp6-2037</th>\n",
       "      <th>2048ecfp6-2038</th>\n",
       "      <th>2048ecfp6-2039</th>\n",
       "      <th>2048ecfp6-2040</th>\n",
       "      <th>2048ecfp6-2041</th>\n",
       "      <th>2048ecfp6-2042</th>\n",
       "      <th>2048ecfp6-2043</th>\n",
       "      <th>2048ecfp6-2044</th>\n",
       "      <th>2048ecfp6-2045</th>\n",
       "      <th>2048ecfp6-2046</th>\n",
       "      <th>2048ecfp6-2047</th>\n",
       "    </tr>\n",
       "  </thead>\n",
       "  <tbody>\n",
       "    <tr>\n",
       "      <th>4-methoxy-N,N-dimethyl-benzamide</th>\n",
       "      <td>12.428170</td>\n",
       "      <td>-3.458874</td>\n",
       "      <td>12.428170</td>\n",
       "      <td>0.519264</td>\n",
       "      <td>0.686360</td>\n",
       "      <td>179.219</td>\n",
       "      <td>166.115</td>\n",
       "      <td>179.094629</td>\n",
       "      <td>70.0</td>\n",
       "      <td>0.0</td>\n",
       "      <td>0.252836</td>\n",
       "      <td>-0.496768</td>\n",
       "      <td>0.496768</td>\n",
       "      <td>0.252836</td>\n",
       "      <td>1.384615</td>\n",
       "      <td>2.076923</td>\n",
       "      <td>2.615385</td>\n",
       "      <td>3.675580</td>\n",
       "      <td>674.590985</td>\n",
       "      <td>20.825909</td>\n",
       "      <td>19.263710</td>\n",
       "      <td>6.263710</td>\n",
       "      <td>11.392570</td>\n",
       "      <td>9.533193</td>\n",
       "      <td>3.033193</td>\n",
       "      <td>1.946749</td>\n",
       "      <td>1.946749</td>\n",
       "      <td>1.121080</td>\n",
       "      <td>1.121080</td>\n",
       "      <td>0.570798</td>\n",
       "      <td>0.570798</td>\n",
       "      <td>-1.51</td>\n",
       "      <td>110210.129799</td>\n",
       "      <td>2.108111</td>\n",
       "      <td>3.937360</td>\n",
       "      <td>2.211653</td>\n",
       "      <td>96.190689</td>\n",
       "      <td>9.636773</td>\n",
       "      <td>5.749512</td>\n",
       "      <td>0.0</td>\n",
       "      <td>...</td>\n",
       "      <td>0</td>\n",
       "      <td>0</td>\n",
       "      <td>0</td>\n",
       "      <td>0</td>\n",
       "      <td>0</td>\n",
       "      <td>0</td>\n",
       "      <td>0</td>\n",
       "      <td>0</td>\n",
       "      <td>0</td>\n",
       "      <td>0</td>\n",
       "      <td>0</td>\n",
       "      <td>0</td>\n",
       "      <td>0</td>\n",
       "      <td>0</td>\n",
       "      <td>0</td>\n",
       "      <td>0</td>\n",
       "      <td>0</td>\n",
       "      <td>0</td>\n",
       "      <td>0</td>\n",
       "      <td>0</td>\n",
       "      <td>0</td>\n",
       "      <td>0</td>\n",
       "      <td>0</td>\n",
       "      <td>0</td>\n",
       "      <td>0</td>\n",
       "      <td>0</td>\n",
       "      <td>0</td>\n",
       "      <td>0</td>\n",
       "      <td>0</td>\n",
       "      <td>0</td>\n",
       "      <td>0</td>\n",
       "      <td>0</td>\n",
       "      <td>0</td>\n",
       "      <td>0</td>\n",
       "      <td>0</td>\n",
       "      <td>0</td>\n",
       "      <td>0</td>\n",
       "      <td>0</td>\n",
       "      <td>0</td>\n",
       "      <td>0</td>\n",
       "    </tr>\n",
       "    <tr>\n",
       "      <th>methanesulfonyl chloride</th>\n",
       "      <td>9.855710</td>\n",
       "      <td>-4.368056</td>\n",
       "      <td>9.855710</td>\n",
       "      <td>3.074846</td>\n",
       "      <td>0.421427</td>\n",
       "      <td>114.553</td>\n",
       "      <td>111.529</td>\n",
       "      <td>113.954228</td>\n",
       "      <td>32.0</td>\n",
       "      <td>0.0</td>\n",
       "      <td>0.229212</td>\n",
       "      <td>-0.212518</td>\n",
       "      <td>0.229212</td>\n",
       "      <td>0.212518</td>\n",
       "      <td>2.000000</td>\n",
       "      <td>2.200000</td>\n",
       "      <td>2.200000</td>\n",
       "      <td>4.534785</td>\n",
       "      <td>166.212669</td>\n",
       "      <td>7.000000</td>\n",
       "      <td>5.102709</td>\n",
       "      <td>3.675135</td>\n",
       "      <td>3.250000</td>\n",
       "      <td>2.191761</td>\n",
       "      <td>3.001103</td>\n",
       "      <td>0.437848</td>\n",
       "      <td>2.532383</td>\n",
       "      <td>0.000000</td>\n",
       "      <td>0.000000</td>\n",
       "      <td>0.000000</td>\n",
       "      <td>0.000000</td>\n",
       "      <td>0.24</td>\n",
       "      <td>21.306059</td>\n",
       "      <td>1.797156</td>\n",
       "      <td>1.143107</td>\n",
       "      <td>369.351111</td>\n",
       "      <td>39.386630</td>\n",
       "      <td>0.000000</td>\n",
       "      <td>0.000000</td>\n",
       "      <td>0.0</td>\n",
       "      <td>...</td>\n",
       "      <td>0</td>\n",
       "      <td>0</td>\n",
       "      <td>0</td>\n",
       "      <td>0</td>\n",
       "      <td>0</td>\n",
       "      <td>0</td>\n",
       "      <td>0</td>\n",
       "      <td>0</td>\n",
       "      <td>0</td>\n",
       "      <td>0</td>\n",
       "      <td>0</td>\n",
       "      <td>0</td>\n",
       "      <td>0</td>\n",
       "      <td>0</td>\n",
       "      <td>0</td>\n",
       "      <td>0</td>\n",
       "      <td>0</td>\n",
       "      <td>0</td>\n",
       "      <td>0</td>\n",
       "      <td>0</td>\n",
       "      <td>0</td>\n",
       "      <td>0</td>\n",
       "      <td>0</td>\n",
       "      <td>0</td>\n",
       "      <td>0</td>\n",
       "      <td>0</td>\n",
       "      <td>0</td>\n",
       "      <td>0</td>\n",
       "      <td>0</td>\n",
       "      <td>0</td>\n",
       "      <td>0</td>\n",
       "      <td>0</td>\n",
       "      <td>0</td>\n",
       "      <td>0</td>\n",
       "      <td>0</td>\n",
       "      <td>0</td>\n",
       "      <td>0</td>\n",
       "      <td>0</td>\n",
       "      <td>0</td>\n",
       "      <td>0</td>\n",
       "    </tr>\n",
       "    <tr>\n",
       "      <th>3-methylbut-1-ene</th>\n",
       "      <td>7.349537</td>\n",
       "      <td>-3.289005</td>\n",
       "      <td>7.349537</td>\n",
       "      <td>1.280324</td>\n",
       "      <td>0.412737</td>\n",
       "      <td>70.135</td>\n",
       "      <td>60.055</td>\n",
       "      <td>70.078250</td>\n",
       "      <td>30.0</td>\n",
       "      <td>0.0</td>\n",
       "      <td>0.057236</td>\n",
       "      <td>-0.102824</td>\n",
       "      <td>0.102824</td>\n",
       "      <td>0.057236</td>\n",
       "      <td>1.800000</td>\n",
       "      <td>2.600000</td>\n",
       "      <td>2.800000</td>\n",
       "      <td>5.772015</td>\n",
       "      <td>248.517785</td>\n",
       "      <td>12.654701</td>\n",
       "      <td>12.500000</td>\n",
       "      <td>2.500000</td>\n",
       "      <td>6.354059</td>\n",
       "      <td>6.000000</td>\n",
       "      <td>1.000000</td>\n",
       "      <td>0.500000</td>\n",
       "      <td>0.500000</td>\n",
       "      <td>0.125000</td>\n",
       "      <td>0.125000</td>\n",
       "      <td>0.000000</td>\n",
       "      <td>0.000000</td>\n",
       "      <td>-0.26</td>\n",
       "      <td>644.471039</td>\n",
       "      <td>0.351195</td>\n",
       "      <td>2.007380</td>\n",
       "      <td>3.740000</td>\n",
       "      <td>47.559121</td>\n",
       "      <td>0.000000</td>\n",
       "      <td>0.000000</td>\n",
       "      <td>0.0</td>\n",
       "      <td>...</td>\n",
       "      <td>0</td>\n",
       "      <td>0</td>\n",
       "      <td>0</td>\n",
       "      <td>0</td>\n",
       "      <td>0</td>\n",
       "      <td>0</td>\n",
       "      <td>0</td>\n",
       "      <td>0</td>\n",
       "      <td>0</td>\n",
       "      <td>0</td>\n",
       "      <td>0</td>\n",
       "      <td>0</td>\n",
       "      <td>0</td>\n",
       "      <td>0</td>\n",
       "      <td>0</td>\n",
       "      <td>0</td>\n",
       "      <td>0</td>\n",
       "      <td>0</td>\n",
       "      <td>0</td>\n",
       "      <td>0</td>\n",
       "      <td>0</td>\n",
       "      <td>0</td>\n",
       "      <td>0</td>\n",
       "      <td>0</td>\n",
       "      <td>0</td>\n",
       "      <td>0</td>\n",
       "      <td>0</td>\n",
       "      <td>0</td>\n",
       "      <td>0</td>\n",
       "      <td>0</td>\n",
       "      <td>0</td>\n",
       "      <td>0</td>\n",
       "      <td>0</td>\n",
       "      <td>0</td>\n",
       "      <td>0</td>\n",
       "      <td>0</td>\n",
       "      <td>0</td>\n",
       "      <td>0</td>\n",
       "      <td>0</td>\n",
       "      <td>0</td>\n",
       "    </tr>\n",
       "    <tr>\n",
       "      <th>2-ethylpyrazine</th>\n",
       "      <td>7.363796</td>\n",
       "      <td>-3.006484</td>\n",
       "      <td>7.363796</td>\n",
       "      <td>0.587878</td>\n",
       "      <td>0.536795</td>\n",
       "      <td>108.144</td>\n",
       "      <td>100.080</td>\n",
       "      <td>108.068748</td>\n",
       "      <td>42.0</td>\n",
       "      <td>0.0</td>\n",
       "      <td>0.085960</td>\n",
       "      <td>-0.261224</td>\n",
       "      <td>0.261224</td>\n",
       "      <td>0.085960</td>\n",
       "      <td>1.375000</td>\n",
       "      <td>2.250000</td>\n",
       "      <td>3.125000</td>\n",
       "      <td>3.394825</td>\n",
       "      <td>411.724942</td>\n",
       "      <td>12.723615</td>\n",
       "      <td>11.894427</td>\n",
       "      <td>3.894427</td>\n",
       "      <td>7.070386</td>\n",
       "      <td>5.894427</td>\n",
       "      <td>1.894427</td>\n",
       "      <td>1.032624</td>\n",
       "      <td>1.032624</td>\n",
       "      <td>0.553812</td>\n",
       "      <td>0.553812</td>\n",
       "      <td>0.267705</td>\n",
       "      <td>0.267705</td>\n",
       "      <td>-0.92</td>\n",
       "      <td>1798.391122</td>\n",
       "      <td>1.150900</td>\n",
       "      <td>2.403302</td>\n",
       "      <td>1.025681</td>\n",
       "      <td>59.840347</td>\n",
       "      <td>0.000000</td>\n",
       "      <td>0.000000</td>\n",
       "      <td>0.0</td>\n",
       "      <td>...</td>\n",
       "      <td>0</td>\n",
       "      <td>0</td>\n",
       "      <td>0</td>\n",
       "      <td>0</td>\n",
       "      <td>0</td>\n",
       "      <td>0</td>\n",
       "      <td>0</td>\n",
       "      <td>0</td>\n",
       "      <td>0</td>\n",
       "      <td>0</td>\n",
       "      <td>0</td>\n",
       "      <td>0</td>\n",
       "      <td>0</td>\n",
       "      <td>0</td>\n",
       "      <td>0</td>\n",
       "      <td>0</td>\n",
       "      <td>0</td>\n",
       "      <td>0</td>\n",
       "      <td>0</td>\n",
       "      <td>0</td>\n",
       "      <td>0</td>\n",
       "      <td>0</td>\n",
       "      <td>0</td>\n",
       "      <td>0</td>\n",
       "      <td>0</td>\n",
       "      <td>0</td>\n",
       "      <td>0</td>\n",
       "      <td>0</td>\n",
       "      <td>0</td>\n",
       "      <td>0</td>\n",
       "      <td>0</td>\n",
       "      <td>0</td>\n",
       "      <td>0</td>\n",
       "      <td>0</td>\n",
       "      <td>0</td>\n",
       "      <td>0</td>\n",
       "      <td>0</td>\n",
       "      <td>0</td>\n",
       "      <td>0</td>\n",
       "      <td>0</td>\n",
       "    </tr>\n",
       "    <tr>\n",
       "      <th>heptan-1-ol</th>\n",
       "      <td>7.581250</td>\n",
       "      <td>-4.173333</td>\n",
       "      <td>7.581250</td>\n",
       "      <td>3.423878</td>\n",
       "      <td>0.544191</td>\n",
       "      <td>116.204</td>\n",
       "      <td>100.076</td>\n",
       "      <td>116.120115</td>\n",
       "      <td>50.0</td>\n",
       "      <td>0.0</td>\n",
       "      <td>0.210037</td>\n",
       "      <td>-0.396377</td>\n",
       "      <td>0.396377</td>\n",
       "      <td>0.210037</td>\n",
       "      <td>1.125000</td>\n",
       "      <td>1.875000</td>\n",
       "      <td>2.625000</td>\n",
       "      <td>6.416917</td>\n",
       "      <td>459.536609</td>\n",
       "      <td>20.207107</td>\n",
       "      <td>19.908248</td>\n",
       "      <td>3.908248</td>\n",
       "      <td>10.060660</td>\n",
       "      <td>9.612372</td>\n",
       "      <td>1.704124</td>\n",
       "      <td>0.727062</td>\n",
       "      <td>0.727062</td>\n",
       "      <td>0.301031</td>\n",
       "      <td>0.301031</td>\n",
       "      <td>0.119266</td>\n",
       "      <td>0.119266</td>\n",
       "      <td>-0.04</td>\n",
       "      <td>27745.345015</td>\n",
       "      <td>0.731455</td>\n",
       "      <td>6.960000</td>\n",
       "      <td>5.960000</td>\n",
       "      <td>74.289336</td>\n",
       "      <td>5.108808</td>\n",
       "      <td>0.000000</td>\n",
       "      <td>0.0</td>\n",
       "      <td>...</td>\n",
       "      <td>0</td>\n",
       "      <td>0</td>\n",
       "      <td>0</td>\n",
       "      <td>0</td>\n",
       "      <td>0</td>\n",
       "      <td>0</td>\n",
       "      <td>0</td>\n",
       "      <td>0</td>\n",
       "      <td>0</td>\n",
       "      <td>0</td>\n",
       "      <td>0</td>\n",
       "      <td>0</td>\n",
       "      <td>0</td>\n",
       "      <td>0</td>\n",
       "      <td>0</td>\n",
       "      <td>0</td>\n",
       "      <td>0</td>\n",
       "      <td>0</td>\n",
       "      <td>0</td>\n",
       "      <td>0</td>\n",
       "      <td>0</td>\n",
       "      <td>0</td>\n",
       "      <td>0</td>\n",
       "      <td>0</td>\n",
       "      <td>0</td>\n",
       "      <td>0</td>\n",
       "      <td>0</td>\n",
       "      <td>0</td>\n",
       "      <td>0</td>\n",
       "      <td>0</td>\n",
       "      <td>0</td>\n",
       "      <td>0</td>\n",
       "      <td>0</td>\n",
       "      <td>0</td>\n",
       "      <td>0</td>\n",
       "      <td>0</td>\n",
       "      <td>0</td>\n",
       "      <td>0</td>\n",
       "      <td>0</td>\n",
       "      <td>0</td>\n",
       "    </tr>\n",
       "  </tbody>\n",
       "</table>\n",
       "<p>5 rows × 6344 columns</p>\n",
       "</div>"
      ],
      "text/plain": [
       "                                  MaxEStateIndex  ...  2048ecfp6-2047\n",
       "4-methoxy-N,N-dimethyl-benzamide       12.428170  ...               0\n",
       "methanesulfonyl chloride                9.855710  ...               0\n",
       "3-methylbut-1-ene                       7.349537  ...               0\n",
       "2-ethylpyrazine                         7.363796  ...               0\n",
       "heptan-1-ol                             7.581250  ...               0\n",
       "\n",
       "[5 rows x 6344 columns]"
      ]
     },
     "execution_count": 16,
     "metadata": {
      "tags": []
     },
     "output_type": "execute_result"
    }
   ],
   "source": [
    "all_features.head()"
   ]
  },
  {
   "cell_type": "markdown",
   "metadata": {
    "colab_type": "text",
    "id": "TnLgSfyHRmGt"
   },
   "source": [
    "# CHOOSE: what feature_sets we will iterate over\n",
    "\n",
    "Create a dictionary containing feature names (index objects) as its elements"
   ]
  },
  {
   "cell_type": "code",
   "execution_count": 17,
   "metadata": {
    "colab": {},
    "colab_type": "code",
    "executionInfo": {
     "elapsed": 915,
     "status": "ok",
     "timestamp": 1595926559122,
     "user": {
      "displayName": "George Batchkala",
      "photoUrl": "",
      "userId": "17039292136363863281"
     },
     "user_tz": -180
    },
    "id": "2_jKinPorONu"
   },
   "outputs": [],
   "source": [
    "# reproducing the paper - so only using the features like in the paper\n",
    "feature_sets = {\n",
    "    '1024ecfp-4': ecfp4_1024_features.columns\n",
    "}"
   ]
  },
  {
   "cell_type": "markdown",
   "metadata": {
    "colab_type": "text",
    "id": "OYyJL3Zz3ZQa"
   },
   "source": [
    "# Train-Validation-Test split"
   ]
  },
  {
   "cell_type": "markdown",
   "metadata": {
    "colab_type": "text",
    "id": "iRDvLEuL4Tab"
   },
   "source": [
    "## CHOOSE: use_small - use 100 observations"
   ]
  },
  {
   "cell_type": "code",
   "execution_count": 18,
   "metadata": {
    "colab": {},
    "colab_type": "code",
    "executionInfo": {
     "elapsed": 495,
     "status": "ok",
     "timestamp": 1595926560168,
     "user": {
      "displayName": "George Batchkala",
      "photoUrl": "",
      "userId": "17039292136363863281"
     },
     "user_tz": -180
    },
    "id": "zTPBL40KrOOC"
   },
   "outputs": [],
   "source": [
    "# if True, use only 100 observations with 90-10 train-test-split for computational efficiency\n",
    "use_small = False"
   ]
  },
  {
   "cell_type": "code",
   "execution_count": 19,
   "metadata": {
    "colab": {},
    "colab_type": "code",
    "executionInfo": {
     "elapsed": 1645,
     "status": "ok",
     "timestamp": 1595926561896,
     "user": {
      "displayName": "George Batchkala",
      "photoUrl": "",
      "userId": "17039292136363863281"
     },
     "user_tz": -180
    },
    "id": "hFvLbQUgRJiJ"
   },
   "outputs": [],
   "source": [
    "if use_small:\n",
    "    working_size = 100\n",
    "else:\n",
    "    working_size = all_features.shape[0]"
   ]
  },
  {
   "cell_type": "markdown",
   "metadata": {
    "colab_type": "text",
    "id": "FhomzqJ5RSaa"
   },
   "source": [
    "## CHOOSE: way to do train-val-test splits"
   ]
  },
  {
   "cell_type": "code",
   "execution_count": 20,
   "metadata": {
    "colab": {},
    "colab_type": "code",
    "executionInfo": {
     "elapsed": 768,
     "status": "ok",
     "timestamp": 1595926562142,
     "user": {
      "displayName": "George Batchkala",
      "photoUrl": "",
      "userId": "17039292136363863281"
     },
     "user_tz": -180
    },
    "id": "LSVuP16IA0EY"
   },
   "outputs": [],
   "source": [
    "def make_split_generator(X, y, split_type='random', random_state=42, n_splits=1, test_size=0.1):\n",
    "    assert split_type in ['random', 'stratified']\n",
    "\n",
    "    if split_type == 'random':\n",
    "        gen = ShuffleSplit(n_splits=n_splits, test_size=test_size, random_state=random_state).split(X)\n",
    "    elif split_type == 'stratified':\n",
    "        binned = y.apply(lambda x: int(x)) # creating stratified indices\n",
    "        gen = StratifiedShuffleSplit(n_splits=n_splits, test_size=test_size, random_state=random_state).split(X, binned)\n",
    "    \n",
    "    # gen for generator\n",
    "    return gen"
   ]
  },
  {
   "cell_type": "markdown",
   "metadata": {
    "colab_type": "text",
    "id": "9lKh-jlPVynj"
   },
   "source": [
    "### TrainVal-Test split: 90/10"
   ]
  },
  {
   "cell_type": "code",
   "execution_count": 21,
   "metadata": {
    "colab": {
     "base_uri": "https://localhost:8080/",
     "height": 187
    },
    "colab_type": "code",
    "executionInfo": {
     "elapsed": 1473,
     "status": "ok",
     "timestamp": 1595926564091,
     "user": {
      "displayName": "George Batchkala",
      "photoUrl": "",
      "userId": "17039292136363863281"
     },
     "user_tz": -180
    },
    "id": "_DKatiFYC1QK",
    "outputId": "a3e34177-80e7-4df6-8ed3-763e90eaa64d"
   },
   "outputs": [
    {
     "name": "stdout",
     "output_type": "stream",
     "text": [
      "TrainVal:\n",
      "Index(['cyclohexanamine', 'diphenyl ether', 'ethanol', '3-methylheptane',\n",
      "       '111-trifluoropropan-2-ol'],\n",
      "      dtype='object') 577\n",
      "\n",
      "Test:\n",
      "Index(['1-bromo-2-methyl-propane', '1,2,4-trichlorodibenzo-p-dioxin',\n",
      "       '1-amino-9,10-anthracenedione', 'triethylphosphate',\n",
      "       '2-(nitrooxy)ethan-1-ol'],\n",
      "      dtype='object') 65\n"
     ]
    }
   ],
   "source": [
    "# needed fot creating a dataframe of train_val features (reproduced for testing)\n",
    "trainval_test_split_gen = make_split_generator(X=all_features.iloc[:working_size],\n",
    "                                               y=labels[:working_size],\n",
    "                                               split_type='random', random_state=42,\n",
    "                                               n_splits=1, test_size=0.1)\n",
    "#get numeric indexes\n",
    "train_val, test = next(trainval_test_split_gen)\n",
    "# get real indexes (i.e. Chembl id, substance name)\n",
    "train_val, test = all_features.iloc[train_val].index, all_features.iloc[test].index\n",
    "# we will use them later\n",
    "\n",
    "print('TrainVal:')\n",
    "print(train_val[:5], len(train_val))\n",
    "\n",
    "print('\\nTest:')\n",
    "print(test[:5], len(test))"
   ]
  },
  {
   "cell_type": "markdown",
   "metadata": {
    "colab_type": "text",
    "id": "ap5DZJPz3pYK"
   },
   "source": [
    "## CHOOSE: feature set to use for now, will itarate later"
   ]
  },
  {
   "cell_type": "markdown",
   "metadata": {
    "colab_type": "text",
    "id": "54oI2y3xsa9W"
   },
   "source": [
    "**This is only used for debugging**"
   ]
  },
  {
   "cell_type": "code",
   "execution_count": 22,
   "metadata": {
    "colab": {},
    "colab_type": "code",
    "executionInfo": {
     "elapsed": 1060,
     "status": "ok",
     "timestamp": 1595926565870,
     "user": {
      "displayName": "George Batchkala",
      "photoUrl": "",
      "userId": "17039292136363863281"
     },
     "user_tz": -180
    },
    "id": "40VBMy6xrOOQ"
   },
   "outputs": [],
   "source": [
    "# main feature set to use for now\n",
    "f = '1024ecfp-4'\n",
    "assert f in feature_sets"
   ]
  },
  {
   "cell_type": "code",
   "execution_count": 23,
   "metadata": {
    "colab": {
     "base_uri": "https://localhost:8080/",
     "height": 34
    },
    "colab_type": "code",
    "executionInfo": {
     "elapsed": 819,
     "status": "ok",
     "timestamp": 1595926566200,
     "user": {
      "displayName": "George Batchkala",
      "photoUrl": "",
      "userId": "17039292136363863281"
     },
     "user_tz": -180
    },
    "id": "Eq5ffpjgU84E",
    "outputId": "19455d26-b80e-4448-c321-87a71be7858e"
   },
   "outputs": [
    {
     "name": "stdout",
     "output_type": "stream",
     "text": [
      "(577, 1024) (577,)\n"
     ]
    }
   ],
   "source": [
    "# train_val data frame\n",
    "features = all_features.loc[train_val, feature_sets[f]]\n",
    "#train_val targets\n",
    "targets = labels.loc[train_val]\n",
    "\n",
    "print(features.shape, targets.shape)"
   ]
  },
  {
   "cell_type": "markdown",
   "metadata": {
    "colab_type": "text",
    "id": "XU8uKPx848w2"
   },
   "source": [
    "### Train-Val split: 80/10 (resulting in 80-10-10 in train-val-test)"
   ]
  },
  {
   "cell_type": "markdown",
   "metadata": {
    "colab_type": "text",
    "id": "GuP22noGsGg_"
   },
   "source": [
    "**This is only used for debugging**"
   ]
  },
  {
   "cell_type": "code",
   "execution_count": 24,
   "metadata": {
    "colab": {
     "base_uri": "https://localhost:8080/",
     "height": 187
    },
    "colab_type": "code",
    "executionInfo": {
     "elapsed": 751,
     "status": "ok",
     "timestamp": 1595926568087,
     "user": {
      "displayName": "George Batchkala",
      "photoUrl": "",
      "userId": "17039292136363863281"
     },
     "user_tz": -180
    },
    "id": "WoPbiXBuQICl",
    "outputId": "403b7f82-f892-427e-c91a-1f05d20035c4"
   },
   "outputs": [
    {
     "name": "stdout",
     "output_type": "stream",
     "text": [
      "Train:\n",
      "Index(['octan-2-one',\n",
      "       '1-N,1-N-diethyl-2,6-dinitro-4-(trifluoromethyl)benzene-1,3-diamine',\n",
      "       'trimethoxymethylbenzene', 'fenuron', 'isobutyl nitrate'],\n",
      "      dtype='object') 512\n",
      "\n",
      "Val:\n",
      "Index(['3-hydroxybenzonitrile', 'pyrrole', 'methyl 4-methoxybenzoate',\n",
      "       '1-propylsulfanylpropane', 'octan-1-ol'],\n",
      "      dtype='object') 65\n"
     ]
    }
   ],
   "source": [
    "# needed fot creating a dataframe of train_val features (reproduced for testing)\n",
    "train_val_split_gen = make_split_generator(X=features, y=targets,\n",
    "                                           split_type='random', random_state=42,\n",
    "                                           n_splits=1, test_size=1/9)\n",
    "# get numeric indexes\n",
    "train, val = next(train_val_split_gen)\n",
    "# get real indexes (i.e. Chembl id, substance name)\n",
    "train, val = all_features.iloc[train].index, all_features.iloc[val].index\n",
    "\n",
    "print('Train:')\n",
    "print(train[:5], len(train))\n",
    "\n",
    "print('\\nVal:')\n",
    "print(val[:5], len(val))"
   ]
  },
  {
   "cell_type": "markdown",
   "metadata": {
    "colab_type": "text",
    "id": "INAt5A-frOOC"
   },
   "source": [
    "# Training"
   ]
  },
  {
   "cell_type": "markdown",
   "metadata": {
    "colab_type": "text",
    "id": "BzubjX2QhFoK"
   },
   "source": [
    "## CHOOSE: metrics to use\n",
    "\n",
    "See sklearn documentation 3.3.1.4. Using multiple metric evaluation:\n"
   ]
  },
  {
   "cell_type": "code",
   "execution_count": 25,
   "metadata": {
    "colab": {},
    "colab_type": "code",
    "executionInfo": {
     "elapsed": 639,
     "status": "ok",
     "timestamp": 1595926570198,
     "user": {
      "displayName": "George Batchkala",
      "photoUrl": "",
      "userId": "17039292136363863281"
     },
     "user_tz": -180
    },
    "id": "Js80ekDFfnYI"
   },
   "outputs": [],
   "source": [
    "def pearson_corr_coef(y_true, y_pred):\n",
    "    \"\"\"\n",
    "    Original scipy.stats.pearsonr returns a tuple (r, p):\n",
    "        r : float\n",
    "            Pearson's correlation coefficient.  \n",
    "        p-value : float\n",
    "            Two-tailed p-value.\n",
    "    \"\"\"\n",
    "    return pearsonr(y_true, y_pred)[0]"
   ]
  },
  {
   "cell_type": "code",
   "execution_count": 26,
   "metadata": {
    "colab": {},
    "colab_type": "code",
    "executionInfo": {
     "elapsed": 358,
     "status": "ok",
     "timestamp": 1595926570484,
     "user": {
      "displayName": "George Batchkala",
      "photoUrl": "",
      "userId": "17039292136363863281"
     },
     "user_tz": -180
    },
    "id": "tWxuGKxAZKQs"
   },
   "outputs": [],
   "source": [
    "def rmse(y_true, y_pred):\n",
    "    return mean_squared_error(y_true, y_pred, squared=False)"
   ]
  },
  {
   "cell_type": "code",
   "execution_count": 27,
   "metadata": {
    "colab": {},
    "colab_type": "code",
    "executionInfo": {
     "elapsed": 1210,
     "status": "ok",
     "timestamp": 1595926571885,
     "user": {
      "displayName": "George Batchkala",
      "photoUrl": "",
      "userId": "17039292136363863281"
     },
     "user_tz": -180
    },
    "id": "kDDwV4_QhEz-"
   },
   "outputs": [],
   "source": [
    "scoring = {\n",
    "    'RMSE': make_scorer(rmse, greater_is_better=False),\n",
    "    'MAE': make_scorer(mean_absolute_error, greater_is_better=False),\n",
    "    'R^2': make_scorer(r2_score, greater_is_better=True),\n",
    "    'pearson_r': make_scorer(pearson_corr_coef, greater_is_better=True)\n",
    "}"
   ]
  },
  {
   "cell_type": "markdown",
   "metadata": {
    "colab_type": "text",
    "id": "1CYxXkUkWpcT"
   },
   "source": [
    "## CHOOSE: estimators to consider"
   ]
  },
  {
   "cell_type": "markdown",
   "metadata": {
    "colab_type": "text",
    "id": "Pz4AgGh-bZhu"
   },
   "source": [
    "### From the Paper (estimators):\n",
    "\n",
    "- 3.5.3 **Kernel ridge regression.** Kernel ridge regression (KRR) is a combination of ridge regression and kernel trick. By using a nonlinear kernel function (**radial basis function**), it learns a non-linear function in the original space that maps features to predicted values.\n",
    "\n",
    "- 3.5.4 **Random forests.** Random forests (RF) are ensemble prediction methods.(72) A random forest consists of many individual decision trees, each of which is trained on a subsampled version of the original dataset. The results for individual trees are averaged to provide output predictions for the full forest. Random forests can be used for both classification and regression tasks. Training a random forest can be computa- tionally intensive, so benchmarks only include random forest results for smaller datasets.\n",
    "\n",
    "- 3.5.5 **Gradient boosting.** Gradient boosting is another ensemble method consisting of individual decision trees.(73) In contrast to random forests, it builds relatively simple trees which are sequentially incorporated to the ensemble. In each step, a new tree is generated in a greedy manner to minimize loss function. A sequence of such “weak” trees are combined together into an additive model. We utilize the XGBoost implementation of gradient boosting in DeepChem.(79)"
   ]
  },
  {
   "cell_type": "code",
   "execution_count": 28,
   "metadata": {
    "colab": {},
    "colab_type": "code",
    "executionInfo": {
     "elapsed": 521,
     "status": "ok",
     "timestamp": 1595926572802,
     "user": {
      "displayName": "George Batchkala",
      "photoUrl": "",
      "userId": "17039292136363863281"
     },
     "user_tz": -180
    },
    "id": "tgZyVaWidDZ8"
   },
   "outputs": [],
   "source": [
    "estimators = {\n",
    "    'rf':  RandomForestRegressor(),\n",
    "    'xgb': XGBRegressor(),\n",
    "    'krr': KernelRidge(kernel='rbf'), # 'rbf' used in the paper (defaults to 'linear')\n",
    "    'gp': GaussianProcessRegressor(normalize_y=True), # normilize since we have not normalized here\n",
    "}"
   ]
  },
  {
   "cell_type": "markdown",
   "metadata": {
    "colab_type": "text",
    "id": "i7R-_eRcW6Tj"
   },
   "source": [
    "## CHOOSE: hyperparameters to tune"
   ]
  },
  {
   "cell_type": "markdown",
   "metadata": {
    "colab_type": "text",
    "id": "Myz8KfedcDqB"
   },
   "source": [
    "### From the supplementary materials (hyperparameters):\n",
    "\n",
    "1. **Model Training and Hyperparameter Optimization**\n",
    "All models were trained on Stanford’s GPU clusters via DeepChem. No model was allowed to train for more than 10 hours(time profile in Table S1. Users can reproduce benchmarks locally by following directions from DeepChem.\n",
    "Hyperparameters were determined using Gaussian Process Optimization via pyGPGO (https://github.com/hawk31/pyGPGO), with max number of iterations set to 20. Optimized hyperparameters for each model are listed, detailed hyperparameters\n",
    "can be found on Deepchem.\n",
    "\n",
    "    1.3 Kernel Ridge Regression (KRR)\n",
    "        - Penalty parameter\n",
    "    1.4 Random Forest (RF)\n",
    "        - Number of trees in the forest: 500\n",
    "    1.5 Gradient Boosting (XGBoost)\n",
    "        - Maximum tree depth\n",
    "        - Learning rate\n",
    "        - Number of boosted tree"
   ]
  },
  {
   "cell_type": "code",
   "execution_count": 29,
   "metadata": {
    "colab": {},
    "colab_type": "code",
    "executionInfo": {
     "elapsed": 467,
     "status": "ok",
     "timestamp": 1595926574468,
     "user": {
      "displayName": "George Batchkala",
      "photoUrl": "",
      "userId": "17039292136363863281"
     },
     "user_tz": -180
    },
    "id": "YL81ssWn1G75"
   },
   "outputs": [],
   "source": [
    "params = {\n",
    "    'rf': {\n",
    "        'rf__n_estimators': [500], # used in the paper\n",
    "    },\n",
    "    'xgb': {\n",
    "        'xgb__learning_rate': [0.0001, 0.001, 0.01, 0.1, 0.2, 0.3, 0.4, 0.5], # from LFTL paper\n",
    "        'xgb__max_depth': np.arange(1, 11, 2),\n",
    "        'xgb__n_estimators': np.arange(50, 550, 50),\n",
    "    },\n",
    "    'krr': {\n",
    "        'krr__alpha': [0.0001, 0.001, 0.01, 0.1, 1, 10, 100, 1000]\n",
    "    },\n",
    "    'gp': {\n",
    "        'gp__kernel': [RBF() + WhiteKernel(),\n",
    "                       Matern() + WhiteKernel(),\n",
    "                       DotProduct() + WhiteKernel()]\n",
    "    }\n",
    "}"
   ]
  },
  {
   "cell_type": "markdown",
   "metadata": {
    "colab_type": "text",
    "id": "zfGvUSq-Npb2"
   },
   "source": [
    "## CHOOSE: number of iterations\n",
    "\n",
    "**Set n_iter=20 to be consistent with GP hyperparameter search**"
   ]
  },
  {
   "cell_type": "markdown",
   "metadata": {
    "colab_type": "text",
    "id": "im5JhERKXqij"
   },
   "source": [
    "## Gridsearch loop"
   ]
  },
  {
   "cell_type": "code",
   "execution_count": 30,
   "metadata": {
    "colab": {
     "base_uri": "https://localhost:8080/",
     "height": 190
    },
    "colab_type": "code",
    "executionInfo": {
     "elapsed": 202151,
     "status": "ok",
     "timestamp": 1595926779064,
     "user": {
      "displayName": "George Batchkala",
      "photoUrl": "",
      "userId": "17039292136363863281"
     },
     "user_tz": -180
    },
    "id": "1K1jDUxd297u",
    "outputId": "4ad40496-9ac8-4a83-8470-3c207312b6d0"
   },
   "outputs": [
    {
     "name": "stdout",
     "output_type": "stream",
     "text": [
      "Using 1024ecfp-4 features...\n",
      "\tRandom search optimisation for rf estimator...\n",
      "\tRandom search optimisation for xgb estimator...\n",
      "[08:58:34] WARNING: /workspace/src/objective/regression_obj.cu:152: reg:linear is now deprecated in favor of reg:squarederror.\n",
      "\tRandom search optimisation for krr estimator...\n",
      "\tRandom search optimisation for gp estimator...\n",
      "Stored 'best_params' (dict)\n",
      "Stored 'val_scores' (dict)\n",
      "Stored 'train_test_scores' (dict)\n"
     ]
    }
   ],
   "source": [
    "# %%time\n",
    "\n",
    "best_params = {}\n",
    "val_scores = {}\n",
    "train_test_scores = {}\n",
    "\n",
    "for f in feature_sets:\n",
    "    print(f'Using {f} features...')\n",
    "\n",
    "    # train_val data frame\n",
    "    features = all_features.loc[train_val, feature_sets[f]]\n",
    "    # train_val targets\n",
    "    targets = labels.loc[train_val]\n",
    "\n",
    "    best_params[f] = {}\n",
    "    val_scores[f] = {}\n",
    "    train_test_scores[f] = {}\n",
    "\n",
    "\n",
    "    for e in estimators:\n",
    "        print(f'\\tRandom search optimisation for {e} estimator...')\n",
    "\n",
    "        # leave like that so that parameter keys keep working\n",
    "        pipe = Pipeline([(e, estimators[e])])\n",
    "        \n",
    "        # make train/val split generator\n",
    "        train_val_split_gen = make_split_generator(X=features, y=targets,\n",
    "                                                   split_type='random', random_state=42,\n",
    "                                                   n_splits=1, test_size=1/9)\n",
    "\n",
    "        # fit models and optimize paramerers\n",
    "            # refit=False: .best_estimator_ is not available, .but best_params_ are\n",
    "            # scoring='neg_mean_squared_error': equivalent to RMSE (might be faster to use builtin version)\n",
    "        model = RandomizedSearchCV(pipe, param_distributions=params[e],\n",
    "                                   cv=train_val_split_gen,\n",
    "                                   scoring='neg_mean_squared_error',\n",
    "                                   refit=True, # False: can's use .best_estimator_\n",
    "                                   n_iter=20, n_jobs=-1,\n",
    "                                   random_state=42).fit(features, targets)\n",
    "\n",
    "        # record best model parameters\n",
    "        best_params[f][e] = model.best_params_\n",
    "\n",
    "        # make generator for 3 train/val splits\n",
    "        train_val_split_gen = make_split_generator(X=features, y=targets,\n",
    "                                                   split_type='random', random_state=42,\n",
    "                                                   n_splits=3, test_size=1/9)\n",
    "\n",
    "\n",
    "        # get metrics for the validation set\n",
    "        val_results = cross_validate(estimator=model.best_estimator_,\n",
    "                                     #estimator=pipe\n",
    "                                     #fit_params=model.best_params_, \n",
    "                                     X=features, y=targets,\n",
    "                                     cv=train_val_split_gen,\n",
    "                                     scoring=scoring, n_jobs=-1)\n",
    "        \n",
    "\n",
    "        # record metrics (validation set) when fitting with best parameters\n",
    "        val_scores[f][e] = val_results\n",
    "\n",
    "        # make generator for 3 trainval/test splits\n",
    "        trainval_test_split_gen = make_split_generator(X=all_features.iloc[:working_size],\n",
    "                                                       y=labels[:working_size],\n",
    "                                                       split_type='random', random_state=42,\n",
    "                                                       n_splits=3, test_size=0.1)\n",
    "        \n",
    "        # get metrics for the train and test set\n",
    "        #   make sure to restrict feature set here (don't want everything)\n",
    "        test_results = cross_validate(estimator=model.best_estimator_,\n",
    "                                      #estimator=pipe,\n",
    "                                      #fit_params=model.best_params_,\n",
    "                                      X=all_features[feature_sets[f]].iloc[:working_size],\n",
    "                                      y=labels.iloc[:working_size],\n",
    "                                      cv=trainval_test_split_gen,\n",
    "                                      scoring=scoring, n_jobs=-1,\n",
    "                                      return_train_score=True)\n",
    "        train_test_scores[f][e] = test_results\n",
    "\n",
    "%store best_params\n",
    "%store val_scores\n",
    "%store train_test_scores"
   ]
  },
  {
   "cell_type": "code",
   "execution_count": 31,
   "metadata": {
    "colab": {
     "base_uri": "https://localhost:8080/",
     "height": 54
    },
    "colab_type": "code",
    "executionInfo": {
     "elapsed": 1647,
     "status": "ok",
     "timestamp": 1595926780780,
     "user": {
      "displayName": "George Batchkala",
      "photoUrl": "",
      "userId": "17039292136363863281"
     },
     "user_tz": -180
    },
    "id": "qFzGae21zk1H",
    "outputId": "81371c0f-26c7-49a1-f3b8-07a1fcbbdace"
   },
   "outputs": [
    {
     "name": "stdout",
     "output_type": "stream",
     "text": [
      "{'1024ecfp-4': {'rf': {'rf__n_estimators': 500}, 'xgb': {'xgb__n_estimators': 100, 'xgb__max_depth': 7, 'xgb__learning_rate': 0.2}, 'krr': {'krr__alpha': 0.01}, 'gp': {'gp__kernel': Matern(length_scale=1, nu=1.5) + WhiteKernel(noise_level=1)}}}\n"
     ]
    }
   ],
   "source": [
    "# retrieve \n",
    "%store -r best_params\n",
    "print(best_params)"
   ]
  },
  {
   "cell_type": "code",
   "execution_count": 32,
   "metadata": {
    "colab": {
     "base_uri": "https://localhost:8080/",
     "height": 54
    },
    "colab_type": "code",
    "executionInfo": {
     "elapsed": 1561,
     "status": "ok",
     "timestamp": 1595926780782,
     "user": {
      "displayName": "George Batchkala",
      "photoUrl": "",
      "userId": "17039292136363863281"
     },
     "user_tz": -180
    },
    "id": "XsRWB-4Z1FvM",
    "outputId": "8cbff52c-88fd-4152-f053-f0f265c32799"
   },
   "outputs": [
    {
     "name": "stdout",
     "output_type": "stream",
     "text": [
      "{'1024ecfp-4': {'rf': {'fit_time': array([13.67025661, 13.5763967 ,  8.72875261]), 'score_time': array([0.06913567, 0.06881833, 0.04356933]), 'test_RMSE': array([-2.0652686 , -2.7198849 , -2.44871824]), 'test_MAE': array([-1.32842992, -1.21508427, -1.41746871]), 'test_R^2': array([0.68958705, 0.59216012, 0.61828794]), 'test_pearson_r': array([0.84292259, 0.76972331, 0.81527464])}, 'xgb': {'fit_time': array([3.76285124, 3.72412491, 2.4172976 ]), 'score_time': array([0.02843904, 0.02651   , 0.01561689]), 'test_RMSE': array([-1.99913261, -2.17552875, -2.06884979]), 'test_MAE': array([-1.34843504, -1.16502681, -1.30771738]), 'test_R^2': array([0.70914941, 0.73907344, 0.72753158]), 'test_pearson_r': array([0.84566209, 0.8647542 , 0.85898064])}, 'krr': {'fit_time': array([0.07818103, 0.10201812, 0.06083035]), 'score_time': array([0.01396918, 0.01514673, 0.00926852]), 'test_RMSE': array([-1.95879198, -2.31997877, -2.11971704]), 'test_MAE': array([-1.36544878, -1.2765197 , -1.27645511]), 'test_R^2': array([0.72076916, 0.70327328, 0.71396839]), 'test_pearson_r': array([0.85859846, 0.84945982, 0.86013496])}, 'gp': {'fit_time': array([3.42485428, 3.46040082, 2.61937094]), 'score_time': array([0.05530238, 0.05417252, 0.0423162 ]), 'test_RMSE': array([-1.90989679, -2.30762198, -2.08354912]), 'test_MAE': array([-1.29390211, -1.14473819, -1.23274276]), 'test_R^2': array([0.73453545, 0.70642574, 0.72364601]), 'test_pearson_r': array([0.86862822, 0.85421046, 0.8650217 ])}}}\n"
     ]
    }
   ],
   "source": [
    "# retrieve \n",
    "%store -r val_scores\n",
    "print(val_scores)"
   ]
  },
  {
   "cell_type": "code",
   "execution_count": 33,
   "metadata": {
    "colab": {
     "base_uri": "https://localhost:8080/",
     "height": 142
    },
    "colab_type": "code",
    "executionInfo": {
     "elapsed": 1534,
     "status": "ok",
     "timestamp": 1595926780783,
     "user": {
      "displayName": "George Batchkala",
      "photoUrl": "",
      "userId": "17039292136363863281"
     },
     "user_tz": -180
    },
    "id": "Awnm0waz1QMV",
    "outputId": "0e8bea5f-37ec-4e12-feb3-9fa3a93ea74c"
   },
   "outputs": [
    {
     "data": {
      "text/html": [
       "<div>\n",
       "<style scoped>\n",
       "    .dataframe tbody tr th:only-of-type {\n",
       "        vertical-align: middle;\n",
       "    }\n",
       "\n",
       "    .dataframe tbody tr th {\n",
       "        vertical-align: top;\n",
       "    }\n",
       "\n",
       "    .dataframe thead th {\n",
       "        text-align: right;\n",
       "    }\n",
       "</style>\n",
       "<table border=\"1\" class=\"dataframe\">\n",
       "  <thead>\n",
       "    <tr style=\"text-align: right;\">\n",
       "      <th></th>\n",
       "      <th>fit_time</th>\n",
       "      <th>score_time</th>\n",
       "      <th>test_RMSE</th>\n",
       "      <th>train_RMSE</th>\n",
       "      <th>test_MAE</th>\n",
       "      <th>train_MAE</th>\n",
       "      <th>test_R^2</th>\n",
       "      <th>train_R^2</th>\n",
       "      <th>test_pearson_r</th>\n",
       "      <th>train_pearson_r</th>\n",
       "    </tr>\n",
       "  </thead>\n",
       "  <tbody>\n",
       "    <tr>\n",
       "      <th>0</th>\n",
       "      <td>4.400016</td>\n",
       "      <td>0.027253</td>\n",
       "      <td>-2.512797</td>\n",
       "      <td>-0.395494</td>\n",
       "      <td>-1.512942</td>\n",
       "      <td>-0.277473</td>\n",
       "      <td>0.697992</td>\n",
       "      <td>0.988901</td>\n",
       "      <td>0.836280</td>\n",
       "      <td>0.994946</td>\n",
       "    </tr>\n",
       "    <tr>\n",
       "      <th>1</th>\n",
       "      <td>4.391989</td>\n",
       "      <td>0.027465</td>\n",
       "      <td>-2.087099</td>\n",
       "      <td>-0.438377</td>\n",
       "      <td>-1.212925</td>\n",
       "      <td>-0.305339</td>\n",
       "      <td>0.759531</td>\n",
       "      <td>0.986661</td>\n",
       "      <td>0.876977</td>\n",
       "      <td>0.993931</td>\n",
       "    </tr>\n",
       "    <tr>\n",
       "      <th>2</th>\n",
       "      <td>2.794128</td>\n",
       "      <td>0.015545</td>\n",
       "      <td>-1.708535</td>\n",
       "      <td>-0.435563</td>\n",
       "      <td>-1.126519</td>\n",
       "      <td>-0.309238</td>\n",
       "      <td>0.768243</td>\n",
       "      <td>0.987375</td>\n",
       "      <td>0.877118</td>\n",
       "      <td>0.994252</td>\n",
       "    </tr>\n",
       "  </tbody>\n",
       "</table>\n",
       "</div>"
      ],
      "text/plain": [
       "   fit_time  score_time  test_RMSE  ...  train_R^2  test_pearson_r  train_pearson_r\n",
       "0  4.400016    0.027253  -2.512797  ...   0.988901        0.836280         0.994946\n",
       "1  4.391989    0.027465  -2.087099  ...   0.986661        0.876977         0.993931\n",
       "2  2.794128    0.015545  -1.708535  ...   0.987375        0.877118         0.994252\n",
       "\n",
       "[3 rows x 10 columns]"
      ]
     },
     "metadata": {
      "tags": []
     },
     "output_type": "display_data"
    }
   ],
   "source": [
    "# retrieve \n",
    "%store -r train_test_scores\n",
    "display(pd.DataFrame(pd.DataFrame(train_test_scores).loc['xgb' ,'1024ecfp-4']))"
   ]
  },
  {
   "cell_type": "code",
   "execution_count": 34,
   "metadata": {
    "colab": {
     "base_uri": "https://localhost:8080/",
     "height": 34
    },
    "colab_type": "code",
    "executionInfo": {
     "elapsed": 1512,
     "status": "ok",
     "timestamp": 1595926780784,
     "user": {
      "displayName": "George Batchkala",
      "photoUrl": "",
      "userId": "17039292136363863281"
     },
     "user_tz": -180
    },
    "id": "TpIwEhbN1Zx3",
    "outputId": "f9e8fb30-c1f6-4cd7-cf29-f5335c9cc770"
   },
   "outputs": [
    {
     "data": {
      "text/plain": [
       "(array([-2.0652686 , -2.7198849 , -2.44871824]), numpy.ndarray)"
      ]
     },
     "execution_count": 34,
     "metadata": {
      "tags": []
     },
     "output_type": "execute_result"
    }
   ],
   "source": [
    "val_scores['1024ecfp-4']['rf']['test_RMSE'], type(val_scores['1024ecfp-4']['rf']['test_RMSE'])"
   ]
  },
  {
   "cell_type": "markdown",
   "metadata": {
    "colab_type": "text",
    "id": "TBnn6cd8pSwC"
   },
   "source": [
    "# CHOOSE: Names for saving results"
   ]
  },
  {
   "cell_type": "markdown",
   "metadata": {
    "colab_type": "text",
    "id": "8DT2xfdU59_B"
   },
   "source": [
    "## Into JSON files"
   ]
  },
  {
   "cell_type": "code",
   "execution_count": 35,
   "metadata": {
    "colab": {},
    "colab_type": "code",
    "executionInfo": {
     "elapsed": 1505,
     "status": "ok",
     "timestamp": 1595926780785,
     "user": {
      "displayName": "George Batchkala",
      "photoUrl": "",
      "userId": "17039292136363863281"
     },
     "user_tz": -180
    },
    "id": "gfeVSuAkt2WP"
   },
   "outputs": [],
   "source": [
    "# # JSON encoder for np.int64\n",
    "# def default_params(o):\n",
    "#     if isinstance(o, np.integer):\n",
    "#         return int(o)\n",
    "#     raise TypeError"
   ]
  },
  {
   "cell_type": "code",
   "execution_count": 36,
   "metadata": {
    "colab": {},
    "colab_type": "code",
    "executionInfo": {
     "elapsed": 1726,
     "status": "ok",
     "timestamp": 1595926781033,
     "user": {
      "displayName": "George Batchkala",
      "photoUrl": "",
      "userId": "17039292136363863281"
     },
     "user_tz": -180
    },
    "id": "EpQ6iIAu7eUY"
   },
   "outputs": [],
   "source": [
    "# with open(f'../results/{dataset}_{smile_type}_reproducing_random_search_best_params.json', 'w') as f:\n",
    "#     json.dump(best_params, f, default=default_params)"
   ]
  },
  {
   "cell_type": "code",
   "execution_count": 37,
   "metadata": {
    "colab": {},
    "colab_type": "code",
    "executionInfo": {
     "elapsed": 1719,
     "status": "ok",
     "timestamp": 1595926781034,
     "user": {
      "displayName": "George Batchkala",
      "photoUrl": "",
      "userId": "17039292136363863281"
     },
     "user_tz": -180
    },
    "id": "rqyOoQrm8I46"
   },
   "outputs": [],
   "source": [
    "# # JSON encoder for np.float64\n",
    "# def default_scores(o):\n",
    "#     if isinstance(o, np.ndarray):\n",
    "#         return float(o)\n",
    "#     raise TypeError"
   ]
  },
  {
   "cell_type": "code",
   "execution_count": 38,
   "metadata": {
    "colab": {},
    "colab_type": "code",
    "executionInfo": {
     "elapsed": 1712,
     "status": "ok",
     "timestamp": 1595926781035,
     "user": {
      "displayName": "George Batchkala",
      "photoUrl": "",
      "userId": "17039292136363863281"
     },
     "user_tz": -180
    },
    "id": "DyWc9gGn210Z"
   },
   "outputs": [],
   "source": [
    "# with open(f'../results/{dataset}_{smile_type}_reproducing_random_search_best_cv_scores.json', 'w') as f:\n",
    "#     json.dump(cv_scores, f, default=default_scores)\n",
    "    \n",
    "# with open(f'../results/{dataset}_{smile_type}_reproducing_random_search_best_test_score.json', 'w') as f:\n",
    "#     json.dump(test_score, f, default=default_scores)"
   ]
  },
  {
   "cell_type": "markdown",
   "metadata": {
    "colab_type": "text",
    "id": "j4fvivZIudQF"
   },
   "source": [
    "## Into Pickle files"
   ]
  },
  {
   "cell_type": "code",
   "execution_count": 39,
   "metadata": {
    "colab": {},
    "colab_type": "code",
    "executionInfo": {
     "elapsed": 1704,
     "status": "ok",
     "timestamp": 1595926781035,
     "user": {
      "displayName": "George Batchkala",
      "photoUrl": "",
      "userId": "17039292136363863281"
     },
     "user_tz": -180
    },
    "id": "r82d3LxNum7e"
   },
   "outputs": [],
   "source": [
    "with open(f'../results/{dataset}_{smile_type}_reproducing_random_search_best_val_scores.pickle', 'wb') as fp:\n",
    "    pickle.dump(val_scores, fp, protocol=pickle.HIGHEST_PROTOCOL)\n",
    "    \n",
    "with open(f'../results/{dataset}_{smile_type}_reproducing_random_search_best_train_test_scores.pickle', 'wb') as fp:\n",
    "    pickle.dump(train_test_scores, fp, protocol=pickle.HIGHEST_PROTOCOL)\n",
    "\n",
    "with open(f'../results/{dataset}_{smile_type}_reproducing_random_search_best_params.pickle', 'wb') as fp:\n",
    "    pickle.dump(best_params, fp, protocol=pickle.HIGHEST_PROTOCOL)\n",
    "\n",
    "with open(f'../results/{dataset}_{smile_type}_reproducing_random_search_grid_params.pickle', 'wb') as f:\n",
    "    pickle.dump(params, f, protocol=pickle.HIGHEST_PROTOCOL)"
   ]
  },
  {
   "cell_type": "code",
   "execution_count": 40,
   "metadata": {
    "colab": {},
    "colab_type": "code",
    "executionInfo": {
     "elapsed": 1700,
     "status": "ok",
     "timestamp": 1595926781037,
     "user": {
      "displayName": "George Batchkala",
      "photoUrl": "",
      "userId": "17039292136363863281"
     },
     "user_tz": -180
    },
    "id": "R7V7wwMTuD43"
   },
   "outputs": [],
   "source": [
    "# with open(f'../results/{dataset}_{smile_type}_random_search_best_cv_scores.pickle', 'rb') as fp:\n",
    "#     cv_scores = pickle.load(fp)\n",
    "\n",
    "# with open(f'../results/{dataset}_{smile_type}_random_search_best_test_score.pickle', 'rb') as fp:\n",
    "#     test_score = pickle.load(fp)\n",
    "\n",
    "# with open(f'../results/{dataset}_{smile_type}_random_search_best_params.pickle', 'rb') as fp:\n",
    "#     best_params = pickle.load(fp)\n",
    "\n",
    "# with open(f'../results/{dataset}_{smile_type}_random_search_grid_params.pickle', 'rb') as fp:\n",
    "#     params = pickle.load(fp)"
   ]
  },
  {
   "cell_type": "code",
   "execution_count": 41,
   "metadata": {
    "colab": {},
    "colab_type": "code",
    "executionInfo": {
     "elapsed": 1691,
     "status": "ok",
     "timestamp": 1595926781038,
     "user": {
      "displayName": "George Batchkala",
      "photoUrl": "",
      "userId": "17039292136363863281"
     },
     "user_tz": -180
    },
    "id": "9NLJqrU3v0p2"
   },
   "outputs": [],
   "source": [
    "# cv_scores"
   ]
  },
  {
   "cell_type": "code",
   "execution_count": 42,
   "metadata": {
    "colab": {},
    "colab_type": "code",
    "executionInfo": {
     "elapsed": 1681,
     "status": "ok",
     "timestamp": 1595926781038,
     "user": {
      "displayName": "George Batchkala",
      "photoUrl": "",
      "userId": "17039292136363863281"
     },
     "user_tz": -180
    },
    "id": "Tv0QtuvOsNhY"
   },
   "outputs": [],
   "source": [
    "# test_score"
   ]
  },
  {
   "cell_type": "code",
   "execution_count": 43,
   "metadata": {
    "colab": {},
    "colab_type": "code",
    "executionInfo": {
     "elapsed": 1675,
     "status": "ok",
     "timestamp": 1595926781039,
     "user": {
      "displayName": "George Batchkala",
      "photoUrl": "",
      "userId": "17039292136363863281"
     },
     "user_tz": -180
    },
    "id": "1scFnkGUtueN"
   },
   "outputs": [],
   "source": [
    "# best_params"
   ]
  },
  {
   "cell_type": "code",
   "execution_count": 44,
   "metadata": {
    "colab": {},
    "colab_type": "code",
    "executionInfo": {
     "elapsed": 1671,
     "status": "ok",
     "timestamp": 1595926781040,
     "user": {
      "displayName": "George Batchkala",
      "photoUrl": "",
      "userId": "17039292136363863281"
     },
     "user_tz": -180
    },
    "id": "oKSijHObrXy4"
   },
   "outputs": [],
   "source": [
    "# params"
   ]
  },
  {
   "cell_type": "code",
   "execution_count": null,
   "metadata": {
    "colab": {},
    "colab_type": "code",
    "id": "pGIgpIm9iKfI"
   },
   "outputs": [],
   "source": []
  }
 ],
 "metadata": {
  "colab": {
   "collapsed_sections": [],
   "name": "colab_reproducing_grid_search_pipeline.ipynb",
   "provenance": [],
   "toc_visible": true
  },
  "kernelspec": {
   "display_name": "Python 3",
   "language": "python",
   "name": "python3"
  },
  "language_info": {
   "codemirror_mode": {
    "name": "ipython",
    "version": 3
   },
   "file_extension": ".py",
   "mimetype": "text/x-python",
   "name": "python",
   "nbconvert_exporter": "python",
   "pygments_lexer": "ipython3",
   "version": "3.6.10"
  }
 },
 "nbformat": 4,
 "nbformat_minor": 1
}
