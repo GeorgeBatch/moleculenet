{
 "cells": [
  {
   "cell_type": "markdown",
   "metadata": {
    "colab_type": "text",
    "id": "iwDYlLl8rOL4"
   },
   "source": [
    "# Setup (same everywhere)"
   ]
  },
  {
   "cell_type": "markdown",
   "metadata": {
    "colab_type": "text",
    "id": "jxzJYRinkNb2"
   },
   "source": [
    "## Mount Drive\n"
   ]
  },
  {
   "cell_type": "code",
   "execution_count": 1,
   "metadata": {
    "colab": {},
    "colab_type": "code",
    "id": "-LxExBj9kQPk"
   },
   "outputs": [
    {
     "ename": "ModuleNotFoundError",
     "evalue": "No module named 'google'",
     "output_type": "error",
     "traceback": [
      "\u001b[0;31m---------------------------------------------------------------------------\u001b[0m",
      "\u001b[0;31mModuleNotFoundError\u001b[0m                       Traceback (most recent call last)",
      "\u001b[0;32m<ipython-input-1-2ecdc1c84f0b>\u001b[0m in \u001b[0;36m<module>\u001b[0;34m\u001b[0m\n\u001b[0;32m----> 1\u001b[0;31m \u001b[0;32mfrom\u001b[0m \u001b[0mgoogle\u001b[0m\u001b[0;34m.\u001b[0m\u001b[0mcolab\u001b[0m \u001b[0;32mimport\u001b[0m \u001b[0mdrive\u001b[0m\u001b[0;34m\u001b[0m\u001b[0;34m\u001b[0m\u001b[0m\n\u001b[0m\u001b[1;32m      2\u001b[0m \u001b[0;31m# drive.mount('/content/drive')\u001b[0m\u001b[0;34m\u001b[0m\u001b[0;34m\u001b[0m\u001b[0;34m\u001b[0m\u001b[0m\n",
      "\u001b[0;31mModuleNotFoundError\u001b[0m: No module named 'google'"
     ]
    }
   ],
   "source": [
    "from google.colab import drive\n",
    "# drive.mount('/content/drive')"
   ]
  },
  {
   "cell_type": "code",
   "execution_count": null,
   "metadata": {
    "colab": {
     "base_uri": "https://localhost:8080/",
     "height": 51
    },
    "colab_type": "code",
    "executionInfo": {
     "elapsed": 921,
     "status": "ok",
     "timestamp": 1596204648417,
     "user": {
      "displayName": "George Batchkala",
      "photoUrl": "",
      "userId": "17039292136363863281"
     },
     "user_tz": -180
    },
    "id": "UipGZAsTdu_d",
    "outputId": "4e366dda-75e0-48ad-e90d-bf17525d81d2"
   },
   "outputs": [],
   "source": [
    "%cd drive/'My Drive'/repositories/moleculenet/notebooks"
   ]
  },
  {
   "cell_type": "code",
   "execution_count": 1,
   "metadata": {
    "colab": {
     "base_uri": "https://localhost:8080/",
     "height": 170
    },
    "colab_type": "code",
    "executionInfo": {
     "elapsed": 7044,
     "status": "ok",
     "timestamp": 1596204654564,
     "user": {
      "displayName": "George Batchkala",
      "photoUrl": "",
      "userId": "17039292136363863281"
     },
     "user_tz": -180
    },
    "id": "KXdDhDGgeIeq",
    "outputId": "9b38caa7-94e7-4345-ef44-330e8c0a1f36"
   },
   "outputs": [
    {
     "name": "stdout",
     "output_type": "stream",
     "text": [
      "colab_extended_grid_search_pipeline.ipynb\r\n",
      "colab_reproducing_grid_search_pipeline.ipynb\r\n",
      "colab_reproducing_rf_ci.ipynb\r\n",
      "eda.ipynb\r\n",
      "visualise_extended_grid_search_results.ipynb\r\n",
      "visualise_reproducing_grid_search_results.ipynb\r\n"
     ]
    }
   ],
   "source": [
    "%ls"
   ]
  },
  {
   "cell_type": "code",
   "execution_count": 2,
   "metadata": {
    "colab": {
     "base_uri": "https://localhost:8080/",
     "height": 442
    },
    "colab_type": "code",
    "executionInfo": {
     "elapsed": 9944,
     "status": "ok",
     "timestamp": 1596204657516,
     "user": {
      "displayName": "George Batchkala",
      "photoUrl": "",
      "userId": "17039292136363863281"
     },
     "user_tz": -180
    },
    "id": "pKc-Tl2jKRz3",
    "outputId": "d82d6f00-9c8e-496e-801f-b8fa162a0cd4"
   },
   "outputs": [
    {
     "name": "stdout",
     "output_type": "stream",
     "text": [
      "ESOL_README\r\n",
      "FreeSolv_README\r\n",
      "Lipo_README\r\n",
      "esol_original.csv\r\n",
      "esol_original_1024ecfp4_features.csv\r\n",
      "esol_original_1024ecfp6_features.csv\r\n",
      "esol_original_2048ecfp4_features.csv\r\n",
      "esol_original_2048ecfp6_features.csv\r\n",
      "esol_original_IdSmilesLabels.csv\r\n",
      "esol_original_extra_features.csv\r\n",
      "esol_original_rdkit_features.csv\r\n",
      "freesolv_original.csv\r\n",
      "freesolv_original_1024ecfp4_features.csv\r\n",
      "freesolv_original_1024ecfp6_features.csv\r\n",
      "freesolv_original_2048ecfp4_features.csv\r\n",
      "freesolv_original_2048ecfp6_features.csv\r\n",
      "freesolv_original_IdSmilesLabels.csv\r\n",
      "freesolv_original_rdkit_features.csv\r\n",
      "lipophilicity_original.csv\r\n",
      "lipophilicity_original_1024ecfp4_features.csv\r\n",
      "lipophilicity_original_1024ecfp6_features.csv\r\n",
      "lipophilicity_original_2048ecfp4_features.csv\r\n",
      "lipophilicity_original_2048ecfp6_features.csv\r\n",
      "lipophilicity_original_IdSmilesLabels.csv\r\n",
      "lipophilicity_original_rdkit_features.csv\r\n"
     ]
    }
   ],
   "source": [
    "%ls ../data/"
   ]
  },
  {
   "cell_type": "markdown",
   "metadata": {
    "colab_type": "text",
    "id": "cG9tpt04e0iN"
   },
   "source": [
    "## Import modules"
   ]
  },
  {
   "cell_type": "markdown",
   "metadata": {
    "colab_type": "text",
    "id": "D6wO2E_J6gM6"
   },
   "source": [
    "### Standard imports"
   ]
  },
  {
   "cell_type": "code",
   "execution_count": 3,
   "metadata": {
    "colab": {},
    "colab_type": "code",
    "id": "sjl-QAB5e4I3"
   },
   "outputs": [],
   "source": [
    "import warnings\n",
    "warnings.filterwarnings('ignore')\n",
    "\n",
    "# custom imports\n",
    "import os\n",
    "import sys\n",
    "\n",
    "# saving models\n",
    "import json\n",
    "import pickle\n",
    "\n",
    "# standard modules\n",
    "import numpy as np\n",
    "import pandas as pd\n",
    "import matplotlib.pyplot as plt\n",
    "\n",
    "# metrics\n",
    "from scipy.stats import pearsonr\n",
    "from sklearn.metrics import r2_score\n",
    "from sklearn.metrics import mean_squared_error\n",
    "from sklearn.metrics import mean_absolute_error\n",
    "from sklearn.metrics import jaccard_score # Tanimoto\n",
    "\n",
    "# making custom metrics\n",
    "from sklearn.metrics import make_scorer\n",
    "\n",
    "# model selection\n",
    "from sklearn.model_selection import train_test_split\n",
    "from sklearn.model_selection import ShuffleSplit, StratifiedShuffleSplit\n",
    "from sklearn.model_selection import RandomizedSearchCV, GridSearchCV\n",
    "from sklearn.model_selection import cross_val_score, cross_validate, cross_val_predict\n",
    "\n",
    "# preprocessing\n",
    "from sklearn.feature_selection import VarianceThreshold # to remove zero-var features\n",
    "from sklearn.preprocessing import MinMaxScaler, Normalizer, StandardScaler\n",
    "\n",
    "# models\n",
    "from sklearn.linear_model import LinearRegression\n",
    "from sklearn.linear_model import ElasticNetCV, ElasticNet\n",
    "from sklearn.ensemble import RandomForestRegressor\n",
    "\n",
    "from xgboost import XGBRegressor\n",
    "from sklearn.ensemble import AdaBoostRegressor\n",
    "from sklearn.ensemble import GradientBoostingRegressor\n",
    "\n",
    "from sklearn.neural_network import MLPRegressor\n",
    "\n",
    "from sklearn.kernel_ridge import KernelRidge\n",
    "\n",
    "from sklearn.gaussian_process import GaussianProcessRegressor\n",
    "from sklearn.gaussian_process.kernels import WhiteKernel, ConstantKernel\n",
    "from sklearn.gaussian_process.kernels import RBF, Matern, DotProduct\n",
    "\n",
    "# pipelines\n",
    "# https://scikit-learn.org/stable/modules/compose.html#combining-estimators\n",
    "from sklearn.pipeline import make_pipeline, Pipeline"
   ]
  },
  {
   "cell_type": "code",
   "execution_count": 4,
   "metadata": {
    "colab": {},
    "colab_type": "code",
    "id": "QhvLwBKDAsWr"
   },
   "outputs": [
    {
     "name": "stderr",
     "output_type": "stream",
     "text": [
      "Failed to import duecredit due to No module named 'duecredit'\n"
     ]
    },
    {
     "name": "stdout",
     "output_type": "stream",
     "text": [
      "Successful import\n"
     ]
    }
   ],
   "source": [
    "try:\n",
    "    import forestci as fci\n",
    "    print(\"Successful import\")\n",
    "except ImportError as e:\n",
    "    ! pip install forestci\n",
    "    import forestci as fci"
   ]
  },
  {
   "cell_type": "code",
   "execution_count": 5,
   "metadata": {
    "colab": {
     "base_uri": "https://localhost:8080/",
     "height": 51
    },
    "colab_type": "code",
    "executionInfo": {
     "elapsed": 8992,
     "status": "ok",
     "timestamp": 1596204657520,
     "user": {
      "displayName": "George Batchkala",
      "photoUrl": "",
      "userId": "17039292136363863281"
     },
     "user_tz": -180
    },
    "id": "sdLWt3y9rOMc",
    "outputId": "70fd657b-771a-4503-c009-da14e2ae998e"
   },
   "outputs": [
    {
     "name": "stdout",
     "output_type": "stream",
     "text": [
      "0.23.1\n",
      "0.4.1\n"
     ]
    }
   ],
   "source": [
    "import sklearn\n",
    "print(sklearn.__version__)\n",
    "print(fci.__version__)"
   ]
  },
  {
   "cell_type": "markdown",
   "metadata": {
    "colab_type": "text",
    "id": "pCdK4Iwk6gND"
   },
   "source": [
    "### Custom imports"
   ]
  },
  {
   "cell_type": "code",
   "execution_count": 6,
   "metadata": {
    "colab": {},
    "colab_type": "code",
    "id": "gllhJNPK6gNE"
   },
   "outputs": [],
   "source": [
    "sys.path.insert(0, '..')\n",
    "\n",
    "# preprocessing\n",
    "from util_scripts.preprocessing_functions import list_highly_correlated\n",
    "\n",
    "# plotting\n",
    "from util_scripts.plotting_functions_and_vars import FIGSIZE_CI, FIGSIZE_HEATMAP, PLOTS_DIR\n",
    "from util_scripts.plotting_functions_and_vars import datasets_to_titles, datasets_to_units, metrics_to_labels\n",
    "\n",
    "sys.path.insert(0, './notebooks')"
   ]
  },
  {
   "cell_type": "code",
   "execution_count": 7,
   "metadata": {
    "colab": {
     "base_uri": "https://localhost:8080/",
     "height": 238
    },
    "colab_type": "code",
    "executionInfo": {
     "elapsed": 8367,
     "status": "ok",
     "timestamp": 1596204657521,
     "user": {
      "displayName": "George Batchkala",
      "photoUrl": "",
      "userId": "17039292136363863281"
     },
     "user_tz": -180
    },
    "id": "WibLUruB6gNH",
    "outputId": "b37a28b0-6bd2-4b8e-d6f1-accc873ed0ac"
   },
   "outputs": [
    {
     "name": "stdout",
     "output_type": "stream",
     "text": [
      "Help on function list_highly_correlated in module util_scripts.preprocessing_functions:\n",
      "\n",
      "list_highly_correlated(df_features, targets, threshold=0.8)\n",
      "    List column names of the dataframe of features which are highly correlated\n",
      "    to the target (absolute value of the correlation is greater than the threshold).\n",
      "    \n",
      "    Parameters\n",
      "    ----------\n",
      "    df_features : (n, p) pandas.core.frame.DataFrame of p features\n",
      "                  Input array.\n",
      "    targets     : (n,) pandas.core.series.Series of targets\n",
      "                  Input array.\n",
      "    threshold   : float in [0, 1] above which we consider a feature highly correlated\n",
      "    \n",
      "    Returns\n",
      "    -------\n",
      "    cols_to_remove : list of column names from df_features, which are highly correlated\n",
      "                     to the target\n",
      "\n"
     ]
    }
   ],
   "source": [
    "help(list_highly_correlated)"
   ]
  },
  {
   "cell_type": "markdown",
   "metadata": {
    "colab_type": "text",
    "id": "daKbVAugrOMs"
   },
   "source": [
    "## Set plotting style"
   ]
  },
  {
   "cell_type": "code",
   "execution_count": 8,
   "metadata": {
    "colab": {},
    "colab_type": "code",
    "id": "wEF0rQL3rOMt"
   },
   "outputs": [],
   "source": [
    "%matplotlib inline\n",
    "plt.style.use('fivethirtyeight')\n",
    "\n",
    "plt.rcParams['axes.facecolor']='w'\n",
    "#plt.rcParams['axes.linewidth']=1\n",
    "plt.rcParams['axes.edgecolor']='w'\n",
    "plt.rcParams['figure.facecolor']='w'\n",
    "plt.rcParams['savefig.facecolor']='w'\n",
    "#plt.rcParams['grid.color']='white'"
   ]
  },
  {
   "cell_type": "markdown",
   "metadata": {
    "colab_type": "text",
    "id": "o4r2WevweR5i"
   },
   "source": [
    "# Load Data (same everywhere)"
   ]
  },
  {
   "cell_type": "markdown",
   "metadata": {
    "colab_type": "text",
    "id": "K-fg6Gq6qt8p"
   },
   "source": [
    "## CHOOSE: dataset, smile_type, grid_search_type"
   ]
  },
  {
   "cell_type": "code",
   "execution_count": 9,
   "metadata": {
    "colab": {},
    "colab_type": "code",
    "id": "DmVtuXvrrOMx"
   },
   "outputs": [],
   "source": [
    "dataset = 'freesolv'\n",
    "assert dataset in ['freesolv', 'esol', 'lipophilicity']\n",
    "\n",
    "smile_type = 'original'\n",
    "assert smile_type in ['original', 'protonated']\n",
    "\n",
    "grid_search_type = 'reproducing'\n",
    "assert grid_search_type in ['reproducing', 'extended']"
   ]
  },
  {
   "cell_type": "code",
   "execution_count": 10,
   "metadata": {},
   "outputs": [
    {
     "name": "stdout",
     "output_type": "stream",
     "text": [
      "freesolv      :  Solvation Energy\n",
      "esol          :  Log Solubility\n",
      "lipophilicity :  Octanol/Water Distribution Coefficient\n"
     ]
    }
   ],
   "source": [
    "for key, value in datasets_to_titles.items():\n",
    "    print(key, (13 - len(key))*' ' + ': ',  value)"
   ]
  },
  {
   "cell_type": "code",
   "execution_count": 11,
   "metadata": {},
   "outputs": [
    {
     "name": "stdout",
     "output_type": "stream",
     "text": [
      "freesolv      :  (kcal/mol)\n",
      "esol          :  (mol/litre)\n",
      "lipophilicity :  (logD)\n"
     ]
    }
   ],
   "source": [
    "for key, value in datasets_to_units.items():\n",
    "    print(key, (13 - len(key))*' ' + ': ',  value)"
   ]
  },
  {
   "cell_type": "code",
   "execution_count": null,
   "metadata": {},
   "outputs": [],
   "source": []
  },
  {
   "cell_type": "markdown",
   "metadata": {
    "colab_type": "text",
    "id": "1PIRIaAszL4P"
   },
   "source": [
    "## Load Features and Targets"
   ]
  },
  {
   "cell_type": "markdown",
   "metadata": {
    "colab_type": "text",
    "id": "0j-LrNtiVaEG"
   },
   "source": [
    "Leave all features here so setup and Load and prepare data are the same everywhere."
   ]
  },
  {
   "cell_type": "code",
   "execution_count": 12,
   "metadata": {
    "colab": {},
    "colab_type": "code",
    "id": "xmL5nV-BeOcC"
   },
   "outputs": [],
   "source": [
    "# original data\n",
    "id_smile_target = pd.read_csv(f'../data/{dataset}_{smile_type}_IdSmilesLabels.csv', index_col=0)\n",
    "# labels\n",
    "labels = id_smile_target['labels']"
   ]
  },
  {
   "cell_type": "code",
   "execution_count": 13,
   "metadata": {
    "colab": {},
    "colab_type": "code",
    "id": "_Do5D_wx6gNW"
   },
   "outputs": [],
   "source": [
    "# fingerprints\n",
    "ecfp4_1024_features = pd.read_csv(f'../data/{dataset}_{smile_type}_1024ecfp4_features.csv', index_col=0)\n",
    "ecfp6_1024_features = pd.read_csv(f'../data/{dataset}_{smile_type}_1024ecfp6_features.csv', index_col=0)\n",
    "\n",
    "ecfp4_2048_features = pd.read_csv(f'../data/{dataset}_{smile_type}_2048ecfp4_features.csv', index_col=0)\n",
    "ecfp6_2048_features = pd.read_csv(f'../data/{dataset}_{smile_type}_2048ecfp6_features.csv', index_col=0)"
   ]
  },
  {
   "cell_type": "code",
   "execution_count": 14,
   "metadata": {
    "colab": {
     "base_uri": "https://localhost:8080/",
     "height": 102
    },
    "colab_type": "code",
    "executionInfo": {
     "elapsed": 7087,
     "status": "ok",
     "timestamp": 1596204658205,
     "user": {
      "displayName": "George Batchkala",
      "photoUrl": "",
      "userId": "17039292136363863281"
     },
     "user_tz": -180
    },
    "id": "lKWlptyV6gNZ",
    "outputId": "dcb239b6-e200-4246-99a0-3eb39211d539"
   },
   "outputs": [
    {
     "name": "stdout",
     "output_type": "stream",
     "text": [
      "\n",
      "Found 0 highly-correlated feature(s):\n",
      "[]\n",
      "\n",
      "Removing 0 highly correlated feature(s).\n"
     ]
    }
   ],
   "source": [
    "# RDKit descriptors\n",
    "rdkit_features = pd.read_csv(f'../data/{dataset}_{smile_type}_rdkit_features.csv', index_col=0)\n",
    "\n",
    "highly_correlated_features = list_highly_correlated(rdkit_features, labels, threshold=0.75)\n",
    "\n",
    "print(f'\\nRemoving {len(highly_correlated_features)} highly correlated feature(s).')\n",
    "rdkit_features = rdkit_features.drop(highly_correlated_features, axis=1)"
   ]
  },
  {
   "cell_type": "code",
   "execution_count": 15,
   "metadata": {
    "colab": {
     "base_uri": "https://localhost:8080/",
     "height": 119
    },
    "colab_type": "code",
    "executionInfo": {
     "elapsed": 6958,
     "status": "ok",
     "timestamp": 1596204658206,
     "user": {
      "displayName": "George Batchkala",
      "photoUrl": "",
      "userId": "17039292136363863281"
     },
     "user_tz": -180
    },
    "id": "1XSkUqI-rONB",
    "outputId": "ce81034c-7ac5-4108-955b-a5986c294fcc"
   },
   "outputs": [
    {
     "name": "stdout",
     "output_type": "stream",
     "text": [
      "rdkit_features.shape:       (642, 200)\n",
      "ecfp4_1024_features.shape:  (642, 1024)\n",
      "ecfp6_1024_features.shape:  (642, 1024)\n",
      "ecfp4_2048_features.shape:  (642, 2048)\n",
      "ecfp6_2048_features.shape:  (642, 2048)\n",
      "labels.shape:               (642,)\n"
     ]
    }
   ],
   "source": [
    "print('rdkit_features.shape:      ', rdkit_features.shape)\n",
    "print('ecfp4_1024_features.shape: ', ecfp4_1024_features.shape)\n",
    "print('ecfp6_1024_features.shape: ', ecfp6_1024_features.shape)\n",
    "print('ecfp4_2048_features.shape: ', ecfp4_2048_features.shape)\n",
    "print('ecfp6_2048_features.shape: ', ecfp6_2048_features.shape)\n",
    "print('labels.shape:              ', labels.shape)"
   ]
  },
  {
   "cell_type": "code",
   "execution_count": 16,
   "metadata": {
    "colab": {
     "base_uri": "https://localhost:8080/",
     "height": 136
    },
    "colab_type": "code",
    "executionInfo": {
     "elapsed": 6886,
     "status": "ok",
     "timestamp": 1596204658208,
     "user": {
      "displayName": "George Batchkala",
      "photoUrl": "",
      "userId": "17039292136363863281"
     },
     "user_tz": -180
    },
    "id": "r6LtAy9jzToO",
    "outputId": "77b45b2b-0b69-4e56-9bec-0e149569d6ad"
   },
   "outputs": [
    {
     "data": {
      "text/plain": [
       "id\n",
       "4-methoxy-N,N-dimethyl-benzamide   -11.01\n",
       "methanesulfonyl chloride            -4.87\n",
       "3-methylbut-1-ene                    1.83\n",
       "2-ethylpyrazine                     -5.45\n",
       "heptan-1-ol                         -4.21\n",
       "Name: labels, dtype: float64"
      ]
     },
     "execution_count": 16,
     "metadata": {},
     "output_type": "execute_result"
    }
   ],
   "source": [
    "labels.head()"
   ]
  },
  {
   "cell_type": "markdown",
   "metadata": {
    "colab_type": "text",
    "id": "vH3i_hYSV8Tc"
   },
   "source": [
    "## Create one DataFrame with all features"
   ]
  },
  {
   "cell_type": "code",
   "execution_count": 17,
   "metadata": {
    "colab": {},
    "colab_type": "code",
    "id": "mR3iubyprONg"
   },
   "outputs": [],
   "source": [
    "all_features = pd.concat([rdkit_features,\n",
    "                          ecfp4_1024_features, ecfp6_1024_features,\n",
    "                          ecfp4_2048_features, ecfp6_2048_features],\n",
    "                         axis='columns')"
   ]
  },
  {
   "cell_type": "code",
   "execution_count": 18,
   "metadata": {
    "colab": {
     "base_uri": "https://localhost:8080/",
     "height": 34
    },
    "colab_type": "code",
    "executionInfo": {
     "elapsed": 6324,
     "status": "ok",
     "timestamp": 1596204658210,
     "user": {
      "displayName": "George Batchkala",
      "photoUrl": "",
      "userId": "17039292136363863281"
     },
     "user_tz": -180
    },
    "id": "HyDTS2G3rONj",
    "outputId": "62a0bfcf-4685-4b16-dade-f11d393c46dd"
   },
   "outputs": [
    {
     "data": {
      "text/plain": [
       "(642, 6344)"
      ]
     },
     "execution_count": 18,
     "metadata": {},
     "output_type": "execute_result"
    }
   ],
   "source": [
    "all_features.shape"
   ]
  },
  {
   "cell_type": "code",
   "execution_count": 19,
   "metadata": {
    "colab": {
     "base_uri": "https://localhost:8080/",
     "height": 338
    },
    "colab_type": "code",
    "executionInfo": {
     "elapsed": 6367,
     "status": "ok",
     "timestamp": 1596204658439,
     "user": {
      "displayName": "George Batchkala",
      "photoUrl": "",
      "userId": "17039292136363863281"
     },
     "user_tz": -180
    },
    "id": "gOJ28OUyrONm",
    "outputId": "34163b9a-ebe0-4407-a90e-07879f9f8963"
   },
   "outputs": [
    {
     "data": {
      "text/html": [
       "<div>\n",
       "<style scoped>\n",
       "    .dataframe tbody tr th:only-of-type {\n",
       "        vertical-align: middle;\n",
       "    }\n",
       "\n",
       "    .dataframe tbody tr th {\n",
       "        vertical-align: top;\n",
       "    }\n",
       "\n",
       "    .dataframe thead th {\n",
       "        text-align: right;\n",
       "    }\n",
       "</style>\n",
       "<table border=\"1\" class=\"dataframe\">\n",
       "  <thead>\n",
       "    <tr style=\"text-align: right;\">\n",
       "      <th></th>\n",
       "      <th>MaxEStateIndex</th>\n",
       "      <th>MinEStateIndex</th>\n",
       "      <th>MaxAbsEStateIndex</th>\n",
       "      <th>MinAbsEStateIndex</th>\n",
       "      <th>qed</th>\n",
       "      <th>MolWt</th>\n",
       "      <th>HeavyAtomMolWt</th>\n",
       "      <th>ExactMolWt</th>\n",
       "      <th>NumValenceElectrons</th>\n",
       "      <th>NumRadicalElectrons</th>\n",
       "      <th>...</th>\n",
       "      <th>2048ecfp6-2038</th>\n",
       "      <th>2048ecfp6-2039</th>\n",
       "      <th>2048ecfp6-2040</th>\n",
       "      <th>2048ecfp6-2041</th>\n",
       "      <th>2048ecfp6-2042</th>\n",
       "      <th>2048ecfp6-2043</th>\n",
       "      <th>2048ecfp6-2044</th>\n",
       "      <th>2048ecfp6-2045</th>\n",
       "      <th>2048ecfp6-2046</th>\n",
       "      <th>2048ecfp6-2047</th>\n",
       "    </tr>\n",
       "  </thead>\n",
       "  <tbody>\n",
       "    <tr>\n",
       "      <th>4-methoxy-N,N-dimethyl-benzamide</th>\n",
       "      <td>12.428170</td>\n",
       "      <td>-3.458874</td>\n",
       "      <td>12.428170</td>\n",
       "      <td>0.519264</td>\n",
       "      <td>0.686360</td>\n",
       "      <td>179.219</td>\n",
       "      <td>166.115</td>\n",
       "      <td>179.094629</td>\n",
       "      <td>70.0</td>\n",
       "      <td>0.0</td>\n",
       "      <td>...</td>\n",
       "      <td>0</td>\n",
       "      <td>0</td>\n",
       "      <td>0</td>\n",
       "      <td>0</td>\n",
       "      <td>0</td>\n",
       "      <td>0</td>\n",
       "      <td>0</td>\n",
       "      <td>0</td>\n",
       "      <td>0</td>\n",
       "      <td>0</td>\n",
       "    </tr>\n",
       "    <tr>\n",
       "      <th>methanesulfonyl chloride</th>\n",
       "      <td>9.855710</td>\n",
       "      <td>-4.368056</td>\n",
       "      <td>9.855710</td>\n",
       "      <td>3.074846</td>\n",
       "      <td>0.421427</td>\n",
       "      <td>114.553</td>\n",
       "      <td>111.529</td>\n",
       "      <td>113.954228</td>\n",
       "      <td>32.0</td>\n",
       "      <td>0.0</td>\n",
       "      <td>...</td>\n",
       "      <td>0</td>\n",
       "      <td>0</td>\n",
       "      <td>0</td>\n",
       "      <td>0</td>\n",
       "      <td>0</td>\n",
       "      <td>0</td>\n",
       "      <td>0</td>\n",
       "      <td>0</td>\n",
       "      <td>0</td>\n",
       "      <td>0</td>\n",
       "    </tr>\n",
       "    <tr>\n",
       "      <th>3-methylbut-1-ene</th>\n",
       "      <td>7.349537</td>\n",
       "      <td>-3.289005</td>\n",
       "      <td>7.349537</td>\n",
       "      <td>1.280324</td>\n",
       "      <td>0.412737</td>\n",
       "      <td>70.135</td>\n",
       "      <td>60.055</td>\n",
       "      <td>70.078250</td>\n",
       "      <td>30.0</td>\n",
       "      <td>0.0</td>\n",
       "      <td>...</td>\n",
       "      <td>0</td>\n",
       "      <td>0</td>\n",
       "      <td>0</td>\n",
       "      <td>0</td>\n",
       "      <td>0</td>\n",
       "      <td>0</td>\n",
       "      <td>0</td>\n",
       "      <td>0</td>\n",
       "      <td>0</td>\n",
       "      <td>0</td>\n",
       "    </tr>\n",
       "    <tr>\n",
       "      <th>2-ethylpyrazine</th>\n",
       "      <td>7.363796</td>\n",
       "      <td>-3.006484</td>\n",
       "      <td>7.363796</td>\n",
       "      <td>0.587878</td>\n",
       "      <td>0.536795</td>\n",
       "      <td>108.144</td>\n",
       "      <td>100.080</td>\n",
       "      <td>108.068748</td>\n",
       "      <td>42.0</td>\n",
       "      <td>0.0</td>\n",
       "      <td>...</td>\n",
       "      <td>0</td>\n",
       "      <td>0</td>\n",
       "      <td>0</td>\n",
       "      <td>0</td>\n",
       "      <td>0</td>\n",
       "      <td>0</td>\n",
       "      <td>0</td>\n",
       "      <td>0</td>\n",
       "      <td>0</td>\n",
       "      <td>0</td>\n",
       "    </tr>\n",
       "    <tr>\n",
       "      <th>heptan-1-ol</th>\n",
       "      <td>7.581250</td>\n",
       "      <td>-4.173333</td>\n",
       "      <td>7.581250</td>\n",
       "      <td>3.423878</td>\n",
       "      <td>0.544191</td>\n",
       "      <td>116.204</td>\n",
       "      <td>100.076</td>\n",
       "      <td>116.120115</td>\n",
       "      <td>50.0</td>\n",
       "      <td>0.0</td>\n",
       "      <td>...</td>\n",
       "      <td>0</td>\n",
       "      <td>0</td>\n",
       "      <td>0</td>\n",
       "      <td>0</td>\n",
       "      <td>0</td>\n",
       "      <td>0</td>\n",
       "      <td>0</td>\n",
       "      <td>0</td>\n",
       "      <td>0</td>\n",
       "      <td>0</td>\n",
       "    </tr>\n",
       "  </tbody>\n",
       "</table>\n",
       "<p>5 rows × 6344 columns</p>\n",
       "</div>"
      ],
      "text/plain": [
       "                                  MaxEStateIndex  MinEStateIndex  \\\n",
       "4-methoxy-N,N-dimethyl-benzamide       12.428170       -3.458874   \n",
       "methanesulfonyl chloride                9.855710       -4.368056   \n",
       "3-methylbut-1-ene                       7.349537       -3.289005   \n",
       "2-ethylpyrazine                         7.363796       -3.006484   \n",
       "heptan-1-ol                             7.581250       -4.173333   \n",
       "\n",
       "                                  MaxAbsEStateIndex  MinAbsEStateIndex  \\\n",
       "4-methoxy-N,N-dimethyl-benzamide          12.428170           0.519264   \n",
       "methanesulfonyl chloride                   9.855710           3.074846   \n",
       "3-methylbut-1-ene                          7.349537           1.280324   \n",
       "2-ethylpyrazine                            7.363796           0.587878   \n",
       "heptan-1-ol                                7.581250           3.423878   \n",
       "\n",
       "                                       qed    MolWt  HeavyAtomMolWt  \\\n",
       "4-methoxy-N,N-dimethyl-benzamide  0.686360  179.219         166.115   \n",
       "methanesulfonyl chloride          0.421427  114.553         111.529   \n",
       "3-methylbut-1-ene                 0.412737   70.135          60.055   \n",
       "2-ethylpyrazine                   0.536795  108.144         100.080   \n",
       "heptan-1-ol                       0.544191  116.204         100.076   \n",
       "\n",
       "                                  ExactMolWt  NumValenceElectrons  \\\n",
       "4-methoxy-N,N-dimethyl-benzamide  179.094629                 70.0   \n",
       "methanesulfonyl chloride          113.954228                 32.0   \n",
       "3-methylbut-1-ene                  70.078250                 30.0   \n",
       "2-ethylpyrazine                   108.068748                 42.0   \n",
       "heptan-1-ol                       116.120115                 50.0   \n",
       "\n",
       "                                  NumRadicalElectrons  ...  2048ecfp6-2038  \\\n",
       "4-methoxy-N,N-dimethyl-benzamide                  0.0  ...               0   \n",
       "methanesulfonyl chloride                          0.0  ...               0   \n",
       "3-methylbut-1-ene                                 0.0  ...               0   \n",
       "2-ethylpyrazine                                   0.0  ...               0   \n",
       "heptan-1-ol                                       0.0  ...               0   \n",
       "\n",
       "                                  2048ecfp6-2039  2048ecfp6-2040  \\\n",
       "4-methoxy-N,N-dimethyl-benzamide               0               0   \n",
       "methanesulfonyl chloride                       0               0   \n",
       "3-methylbut-1-ene                              0               0   \n",
       "2-ethylpyrazine                                0               0   \n",
       "heptan-1-ol                                    0               0   \n",
       "\n",
       "                                  2048ecfp6-2041  2048ecfp6-2042  \\\n",
       "4-methoxy-N,N-dimethyl-benzamide               0               0   \n",
       "methanesulfonyl chloride                       0               0   \n",
       "3-methylbut-1-ene                              0               0   \n",
       "2-ethylpyrazine                                0               0   \n",
       "heptan-1-ol                                    0               0   \n",
       "\n",
       "                                  2048ecfp6-2043  2048ecfp6-2044  \\\n",
       "4-methoxy-N,N-dimethyl-benzamide               0               0   \n",
       "methanesulfonyl chloride                       0               0   \n",
       "3-methylbut-1-ene                              0               0   \n",
       "2-ethylpyrazine                                0               0   \n",
       "heptan-1-ol                                    0               0   \n",
       "\n",
       "                                  2048ecfp6-2045  2048ecfp6-2046  \\\n",
       "4-methoxy-N,N-dimethyl-benzamide               0               0   \n",
       "methanesulfonyl chloride                       0               0   \n",
       "3-methylbut-1-ene                              0               0   \n",
       "2-ethylpyrazine                                0               0   \n",
       "heptan-1-ol                                    0               0   \n",
       "\n",
       "                                  2048ecfp6-2047  \n",
       "4-methoxy-N,N-dimethyl-benzamide               0  \n",
       "methanesulfonyl chloride                       0  \n",
       "3-methylbut-1-ene                              0  \n",
       "2-ethylpyrazine                                0  \n",
       "heptan-1-ol                                    0  \n",
       "\n",
       "[5 rows x 6344 columns]"
      ]
     },
     "execution_count": 19,
     "metadata": {},
     "output_type": "execute_result"
    }
   ],
   "source": [
    "all_features.head()"
   ]
  },
  {
   "cell_type": "markdown",
   "metadata": {
    "colab_type": "text",
    "id": "TnLgSfyHRmGt"
   },
   "source": [
    "# CHOOSE: what feature_sets we will iterate over\n",
    "\n",
    "## Put original features into feature_sets\n",
    "Create a dictionary containing feature names (index objects) as its elements"
   ]
  },
  {
   "cell_type": "code",
   "execution_count": 20,
   "metadata": {
    "colab": {},
    "colab_type": "code",
    "id": "2_jKinPorONu"
   },
   "outputs": [],
   "source": [
    "feature_sets = {\n",
    "    'RDKit': rdkit_features.columns,\n",
    "    '1024ecfp-4': ecfp4_1024_features.columns,\n",
    "    '1024ecfp-6': ecfp6_1024_features.columns,\n",
    "    '2048ecfp-4': ecfp4_2048_features.columns,\n",
    "    '2048ecfp-6': ecfp6_2048_features.columns,\n",
    "}"
   ]
  },
  {
   "cell_type": "markdown",
   "metadata": {
    "colab_type": "text",
    "id": "jwrCLNfp6gNx"
   },
   "source": [
    "## Adding a combination of RDKit features with every feature set in the feature_sets dictionary\n"
   ]
  },
  {
   "cell_type": "code",
   "execution_count": 21,
   "metadata": {
    "colab": {},
    "colab_type": "code",
    "id": "FPZpYLzZ6gNy"
   },
   "outputs": [],
   "source": [
    "for f in ['1024ecfp-4', '1024ecfp-6', '2048ecfp-4', '2048ecfp-6']:\n",
    "    feature_sets[f'{f} + RDKit'] = feature_sets[f].union(feature_sets['RDKit'])"
   ]
  },
  {
   "cell_type": "code",
   "execution_count": 22,
   "metadata": {
    "colab": {
     "base_uri": "https://localhost:8080/",
     "height": 170
    },
    "colab_type": "code",
    "executionInfo": {
     "elapsed": 5562,
     "status": "ok",
     "timestamp": 1596204658443,
     "user": {
      "displayName": "George Batchkala",
      "photoUrl": "",
      "userId": "17039292136363863281"
     },
     "user_tz": -180
    },
    "id": "sIL9Zkdw6gN1",
    "outputId": "ae3c06db-a08a-4392-b8d7-fc0d7df3cb2d"
   },
   "outputs": [
    {
     "data": {
      "text/plain": [
       "['RDKit',\n",
       " '1024ecfp-4',\n",
       " '1024ecfp-6',\n",
       " '2048ecfp-4',\n",
       " '2048ecfp-6',\n",
       " '1024ecfp-4 + RDKit',\n",
       " '1024ecfp-6 + RDKit',\n",
       " '2048ecfp-4 + RDKit',\n",
       " '2048ecfp-6 + RDKit']"
      ]
     },
     "execution_count": 22,
     "metadata": {},
     "output_type": "execute_result"
    }
   ],
   "source": [
    "list(feature_sets.keys())"
   ]
  },
  {
   "cell_type": "markdown",
   "metadata": {
    "colab_type": "text",
    "id": "INAt5A-frOOC"
   },
   "source": [
    "# Getting CIs"
   ]
  },
  {
   "cell_type": "code",
   "execution_count": 23,
   "metadata": {
    "colab": {},
    "colab_type": "code",
    "id": "sgGTgrkULavI"
   },
   "outputs": [],
   "source": [
    "# feature set\n",
    "f = '1024ecfp-4'"
   ]
  },
  {
   "cell_type": "code",
   "execution_count": 24,
   "metadata": {
    "colab": {},
    "colab_type": "code",
    "id": "anw6r-JcMpYj"
   },
   "outputs": [],
   "source": [
    "estimators = {\n",
    "    'rf':  RandomForestRegressor(),\n",
    "    'xgb': XGBRegressor(),\n",
    "    'krr': KernelRidge(kernel='rbf'), # 'rbf' used in the paper (defaults to 'linear')\n",
    "    'gp': GaussianProcessRegressor(normalize_y=True), # normilize since we have not normalized here\n",
    "}"
   ]
  },
  {
   "cell_type": "markdown",
   "metadata": {
    "colab_type": "text",
    "id": "j4fvivZIudQF"
   },
   "source": [
    "## Load best parameters"
   ]
  },
  {
   "cell_type": "code",
   "execution_count": 25,
   "metadata": {
    "colab": {},
    "colab_type": "code",
    "id": "R7V7wwMTuD43"
   },
   "outputs": [],
   "source": [
    "with open(f'../results/{dataset}_{smile_type}_{grid_search_type}_random_search_best_params.pickle', 'rb') as fp:\n",
    "    best_params = pickle.load(fp)"
   ]
  },
  {
   "cell_type": "code",
   "execution_count": 26,
   "metadata": {
    "colab": {
     "base_uri": "https://localhost:8080/",
     "height": 119
    },
    "colab_type": "code",
    "executionInfo": {
     "elapsed": 4472,
     "status": "ok",
     "timestamp": 1596204658463,
     "user": {
      "displayName": "George Batchkala",
      "photoUrl": "",
      "userId": "17039292136363863281"
     },
     "user_tz": -180
    },
    "id": "9NLJqrU3v0p2",
    "outputId": "c45c5b9f-741f-4471-903c-322dca651c25"
   },
   "outputs": [
    {
     "data": {
      "text/plain": [
       "{'1024ecfp-4': {'rf': {'rf__n_estimators': 500},\n",
       "  'xgb': {'xgb__n_estimators': 100,\n",
       "   'xgb__max_depth': 7,\n",
       "   'xgb__learning_rate': 0.2},\n",
       "  'krr': {'krr__alpha': 0.01},\n",
       "  'gp': {'gp__kernel': Matern(length_scale=1, nu=1.5) + WhiteKernel(noise_level=1)}}}"
      ]
     },
     "execution_count": 26,
     "metadata": {},
     "output_type": "execute_result"
    }
   ],
   "source": [
    "best_params"
   ]
  },
  {
   "cell_type": "code",
   "execution_count": 27,
   "metadata": {
    "colab": {},
    "colab_type": "code",
    "id": "9cTzKoL3yn7h"
   },
   "outputs": [],
   "source": [
    "X = all_features[feature_sets[f]]\n",
    "y = labels[X.index]"
   ]
  },
  {
   "cell_type": "code",
   "execution_count": 28,
   "metadata": {
    "colab": {},
    "colab_type": "code",
    "id": "rX1LlGf-z1pT"
   },
   "outputs": [],
   "source": [
    "X_train, X_test, y_train, y_test = train_test_split(X, y, test_size=0.20, random_state=42)"
   ]
  },
  {
   "cell_type": "markdown",
   "metadata": {
    "colab_type": "text",
    "id": "_fgz6Cz_yfAH"
   },
   "source": [
    "## Run RF with best parameters on the selected feature set"
   ]
  },
  {
   "cell_type": "code",
   "execution_count": 29,
   "metadata": {
    "colab": {},
    "colab_type": "code",
    "id": "r3BFvcH8MVOo"
   },
   "outputs": [],
   "source": [
    "e = 'rf'"
   ]
  },
  {
   "cell_type": "code",
   "execution_count": 30,
   "metadata": {
    "colab": {
     "base_uri": "https://localhost:8080/",
     "height": 34
    },
    "colab_type": "code",
    "executionInfo": {
     "elapsed": 3785,
     "status": "ok",
     "timestamp": 1596204658690,
     "user": {
      "displayName": "George Batchkala",
      "photoUrl": "",
      "userId": "17039292136363863281"
     },
     "user_tz": -180
    },
    "id": "71-cft7yKYeG",
    "outputId": "349c3984-8a94-42af-e2e0-227f9bffa717"
   },
   "outputs": [
    {
     "name": "stdout",
     "output_type": "stream",
     "text": [
      "{'rf__n_estimators': 500}\n"
     ]
    }
   ],
   "source": [
    "print(best_params[f][e])"
   ]
  },
  {
   "cell_type": "code",
   "execution_count": 31,
   "metadata": {
    "colab": {
     "base_uri": "https://localhost:8080/",
     "height": 221
    },
    "colab_type": "code",
    "executionInfo": {
     "elapsed": 11891,
     "status": "ok",
     "timestamp": 1596204666920,
     "user": {
      "displayName": "George Batchkala",
      "photoUrl": "",
      "userId": "17039292136363863281"
     },
     "user_tz": -180
    },
    "id": "Y9gls6mP0Gl4",
    "outputId": "6438afde-51ae-4fac-c6e1-ac949fa256f6"
   },
   "outputs": [
    {
     "name": "stderr",
     "output_type": "stream",
     "text": [
      "[Parallel(n_jobs=-1)]: Using backend ThreadingBackend with 4 concurrent workers.\n",
      "[Parallel(n_jobs=-1)]: Done  42 tasks      | elapsed:    0.4s\n",
      "[Parallel(n_jobs=-1)]: Done 192 tasks      | elapsed:    1.7s\n",
      "[Parallel(n_jobs=-1)]: Done 442 tasks      | elapsed:    3.9s\n",
      "[Parallel(n_jobs=-1)]: Done 500 out of 500 | elapsed:    4.5s finished\n"
     ]
    },
    {
     "data": {
      "text/plain": [
       "RandomForestRegressor(n_estimators=500, n_jobs=-1, random_state=42, verbose=1)"
      ]
     },
     "execution_count": 31,
     "metadata": {},
     "output_type": "execute_result"
    }
   ],
   "source": [
    "rf = RandomForestRegressor(n_estimators=500,\n",
    "                           random_state=42, n_jobs=-1,\n",
    "                           verbose = 1)\n",
    "\n",
    "rf.fit(X_train, y_train)"
   ]
  },
  {
   "cell_type": "code",
   "execution_count": 32,
   "metadata": {
    "colab": {
     "base_uri": "https://localhost:8080/",
     "height": 102
    },
    "colab_type": "code",
    "executionInfo": {
     "elapsed": 608,
     "status": "ok",
     "timestamp": 1596206990926,
     "user": {
      "displayName": "George Batchkala",
      "photoUrl": "",
      "userId": "17039292136363863281"
     },
     "user_tz": -180
    },
    "id": "UlSpEPTn0aSv",
    "outputId": "562ea3c6-234c-4d68-99f1-9e35db01f796"
   },
   "outputs": [
    {
     "name": "stderr",
     "output_type": "stream",
     "text": [
      "[Parallel(n_jobs=4)]: Using backend ThreadingBackend with 4 concurrent workers.\n",
      "[Parallel(n_jobs=4)]: Done  42 tasks      | elapsed:    0.0s\n",
      "[Parallel(n_jobs=4)]: Done 192 tasks      | elapsed:    0.1s\n",
      "[Parallel(n_jobs=4)]: Done 442 tasks      | elapsed:    0.1s\n",
      "[Parallel(n_jobs=4)]: Done 500 out of 500 | elapsed:    0.2s finished\n"
     ]
    }
   ],
   "source": [
    "y_test_pred = rf.predict(X_test)"
   ]
  },
  {
   "cell_type": "code",
   "execution_count": 33,
   "metadata": {
    "colab": {
     "base_uri": "https://localhost:8080/",
     "height": 102
    },
    "colab_type": "code",
    "executionInfo": {
     "elapsed": 804,
     "status": "ok",
     "timestamp": 1596207007440,
     "user": {
      "displayName": "George Batchkala",
      "photoUrl": "",
      "userId": "17039292136363863281"
     },
     "user_tz": -180
    },
    "id": "ASYc2x6kWcME",
    "outputId": "0b4865d2-cef7-4666-b8ac-9414ba06a764"
   },
   "outputs": [
    {
     "name": "stderr",
     "output_type": "stream",
     "text": [
      "[Parallel(n_jobs=4)]: Using backend ThreadingBackend with 4 concurrent workers.\n",
      "[Parallel(n_jobs=4)]: Done  42 tasks      | elapsed:    0.0s\n",
      "[Parallel(n_jobs=4)]: Done 192 tasks      | elapsed:    0.1s\n",
      "[Parallel(n_jobs=4)]: Done 442 tasks      | elapsed:    0.1s\n",
      "[Parallel(n_jobs=4)]: Done 500 out of 500 | elapsed:    0.2s finished\n"
     ]
    }
   ],
   "source": [
    "y_train_pred = rf.predict(X_train)"
   ]
  },
  {
   "cell_type": "markdown",
   "metadata": {},
   "source": [
    "## Plot the results for test and train observations"
   ]
  },
  {
   "cell_type": "code",
   "execution_count": 34,
   "metadata": {
    "colab": {
     "base_uri": "https://localhost:8080/",
     "height": 304
    },
    "colab_type": "code",
    "executionInfo": {
     "elapsed": 1653,
     "status": "ok",
     "timestamp": 1596207103096,
     "user": {
      "displayName": "George Batchkala",
      "photoUrl": "",
      "userId": "17039292136363863281"
     },
     "user_tz": -180
    },
    "id": "8zlPTujw0wpo",
    "outputId": "e80ab5de-7d13-4707-d54d-24a3253a740f"
   },
   "outputs": [
    {
     "data": {
      "image/png": "[encoded data removed]",
      "text/plain": [
       "<Figure size 432x432 with 1 Axes>"
      ]
     },
     "metadata": {},
     "output_type": "display_data"
    }
   ],
   "source": [
    "# Plot predicted logD without error bars\n",
    "plt.figure(figsize=FIGSIZE_CI)\n",
    "plt.tight_layout()\n",
    "\n",
    "plt.scatter(y_train, y_train_pred, color='blue', label='train set')\n",
    "plt.scatter(y_test, y_test_pred, color='red', label='test set')\n",
    "\n",
    "plt.plot([np.min(y_test), np.max(y_test)], [np.min(y_test), np.max(y_test)], 'k--')\n",
    "\n",
    "plt.xlabel(f'Measured {datasets_to_units[dataset]}')\n",
    "plt.ylabel(f'Predicted {datasets_to_units[dataset]}')\n",
    "plt.title(f'{datasets_to_titles[dataset]}')\n",
    "\n",
    "plt.legend()\n",
    "\n",
    "#plt.savefig(f'{PLOTS_DIR}/pubs_units_values.png', bbox_inches='tight')\n",
    "plt.show()"
   ]
  },
  {
   "cell_type": "markdown",
   "metadata": {},
   "source": [
    "# Confidence Intervals"
   ]
  },
  {
   "cell_type": "markdown",
   "metadata": {},
   "source": [
    "## Calculate confidence bounds using forestci"
   ]
  },
  {
   "cell_type": "code",
   "execution_count": 35,
   "metadata": {
    "colab": {},
    "colab_type": "code",
    "id": "Ht1Kci5UUDZE"
   },
   "outputs": [],
   "source": [
    "# Calculate the variance\n",
    "V_IJ_unbiased = fci.random_forest_error(rf, X_train, X_test)"
   ]
  },
  {
   "cell_type": "code",
   "execution_count": 36,
   "metadata": {
    "colab": {
     "base_uri": "https://localhost:8080/",
     "height": 102
    },
    "colab_type": "code",
    "executionInfo": {
     "elapsed": 560,
     "status": "ok",
     "timestamp": 1596207276280,
     "user": {
      "displayName": "George Batchkala",
      "photoUrl": "",
      "userId": "17039292136363863281"
     },
     "user_tz": -180
    },
    "id": "j0eB973tUMsG",
    "outputId": "2d981955-d17d-40f3-bd4a-87dde0f3d4e9"
   },
   "outputs": [
    {
     "name": "stdout",
     "output_type": "stream",
     "text": [
      "129\n"
     ]
    },
    {
     "data": {
      "text/plain": [
       "array([ 5.07920952,  0.96839748, 13.96330611,  2.86172226,  1.77143724,\n",
       "        1.56137142,  1.41080642,  1.88522917,  1.53191727,  1.50948417,\n",
       "        1.17007493,  1.06096967, 14.00368951,  2.79592779,  2.53511818,\n",
       "        1.36639914,  1.04975873,  1.24339026,  3.55414079,  1.19712991])"
      ]
     },
     "execution_count": 36,
     "metadata": {},
     "output_type": "execute_result"
    }
   ],
   "source": [
    "print(len(V_IJ_unbiased))\n",
    "V_IJ_unbiased[:20]"
   ]
  },
  {
   "cell_type": "code",
   "execution_count": 37,
   "metadata": {
    "colab": {},
    "colab_type": "code",
    "executionInfo": {
     "elapsed": 736,
     "status": "ok",
     "timestamp": 1596207619651,
     "user": {
      "displayName": "George Batchkala",
      "photoUrl": "",
      "userId": "17039292136363863281"
     },
     "user_tz": -180
    },
    "id": "SXkK4l9fXh5U"
   },
   "outputs": [],
   "source": [
    "upper = y_test_pred + 1.96 * np.sqrt(V_IJ_unbiased)\n",
    "lower = y_test_pred - 1.96 * np.sqrt(V_IJ_unbiased)"
   ]
  },
  {
   "cell_type": "code",
   "execution_count": 38,
   "metadata": {
    "colab": {},
    "colab_type": "code",
    "executionInfo": {
     "elapsed": 608,
     "status": "ok",
     "timestamp": 1596211379233,
     "user": {
      "displayName": "George Batchkala",
      "photoUrl": "",
      "userId": "17039292136363863281"
     },
     "user_tz": -180
    },
    "id": "920aWd5cYMiQ"
   },
   "outputs": [],
   "source": [
    "CIs_df = pd.DataFrame(\n",
    "    {'y_test': y_test,\n",
    "     'y_test_pred': y_test_pred,\n",
    "     'lower': lower,\n",
    "     'upper': upper}\n",
    ")\n",
    "CIs_df = CIs_df.sort_values(by='y_test')"
   ]
  },
  {
   "cell_type": "markdown",
   "metadata": {},
   "source": [
    "## Plot test observations with error bars (1 std.)"
   ]
  },
  {
   "cell_type": "code",
   "execution_count": 39,
   "metadata": {
    "colab": {
     "base_uri": "https://localhost:8080/",
     "height": 304
    },
    "colab_type": "code",
    "executionInfo": {
     "elapsed": 669,
     "status": "ok",
     "timestamp": 1596207229223,
     "user": {
      "displayName": "George Batchkala",
      "photoUrl": "",
      "userId": "17039292136363863281"
     },
     "user_tz": -180
    },
    "id": "pWWXwLacUSPA",
    "outputId": "cfdba1db-d93d-4545-d7f5-3d8b3530b013"
   },
   "outputs": [
    {
     "data": {
      "image/png": "[encoded data removed]",
      "text/plain": [
       "<Figure size 432x432 with 1 Axes>"
      ]
     },
     "metadata": {},
     "output_type": "display_data"
    }
   ],
   "source": [
    "# Plot error bars for predicted quantity using unbiased variance\n",
    "plt.figure(figsize=FIGSIZE_CI)\n",
    "\n",
    "plt.errorbar(x=CIs_df.y_test, y=y_test_pred, yerr=np.sqrt(V_IJ_unbiased), fmt='o')\n",
    "plt.plot([np.min(y_test), np.max(y_test)], [np.min(y_test), np.max(y_test)], 'k--')\n",
    "\n",
    "plt.xlabel(f'Measured {datasets_to_units[dataset]}')\n",
    "plt.ylabel(f'Predicted {datasets_to_units[dataset]}')\n",
    "plt.title(f'{datasets_to_titles[dataset]}')\n",
    "\n",
    "#plt.savefig(f'{PLOTS_DIR}/pubs_units_values.png', bbox_inches='tight')\n",
    "plt.show()"
   ]
  },
  {
   "cell_type": "markdown",
   "metadata": {},
   "source": [
    "## Plot 95% confidence intervals"
   ]
  },
  {
   "cell_type": "code",
   "execution_count": 40,
   "metadata": {
    "colab": {},
    "colab_type": "code",
    "id": "cpgd53nspyIa"
   },
   "outputs": [
    {
     "data": {
      "image/png": "[encoded data removed]",
      "text/plain": [
       "<Figure size 432x432 with 1 Axes>"
      ]
     },
     "metadata": {},
     "output_type": "display_data"
    }
   ],
   "source": [
    "fig, ax = plt.subplots(1, figsize=FIGSIZE_CI)\n",
    "\n",
    "ax.plot([np.min(y_test), np.max(y_test)], [np.min(y_test), np.max(y_test)], 'k--', label='perfect prediction')\n",
    "\n",
    "ax.plot(CIs_df.y_test, CIs_df.lower, linewidth=1, linestyle='--', label='lower confidence bound')\n",
    "ax.plot(CIs_df.y_test, CIs_df.upper, linewidth=1, linestyle='--', label='upper confidence bound')\n",
    "ax.fill_between(CIs_df.y_test, CIs_df.upper, CIs_df.lower, facecolor='blue', alpha=0.2)\n",
    "\n",
    "ax.set_xlabel(f'Reported {datasets_to_units[dataset]}')\n",
    "ax.set_ylabel(f'Predicted {datasets_to_units[dataset]}')\n",
    "\n",
    "ax.set_title(f'{datasets_to_titles[dataset]}')\n",
    "ax.legend(loc='upper left')\n",
    "\n",
    "#plt.savefig(f'{PLOTS_DIR}/pubs_units_values.png', bbox_inches='tight')\n",
    "plt.show()"
   ]
  },
  {
   "cell_type": "code",
   "execution_count": 41,
   "metadata": {},
   "outputs": [
    {
     "data": {
      "image/png": "[encoded data removed]",
      "text/plain": [
       "<Figure size 432x432 with 1 Axes>"
      ]
     },
     "metadata": {},
     "output_type": "display_data"
    }
   ],
   "source": [
    "plt.figure(figsize=FIGSIZE_CI)\n",
    "\n",
    "plt.plot([np.min(y_test), np.max(y_test)], [np.min(y_test), np.max(y_test)], 'k--', label='perfect prediction')\n",
    "\n",
    "plt.plot(CIs_df.y_test, CIs_df.lower, linewidth=1, linestyle='--', label='lower confidence bound')\n",
    "plt.plot(CIs_df.y_test, CIs_df.upper, linewidth=1, linestyle='--', label='upper confidence bound')\n",
    "plt.fill_between(CIs_df.y_test, CIs_df.upper, CIs_df.lower, facecolor='blue', alpha=0.2)\n",
    "\n",
    "plt.xlabel(f'Measured {datasets_to_units[dataset]}')\n",
    "plt.ylabel(f'Predicted {datasets_to_units[dataset]}')\n",
    "plt.title(f'{datasets_to_titles[dataset]}')\n",
    "\n",
    "plt.legend(loc='upper left')\n",
    "\n",
    "#plt.savefig(f'{PLOTS_DIR}/pubs_units_values.png', bbox_inches='tight')\n",
    "plt.show()"
   ]
  },
  {
   "cell_type": "markdown",
   "metadata": {},
   "source": [
    "## Calculate the proportion of measured values in test set within 95% CIs"
   ]
  },
  {
   "cell_type": "code",
   "execution_count": 42,
   "metadata": {
    "colab": {
     "base_uri": "https://localhost:8080/",
     "height": 221
    },
    "colab_type": "code",
    "executionInfo": {
     "elapsed": 1723,
     "status": "ok",
     "timestamp": 1596212072845,
     "user": {
      "displayName": "George Batchkala",
      "photoUrl": "",
      "userId": "17039292136363863281"
     },
     "user_tz": -180
    },
    "id": "aZIgKoxLOA-p",
    "outputId": "365530b6-a043-4172-e7dc-3a3e54ba7f61"
   },
   "outputs": [
    {
     "data": {
      "text/plain": [
       "(2R,3R,4R,5R)-Hexan-1,2,3,4,5,6-hexol    False\n",
       "5-iodouracil                              True\n",
       "1,4-diamino-9,10-anthracenedione          True\n",
       "2-amino-9,10-anthraquinone                True\n",
       "acetylsalicylic acid                      True\n",
       "                                         ...  \n",
       "3-methylpentane                           True\n",
       "octane                                    True\n",
       "3-methylheptane                           True\n",
       "nonane                                    True\n",
       "octafluorocyclobutane                    False\n",
       "Length: 129, dtype: bool"
      ]
     },
     "execution_count": 42,
     "metadata": {},
     "output_type": "execute_result"
    }
   ],
   "source": [
    "within_cis = (CIs_df.lower <= CIs_df.y_test) & (CIs_df.y_test <= CIs_df.upper)\n",
    "within_cis"
   ]
  },
  {
   "cell_type": "code",
   "execution_count": 43,
   "metadata": {
    "colab": {
     "base_uri": "https://localhost:8080/",
     "height": 34
    },
    "colab_type": "code",
    "executionInfo": {
     "elapsed": 1543,
     "status": "ok",
     "timestamp": 1596212072846,
     "user": {
      "displayName": "George Batchkala",
      "photoUrl": "",
      "userId": "17039292136363863281"
     },
     "user_tz": -180
    },
    "id": "xn5N35d9oyKp",
    "outputId": "9132e844-0f0f-4788-ee21-aca87e160bad"
   },
   "outputs": [
    {
     "data": {
      "text/plain": [
       "0.875968992248062"
      ]
     },
     "execution_count": 43,
     "metadata": {},
     "output_type": "execute_result"
    }
   ],
   "source": [
    "within_cis.sum() / len(within_cis)"
   ]
  },
  {
   "cell_type": "code",
   "execution_count": null,
   "metadata": {},
   "outputs": [],
   "source": []
  }
 ],
 "metadata": {
  "colab": {
   "collapsed_sections": [],
   "name": "colab_reproducing_rf_ci.ipynb",
   "provenance": [],
   "toc_visible": true
  },
  "kernelspec": {
   "display_name": "Python [conda env:batch-msc] *",
   "language": "python",
   "name": "conda-env-batch-msc-py"
  },
  "language_info": {
   "codemirror_mode": {
    "name": "ipython",
    "version": 3
   },
   "file_extension": ".py",
   "mimetype": "text/x-python",
   "name": "python",
   "nbconvert_exporter": "python",
   "pygments_lexer": "ipython3",
   "version": "3.6.10"
  }
 },
 "nbformat": 4,
 "nbformat_minor": 1
}
