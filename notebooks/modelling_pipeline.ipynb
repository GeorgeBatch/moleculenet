{
 "cells": [
  {
   "cell_type": "markdown",
   "metadata": {},
   "source": [
    "# Setup"
   ]
  },
  {
   "cell_type": "markdown",
   "metadata": {
    "colab_type": "text",
    "id": "jxzJYRinkNb2"
   },
   "source": [
    "## Mount Drive\n"
   ]
  },
  {
   "cell_type": "code",
   "execution_count": 1,
   "metadata": {
    "colab": {
     "base_uri": "https://localhost:8080/",
     "height": 122
    },
    "colab_type": "code",
    "executionInfo": {
     "elapsed": 19788,
     "status": "ok",
     "timestamp": 1593009239071,
     "user": {
      "displayName": "George Batchkala",
      "photoUrl": "",
      "userId": "17039292136363863281"
     },
     "user_tz": -60
    },
    "id": "-LxExBj9kQPk",
    "outputId": "218ce866-4f7a-42c6-ecc4-b6a645e1c945"
   },
   "outputs": [
    {
     "name": "stdout",
     "output_type": "stream",
     "text": [
      "Go to this URL in a browser: https://accounts.google.com/o/oauth2/auth?client_id=947318989803-6bn6qk8qdgf4n4g3pfee6491hc0brc4i.apps.googleusercontent.com&redirect_uri=urn%3aietf%3awg%3aoauth%3a2.0%3aoob&response_type=code&scope=email%20https%3a%2f%2fwww.googleapis.com%2fauth%2fdocs.test%20https%3a%2f%2fwww.googleapis.com%2fauth%2fdrive%20https%3a%2f%2fwww.googleapis.com%2fauth%2fdrive.photos.readonly%20https%3a%2f%2fwww.googleapis.com%2fauth%2fpeopleapi.readonly\n",
      "\n",
      "Enter your authorization code:\n",
      "··········\n",
      "Mounted at /content/drive\n"
     ]
    }
   ],
   "source": [
    "from google.colab import drive\n",
    "drive.mount('/content/drive')"
   ]
  },
  {
   "cell_type": "code",
   "execution_count": 4,
   "metadata": {
    "colab": {
     "base_uri": "https://localhost:8080/",
     "height": 34
    },
    "colab_type": "code",
    "executionInfo": {
     "elapsed": 453,
     "status": "ok",
     "timestamp": 1593009500582,
     "user": {
      "displayName": "George Batchkala",
      "photoUrl": "",
      "userId": "17039292136363863281"
     },
     "user_tz": -60
    },
    "id": "UipGZAsTdu_d",
    "outputId": "d10dea96-f9ad-4e16-c339-c757e55b73f7"
   },
   "outputs": [
    {
     "name": "stdout",
     "output_type": "stream",
     "text": [
      "/content/drive/My Drive/repositories/moleculenet/lipophilicity\n"
     ]
    }
   ],
   "source": [
    "%cd drive/'My Drive'/repositories/moleculenet/notebooks"
   ]
  },
  {
   "cell_type": "code",
   "execution_count": 5,
   "metadata": {
    "colab": {
     "base_uri": "https://localhost:8080/",
     "height": 68
    },
    "colab_type": "code",
    "executionInfo": {
     "elapsed": 2151,
     "status": "ok",
     "timestamp": 1593009503358,
     "user": {
      "displayName": "George Batchkala",
      "photoUrl": "",
      "userId": "17039292136363863281"
     },
     "user_tz": -60
    },
    "id": "KXdDhDGgeIeq",
    "outputId": "9b4feeba-9900-4827-e234-a3d1e02c33f0"
   },
   "outputs": [
    {
     "name": "stdout",
     "output_type": "stream",
     "text": [
      "ecfp4_features  ecfp6_pd.pkl            Lipo_README\n",
      "ecfp4_pd.pkl    get_fingerprints.ipynb  rf_grid_search_on_fingerprints.ipynb\n",
      "ecfp6_features  Lipophilicity.csv\n"
     ]
    }
   ],
   "source": [
    "%ls"
   ]
  },
  {
   "cell_type": "markdown",
   "metadata": {
    "colab_type": "text",
    "id": "cG9tpt04e0iN"
   },
   "source": [
    "## Import modules"
   ]
  },
  {
   "cell_type": "code",
   "execution_count": 180,
   "metadata": {
    "colab": {},
    "colab_type": "code",
    "executionInfo": {
     "elapsed": 698,
     "status": "ok",
     "timestamp": 1593010275668,
     "user": {
      "displayName": "George Batchkala",
      "photoUrl": "",
      "userId": "17039292136363863281"
     },
     "user_tz": -60
    },
    "id": "sjl-QAB5e4I3"
   },
   "outputs": [],
   "source": [
    "# standard modules\n",
    "import numpy as np\n",
    "import pandas as pd\n",
    "import matplotlib.pyplot as plt\n",
    "\n",
    "# evaluating metrics\n",
    "from scipy.stats import pearsonr\n",
    "from sklearn.metrics import make_scorer\n",
    "from sklearn.metrics import mean_squared_error as mse\n",
    "from sklearn.metrics import mean_absolute_error as mae\n",
    "\n",
    "# model selection\n",
    "from sklearn.model_selection import train_test_split, PredefinedSplit\n",
    "from sklearn.model_selection import StratifiedKFold\n",
    "from sklearn.model_selection import RandomizedSearchCV, GridSearchCV\n",
    "from sklearn.model_selection import cross_val_score, cross_validate, cross_val_predict\n",
    "\n",
    "# preprocessing\n",
    "from sklearn.feature_selection import VarianceThreshold # to remove zero-var features\n",
    "from sklearn.preprocessing import MinMaxScaler, Normalizer, StandardScaler\n",
    "\n",
    "# models\n",
    "from sklearn.linear_model import LinearRegression\n",
    "from sklearn.linear_model import ElasticNetCV, ElasticNet\n",
    "from sklearn.ensemble import RandomForestRegressor\n",
    "\n",
    "from xgboost import XGBRegressor\n",
    "from sklearn.ensemble import AdaBoostRegressor\n",
    "from sklearn.ensemble import GradientBoostingRegressor\n",
    "\n",
    "from sklearn.neural_network import MLPRegressor\n",
    "\n",
    "from sklearn.kernel_ridge import KernelRidge\n",
    "\n",
    "from sklearn.gaussian_process import GaussianProcessRegressor\n",
    "from sklearn.gaussian_process.kernels import ConstantKernel, RBF, Matern\n",
    "\n",
    "\n",
    "# pipelines\n",
    "# https://scikit-learn.org/stable/modules/compose.html#combining-estimators\n",
    "from sklearn.pipeline import make_pipeline, Pipeline"
   ]
  },
  {
   "cell_type": "code",
   "execution_count": 137,
   "metadata": {},
   "outputs": [
    {
     "name": "stdout",
     "output_type": "stream",
     "text": [
      "0.23.1\n"
     ]
    }
   ],
   "source": [
    "import sklearn\n",
    "print(sklearn.__version__)"
   ]
  },
  {
   "cell_type": "code",
   "execution_count": 138,
   "metadata": {},
   "outputs": [],
   "source": [
    "try:\n",
    "    import forestci as fci\n",
    "except ImportError as e:\n",
    "    ! pip install forestci\n",
    "    ! pip install forestci\n",
    "    import forestci as fci"
   ]
  },
  {
   "cell_type": "code",
   "execution_count": 139,
   "metadata": {
    "colab": {
     "base_uri": "https://localhost:8080/",
     "height": 34
    },
    "colab_type": "code",
    "executionInfo": {
     "elapsed": 445,
     "status": "ok",
     "timestamp": 1593009507013,
     "user": {
      "displayName": "George Batchkala",
      "photoUrl": "",
      "userId": "17039292136363863281"
     },
     "user_tz": -60
    },
    "id": "xQR-Ysl2wIuu",
    "outputId": "56381e74-d2ea-4a7a-bc29-e6118617066a"
   },
   "outputs": [
    {
     "name": "stdout",
     "output_type": "stream",
     "text": [
      "0.3\n"
     ]
    }
   ],
   "source": [
    "print(fci.__version__)"
   ]
  },
  {
   "cell_type": "markdown",
   "metadata": {},
   "source": [
    "## Set plotting style"
   ]
  },
  {
   "cell_type": "code",
   "execution_count": 6,
   "metadata": {},
   "outputs": [],
   "source": [
    "%matplotlib inline\n",
    "plt.style.use('fivethirtyeight')\n",
    "\n",
    "plt.rcParams['axes.facecolor']='w'\n",
    "#plt.rcParams['axes.linewidth']=1\n",
    "plt.rcParams['axes.edgecolor']='w'\n",
    "plt.rcParams['figure.facecolor']='w'\n",
    "plt.rcParams['savefig.facecolor']='w'\n",
    "#plt.rcParams['grid.color']='white'"
   ]
  },
  {
   "cell_type": "markdown",
   "metadata": {
    "colab_type": "text",
    "id": "o4r2WevweR5i"
   },
   "source": [
    "# Load Data"
   ]
  },
  {
   "cell_type": "code",
   "execution_count": 31,
   "metadata": {},
   "outputs": [],
   "source": [
    "dataset = 'lipophilicity'\n",
    "smile_type = 'original'"
   ]
  },
  {
   "cell_type": "code",
   "execution_count": 32,
   "metadata": {},
   "outputs": [],
   "source": [
    "# READ_ONLY\n",
    "assert dataset in ['esol', 'freesolv', 'lipophilicity']\n",
    "assert smile_type in ['original', 'protonated']"
   ]
  },
  {
   "cell_type": "markdown",
   "metadata": {
    "colab_type": "text",
    "id": "1PIRIaAszL4P"
   },
   "source": [
    "## Load Features"
   ]
  },
  {
   "cell_type": "code",
   "execution_count": 154,
   "metadata": {
    "colab": {
     "base_uri": "https://localhost:8080/",
     "height": 51
    },
    "colab_type": "code",
    "executionInfo": {
     "elapsed": 2583,
     "status": "ok",
     "timestamp": 1593009772935,
     "user": {
      "displayName": "George Batchkala",
      "photoUrl": "",
      "userId": "17039292136363863281"
     },
     "user_tz": -60
    },
    "id": "xmL5nV-BeOcC",
    "outputId": "3c0a60a6-9804-4d8f-97ec-f927b9d0cc20"
   },
   "outputs": [],
   "source": [
    "# original data\n",
    "id_smile_target = pd.read_csv(f'../data/{dataset}_{smile_type}_IdSmileTarget.csv', index_col=0)\n",
    "\n",
    "# features\n",
    "rdkit_features = pd.read_csv(f'../data/{dataset}_{smile_type}_rdkit_features.csv', index_col=0)\n",
    "ecfp4_features = pd.read_csv(f'../data/{dataset}_{smile_type}_ecfp4_features.csv', index_col=0)\n",
    "ecfp6_features = pd.read_csv(f'../data/{dataset}_{smile_type}_ecfp6_features.csv', index_col=0)\n",
    "\n",
    "# load target\n",
    "target = id_smile_target['target']"
   ]
  },
  {
   "cell_type": "code",
   "execution_count": 65,
   "metadata": {},
   "outputs": [
    {
     "name": "stdout",
     "output_type": "stream",
     "text": [
      "rdkit_features.shape:  (4200, 200)\n",
      "ecfp4_features.shape:  (4200, 2048)\n",
      "ecfp6_features.shape:  (4200, 2048)\n",
      "target.shape:          (4200,)\n"
     ]
    }
   ],
   "source": [
    "print('rdkit_features.shape: ', rdkit_features.shape)\n",
    "print('ecfp4_features.shape: ',   ecfp4_features.shape)\n",
    "print('ecfp6_features.shape: ',   ecfp6_features.shape)\n",
    "print('target.shape:         ',       target.shape)"
   ]
  },
  {
   "cell_type": "code",
   "execution_count": 66,
   "metadata": {},
   "outputs": [
    {
     "data": {
      "text/html": [
       "<div>\n",
       "<style scoped>\n",
       "    .dataframe tbody tr th:only-of-type {\n",
       "        vertical-align: middle;\n",
       "    }\n",
       "\n",
       "    .dataframe tbody tr th {\n",
       "        vertical-align: top;\n",
       "    }\n",
       "\n",
       "    .dataframe thead th {\n",
       "        text-align: right;\n",
       "    }\n",
       "</style>\n",
       "<table border=\"1\" class=\"dataframe\">\n",
       "  <thead>\n",
       "    <tr style=\"text-align: right;\">\n",
       "      <th></th>\n",
       "      <th>MaxEStateIndex</th>\n",
       "      <th>MinEStateIndex</th>\n",
       "      <th>MaxAbsEStateIndex</th>\n",
       "      <th>MinAbsEStateIndex</th>\n",
       "      <th>qed</th>\n",
       "      <th>MolWt</th>\n",
       "      <th>HeavyAtomMolWt</th>\n",
       "      <th>ExactMolWt</th>\n",
       "      <th>NumValenceElectrons</th>\n",
       "      <th>NumRadicalElectrons</th>\n",
       "      <th>...</th>\n",
       "      <th>fr_sulfide</th>\n",
       "      <th>fr_sulfonamd</th>\n",
       "      <th>fr_sulfone</th>\n",
       "      <th>fr_term_acetylene</th>\n",
       "      <th>fr_tetrazole</th>\n",
       "      <th>fr_thiazole</th>\n",
       "      <th>fr_thiocyan</th>\n",
       "      <th>fr_thiophene</th>\n",
       "      <th>fr_unbrch_alkane</th>\n",
       "      <th>fr_urea</th>\n",
       "    </tr>\n",
       "  </thead>\n",
       "  <tbody>\n",
       "    <tr>\n",
       "      <th>CHEMBL596271</th>\n",
       "      <td>8.838871</td>\n",
       "      <td>-4.082382</td>\n",
       "      <td>8.838871</td>\n",
       "      <td>0.008322</td>\n",
       "      <td>0.728444</td>\n",
       "      <td>340.858</td>\n",
       "      <td>319.690</td>\n",
       "      <td>340.145474</td>\n",
       "      <td>124.0</td>\n",
       "      <td>0.0</td>\n",
       "      <td>...</td>\n",
       "      <td>0.0</td>\n",
       "      <td>0.0</td>\n",
       "      <td>0.0</td>\n",
       "      <td>0.0</td>\n",
       "      <td>0.0</td>\n",
       "      <td>0.0</td>\n",
       "      <td>0.0</td>\n",
       "      <td>0.0</td>\n",
       "      <td>0.0</td>\n",
       "      <td>0.0</td>\n",
       "    </tr>\n",
       "    <tr>\n",
       "      <th>CHEMBL1951080</th>\n",
       "      <td>15.117958</td>\n",
       "      <td>-6.843264</td>\n",
       "      <td>15.117958</td>\n",
       "      <td>0.920611</td>\n",
       "      <td>0.545587</td>\n",
       "      <td>494.591</td>\n",
       "      <td>468.383</td>\n",
       "      <td>494.118143</td>\n",
       "      <td>178.0</td>\n",
       "      <td>0.0</td>\n",
       "      <td>...</td>\n",
       "      <td>1.0</td>\n",
       "      <td>1.0</td>\n",
       "      <td>0.0</td>\n",
       "      <td>0.0</td>\n",
       "      <td>0.0</td>\n",
       "      <td>0.0</td>\n",
       "      <td>0.0</td>\n",
       "      <td>0.0</td>\n",
       "      <td>0.0</td>\n",
       "      <td>0.0</td>\n",
       "    </tr>\n",
       "    <tr>\n",
       "      <th>CHEMBL1771</th>\n",
       "      <td>13.321227</td>\n",
       "      <td>-3.906276</td>\n",
       "      <td>13.321227</td>\n",
       "      <td>0.250582</td>\n",
       "      <td>0.807761</td>\n",
       "      <td>321.829</td>\n",
       "      <td>305.701</td>\n",
       "      <td>321.059027</td>\n",
       "      <td>110.0</td>\n",
       "      <td>0.0</td>\n",
       "      <td>...</td>\n",
       "      <td>0.0</td>\n",
       "      <td>0.0</td>\n",
       "      <td>0.0</td>\n",
       "      <td>0.0</td>\n",
       "      <td>0.0</td>\n",
       "      <td>0.0</td>\n",
       "      <td>0.0</td>\n",
       "      <td>1.0</td>\n",
       "      <td>0.0</td>\n",
       "      <td>0.0</td>\n",
       "    </tr>\n",
       "    <tr>\n",
       "      <th>CHEMBL234951</th>\n",
       "      <td>14.213604</td>\n",
       "      <td>-4.272077</td>\n",
       "      <td>14.213604</td>\n",
       "      <td>0.187400</td>\n",
       "      <td>0.506650</td>\n",
       "      <td>419.890</td>\n",
       "      <td>401.746</td>\n",
       "      <td>419.070655</td>\n",
       "      <td>146.0</td>\n",
       "      <td>0.0</td>\n",
       "      <td>...</td>\n",
       "      <td>0.0</td>\n",
       "      <td>0.0</td>\n",
       "      <td>0.0</td>\n",
       "      <td>0.0</td>\n",
       "      <td>0.0</td>\n",
       "      <td>0.0</td>\n",
       "      <td>0.0</td>\n",
       "      <td>1.0</td>\n",
       "      <td>0.0</td>\n",
       "      <td>0.0</td>\n",
       "    </tr>\n",
       "    <tr>\n",
       "      <th>CHEMBL565079</th>\n",
       "      <td>14.167882</td>\n",
       "      <td>-4.810274</td>\n",
       "      <td>14.167882</td>\n",
       "      <td>0.671279</td>\n",
       "      <td>0.747686</td>\n",
       "      <td>381.480</td>\n",
       "      <td>354.264</td>\n",
       "      <td>381.216475</td>\n",
       "      <td>148.0</td>\n",
       "      <td>0.0</td>\n",
       "      <td>...</td>\n",
       "      <td>0.0</td>\n",
       "      <td>0.0</td>\n",
       "      <td>0.0</td>\n",
       "      <td>0.0</td>\n",
       "      <td>0.0</td>\n",
       "      <td>0.0</td>\n",
       "      <td>0.0</td>\n",
       "      <td>0.0</td>\n",
       "      <td>0.0</td>\n",
       "      <td>0.0</td>\n",
       "    </tr>\n",
       "  </tbody>\n",
       "</table>\n",
       "<p>5 rows × 200 columns</p>\n",
       "</div>"
      ],
      "text/plain": [
       "               MaxEStateIndex  MinEStateIndex  MaxAbsEStateIndex  \\\n",
       "CHEMBL596271         8.838871       -4.082382           8.838871   \n",
       "CHEMBL1951080       15.117958       -6.843264          15.117958   \n",
       "CHEMBL1771          13.321227       -3.906276          13.321227   \n",
       "CHEMBL234951        14.213604       -4.272077          14.213604   \n",
       "CHEMBL565079        14.167882       -4.810274          14.167882   \n",
       "\n",
       "               MinAbsEStateIndex       qed    MolWt  HeavyAtomMolWt  \\\n",
       "CHEMBL596271            0.008322  0.728444  340.858         319.690   \n",
       "CHEMBL1951080           0.920611  0.545587  494.591         468.383   \n",
       "CHEMBL1771              0.250582  0.807761  321.829         305.701   \n",
       "CHEMBL234951            0.187400  0.506650  419.890         401.746   \n",
       "CHEMBL565079            0.671279  0.747686  381.480         354.264   \n",
       "\n",
       "               ExactMolWt  NumValenceElectrons  NumRadicalElectrons  ...  \\\n",
       "CHEMBL596271   340.145474                124.0                  0.0  ...   \n",
       "CHEMBL1951080  494.118143                178.0                  0.0  ...   \n",
       "CHEMBL1771     321.059027                110.0                  0.0  ...   \n",
       "CHEMBL234951   419.070655                146.0                  0.0  ...   \n",
       "CHEMBL565079   381.216475                148.0                  0.0  ...   \n",
       "\n",
       "               fr_sulfide  fr_sulfonamd  fr_sulfone  fr_term_acetylene  \\\n",
       "CHEMBL596271          0.0           0.0         0.0                0.0   \n",
       "CHEMBL1951080         1.0           1.0         0.0                0.0   \n",
       "CHEMBL1771            0.0           0.0         0.0                0.0   \n",
       "CHEMBL234951          0.0           0.0         0.0                0.0   \n",
       "CHEMBL565079          0.0           0.0         0.0                0.0   \n",
       "\n",
       "               fr_tetrazole  fr_thiazole  fr_thiocyan  fr_thiophene  \\\n",
       "CHEMBL596271            0.0          0.0          0.0           0.0   \n",
       "CHEMBL1951080           0.0          0.0          0.0           0.0   \n",
       "CHEMBL1771              0.0          0.0          0.0           1.0   \n",
       "CHEMBL234951            0.0          0.0          0.0           1.0   \n",
       "CHEMBL565079            0.0          0.0          0.0           0.0   \n",
       "\n",
       "               fr_unbrch_alkane  fr_urea  \n",
       "CHEMBL596271                0.0      0.0  \n",
       "CHEMBL1951080               0.0      0.0  \n",
       "CHEMBL1771                  0.0      0.0  \n",
       "CHEMBL234951                0.0      0.0  \n",
       "CHEMBL565079                0.0      0.0  \n",
       "\n",
       "[5 rows x 200 columns]"
      ]
     },
     "execution_count": 66,
     "metadata": {},
     "output_type": "execute_result"
    }
   ],
   "source": [
    "rdkit_features.head()"
   ]
  },
  {
   "cell_type": "code",
   "execution_count": 67,
   "metadata": {
    "colab": {
     "base_uri": "https://localhost:8080/",
     "height": 253
    },
    "colab_type": "code",
    "executionInfo": {
     "elapsed": 1033,
     "status": "ok",
     "timestamp": 1593009772936,
     "user": {
      "displayName": "George Batchkala",
      "photoUrl": "",
      "userId": "17039292136363863281"
     },
     "user_tz": -60
    },
    "id": "GgF-G6mAw4qa",
    "outputId": "2ede2cdc-f197-4b7d-8314-b39428393e54"
   },
   "outputs": [
    {
     "data": {
      "text/html": [
       "<div>\n",
       "<style scoped>\n",
       "    .dataframe tbody tr th:only-of-type {\n",
       "        vertical-align: middle;\n",
       "    }\n",
       "\n",
       "    .dataframe tbody tr th {\n",
       "        vertical-align: top;\n",
       "    }\n",
       "\n",
       "    .dataframe thead th {\n",
       "        text-align: right;\n",
       "    }\n",
       "</style>\n",
       "<table border=\"1\" class=\"dataframe\">\n",
       "  <thead>\n",
       "    <tr style=\"text-align: right;\">\n",
       "      <th></th>\n",
       "      <th>ecfp4-0</th>\n",
       "      <th>ecfp4-1</th>\n",
       "      <th>ecfp4-2</th>\n",
       "      <th>ecfp4-3</th>\n",
       "      <th>ecfp4-4</th>\n",
       "      <th>ecfp4-5</th>\n",
       "      <th>ecfp4-6</th>\n",
       "      <th>ecfp4-7</th>\n",
       "      <th>ecfp4-8</th>\n",
       "      <th>ecfp4-9</th>\n",
       "      <th>...</th>\n",
       "      <th>ecfp4-2038</th>\n",
       "      <th>ecfp4-2039</th>\n",
       "      <th>ecfp4-2040</th>\n",
       "      <th>ecfp4-2041</th>\n",
       "      <th>ecfp4-2042</th>\n",
       "      <th>ecfp4-2043</th>\n",
       "      <th>ecfp4-2044</th>\n",
       "      <th>ecfp4-2045</th>\n",
       "      <th>ecfp4-2046</th>\n",
       "      <th>ecfp4-2047</th>\n",
       "    </tr>\n",
       "  </thead>\n",
       "  <tbody>\n",
       "    <tr>\n",
       "      <th>CHEMBL596271</th>\n",
       "      <td>0</td>\n",
       "      <td>0</td>\n",
       "      <td>0</td>\n",
       "      <td>0</td>\n",
       "      <td>0</td>\n",
       "      <td>0</td>\n",
       "      <td>0</td>\n",
       "      <td>0</td>\n",
       "      <td>0</td>\n",
       "      <td>0</td>\n",
       "      <td>...</td>\n",
       "      <td>0</td>\n",
       "      <td>0</td>\n",
       "      <td>0</td>\n",
       "      <td>0</td>\n",
       "      <td>0</td>\n",
       "      <td>0</td>\n",
       "      <td>0</td>\n",
       "      <td>0</td>\n",
       "      <td>0</td>\n",
       "      <td>0</td>\n",
       "    </tr>\n",
       "    <tr>\n",
       "      <th>CHEMBL1951080</th>\n",
       "      <td>0</td>\n",
       "      <td>0</td>\n",
       "      <td>0</td>\n",
       "      <td>0</td>\n",
       "      <td>0</td>\n",
       "      <td>0</td>\n",
       "      <td>0</td>\n",
       "      <td>0</td>\n",
       "      <td>0</td>\n",
       "      <td>0</td>\n",
       "      <td>...</td>\n",
       "      <td>0</td>\n",
       "      <td>0</td>\n",
       "      <td>0</td>\n",
       "      <td>0</td>\n",
       "      <td>0</td>\n",
       "      <td>0</td>\n",
       "      <td>0</td>\n",
       "      <td>0</td>\n",
       "      <td>0</td>\n",
       "      <td>0</td>\n",
       "    </tr>\n",
       "    <tr>\n",
       "      <th>CHEMBL1771</th>\n",
       "      <td>0</td>\n",
       "      <td>1</td>\n",
       "      <td>0</td>\n",
       "      <td>0</td>\n",
       "      <td>0</td>\n",
       "      <td>0</td>\n",
       "      <td>0</td>\n",
       "      <td>0</td>\n",
       "      <td>0</td>\n",
       "      <td>0</td>\n",
       "      <td>...</td>\n",
       "      <td>0</td>\n",
       "      <td>0</td>\n",
       "      <td>0</td>\n",
       "      <td>0</td>\n",
       "      <td>0</td>\n",
       "      <td>0</td>\n",
       "      <td>0</td>\n",
       "      <td>0</td>\n",
       "      <td>0</td>\n",
       "      <td>0</td>\n",
       "    </tr>\n",
       "    <tr>\n",
       "      <th>CHEMBL234951</th>\n",
       "      <td>0</td>\n",
       "      <td>1</td>\n",
       "      <td>0</td>\n",
       "      <td>0</td>\n",
       "      <td>0</td>\n",
       "      <td>1</td>\n",
       "      <td>0</td>\n",
       "      <td>0</td>\n",
       "      <td>0</td>\n",
       "      <td>0</td>\n",
       "      <td>...</td>\n",
       "      <td>1</td>\n",
       "      <td>0</td>\n",
       "      <td>0</td>\n",
       "      <td>0</td>\n",
       "      <td>0</td>\n",
       "      <td>0</td>\n",
       "      <td>0</td>\n",
       "      <td>0</td>\n",
       "      <td>0</td>\n",
       "      <td>0</td>\n",
       "    </tr>\n",
       "    <tr>\n",
       "      <th>CHEMBL565079</th>\n",
       "      <td>0</td>\n",
       "      <td>1</td>\n",
       "      <td>0</td>\n",
       "      <td>0</td>\n",
       "      <td>0</td>\n",
       "      <td>0</td>\n",
       "      <td>0</td>\n",
       "      <td>0</td>\n",
       "      <td>0</td>\n",
       "      <td>0</td>\n",
       "      <td>...</td>\n",
       "      <td>0</td>\n",
       "      <td>0</td>\n",
       "      <td>0</td>\n",
       "      <td>0</td>\n",
       "      <td>0</td>\n",
       "      <td>0</td>\n",
       "      <td>0</td>\n",
       "      <td>0</td>\n",
       "      <td>0</td>\n",
       "      <td>0</td>\n",
       "    </tr>\n",
       "  </tbody>\n",
       "</table>\n",
       "<p>5 rows × 2048 columns</p>\n",
       "</div>"
      ],
      "text/plain": [
       "               ecfp4-0  ecfp4-1  ecfp4-2  ecfp4-3  ecfp4-4  ecfp4-5  ecfp4-6  \\\n",
       "CHEMBL596271         0        0        0        0        0        0        0   \n",
       "CHEMBL1951080        0        0        0        0        0        0        0   \n",
       "CHEMBL1771           0        1        0        0        0        0        0   \n",
       "CHEMBL234951         0        1        0        0        0        1        0   \n",
       "CHEMBL565079         0        1        0        0        0        0        0   \n",
       "\n",
       "               ecfp4-7  ecfp4-8  ecfp4-9  ...  ecfp4-2038  ecfp4-2039  \\\n",
       "CHEMBL596271         0        0        0  ...           0           0   \n",
       "CHEMBL1951080        0        0        0  ...           0           0   \n",
       "CHEMBL1771           0        0        0  ...           0           0   \n",
       "CHEMBL234951         0        0        0  ...           1           0   \n",
       "CHEMBL565079         0        0        0  ...           0           0   \n",
       "\n",
       "               ecfp4-2040  ecfp4-2041  ecfp4-2042  ecfp4-2043  ecfp4-2044  \\\n",
       "CHEMBL596271            0           0           0           0           0   \n",
       "CHEMBL1951080           0           0           0           0           0   \n",
       "CHEMBL1771              0           0           0           0           0   \n",
       "CHEMBL234951            0           0           0           0           0   \n",
       "CHEMBL565079            0           0           0           0           0   \n",
       "\n",
       "               ecfp4-2045  ecfp4-2046  ecfp4-2047  \n",
       "CHEMBL596271            0           0           0  \n",
       "CHEMBL1951080           0           0           0  \n",
       "CHEMBL1771              0           0           0  \n",
       "CHEMBL234951            0           0           0  \n",
       "CHEMBL565079            0           0           0  \n",
       "\n",
       "[5 rows x 2048 columns]"
      ]
     },
     "execution_count": 67,
     "metadata": {},
     "output_type": "execute_result"
    }
   ],
   "source": [
    "ecfp4_features.head()"
   ]
  },
  {
   "cell_type": "code",
   "execution_count": 68,
   "metadata": {
    "colab": {
     "base_uri": "https://localhost:8080/",
     "height": 253
    },
    "colab_type": "code",
    "executionInfo": {
     "elapsed": 381,
     "status": "ok",
     "timestamp": 1593009773150,
     "user": {
      "displayName": "George Batchkala",
      "photoUrl": "",
      "userId": "17039292136363863281"
     },
     "user_tz": -60
    },
    "id": "TuqJMhxgxEwP",
    "outputId": "9ad9552e-5dd5-47fd-90be-b4326307dbae"
   },
   "outputs": [
    {
     "data": {
      "text/html": [
       "<div>\n",
       "<style scoped>\n",
       "    .dataframe tbody tr th:only-of-type {\n",
       "        vertical-align: middle;\n",
       "    }\n",
       "\n",
       "    .dataframe tbody tr th {\n",
       "        vertical-align: top;\n",
       "    }\n",
       "\n",
       "    .dataframe thead th {\n",
       "        text-align: right;\n",
       "    }\n",
       "</style>\n",
       "<table border=\"1\" class=\"dataframe\">\n",
       "  <thead>\n",
       "    <tr style=\"text-align: right;\">\n",
       "      <th></th>\n",
       "      <th>ecfp6-0</th>\n",
       "      <th>ecfp6-1</th>\n",
       "      <th>ecfp6-2</th>\n",
       "      <th>ecfp6-3</th>\n",
       "      <th>ecfp6-4</th>\n",
       "      <th>ecfp6-5</th>\n",
       "      <th>ecfp6-6</th>\n",
       "      <th>ecfp6-7</th>\n",
       "      <th>ecfp6-8</th>\n",
       "      <th>ecfp6-9</th>\n",
       "      <th>...</th>\n",
       "      <th>ecfp6-2038</th>\n",
       "      <th>ecfp6-2039</th>\n",
       "      <th>ecfp6-2040</th>\n",
       "      <th>ecfp6-2041</th>\n",
       "      <th>ecfp6-2042</th>\n",
       "      <th>ecfp6-2043</th>\n",
       "      <th>ecfp6-2044</th>\n",
       "      <th>ecfp6-2045</th>\n",
       "      <th>ecfp6-2046</th>\n",
       "      <th>ecfp6-2047</th>\n",
       "    </tr>\n",
       "  </thead>\n",
       "  <tbody>\n",
       "    <tr>\n",
       "      <th>CHEMBL596271</th>\n",
       "      <td>0</td>\n",
       "      <td>0</td>\n",
       "      <td>0</td>\n",
       "      <td>0</td>\n",
       "      <td>0</td>\n",
       "      <td>0</td>\n",
       "      <td>0</td>\n",
       "      <td>0</td>\n",
       "      <td>0</td>\n",
       "      <td>0</td>\n",
       "      <td>...</td>\n",
       "      <td>0</td>\n",
       "      <td>0</td>\n",
       "      <td>0</td>\n",
       "      <td>0</td>\n",
       "      <td>0</td>\n",
       "      <td>0</td>\n",
       "      <td>0</td>\n",
       "      <td>0</td>\n",
       "      <td>0</td>\n",
       "      <td>0</td>\n",
       "    </tr>\n",
       "    <tr>\n",
       "      <th>CHEMBL1951080</th>\n",
       "      <td>0</td>\n",
       "      <td>0</td>\n",
       "      <td>0</td>\n",
       "      <td>1</td>\n",
       "      <td>0</td>\n",
       "      <td>0</td>\n",
       "      <td>0</td>\n",
       "      <td>0</td>\n",
       "      <td>0</td>\n",
       "      <td>0</td>\n",
       "      <td>...</td>\n",
       "      <td>0</td>\n",
       "      <td>0</td>\n",
       "      <td>0</td>\n",
       "      <td>0</td>\n",
       "      <td>0</td>\n",
       "      <td>0</td>\n",
       "      <td>0</td>\n",
       "      <td>1</td>\n",
       "      <td>0</td>\n",
       "      <td>0</td>\n",
       "    </tr>\n",
       "    <tr>\n",
       "      <th>CHEMBL1771</th>\n",
       "      <td>0</td>\n",
       "      <td>1</td>\n",
       "      <td>0</td>\n",
       "      <td>0</td>\n",
       "      <td>0</td>\n",
       "      <td>0</td>\n",
       "      <td>0</td>\n",
       "      <td>0</td>\n",
       "      <td>0</td>\n",
       "      <td>0</td>\n",
       "      <td>...</td>\n",
       "      <td>0</td>\n",
       "      <td>0</td>\n",
       "      <td>0</td>\n",
       "      <td>0</td>\n",
       "      <td>0</td>\n",
       "      <td>0</td>\n",
       "      <td>0</td>\n",
       "      <td>0</td>\n",
       "      <td>0</td>\n",
       "      <td>0</td>\n",
       "    </tr>\n",
       "    <tr>\n",
       "      <th>CHEMBL234951</th>\n",
       "      <td>0</td>\n",
       "      <td>1</td>\n",
       "      <td>0</td>\n",
       "      <td>0</td>\n",
       "      <td>0</td>\n",
       "      <td>1</td>\n",
       "      <td>0</td>\n",
       "      <td>0</td>\n",
       "      <td>0</td>\n",
       "      <td>0</td>\n",
       "      <td>...</td>\n",
       "      <td>1</td>\n",
       "      <td>0</td>\n",
       "      <td>0</td>\n",
       "      <td>0</td>\n",
       "      <td>0</td>\n",
       "      <td>0</td>\n",
       "      <td>0</td>\n",
       "      <td>0</td>\n",
       "      <td>0</td>\n",
       "      <td>0</td>\n",
       "    </tr>\n",
       "    <tr>\n",
       "      <th>CHEMBL565079</th>\n",
       "      <td>0</td>\n",
       "      <td>1</td>\n",
       "      <td>0</td>\n",
       "      <td>1</td>\n",
       "      <td>0</td>\n",
       "      <td>0</td>\n",
       "      <td>0</td>\n",
       "      <td>0</td>\n",
       "      <td>0</td>\n",
       "      <td>0</td>\n",
       "      <td>...</td>\n",
       "      <td>0</td>\n",
       "      <td>0</td>\n",
       "      <td>0</td>\n",
       "      <td>0</td>\n",
       "      <td>0</td>\n",
       "      <td>0</td>\n",
       "      <td>0</td>\n",
       "      <td>0</td>\n",
       "      <td>0</td>\n",
       "      <td>0</td>\n",
       "    </tr>\n",
       "  </tbody>\n",
       "</table>\n",
       "<p>5 rows × 2048 columns</p>\n",
       "</div>"
      ],
      "text/plain": [
       "               ecfp6-0  ecfp6-1  ecfp6-2  ecfp6-3  ecfp6-4  ecfp6-5  ecfp6-6  \\\n",
       "CHEMBL596271         0        0        0        0        0        0        0   \n",
       "CHEMBL1951080        0        0        0        1        0        0        0   \n",
       "CHEMBL1771           0        1        0        0        0        0        0   \n",
       "CHEMBL234951         0        1        0        0        0        1        0   \n",
       "CHEMBL565079         0        1        0        1        0        0        0   \n",
       "\n",
       "               ecfp6-7  ecfp6-8  ecfp6-9  ...  ecfp6-2038  ecfp6-2039  \\\n",
       "CHEMBL596271         0        0        0  ...           0           0   \n",
       "CHEMBL1951080        0        0        0  ...           0           0   \n",
       "CHEMBL1771           0        0        0  ...           0           0   \n",
       "CHEMBL234951         0        0        0  ...           1           0   \n",
       "CHEMBL565079         0        0        0  ...           0           0   \n",
       "\n",
       "               ecfp6-2040  ecfp6-2041  ecfp6-2042  ecfp6-2043  ecfp6-2044  \\\n",
       "CHEMBL596271            0           0           0           0           0   \n",
       "CHEMBL1951080           0           0           0           0           0   \n",
       "CHEMBL1771              0           0           0           0           0   \n",
       "CHEMBL234951            0           0           0           0           0   \n",
       "CHEMBL565079            0           0           0           0           0   \n",
       "\n",
       "               ecfp6-2045  ecfp6-2046  ecfp6-2047  \n",
       "CHEMBL596271            0           0           0  \n",
       "CHEMBL1951080           1           0           0  \n",
       "CHEMBL1771              0           0           0  \n",
       "CHEMBL234951            0           0           0  \n",
       "CHEMBL565079            0           0           0  \n",
       "\n",
       "[5 rows x 2048 columns]"
      ]
     },
     "execution_count": 68,
     "metadata": {},
     "output_type": "execute_result"
    }
   ],
   "source": [
    "ecfp6_features.head()"
   ]
  },
  {
   "cell_type": "code",
   "execution_count": 69,
   "metadata": {
    "colab": {
     "base_uri": "https://localhost:8080/",
     "height": 136
    },
    "colab_type": "code",
    "executionInfo": {
     "elapsed": 526,
     "status": "ok",
     "timestamp": 1593010242398,
     "user": {
      "displayName": "George Batchkala",
      "photoUrl": "",
      "userId": "17039292136363863281"
     },
     "user_tz": -60
    },
    "id": "r6LtAy9jzToO",
    "outputId": "63ac4f3b-d97a-49e1-ef6a-e941f0ca6edc"
   },
   "outputs": [
    {
     "data": {
      "text/plain": [
       "id\n",
       "CHEMBL596271     3.54\n",
       "CHEMBL1951080   -1.18\n",
       "CHEMBL1771       3.69\n",
       "CHEMBL234951     3.37\n",
       "CHEMBL565079     3.10\n",
       "Name: target, dtype: float64"
      ]
     },
     "execution_count": 69,
     "metadata": {},
     "output_type": "execute_result"
    }
   ],
   "source": [
    "target.head()"
   ]
  },
  {
   "cell_type": "markdown",
   "metadata": {
    "colab": {},
    "colab_type": "code",
    "id": "obsNTqU8zKqZ"
   },
   "source": [
    "# Establish Feature Sets"
   ]
  },
  {
   "cell_type": "code",
   "execution_count": 70,
   "metadata": {},
   "outputs": [],
   "source": [
    "all_features = pd.concat([rdkit_features, ecfp4_features, ecfp6_features], axis='columns')"
   ]
  },
  {
   "cell_type": "code",
   "execution_count": 71,
   "metadata": {},
   "outputs": [
    {
     "data": {
      "text/plain": [
       "(4200, 4296)"
      ]
     },
     "execution_count": 71,
     "metadata": {},
     "output_type": "execute_result"
    }
   ],
   "source": [
    "all_features.shape"
   ]
  },
  {
   "cell_type": "code",
   "execution_count": 72,
   "metadata": {},
   "outputs": [
    {
     "data": {
      "text/html": [
       "<div>\n",
       "<style scoped>\n",
       "    .dataframe tbody tr th:only-of-type {\n",
       "        vertical-align: middle;\n",
       "    }\n",
       "\n",
       "    .dataframe tbody tr th {\n",
       "        vertical-align: top;\n",
       "    }\n",
       "\n",
       "    .dataframe thead th {\n",
       "        text-align: right;\n",
       "    }\n",
       "</style>\n",
       "<table border=\"1\" class=\"dataframe\">\n",
       "  <thead>\n",
       "    <tr style=\"text-align: right;\">\n",
       "      <th></th>\n",
       "      <th>MaxEStateIndex</th>\n",
       "      <th>MinEStateIndex</th>\n",
       "      <th>MaxAbsEStateIndex</th>\n",
       "      <th>MinAbsEStateIndex</th>\n",
       "      <th>qed</th>\n",
       "      <th>MolWt</th>\n",
       "      <th>HeavyAtomMolWt</th>\n",
       "      <th>ExactMolWt</th>\n",
       "      <th>NumValenceElectrons</th>\n",
       "      <th>NumRadicalElectrons</th>\n",
       "      <th>...</th>\n",
       "      <th>ecfp6-2038</th>\n",
       "      <th>ecfp6-2039</th>\n",
       "      <th>ecfp6-2040</th>\n",
       "      <th>ecfp6-2041</th>\n",
       "      <th>ecfp6-2042</th>\n",
       "      <th>ecfp6-2043</th>\n",
       "      <th>ecfp6-2044</th>\n",
       "      <th>ecfp6-2045</th>\n",
       "      <th>ecfp6-2046</th>\n",
       "      <th>ecfp6-2047</th>\n",
       "    </tr>\n",
       "  </thead>\n",
       "  <tbody>\n",
       "    <tr>\n",
       "      <th>CHEMBL596271</th>\n",
       "      <td>8.838871</td>\n",
       "      <td>-4.082382</td>\n",
       "      <td>8.838871</td>\n",
       "      <td>0.008322</td>\n",
       "      <td>0.728444</td>\n",
       "      <td>340.858</td>\n",
       "      <td>319.690</td>\n",
       "      <td>340.145474</td>\n",
       "      <td>124.0</td>\n",
       "      <td>0.0</td>\n",
       "      <td>...</td>\n",
       "      <td>0</td>\n",
       "      <td>0</td>\n",
       "      <td>0</td>\n",
       "      <td>0</td>\n",
       "      <td>0</td>\n",
       "      <td>0</td>\n",
       "      <td>0</td>\n",
       "      <td>0</td>\n",
       "      <td>0</td>\n",
       "      <td>0</td>\n",
       "    </tr>\n",
       "    <tr>\n",
       "      <th>CHEMBL1951080</th>\n",
       "      <td>15.117958</td>\n",
       "      <td>-6.843264</td>\n",
       "      <td>15.117958</td>\n",
       "      <td>0.920611</td>\n",
       "      <td>0.545587</td>\n",
       "      <td>494.591</td>\n",
       "      <td>468.383</td>\n",
       "      <td>494.118143</td>\n",
       "      <td>178.0</td>\n",
       "      <td>0.0</td>\n",
       "      <td>...</td>\n",
       "      <td>0</td>\n",
       "      <td>0</td>\n",
       "      <td>0</td>\n",
       "      <td>0</td>\n",
       "      <td>0</td>\n",
       "      <td>0</td>\n",
       "      <td>0</td>\n",
       "      <td>1</td>\n",
       "      <td>0</td>\n",
       "      <td>0</td>\n",
       "    </tr>\n",
       "    <tr>\n",
       "      <th>CHEMBL1771</th>\n",
       "      <td>13.321227</td>\n",
       "      <td>-3.906276</td>\n",
       "      <td>13.321227</td>\n",
       "      <td>0.250582</td>\n",
       "      <td>0.807761</td>\n",
       "      <td>321.829</td>\n",
       "      <td>305.701</td>\n",
       "      <td>321.059027</td>\n",
       "      <td>110.0</td>\n",
       "      <td>0.0</td>\n",
       "      <td>...</td>\n",
       "      <td>0</td>\n",
       "      <td>0</td>\n",
       "      <td>0</td>\n",
       "      <td>0</td>\n",
       "      <td>0</td>\n",
       "      <td>0</td>\n",
       "      <td>0</td>\n",
       "      <td>0</td>\n",
       "      <td>0</td>\n",
       "      <td>0</td>\n",
       "    </tr>\n",
       "    <tr>\n",
       "      <th>CHEMBL234951</th>\n",
       "      <td>14.213604</td>\n",
       "      <td>-4.272077</td>\n",
       "      <td>14.213604</td>\n",
       "      <td>0.187400</td>\n",
       "      <td>0.506650</td>\n",
       "      <td>419.890</td>\n",
       "      <td>401.746</td>\n",
       "      <td>419.070655</td>\n",
       "      <td>146.0</td>\n",
       "      <td>0.0</td>\n",
       "      <td>...</td>\n",
       "      <td>1</td>\n",
       "      <td>0</td>\n",
       "      <td>0</td>\n",
       "      <td>0</td>\n",
       "      <td>0</td>\n",
       "      <td>0</td>\n",
       "      <td>0</td>\n",
       "      <td>0</td>\n",
       "      <td>0</td>\n",
       "      <td>0</td>\n",
       "    </tr>\n",
       "    <tr>\n",
       "      <th>CHEMBL565079</th>\n",
       "      <td>14.167882</td>\n",
       "      <td>-4.810274</td>\n",
       "      <td>14.167882</td>\n",
       "      <td>0.671279</td>\n",
       "      <td>0.747686</td>\n",
       "      <td>381.480</td>\n",
       "      <td>354.264</td>\n",
       "      <td>381.216475</td>\n",
       "      <td>148.0</td>\n",
       "      <td>0.0</td>\n",
       "      <td>...</td>\n",
       "      <td>0</td>\n",
       "      <td>0</td>\n",
       "      <td>0</td>\n",
       "      <td>0</td>\n",
       "      <td>0</td>\n",
       "      <td>0</td>\n",
       "      <td>0</td>\n",
       "      <td>0</td>\n",
       "      <td>0</td>\n",
       "      <td>0</td>\n",
       "    </tr>\n",
       "  </tbody>\n",
       "</table>\n",
       "<p>5 rows × 4296 columns</p>\n",
       "</div>"
      ],
      "text/plain": [
       "               MaxEStateIndex  MinEStateIndex  MaxAbsEStateIndex  \\\n",
       "CHEMBL596271         8.838871       -4.082382           8.838871   \n",
       "CHEMBL1951080       15.117958       -6.843264          15.117958   \n",
       "CHEMBL1771          13.321227       -3.906276          13.321227   \n",
       "CHEMBL234951        14.213604       -4.272077          14.213604   \n",
       "CHEMBL565079        14.167882       -4.810274          14.167882   \n",
       "\n",
       "               MinAbsEStateIndex       qed    MolWt  HeavyAtomMolWt  \\\n",
       "CHEMBL596271            0.008322  0.728444  340.858         319.690   \n",
       "CHEMBL1951080           0.920611  0.545587  494.591         468.383   \n",
       "CHEMBL1771              0.250582  0.807761  321.829         305.701   \n",
       "CHEMBL234951            0.187400  0.506650  419.890         401.746   \n",
       "CHEMBL565079            0.671279  0.747686  381.480         354.264   \n",
       "\n",
       "               ExactMolWt  NumValenceElectrons  NumRadicalElectrons  ...  \\\n",
       "CHEMBL596271   340.145474                124.0                  0.0  ...   \n",
       "CHEMBL1951080  494.118143                178.0                  0.0  ...   \n",
       "CHEMBL1771     321.059027                110.0                  0.0  ...   \n",
       "CHEMBL234951   419.070655                146.0                  0.0  ...   \n",
       "CHEMBL565079   381.216475                148.0                  0.0  ...   \n",
       "\n",
       "               ecfp6-2038  ecfp6-2039  ecfp6-2040  ecfp6-2041  ecfp6-2042  \\\n",
       "CHEMBL596271            0           0           0           0           0   \n",
       "CHEMBL1951080           0           0           0           0           0   \n",
       "CHEMBL1771              0           0           0           0           0   \n",
       "CHEMBL234951            1           0           0           0           0   \n",
       "CHEMBL565079            0           0           0           0           0   \n",
       "\n",
       "               ecfp6-2043  ecfp6-2044  ecfp6-2045  ecfp6-2046  ecfp6-2047  \n",
       "CHEMBL596271            0           0           0           0           0  \n",
       "CHEMBL1951080           0           0           1           0           0  \n",
       "CHEMBL1771              0           0           0           0           0  \n",
       "CHEMBL234951            0           0           0           0           0  \n",
       "CHEMBL565079            0           0           0           0           0  \n",
       "\n",
       "[5 rows x 4296 columns]"
      ]
     },
     "execution_count": 72,
     "metadata": {},
     "output_type": "execute_result"
    }
   ],
   "source": [
    "all_features.head()"
   ]
  },
  {
   "cell_type": "markdown",
   "metadata": {},
   "source": [
    "## Creating feature_sets dictionary with pd.Index objects (containing feature names) as its elements"
   ]
  },
  {
   "cell_type": "markdown",
   "metadata": {},
   "source": [
    "### Add original features into feature_sets"
   ]
  },
  {
   "cell_type": "code",
   "execution_count": 74,
   "metadata": {},
   "outputs": [],
   "source": [
    "feature_sets = {\n",
    "    'RDKit': rdkit_features.columns,\n",
    "    'ECFP-4': ecfp4_features.columns,\n",
    "    'ECFP-6': ecfp6_features.columns,\n",
    "}"
   ]
  },
  {
   "cell_type": "markdown",
   "metadata": {},
   "source": [
    "### Adding a combination of RDKit features with every feature set in the feature_sets dictionary"
   ]
  },
  {
   "cell_type": "code",
   "execution_count": 82,
   "metadata": {},
   "outputs": [],
   "source": [
    "for f in ['ECFP-4', 'ECFP-6']:\n",
    "    feature_sets[f'{f} + RDKit'] = feature_sets[f].union(feature_sets['RDKit'])"
   ]
  },
  {
   "cell_type": "code",
   "execution_count": 86,
   "metadata": {},
   "outputs": [
    {
     "data": {
      "text/plain": [
       "['RDKit', 'ECFP-4', 'ECFP-6', 'ECFP-4 + RDKit', 'ECFP-6 + RDKit']"
      ]
     },
     "execution_count": 86,
     "metadata": {},
     "output_type": "execute_result"
    }
   ],
   "source": [
    "list(feature_sets.keys())"
   ]
  },
  {
   "cell_type": "markdown",
   "metadata": {},
   "source": [
    "# Train-test split"
   ]
  },
  {
   "cell_type": "code",
   "execution_count": 181,
   "metadata": {},
   "outputs": [],
   "source": [
    "# use only 100 observations with 90-10 train-test-split for computational efficiency\n",
    "use_small = True"
   ]
  },
  {
   "cell_type": "markdown",
   "metadata": {},
   "source": [
    "## Choose main feature set to use for now"
   ]
  },
  {
   "cell_type": "code",
   "execution_count": 182,
   "metadata": {},
   "outputs": [],
   "source": [
    "feature_set = 'RDKit'"
   ]
  },
  {
   "cell_type": "code",
   "execution_count": 183,
   "metadata": {},
   "outputs": [],
   "source": [
    "if use_small:\n",
    "    np.random.seed(42)\n",
    "    small = np.random.choice(len(target), 100, replace=False)\n",
    "    \n",
    "    test = small[:int(len(small)*0.1)]\n",
    "    \n",
    "    # removing from all_features pd.DataFrame the protein-ligand complexes present in the test set\n",
    "    train = np.array(list(set(small).difference(set(test))))\n",
    "    \n",
    "    # Creating training and test, features and targets pd.DataFrames\n",
    "    X_train = all_features[feature_sets[feature_set]].iloc[train]\n",
    "    y_train = targets = target.iloc[train]\n",
    "    \n",
    "    X_test = all_features[feature_sets[feature_set]].iloc[test]\n",
    "    y_test = target.iloc[test]\n",
    "else:\n",
    "    X_train, X_test, y_train, y_test = train_test_split(all_features, target, test_size=0.1, random_state=42)"
   ]
  },
  {
   "cell_type": "code",
   "execution_count": 184,
   "metadata": {
    "colab_type": "text",
    "id": "BQbVOx2l8dmT"
   },
   "outputs": [
    {
     "name": "stdout",
     "output_type": "stream",
     "text": [
      "(90, 200) (90,)\n",
      "(10, 200) (10,)\n"
     ]
    }
   ],
   "source": [
    "print(X_train.shape, y_train.shape)\n",
    "print(X_test.shape, y_test.shape)"
   ]
  },
  {
   "cell_type": "markdown",
   "metadata": {},
   "source": [
    "### Create `binned` - an integer representation of all target values in the training set"
   ]
  },
  {
   "cell_type": "code",
   "execution_count": 185,
   "metadata": {},
   "outputs": [
    {
     "name": "stdout",
     "output_type": "stream",
     "text": [
      " 2    30\n",
      " 3    19\n",
      " 1    18\n",
      " 0    17\n",
      " 4     4\n",
      "-1     2\n",
      "Name: target, dtype: int64\n"
     ]
    }
   ],
   "source": [
    "binned = y_train.apply(lambda x: int(x))\n",
    "binned.unique()\n",
    "print(binned.value_counts())"
   ]
  },
  {
   "cell_type": "markdown",
   "metadata": {},
   "source": [
    "# Grid Search for parameters"
   ]
  },
  {
   "cell_type": "markdown",
   "metadata": {},
   "source": [
    "## Separately trying to optimize parameters for NN"
   ]
  },
  {
   "cell_type": "code",
   "execution_count": 186,
   "metadata": {},
   "outputs": [
    {
     "name": "stdout",
     "output_type": "stream",
     "text": [
      "Fitting 5 folds for each of 1 candidates, totalling 5 fits\n"
     ]
    },
    {
     "name": "stderr",
     "output_type": "stream",
     "text": [
      "/Users/macbookair/opt/miniconda3/envs/batch-msc/lib/python3.6/site-packages/sklearn/model_selection/_split.py:672: UserWarning: The least populated class in y has only 2 members, which is less than n_splits=5.\n",
      "  % (min_groups, self.n_splits)), UserWarning)\n",
      "/Users/macbookair/opt/miniconda3/envs/batch-msc/lib/python3.6/site-packages/sklearn/model_selection/_search.py:282: UserWarning: The total space of parameters 1 is smaller than n_iter=100. Running 1 iterations. For exhaustive searches, use GridSearchCV.\n",
      "  % (grid_size, self.n_iter, grid_size), UserWarning)\n",
      "[Parallel(n_jobs=-1)]: Using backend LokyBackend with 4 concurrent workers.\n",
      "[Parallel(n_jobs=-1)]: Done   2 out of   5 | elapsed:    3.7s remaining:    5.5s\n",
      "[Parallel(n_jobs=-1)]: Done   3 out of   5 | elapsed:    3.7s remaining:    2.5s\n",
      "[Parallel(n_jobs=-1)]: Done   5 out of   5 | elapsed:    3.9s remaining:    0.0s\n",
      "[Parallel(n_jobs=-1)]: Done   5 out of   5 | elapsed:    3.9s finished\n"
     ]
    }
   ],
   "source": [
    "\"\"\"\n",
    "# Randomized Grid Search takes a lot of time, use best parameters straight away\n",
    "# while reproducing the results the first time\n",
    "\n",
    "nn_params = {\n",
    "    'nn__hidden_layer_sizes': [(n,) for n in np.arange(5, 100, 5)],\n",
    "    'nn__activation': ['tanh'],\n",
    "    'nn__alpha': 10.0 ** -np.arange(1, 7),\n",
    "    'nn__max_iter': [500, 1000],\n",
    "}\n",
    "\"\"\"\n",
    "\n",
    "nn_params = {\n",
    "    'nn__max_iter': [1000],\n",
    "    'nn__hidden_layer_sizes': [(50,)],\n",
    "    'nn__alpha': [0.1],\n",
    "    'nn__activation': ['tanh']\n",
    "}\n",
    "\n",
    "cv =  StratifiedKFold(n_splits=5, shuffle=True, random_state=42).split(X_train, binned)\n",
    "pipe = Pipeline([('zero-var-feature-remover', VarianceThreshold()), ('scaler', StandardScaler()), ('nn', MLPRegressor())])\n",
    "nn_estimator = RandomizedSearchCV(pipe, param_distributions=nn_params, cv=cv,\n",
    "                                  refit=True, n_iter=100, n_jobs=-1, verbose=10,\n",
    "                                  random_state=42).fit(X_train, y_train)"
   ]
  },
  {
   "cell_type": "code",
   "execution_count": 189,
   "metadata": {},
   "outputs": [
    {
     "name": "stdout",
     "output_type": "stream",
     "text": [
      "Stored 'nn_best_params' (dict)\n"
     ]
    }
   ],
   "source": [
    "nn_best_params = nn_estimator.best_params_\n",
    "\n",
    "%store nn_best_params"
   ]
  },
  {
   "cell_type": "code",
   "execution_count": 190,
   "metadata": {},
   "outputs": [
    {
     "name": "stdout",
     "output_type": "stream",
     "text": [
      "{'nn__max_iter': 1000, 'nn__hidden_layer_sizes': (50,), 'nn__alpha': 0.1, 'nn__activation': 'tanh'}\n"
     ]
    }
   ],
   "source": [
    "# retrieve \n",
    "%store -r nn_best_params\n",
    "print(nn_best_params)"
   ]
  },
  {
   "cell_type": "markdown",
   "metadata": {
    "colab_type": "text",
    "id": "_fgz6Cz_yfAH"
   },
   "source": [
    "# Run a vanilla RF on ECFP-4"
   ]
  },
  {
   "cell_type": "code",
   "execution_count": 16,
   "metadata": {
    "colab": {},
    "colab_type": "code",
    "executionInfo": {
     "elapsed": 666,
     "status": "ok",
     "timestamp": 1593010249089,
     "user": {
      "displayName": "George Batchkala",
      "photoUrl": "",
      "userId": "17039292136363863281"
     },
     "user_tz": -60
    },
    "id": "9cTzKoL3yn7h"
   },
   "outputs": [],
   "source": []
  },
  {
   "cell_type": "code",
   "execution_count": 17,
   "metadata": {
    "colab": {},
    "colab_type": "code",
    "executionInfo": {
     "elapsed": 699,
     "status": "ok",
     "timestamp": 1593010318574,
     "user": {
      "displayName": "George Batchkala",
      "photoUrl": "",
      "userId": "17039292136363863281"
     },
     "user_tz": -60
    },
    "id": "rX1LlGf-z1pT"
   },
   "outputs": [],
   "source": []
  },
  {
   "cell_type": "code",
   "execution_count": 18,
   "metadata": {
    "colab": {
     "base_uri": "https://localhost:8080/",
     "height": 85
    },
    "colab_type": "code",
    "executionInfo": {
     "elapsed": 38625,
     "status": "ok",
     "timestamp": 1593010493426,
     "user": {
      "displayName": "George Batchkala",
      "photoUrl": "",
      "userId": "17039292136363863281"
     },
     "user_tz": -60
    },
    "id": "Y9gls6mP0Gl4",
    "outputId": "80178e8c-79fa-459e-b77e-32b19b2052e7"
   },
   "outputs": [
    {
     "name": "stderr",
     "output_type": "stream",
     "text": [
      "[Parallel(n_jobs=-1)]: Using backend ThreadingBackend with 4 concurrent workers.\n",
      "[Parallel(n_jobs=-1)]: Done  42 tasks      | elapsed:    0.4s\n",
      "[Parallel(n_jobs=-1)]: Done 100 out of 100 | elapsed:    1.2s finished\n"
     ]
    },
    {
     "data": {
      "text/plain": [
       "RandomForestRegressor(n_jobs=-1, random_state=42, verbose=1)"
      ]
     },
     "execution_count": 18,
     "metadata": {},
     "output_type": "execute_result"
    }
   ],
   "source": [
    "rf = RandomForestRegressor(random_state=42, n_jobs=-1,\n",
    "                           verbose = 1)\n",
    "\n",
    "rf.fit(X_train, y_train)"
   ]
  },
  {
   "cell_type": "code",
   "execution_count": 19,
   "metadata": {
    "colab": {
     "base_uri": "https://localhost:8080/",
     "height": 68
    },
    "colab_type": "code",
    "executionInfo": {
     "elapsed": 751,
     "status": "ok",
     "timestamp": 1593010494240,
     "user": {
      "displayName": "George Batchkala",
      "photoUrl": "",
      "userId": "17039292136363863281"
     },
     "user_tz": -60
    },
    "id": "UlSpEPTn0aSv",
    "outputId": "0bdfa3f5-7c4f-4e90-e12d-4b069e907fcc"
   },
   "outputs": [
    {
     "name": "stderr",
     "output_type": "stream",
     "text": [
      "[Parallel(n_jobs=4)]: Using backend ThreadingBackend with 4 concurrent workers.\n",
      "[Parallel(n_jobs=4)]: Done  42 tasks      | elapsed:    0.0s\n",
      "[Parallel(n_jobs=4)]: Done 100 out of 100 | elapsed:    0.0s finished\n"
     ]
    }
   ],
   "source": [
    "y_hat = rf.predict(X_test)"
   ]
  },
  {
   "cell_type": "code",
   "execution_count": 20,
   "metadata": {
    "colab": {
     "base_uri": "https://localhost:8080/",
     "height": 279
    },
    "colab_type": "code",
    "executionInfo": {
     "elapsed": 604,
     "status": "ok",
     "timestamp": 1593010532523,
     "user": {
      "displayName": "George Batchkala",
      "photoUrl": "",
      "userId": "17039292136363863281"
     },
     "user_tz": -60
    },
    "id": "8zlPTujw0wpo",
    "outputId": "b8a19697-7e3b-486f-f91a-c2aaae88f0ce"
   },
   "outputs": [
    {
     "data": {
      "image/png": "[encoded data removed]",
      "text/plain": [
       "<Figure size 432x288 with 1 Axes>"
      ]
     },
     "metadata": {
      "needs_background": "light"
     },
     "output_type": "display_data"
    }
   ],
   "source": [
    "# Plot predicted pK without error bars\n",
    "plt.scatter(y_test, y_hat)\n",
    "plt.plot([-1, 4], [-1, 4], 'k--')\n",
    "plt.xlabel('Reported logD')\n",
    "plt.ylabel('Predicted logD')\n",
    "plt.show()"
   ]
  },
  {
   "cell_type": "code",
   "execution_count": 21,
   "metadata": {
    "colab": {},
    "colab_type": "code",
    "executionInfo": {
     "elapsed": 4266,
     "status": "ok",
     "timestamp": 1593010565612,
     "user": {
      "displayName": "George Batchkala",
      "photoUrl": "",
      "userId": "17039292136363863281"
     },
     "user_tz": -60
    },
    "id": "Ht1Kci5UUDZE"
   },
   "outputs": [
    {
     "ename": "TypeError",
     "evalue": "_generate_sample_indices() missing 1 required positional argument: 'n_samples_bootstrap'",
     "output_type": "error",
     "traceback": [
      "\u001b[0;31m---------------------------------------------------------------------------\u001b[0m",
      "\u001b[0;31mTypeError\u001b[0m                                 Traceback (most recent call last)",
      "\u001b[0;32m<ipython-input-21-0fdc1910dec6>\u001b[0m in \u001b[0;36m<module>\u001b[0;34m\u001b[0m\n\u001b[1;32m      1\u001b[0m \u001b[0;31m# Calculate the variance\u001b[0m\u001b[0;34m\u001b[0m\u001b[0;34m\u001b[0m\u001b[0;34m\u001b[0m\u001b[0m\n\u001b[0;32m----> 2\u001b[0;31m \u001b[0mV_IJ_unbiased\u001b[0m \u001b[0;34m=\u001b[0m \u001b[0mfci\u001b[0m\u001b[0;34m.\u001b[0m\u001b[0mrandom_forest_error\u001b[0m\u001b[0;34m(\u001b[0m\u001b[0mrf\u001b[0m\u001b[0;34m,\u001b[0m \u001b[0mX_train\u001b[0m\u001b[0;34m,\u001b[0m \u001b[0mX_test\u001b[0m\u001b[0;34m)\u001b[0m\u001b[0;34m\u001b[0m\u001b[0;34m\u001b[0m\u001b[0m\n\u001b[0m",
      "\u001b[0;32m~/opt/miniconda3/envs/batch-msc/lib/python3.6/site-packages/forestci/forestci.py\u001b[0m in \u001b[0;36mrandom_forest_error\u001b[0;34m(forest, X_train, X_test, inbag, calibrate, memory_constrained, memory_limit)\u001b[0m\n\u001b[1;32m    230\u001b[0m     \"\"\"\n\u001b[1;32m    231\u001b[0m     \u001b[0;32mif\u001b[0m \u001b[0minbag\u001b[0m \u001b[0;32mis\u001b[0m \u001b[0;32mNone\u001b[0m\u001b[0;34m:\u001b[0m\u001b[0;34m\u001b[0m\u001b[0;34m\u001b[0m\u001b[0m\n\u001b[0;32m--> 232\u001b[0;31m         \u001b[0minbag\u001b[0m \u001b[0;34m=\u001b[0m \u001b[0mcalc_inbag\u001b[0m\u001b[0;34m(\u001b[0m\u001b[0mX_train\u001b[0m\u001b[0;34m.\u001b[0m\u001b[0mshape\u001b[0m\u001b[0;34m[\u001b[0m\u001b[0;36m0\u001b[0m\u001b[0;34m]\u001b[0m\u001b[0;34m,\u001b[0m \u001b[0mforest\u001b[0m\u001b[0;34m)\u001b[0m\u001b[0;34m\u001b[0m\u001b[0;34m\u001b[0m\u001b[0m\n\u001b[0m\u001b[1;32m    233\u001b[0m \u001b[0;34m\u001b[0m\u001b[0m\n\u001b[1;32m    234\u001b[0m     \u001b[0mpred\u001b[0m \u001b[0;34m=\u001b[0m \u001b[0mnp\u001b[0m\u001b[0;34m.\u001b[0m\u001b[0marray\u001b[0m\u001b[0;34m(\u001b[0m\u001b[0;34m[\u001b[0m\u001b[0mtree\u001b[0m\u001b[0;34m.\u001b[0m\u001b[0mpredict\u001b[0m\u001b[0;34m(\u001b[0m\u001b[0mX_test\u001b[0m\u001b[0;34m)\u001b[0m \u001b[0;32mfor\u001b[0m \u001b[0mtree\u001b[0m \u001b[0;32min\u001b[0m \u001b[0mforest\u001b[0m\u001b[0;34m]\u001b[0m\u001b[0;34m)\u001b[0m\u001b[0;34m.\u001b[0m\u001b[0mT\u001b[0m\u001b[0;34m\u001b[0m\u001b[0;34m\u001b[0m\u001b[0m\n",
      "\u001b[0;32m~/opt/miniconda3/envs/batch-msc/lib/python3.6/site-packages/forestci/forestci.py\u001b[0m in \u001b[0;36mcalc_inbag\u001b[0;34m(n_samples, forest)\u001b[0m\n\u001b[1;32m     63\u001b[0m         sample_idx.append(\n\u001b[1;32m     64\u001b[0m             _generate_sample_indices(forest.estimators_[t_idx].random_state,\n\u001b[0;32m---> 65\u001b[0;31m                                      n_samples))\n\u001b[0m\u001b[1;32m     66\u001b[0m         \u001b[0minbag\u001b[0m\u001b[0;34m[\u001b[0m\u001b[0;34m:\u001b[0m\u001b[0;34m,\u001b[0m \u001b[0mt_idx\u001b[0m\u001b[0;34m]\u001b[0m \u001b[0;34m=\u001b[0m \u001b[0mnp\u001b[0m\u001b[0;34m.\u001b[0m\u001b[0mbincount\u001b[0m\u001b[0;34m(\u001b[0m\u001b[0msample_idx\u001b[0m\u001b[0;34m[\u001b[0m\u001b[0;34m-\u001b[0m\u001b[0;36m1\u001b[0m\u001b[0;34m]\u001b[0m\u001b[0;34m,\u001b[0m \u001b[0mminlength\u001b[0m\u001b[0;34m=\u001b[0m\u001b[0mn_samples\u001b[0m\u001b[0;34m)\u001b[0m\u001b[0;34m\u001b[0m\u001b[0;34m\u001b[0m\u001b[0m\n\u001b[1;32m     67\u001b[0m     \u001b[0;32mreturn\u001b[0m \u001b[0minbag\u001b[0m\u001b[0;34m\u001b[0m\u001b[0;34m\u001b[0m\u001b[0m\n",
      "\u001b[0;31mTypeError\u001b[0m: _generate_sample_indices() missing 1 required positional argument: 'n_samples_bootstrap'"
     ]
    }
   ],
   "source": [
    "# Calculate the variance\n",
    "V_IJ_unbiased = fci.random_forest_error(rf, X_train, X_test)"
   ]
  },
  {
   "cell_type": "code",
   "execution_count": 22,
   "metadata": {
    "colab": {
     "base_uri": "https://localhost:8080/",
     "height": 102
    },
    "colab_type": "code",
    "executionInfo": {
     "elapsed": 355,
     "status": "ok",
     "timestamp": 1593010566756,
     "user": {
      "displayName": "George Batchkala",
      "photoUrl": "",
      "userId": "17039292136363863281"
     },
     "user_tz": -60
    },
    "id": "j0eB973tUMsG",
    "outputId": "5ad7b507-1f88-4b8c-de63-894c9fd7aeb7"
   },
   "outputs": [
    {
     "ename": "NameError",
     "evalue": "name 'V_IJ_unbiased' is not defined",
     "output_type": "error",
     "traceback": [
      "\u001b[0;31m---------------------------------------------------------------------------\u001b[0m",
      "\u001b[0;31mNameError\u001b[0m                                 Traceback (most recent call last)",
      "\u001b[0;32m<ipython-input-22-517704e6f513>\u001b[0m in \u001b[0;36m<module>\u001b[0;34m\u001b[0m\n\u001b[0;32m----> 1\u001b[0;31m \u001b[0mprint\u001b[0m\u001b[0;34m(\u001b[0m\u001b[0mlen\u001b[0m\u001b[0;34m(\u001b[0m\u001b[0mV_IJ_unbiased\u001b[0m\u001b[0;34m)\u001b[0m\u001b[0;34m)\u001b[0m\u001b[0;34m\u001b[0m\u001b[0;34m\u001b[0m\u001b[0m\n\u001b[0m\u001b[1;32m      2\u001b[0m \u001b[0mV_IJ_unbiased\u001b[0m\u001b[0;34m[\u001b[0m\u001b[0;34m:\u001b[0m\u001b[0;36m20\u001b[0m\u001b[0;34m]\u001b[0m\u001b[0;34m\u001b[0m\u001b[0;34m\u001b[0m\u001b[0m\n",
      "\u001b[0;31mNameError\u001b[0m: name 'V_IJ_unbiased' is not defined"
     ]
    }
   ],
   "source": [
    "print(len(V_IJ_unbiased))\n",
    "V_IJ_unbiased[:20]"
   ]
  },
  {
   "cell_type": "code",
   "execution_count": 23,
   "metadata": {
    "colab": {
     "base_uri": "https://localhost:8080/",
     "height": 279
    },
    "colab_type": "code",
    "executionInfo": {
     "elapsed": 498,
     "status": "ok",
     "timestamp": 1593010581907,
     "user": {
      "displayName": "George Batchkala",
      "photoUrl": "",
      "userId": "17039292136363863281"
     },
     "user_tz": -60
    },
    "id": "pWWXwLacUSPA",
    "outputId": "1cf986d7-8942-4075-e674-394f707030a9"
   },
   "outputs": [
    {
     "ename": "NameError",
     "evalue": "name 'V_IJ_unbiased' is not defined",
     "output_type": "error",
     "traceback": [
      "\u001b[0;31m---------------------------------------------------------------------------\u001b[0m",
      "\u001b[0;31mNameError\u001b[0m                                 Traceback (most recent call last)",
      "\u001b[0;32m<ipython-input-23-fa51768e726f>\u001b[0m in \u001b[0;36m<module>\u001b[0;34m\u001b[0m\n\u001b[1;32m      1\u001b[0m \u001b[0;31m# Plot error bars for predicted pK using unbiased variance\u001b[0m\u001b[0;34m\u001b[0m\u001b[0;34m\u001b[0m\u001b[0;34m\u001b[0m\u001b[0m\n\u001b[0;32m----> 2\u001b[0;31m \u001b[0mplt\u001b[0m\u001b[0;34m.\u001b[0m\u001b[0merrorbar\u001b[0m\u001b[0;34m(\u001b[0m\u001b[0mx\u001b[0m\u001b[0;34m=\u001b[0m\u001b[0my_test\u001b[0m\u001b[0;34m,\u001b[0m \u001b[0my\u001b[0m\u001b[0;34m=\u001b[0m\u001b[0my_hat\u001b[0m\u001b[0;34m,\u001b[0m \u001b[0myerr\u001b[0m\u001b[0;34m=\u001b[0m\u001b[0mnp\u001b[0m\u001b[0;34m.\u001b[0m\u001b[0msqrt\u001b[0m\u001b[0;34m(\u001b[0m\u001b[0mV_IJ_unbiased\u001b[0m\u001b[0;34m)\u001b[0m\u001b[0;34m,\u001b[0m \u001b[0mfmt\u001b[0m\u001b[0;34m=\u001b[0m\u001b[0;34m'o'\u001b[0m\u001b[0;34m)\u001b[0m\u001b[0;34m\u001b[0m\u001b[0;34m\u001b[0m\u001b[0m\n\u001b[0m\u001b[1;32m      3\u001b[0m \u001b[0mplt\u001b[0m\u001b[0;34m.\u001b[0m\u001b[0mplot\u001b[0m\u001b[0;34m(\u001b[0m\u001b[0;34m[\u001b[0m\u001b[0;34m-\u001b[0m\u001b[0;36m1\u001b[0m\u001b[0;34m,\u001b[0m \u001b[0;36m4\u001b[0m\u001b[0;34m]\u001b[0m\u001b[0;34m,\u001b[0m \u001b[0;34m[\u001b[0m\u001b[0;34m-\u001b[0m\u001b[0;36m1\u001b[0m\u001b[0;34m,\u001b[0m \u001b[0;36m4\u001b[0m\u001b[0;34m]\u001b[0m\u001b[0;34m,\u001b[0m \u001b[0;34m'k--'\u001b[0m\u001b[0;34m)\u001b[0m\u001b[0;34m\u001b[0m\u001b[0;34m\u001b[0m\u001b[0m\n\u001b[1;32m      4\u001b[0m \u001b[0mplt\u001b[0m\u001b[0;34m.\u001b[0m\u001b[0mxlabel\u001b[0m\u001b[0;34m(\u001b[0m\u001b[0;34m'Reported logD'\u001b[0m\u001b[0;34m)\u001b[0m\u001b[0;34m\u001b[0m\u001b[0;34m\u001b[0m\u001b[0m\n\u001b[1;32m      5\u001b[0m \u001b[0mplt\u001b[0m\u001b[0;34m.\u001b[0m\u001b[0mylabel\u001b[0m\u001b[0;34m(\u001b[0m\u001b[0;34m'Predicted logD'\u001b[0m\u001b[0;34m)\u001b[0m\u001b[0;34m\u001b[0m\u001b[0;34m\u001b[0m\u001b[0m\n",
      "\u001b[0;31mNameError\u001b[0m: name 'V_IJ_unbiased' is not defined"
     ]
    }
   ],
   "source": [
    "# Plot error bars for predicted pK using unbiased variance\n",
    "plt.errorbar(x=y_test, y=y_hat, yerr=np.sqrt(V_IJ_unbiased), fmt='o')\n",
    "plt.plot([-1, 4], [-1, 4], 'k--')\n",
    "plt.xlabel('Reported logD')\n",
    "plt.ylabel('Predicted logD')\n",
    "plt.show()"
   ]
  },
  {
   "cell_type": "code",
   "execution_count": null,
   "metadata": {
    "colab": {},
    "colab_type": "code",
    "id": "YL81ssWn1G75"
   },
   "outputs": [],
   "source": []
  }
 ],
 "metadata": {
  "colab": {
   "authorship_tag": "ABX9TyN1Vn/WuNVpn09GR9ZUU3I0",
   "collapsed_sections": [
    "1GZlT0HZkIPZ",
    "jxzJYRinkNb2"
   ],
   "name": "rf_grid_search_on_fingerprints.ipynb",
   "provenance": [],
   "toc_visible": true
  },
  "kernelspec": {
   "display_name": "Python [conda env:batch-msc] *",
   "language": "python",
   "name": "conda-env-batch-msc-py"
  },
  "language_info": {
   "codemirror_mode": {
    "name": "ipython",
    "version": 3
   },
   "file_extension": ".py",
   "mimetype": "text/x-python",
   "name": "python",
   "nbconvert_exporter": "python",
   "pygments_lexer": "ipython3",
   "version": "3.6.10"
  }
 },
 "nbformat": 4,
 "nbformat_minor": 1
}
