{
 "cells": [
  {
   "cell_type": "markdown",
   "metadata": {
    "colab_type": "text",
    "id": "iwDYlLl8rOL4"
   },
   "source": [
    "# Setup (local)"
   ]
  },
  {
   "cell_type": "code",
   "execution_count": 1,
   "metadata": {
    "colab": {
     "base_uri": "https://localhost:8080/",
     "height": 119
    },
    "colab_type": "code",
    "executionInfo": {
     "elapsed": 4310,
     "status": "ok",
     "timestamp": 1595926480635,
     "user": {
      "displayName": "George Batchkala",
      "photoUrl": "",
      "userId": "17039292136363863281"
     },
     "user_tz": -180
    },
    "id": "KXdDhDGgeIeq",
    "outputId": "2bc472ea-1a89-4c15-dabf-944ab8517950"
   },
   "outputs": [
    {
     "name": "stdout",
     "output_type": "stream",
     "text": [
      "colab_RF_CIs_on_fingerprints_initial.ipynb\r\n",
      "colab_extended_grid_search_pipeline.ipynb\r\n",
      "colab_reproducing_grid_search_pipeline.ipynb\r\n",
      "get_protenated_from_canonical.ipynb\r\n",
      "necessary_eda.ipynb\r\n",
      "visualise_extended_grid_search_results.ipynb\r\n",
      "visualise_grid_search_results.ipynb\r\n",
      "visualise_reproducing_grid_search_results.ipynb\r\n"
     ]
    }
   ],
   "source": [
    "%ls"
   ]
  },
  {
   "cell_type": "code",
   "execution_count": 2,
   "metadata": {
    "colab": {
     "base_uri": "https://localhost:8080/",
     "height": 442
    },
    "colab_type": "code",
    "executionInfo": {
     "elapsed": 6250,
     "status": "ok",
     "timestamp": 1595926491919,
     "user": {
      "displayName": "George Batchkala",
      "photoUrl": "",
      "userId": "17039292136363863281"
     },
     "user_tz": -180
    },
    "id": "pKc-Tl2jKRz3",
    "outputId": "fe7a4821-9f20-48da-aacc-b10274e38ef7"
   },
   "outputs": [
    {
     "name": "stdout",
     "output_type": "stream",
     "text": [
      "ESOL_README\r\n",
      "FreeSolv_README\r\n",
      "Lipo_README\r\n",
      "esol_original.csv\r\n",
      "esol_original_1024ecfp4_features.csv\r\n",
      "esol_original_1024ecfp6_features.csv\r\n",
      "esol_original_2048ecfp4_features.csv\r\n",
      "esol_original_2048ecfp6_features.csv\r\n",
      "esol_original_IdSmilesLabels.csv\r\n",
      "esol_original_extra_features.csv\r\n",
      "esol_original_rdkit_features.csv\r\n",
      "freesolv_original.csv\r\n",
      "freesolv_original_1024ecfp4_features.csv\r\n",
      "freesolv_original_1024ecfp6_features.csv\r\n",
      "freesolv_original_2048ecfp4_features.csv\r\n",
      "freesolv_original_2048ecfp6_features.csv\r\n",
      "freesolv_original_IdSmilesLabels.csv\r\n",
      "freesolv_original_rdkit_features.csv\r\n",
      "lipophilicity_original.csv\r\n",
      "lipophilicity_original_1024ecfp4_features.csv\r\n",
      "lipophilicity_original_1024ecfp6_features.csv\r\n",
      "lipophilicity_original_2048ecfp4_features.csv\r\n",
      "lipophilicity_original_2048ecfp6_features.csv\r\n",
      "lipophilicity_original_IdSmilesLabels.csv\r\n",
      "lipophilicity_original_rdkit_features.csv\r\n"
     ]
    }
   ],
   "source": [
    "%ls ../data/"
   ]
  },
  {
   "cell_type": "markdown",
   "metadata": {
    "colab_type": "text",
    "id": "cG9tpt04e0iN"
   },
   "source": [
    "## Import modules"
   ]
  },
  {
   "cell_type": "code",
   "execution_count": 3,
   "metadata": {
    "colab": {},
    "colab_type": "code",
    "executionInfo": {
     "elapsed": 1835,
     "status": "ok",
     "timestamp": 1595926537134,
     "user": {
      "displayName": "George Batchkala",
      "photoUrl": "",
      "userId": "17039292136363863281"
     },
     "user_tz": -180
    },
    "id": "sjl-QAB5e4I3"
   },
   "outputs": [],
   "source": [
    "import warnings\n",
    "warnings.filterwarnings('ignore')\n",
    "\n",
    "# saving models\n",
    "import json\n",
    "import pickle\n",
    "\n",
    "# directory\n",
    "import os\n",
    "import sys\n",
    "\n",
    "# standard modules\n",
    "import numpy as np\n",
    "import pandas as pd\n",
    "import matplotlib.pyplot as plt\n",
    "import seaborn as sns\n",
    "# sns.set()\n",
    "\n",
    "# # metrics\n",
    "from scipy.stats import pearsonr\n",
    "# from sklearn.metrics import r2_score\n",
    "# from sklearn.metrics import mean_squared_error\n",
    "# from sklearn.metrics import mean_absolute_error\n",
    "# from sklearn.metrics import jaccard_score # Tanimoto\n",
    "\n",
    "# # making custom metrics\n",
    "# from sklearn.metrics import make_scorer\n",
    "\n",
    "# # model selection\n",
    "# from sklearn.model_selection import train_test_split\n",
    "# from sklearn.model_selection import ShuffleSplit, StratifiedShuffleSplit\n",
    "# from sklearn.model_selection import RandomizedSearchCV, GridSearchCV\n",
    "# from sklearn.model_selection import cross_val_score, cross_validate, cross_val_predict\n",
    "\n",
    "# # preprocessing\n",
    "from sklearn.feature_selection import VarianceThreshold # to remove zero-var features\n",
    "# # from sklearn.preprocessing import MinMaxScaler, Normalizer, StandardScaler\n",
    "\n",
    "# # models\n",
    "# from sklearn.linear_model import LinearRegression\n",
    "# from sklearn.linear_model import ElasticNetCV, ElasticNet\n",
    "# from sklearn.ensemble import RandomForestRegressor\n",
    "\n",
    "# from xgboost import XGBRegressor\n",
    "# from sklearn.ensemble import AdaBoostRegressor\n",
    "# from sklearn.ensemble import GradientBoostingRegressor\n",
    "\n",
    "# from sklearn.neural_network import MLPRegressor\n",
    "\n",
    "# from sklearn.kernel_ridge import KernelRidge\n",
    "\n",
    "# from sklearn.gaussian_process import GaussianProcessRegressor\n",
    "# from sklearn.gaussian_process.kernels import WhiteKernel, ConstantKernel\n",
    "# from sklearn.gaussian_process.kernels import RBF, Matern, DotProduct\n",
    "\n",
    "# # pipelines\n",
    "# # https://scikit-learn.org/stable/modules/compose.html#combining-estimators\n",
    "# from sklearn.pipeline import make_pipeline, Pipeline"
   ]
  },
  {
   "cell_type": "markdown",
   "metadata": {
    "colab_type": "text",
    "id": "daKbVAugrOMs"
   },
   "source": [
    "## Set plotting style"
   ]
  },
  {
   "cell_type": "code",
   "execution_count": 4,
   "metadata": {
    "colab": {},
    "colab_type": "code",
    "executionInfo": {
     "elapsed": 8853,
     "status": "ok",
     "timestamp": 1595926556882,
     "user": {
      "displayName": "George Batchkala",
      "photoUrl": "",
      "userId": "17039292136363863281"
     },
     "user_tz": -180
    },
    "id": "wEF0rQL3rOMt"
   },
   "outputs": [],
   "source": [
    "%matplotlib inline\n",
    "# plt.style.use('fivethirtyeight')\n",
    "\n",
    "# plt.rcParams['axes.facecolor']='w'\n",
    "# #plt.rcParams['axes.linewidth']=1\n",
    "# plt.rcParams['axes.edgecolor']='w'\n",
    "# plt.rcParams['figure.facecolor']='w'\n",
    "# plt.rcParams['savefig.facecolor']='w'\n",
    "# #plt.rcParams['grid.color']='white'"
   ]
  },
  {
   "cell_type": "markdown",
   "metadata": {
    "colab_type": "text",
    "id": "o4r2WevweR5i"
   },
   "source": [
    "# Load Data (same everywhere)"
   ]
  },
  {
   "cell_type": "markdown",
   "metadata": {
    "colab_type": "text",
    "id": "K-fg6Gq6qt8p"
   },
   "source": [
    "## CHOOSE: dataset, smile_type"
   ]
  },
  {
   "cell_type": "code",
   "execution_count": 5,
   "metadata": {
    "colab": {},
    "colab_type": "code",
    "executionInfo": {
     "elapsed": 7482,
     "status": "ok",
     "timestamp": 1595926556883,
     "user": {
      "displayName": "George Batchkala",
      "photoUrl": "",
      "userId": "17039292136363863281"
     },
     "user_tz": -180
    },
    "id": "DmVtuXvrrOMx"
   },
   "outputs": [],
   "source": [
    "dataset = 'lipophilicity'\n",
    "smile_type = 'original'\n",
    "\n",
    "# READONLY\n",
    "\n",
    "# small to large datasets\n",
    "assert dataset in ['freesolv', 'esol', 'lipophilicity']\n",
    "assert smile_type in ['original', 'protonated']"
   ]
  },
  {
   "cell_type": "markdown",
   "metadata": {
    "colab_type": "text",
    "id": "1PIRIaAszL4P"
   },
   "source": [
    "## Load Features and Targets"
   ]
  },
  {
   "cell_type": "markdown",
   "metadata": {
    "colab_type": "text",
    "id": "0j-LrNtiVaEG"
   },
   "source": [
    "Leave all features here so setup and Load and prepare data are the same everywhere."
   ]
  },
  {
   "cell_type": "code",
   "execution_count": 6,
   "metadata": {
    "colab": {},
    "colab_type": "code",
    "executionInfo": {
     "elapsed": 7811,
     "status": "ok",
     "timestamp": 1595926559114,
     "user": {
      "displayName": "George Batchkala",
      "photoUrl": "",
      "userId": "17039292136363863281"
     },
     "user_tz": -180
    },
    "id": "xmL5nV-BeOcC"
   },
   "outputs": [],
   "source": [
    "# original data\n",
    "id_smile_target = pd.read_csv(f'../data/{dataset}_{smile_type}_IdSmilesLabels.csv', index_col=0)\n",
    "\n",
    "# features\n",
    "rdkit_features = pd.read_csv(f'../data/{dataset}_{smile_type}_rdkit_features.csv', index_col=0)\n",
    "\n",
    "ecfp4_1024_features = pd.read_csv(f'../data/{dataset}_{smile_type}_1024ecfp4_features.csv', index_col=0)\n",
    "ecfp6_1024_features = pd.read_csv(f'../data/{dataset}_{smile_type}_1024ecfp6_features.csv', index_col=0)\n",
    "\n",
    "ecfp4_2048_features = pd.read_csv(f'../data/{dataset}_{smile_type}_2048ecfp4_features.csv', index_col=0)\n",
    "ecfp6_2048_features = pd.read_csv(f'../data/{dataset}_{smile_type}_2048ecfp6_features.csv', index_col=0)\n",
    "\n",
    "# load target\n",
    "labels = id_smile_target['labels']"
   ]
  },
  {
   "cell_type": "code",
   "execution_count": 7,
   "metadata": {
    "colab": {
     "base_uri": "https://localhost:8080/",
     "height": 119
    },
    "colab_type": "code",
    "executionInfo": {
     "elapsed": 5569,
     "status": "ok",
     "timestamp": 1595926559117,
     "user": {
      "displayName": "George Batchkala",
      "photoUrl": "",
      "userId": "17039292136363863281"
     },
     "user_tz": -180
    },
    "id": "1XSkUqI-rONB",
    "outputId": "a231c87c-4f60-4a3d-a303-431d74197a64"
   },
   "outputs": [
    {
     "name": "stdout",
     "output_type": "stream",
     "text": [
      "rdkit_features.shape:       (4200, 200)\n",
      "ecfp4_1024_features.shape:  (4200, 1024)\n",
      "ecfp6_1024_features.shape:  (4200, 1024)\n",
      "ecfp4_2048_features.shape:  (4200, 2048)\n",
      "ecfp6_2048_features.shape:  (4200, 2048)\n",
      "labels.shape:               (4200,)\n"
     ]
    }
   ],
   "source": [
    "print('rdkit_features.shape:      ', rdkit_features.shape)\n",
    "print('ecfp4_1024_features.shape: ', ecfp4_1024_features.shape)\n",
    "print('ecfp6_1024_features.shape: ', ecfp6_1024_features.shape)\n",
    "print('ecfp4_2048_features.shape: ', ecfp4_2048_features.shape)\n",
    "print('ecfp6_2048_features.shape: ', ecfp6_2048_features.shape)\n",
    "print('labels.shape:              ', labels.shape)"
   ]
  },
  {
   "cell_type": "code",
   "execution_count": 8,
   "metadata": {
    "colab": {
     "base_uri": "https://localhost:8080/",
     "height": 136
    },
    "colab_type": "code",
    "executionInfo": {
     "elapsed": 5141,
     "status": "ok",
     "timestamp": 1595926559118,
     "user": {
      "displayName": "George Batchkala",
      "photoUrl": "",
      "userId": "17039292136363863281"
     },
     "user_tz": -180
    },
    "id": "r6LtAy9jzToO",
    "outputId": "5a439422-2fc0-4a77-9c9e-ca6352a5a3cf"
   },
   "outputs": [
    {
     "data": {
      "text/plain": [
       "id\n",
       "CHEMBL596271     3.54\n",
       "CHEMBL1951080   -1.18\n",
       "CHEMBL1771       3.69\n",
       "CHEMBL234951     3.37\n",
       "CHEMBL565079     3.10\n",
       "Name: labels, dtype: float64"
      ]
     },
     "execution_count": 8,
     "metadata": {},
     "output_type": "execute_result"
    }
   ],
   "source": [
    "labels.head()"
   ]
  },
  {
   "cell_type": "markdown",
   "metadata": {
    "colab_type": "text",
    "id": "vH3i_hYSV8Tc"
   },
   "source": [
    "## Create one DataFrame with all features"
   ]
  },
  {
   "cell_type": "code",
   "execution_count": 9,
   "metadata": {
    "colab": {},
    "colab_type": "code",
    "executionInfo": {
     "elapsed": 4054,
     "status": "ok",
     "timestamp": 1595926559119,
     "user": {
      "displayName": "George Batchkala",
      "photoUrl": "",
      "userId": "17039292136363863281"
     },
     "user_tz": -180
    },
    "id": "mR3iubyprONg"
   },
   "outputs": [],
   "source": [
    "all_features = pd.concat([rdkit_features,\n",
    "                          ecfp4_1024_features, ecfp6_1024_features,\n",
    "                          ecfp4_2048_features, ecfp6_2048_features],\n",
    "                         axis='columns')"
   ]
  },
  {
   "cell_type": "code",
   "execution_count": 10,
   "metadata": {
    "colab": {
     "base_uri": "https://localhost:8080/",
     "height": 34
    },
    "colab_type": "code",
    "executionInfo": {
     "elapsed": 3444,
     "status": "ok",
     "timestamp": 1595926559119,
     "user": {
      "displayName": "George Batchkala",
      "photoUrl": "",
      "userId": "17039292136363863281"
     },
     "user_tz": -180
    },
    "id": "HyDTS2G3rONj",
    "outputId": "6f68b803-236d-40a2-a118-5cb19f49e74b"
   },
   "outputs": [
    {
     "data": {
      "text/plain": [
       "(4200, 6344)"
      ]
     },
     "execution_count": 10,
     "metadata": {},
     "output_type": "execute_result"
    }
   ],
   "source": [
    "all_features.shape"
   ]
  },
  {
   "cell_type": "code",
   "execution_count": 11,
   "metadata": {
    "colab": {
     "base_uri": "https://localhost:8080/",
     "height": 338
    },
    "colab_type": "code",
    "executionInfo": {
     "elapsed": 2839,
     "status": "ok",
     "timestamp": 1595926559120,
     "user": {
      "displayName": "George Batchkala",
      "photoUrl": "",
      "userId": "17039292136363863281"
     },
     "user_tz": -180
    },
    "id": "gOJ28OUyrONm",
    "outputId": "a577cdc4-bbc2-47ff-a2fa-745727d7d300"
   },
   "outputs": [
    {
     "data": {
      "text/html": [
       "<div>\n",
       "<style scoped>\n",
       "    .dataframe tbody tr th:only-of-type {\n",
       "        vertical-align: middle;\n",
       "    }\n",
       "\n",
       "    .dataframe tbody tr th {\n",
       "        vertical-align: top;\n",
       "    }\n",
       "\n",
       "    .dataframe thead th {\n",
       "        text-align: right;\n",
       "    }\n",
       "</style>\n",
       "<table border=\"1\" class=\"dataframe\">\n",
       "  <thead>\n",
       "    <tr style=\"text-align: right;\">\n",
       "      <th></th>\n",
       "      <th>MaxEStateIndex</th>\n",
       "      <th>MinEStateIndex</th>\n",
       "      <th>MaxAbsEStateIndex</th>\n",
       "      <th>MinAbsEStateIndex</th>\n",
       "      <th>qed</th>\n",
       "      <th>MolWt</th>\n",
       "      <th>HeavyAtomMolWt</th>\n",
       "      <th>ExactMolWt</th>\n",
       "      <th>NumValenceElectrons</th>\n",
       "      <th>NumRadicalElectrons</th>\n",
       "      <th>...</th>\n",
       "      <th>2048ecfp6-2038</th>\n",
       "      <th>2048ecfp6-2039</th>\n",
       "      <th>2048ecfp6-2040</th>\n",
       "      <th>2048ecfp6-2041</th>\n",
       "      <th>2048ecfp6-2042</th>\n",
       "      <th>2048ecfp6-2043</th>\n",
       "      <th>2048ecfp6-2044</th>\n",
       "      <th>2048ecfp6-2045</th>\n",
       "      <th>2048ecfp6-2046</th>\n",
       "      <th>2048ecfp6-2047</th>\n",
       "    </tr>\n",
       "  </thead>\n",
       "  <tbody>\n",
       "    <tr>\n",
       "      <th>CHEMBL596271</th>\n",
       "      <td>8.838871</td>\n",
       "      <td>-4.082382</td>\n",
       "      <td>8.838871</td>\n",
       "      <td>0.008322</td>\n",
       "      <td>0.728444</td>\n",
       "      <td>340.858</td>\n",
       "      <td>319.690</td>\n",
       "      <td>340.145474</td>\n",
       "      <td>124.0</td>\n",
       "      <td>0.0</td>\n",
       "      <td>...</td>\n",
       "      <td>0</td>\n",
       "      <td>0</td>\n",
       "      <td>0</td>\n",
       "      <td>0</td>\n",
       "      <td>0</td>\n",
       "      <td>0</td>\n",
       "      <td>0</td>\n",
       "      <td>0</td>\n",
       "      <td>0</td>\n",
       "      <td>0</td>\n",
       "    </tr>\n",
       "    <tr>\n",
       "      <th>CHEMBL1951080</th>\n",
       "      <td>15.117958</td>\n",
       "      <td>-6.843264</td>\n",
       "      <td>15.117958</td>\n",
       "      <td>0.920611</td>\n",
       "      <td>0.545587</td>\n",
       "      <td>494.591</td>\n",
       "      <td>468.383</td>\n",
       "      <td>494.118143</td>\n",
       "      <td>178.0</td>\n",
       "      <td>0.0</td>\n",
       "      <td>...</td>\n",
       "      <td>0</td>\n",
       "      <td>0</td>\n",
       "      <td>0</td>\n",
       "      <td>0</td>\n",
       "      <td>0</td>\n",
       "      <td>0</td>\n",
       "      <td>0</td>\n",
       "      <td>1</td>\n",
       "      <td>0</td>\n",
       "      <td>0</td>\n",
       "    </tr>\n",
       "    <tr>\n",
       "      <th>CHEMBL1771</th>\n",
       "      <td>13.321227</td>\n",
       "      <td>-3.906276</td>\n",
       "      <td>13.321227</td>\n",
       "      <td>0.250582</td>\n",
       "      <td>0.807761</td>\n",
       "      <td>321.829</td>\n",
       "      <td>305.701</td>\n",
       "      <td>321.059027</td>\n",
       "      <td>110.0</td>\n",
       "      <td>0.0</td>\n",
       "      <td>...</td>\n",
       "      <td>0</td>\n",
       "      <td>0</td>\n",
       "      <td>0</td>\n",
       "      <td>0</td>\n",
       "      <td>0</td>\n",
       "      <td>0</td>\n",
       "      <td>0</td>\n",
       "      <td>0</td>\n",
       "      <td>0</td>\n",
       "      <td>0</td>\n",
       "    </tr>\n",
       "    <tr>\n",
       "      <th>CHEMBL234951</th>\n",
       "      <td>14.213604</td>\n",
       "      <td>-4.272077</td>\n",
       "      <td>14.213604</td>\n",
       "      <td>0.187400</td>\n",
       "      <td>0.506650</td>\n",
       "      <td>419.890</td>\n",
       "      <td>401.746</td>\n",
       "      <td>419.070655</td>\n",
       "      <td>146.0</td>\n",
       "      <td>0.0</td>\n",
       "      <td>...</td>\n",
       "      <td>1</td>\n",
       "      <td>0</td>\n",
       "      <td>0</td>\n",
       "      <td>0</td>\n",
       "      <td>0</td>\n",
       "      <td>0</td>\n",
       "      <td>0</td>\n",
       "      <td>0</td>\n",
       "      <td>0</td>\n",
       "      <td>0</td>\n",
       "    </tr>\n",
       "    <tr>\n",
       "      <th>CHEMBL565079</th>\n",
       "      <td>14.167882</td>\n",
       "      <td>-4.810274</td>\n",
       "      <td>14.167882</td>\n",
       "      <td>0.671279</td>\n",
       "      <td>0.747686</td>\n",
       "      <td>381.480</td>\n",
       "      <td>354.264</td>\n",
       "      <td>381.216475</td>\n",
       "      <td>148.0</td>\n",
       "      <td>0.0</td>\n",
       "      <td>...</td>\n",
       "      <td>0</td>\n",
       "      <td>0</td>\n",
       "      <td>0</td>\n",
       "      <td>0</td>\n",
       "      <td>0</td>\n",
       "      <td>0</td>\n",
       "      <td>0</td>\n",
       "      <td>0</td>\n",
       "      <td>0</td>\n",
       "      <td>0</td>\n",
       "    </tr>\n",
       "  </tbody>\n",
       "</table>\n",
       "<p>5 rows × 6344 columns</p>\n",
       "</div>"
      ],
      "text/plain": [
       "               MaxEStateIndex  MinEStateIndex  MaxAbsEStateIndex  \\\n",
       "CHEMBL596271         8.838871       -4.082382           8.838871   \n",
       "CHEMBL1951080       15.117958       -6.843264          15.117958   \n",
       "CHEMBL1771          13.321227       -3.906276          13.321227   \n",
       "CHEMBL234951        14.213604       -4.272077          14.213604   \n",
       "CHEMBL565079        14.167882       -4.810274          14.167882   \n",
       "\n",
       "               MinAbsEStateIndex       qed    MolWt  HeavyAtomMolWt  \\\n",
       "CHEMBL596271            0.008322  0.728444  340.858         319.690   \n",
       "CHEMBL1951080           0.920611  0.545587  494.591         468.383   \n",
       "CHEMBL1771              0.250582  0.807761  321.829         305.701   \n",
       "CHEMBL234951            0.187400  0.506650  419.890         401.746   \n",
       "CHEMBL565079            0.671279  0.747686  381.480         354.264   \n",
       "\n",
       "               ExactMolWt  NumValenceElectrons  NumRadicalElectrons  ...  \\\n",
       "CHEMBL596271   340.145474                124.0                  0.0  ...   \n",
       "CHEMBL1951080  494.118143                178.0                  0.0  ...   \n",
       "CHEMBL1771     321.059027                110.0                  0.0  ...   \n",
       "CHEMBL234951   419.070655                146.0                  0.0  ...   \n",
       "CHEMBL565079   381.216475                148.0                  0.0  ...   \n",
       "\n",
       "               2048ecfp6-2038  2048ecfp6-2039  2048ecfp6-2040  2048ecfp6-2041  \\\n",
       "CHEMBL596271                0               0               0               0   \n",
       "CHEMBL1951080               0               0               0               0   \n",
       "CHEMBL1771                  0               0               0               0   \n",
       "CHEMBL234951                1               0               0               0   \n",
       "CHEMBL565079                0               0               0               0   \n",
       "\n",
       "               2048ecfp6-2042  2048ecfp6-2043  2048ecfp6-2044  2048ecfp6-2045  \\\n",
       "CHEMBL596271                0               0               0               0   \n",
       "CHEMBL1951080               0               0               0               1   \n",
       "CHEMBL1771                  0               0               0               0   \n",
       "CHEMBL234951                0               0               0               0   \n",
       "CHEMBL565079                0               0               0               0   \n",
       "\n",
       "               2048ecfp6-2046  2048ecfp6-2047  \n",
       "CHEMBL596271                0               0  \n",
       "CHEMBL1951080               0               0  \n",
       "CHEMBL1771                  0               0  \n",
       "CHEMBL234951                0               0  \n",
       "CHEMBL565079                0               0  \n",
       "\n",
       "[5 rows x 6344 columns]"
      ]
     },
     "execution_count": 11,
     "metadata": {},
     "output_type": "execute_result"
    }
   ],
   "source": [
    "all_features.head()"
   ]
  },
  {
   "cell_type": "markdown",
   "metadata": {},
   "source": [
    "## Create feature_sets dictionary with pd.Index (containing feature names) as its elements"
   ]
  },
  {
   "cell_type": "code",
   "execution_count": 12,
   "metadata": {},
   "outputs": [],
   "source": [
    "feature_sets = {\n",
    "    'RDKit': rdkit_features.columns,\n",
    "    '1024ecfp-4': ecfp4_1024_features.columns,\n",
    "    '1024ecfp-6': ecfp6_1024_features.columns,\n",
    "    '2048ecfp-4': ecfp4_2048_features.columns,\n",
    "    '2048ecfp-6': ecfp6_2048_features.columns,\n",
    "}"
   ]
  },
  {
   "cell_type": "markdown",
   "metadata": {},
   "source": [
    "# Check for missing values, NaNs, Infs"
   ]
  },
  {
   "cell_type": "code",
   "execution_count": 13,
   "metadata": {},
   "outputs": [
    {
     "name": "stdout",
     "output_type": "stream",
     "text": [
      "MaxPartialCharge na 1\n",
      "MinPartialCharge na 1\n",
      "MaxAbsPartialCharge na 1\n",
      "MinAbsPartialCharge na 1\n",
      "{'MinAbsPartialCharge', 'MinPartialCharge', 'MaxAbsPartialCharge', 'MaxPartialCharge'}\n"
     ]
    }
   ],
   "source": [
    "cols_with_nas = set()\n",
    "pos_with_nas = []\n",
    "\n",
    "for name in rdkit_features.columns:\n",
    "    if rdkit_features[name].isna().sum() > 0:\n",
    "        print(name, 'na', rdkit_features[name].isna().sum())\n",
    "        cols_with_nas.add(name)\n",
    "        \n",
    "        for obs in rdkit_features.index:\n",
    "            if np.isnan(rdkit_features.loc[obs, name]):\n",
    "                pos_with_nas.append((obs, name))\n",
    "        \n",
    "print(cols_with_nas)"
   ]
  },
  {
   "cell_type": "code",
   "execution_count": 14,
   "metadata": {},
   "outputs": [
    {
     "name": "stdout",
     "output_type": "stream",
     "text": [
      "('CHEMBL51085', 'MaxPartialCharge')\n",
      "('CHEMBL51085', 'MinPartialCharge')\n",
      "('CHEMBL51085', 'MaxAbsPartialCharge')\n",
      "('CHEMBL51085', 'MinAbsPartialCharge')\n"
     ]
    }
   ],
   "source": [
    "for pos in pos_with_nas:\n",
    "    print(pos)"
   ]
  },
  {
   "cell_type": "code",
   "execution_count": 15,
   "metadata": {},
   "outputs": [
    {
     "data": {
      "text/plain": [
       "4"
      ]
     },
     "execution_count": 15,
     "metadata": {},
     "output_type": "execute_result"
    }
   ],
   "source": [
    "rdkit_features.isnull().sum().sum()"
   ]
  },
  {
   "cell_type": "code",
   "execution_count": 16,
   "metadata": {},
   "outputs": [
    {
     "data": {
      "text/plain": [
       "True"
      ]
     },
     "execution_count": 16,
     "metadata": {},
     "output_type": "execute_result"
    }
   ],
   "source": [
    "(rdkit_features.isnull() == rdkit_features.isna()).all().all()"
   ]
  },
  {
   "cell_type": "markdown",
   "metadata": {
    "colab": {},
    "colab_type": "code",
    "id": "pGIgpIm9iKfI"
   },
   "source": [
    "# Get number of zero-variance columns in unsplit (train-val-test) datasets"
   ]
  },
  {
   "cell_type": "code",
   "execution_count": 17,
   "metadata": {},
   "outputs": [],
   "source": [
    "transform = VarianceThreshold()"
   ]
  },
  {
   "cell_type": "code",
   "execution_count": 18,
   "metadata": {
    "colab": {
     "base_uri": "https://localhost:8080/",
     "height": 395
    },
    "colab_type": "code",
    "executionInfo": {
     "elapsed": 15529,
     "status": "ok",
     "timestamp": 1595926556878,
     "user": {
      "displayName": "George Batchkala",
      "photoUrl": "",
      "userId": "17039292136363863281"
     },
     "user_tz": -180
    },
    "id": "vRtAyn4qrOMg",
    "outputId": "108b33cf-e474-48cd-ee7c-a42717a75bc1"
   },
   "outputs": [
    {
     "name": "stdout",
     "output_type": "stream",
     "text": [
      "RDKit feature set originally has 200 columns\n",
      "RDKit feature set without zero-var columns has 188 columns\n",
      "Reduction: 12\n",
      "\n",
      "1024ecfp-4 feature set originally has 1024 columns\n",
      "1024ecfp-4 feature set without zero-var columns has 1024 columns\n",
      "Reduction: 0\n",
      "\n",
      "1024ecfp-6 feature set originally has 1024 columns\n",
      "1024ecfp-6 feature set without zero-var columns has 1024 columns\n",
      "Reduction: 0\n",
      "\n",
      "2048ecfp-4 feature set originally has 2048 columns\n",
      "2048ecfp-4 feature set without zero-var columns has 2047 columns\n",
      "Reduction: 1\n",
      "\n",
      "2048ecfp-6 feature set originally has 2048 columns\n",
      "2048ecfp-6 feature set without zero-var columns has 2048 columns\n",
      "Reduction: 0\n",
      "\n"
     ]
    },
    {
     "data": {
      "text/html": [
       "<div>\n",
       "<style scoped>\n",
       "    .dataframe tbody tr th:only-of-type {\n",
       "        vertical-align: middle;\n",
       "    }\n",
       "\n",
       "    .dataframe tbody tr th {\n",
       "        vertical-align: top;\n",
       "    }\n",
       "\n",
       "    .dataframe thead th {\n",
       "        text-align: right;\n",
       "    }\n",
       "</style>\n",
       "<table border=\"1\" class=\"dataframe\">\n",
       "  <thead>\n",
       "    <tr style=\"text-align: right;\">\n",
       "      <th></th>\n",
       "      <th>Original features</th>\n",
       "      <th>Reduced features</th>\n",
       "      <th>Reduction</th>\n",
       "    </tr>\n",
       "  </thead>\n",
       "  <tbody>\n",
       "    <tr>\n",
       "      <th>RDKit</th>\n",
       "      <td>200</td>\n",
       "      <td>188</td>\n",
       "      <td>12</td>\n",
       "    </tr>\n",
       "    <tr>\n",
       "      <th>1024ecfp-4</th>\n",
       "      <td>1024</td>\n",
       "      <td>1024</td>\n",
       "      <td>0</td>\n",
       "    </tr>\n",
       "    <tr>\n",
       "      <th>1024ecfp-6</th>\n",
       "      <td>1024</td>\n",
       "      <td>1024</td>\n",
       "      <td>0</td>\n",
       "    </tr>\n",
       "    <tr>\n",
       "      <th>2048ecfp-4</th>\n",
       "      <td>2048</td>\n",
       "      <td>2047</td>\n",
       "      <td>1</td>\n",
       "    </tr>\n",
       "    <tr>\n",
       "      <th>2048ecfp-6</th>\n",
       "      <td>2048</td>\n",
       "      <td>2048</td>\n",
       "      <td>0</td>\n",
       "    </tr>\n",
       "  </tbody>\n",
       "</table>\n",
       "</div>"
      ],
      "text/plain": [
       "            Original features  Reduced features  Reduction\n",
       "RDKit                     200               188         12\n",
       "1024ecfp-4               1024              1024          0\n",
       "1024ecfp-6               1024              1024          0\n",
       "2048ecfp-4               2048              2047          1\n",
       "2048ecfp-6               2048              2048          0"
      ]
     },
     "metadata": {},
     "output_type": "display_data"
    }
   ],
   "source": [
    "featuresets_to_reductions = {}\n",
    "\n",
    "for f in feature_sets:\n",
    "    \n",
    "    df = all_features[feature_sets[f]]\n",
    "    print(f'{f} feature set originally has {df.shape[1]} columns')\n",
    "    new_df = transform.fit_transform(X=df)\n",
    "    print(f'{f} feature set without zero-var columns has {new_df.shape[1]} columns')\n",
    "    print(f'Reduction: {df.shape[1] - new_df.shape[1]}\\n')\n",
    "    \n",
    "    featuresets_to_reductions[f] = {\n",
    "        'Original features': df.shape[1],\n",
    "        'Reduced features': new_df.shape[1],\n",
    "        'Reduction': df.shape[1] - new_df.shape[1]\n",
    "    }\n",
    "    \n",
    "featuresets_to_reductions_df = pd.DataFrame(featuresets_to_reductions).T\n",
    "display(featuresets_to_reductions_df)"
   ]
  },
  {
   "cell_type": "code",
   "execution_count": 19,
   "metadata": {},
   "outputs": [],
   "source": [
    "featuresets_to_reductions_df.to_csv(f'../tables/{dataset}_{smile_type}_featuresets_to_zero_varaince_reductions.csv')"
   ]
  },
  {
   "cell_type": "code",
   "execution_count": 20,
   "metadata": {},
   "outputs": [
    {
     "data": {
      "text/html": [
       "<div>\n",
       "<style scoped>\n",
       "    .dataframe tbody tr th:only-of-type {\n",
       "        vertical-align: middle;\n",
       "    }\n",
       "\n",
       "    .dataframe tbody tr th {\n",
       "        vertical-align: top;\n",
       "    }\n",
       "\n",
       "    .dataframe thead th {\n",
       "        text-align: right;\n",
       "    }\n",
       "</style>\n",
       "<table border=\"1\" class=\"dataframe\">\n",
       "  <thead>\n",
       "    <tr style=\"text-align: right;\">\n",
       "      <th></th>\n",
       "      <th>Original features</th>\n",
       "      <th>Reduced features</th>\n",
       "      <th>Reduction</th>\n",
       "    </tr>\n",
       "  </thead>\n",
       "  <tbody>\n",
       "    <tr>\n",
       "      <th>RDKit</th>\n",
       "      <td>200</td>\n",
       "      <td>188</td>\n",
       "      <td>12</td>\n",
       "    </tr>\n",
       "    <tr>\n",
       "      <th>1024ecfp-4</th>\n",
       "      <td>1024</td>\n",
       "      <td>1024</td>\n",
       "      <td>0</td>\n",
       "    </tr>\n",
       "    <tr>\n",
       "      <th>1024ecfp-6</th>\n",
       "      <td>1024</td>\n",
       "      <td>1024</td>\n",
       "      <td>0</td>\n",
       "    </tr>\n",
       "    <tr>\n",
       "      <th>2048ecfp-4</th>\n",
       "      <td>2048</td>\n",
       "      <td>2047</td>\n",
       "      <td>1</td>\n",
       "    </tr>\n",
       "    <tr>\n",
       "      <th>2048ecfp-6</th>\n",
       "      <td>2048</td>\n",
       "      <td>2048</td>\n",
       "      <td>0</td>\n",
       "    </tr>\n",
       "  </tbody>\n",
       "</table>\n",
       "</div>"
      ],
      "text/plain": [
       "            Original features  Reduced features  Reduction\n",
       "RDKit                     200               188         12\n",
       "1024ecfp-4               1024              1024          0\n",
       "1024ecfp-6               1024              1024          0\n",
       "2048ecfp-4               2048              2047          1\n",
       "2048ecfp-6               2048              2048          0"
      ]
     },
     "execution_count": 20,
     "metadata": {},
     "output_type": "execute_result"
    }
   ],
   "source": [
    "pd.read_csv(f'../tables/{dataset}_{smile_type}_featuresets_to_zero_varaince_reductions.csv', index_col=0)"
   ]
  },
  {
   "cell_type": "markdown",
   "metadata": {},
   "source": [
    "## Visuzlizing reductions"
   ]
  },
  {
   "cell_type": "code",
   "execution_count": 21,
   "metadata": {},
   "outputs": [],
   "source": [
    "if np.array([f'{dataset}_original_featuresets_to_zero_varaince_reductions.csv' in os.listdir('../tables') for dataset in ['freesolv', 'esol', 'lipophilicity']]).all():\n",
    "    esol_reductions = pd.read_csv(f'../tables/esol_original_featuresets_to_zero_varaince_reductions.csv', index_col=0)\n",
    "    freesolv_reductions = pd.read_csv(f'../tables/freesolv_original_featuresets_to_zero_varaince_reductions.csv', index_col=0)\n",
    "    lipophilicity_reductions = pd.read_csv(f'../tables/lipophilicity_original_featuresets_to_zero_varaince_reductions.csv', index_col=0)"
   ]
  },
  {
   "cell_type": "code",
   "execution_count": 22,
   "metadata": {},
   "outputs": [
    {
     "data": {
      "text/html": [
       "<div>\n",
       "<style scoped>\n",
       "    .dataframe tbody tr th:only-of-type {\n",
       "        vertical-align: middle;\n",
       "    }\n",
       "\n",
       "    .dataframe tbody tr th {\n",
       "        vertical-align: top;\n",
       "    }\n",
       "\n",
       "    .dataframe thead th {\n",
       "        text-align: right;\n",
       "    }\n",
       "</style>\n",
       "<table border=\"1\" class=\"dataframe\">\n",
       "  <thead>\n",
       "    <tr style=\"text-align: right;\">\n",
       "      <th></th>\n",
       "      <th>Original features</th>\n",
       "      <th>Reduced features</th>\n",
       "      <th>Reduction</th>\n",
       "    </tr>\n",
       "  </thead>\n",
       "  <tbody>\n",
       "    <tr>\n",
       "      <th>RDKit</th>\n",
       "      <td>200</td>\n",
       "      <td>167</td>\n",
       "      <td>33</td>\n",
       "    </tr>\n",
       "    <tr>\n",
       "      <th>1024ecfp-4</th>\n",
       "      <td>1024</td>\n",
       "      <td>849</td>\n",
       "      <td>175</td>\n",
       "    </tr>\n",
       "    <tr>\n",
       "      <th>1024ecfp-6</th>\n",
       "      <td>1024</td>\n",
       "      <td>981</td>\n",
       "      <td>43</td>\n",
       "    </tr>\n",
       "    <tr>\n",
       "      <th>2048ecfp-4</th>\n",
       "      <td>2048</td>\n",
       "      <td>1224</td>\n",
       "      <td>824</td>\n",
       "    </tr>\n",
       "    <tr>\n",
       "      <th>2048ecfp-6</th>\n",
       "      <td>2048</td>\n",
       "      <td>1617</td>\n",
       "      <td>431</td>\n",
       "    </tr>\n",
       "  </tbody>\n",
       "</table>\n",
       "</div>"
      ],
      "text/plain": [
       "            Original features  Reduced features  Reduction\n",
       "RDKit                     200               167         33\n",
       "1024ecfp-4               1024               849        175\n",
       "1024ecfp-6               1024               981         43\n",
       "2048ecfp-4               2048              1224        824\n",
       "2048ecfp-6               2048              1617        431"
      ]
     },
     "metadata": {},
     "output_type": "display_data"
    }
   ],
   "source": [
    "# 642 rows\n",
    "display(freesolv_reductions)"
   ]
  },
  {
   "cell_type": "code",
   "execution_count": 23,
   "metadata": {},
   "outputs": [
    {
     "data": {
      "text/html": [
       "<div>\n",
       "<style scoped>\n",
       "    .dataframe tbody tr th:only-of-type {\n",
       "        vertical-align: middle;\n",
       "    }\n",
       "\n",
       "    .dataframe tbody tr th {\n",
       "        vertical-align: top;\n",
       "    }\n",
       "\n",
       "    .dataframe thead th {\n",
       "        text-align: right;\n",
       "    }\n",
       "</style>\n",
       "<table border=\"1\" class=\"dataframe\">\n",
       "  <thead>\n",
       "    <tr style=\"text-align: right;\">\n",
       "      <th></th>\n",
       "      <th>Original features</th>\n",
       "      <th>Reduced features</th>\n",
       "      <th>Reduction</th>\n",
       "    </tr>\n",
       "  </thead>\n",
       "  <tbody>\n",
       "    <tr>\n",
       "      <th>RDKit</th>\n",
       "      <td>200</td>\n",
       "      <td>180</td>\n",
       "      <td>20</td>\n",
       "    </tr>\n",
       "    <tr>\n",
       "      <th>1024ecfp-4</th>\n",
       "      <td>1024</td>\n",
       "      <td>1013</td>\n",
       "      <td>11</td>\n",
       "    </tr>\n",
       "    <tr>\n",
       "      <th>1024ecfp-6</th>\n",
       "      <td>1024</td>\n",
       "      <td>1024</td>\n",
       "      <td>0</td>\n",
       "    </tr>\n",
       "    <tr>\n",
       "      <th>2048ecfp-4</th>\n",
       "      <td>2048</td>\n",
       "      <td>1856</td>\n",
       "      <td>192</td>\n",
       "    </tr>\n",
       "    <tr>\n",
       "      <th>2048ecfp-6</th>\n",
       "      <td>2048</td>\n",
       "      <td>2030</td>\n",
       "      <td>18</td>\n",
       "    </tr>\n",
       "  </tbody>\n",
       "</table>\n",
       "</div>"
      ],
      "text/plain": [
       "            Original features  Reduced features  Reduction\n",
       "RDKit                     200               180         20\n",
       "1024ecfp-4               1024              1013         11\n",
       "1024ecfp-6               1024              1024          0\n",
       "2048ecfp-4               2048              1856        192\n",
       "2048ecfp-6               2048              2030         18"
      ]
     },
     "metadata": {},
     "output_type": "display_data"
    }
   ],
   "source": [
    "# 1128 rows\n",
    "display(esol_reductions)"
   ]
  },
  {
   "cell_type": "code",
   "execution_count": 24,
   "metadata": {},
   "outputs": [
    {
     "data": {
      "text/html": [
       "<div>\n",
       "<style scoped>\n",
       "    .dataframe tbody tr th:only-of-type {\n",
       "        vertical-align: middle;\n",
       "    }\n",
       "\n",
       "    .dataframe tbody tr th {\n",
       "        vertical-align: top;\n",
       "    }\n",
       "\n",
       "    .dataframe thead th {\n",
       "        text-align: right;\n",
       "    }\n",
       "</style>\n",
       "<table border=\"1\" class=\"dataframe\">\n",
       "  <thead>\n",
       "    <tr style=\"text-align: right;\">\n",
       "      <th></th>\n",
       "      <th>Original features</th>\n",
       "      <th>Reduced features</th>\n",
       "      <th>Reduction</th>\n",
       "    </tr>\n",
       "  </thead>\n",
       "  <tbody>\n",
       "    <tr>\n",
       "      <th>RDKit</th>\n",
       "      <td>200</td>\n",
       "      <td>188</td>\n",
       "      <td>12</td>\n",
       "    </tr>\n",
       "    <tr>\n",
       "      <th>1024ecfp-4</th>\n",
       "      <td>1024</td>\n",
       "      <td>1024</td>\n",
       "      <td>0</td>\n",
       "    </tr>\n",
       "    <tr>\n",
       "      <th>1024ecfp-6</th>\n",
       "      <td>1024</td>\n",
       "      <td>1024</td>\n",
       "      <td>0</td>\n",
       "    </tr>\n",
       "    <tr>\n",
       "      <th>2048ecfp-4</th>\n",
       "      <td>2048</td>\n",
       "      <td>2047</td>\n",
       "      <td>1</td>\n",
       "    </tr>\n",
       "    <tr>\n",
       "      <th>2048ecfp-6</th>\n",
       "      <td>2048</td>\n",
       "      <td>2048</td>\n",
       "      <td>0</td>\n",
       "    </tr>\n",
       "  </tbody>\n",
       "</table>\n",
       "</div>"
      ],
      "text/plain": [
       "            Original features  Reduced features  Reduction\n",
       "RDKit                     200               188         12\n",
       "1024ecfp-4               1024              1024          0\n",
       "1024ecfp-6               1024              1024          0\n",
       "2048ecfp-4               2048              2047          1\n",
       "2048ecfp-6               2048              2048          0"
      ]
     },
     "metadata": {},
     "output_type": "display_data"
    }
   ],
   "source": [
    "# 4200 rows\n",
    "display(lipophilicity_reductions)"
   ]
  },
  {
   "cell_type": "code",
   "execution_count": 25,
   "metadata": {},
   "outputs": [
    {
     "data": {
      "text/plain": [
       "['RDKit', '1024ecfp-4', '1024ecfp-6', '2048ecfp-4', '2048ecfp-6']"
      ]
     },
     "execution_count": 25,
     "metadata": {},
     "output_type": "execute_result"
    }
   ],
   "source": [
    "list(feature_sets.keys())"
   ]
  },
  {
   "cell_type": "code",
   "execution_count": 26,
   "metadata": {},
   "outputs": [
    {
     "data": {
      "image/png": "[encoded data removed]",
      "text/plain": [
       "<Figure size 720x576 with 1 Axes>"
      ]
     },
     "metadata": {
      "needs_background": "light"
     },
     "output_type": "display_data"
    }
   ],
   "source": [
    "feature_sets_keys = ['RDKit', '1024ecfp-4', '1024ecfp-6', '2048ecfp-4', '2048ecfp-6'][::-1]\n",
    "positions = range(len(feature_sets_keys))\n",
    "\n",
    "plt.figure(figsize=(10, 8))\n",
    "plt.tight_layout()\n",
    "\n",
    "width = 0.8 # the width of the bars\n",
    "\n",
    "f = plt.barh(positions, freesolv_reductions['Reduction'][::-1], width)\n",
    "e = plt.barh(positions, esol_reductions['Reduction'][::-1], width)\n",
    "l = plt.barh(positions, lipophilicity_reductions['Reduction'][::-1], width)\n",
    "\n",
    "plt.yticks(positions, feature_sets_keys)\n",
    "plt.ylabel('Feature set')\n",
    "plt.xlabel('Reduction')\n",
    "plt.title('Reduction in features')\n",
    "\n",
    "plt.legend((f[0], e[0], l[0]), ('freesolv', 'esol', 'lipophilicity'))\n",
    "\n",
    "# TODO: fix y-labels to fit the saved image\n",
    "plt.savefig('../figures/comparison_of_zero_var_feature_reduction_for_all_datasets.png')\n",
    "plt.show()"
   ]
  },
  {
   "cell_type": "markdown",
   "metadata": {},
   "source": [
    "# Check RDKit descriptors for highly correlated features with the targets"
   ]
  },
  {
   "cell_type": "markdown",
   "metadata": {},
   "source": [
    "## logP columns (a lead from Garrett)"
   ]
  },
  {
   "cell_type": "code",
   "execution_count": 27,
   "metadata": {},
   "outputs": [],
   "source": [
    "import re\n",
    "\n",
    "suspicious_cols = []\n",
    "for name in rdkit_features.columns:\n",
    "    m = re.match('(.)*(logP|LogP)(.)*', name)\n",
    "    if m is not None:\n",
    "        suspicious_cols.append(m[0])"
   ]
  },
  {
   "cell_type": "markdown",
   "metadata": {},
   "source": [
    "## Iteration through all and checking correlations"
   ]
  },
  {
   "cell_type": "code",
   "execution_count": 28,
   "metadata": {},
   "outputs": [
    {
     "name": "stdout",
     "output_type": "stream",
     "text": [
      "196\n"
     ]
    },
    {
     "data": {
      "text/plain": [
       "[]"
      ]
     },
     "execution_count": 28,
     "metadata": {},
     "output_type": "execute_result"
    }
   ],
   "source": [
    "threshold = 0.75\n",
    "cols_to_remove = [] # column names with correlation > threshold\n",
    "col_name_1 = 'pearson_r'\n",
    "col_name_2 = 'abs(pearson_r)'\n",
    "all_correlations = {\n",
    "    col_name_1: {},\n",
    "    col_name_2: {}\n",
    "}\n",
    "\n",
    "for name in rdkit_features.columns.difference(cols_with_nas):\n",
    "    all_correlations[col_name_1][name] = pearsonr(rdkit_features[name], labels)[0]\n",
    "    all_correlations[col_name_2][name] = np.abs(pearsonr(rdkit_features[name], labels)[0])\n",
    "    if np.abs(all_correlations[col_name_2][name]) > threshold:\n",
    "        cols_to_remove.append(name)\n",
    "\n",
    "print(len(all_correlations[col_name_2]))\n",
    "cols_to_remove"
   ]
  },
  {
   "cell_type": "code",
   "execution_count": 29,
   "metadata": {},
   "outputs": [
    {
     "data": {
      "text/html": [
       "<div>\n",
       "<style scoped>\n",
       "    .dataframe tbody tr th:only-of-type {\n",
       "        vertical-align: middle;\n",
       "    }\n",
       "\n",
       "    .dataframe tbody tr th {\n",
       "        vertical-align: top;\n",
       "    }\n",
       "\n",
       "    .dataframe thead th {\n",
       "        text-align: right;\n",
       "    }\n",
       "</style>\n",
       "<table border=\"1\" class=\"dataframe\">\n",
       "  <thead>\n",
       "    <tr style=\"text-align: right;\">\n",
       "      <th></th>\n",
       "      <th>pearson_r</th>\n",
       "      <th>abs(pearson_r)</th>\n",
       "    </tr>\n",
       "  </thead>\n",
       "  <tbody>\n",
       "    <tr>\n",
       "      <th>MolLogP</th>\n",
       "      <td>0.415450</td>\n",
       "      <td>0.415450</td>\n",
       "    </tr>\n",
       "    <tr>\n",
       "      <th>fr_COO</th>\n",
       "      <td>-0.353581</td>\n",
       "      <td>0.353581</td>\n",
       "    </tr>\n",
       "    <tr>\n",
       "      <th>fr_COO2</th>\n",
       "      <td>-0.353581</td>\n",
       "      <td>0.353581</td>\n",
       "    </tr>\n",
       "    <tr>\n",
       "      <th>BalabanJ</th>\n",
       "      <td>-0.301965</td>\n",
       "      <td>0.301965</td>\n",
       "    </tr>\n",
       "    <tr>\n",
       "      <th>NumAromaticRings</th>\n",
       "      <td>0.297561</td>\n",
       "      <td>0.297561</td>\n",
       "    </tr>\n",
       "    <tr>\n",
       "      <th>fr_Al_COO</th>\n",
       "      <td>-0.282441</td>\n",
       "      <td>0.282441</td>\n",
       "    </tr>\n",
       "    <tr>\n",
       "      <th>RingCount</th>\n",
       "      <td>0.280276</td>\n",
       "      <td>0.280276</td>\n",
       "    </tr>\n",
       "    <tr>\n",
       "      <th>FpDensityMorgan1</th>\n",
       "      <td>-0.274716</td>\n",
       "      <td>0.274716</td>\n",
       "    </tr>\n",
       "    <tr>\n",
       "      <th>SlogP_VSA6</th>\n",
       "      <td>0.236984</td>\n",
       "      <td>0.236984</td>\n",
       "    </tr>\n",
       "    <tr>\n",
       "      <th>SMR_VSA7</th>\n",
       "      <td>0.226008</td>\n",
       "      <td>0.226008</td>\n",
       "    </tr>\n",
       "  </tbody>\n",
       "</table>\n",
       "</div>"
      ],
      "text/plain": [
       "                  pearson_r  abs(pearson_r)\n",
       "MolLogP            0.415450        0.415450\n",
       "fr_COO            -0.353581        0.353581\n",
       "fr_COO2           -0.353581        0.353581\n",
       "BalabanJ          -0.301965        0.301965\n",
       "NumAromaticRings   0.297561        0.297561\n",
       "fr_Al_COO         -0.282441        0.282441\n",
       "RingCount          0.280276        0.280276\n",
       "FpDensityMorgan1  -0.274716        0.274716\n",
       "SlogP_VSA6         0.236984        0.236984\n",
       "SMR_VSA7           0.226008        0.226008"
      ]
     },
     "metadata": {},
     "output_type": "display_data"
    },
    {
     "data": {
      "text/html": [
       "<div>\n",
       "<style scoped>\n",
       "    .dataframe tbody tr th:only-of-type {\n",
       "        vertical-align: middle;\n",
       "    }\n",
       "\n",
       "    .dataframe tbody tr th {\n",
       "        vertical-align: top;\n",
       "    }\n",
       "\n",
       "    .dataframe thead th {\n",
       "        text-align: right;\n",
       "    }\n",
       "</style>\n",
       "<table border=\"1\" class=\"dataframe\">\n",
       "  <thead>\n",
       "    <tr style=\"text-align: right;\">\n",
       "      <th></th>\n",
       "      <th>pearson_r</th>\n",
       "      <th>abs(pearson_r)</th>\n",
       "    </tr>\n",
       "  </thead>\n",
       "  <tbody>\n",
       "    <tr>\n",
       "      <th>SlogP_VSA9</th>\n",
       "      <td>NaN</td>\n",
       "      <td>NaN</td>\n",
       "    </tr>\n",
       "    <tr>\n",
       "      <th>fr_azide</th>\n",
       "      <td>NaN</td>\n",
       "      <td>NaN</td>\n",
       "    </tr>\n",
       "    <tr>\n",
       "      <th>fr_diazo</th>\n",
       "      <td>NaN</td>\n",
       "      <td>NaN</td>\n",
       "    </tr>\n",
       "    <tr>\n",
       "      <th>fr_isocyan</th>\n",
       "      <td>NaN</td>\n",
       "      <td>NaN</td>\n",
       "    </tr>\n",
       "    <tr>\n",
       "      <th>fr_isothiocyan</th>\n",
       "      <td>NaN</td>\n",
       "      <td>NaN</td>\n",
       "    </tr>\n",
       "    <tr>\n",
       "      <th>fr_nitro_arom_nonortho</th>\n",
       "      <td>NaN</td>\n",
       "      <td>NaN</td>\n",
       "    </tr>\n",
       "    <tr>\n",
       "      <th>fr_nitroso</th>\n",
       "      <td>NaN</td>\n",
       "      <td>NaN</td>\n",
       "    </tr>\n",
       "    <tr>\n",
       "      <th>fr_prisulfonamd</th>\n",
       "      <td>NaN</td>\n",
       "      <td>NaN</td>\n",
       "    </tr>\n",
       "    <tr>\n",
       "      <th>fr_thiocyan</th>\n",
       "      <td>NaN</td>\n",
       "      <td>NaN</td>\n",
       "    </tr>\n",
       "    <tr>\n",
       "      <th>fr_unbrch_alkane</th>\n",
       "      <td>NaN</td>\n",
       "      <td>NaN</td>\n",
       "    </tr>\n",
       "  </tbody>\n",
       "</table>\n",
       "</div>"
      ],
      "text/plain": [
       "                        pearson_r  abs(pearson_r)\n",
       "SlogP_VSA9                    NaN             NaN\n",
       "fr_azide                      NaN             NaN\n",
       "fr_diazo                      NaN             NaN\n",
       "fr_isocyan                    NaN             NaN\n",
       "fr_isothiocyan                NaN             NaN\n",
       "fr_nitro_arom_nonortho        NaN             NaN\n",
       "fr_nitroso                    NaN             NaN\n",
       "fr_prisulfonamd               NaN             NaN\n",
       "fr_thiocyan                   NaN             NaN\n",
       "fr_unbrch_alkane              NaN             NaN"
      ]
     },
     "metadata": {},
     "output_type": "display_data"
    }
   ],
   "source": [
    "all_correlations_df = pd.DataFrame(all_correlations).sort_values(by=col_name_2, ascending=False)\n",
    "\n",
    "display(all_correlations_df[:10])\n",
    "\n",
    "display(all_correlations_df[-10:])"
   ]
  },
  {
   "cell_type": "markdown",
   "metadata": {},
   "source": [
    "How many NaNs did we get?"
   ]
  },
  {
   "cell_type": "code",
   "execution_count": 30,
   "metadata": {},
   "outputs": [
    {
     "data": {
      "text/plain": [
       "12"
      ]
     },
     "execution_count": 30,
     "metadata": {},
     "output_type": "execute_result"
    }
   ],
   "source": [
    "all_correlations_df[col_name_1].isna().sum()"
   ]
  },
  {
   "cell_type": "markdown",
   "metadata": {},
   "source": [
    "Why do we get NaNs?"
   ]
  },
  {
   "cell_type": "code",
   "execution_count": 31,
   "metadata": {},
   "outputs": [
    {
     "data": {
      "text/plain": [
       "pearson_r        NaN\n",
       "abs(pearson_r)   NaN\n",
       "Name: fr_unbrch_alkane, dtype: float64"
      ]
     },
     "execution_count": 31,
     "metadata": {},
     "output_type": "execute_result"
    }
   ],
   "source": [
    "all_correlations_df.iloc[-1,:]"
   ]
  },
  {
   "cell_type": "code",
   "execution_count": 32,
   "metadata": {},
   "outputs": [
    {
     "data": {
      "text/plain": [
       "'fr_unbrch_alkane'"
      ]
     },
     "execution_count": 32,
     "metadata": {},
     "output_type": "execute_result"
    }
   ],
   "source": [
    "all_correlations_df.iloc[-1,:].name"
   ]
  },
  {
   "cell_type": "code",
   "execution_count": 33,
   "metadata": {},
   "outputs": [
    {
     "data": {
      "text/plain": [
       "CHEMBL596271     0.0\n",
       "CHEMBL1951080    0.0\n",
       "CHEMBL1771       0.0\n",
       "CHEMBL234951     0.0\n",
       "CHEMBL565079     0.0\n",
       "                ... \n",
       "CHEMBL496929     0.0\n",
       "CHEMBL199147     0.0\n",
       "CHEMBL15932      0.0\n",
       "CHEMBL558748     0.0\n",
       "CHEMBL237889     0.0\n",
       "Name: fr_unbrch_alkane, Length: 4200, dtype: float64"
      ]
     },
     "execution_count": 33,
     "metadata": {},
     "output_type": "execute_result"
    }
   ],
   "source": [
    "rdkit_features[all_correlations_df.iloc[-1,:].name]"
   ]
  },
  {
   "cell_type": "code",
   "execution_count": 34,
   "metadata": {},
   "outputs": [
    {
     "data": {
      "text/plain": [
       "0.0"
      ]
     },
     "execution_count": 34,
     "metadata": {},
     "output_type": "execute_result"
    }
   ],
   "source": [
    "rdkit_features[all_correlations_df.iloc[-1,:].name].std()"
   ]
  },
  {
   "cell_type": "markdown",
   "metadata": {},
   "source": [
    "**Important:** we were getting NaNs for correlations for features with zero variance.\n",
    "\n",
    "Let's check:"
   ]
  },
  {
   "cell_type": "markdown",
   "metadata": {},
   "source": [
    "**Zero-variance features:**"
   ]
  },
  {
   "cell_type": "code",
   "execution_count": 35,
   "metadata": {},
   "outputs": [
    {
     "data": {
      "text/plain": [
       "Index(['NumRadicalElectrons', 'SMR_VSA8', 'SlogP_VSA9', 'fr_azide', 'fr_diazo',\n",
       "       'fr_isocyan', 'fr_isothiocyan', 'fr_nitro_arom_nonortho', 'fr_nitroso',\n",
       "       'fr_prisulfonamd', 'fr_thiocyan', 'fr_unbrch_alkane'],\n",
       "      dtype='object')"
      ]
     },
     "execution_count": 35,
     "metadata": {},
     "output_type": "execute_result"
    }
   ],
   "source": [
    "zero_var_features = rdkit_features.columns[rdkit_features.std(axis=0) == 0]\n",
    "zero_var_features"
   ]
  },
  {
   "cell_type": "markdown",
   "metadata": {
    "colab": {
     "base_uri": "https://localhost:8080/",
     "height": 34
    },
    "colab_type": "code",
    "executionInfo": {
     "elapsed": 600,
     "status": "ok",
     "timestamp": 1595926539136,
     "user": {
      "displayName": "George Batchkala",
      "photoUrl": "",
      "userId": "17039292136363863281"
     },
     "user_tz": -180
    },
    "id": "sdLWt3y9rOMc",
    "outputId": "453cbfcd-dba9-4932-df08-5650d7077cff"
   },
   "source": [
    "**Features with NaNs:**"
   ]
  },
  {
   "cell_type": "code",
   "execution_count": 36,
   "metadata": {},
   "outputs": [
    {
     "data": {
      "text/plain": [
       "Index(['NumRadicalElectrons', 'SMR_VSA8', 'SlogP_VSA9', 'fr_azide', 'fr_diazo',\n",
       "       'fr_isocyan', 'fr_isothiocyan', 'fr_nitro_arom_nonortho', 'fr_nitroso',\n",
       "       'fr_prisulfonamd', 'fr_thiocyan', 'fr_unbrch_alkane'],\n",
       "      dtype='object')"
      ]
     },
     "execution_count": 36,
     "metadata": {},
     "output_type": "execute_result"
    }
   ],
   "source": [
    "nan_corr_features = all_correlations_df.index[all_correlations_df[col_name_1].isna()]\n",
    "nan_corr_features"
   ]
  },
  {
   "cell_type": "markdown",
   "metadata": {},
   "source": [
    "**Check if the same:**"
   ]
  },
  {
   "cell_type": "code",
   "execution_count": 37,
   "metadata": {},
   "outputs": [
    {
     "data": {
      "text/plain": [
       "True"
      ]
     },
     "execution_count": 37,
     "metadata": {},
     "output_type": "execute_result"
    }
   ],
   "source": [
    "(zero_var_features == nan_corr_features).all()"
   ]
  },
  {
   "cell_type": "code",
   "execution_count": null,
   "metadata": {},
   "outputs": [],
   "source": []
  }
 ],
 "metadata": {
  "colab": {
   "collapsed_sections": [],
   "name": "colab_reproducing_grid_search_pipeline.ipynb",
   "provenance": [],
   "toc_visible": true
  },
  "kernelspec": {
   "display_name": "Python [conda env:batch-msc] *",
   "language": "python",
   "name": "conda-env-batch-msc-py"
  },
  "language_info": {
   "codemirror_mode": {
    "name": "ipython",
    "version": 3
   },
   "file_extension": ".py",
   "mimetype": "text/x-python",
   "name": "python",
   "nbconvert_exporter": "python",
   "pygments_lexer": "ipython3",
   "version": "3.6.10"
  }
 },
 "nbformat": 4,
 "nbformat_minor": 1
}
