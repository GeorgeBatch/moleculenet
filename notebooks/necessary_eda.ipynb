{
 "cells": [
  {
   "cell_type": "markdown",
   "metadata": {
    "colab_type": "text",
    "id": "iwDYlLl8rOL4"
   },
   "source": [
    "# Setup (local)"
   ]
  },
  {
   "cell_type": "code",
   "execution_count": 1,
   "metadata": {
    "colab": {
     "base_uri": "https://localhost:8080/",
     "height": 119
    },
    "colab_type": "code",
    "executionInfo": {
     "elapsed": 4310,
     "status": "ok",
     "timestamp": 1595926480635,
     "user": {
      "displayName": "George Batchkala",
      "photoUrl": "",
      "userId": "17039292136363863281"
     },
     "user_tz": -180
    },
    "id": "KXdDhDGgeIeq",
    "outputId": "2bc472ea-1a89-4c15-dabf-944ab8517950"
   },
   "outputs": [
    {
     "name": "stdout",
     "output_type": "stream",
     "text": [
      "colab_RF_CIs_on_fingerprints_initial.ipynb\r\n",
      "colab_extended_grid_search_pipeline.ipynb\r\n",
      "colab_grid_search_pipeline.ipynb\r\n",
      "colab_reproducing_grid_search_pipeline.ipynb\r\n",
      "necessary_eda.ipynb\r\n",
      "visualise_extended_grid_search_results.ipynb\r\n",
      "visualise_grid_search_results.ipynb\r\n",
      "visualise_reproducing_grid_search_results.ipynb\r\n"
     ]
    }
   ],
   "source": [
    "%ls"
   ]
  },
  {
   "cell_type": "code",
   "execution_count": 2,
   "metadata": {
    "colab": {
     "base_uri": "https://localhost:8080/",
     "height": 442
    },
    "colab_type": "code",
    "executionInfo": {
     "elapsed": 6250,
     "status": "ok",
     "timestamp": 1595926491919,
     "user": {
      "displayName": "George Batchkala",
      "photoUrl": "",
      "userId": "17039292136363863281"
     },
     "user_tz": -180
    },
    "id": "pKc-Tl2jKRz3",
    "outputId": "fe7a4821-9f20-48da-aacc-b10274e38ef7"
   },
   "outputs": [
    {
     "name": "stdout",
     "output_type": "stream",
     "text": [
      "ESOL_README\r\n",
      "FreeSolv_README\r\n",
      "Lipo_README\r\n",
      "esol_original.csv\r\n",
      "esol_original_1024ecfp4_features.csv\r\n",
      "esol_original_1024ecfp6_features.csv\r\n",
      "esol_original_2048ecfp4_features.csv\r\n",
      "esol_original_2048ecfp6_features.csv\r\n",
      "esol_original_IdSmilesLabels.csv\r\n",
      "esol_original_extra_features.csv\r\n",
      "esol_original_rdkit_features.csv\r\n",
      "freesolv_original.csv\r\n",
      "freesolv_original_1024ecfp4_features.csv\r\n",
      "freesolv_original_1024ecfp6_features.csv\r\n",
      "freesolv_original_2048ecfp4_features.csv\r\n",
      "freesolv_original_2048ecfp6_features.csv\r\n",
      "freesolv_original_IdSmilesLabels.csv\r\n",
      "freesolv_original_rdkit_features.csv\r\n",
      "lipophilicity_original.csv\r\n",
      "lipophilicity_original_1024ecfp4_features.csv\r\n",
      "lipophilicity_original_1024ecfp6_features.csv\r\n",
      "lipophilicity_original_2048ecfp4_features.csv\r\n",
      "lipophilicity_original_2048ecfp6_features.csv\r\n",
      "lipophilicity_original_IdSmilesLabels.csv\r\n",
      "lipophilicity_original_rdkit_features.csv\r\n"
     ]
    }
   ],
   "source": [
    "%ls ../data/"
   ]
  },
  {
   "cell_type": "markdown",
   "metadata": {
    "colab_type": "text",
    "id": "cG9tpt04e0iN"
   },
   "source": [
    "## Import modules"
   ]
  },
  {
   "cell_type": "code",
   "execution_count": 3,
   "metadata": {
    "colab": {},
    "colab_type": "code",
    "executionInfo": {
     "elapsed": 1835,
     "status": "ok",
     "timestamp": 1595926537134,
     "user": {
      "displayName": "George Batchkala",
      "photoUrl": "",
      "userId": "17039292136363863281"
     },
     "user_tz": -180
    },
    "id": "sjl-QAB5e4I3"
   },
   "outputs": [],
   "source": [
    "import warnings\n",
    "warnings.filterwarnings('ignore')\n",
    "\n",
    "# saving models\n",
    "import json\n",
    "import pickle\n",
    "\n",
    "# directory\n",
    "import os\n",
    "import sys\n",
    "\n",
    "# standard modules\n",
    "import numpy as np\n",
    "import pandas as pd\n",
    "import matplotlib.pyplot as plt\n",
    "import seaborn as sns\n",
    "# sns.set()\n",
    "\n",
    "# # metrics\n",
    "from scipy.stats import pearsonr\n",
    "# from sklearn.metrics import r2_score\n",
    "# from sklearn.metrics import mean_squared_error\n",
    "# from sklearn.metrics import mean_absolute_error\n",
    "# from sklearn.metrics import jaccard_score # Tanimoto\n",
    "\n",
    "# # making custom metrics\n",
    "# from sklearn.metrics import make_scorer\n",
    "\n",
    "# # model selection\n",
    "# from sklearn.model_selection import train_test_split\n",
    "# from sklearn.model_selection import ShuffleSplit, StratifiedShuffleSplit\n",
    "# from sklearn.model_selection import RandomizedSearchCV, GridSearchCV\n",
    "# from sklearn.model_selection import cross_val_score, cross_validate, cross_val_predict\n",
    "\n",
    "# # preprocessing\n",
    "from sklearn.feature_selection import VarianceThreshold # to remove zero-var features\n",
    "# # from sklearn.preprocessing import MinMaxScaler, Normalizer, StandardScaler\n",
    "\n",
    "# # models\n",
    "# from sklearn.linear_model import LinearRegression\n",
    "# from sklearn.linear_model import ElasticNetCV, ElasticNet\n",
    "# from sklearn.ensemble import RandomForestRegressor\n",
    "\n",
    "# from xgboost import XGBRegressor\n",
    "# from sklearn.ensemble import AdaBoostRegressor\n",
    "# from sklearn.ensemble import GradientBoostingRegressor\n",
    "\n",
    "# from sklearn.neural_network import MLPRegressor\n",
    "\n",
    "# from sklearn.kernel_ridge import KernelRidge\n",
    "\n",
    "# from sklearn.gaussian_process import GaussianProcessRegressor\n",
    "# from sklearn.gaussian_process.kernels import WhiteKernel, ConstantKernel\n",
    "# from sklearn.gaussian_process.kernels import RBF, Matern, DotProduct\n",
    "\n",
    "# # pipelines\n",
    "# # https://scikit-learn.org/stable/modules/compose.html#combining-estimators\n",
    "# from sklearn.pipeline import make_pipeline, Pipeline"
   ]
  },
  {
   "cell_type": "markdown",
   "metadata": {
    "colab_type": "text",
    "id": "daKbVAugrOMs"
   },
   "source": [
    "## Set plotting style"
   ]
  },
  {
   "cell_type": "code",
   "execution_count": 4,
   "metadata": {
    "colab": {},
    "colab_type": "code",
    "executionInfo": {
     "elapsed": 8853,
     "status": "ok",
     "timestamp": 1595926556882,
     "user": {
      "displayName": "George Batchkala",
      "photoUrl": "",
      "userId": "17039292136363863281"
     },
     "user_tz": -180
    },
    "id": "wEF0rQL3rOMt"
   },
   "outputs": [],
   "source": [
    "%matplotlib inline\n",
    "# plt.style.use('fivethirtyeight')\n",
    "\n",
    "# plt.rcParams['axes.facecolor']='w'\n",
    "# #plt.rcParams['axes.linewidth']=1\n",
    "# plt.rcParams['axes.edgecolor']='w'\n",
    "# plt.rcParams['figure.facecolor']='w'\n",
    "# plt.rcParams['savefig.facecolor']='w'\n",
    "# #plt.rcParams['grid.color']='white'"
   ]
  },
  {
   "cell_type": "markdown",
   "metadata": {
    "colab_type": "text",
    "id": "o4r2WevweR5i"
   },
   "source": [
    "# Load Data (same everywhere)"
   ]
  },
  {
   "cell_type": "markdown",
   "metadata": {
    "colab_type": "text",
    "id": "K-fg6Gq6qt8p"
   },
   "source": [
    "## CHOOSE: dataset, smile_type"
   ]
  },
  {
   "cell_type": "code",
   "execution_count": 5,
   "metadata": {
    "colab": {},
    "colab_type": "code",
    "executionInfo": {
     "elapsed": 7482,
     "status": "ok",
     "timestamp": 1595926556883,
     "user": {
      "displayName": "George Batchkala",
      "photoUrl": "",
      "userId": "17039292136363863281"
     },
     "user_tz": -180
    },
    "id": "DmVtuXvrrOMx"
   },
   "outputs": [],
   "source": [
    "dataset = 'esol'\n",
    "smile_type = 'original'\n",
    "\n",
    "# READONLY\n",
    "\n",
    "# small to large datasets\n",
    "assert dataset in ['freesolv', 'esol', 'lipophilicity']\n",
    "assert smile_type in ['original', 'protonated']"
   ]
  },
  {
   "cell_type": "markdown",
   "metadata": {
    "colab_type": "text",
    "id": "1PIRIaAszL4P"
   },
   "source": [
    "## Load Features and Targets"
   ]
  },
  {
   "cell_type": "markdown",
   "metadata": {
    "colab_type": "text",
    "id": "0j-LrNtiVaEG"
   },
   "source": [
    "Leave all features here so setup and Load and prepare data are the same everywhere."
   ]
  },
  {
   "cell_type": "code",
   "execution_count": 6,
   "metadata": {
    "colab": {},
    "colab_type": "code",
    "executionInfo": {
     "elapsed": 7811,
     "status": "ok",
     "timestamp": 1595926559114,
     "user": {
      "displayName": "George Batchkala",
      "photoUrl": "",
      "userId": "17039292136363863281"
     },
     "user_tz": -180
    },
    "id": "xmL5nV-BeOcC"
   },
   "outputs": [],
   "source": [
    "# original data\n",
    "id_smile_target = pd.read_csv(f'../data/{dataset}_{smile_type}_IdSmilesLabels.csv', index_col=0)\n",
    "\n",
    "# features\n",
    "rdkit_features = pd.read_csv(f'../data/{dataset}_{smile_type}_rdkit_features.csv', index_col=0)\n",
    "\n",
    "ecfp4_1024_features = pd.read_csv(f'../data/{dataset}_{smile_type}_1024ecfp4_features.csv', index_col=0)\n",
    "ecfp6_1024_features = pd.read_csv(f'../data/{dataset}_{smile_type}_1024ecfp6_features.csv', index_col=0)\n",
    "\n",
    "ecfp4_2048_features = pd.read_csv(f'../data/{dataset}_{smile_type}_2048ecfp4_features.csv', index_col=0)\n",
    "ecfp6_2048_features = pd.read_csv(f'../data/{dataset}_{smile_type}_2048ecfp6_features.csv', index_col=0)\n",
    "\n",
    "# load target\n",
    "labels = id_smile_target['labels']"
   ]
  },
  {
   "cell_type": "code",
   "execution_count": 7,
   "metadata": {
    "colab": {
     "base_uri": "https://localhost:8080/",
     "height": 119
    },
    "colab_type": "code",
    "executionInfo": {
     "elapsed": 5569,
     "status": "ok",
     "timestamp": 1595926559117,
     "user": {
      "displayName": "George Batchkala",
      "photoUrl": "",
      "userId": "17039292136363863281"
     },
     "user_tz": -180
    },
    "id": "1XSkUqI-rONB",
    "outputId": "a231c87c-4f60-4a3d-a303-431d74197a64"
   },
   "outputs": [
    {
     "name": "stdout",
     "output_type": "stream",
     "text": [
      "rdkit_features.shape:       (1128, 200)\n",
      "ecfp4_1024_features.shape:  (1128, 1024)\n",
      "ecfp6_1024_features.shape:  (1128, 1024)\n",
      "ecfp4_2048_features.shape:  (1128, 2048)\n",
      "ecfp6_2048_features.shape:  (1128, 2048)\n",
      "labels.shape:               (1128,)\n"
     ]
    }
   ],
   "source": [
    "print('rdkit_features.shape:      ', rdkit_features.shape)\n",
    "print('ecfp4_1024_features.shape: ', ecfp4_1024_features.shape)\n",
    "print('ecfp6_1024_features.shape: ', ecfp6_1024_features.shape)\n",
    "print('ecfp4_2048_features.shape: ', ecfp4_2048_features.shape)\n",
    "print('ecfp6_2048_features.shape: ', ecfp6_2048_features.shape)\n",
    "print('labels.shape:              ', labels.shape)"
   ]
  },
  {
   "cell_type": "code",
   "execution_count": 8,
   "metadata": {
    "colab": {
     "base_uri": "https://localhost:8080/",
     "height": 136
    },
    "colab_type": "code",
    "executionInfo": {
     "elapsed": 5141,
     "status": "ok",
     "timestamp": 1595926559118,
     "user": {
      "displayName": "George Batchkala",
      "photoUrl": "",
      "userId": "17039292136363863281"
     },
     "user_tz": -180
    },
    "id": "r6LtAy9jzToO",
    "outputId": "5a439422-2fc0-4a77-9c9e-ca6352a5a3cf"
   },
   "outputs": [
    {
     "data": {
      "text/plain": [
       "id\n",
       "Amigdalin   -0.77\n",
       "Fenfuram    -3.30\n",
       "citral      -2.06\n",
       "Picene      -7.87\n",
       "Thiophene   -1.33\n",
       "Name: labels, dtype: float64"
      ]
     },
     "execution_count": 8,
     "metadata": {},
     "output_type": "execute_result"
    }
   ],
   "source": [
    "labels.head()"
   ]
  },
  {
   "cell_type": "markdown",
   "metadata": {
    "colab_type": "text",
    "id": "vH3i_hYSV8Tc"
   },
   "source": [
    "## Create one DataFrame with all features"
   ]
  },
  {
   "cell_type": "code",
   "execution_count": 9,
   "metadata": {
    "colab": {},
    "colab_type": "code",
    "executionInfo": {
     "elapsed": 4054,
     "status": "ok",
     "timestamp": 1595926559119,
     "user": {
      "displayName": "George Batchkala",
      "photoUrl": "",
      "userId": "17039292136363863281"
     },
     "user_tz": -180
    },
    "id": "mR3iubyprONg"
   },
   "outputs": [],
   "source": [
    "all_features = pd.concat([rdkit_features,\n",
    "                          ecfp4_1024_features, ecfp6_1024_features,\n",
    "                          ecfp4_2048_features, ecfp6_2048_features],\n",
    "                         axis='columns')"
   ]
  },
  {
   "cell_type": "code",
   "execution_count": 10,
   "metadata": {
    "colab": {
     "base_uri": "https://localhost:8080/",
     "height": 34
    },
    "colab_type": "code",
    "executionInfo": {
     "elapsed": 3444,
     "status": "ok",
     "timestamp": 1595926559119,
     "user": {
      "displayName": "George Batchkala",
      "photoUrl": "",
      "userId": "17039292136363863281"
     },
     "user_tz": -180
    },
    "id": "HyDTS2G3rONj",
    "outputId": "6f68b803-236d-40a2-a118-5cb19f49e74b"
   },
   "outputs": [
    {
     "data": {
      "text/plain": [
       "(1128, 6344)"
      ]
     },
     "execution_count": 10,
     "metadata": {},
     "output_type": "execute_result"
    }
   ],
   "source": [
    "all_features.shape"
   ]
  },
  {
   "cell_type": "code",
   "execution_count": 11,
   "metadata": {
    "colab": {
     "base_uri": "https://localhost:8080/",
     "height": 338
    },
    "colab_type": "code",
    "executionInfo": {
     "elapsed": 2839,
     "status": "ok",
     "timestamp": 1595926559120,
     "user": {
      "displayName": "George Batchkala",
      "photoUrl": "",
      "userId": "17039292136363863281"
     },
     "user_tz": -180
    },
    "id": "gOJ28OUyrONm",
    "outputId": "a577cdc4-bbc2-47ff-a2fa-745727d7d300"
   },
   "outputs": [
    {
     "data": {
      "text/html": [
       "<div>\n",
       "<style scoped>\n",
       "    .dataframe tbody tr th:only-of-type {\n",
       "        vertical-align: middle;\n",
       "    }\n",
       "\n",
       "    .dataframe tbody tr th {\n",
       "        vertical-align: top;\n",
       "    }\n",
       "\n",
       "    .dataframe thead th {\n",
       "        text-align: right;\n",
       "    }\n",
       "</style>\n",
       "<table border=\"1\" class=\"dataframe\">\n",
       "  <thead>\n",
       "    <tr style=\"text-align: right;\">\n",
       "      <th></th>\n",
       "      <th>MaxEStateIndex</th>\n",
       "      <th>MinEStateIndex</th>\n",
       "      <th>MaxAbsEStateIndex</th>\n",
       "      <th>MinAbsEStateIndex</th>\n",
       "      <th>qed</th>\n",
       "      <th>MolWt</th>\n",
       "      <th>HeavyAtomMolWt</th>\n",
       "      <th>ExactMolWt</th>\n",
       "      <th>NumValenceElectrons</th>\n",
       "      <th>NumRadicalElectrons</th>\n",
       "      <th>...</th>\n",
       "      <th>2048ecfp6-2038</th>\n",
       "      <th>2048ecfp6-2039</th>\n",
       "      <th>2048ecfp6-2040</th>\n",
       "      <th>2048ecfp6-2041</th>\n",
       "      <th>2048ecfp6-2042</th>\n",
       "      <th>2048ecfp6-2043</th>\n",
       "      <th>2048ecfp6-2044</th>\n",
       "      <th>2048ecfp6-2045</th>\n",
       "      <th>2048ecfp6-2046</th>\n",
       "      <th>2048ecfp6-2047</th>\n",
       "    </tr>\n",
       "  </thead>\n",
       "  <tbody>\n",
       "    <tr>\n",
       "      <th>Amigdalin</th>\n",
       "      <td>10.069684</td>\n",
       "      <td>-5.122500</td>\n",
       "      <td>10.069684</td>\n",
       "      <td>0.911295</td>\n",
       "      <td>0.217518</td>\n",
       "      <td>457.432</td>\n",
       "      <td>430.216</td>\n",
       "      <td>457.158411</td>\n",
       "      <td>178.0</td>\n",
       "      <td>0.0</td>\n",
       "      <td>...</td>\n",
       "      <td>0</td>\n",
       "      <td>0</td>\n",
       "      <td>0</td>\n",
       "      <td>0</td>\n",
       "      <td>0</td>\n",
       "      <td>0</td>\n",
       "      <td>0</td>\n",
       "      <td>0</td>\n",
       "      <td>0</td>\n",
       "      <td>0</td>\n",
       "    </tr>\n",
       "    <tr>\n",
       "      <th>Fenfuram</th>\n",
       "      <td>12.547837</td>\n",
       "      <td>-2.999280</td>\n",
       "      <td>12.547837</td>\n",
       "      <td>0.099444</td>\n",
       "      <td>0.811283</td>\n",
       "      <td>201.225</td>\n",
       "      <td>190.137</td>\n",
       "      <td>201.078979</td>\n",
       "      <td>76.0</td>\n",
       "      <td>0.0</td>\n",
       "      <td>...</td>\n",
       "      <td>0</td>\n",
       "      <td>0</td>\n",
       "      <td>0</td>\n",
       "      <td>0</td>\n",
       "      <td>0</td>\n",
       "      <td>0</td>\n",
       "      <td>0</td>\n",
       "      <td>0</td>\n",
       "      <td>0</td>\n",
       "      <td>0</td>\n",
       "    </tr>\n",
       "    <tr>\n",
       "      <th>citral</th>\n",
       "      <td>11.071016</td>\n",
       "      <td>-3.884051</td>\n",
       "      <td>11.071016</td>\n",
       "      <td>1.707414</td>\n",
       "      <td>0.343706</td>\n",
       "      <td>152.237</td>\n",
       "      <td>136.109</td>\n",
       "      <td>152.120115</td>\n",
       "      <td>62.0</td>\n",
       "      <td>0.0</td>\n",
       "      <td>...</td>\n",
       "      <td>0</td>\n",
       "      <td>0</td>\n",
       "      <td>0</td>\n",
       "      <td>0</td>\n",
       "      <td>0</td>\n",
       "      <td>0</td>\n",
       "      <td>0</td>\n",
       "      <td>0</td>\n",
       "      <td>0</td>\n",
       "      <td>0</td>\n",
       "    </tr>\n",
       "    <tr>\n",
       "      <th>Picene</th>\n",
       "      <td>8.745488</td>\n",
       "      <td>-0.641794</td>\n",
       "      <td>8.745488</td>\n",
       "      <td>0.260568</td>\n",
       "      <td>0.291526</td>\n",
       "      <td>278.354</td>\n",
       "      <td>264.242</td>\n",
       "      <td>278.109550</td>\n",
       "      <td>102.0</td>\n",
       "      <td>0.0</td>\n",
       "      <td>...</td>\n",
       "      <td>0</td>\n",
       "      <td>0</td>\n",
       "      <td>0</td>\n",
       "      <td>0</td>\n",
       "      <td>0</td>\n",
       "      <td>0</td>\n",
       "      <td>0</td>\n",
       "      <td>0</td>\n",
       "      <td>0</td>\n",
       "      <td>0</td>\n",
       "    </tr>\n",
       "    <tr>\n",
       "      <th>Thiophene</th>\n",
       "      <td>6.980324</td>\n",
       "      <td>-0.134259</td>\n",
       "      <td>6.980324</td>\n",
       "      <td>0.004630</td>\n",
       "      <td>0.448927</td>\n",
       "      <td>84.143</td>\n",
       "      <td>80.111</td>\n",
       "      <td>84.003371</td>\n",
       "      <td>26.0</td>\n",
       "      <td>0.0</td>\n",
       "      <td>...</td>\n",
       "      <td>0</td>\n",
       "      <td>0</td>\n",
       "      <td>0</td>\n",
       "      <td>0</td>\n",
       "      <td>0</td>\n",
       "      <td>0</td>\n",
       "      <td>0</td>\n",
       "      <td>0</td>\n",
       "      <td>0</td>\n",
       "      <td>0</td>\n",
       "    </tr>\n",
       "  </tbody>\n",
       "</table>\n",
       "<p>5 rows × 6344 columns</p>\n",
       "</div>"
      ],
      "text/plain": [
       "           MaxEStateIndex  MinEStateIndex  MaxAbsEStateIndex  \\\n",
       "Amigdalin       10.069684       -5.122500          10.069684   \n",
       "Fenfuram        12.547837       -2.999280          12.547837   \n",
       "citral          11.071016       -3.884051          11.071016   \n",
       "Picene           8.745488       -0.641794           8.745488   \n",
       "Thiophene        6.980324       -0.134259           6.980324   \n",
       "\n",
       "           MinAbsEStateIndex       qed    MolWt  HeavyAtomMolWt  ExactMolWt  \\\n",
       "Amigdalin           0.911295  0.217518  457.432         430.216  457.158411   \n",
       "Fenfuram            0.099444  0.811283  201.225         190.137  201.078979   \n",
       "citral              1.707414  0.343706  152.237         136.109  152.120115   \n",
       "Picene              0.260568  0.291526  278.354         264.242  278.109550   \n",
       "Thiophene           0.004630  0.448927   84.143          80.111   84.003371   \n",
       "\n",
       "           NumValenceElectrons  NumRadicalElectrons  ...  2048ecfp6-2038  \\\n",
       "Amigdalin                178.0                  0.0  ...               0   \n",
       "Fenfuram                  76.0                  0.0  ...               0   \n",
       "citral                    62.0                  0.0  ...               0   \n",
       "Picene                   102.0                  0.0  ...               0   \n",
       "Thiophene                 26.0                  0.0  ...               0   \n",
       "\n",
       "           2048ecfp6-2039  2048ecfp6-2040  2048ecfp6-2041  2048ecfp6-2042  \\\n",
       "Amigdalin               0               0               0               0   \n",
       "Fenfuram                0               0               0               0   \n",
       "citral                  0               0               0               0   \n",
       "Picene                  0               0               0               0   \n",
       "Thiophene               0               0               0               0   \n",
       "\n",
       "           2048ecfp6-2043  2048ecfp6-2044  2048ecfp6-2045  2048ecfp6-2046  \\\n",
       "Amigdalin               0               0               0               0   \n",
       "Fenfuram                0               0               0               0   \n",
       "citral                  0               0               0               0   \n",
       "Picene                  0               0               0               0   \n",
       "Thiophene               0               0               0               0   \n",
       "\n",
       "           2048ecfp6-2047  \n",
       "Amigdalin               0  \n",
       "Fenfuram                0  \n",
       "citral                  0  \n",
       "Picene                  0  \n",
       "Thiophene               0  \n",
       "\n",
       "[5 rows x 6344 columns]"
      ]
     },
     "execution_count": 11,
     "metadata": {},
     "output_type": "execute_result"
    }
   ],
   "source": [
    "all_features.head()"
   ]
  },
  {
   "cell_type": "markdown",
   "metadata": {},
   "source": [
    "## Create feature_sets dictionary with pd.Index (containing feature names) as its elements"
   ]
  },
  {
   "cell_type": "code",
   "execution_count": 12,
   "metadata": {},
   "outputs": [],
   "source": [
    "feature_sets = {\n",
    "    'RDKit': rdkit_features.columns,\n",
    "    '1024ecfp-4': ecfp4_1024_features.columns,\n",
    "    '1024ecfp-6': ecfp6_1024_features.columns,\n",
    "    '2048ecfp-4': ecfp4_2048_features.columns,\n",
    "    '2048ecfp-6': ecfp6_2048_features.columns,\n",
    "}"
   ]
  },
  {
   "cell_type": "markdown",
   "metadata": {},
   "source": [
    "# Check for missing values, NaNs, Infs"
   ]
  },
  {
   "cell_type": "code",
   "execution_count": 13,
   "metadata": {},
   "outputs": [
    {
     "name": "stdout",
     "output_type": "stream",
     "text": [
      "set()\n"
     ]
    }
   ],
   "source": [
    "cols_with_nas = set()\n",
    "pos_with_nas = []\n",
    "\n",
    "for name in rdkit_features.columns:\n",
    "    if rdkit_features[name].isna().sum() > 0:\n",
    "        print(name, 'na', rdkit_features[name].isna().sum())\n",
    "        cols_with_nas.add(name)\n",
    "        \n",
    "        for obs in rdkit_features.index:\n",
    "            if np.isnan(rdkit_features.loc[obs, name]):\n",
    "                pos_with_nas.append((obs, name))\n",
    "        \n",
    "print(cols_with_nas)"
   ]
  },
  {
   "cell_type": "code",
   "execution_count": 14,
   "metadata": {},
   "outputs": [],
   "source": [
    "for pos in pos_with_nas:\n",
    "    print(pos)"
   ]
  },
  {
   "cell_type": "code",
   "execution_count": 15,
   "metadata": {},
   "outputs": [
    {
     "data": {
      "text/plain": [
       "0"
      ]
     },
     "execution_count": 15,
     "metadata": {},
     "output_type": "execute_result"
    }
   ],
   "source": [
    "rdkit_features.isnull().sum().sum()"
   ]
  },
  {
   "cell_type": "code",
   "execution_count": 16,
   "metadata": {},
   "outputs": [
    {
     "data": {
      "text/plain": [
       "True"
      ]
     },
     "execution_count": 16,
     "metadata": {},
     "output_type": "execute_result"
    }
   ],
   "source": [
    "(rdkit_features.isnull() == rdkit_features.isna()).all().all()"
   ]
  },
  {
   "cell_type": "markdown",
   "metadata": {
    "colab": {},
    "colab_type": "code",
    "id": "pGIgpIm9iKfI"
   },
   "source": [
    "# Get number of zero-variance columns in unsplit (train-val-test) datasets"
   ]
  },
  {
   "cell_type": "code",
   "execution_count": 17,
   "metadata": {},
   "outputs": [],
   "source": [
    "transform = VarianceThreshold()"
   ]
  },
  {
   "cell_type": "code",
   "execution_count": 18,
   "metadata": {
    "colab": {
     "base_uri": "https://localhost:8080/",
     "height": 395
    },
    "colab_type": "code",
    "executionInfo": {
     "elapsed": 15529,
     "status": "ok",
     "timestamp": 1595926556878,
     "user": {
      "displayName": "George Batchkala",
      "photoUrl": "",
      "userId": "17039292136363863281"
     },
     "user_tz": -180
    },
    "id": "vRtAyn4qrOMg",
    "outputId": "108b33cf-e474-48cd-ee7c-a42717a75bc1"
   },
   "outputs": [
    {
     "name": "stdout",
     "output_type": "stream",
     "text": [
      "RDKit feature set originally has 200 columns\n",
      "RDKit feature set without zero-var columns has 180 columns\n",
      "Reduction: 20\n",
      "\n",
      "1024ecfp-4 feature set originally has 1024 columns\n",
      "1024ecfp-4 feature set without zero-var columns has 1013 columns\n",
      "Reduction: 11\n",
      "\n",
      "1024ecfp-6 feature set originally has 1024 columns\n",
      "1024ecfp-6 feature set without zero-var columns has 1024 columns\n",
      "Reduction: 0\n",
      "\n",
      "2048ecfp-4 feature set originally has 2048 columns\n",
      "2048ecfp-4 feature set without zero-var columns has 1856 columns\n",
      "Reduction: 192\n",
      "\n",
      "2048ecfp-6 feature set originally has 2048 columns\n",
      "2048ecfp-6 feature set without zero-var columns has 2030 columns\n",
      "Reduction: 18\n",
      "\n"
     ]
    },
    {
     "data": {
      "text/html": [
       "<div>\n",
       "<style scoped>\n",
       "    .dataframe tbody tr th:only-of-type {\n",
       "        vertical-align: middle;\n",
       "    }\n",
       "\n",
       "    .dataframe tbody tr th {\n",
       "        vertical-align: top;\n",
       "    }\n",
       "\n",
       "    .dataframe thead th {\n",
       "        text-align: right;\n",
       "    }\n",
       "</style>\n",
       "<table border=\"1\" class=\"dataframe\">\n",
       "  <thead>\n",
       "    <tr style=\"text-align: right;\">\n",
       "      <th></th>\n",
       "      <th>Original features</th>\n",
       "      <th>Reduced features</th>\n",
       "      <th>Reduction</th>\n",
       "    </tr>\n",
       "  </thead>\n",
       "  <tbody>\n",
       "    <tr>\n",
       "      <th>RDKit</th>\n",
       "      <td>200</td>\n",
       "      <td>180</td>\n",
       "      <td>20</td>\n",
       "    </tr>\n",
       "    <tr>\n",
       "      <th>1024ecfp-4</th>\n",
       "      <td>1024</td>\n",
       "      <td>1013</td>\n",
       "      <td>11</td>\n",
       "    </tr>\n",
       "    <tr>\n",
       "      <th>1024ecfp-6</th>\n",
       "      <td>1024</td>\n",
       "      <td>1024</td>\n",
       "      <td>0</td>\n",
       "    </tr>\n",
       "    <tr>\n",
       "      <th>2048ecfp-4</th>\n",
       "      <td>2048</td>\n",
       "      <td>1856</td>\n",
       "      <td>192</td>\n",
       "    </tr>\n",
       "    <tr>\n",
       "      <th>2048ecfp-6</th>\n",
       "      <td>2048</td>\n",
       "      <td>2030</td>\n",
       "      <td>18</td>\n",
       "    </tr>\n",
       "  </tbody>\n",
       "</table>\n",
       "</div>"
      ],
      "text/plain": [
       "            Original features  Reduced features  Reduction\n",
       "RDKit                     200               180         20\n",
       "1024ecfp-4               1024              1013         11\n",
       "1024ecfp-6               1024              1024          0\n",
       "2048ecfp-4               2048              1856        192\n",
       "2048ecfp-6               2048              2030         18"
      ]
     },
     "metadata": {},
     "output_type": "display_data"
    }
   ],
   "source": [
    "featuresets_to_reductions = {}\n",
    "\n",
    "for f in feature_sets:\n",
    "    \n",
    "    df = all_features[feature_sets[f]]\n",
    "    print(f'{f} feature set originally has {df.shape[1]} columns')\n",
    "    new_df = transform.fit_transform(X=df)\n",
    "    print(f'{f} feature set without zero-var columns has {new_df.shape[1]} columns')\n",
    "    print(f'Reduction: {df.shape[1] - new_df.shape[1]}\\n')\n",
    "    \n",
    "    featuresets_to_reductions[f] = {\n",
    "        'Original features': df.shape[1],\n",
    "        'Reduced features': new_df.shape[1],\n",
    "        'Reduction': df.shape[1] - new_df.shape[1]\n",
    "    }\n",
    "    \n",
    "featuresets_to_reductions_df = pd.DataFrame(featuresets_to_reductions).T\n",
    "display(featuresets_to_reductions_df)"
   ]
  },
  {
   "cell_type": "code",
   "execution_count": 19,
   "metadata": {},
   "outputs": [],
   "source": [
    "featuresets_to_reductions_df.to_csv(f'../tables/{dataset}_{smile_type}_featuresets_to_zero_varaince_reductions.csv')"
   ]
  },
  {
   "cell_type": "code",
   "execution_count": 20,
   "metadata": {},
   "outputs": [
    {
     "data": {
      "text/html": [
       "<div>\n",
       "<style scoped>\n",
       "    .dataframe tbody tr th:only-of-type {\n",
       "        vertical-align: middle;\n",
       "    }\n",
       "\n",
       "    .dataframe tbody tr th {\n",
       "        vertical-align: top;\n",
       "    }\n",
       "\n",
       "    .dataframe thead th {\n",
       "        text-align: right;\n",
       "    }\n",
       "</style>\n",
       "<table border=\"1\" class=\"dataframe\">\n",
       "  <thead>\n",
       "    <tr style=\"text-align: right;\">\n",
       "      <th></th>\n",
       "      <th>Original features</th>\n",
       "      <th>Reduced features</th>\n",
       "      <th>Reduction</th>\n",
       "    </tr>\n",
       "  </thead>\n",
       "  <tbody>\n",
       "    <tr>\n",
       "      <th>RDKit</th>\n",
       "      <td>200</td>\n",
       "      <td>180</td>\n",
       "      <td>20</td>\n",
       "    </tr>\n",
       "    <tr>\n",
       "      <th>1024ecfp-4</th>\n",
       "      <td>1024</td>\n",
       "      <td>1013</td>\n",
       "      <td>11</td>\n",
       "    </tr>\n",
       "    <tr>\n",
       "      <th>1024ecfp-6</th>\n",
       "      <td>1024</td>\n",
       "      <td>1024</td>\n",
       "      <td>0</td>\n",
       "    </tr>\n",
       "    <tr>\n",
       "      <th>2048ecfp-4</th>\n",
       "      <td>2048</td>\n",
       "      <td>1856</td>\n",
       "      <td>192</td>\n",
       "    </tr>\n",
       "    <tr>\n",
       "      <th>2048ecfp-6</th>\n",
       "      <td>2048</td>\n",
       "      <td>2030</td>\n",
       "      <td>18</td>\n",
       "    </tr>\n",
       "  </tbody>\n",
       "</table>\n",
       "</div>"
      ],
      "text/plain": [
       "            Original features  Reduced features  Reduction\n",
       "RDKit                     200               180         20\n",
       "1024ecfp-4               1024              1013         11\n",
       "1024ecfp-6               1024              1024          0\n",
       "2048ecfp-4               2048              1856        192\n",
       "2048ecfp-6               2048              2030         18"
      ]
     },
     "execution_count": 20,
     "metadata": {},
     "output_type": "execute_result"
    }
   ],
   "source": [
    "pd.read_csv(f'../tables/{dataset}_{smile_type}_featuresets_to_zero_varaince_reductions.csv', index_col=0)"
   ]
  },
  {
   "cell_type": "markdown",
   "metadata": {},
   "source": [
    "## Visuzlizing reductions"
   ]
  },
  {
   "cell_type": "code",
   "execution_count": 21,
   "metadata": {},
   "outputs": [],
   "source": [
    "if np.array([f'{dataset}_original_featuresets_to_zero_varaince_reductions.csv' in os.listdir('../tables') for dataset in ['freesolv', 'esol', 'lipophilicity']]).all():\n",
    "    esol_reductions = pd.read_csv(f'../tables/esol_original_featuresets_to_zero_varaince_reductions.csv', index_col=0)\n",
    "    freesolv_reductions = pd.read_csv(f'../tables/freesolv_original_featuresets_to_zero_varaince_reductions.csv', index_col=0)\n",
    "    lipophilicity_reductions = pd.read_csv(f'../tables/lipophilicity_original_featuresets_to_zero_varaince_reductions.csv', index_col=0)"
   ]
  },
  {
   "cell_type": "code",
   "execution_count": 22,
   "metadata": {},
   "outputs": [
    {
     "data": {
      "text/html": [
       "<div>\n",
       "<style scoped>\n",
       "    .dataframe tbody tr th:only-of-type {\n",
       "        vertical-align: middle;\n",
       "    }\n",
       "\n",
       "    .dataframe tbody tr th {\n",
       "        vertical-align: top;\n",
       "    }\n",
       "\n",
       "    .dataframe thead th {\n",
       "        text-align: right;\n",
       "    }\n",
       "</style>\n",
       "<table border=\"1\" class=\"dataframe\">\n",
       "  <thead>\n",
       "    <tr style=\"text-align: right;\">\n",
       "      <th></th>\n",
       "      <th>Original features</th>\n",
       "      <th>Reduced features</th>\n",
       "      <th>Reduction</th>\n",
       "    </tr>\n",
       "  </thead>\n",
       "  <tbody>\n",
       "    <tr>\n",
       "      <th>RDKit</th>\n",
       "      <td>200</td>\n",
       "      <td>167</td>\n",
       "      <td>33</td>\n",
       "    </tr>\n",
       "    <tr>\n",
       "      <th>1024ecfp-4</th>\n",
       "      <td>1024</td>\n",
       "      <td>849</td>\n",
       "      <td>175</td>\n",
       "    </tr>\n",
       "    <tr>\n",
       "      <th>1024ecfp-6</th>\n",
       "      <td>1024</td>\n",
       "      <td>981</td>\n",
       "      <td>43</td>\n",
       "    </tr>\n",
       "    <tr>\n",
       "      <th>2048ecfp-4</th>\n",
       "      <td>2048</td>\n",
       "      <td>1224</td>\n",
       "      <td>824</td>\n",
       "    </tr>\n",
       "    <tr>\n",
       "      <th>2048ecfp-6</th>\n",
       "      <td>2048</td>\n",
       "      <td>1617</td>\n",
       "      <td>431</td>\n",
       "    </tr>\n",
       "  </tbody>\n",
       "</table>\n",
       "</div>"
      ],
      "text/plain": [
       "            Original features  Reduced features  Reduction\n",
       "RDKit                     200               167         33\n",
       "1024ecfp-4               1024               849        175\n",
       "1024ecfp-6               1024               981         43\n",
       "2048ecfp-4               2048              1224        824\n",
       "2048ecfp-6               2048              1617        431"
      ]
     },
     "metadata": {},
     "output_type": "display_data"
    }
   ],
   "source": [
    "# 642 rows\n",
    "display(freesolv_reductions)"
   ]
  },
  {
   "cell_type": "code",
   "execution_count": 23,
   "metadata": {},
   "outputs": [
    {
     "data": {
      "text/html": [
       "<div>\n",
       "<style scoped>\n",
       "    .dataframe tbody tr th:only-of-type {\n",
       "        vertical-align: middle;\n",
       "    }\n",
       "\n",
       "    .dataframe tbody tr th {\n",
       "        vertical-align: top;\n",
       "    }\n",
       "\n",
       "    .dataframe thead th {\n",
       "        text-align: right;\n",
       "    }\n",
       "</style>\n",
       "<table border=\"1\" class=\"dataframe\">\n",
       "  <thead>\n",
       "    <tr style=\"text-align: right;\">\n",
       "      <th></th>\n",
       "      <th>Original features</th>\n",
       "      <th>Reduced features</th>\n",
       "      <th>Reduction</th>\n",
       "    </tr>\n",
       "  </thead>\n",
       "  <tbody>\n",
       "    <tr>\n",
       "      <th>RDKit</th>\n",
       "      <td>200</td>\n",
       "      <td>180</td>\n",
       "      <td>20</td>\n",
       "    </tr>\n",
       "    <tr>\n",
       "      <th>1024ecfp-4</th>\n",
       "      <td>1024</td>\n",
       "      <td>1013</td>\n",
       "      <td>11</td>\n",
       "    </tr>\n",
       "    <tr>\n",
       "      <th>1024ecfp-6</th>\n",
       "      <td>1024</td>\n",
       "      <td>1024</td>\n",
       "      <td>0</td>\n",
       "    </tr>\n",
       "    <tr>\n",
       "      <th>2048ecfp-4</th>\n",
       "      <td>2048</td>\n",
       "      <td>1856</td>\n",
       "      <td>192</td>\n",
       "    </tr>\n",
       "    <tr>\n",
       "      <th>2048ecfp-6</th>\n",
       "      <td>2048</td>\n",
       "      <td>2030</td>\n",
       "      <td>18</td>\n",
       "    </tr>\n",
       "  </tbody>\n",
       "</table>\n",
       "</div>"
      ],
      "text/plain": [
       "            Original features  Reduced features  Reduction\n",
       "RDKit                     200               180         20\n",
       "1024ecfp-4               1024              1013         11\n",
       "1024ecfp-6               1024              1024          0\n",
       "2048ecfp-4               2048              1856        192\n",
       "2048ecfp-6               2048              2030         18"
      ]
     },
     "metadata": {},
     "output_type": "display_data"
    }
   ],
   "source": [
    "# 1128 rows\n",
    "display(esol_reductions)"
   ]
  },
  {
   "cell_type": "code",
   "execution_count": 24,
   "metadata": {},
   "outputs": [
    {
     "data": {
      "text/html": [
       "<div>\n",
       "<style scoped>\n",
       "    .dataframe tbody tr th:only-of-type {\n",
       "        vertical-align: middle;\n",
       "    }\n",
       "\n",
       "    .dataframe tbody tr th {\n",
       "        vertical-align: top;\n",
       "    }\n",
       "\n",
       "    .dataframe thead th {\n",
       "        text-align: right;\n",
       "    }\n",
       "</style>\n",
       "<table border=\"1\" class=\"dataframe\">\n",
       "  <thead>\n",
       "    <tr style=\"text-align: right;\">\n",
       "      <th></th>\n",
       "      <th>Original features</th>\n",
       "      <th>Reduced features</th>\n",
       "      <th>Reduction</th>\n",
       "    </tr>\n",
       "  </thead>\n",
       "  <tbody>\n",
       "    <tr>\n",
       "      <th>RDKit</th>\n",
       "      <td>200</td>\n",
       "      <td>188</td>\n",
       "      <td>12</td>\n",
       "    </tr>\n",
       "    <tr>\n",
       "      <th>1024ecfp-4</th>\n",
       "      <td>1024</td>\n",
       "      <td>1024</td>\n",
       "      <td>0</td>\n",
       "    </tr>\n",
       "    <tr>\n",
       "      <th>1024ecfp-6</th>\n",
       "      <td>1024</td>\n",
       "      <td>1024</td>\n",
       "      <td>0</td>\n",
       "    </tr>\n",
       "    <tr>\n",
       "      <th>2048ecfp-4</th>\n",
       "      <td>2048</td>\n",
       "      <td>2047</td>\n",
       "      <td>1</td>\n",
       "    </tr>\n",
       "    <tr>\n",
       "      <th>2048ecfp-6</th>\n",
       "      <td>2048</td>\n",
       "      <td>2048</td>\n",
       "      <td>0</td>\n",
       "    </tr>\n",
       "  </tbody>\n",
       "</table>\n",
       "</div>"
      ],
      "text/plain": [
       "            Original features  Reduced features  Reduction\n",
       "RDKit                     200               188         12\n",
       "1024ecfp-4               1024              1024          0\n",
       "1024ecfp-6               1024              1024          0\n",
       "2048ecfp-4               2048              2047          1\n",
       "2048ecfp-6               2048              2048          0"
      ]
     },
     "metadata": {},
     "output_type": "display_data"
    }
   ],
   "source": [
    "# 4200 rows\n",
    "display(lipophilicity_reductions)"
   ]
  },
  {
   "cell_type": "code",
   "execution_count": 25,
   "metadata": {},
   "outputs": [
    {
     "data": {
      "text/plain": [
       "['RDKit', '1024ecfp-4', '1024ecfp-6', '2048ecfp-4', '2048ecfp-6']"
      ]
     },
     "execution_count": 25,
     "metadata": {},
     "output_type": "execute_result"
    }
   ],
   "source": [
    "list(feature_sets.keys())"
   ]
  },
  {
   "cell_type": "code",
   "execution_count": 26,
   "metadata": {},
   "outputs": [
    {
     "data": {
      "image/png": "[encoded data removed]",
      "text/plain": [
       "<Figure size 720x576 with 1 Axes>"
      ]
     },
     "metadata": {
      "needs_background": "light"
     },
     "output_type": "display_data"
    }
   ],
   "source": [
    "feature_sets_keys = ['RDKit', '1024ecfp-4', '1024ecfp-6', '2048ecfp-4', '2048ecfp-6'][::-1]\n",
    "positions = range(len(feature_sets_keys))\n",
    "\n",
    "plt.figure(figsize=(10, 8))\n",
    "plt.tight_layout()\n",
    "\n",
    "width = 0.8 # the width of the bars\n",
    "\n",
    "f = plt.barh(positions, freesolv_reductions['Reduction'][::-1], width)\n",
    "e = plt.barh(positions, esol_reductions['Reduction'][::-1], width)\n",
    "l = plt.barh(positions, lipophilicity_reductions['Reduction'][::-1], width)\n",
    "\n",
    "plt.yticks(positions, feature_sets_keys)\n",
    "plt.ylabel('Feature set')\n",
    "plt.xlabel('Reduction')\n",
    "plt.title('Reduction in features')\n",
    "\n",
    "plt.legend((f[0], e[0], l[0]), ('freesolv', 'esol', 'lipophilicity'))\n",
    "\n",
    "# TODO: fix y-labels to fit the saved image\n",
    "plt.savefig('../figures/comparison_of_zero_var_feature_reduction_for_all_datasets.png')\n",
    "plt.show()"
   ]
  },
  {
   "cell_type": "markdown",
   "metadata": {},
   "source": [
    "# Check RDKit descriptors for highly correlated features with the targets"
   ]
  },
  {
   "cell_type": "markdown",
   "metadata": {},
   "source": [
    "## logP columns (a lead from Garrett)"
   ]
  },
  {
   "cell_type": "code",
   "execution_count": 27,
   "metadata": {},
   "outputs": [],
   "source": [
    "import re\n",
    "\n",
    "suspicious_cols = []\n",
    "for name in rdkit_features.columns:\n",
    "    m = re.match('(.)*(logP|LogP)(.)*', name)\n",
    "    if m is not None:\n",
    "        suspicious_cols.append(m[0])"
   ]
  },
  {
   "cell_type": "code",
   "execution_count": 28,
   "metadata": {},
   "outputs": [
    {
     "data": {
      "text/plain": [
       "['SlogP_VSA1',\n",
       " 'SlogP_VSA10',\n",
       " 'SlogP_VSA11',\n",
       " 'SlogP_VSA12',\n",
       " 'SlogP_VSA2',\n",
       " 'SlogP_VSA3',\n",
       " 'SlogP_VSA4',\n",
       " 'SlogP_VSA5',\n",
       " 'SlogP_VSA6',\n",
       " 'SlogP_VSA7',\n",
       " 'SlogP_VSA8',\n",
       " 'SlogP_VSA9',\n",
       " 'MolLogP']"
      ]
     },
     "execution_count": 28,
     "metadata": {},
     "output_type": "execute_result"
    }
   ],
   "source": [
    "suspicious_cols"
   ]
  },
  {
   "cell_type": "markdown",
   "metadata": {},
   "source": [
    "## Iteration through all and checking correlations"
   ]
  },
  {
   "cell_type": "code",
   "execution_count": 29,
   "metadata": {},
   "outputs": [
    {
     "name": "stdout",
     "output_type": "stream",
     "text": [
      "200\n"
     ]
    },
    {
     "data": {
      "text/plain": [
       "['MolLogP']"
      ]
     },
     "execution_count": 29,
     "metadata": {},
     "output_type": "execute_result"
    }
   ],
   "source": [
    "threshold = 0.75\n",
    "cols_to_remove = [] # column names with correlation > threshold\n",
    "col_name_1 = 'pearson_r'\n",
    "col_name_2 = 'abs(pearson_r)'\n",
    "all_correlations = {\n",
    "    col_name_1: {},\n",
    "    col_name_2: {}\n",
    "}\n",
    "\n",
    "for name in rdkit_features.columns.difference(cols_with_nas):\n",
    "    all_correlations[col_name_1][name] = pearsonr(rdkit_features[name], labels)[0]\n",
    "    all_correlations[col_name_2][name] = np.abs(pearsonr(rdkit_features[name], labels)[0])\n",
    "    if np.abs(all_correlations[col_name_2][name]) > threshold:\n",
    "        cols_to_remove.append(name)\n",
    "\n",
    "print(len(all_correlations[col_name_2]))\n",
    "cols_to_remove"
   ]
  },
  {
   "cell_type": "code",
   "execution_count": 30,
   "metadata": {},
   "outputs": [
    {
     "data": {
      "text/html": [
       "<div>\n",
       "<style scoped>\n",
       "    .dataframe tbody tr th:only-of-type {\n",
       "        vertical-align: middle;\n",
       "    }\n",
       "\n",
       "    .dataframe tbody tr th {\n",
       "        vertical-align: top;\n",
       "    }\n",
       "\n",
       "    .dataframe thead th {\n",
       "        text-align: right;\n",
       "    }\n",
       "</style>\n",
       "<table border=\"1\" class=\"dataframe\">\n",
       "  <thead>\n",
       "    <tr style=\"text-align: right;\">\n",
       "      <th></th>\n",
       "      <th>pearson_r</th>\n",
       "      <th>abs(pearson_r)</th>\n",
       "    </tr>\n",
       "  </thead>\n",
       "  <tbody>\n",
       "    <tr>\n",
       "      <th>MolLogP</th>\n",
       "      <td>-0.827918</td>\n",
       "      <td>0.827918</td>\n",
       "    </tr>\n",
       "    <tr>\n",
       "      <th>PEOE_VSA6</th>\n",
       "      <td>-0.705311</td>\n",
       "      <td>0.705311</td>\n",
       "    </tr>\n",
       "    <tr>\n",
       "      <th>MolMR</th>\n",
       "      <td>-0.699756</td>\n",
       "      <td>0.699756</td>\n",
       "    </tr>\n",
       "    <tr>\n",
       "      <th>Chi0v</th>\n",
       "      <td>-0.679998</td>\n",
       "      <td>0.679998</td>\n",
       "    </tr>\n",
       "    <tr>\n",
       "      <th>FpDensityMorgan1</th>\n",
       "      <td>0.670342</td>\n",
       "      <td>0.670342</td>\n",
       "    </tr>\n",
       "    <tr>\n",
       "      <th>Chi1v</th>\n",
       "      <td>-0.657564</td>\n",
       "      <td>0.657564</td>\n",
       "    </tr>\n",
       "    <tr>\n",
       "      <th>FpDensityMorgan2</th>\n",
       "      <td>0.646831</td>\n",
       "      <td>0.646831</td>\n",
       "    </tr>\n",
       "    <tr>\n",
       "      <th>MolWt</th>\n",
       "      <td>-0.640189</td>\n",
       "      <td>0.640189</td>\n",
       "    </tr>\n",
       "    <tr>\n",
       "      <th>HeavyAtomMolWt</th>\n",
       "      <td>-0.639511</td>\n",
       "      <td>0.639511</td>\n",
       "    </tr>\n",
       "    <tr>\n",
       "      <th>ExactMolWt</th>\n",
       "      <td>-0.639112</td>\n",
       "      <td>0.639112</td>\n",
       "    </tr>\n",
       "  </tbody>\n",
       "</table>\n",
       "</div>"
      ],
      "text/plain": [
       "                  pearson_r  abs(pearson_r)\n",
       "MolLogP           -0.827918        0.827918\n",
       "PEOE_VSA6         -0.705311        0.705311\n",
       "MolMR             -0.699756        0.699756\n",
       "Chi0v             -0.679998        0.679998\n",
       "FpDensityMorgan1   0.670342        0.670342\n",
       "Chi1v             -0.657564        0.657564\n",
       "FpDensityMorgan2   0.646831        0.646831\n",
       "MolWt             -0.640189        0.640189\n",
       "HeavyAtomMolWt    -0.639511        0.639511\n",
       "ExactMolWt        -0.639112        0.639112"
      ]
     },
     "metadata": {},
     "output_type": "display_data"
    }
   ],
   "source": [
    "all_correlations_df = pd.DataFrame(all_correlations).sort_values(by=col_name_2, ascending=False)\n",
    "\n",
    "display(all_correlations_df[:10])"
   ]
  },
  {
   "cell_type": "code",
   "execution_count": 31,
   "metadata": {},
   "outputs": [
    {
     "data": {
      "text/html": [
       "<div>\n",
       "<style scoped>\n",
       "    .dataframe tbody tr th:only-of-type {\n",
       "        vertical-align: middle;\n",
       "    }\n",
       "\n",
       "    .dataframe tbody tr th {\n",
       "        vertical-align: top;\n",
       "    }\n",
       "\n",
       "    .dataframe thead th {\n",
       "        text-align: right;\n",
       "    }\n",
       "</style>\n",
       "<table border=\"1\" class=\"dataframe\">\n",
       "  <thead>\n",
       "    <tr style=\"text-align: right;\">\n",
       "      <th></th>\n",
       "      <th>pearson_r</th>\n",
       "      <th>abs(pearson_r)</th>\n",
       "    </tr>\n",
       "  </thead>\n",
       "  <tbody>\n",
       "    <tr>\n",
       "      <th>MolLogP</th>\n",
       "      <td>-0.827918</td>\n",
       "      <td>0.827918</td>\n",
       "    </tr>\n",
       "    <tr>\n",
       "      <th>SlogP_VSA6</th>\n",
       "      <td>-0.449784</td>\n",
       "      <td>0.449784</td>\n",
       "    </tr>\n",
       "    <tr>\n",
       "      <th>SlogP_VSA8</th>\n",
       "      <td>-0.406413</td>\n",
       "      <td>0.406413</td>\n",
       "    </tr>\n",
       "    <tr>\n",
       "      <th>SlogP_VSA12</th>\n",
       "      <td>-0.390944</td>\n",
       "      <td>0.390944</td>\n",
       "    </tr>\n",
       "    <tr>\n",
       "      <th>SlogP_VSA7</th>\n",
       "      <td>-0.371868</td>\n",
       "      <td>0.371868</td>\n",
       "    </tr>\n",
       "    <tr>\n",
       "      <th>SlogP_VSA5</th>\n",
       "      <td>-0.275599</td>\n",
       "      <td>0.275599</td>\n",
       "    </tr>\n",
       "    <tr>\n",
       "      <th>SlogP_VSA4</th>\n",
       "      <td>-0.180616</td>\n",
       "      <td>0.180616</td>\n",
       "    </tr>\n",
       "    <tr>\n",
       "      <th>SlogP_VSA10</th>\n",
       "      <td>-0.113968</td>\n",
       "      <td>0.113968</td>\n",
       "    </tr>\n",
       "    <tr>\n",
       "      <th>SlogP_VSA2</th>\n",
       "      <td>0.108928</td>\n",
       "      <td>0.108928</td>\n",
       "    </tr>\n",
       "    <tr>\n",
       "      <th>SlogP_VSA3</th>\n",
       "      <td>-0.077157</td>\n",
       "      <td>0.077157</td>\n",
       "    </tr>\n",
       "    <tr>\n",
       "      <th>SlogP_VSA11</th>\n",
       "      <td>-0.062042</td>\n",
       "      <td>0.062042</td>\n",
       "    </tr>\n",
       "    <tr>\n",
       "      <th>SlogP_VSA1</th>\n",
       "      <td>0.012001</td>\n",
       "      <td>0.012001</td>\n",
       "    </tr>\n",
       "    <tr>\n",
       "      <th>SlogP_VSA9</th>\n",
       "      <td>NaN</td>\n",
       "      <td>NaN</td>\n",
       "    </tr>\n",
       "  </tbody>\n",
       "</table>\n",
       "</div>"
      ],
      "text/plain": [
       "             pearson_r  abs(pearson_r)\n",
       "MolLogP      -0.827918        0.827918\n",
       "SlogP_VSA6   -0.449784        0.449784\n",
       "SlogP_VSA8   -0.406413        0.406413\n",
       "SlogP_VSA12  -0.390944        0.390944\n",
       "SlogP_VSA7   -0.371868        0.371868\n",
       "SlogP_VSA5   -0.275599        0.275599\n",
       "SlogP_VSA4   -0.180616        0.180616\n",
       "SlogP_VSA10  -0.113968        0.113968\n",
       "SlogP_VSA2    0.108928        0.108928\n",
       "SlogP_VSA3   -0.077157        0.077157\n",
       "SlogP_VSA11  -0.062042        0.062042\n",
       "SlogP_VSA1    0.012001        0.012001\n",
       "SlogP_VSA9         NaN             NaN"
      ]
     },
     "execution_count": 31,
     "metadata": {},
     "output_type": "execute_result"
    }
   ],
   "source": [
    "all_correlations_df.loc[suspicious_cols].sort_values(by=col_name_2, ascending=False)"
   ]
  },
  {
   "cell_type": "code",
   "execution_count": 32,
   "metadata": {},
   "outputs": [
    {
     "data": {
      "text/html": [
       "<div>\n",
       "<style scoped>\n",
       "    .dataframe tbody tr th:only-of-type {\n",
       "        vertical-align: middle;\n",
       "    }\n",
       "\n",
       "    .dataframe tbody tr th {\n",
       "        vertical-align: top;\n",
       "    }\n",
       "\n",
       "    .dataframe thead th {\n",
       "        text-align: right;\n",
       "    }\n",
       "</style>\n",
       "<table border=\"1\" class=\"dataframe\">\n",
       "  <thead>\n",
       "    <tr style=\"text-align: right;\">\n",
       "      <th></th>\n",
       "      <th>pearson_r</th>\n",
       "      <th>abs(pearson_r)</th>\n",
       "    </tr>\n",
       "  </thead>\n",
       "  <tbody>\n",
       "    <tr>\n",
       "      <th>fr_isothiocyan</th>\n",
       "      <td>NaN</td>\n",
       "      <td>NaN</td>\n",
       "    </tr>\n",
       "    <tr>\n",
       "      <th>fr_lactam</th>\n",
       "      <td>NaN</td>\n",
       "      <td>NaN</td>\n",
       "    </tr>\n",
       "    <tr>\n",
       "      <th>fr_morpholine</th>\n",
       "      <td>NaN</td>\n",
       "      <td>NaN</td>\n",
       "    </tr>\n",
       "    <tr>\n",
       "      <th>fr_nitro_arom_nonortho</th>\n",
       "      <td>NaN</td>\n",
       "      <td>NaN</td>\n",
       "    </tr>\n",
       "    <tr>\n",
       "      <th>fr_nitroso</th>\n",
       "      <td>NaN</td>\n",
       "      <td>NaN</td>\n",
       "    </tr>\n",
       "    <tr>\n",
       "      <th>fr_prisulfonamd</th>\n",
       "      <td>NaN</td>\n",
       "      <td>NaN</td>\n",
       "    </tr>\n",
       "    <tr>\n",
       "      <th>fr_quatN</th>\n",
       "      <td>NaN</td>\n",
       "      <td>NaN</td>\n",
       "    </tr>\n",
       "    <tr>\n",
       "      <th>fr_tetrazole</th>\n",
       "      <td>NaN</td>\n",
       "      <td>NaN</td>\n",
       "    </tr>\n",
       "    <tr>\n",
       "      <th>fr_thiocyan</th>\n",
       "      <td>NaN</td>\n",
       "      <td>NaN</td>\n",
       "    </tr>\n",
       "    <tr>\n",
       "      <th>fr_unbrch_alkane</th>\n",
       "      <td>NaN</td>\n",
       "      <td>NaN</td>\n",
       "    </tr>\n",
       "  </tbody>\n",
       "</table>\n",
       "</div>"
      ],
      "text/plain": [
       "                        pearson_r  abs(pearson_r)\n",
       "fr_isothiocyan                NaN             NaN\n",
       "fr_lactam                     NaN             NaN\n",
       "fr_morpholine                 NaN             NaN\n",
       "fr_nitro_arom_nonortho        NaN             NaN\n",
       "fr_nitroso                    NaN             NaN\n",
       "fr_prisulfonamd               NaN             NaN\n",
       "fr_quatN                      NaN             NaN\n",
       "fr_tetrazole                  NaN             NaN\n",
       "fr_thiocyan                   NaN             NaN\n",
       "fr_unbrch_alkane              NaN             NaN"
      ]
     },
     "metadata": {},
     "output_type": "display_data"
    }
   ],
   "source": [
    "display(all_correlations_df[-10:])"
   ]
  },
  {
   "cell_type": "markdown",
   "metadata": {},
   "source": [
    "How many NaNs did we get?"
   ]
  },
  {
   "cell_type": "code",
   "execution_count": 33,
   "metadata": {},
   "outputs": [
    {
     "data": {
      "text/plain": [
       "20"
      ]
     },
     "execution_count": 33,
     "metadata": {},
     "output_type": "execute_result"
    }
   ],
   "source": [
    "all_correlations_df[col_name_1].isna().sum()"
   ]
  },
  {
   "cell_type": "markdown",
   "metadata": {},
   "source": [
    "Why do we get NaNs?"
   ]
  },
  {
   "cell_type": "code",
   "execution_count": 34,
   "metadata": {},
   "outputs": [
    {
     "data": {
      "text/plain": [
       "pearson_r        NaN\n",
       "abs(pearson_r)   NaN\n",
       "Name: fr_unbrch_alkane, dtype: float64"
      ]
     },
     "execution_count": 34,
     "metadata": {},
     "output_type": "execute_result"
    }
   ],
   "source": [
    "all_correlations_df.iloc[-1,:]"
   ]
  },
  {
   "cell_type": "code",
   "execution_count": 35,
   "metadata": {},
   "outputs": [
    {
     "data": {
      "text/plain": [
       "'fr_unbrch_alkane'"
      ]
     },
     "execution_count": 35,
     "metadata": {},
     "output_type": "execute_result"
    }
   ],
   "source": [
    "all_correlations_df.iloc[-1,:].name"
   ]
  },
  {
   "cell_type": "code",
   "execution_count": 36,
   "metadata": {},
   "outputs": [
    {
     "data": {
      "text/plain": [
       "Amigdalin         0.0\n",
       "Fenfuram          0.0\n",
       "citral            0.0\n",
       "Picene            0.0\n",
       "Thiophene         0.0\n",
       "                 ... \n",
       "halothane         0.0\n",
       "Oxamyl            0.0\n",
       "Thiometon         0.0\n",
       "2-Methylbutane    0.0\n",
       "Stirofos          0.0\n",
       "Name: fr_unbrch_alkane, Length: 1128, dtype: float64"
      ]
     },
     "execution_count": 36,
     "metadata": {},
     "output_type": "execute_result"
    }
   ],
   "source": [
    "rdkit_features[all_correlations_df.iloc[-1,:].name]"
   ]
  },
  {
   "cell_type": "code",
   "execution_count": 37,
   "metadata": {},
   "outputs": [
    {
     "data": {
      "text/plain": [
       "0.0"
      ]
     },
     "execution_count": 37,
     "metadata": {},
     "output_type": "execute_result"
    }
   ],
   "source": [
    "rdkit_features[all_correlations_df.iloc[-1,:].name].std()"
   ]
  },
  {
   "cell_type": "markdown",
   "metadata": {},
   "source": [
    "**Important:** we were getting NaNs for correlations for features with zero variance.\n",
    "\n",
    "Let's check:"
   ]
  },
  {
   "cell_type": "markdown",
   "metadata": {},
   "source": [
    "**Zero-variance features:**"
   ]
  },
  {
   "cell_type": "code",
   "execution_count": 38,
   "metadata": {},
   "outputs": [
    {
     "data": {
      "text/plain": [
       "Index(['NumRadicalElectrons', 'SMR_VSA8', 'SlogP_VSA9', 'fr_Al_COO',\n",
       "       'fr_Ar_COO', 'fr_COO', 'fr_COO2', 'fr_azide', 'fr_diazo', 'fr_isocyan',\n",
       "       'fr_isothiocyan', 'fr_lactam', 'fr_morpholine',\n",
       "       'fr_nitro_arom_nonortho', 'fr_nitroso', 'fr_prisulfonamd', 'fr_quatN',\n",
       "       'fr_tetrazole', 'fr_thiocyan', 'fr_unbrch_alkane'],\n",
       "      dtype='object')"
      ]
     },
     "execution_count": 38,
     "metadata": {},
     "output_type": "execute_result"
    }
   ],
   "source": [
    "zero_var_features = rdkit_features.columns[rdkit_features.std(axis=0) == 0]\n",
    "zero_var_features"
   ]
  },
  {
   "cell_type": "markdown",
   "metadata": {
    "colab": {
     "base_uri": "https://localhost:8080/",
     "height": 34
    },
    "colab_type": "code",
    "executionInfo": {
     "elapsed": 600,
     "status": "ok",
     "timestamp": 1595926539136,
     "user": {
      "displayName": "George Batchkala",
      "photoUrl": "",
      "userId": "17039292136363863281"
     },
     "user_tz": -180
    },
    "id": "sdLWt3y9rOMc",
    "outputId": "453cbfcd-dba9-4932-df08-5650d7077cff"
   },
   "source": [
    "**Features with NaNs:**"
   ]
  },
  {
   "cell_type": "code",
   "execution_count": 39,
   "metadata": {},
   "outputs": [
    {
     "data": {
      "text/plain": [
       "Index(['NumRadicalElectrons', 'SMR_VSA8', 'SlogP_VSA9', 'fr_Al_COO',\n",
       "       'fr_Ar_COO', 'fr_COO', 'fr_COO2', 'fr_azide', 'fr_diazo', 'fr_isocyan',\n",
       "       'fr_isothiocyan', 'fr_lactam', 'fr_morpholine',\n",
       "       'fr_nitro_arom_nonortho', 'fr_nitroso', 'fr_prisulfonamd', 'fr_quatN',\n",
       "       'fr_tetrazole', 'fr_thiocyan', 'fr_unbrch_alkane'],\n",
       "      dtype='object')"
      ]
     },
     "execution_count": 39,
     "metadata": {},
     "output_type": "execute_result"
    }
   ],
   "source": [
    "nan_corr_features = all_correlations_df.index[all_correlations_df[col_name_1].isna()]\n",
    "nan_corr_features"
   ]
  },
  {
   "cell_type": "markdown",
   "metadata": {},
   "source": [
    "**Check if the same:**"
   ]
  },
  {
   "cell_type": "code",
   "execution_count": 40,
   "metadata": {},
   "outputs": [
    {
     "data": {
      "text/plain": [
       "True"
      ]
     },
     "execution_count": 40,
     "metadata": {},
     "output_type": "execute_result"
    }
   ],
   "source": [
    "(zero_var_features == nan_corr_features).all()"
   ]
  },
  {
   "cell_type": "markdown",
   "metadata": {},
   "source": [
    "# Automate the process of removing high correlation features"
   ]
  },
  {
   "cell_type": "code",
   "execution_count": 60,
   "metadata": {},
   "outputs": [],
   "source": [
    "def list_highly_correlated(df_features, targets, threshold=0.8):\n",
    "    \"\"\"\n",
    "    List column names of the dataframe of features which are highly correlated\n",
    "    to the target (absolute value of the correlation is greater than threshold).\n",
    "\n",
    "    df_features: pandas.core.frame.DataFrame of features\n",
    "    targets: pandas.core.series.Series of targets\n",
    "    threshold: float in [0, 1] above which we consider a feature highly correlated\n",
    "\n",
    "    returns: list of columns names from df_features, which are highly correlated\n",
    "             to the target\n",
    "\n",
    "    \"\"\"\n",
    "    # check bounds for abs(correlation) threshold\n",
    "    assert 0 <= threshold <= 1\n",
    "\n",
    "    # df_features and targets should have the same length\n",
    "    assert df_features.shape[0] == targets.shape[0]\n",
    "    print('Original shapes:                 ', df_features.shape, targets.shape)\n",
    "\n",
    "    # remove na rows\n",
    "    X = df_features.dropna(axis=0)\n",
    "    y = targets[X.index]\n",
    "    print('Removed NA rows, shapes:         ', X.shape, y.shape)\n",
    "\n",
    "    # remove zero-variace columns\n",
    "    zero_std = X.std() < 1e-5\n",
    "    zero_std_cols = X.columns[zero_std]\n",
    "    X = X.drop(zero_std_cols, axis=1)\n",
    "    print('Removed zero-var columns, shapes:', X.shape, y.shape)\n",
    "\n",
    "    # record highly correlated features\n",
    "    cols_to_remove = []\n",
    "    for name in X.columns:\n",
    "        # print(name, np.abs(pearsonr(X[name], y)[0]))\n",
    "        if np.abs(pearsonr(X[name], y)[0]) > threshold:\n",
    "            cols_to_remove.append(name)\n",
    "\n",
    "    return cols_to_remove"
   ]
  },
  {
   "cell_type": "code",
   "execution_count": 61,
   "metadata": {},
   "outputs": [
    {
     "name": "stdout",
     "output_type": "stream",
     "text": [
      "Original shapes:                  (1128, 200) (1128,)\n",
      "Removed NA rows, shapes:          (1128, 200) (1128,)\n",
      "Removed zero-var columns, shapes: (1128, 180) (1128,)\n"
     ]
    },
    {
     "data": {
      "text/plain": [
       "['MolLogP']"
      ]
     },
     "execution_count": 61,
     "metadata": {},
     "output_type": "execute_result"
    }
   ],
   "source": [
    "list_highly_correlated(rdkit_features, labels, threshold=0.8)"
   ]
  },
  {
   "cell_type": "code",
   "execution_count": null,
   "metadata": {},
   "outputs": [],
   "source": []
  },
  {
   "cell_type": "code",
   "execution_count": null,
   "metadata": {},
   "outputs": [],
   "source": []
  },
  {
   "cell_type": "code",
   "execution_count": null,
   "metadata": {},
   "outputs": [],
   "source": []
  },
  {
   "cell_type": "code",
   "execution_count": null,
   "metadata": {},
   "outputs": [],
   "source": []
  }
 ],
 "metadata": {
  "colab": {
   "collapsed_sections": [],
   "name": "colab_reproducing_grid_search_pipeline.ipynb",
   "provenance": [],
   "toc_visible": true
  },
  "kernelspec": {
   "display_name": "Python [conda env:batch-msc] *",
   "language": "python",
   "name": "conda-env-batch-msc-py"
  },
  "language_info": {
   "codemirror_mode": {
    "name": "ipython",
    "version": 3
   },
   "file_extension": ".py",
   "mimetype": "text/x-python",
   "name": "python",
   "nbconvert_exporter": "python",
   "pygments_lexer": "ipython3",
   "version": "3.6.10"
  }
 },
 "nbformat": 4,
 "nbformat_minor": 1
}
