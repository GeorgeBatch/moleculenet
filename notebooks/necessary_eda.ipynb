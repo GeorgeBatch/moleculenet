{
 "cells": [
  {
   "cell_type": "markdown",
   "metadata": {
    "colab_type": "text",
    "id": "iwDYlLl8rOL4"
   },
   "source": [
    "# Setup (local)"
   ]
  },
  {
   "cell_type": "code",
   "execution_count": 1,
   "metadata": {
    "colab": {
     "base_uri": "https://localhost:8080/",
     "height": 119
    },
    "colab_type": "code",
    "executionInfo": {
     "elapsed": 4310,
     "status": "ok",
     "timestamp": 1595926480635,
     "user": {
      "displayName": "George Batchkala",
      "photoUrl": "",
      "userId": "17039292136363863281"
     },
     "user_tz": -180
    },
    "id": "KXdDhDGgeIeq",
    "outputId": "2bc472ea-1a89-4c15-dabf-944ab8517950"
   },
   "outputs": [
    {
     "name": "stdout",
     "output_type": "stream",
     "text": [
      "colab_RF_CIs_on_fingerprints_initial.ipynb\r\n",
      "colab_extended_grid_search_pipeline.ipynb\r\n",
      "colab_reproducing_grid_search_pipeline.ipynb\r\n",
      "get_protenated_from_canonical.ipynb\r\n",
      "necessary_eda.ipynb\r\n",
      "visualise_extended_grid_search_results.ipynb\r\n",
      "visualise_grid_search_results.ipynb\r\n",
      "visualise_reproducing_grid_search_results.ipynb\r\n"
     ]
    }
   ],
   "source": [
    "%ls"
   ]
  },
  {
   "cell_type": "code",
   "execution_count": 2,
   "metadata": {
    "colab": {
     "base_uri": "https://localhost:8080/",
     "height": 442
    },
    "colab_type": "code",
    "executionInfo": {
     "elapsed": 6250,
     "status": "ok",
     "timestamp": 1595926491919,
     "user": {
      "displayName": "George Batchkala",
      "photoUrl": "",
      "userId": "17039292136363863281"
     },
     "user_tz": -180
    },
    "id": "pKc-Tl2jKRz3",
    "outputId": "fe7a4821-9f20-48da-aacc-b10274e38ef7"
   },
   "outputs": [
    {
     "name": "stdout",
     "output_type": "stream",
     "text": [
      "ESOL_README\r\n",
      "FreeSolv_README\r\n",
      "Lipo_README\r\n",
      "esol_original.csv\r\n",
      "esol_original_1024ecfp4_features.csv\r\n",
      "esol_original_1024ecfp6_features.csv\r\n",
      "esol_original_2048ecfp4_features.csv\r\n",
      "esol_original_2048ecfp6_features.csv\r\n",
      "esol_original_IdSmilesLabels.csv\r\n",
      "esol_original_extra_features.csv\r\n",
      "esol_original_rdkit_features.csv\r\n",
      "freesolv_original.csv\r\n",
      "freesolv_original_1024ecfp4_features.csv\r\n",
      "freesolv_original_1024ecfp6_features.csv\r\n",
      "freesolv_original_2048ecfp4_features.csv\r\n",
      "freesolv_original_2048ecfp6_features.csv\r\n",
      "freesolv_original_IdSmilesLabels.csv\r\n",
      "freesolv_original_rdkit_features.csv\r\n",
      "lipophilicity_original.csv\r\n",
      "lipophilicity_original_1024ecfp4_features.csv\r\n",
      "lipophilicity_original_1024ecfp6_features.csv\r\n",
      "lipophilicity_original_2048ecfp4_features.csv\r\n",
      "lipophilicity_original_2048ecfp6_features.csv\r\n",
      "lipophilicity_original_IdSmilesLabels.csv\r\n",
      "lipophilicity_original_rdkit_features.csv\r\n"
     ]
    }
   ],
   "source": [
    "%ls ../data/"
   ]
  },
  {
   "cell_type": "markdown",
   "metadata": {
    "colab_type": "text",
    "id": "cG9tpt04e0iN"
   },
   "source": [
    "## Import modules"
   ]
  },
  {
   "cell_type": "code",
   "execution_count": 19,
   "metadata": {
    "colab": {},
    "colab_type": "code",
    "executionInfo": {
     "elapsed": 1835,
     "status": "ok",
     "timestamp": 1595926537134,
     "user": {
      "displayName": "George Batchkala",
      "photoUrl": "",
      "userId": "17039292136363863281"
     },
     "user_tz": -180
    },
    "id": "sjl-QAB5e4I3"
   },
   "outputs": [],
   "source": [
    "import warnings\n",
    "warnings.filterwarnings('ignore')\n",
    "\n",
    "# saving models\n",
    "import json\n",
    "import pickle\n",
    "\n",
    "# directory\n",
    "import os\n",
    "import sys\n",
    "\n",
    "# standard modules\n",
    "import numpy as np\n",
    "import pandas as pd\n",
    "import matplotlib.pyplot as plt\n",
    "\n",
    "# metrics\n",
    "from scipy.stats import pearsonr\n",
    "from sklearn.metrics import r2_score\n",
    "from sklearn.metrics import mean_squared_error\n",
    "from sklearn.metrics import mean_absolute_error\n",
    "from sklearn.metrics import jaccard_score # Tanimoto\n",
    "\n",
    "# making custom metrics\n",
    "from sklearn.metrics import make_scorer\n",
    "\n",
    "# model selection\n",
    "from sklearn.model_selection import train_test_split\n",
    "from sklearn.model_selection import ShuffleSplit, StratifiedShuffleSplit\n",
    "from sklearn.model_selection import RandomizedSearchCV, GridSearchCV\n",
    "from sklearn.model_selection import cross_val_score, cross_validate, cross_val_predict\n",
    "\n",
    "# preprocessing\n",
    "from sklearn.feature_selection import VarianceThreshold # to remove zero-var features\n",
    "from sklearn.preprocessing import MinMaxScaler, Normalizer, StandardScaler\n",
    "\n",
    "# models\n",
    "from sklearn.linear_model import LinearRegression\n",
    "from sklearn.linear_model import ElasticNetCV, ElasticNet\n",
    "from sklearn.ensemble import RandomForestRegressor\n",
    "\n",
    "from xgboost import XGBRegressor\n",
    "from sklearn.ensemble import AdaBoostRegressor\n",
    "from sklearn.ensemble import GradientBoostingRegressor\n",
    "\n",
    "from sklearn.neural_network import MLPRegressor\n",
    "\n",
    "from sklearn.kernel_ridge import KernelRidge\n",
    "\n",
    "from sklearn.gaussian_process import GaussianProcessRegressor\n",
    "from sklearn.gaussian_process.kernels import WhiteKernel, ConstantKernel\n",
    "from sklearn.gaussian_process.kernels import RBF, Matern, DotProduct\n",
    "\n",
    "# pipelines\n",
    "# https://scikit-learn.org/stable/modules/compose.html#combining-estimators\n",
    "from sklearn.pipeline import make_pipeline, Pipeline"
   ]
  },
  {
   "cell_type": "code",
   "execution_count": 4,
   "metadata": {
    "colab": {
     "base_uri": "https://localhost:8080/",
     "height": 34
    },
    "colab_type": "code",
    "executionInfo": {
     "elapsed": 600,
     "status": "ok",
     "timestamp": 1595926539136,
     "user": {
      "displayName": "George Batchkala",
      "photoUrl": "",
      "userId": "17039292136363863281"
     },
     "user_tz": -180
    },
    "id": "sdLWt3y9rOMc",
    "outputId": "453cbfcd-dba9-4932-df08-5650d7077cff"
   },
   "outputs": [
    {
     "name": "stdout",
     "output_type": "stream",
     "text": [
      "0.23.1\n"
     ]
    }
   ],
   "source": [
    "import sklearn\n",
    "print(sklearn.__version__)"
   ]
  },
  {
   "cell_type": "markdown",
   "metadata": {
    "colab_type": "text",
    "id": "daKbVAugrOMs"
   },
   "source": [
    "## Set plotting style"
   ]
  },
  {
   "cell_type": "code",
   "execution_count": 5,
   "metadata": {
    "colab": {},
    "colab_type": "code",
    "executionInfo": {
     "elapsed": 8853,
     "status": "ok",
     "timestamp": 1595926556882,
     "user": {
      "displayName": "George Batchkala",
      "photoUrl": "",
      "userId": "17039292136363863281"
     },
     "user_tz": -180
    },
    "id": "wEF0rQL3rOMt"
   },
   "outputs": [],
   "source": [
    "%matplotlib inline\n",
    "plt.style.use('fivethirtyeight')\n",
    "\n",
    "plt.rcParams['axes.facecolor']='w'\n",
    "#plt.rcParams['axes.linewidth']=1\n",
    "plt.rcParams['axes.edgecolor']='w'\n",
    "plt.rcParams['figure.facecolor']='w'\n",
    "plt.rcParams['savefig.facecolor']='w'\n",
    "#plt.rcParams['grid.color']='white'"
   ]
  },
  {
   "cell_type": "markdown",
   "metadata": {
    "colab_type": "text",
    "id": "o4r2WevweR5i"
   },
   "source": [
    "# Load Data (same everywhere)"
   ]
  },
  {
   "cell_type": "markdown",
   "metadata": {
    "colab_type": "text",
    "id": "K-fg6Gq6qt8p"
   },
   "source": [
    "## CHOOSE: dataset, smile_type"
   ]
  },
  {
   "cell_type": "code",
   "execution_count": 6,
   "metadata": {
    "colab": {},
    "colab_type": "code",
    "executionInfo": {
     "elapsed": 7482,
     "status": "ok",
     "timestamp": 1595926556883,
     "user": {
      "displayName": "George Batchkala",
      "photoUrl": "",
      "userId": "17039292136363863281"
     },
     "user_tz": -180
    },
    "id": "DmVtuXvrrOMx"
   },
   "outputs": [],
   "source": [
    "dataset = 'lipophilicity'\n",
    "smile_type = 'original'\n",
    "\n",
    "# READONLY\n",
    "\n",
    "# small to large datasets\n",
    "assert dataset in ['freesolv', 'esol', 'lipophilicity']\n",
    "assert smile_type in ['original', 'protonated']"
   ]
  },
  {
   "cell_type": "markdown",
   "metadata": {
    "colab_type": "text",
    "id": "1PIRIaAszL4P"
   },
   "source": [
    "## Load Features and Targets"
   ]
  },
  {
   "cell_type": "markdown",
   "metadata": {
    "colab_type": "text",
    "id": "0j-LrNtiVaEG"
   },
   "source": [
    "Leave all features here so setup and Load and prepare data are the same everywhere."
   ]
  },
  {
   "cell_type": "code",
   "execution_count": 7,
   "metadata": {
    "colab": {},
    "colab_type": "code",
    "executionInfo": {
     "elapsed": 7811,
     "status": "ok",
     "timestamp": 1595926559114,
     "user": {
      "displayName": "George Batchkala",
      "photoUrl": "",
      "userId": "17039292136363863281"
     },
     "user_tz": -180
    },
    "id": "xmL5nV-BeOcC"
   },
   "outputs": [],
   "source": [
    "# original data\n",
    "id_smile_target = pd.read_csv(f'../data/{dataset}_{smile_type}_IdSmilesLabels.csv', index_col=0)\n",
    "\n",
    "# features\n",
    "rdkit_features = pd.read_csv(f'../data/{dataset}_{smile_type}_rdkit_features.csv', index_col=0)\n",
    "\n",
    "ecfp4_1024_features = pd.read_csv(f'../data/{dataset}_{smile_type}_1024ecfp4_features.csv', index_col=0)\n",
    "ecfp6_1024_features = pd.read_csv(f'../data/{dataset}_{smile_type}_1024ecfp6_features.csv', index_col=0)\n",
    "\n",
    "ecfp4_2048_features = pd.read_csv(f'../data/{dataset}_{smile_type}_2048ecfp4_features.csv', index_col=0)\n",
    "ecfp6_2048_features = pd.read_csv(f'../data/{dataset}_{smile_type}_2048ecfp6_features.csv', index_col=0)\n",
    "\n",
    "# load target\n",
    "labels = id_smile_target['labels']"
   ]
  },
  {
   "cell_type": "code",
   "execution_count": 8,
   "metadata": {
    "colab": {
     "base_uri": "https://localhost:8080/",
     "height": 119
    },
    "colab_type": "code",
    "executionInfo": {
     "elapsed": 5569,
     "status": "ok",
     "timestamp": 1595926559117,
     "user": {
      "displayName": "George Batchkala",
      "photoUrl": "",
      "userId": "17039292136363863281"
     },
     "user_tz": -180
    },
    "id": "1XSkUqI-rONB",
    "outputId": "a231c87c-4f60-4a3d-a303-431d74197a64"
   },
   "outputs": [
    {
     "name": "stdout",
     "output_type": "stream",
     "text": [
      "rdkit_features.shape:       (4200, 200)\n",
      "ecfp4_1024_features.shape:  (4200, 1024)\n",
      "ecfp6_1024_features.shape:  (4200, 1024)\n",
      "ecfp4_2048_features.shape:  (4200, 2048)\n",
      "ecfp6_2048_features.shape:  (4200, 2048)\n",
      "labels.shape:               (4200,)\n"
     ]
    }
   ],
   "source": [
    "print('rdkit_features.shape:      ', rdkit_features.shape)\n",
    "print('ecfp4_1024_features.shape: ', ecfp4_1024_features.shape)\n",
    "print('ecfp6_1024_features.shape: ', ecfp6_1024_features.shape)\n",
    "print('ecfp4_2048_features.shape: ', ecfp4_2048_features.shape)\n",
    "print('ecfp6_2048_features.shape: ', ecfp6_2048_features.shape)\n",
    "print('labels.shape:              ', labels.shape)"
   ]
  },
  {
   "cell_type": "code",
   "execution_count": 9,
   "metadata": {
    "colab": {
     "base_uri": "https://localhost:8080/",
     "height": 136
    },
    "colab_type": "code",
    "executionInfo": {
     "elapsed": 5141,
     "status": "ok",
     "timestamp": 1595926559118,
     "user": {
      "displayName": "George Batchkala",
      "photoUrl": "",
      "userId": "17039292136363863281"
     },
     "user_tz": -180
    },
    "id": "r6LtAy9jzToO",
    "outputId": "5a439422-2fc0-4a77-9c9e-ca6352a5a3cf"
   },
   "outputs": [
    {
     "data": {
      "text/plain": [
       "id\n",
       "CHEMBL596271     3.54\n",
       "CHEMBL1951080   -1.18\n",
       "CHEMBL1771       3.69\n",
       "CHEMBL234951     3.37\n",
       "CHEMBL565079     3.10\n",
       "Name: labels, dtype: float64"
      ]
     },
     "execution_count": 9,
     "metadata": {},
     "output_type": "execute_result"
    }
   ],
   "source": [
    "labels.head()"
   ]
  },
  {
   "cell_type": "markdown",
   "metadata": {
    "colab_type": "text",
    "id": "vH3i_hYSV8Tc"
   },
   "source": [
    "## Create one DataFrame with all features"
   ]
  },
  {
   "cell_type": "code",
   "execution_count": 10,
   "metadata": {
    "colab": {},
    "colab_type": "code",
    "executionInfo": {
     "elapsed": 4054,
     "status": "ok",
     "timestamp": 1595926559119,
     "user": {
      "displayName": "George Batchkala",
      "photoUrl": "",
      "userId": "17039292136363863281"
     },
     "user_tz": -180
    },
    "id": "mR3iubyprONg"
   },
   "outputs": [],
   "source": [
    "all_features = pd.concat([rdkit_features,\n",
    "                          ecfp4_1024_features, ecfp6_1024_features,\n",
    "                          ecfp4_2048_features, ecfp6_2048_features],\n",
    "                         axis='columns')"
   ]
  },
  {
   "cell_type": "code",
   "execution_count": 11,
   "metadata": {
    "colab": {
     "base_uri": "https://localhost:8080/",
     "height": 34
    },
    "colab_type": "code",
    "executionInfo": {
     "elapsed": 3444,
     "status": "ok",
     "timestamp": 1595926559119,
     "user": {
      "displayName": "George Batchkala",
      "photoUrl": "",
      "userId": "17039292136363863281"
     },
     "user_tz": -180
    },
    "id": "HyDTS2G3rONj",
    "outputId": "6f68b803-236d-40a2-a118-5cb19f49e74b"
   },
   "outputs": [
    {
     "data": {
      "text/plain": [
       "(4200, 6344)"
      ]
     },
     "execution_count": 11,
     "metadata": {},
     "output_type": "execute_result"
    }
   ],
   "source": [
    "all_features.shape"
   ]
  },
  {
   "cell_type": "code",
   "execution_count": 12,
   "metadata": {
    "colab": {
     "base_uri": "https://localhost:8080/",
     "height": 338
    },
    "colab_type": "code",
    "executionInfo": {
     "elapsed": 2839,
     "status": "ok",
     "timestamp": 1595926559120,
     "user": {
      "displayName": "George Batchkala",
      "photoUrl": "",
      "userId": "17039292136363863281"
     },
     "user_tz": -180
    },
    "id": "gOJ28OUyrONm",
    "outputId": "a577cdc4-bbc2-47ff-a2fa-745727d7d300"
   },
   "outputs": [
    {
     "data": {
      "text/html": [
       "<div>\n",
       "<style scoped>\n",
       "    .dataframe tbody tr th:only-of-type {\n",
       "        vertical-align: middle;\n",
       "    }\n",
       "\n",
       "    .dataframe tbody tr th {\n",
       "        vertical-align: top;\n",
       "    }\n",
       "\n",
       "    .dataframe thead th {\n",
       "        text-align: right;\n",
       "    }\n",
       "</style>\n",
       "<table border=\"1\" class=\"dataframe\">\n",
       "  <thead>\n",
       "    <tr style=\"text-align: right;\">\n",
       "      <th></th>\n",
       "      <th>MaxEStateIndex</th>\n",
       "      <th>MinEStateIndex</th>\n",
       "      <th>MaxAbsEStateIndex</th>\n",
       "      <th>MinAbsEStateIndex</th>\n",
       "      <th>qed</th>\n",
       "      <th>MolWt</th>\n",
       "      <th>HeavyAtomMolWt</th>\n",
       "      <th>ExactMolWt</th>\n",
       "      <th>NumValenceElectrons</th>\n",
       "      <th>NumRadicalElectrons</th>\n",
       "      <th>...</th>\n",
       "      <th>2048ecfp6-2038</th>\n",
       "      <th>2048ecfp6-2039</th>\n",
       "      <th>2048ecfp6-2040</th>\n",
       "      <th>2048ecfp6-2041</th>\n",
       "      <th>2048ecfp6-2042</th>\n",
       "      <th>2048ecfp6-2043</th>\n",
       "      <th>2048ecfp6-2044</th>\n",
       "      <th>2048ecfp6-2045</th>\n",
       "      <th>2048ecfp6-2046</th>\n",
       "      <th>2048ecfp6-2047</th>\n",
       "    </tr>\n",
       "  </thead>\n",
       "  <tbody>\n",
       "    <tr>\n",
       "      <th>CHEMBL596271</th>\n",
       "      <td>8.838871</td>\n",
       "      <td>-4.082382</td>\n",
       "      <td>8.838871</td>\n",
       "      <td>0.008322</td>\n",
       "      <td>0.728444</td>\n",
       "      <td>340.858</td>\n",
       "      <td>319.690</td>\n",
       "      <td>340.145474</td>\n",
       "      <td>124.0</td>\n",
       "      <td>0.0</td>\n",
       "      <td>...</td>\n",
       "      <td>0</td>\n",
       "      <td>0</td>\n",
       "      <td>0</td>\n",
       "      <td>0</td>\n",
       "      <td>0</td>\n",
       "      <td>0</td>\n",
       "      <td>0</td>\n",
       "      <td>0</td>\n",
       "      <td>0</td>\n",
       "      <td>0</td>\n",
       "    </tr>\n",
       "    <tr>\n",
       "      <th>CHEMBL1951080</th>\n",
       "      <td>15.117958</td>\n",
       "      <td>-6.843264</td>\n",
       "      <td>15.117958</td>\n",
       "      <td>0.920611</td>\n",
       "      <td>0.545587</td>\n",
       "      <td>494.591</td>\n",
       "      <td>468.383</td>\n",
       "      <td>494.118143</td>\n",
       "      <td>178.0</td>\n",
       "      <td>0.0</td>\n",
       "      <td>...</td>\n",
       "      <td>0</td>\n",
       "      <td>0</td>\n",
       "      <td>0</td>\n",
       "      <td>0</td>\n",
       "      <td>0</td>\n",
       "      <td>0</td>\n",
       "      <td>0</td>\n",
       "      <td>1</td>\n",
       "      <td>0</td>\n",
       "      <td>0</td>\n",
       "    </tr>\n",
       "    <tr>\n",
       "      <th>CHEMBL1771</th>\n",
       "      <td>13.321227</td>\n",
       "      <td>-3.906276</td>\n",
       "      <td>13.321227</td>\n",
       "      <td>0.250582</td>\n",
       "      <td>0.807761</td>\n",
       "      <td>321.829</td>\n",
       "      <td>305.701</td>\n",
       "      <td>321.059027</td>\n",
       "      <td>110.0</td>\n",
       "      <td>0.0</td>\n",
       "      <td>...</td>\n",
       "      <td>0</td>\n",
       "      <td>0</td>\n",
       "      <td>0</td>\n",
       "      <td>0</td>\n",
       "      <td>0</td>\n",
       "      <td>0</td>\n",
       "      <td>0</td>\n",
       "      <td>0</td>\n",
       "      <td>0</td>\n",
       "      <td>0</td>\n",
       "    </tr>\n",
       "    <tr>\n",
       "      <th>CHEMBL234951</th>\n",
       "      <td>14.213604</td>\n",
       "      <td>-4.272077</td>\n",
       "      <td>14.213604</td>\n",
       "      <td>0.187400</td>\n",
       "      <td>0.506650</td>\n",
       "      <td>419.890</td>\n",
       "      <td>401.746</td>\n",
       "      <td>419.070655</td>\n",
       "      <td>146.0</td>\n",
       "      <td>0.0</td>\n",
       "      <td>...</td>\n",
       "      <td>1</td>\n",
       "      <td>0</td>\n",
       "      <td>0</td>\n",
       "      <td>0</td>\n",
       "      <td>0</td>\n",
       "      <td>0</td>\n",
       "      <td>0</td>\n",
       "      <td>0</td>\n",
       "      <td>0</td>\n",
       "      <td>0</td>\n",
       "    </tr>\n",
       "    <tr>\n",
       "      <th>CHEMBL565079</th>\n",
       "      <td>14.167882</td>\n",
       "      <td>-4.810274</td>\n",
       "      <td>14.167882</td>\n",
       "      <td>0.671279</td>\n",
       "      <td>0.747686</td>\n",
       "      <td>381.480</td>\n",
       "      <td>354.264</td>\n",
       "      <td>381.216475</td>\n",
       "      <td>148.0</td>\n",
       "      <td>0.0</td>\n",
       "      <td>...</td>\n",
       "      <td>0</td>\n",
       "      <td>0</td>\n",
       "      <td>0</td>\n",
       "      <td>0</td>\n",
       "      <td>0</td>\n",
       "      <td>0</td>\n",
       "      <td>0</td>\n",
       "      <td>0</td>\n",
       "      <td>0</td>\n",
       "      <td>0</td>\n",
       "    </tr>\n",
       "  </tbody>\n",
       "</table>\n",
       "<p>5 rows × 6344 columns</p>\n",
       "</div>"
      ],
      "text/plain": [
       "               MaxEStateIndex  MinEStateIndex  MaxAbsEStateIndex  \\\n",
       "CHEMBL596271         8.838871       -4.082382           8.838871   \n",
       "CHEMBL1951080       15.117958       -6.843264          15.117958   \n",
       "CHEMBL1771          13.321227       -3.906276          13.321227   \n",
       "CHEMBL234951        14.213604       -4.272077          14.213604   \n",
       "CHEMBL565079        14.167882       -4.810274          14.167882   \n",
       "\n",
       "               MinAbsEStateIndex       qed    MolWt  HeavyAtomMolWt  \\\n",
       "CHEMBL596271            0.008322  0.728444  340.858         319.690   \n",
       "CHEMBL1951080           0.920611  0.545587  494.591         468.383   \n",
       "CHEMBL1771              0.250582  0.807761  321.829         305.701   \n",
       "CHEMBL234951            0.187400  0.506650  419.890         401.746   \n",
       "CHEMBL565079            0.671279  0.747686  381.480         354.264   \n",
       "\n",
       "               ExactMolWt  NumValenceElectrons  NumRadicalElectrons  ...  \\\n",
       "CHEMBL596271   340.145474                124.0                  0.0  ...   \n",
       "CHEMBL1951080  494.118143                178.0                  0.0  ...   \n",
       "CHEMBL1771     321.059027                110.0                  0.0  ...   \n",
       "CHEMBL234951   419.070655                146.0                  0.0  ...   \n",
       "CHEMBL565079   381.216475                148.0                  0.0  ...   \n",
       "\n",
       "               2048ecfp6-2038  2048ecfp6-2039  2048ecfp6-2040  2048ecfp6-2041  \\\n",
       "CHEMBL596271                0               0               0               0   \n",
       "CHEMBL1951080               0               0               0               0   \n",
       "CHEMBL1771                  0               0               0               0   \n",
       "CHEMBL234951                1               0               0               0   \n",
       "CHEMBL565079                0               0               0               0   \n",
       "\n",
       "               2048ecfp6-2042  2048ecfp6-2043  2048ecfp6-2044  2048ecfp6-2045  \\\n",
       "CHEMBL596271                0               0               0               0   \n",
       "CHEMBL1951080               0               0               0               1   \n",
       "CHEMBL1771                  0               0               0               0   \n",
       "CHEMBL234951                0               0               0               0   \n",
       "CHEMBL565079                0               0               0               0   \n",
       "\n",
       "               2048ecfp6-2046  2048ecfp6-2047  \n",
       "CHEMBL596271                0               0  \n",
       "CHEMBL1951080               0               0  \n",
       "CHEMBL1771                  0               0  \n",
       "CHEMBL234951                0               0  \n",
       "CHEMBL565079                0               0  \n",
       "\n",
       "[5 rows x 6344 columns]"
      ]
     },
     "execution_count": 12,
     "metadata": {},
     "output_type": "execute_result"
    }
   ],
   "source": [
    "all_features.head()"
   ]
  },
  {
   "cell_type": "markdown",
   "metadata": {},
   "source": [
    "## Create feature_sets dictionary with pd.Index objects (containing feature names) as its elements"
   ]
  },
  {
   "cell_type": "code",
   "execution_count": 13,
   "metadata": {},
   "outputs": [],
   "source": [
    "feature_sets = {\n",
    "    'RDKit': rdkit_features.columns,\n",
    "    '1024ecfp-4': ecfp4_1024_features.columns,\n",
    "    '1024ecfp-6': ecfp6_1024_features.columns,\n",
    "    '2048ecfp-4': ecfp4_2048_features.columns,\n",
    "    '2048ecfp-6': ecfp6_2048_features.columns,\n",
    "}"
   ]
  },
  {
   "cell_type": "markdown",
   "metadata": {
    "colab": {},
    "colab_type": "code",
    "id": "pGIgpIm9iKfI"
   },
   "source": [
    "# Get number of zero-variance columns in unsplit (train-val-test) datasets"
   ]
  },
  {
   "cell_type": "code",
   "execution_count": 14,
   "metadata": {},
   "outputs": [],
   "source": [
    "transform = VarianceThreshold()"
   ]
  },
  {
   "cell_type": "code",
   "execution_count": 15,
   "metadata": {
    "colab": {
     "base_uri": "https://localhost:8080/",
     "height": 395
    },
    "colab_type": "code",
    "executionInfo": {
     "elapsed": 15529,
     "status": "ok",
     "timestamp": 1595926556878,
     "user": {
      "displayName": "George Batchkala",
      "photoUrl": "",
      "userId": "17039292136363863281"
     },
     "user_tz": -180
    },
    "id": "vRtAyn4qrOMg",
    "outputId": "108b33cf-e474-48cd-ee7c-a42717a75bc1"
   },
   "outputs": [
    {
     "name": "stdout",
     "output_type": "stream",
     "text": [
      "RDKit feature set originally has 200 columns\n",
      "RDKit feature set without zero-var columns has 188 columns\n",
      "Reduction: 12\n",
      "\n",
      "1024ecfp-4 feature set originally has 1024 columns\n",
      "1024ecfp-4 feature set without zero-var columns has 1024 columns\n",
      "Reduction: 0\n",
      "\n",
      "1024ecfp-6 feature set originally has 1024 columns\n",
      "1024ecfp-6 feature set without zero-var columns has 1024 columns\n",
      "Reduction: 0\n",
      "\n",
      "2048ecfp-4 feature set originally has 2048 columns\n",
      "2048ecfp-4 feature set without zero-var columns has 2047 columns\n",
      "Reduction: 1\n",
      "\n",
      "2048ecfp-6 feature set originally has 2048 columns\n",
      "2048ecfp-6 feature set without zero-var columns has 2048 columns\n",
      "Reduction: 0\n",
      "\n"
     ]
    },
    {
     "data": {
      "text/html": [
       "<div>\n",
       "<style scoped>\n",
       "    .dataframe tbody tr th:only-of-type {\n",
       "        vertical-align: middle;\n",
       "    }\n",
       "\n",
       "    .dataframe tbody tr th {\n",
       "        vertical-align: top;\n",
       "    }\n",
       "\n",
       "    .dataframe thead th {\n",
       "        text-align: right;\n",
       "    }\n",
       "</style>\n",
       "<table border=\"1\" class=\"dataframe\">\n",
       "  <thead>\n",
       "    <tr style=\"text-align: right;\">\n",
       "      <th></th>\n",
       "      <th>Original features</th>\n",
       "      <th>Reduced features</th>\n",
       "      <th>Reduction</th>\n",
       "    </tr>\n",
       "  </thead>\n",
       "  <tbody>\n",
       "    <tr>\n",
       "      <th>RDKit</th>\n",
       "      <td>200</td>\n",
       "      <td>188</td>\n",
       "      <td>12</td>\n",
       "    </tr>\n",
       "    <tr>\n",
       "      <th>1024ecfp-4</th>\n",
       "      <td>1024</td>\n",
       "      <td>1024</td>\n",
       "      <td>0</td>\n",
       "    </tr>\n",
       "    <tr>\n",
       "      <th>1024ecfp-6</th>\n",
       "      <td>1024</td>\n",
       "      <td>1024</td>\n",
       "      <td>0</td>\n",
       "    </tr>\n",
       "    <tr>\n",
       "      <th>2048ecfp-4</th>\n",
       "      <td>2048</td>\n",
       "      <td>2047</td>\n",
       "      <td>1</td>\n",
       "    </tr>\n",
       "    <tr>\n",
       "      <th>2048ecfp-6</th>\n",
       "      <td>2048</td>\n",
       "      <td>2048</td>\n",
       "      <td>0</td>\n",
       "    </tr>\n",
       "  </tbody>\n",
       "</table>\n",
       "</div>"
      ],
      "text/plain": [
       "            Original features  Reduced features  Reduction\n",
       "RDKit                     200               188         12\n",
       "1024ecfp-4               1024              1024          0\n",
       "1024ecfp-6               1024              1024          0\n",
       "2048ecfp-4               2048              2047          1\n",
       "2048ecfp-6               2048              2048          0"
      ]
     },
     "metadata": {},
     "output_type": "display_data"
    }
   ],
   "source": [
    "featuresets_to_reductions = {}\n",
    "\n",
    "for f in feature_sets:\n",
    "    \n",
    "    df = all_features[feature_sets[f]]\n",
    "    print(f'{f} feature set originally has {df.shape[1]} columns')\n",
    "    new_df = transform.fit_transform(X=df)\n",
    "    print(f'{f} feature set without zero-var columns has {new_df.shape[1]} columns')\n",
    "    print(f'Reduction: {df.shape[1] - new_df.shape[1]}\\n')\n",
    "    \n",
    "    featuresets_to_reductions[f] = {\n",
    "        'Original features': df.shape[1],\n",
    "        'Reduced features': new_df.shape[1],\n",
    "        'Reduction': df.shape[1] - new_df.shape[1]\n",
    "    }\n",
    "    \n",
    "featuresets_to_reductions_df = pd.DataFrame(featuresets_to_reductions).T\n",
    "display(featuresets_to_reductions_df)"
   ]
  },
  {
   "cell_type": "code",
   "execution_count": 16,
   "metadata": {},
   "outputs": [],
   "source": [
    "featuresets_to_reductions_df.to_csv(f'../tables/{dataset}_{smile_type}_featuresets_to_zero_varaince_reductions.csv')"
   ]
  },
  {
   "cell_type": "code",
   "execution_count": 27,
   "metadata": {},
   "outputs": [
    {
     "data": {
      "text/html": [
       "<div>\n",
       "<style scoped>\n",
       "    .dataframe tbody tr th:only-of-type {\n",
       "        vertical-align: middle;\n",
       "    }\n",
       "\n",
       "    .dataframe tbody tr th {\n",
       "        vertical-align: top;\n",
       "    }\n",
       "\n",
       "    .dataframe thead th {\n",
       "        text-align: right;\n",
       "    }\n",
       "</style>\n",
       "<table border=\"1\" class=\"dataframe\">\n",
       "  <thead>\n",
       "    <tr style=\"text-align: right;\">\n",
       "      <th></th>\n",
       "      <th>Original features</th>\n",
       "      <th>Reduced features</th>\n",
       "      <th>Reduction</th>\n",
       "    </tr>\n",
       "  </thead>\n",
       "  <tbody>\n",
       "    <tr>\n",
       "      <th>RDKit</th>\n",
       "      <td>200</td>\n",
       "      <td>188</td>\n",
       "      <td>12</td>\n",
       "    </tr>\n",
       "    <tr>\n",
       "      <th>1024ecfp-4</th>\n",
       "      <td>1024</td>\n",
       "      <td>1024</td>\n",
       "      <td>0</td>\n",
       "    </tr>\n",
       "    <tr>\n",
       "      <th>1024ecfp-6</th>\n",
       "      <td>1024</td>\n",
       "      <td>1024</td>\n",
       "      <td>0</td>\n",
       "    </tr>\n",
       "    <tr>\n",
       "      <th>2048ecfp-4</th>\n",
       "      <td>2048</td>\n",
       "      <td>2047</td>\n",
       "      <td>1</td>\n",
       "    </tr>\n",
       "    <tr>\n",
       "      <th>2048ecfp-6</th>\n",
       "      <td>2048</td>\n",
       "      <td>2048</td>\n",
       "      <td>0</td>\n",
       "    </tr>\n",
       "  </tbody>\n",
       "</table>\n",
       "</div>"
      ],
      "text/plain": [
       "            Original features  Reduced features  Reduction\n",
       "RDKit                     200               188         12\n",
       "1024ecfp-4               1024              1024          0\n",
       "1024ecfp-6               1024              1024          0\n",
       "2048ecfp-4               2048              2047          1\n",
       "2048ecfp-6               2048              2048          0"
      ]
     },
     "execution_count": 27,
     "metadata": {},
     "output_type": "execute_result"
    }
   ],
   "source": [
    "pd.read_csv(f'../tables/{dataset}_{smile_type}_featuresets_to_zero_varaince_reductions.csv', index_col=0)"
   ]
  },
  {
   "cell_type": "markdown",
   "metadata": {},
   "source": [
    "## Visuzlizing reductions"
   ]
  },
  {
   "cell_type": "code",
   "execution_count": 32,
   "metadata": {},
   "outputs": [],
   "source": [
    "if np.array([f'{dataset}_original_featuresets_to_zero_varaince_reductions.csv' in os.listdir('../tables') for dataset in ['freesolv', 'esol', 'lipophilicity']]).all():\n",
    "    esol = pd.read_csv(f'../tables/esol_original_featuresets_to_zero_varaince_reductions.csv', index_col=0)\n",
    "    freesolv = pd.read_csv(f'../tables/freesolv_original_featuresets_to_zero_varaince_reductions.csv', index_col=0)\n",
    "    lipophilicity = pd.read_csv(f'../tables/lipophilicity_original_featuresets_to_zero_varaince_reductions.csv', index_col=0)"
   ]
  },
  {
   "cell_type": "code",
   "execution_count": 38,
   "metadata": {},
   "outputs": [
    {
     "data": {
      "text/html": [
       "<div>\n",
       "<style scoped>\n",
       "    .dataframe tbody tr th:only-of-type {\n",
       "        vertical-align: middle;\n",
       "    }\n",
       "\n",
       "    .dataframe tbody tr th {\n",
       "        vertical-align: top;\n",
       "    }\n",
       "\n",
       "    .dataframe thead th {\n",
       "        text-align: right;\n",
       "    }\n",
       "</style>\n",
       "<table border=\"1\" class=\"dataframe\">\n",
       "  <thead>\n",
       "    <tr style=\"text-align: right;\">\n",
       "      <th></th>\n",
       "      <th>Original features</th>\n",
       "      <th>Reduced features</th>\n",
       "      <th>Reduction</th>\n",
       "    </tr>\n",
       "  </thead>\n",
       "  <tbody>\n",
       "    <tr>\n",
       "      <th>RDKit</th>\n",
       "      <td>200</td>\n",
       "      <td>167</td>\n",
       "      <td>33</td>\n",
       "    </tr>\n",
       "    <tr>\n",
       "      <th>1024ecfp-4</th>\n",
       "      <td>1024</td>\n",
       "      <td>849</td>\n",
       "      <td>175</td>\n",
       "    </tr>\n",
       "    <tr>\n",
       "      <th>1024ecfp-6</th>\n",
       "      <td>1024</td>\n",
       "      <td>981</td>\n",
       "      <td>43</td>\n",
       "    </tr>\n",
       "    <tr>\n",
       "      <th>2048ecfp-4</th>\n",
       "      <td>2048</td>\n",
       "      <td>1224</td>\n",
       "      <td>824</td>\n",
       "    </tr>\n",
       "    <tr>\n",
       "      <th>2048ecfp-6</th>\n",
       "      <td>2048</td>\n",
       "      <td>1617</td>\n",
       "      <td>431</td>\n",
       "    </tr>\n",
       "  </tbody>\n",
       "</table>\n",
       "</div>"
      ],
      "text/plain": [
       "            Original features  Reduced features  Reduction\n",
       "RDKit                     200               167         33\n",
       "1024ecfp-4               1024               849        175\n",
       "1024ecfp-6               1024               981         43\n",
       "2048ecfp-4               2048              1224        824\n",
       "2048ecfp-6               2048              1617        431"
      ]
     },
     "metadata": {},
     "output_type": "display_data"
    }
   ],
   "source": [
    "# 642 rows\n",
    "display(freesolv)"
   ]
  },
  {
   "cell_type": "code",
   "execution_count": 39,
   "metadata": {},
   "outputs": [
    {
     "data": {
      "text/html": [
       "<div>\n",
       "<style scoped>\n",
       "    .dataframe tbody tr th:only-of-type {\n",
       "        vertical-align: middle;\n",
       "    }\n",
       "\n",
       "    .dataframe tbody tr th {\n",
       "        vertical-align: top;\n",
       "    }\n",
       "\n",
       "    .dataframe thead th {\n",
       "        text-align: right;\n",
       "    }\n",
       "</style>\n",
       "<table border=\"1\" class=\"dataframe\">\n",
       "  <thead>\n",
       "    <tr style=\"text-align: right;\">\n",
       "      <th></th>\n",
       "      <th>Original features</th>\n",
       "      <th>Reduced features</th>\n",
       "      <th>Reduction</th>\n",
       "    </tr>\n",
       "  </thead>\n",
       "  <tbody>\n",
       "    <tr>\n",
       "      <th>RDKit</th>\n",
       "      <td>200</td>\n",
       "      <td>180</td>\n",
       "      <td>20</td>\n",
       "    </tr>\n",
       "    <tr>\n",
       "      <th>1024ecfp-4</th>\n",
       "      <td>1024</td>\n",
       "      <td>1013</td>\n",
       "      <td>11</td>\n",
       "    </tr>\n",
       "    <tr>\n",
       "      <th>1024ecfp-6</th>\n",
       "      <td>1024</td>\n",
       "      <td>1024</td>\n",
       "      <td>0</td>\n",
       "    </tr>\n",
       "    <tr>\n",
       "      <th>2048ecfp-4</th>\n",
       "      <td>2048</td>\n",
       "      <td>1856</td>\n",
       "      <td>192</td>\n",
       "    </tr>\n",
       "    <tr>\n",
       "      <th>2048ecfp-6</th>\n",
       "      <td>2048</td>\n",
       "      <td>2030</td>\n",
       "      <td>18</td>\n",
       "    </tr>\n",
       "  </tbody>\n",
       "</table>\n",
       "</div>"
      ],
      "text/plain": [
       "            Original features  Reduced features  Reduction\n",
       "RDKit                     200               180         20\n",
       "1024ecfp-4               1024              1013         11\n",
       "1024ecfp-6               1024              1024          0\n",
       "2048ecfp-4               2048              1856        192\n",
       "2048ecfp-6               2048              2030         18"
      ]
     },
     "metadata": {},
     "output_type": "display_data"
    }
   ],
   "source": [
    "# 1128 rows\n",
    "display(esol)"
   ]
  },
  {
   "cell_type": "code",
   "execution_count": 40,
   "metadata": {},
   "outputs": [
    {
     "data": {
      "text/html": [
       "<div>\n",
       "<style scoped>\n",
       "    .dataframe tbody tr th:only-of-type {\n",
       "        vertical-align: middle;\n",
       "    }\n",
       "\n",
       "    .dataframe tbody tr th {\n",
       "        vertical-align: top;\n",
       "    }\n",
       "\n",
       "    .dataframe thead th {\n",
       "        text-align: right;\n",
       "    }\n",
       "</style>\n",
       "<table border=\"1\" class=\"dataframe\">\n",
       "  <thead>\n",
       "    <tr style=\"text-align: right;\">\n",
       "      <th></th>\n",
       "      <th>Original features</th>\n",
       "      <th>Reduced features</th>\n",
       "      <th>Reduction</th>\n",
       "    </tr>\n",
       "  </thead>\n",
       "  <tbody>\n",
       "    <tr>\n",
       "      <th>RDKit</th>\n",
       "      <td>200</td>\n",
       "      <td>188</td>\n",
       "      <td>12</td>\n",
       "    </tr>\n",
       "    <tr>\n",
       "      <th>1024ecfp-4</th>\n",
       "      <td>1024</td>\n",
       "      <td>1024</td>\n",
       "      <td>0</td>\n",
       "    </tr>\n",
       "    <tr>\n",
       "      <th>1024ecfp-6</th>\n",
       "      <td>1024</td>\n",
       "      <td>1024</td>\n",
       "      <td>0</td>\n",
       "    </tr>\n",
       "    <tr>\n",
       "      <th>2048ecfp-4</th>\n",
       "      <td>2048</td>\n",
       "      <td>2047</td>\n",
       "      <td>1</td>\n",
       "    </tr>\n",
       "    <tr>\n",
       "      <th>2048ecfp-6</th>\n",
       "      <td>2048</td>\n",
       "      <td>2048</td>\n",
       "      <td>0</td>\n",
       "    </tr>\n",
       "  </tbody>\n",
       "</table>\n",
       "</div>"
      ],
      "text/plain": [
       "            Original features  Reduced features  Reduction\n",
       "RDKit                     200               188         12\n",
       "1024ecfp-4               1024              1024          0\n",
       "1024ecfp-6               1024              1024          0\n",
       "2048ecfp-4               2048              2047          1\n",
       "2048ecfp-6               2048              2048          0"
      ]
     },
     "metadata": {},
     "output_type": "display_data"
    }
   ],
   "source": [
    "# 4200 rows\n",
    "display(lipophilicity)"
   ]
  },
  {
   "cell_type": "code",
   "execution_count": null,
   "metadata": {},
   "outputs": [],
   "source": []
  }
 ],
 "metadata": {
  "colab": {
   "collapsed_sections": [],
   "name": "colab_reproducing_grid_search_pipeline.ipynb",
   "provenance": [],
   "toc_visible": true
  },
  "kernelspec": {
   "display_name": "Python [conda env:batch-msc] *",
   "language": "python",
   "name": "conda-env-batch-msc-py"
  },
  "language_info": {
   "codemirror_mode": {
    "name": "ipython",
    "version": 3
   },
   "file_extension": ".py",
   "mimetype": "text/x-python",
   "name": "python",
   "nbconvert_exporter": "python",
   "pygments_lexer": "ipython3",
   "version": "3.6.10"
  }
 },
 "nbformat": 4,
 "nbformat_minor": 1
}
