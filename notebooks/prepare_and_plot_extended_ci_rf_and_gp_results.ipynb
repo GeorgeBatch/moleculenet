{
 "cells": [
  {
   "cell_type": "markdown",
   "metadata": {
    "colab_type": "text",
    "id": "iwDYlLl8rOL4"
   },
   "source": [
    "# About"
   ]
  },
  {
   "cell_type": "markdown",
   "metadata": {},
   "source": [
    "Here we prepare, plot (and save) the results for CI plots, which were obtained in:\n",
    "- `colab_extended_ci_rf_and_gp_saving_results.ipnb`\n",
    "\n",
    "The notebook includes both one-run and multiple-runs CIs plots"
   ]
  },
  {
   "cell_type": "code",
   "execution_count": null,
   "metadata": {},
   "outputs": [],
   "source": []
  },
  {
   "cell_type": "code",
   "execution_count": 1,
   "metadata": {
    "colab": {
     "base_uri": "https://localhost:8080/",
     "height": 187
    },
    "colab_type": "code",
    "executionInfo": {
     "elapsed": 1132,
     "status": "ok",
     "timestamp": 1599367180747,
     "user": {
      "displayName": "George Batchkala",
      "photoUrl": "",
      "userId": "17039292136363863281"
     },
     "user_tz": -180
    },
    "id": "KXdDhDGgeIeq",
    "outputId": "ac29522b-b410-41be-c74b-3bb849f12683"
   },
   "outputs": [
    {
     "name": "stdout",
     "output_type": "stream",
     "text": [
      "all_plots.ipynb\r\n",
      "colab_extended_GPflow_pipeline.ipynb\r\n",
      "colab_extended_ci-rf-gp_xgb-sota-check_results.ipynb\r\n",
      "colab_extended_grid_search_pipeline.ipynb\r\n",
      "colab_reproducing_ci_gp.ipynb\r\n",
      "colab_reproducing_ci_rf.ipynb\r\n",
      "colab_reproducing_grid_search_pipeline.ipynb\r\n",
      "eda.ipynb\r\n",
      "prepare_and_plot_extended_ci_rf_and_gp_results.ipynb\r\n",
      "prepare_extended_grid_search_results.ipynb\r\n",
      "prepare_reproducing_grid_search_results.ipynb\r\n"
     ]
    }
   ],
   "source": [
    "%ls"
   ]
  },
  {
   "cell_type": "code",
   "execution_count": 2,
   "metadata": {
    "colab": {
     "base_uri": "https://localhost:8080/",
     "height": 442
    },
    "colab_type": "code",
    "executionInfo": {
     "elapsed": 1789,
     "status": "ok",
     "timestamp": 1599367191557,
     "user": {
      "displayName": "George Batchkala",
      "photoUrl": "",
      "userId": "17039292136363863281"
     },
     "user_tz": -180
    },
    "id": "pKc-Tl2jKRz3",
    "outputId": "53d49ad6-3349-41ed-c464-5342909ee43b"
   },
   "outputs": [
    {
     "name": "stdout",
     "output_type": "stream",
     "text": [
      "ESOL_README\r\n",
      "FreeSolv_README\r\n",
      "Lipo_README\r\n",
      "esol_original.csv\r\n",
      "esol_original_1024ecfp4_features.csv\r\n",
      "esol_original_1024ecfp6_features.csv\r\n",
      "esol_original_2048ecfp4_features.csv\r\n",
      "esol_original_2048ecfp6_features.csv\r\n",
      "esol_original_IdSmilesLabels.csv\r\n",
      "esol_original_extra_features.csv\r\n",
      "esol_original_rdkit_features.csv\r\n",
      "freesolv_original.csv\r\n",
      "freesolv_original_1024ecfp4_features.csv\r\n",
      "freesolv_original_1024ecfp6_features.csv\r\n",
      "freesolv_original_2048ecfp4_features.csv\r\n",
      "freesolv_original_2048ecfp6_features.csv\r\n",
      "freesolv_original_IdSmilesLabels.csv\r\n",
      "freesolv_original_rdkit_features.csv\r\n",
      "lipophilicity_original.csv\r\n",
      "lipophilicity_original_1024ecfp4_features.csv\r\n",
      "lipophilicity_original_1024ecfp6_features.csv\r\n",
      "lipophilicity_original_2048ecfp4_features.csv\r\n",
      "lipophilicity_original_2048ecfp6_features.csv\r\n",
      "lipophilicity_original_IdSmilesLabels.csv\r\n",
      "lipophilicity_original_rdkit_features.csv\r\n"
     ]
    }
   ],
   "source": [
    "%ls ../data/"
   ]
  },
  {
   "cell_type": "markdown",
   "metadata": {
    "colab_type": "text",
    "id": "cG9tpt04e0iN"
   },
   "source": [
    "## Import modules"
   ]
  },
  {
   "cell_type": "markdown",
   "metadata": {
    "colab_type": "text",
    "id": "D6wO2E_J6gM6"
   },
   "source": [
    "### Standard imports"
   ]
  },
  {
   "cell_type": "code",
   "execution_count": 3,
   "metadata": {
    "colab": {},
    "colab_type": "code",
    "executionInfo": {
     "elapsed": 1881,
     "status": "ok",
     "timestamp": 1599367193789,
     "user": {
      "displayName": "George Batchkala",
      "photoUrl": "",
      "userId": "17039292136363863281"
     },
     "user_tz": -180
    },
    "id": "sjl-QAB5e4I3"
   },
   "outputs": [],
   "source": [
    "import json\n",
    "import pickle\n",
    "\n",
    "import sys\n",
    "\n",
    "import numpy as np\n",
    "import pandas as pd\n",
    "import matplotlib.pyplot as plt\n",
    "import seaborn as sns"
   ]
  },
  {
   "cell_type": "code",
   "execution_count": 4,
   "metadata": {
    "colab": {
     "base_uri": "https://localhost:8080/",
     "height": 34
    },
    "colab_type": "code",
    "executionInfo": {
     "elapsed": 1241,
     "status": "ok",
     "timestamp": 1599367193790,
     "user": {
      "displayName": "George Batchkala",
      "photoUrl": "",
      "userId": "17039292136363863281"
     },
     "user_tz": -180
    },
    "id": "QhvLwBKDAsWr",
    "outputId": "846aa1c4-8927-4a57-ee17-7a51eb38eae1"
   },
   "outputs": [],
   "source": [
    "# metrics\n",
    "from scipy.stats import pearsonr\n",
    "from sklearn.metrics import r2_score\n",
    "from sklearn.metrics import mean_squared_error\n",
    "from sklearn.metrics import mean_absolute_error\n",
    "from sklearn.metrics import jaccard_score # Tanimoto"
   ]
  },
  {
   "cell_type": "markdown",
   "metadata": {
    "colab_type": "text",
    "id": "pCdK4Iwk6gND"
   },
   "source": [
    "### Custom imports"
   ]
  },
  {
   "cell_type": "code",
   "execution_count": 5,
   "metadata": {
    "colab": {},
    "colab_type": "code",
    "executionInfo": {
     "elapsed": 1395,
     "status": "ok",
     "timestamp": 1599367196515,
     "user": {
      "displayName": "George Batchkala",
      "photoUrl": "",
      "userId": "17039292136363863281"
     },
     "user_tz": -180
    },
    "id": "gllhJNPK6gNE"
   },
   "outputs": [],
   "source": [
    "sys.path.insert(0, '..')\n",
    "\n",
    "# plotting\n",
    "from util_scripts.plotting_functions_and_vars import FIGSIZE_CI, FIGSIZE_HEATMAP, DPI, PLOTS_DIR\n",
    "from util_scripts.plotting_functions_and_vars import datasets_to_titles, datasets_to_units, metrics_to_labels\n",
    "from util_scripts.plotting_functions_and_vars import plot_algorithm_dataset_comparison_heatmap\n",
    "\n",
    "\n",
    "from util_scripts.plotting_functions_and_vars import datasets_to_rounding_precision\n",
    "\n",
    "sys.path.insert(0, './notebooks')"
   ]
  },
  {
   "cell_type": "markdown",
   "metadata": {
    "colab_type": "text",
    "id": "daKbVAugrOMs"
   },
   "source": [
    "## Set plotting style"
   ]
  },
  {
   "cell_type": "code",
   "execution_count": 6,
   "metadata": {
    "colab": {},
    "colab_type": "code",
    "executionInfo": {
     "elapsed": 1685,
     "status": "ok",
     "timestamp": 1599367200371,
     "user": {
      "displayName": "George Batchkala",
      "photoUrl": "",
      "userId": "17039292136363863281"
     },
     "user_tz": -180
    },
    "id": "wEF0rQL3rOMt"
   },
   "outputs": [],
   "source": [
    "%matplotlib inline\n",
    "plt.style.use('fivethirtyeight')\n",
    "\n",
    "plt.rcParams['axes.facecolor']='w'\n",
    "#plt.rcParams['axes.linewidth']=1\n",
    "plt.rcParams['axes.edgecolor']='w'\n",
    "plt.rcParams['figure.facecolor']='w'\n",
    "plt.rcParams['savefig.facecolor']='w'\n",
    "#plt.rcParams['grid.color']='white'\n",
    "\n",
    "# sns.set()"
   ]
  },
  {
   "cell_type": "markdown",
   "metadata": {
    "colab_type": "text",
    "id": "o4r2WevweR5i"
   },
   "source": [
    "# Load Data"
   ]
  },
  {
   "cell_type": "markdown",
   "metadata": {
    "colab_type": "text",
    "id": "K-fg6Gq6qt8p"
   },
   "source": [
    "## CHOOSE: dataset, smile_type, grid_search_type"
   ]
  },
  {
   "cell_type": "code",
   "execution_count": 7,
   "metadata": {
    "colab": {},
    "colab_type": "code",
    "executionInfo": {
     "elapsed": 486,
     "status": "ok",
     "timestamp": 1599369100807,
     "user": {
      "displayName": "George Batchkala",
      "photoUrl": "",
      "userId": "17039292136363863281"
     },
     "user_tz": -180
    },
    "id": "DmVtuXvrrOMx"
   },
   "outputs": [],
   "source": [
    "dataset = 'esol'\n",
    "assert dataset in ['freesolv', 'esol', 'lipophilicity']\n",
    "\n",
    "smile_type = 'original'\n",
    "assert smile_type in ['original', 'protonated']\n",
    "\n",
    "grid_search_type = 'extended'\n",
    "assert grid_search_type in ['reproducing', 'extended']\n",
    "\n",
    "# correlated features treatment\n",
    "if dataset == 'esol':\n",
    "    cf = 'reduced'\n",
    "else:\n",
    "    cf = 'full'\n",
    "assert cf in ['reduced', 'full']"
   ]
  },
  {
   "cell_type": "code",
   "execution_count": 8,
   "metadata": {},
   "outputs": [],
   "source": [
    "# # for esol\n",
    "# cf = 'full'"
   ]
  },
  {
   "cell_type": "markdown",
   "metadata": {
    "colab_type": "text",
    "id": "Tvy3ngWanFP_"
   },
   "source": [
    "## Titles, Units and Labels for datasets"
   ]
  },
  {
   "cell_type": "code",
   "execution_count": 9,
   "metadata": {
    "colab": {
     "base_uri": "https://localhost:8080/",
     "height": 68
    },
    "colab_type": "code",
    "executionInfo": {
     "elapsed": 1033,
     "status": "ok",
     "timestamp": 1599369104364,
     "user": {
      "displayName": "George Batchkala",
      "photoUrl": "",
      "userId": "17039292136363863281"
     },
     "user_tz": -180
    },
    "id": "xGB7XOf1_PrT",
    "outputId": "f286b9a8-6363-4425-f354-495e8079c359"
   },
   "outputs": [
    {
     "name": "stdout",
     "output_type": "stream",
     "text": [
      "freesolv      :  Solvation Energy\n",
      "esol          :  Log Solubility\n",
      "lipophilicity :  Octanol/Water Distribution Coefficient\n"
     ]
    }
   ],
   "source": [
    "for key, value in datasets_to_titles.items():\n",
    "    print(key, (13 - len(key))*' ' + ': ',  value)"
   ]
  },
  {
   "cell_type": "code",
   "execution_count": 10,
   "metadata": {
    "colab": {
     "base_uri": "https://localhost:8080/",
     "height": 68
    },
    "colab_type": "code",
    "executionInfo": {
     "elapsed": 464,
     "status": "ok",
     "timestamp": 1599369104654,
     "user": {
      "displayName": "George Batchkala",
      "photoUrl": "",
      "userId": "17039292136363863281"
     },
     "user_tz": -180
    },
    "id": "C7EdTtuv_PrX",
    "outputId": "b05507fc-8e5e-4b84-b0cd-c7310199a055"
   },
   "outputs": [
    {
     "name": "stdout",
     "output_type": "stream",
     "text": [
      "freesolv      :  (kcal/mol)\n",
      "esol          :  (mol/litre)\n",
      "lipophilicity :  (logD)\n"
     ]
    }
   ],
   "source": [
    "for key, value in datasets_to_units.items():\n",
    "    print(key, (13 - len(key))*' ' + ': ',  value)"
   ]
  },
  {
   "cell_type": "code",
   "execution_count": 11,
   "metadata": {},
   "outputs": [
    {
     "name": "stdout",
     "output_type": "stream",
     "text": [
      "RMSE          :  root-mean-square error\n",
      "MAE           :  mean absolute error\n",
      "R^2           :  R^2 (coefficient of determination)\n",
      "pearson_r     :  Pearson correlation\n"
     ]
    }
   ],
   "source": [
    "for key, value in metrics_to_labels.items():\n",
    "    print(key, (13 - len(key))*' ' + ': ',  value)"
   ]
  },
  {
   "cell_type": "code",
   "execution_count": 12,
   "metadata": {
    "colab": {},
    "colab_type": "code",
    "executionInfo": {
     "elapsed": 640,
     "status": "ok",
     "timestamp": 1599369105549,
     "user": {
      "displayName": "George Batchkala",
      "photoUrl": "",
      "userId": "17039292136363863281"
     },
     "user_tz": -180
    },
    "id": "Fyv7vIwJ_Pra"
   },
   "outputs": [
    {
     "data": {
      "text/plain": [
       "2"
      ]
     },
     "execution_count": 12,
     "metadata": {},
     "output_type": "execute_result"
    }
   ],
   "source": [
    "rp = datasets_to_rounding_precision[dataset]\n",
    "rp"
   ]
  },
  {
   "cell_type": "markdown",
   "metadata": {
    "colab_type": "text",
    "id": "1PIRIaAszL4P"
   },
   "source": [
    "## CHOOSE metric to display"
   ]
  },
  {
   "cell_type": "markdown",
   "metadata": {
    "colab_type": "text",
    "id": "0j-LrNtiVaEG"
   },
   "source": []
  },
  {
   "cell_type": "code",
   "execution_count": 13,
   "metadata": {
    "colab": {},
    "colab_type": "code",
    "executionInfo": {
     "elapsed": 1065,
     "status": "ok",
     "timestamp": 1599369108985,
     "user": {
      "displayName": "George Batchkala",
      "photoUrl": "",
      "userId": "17039292136363863281"
     },
     "user_tz": -180
    },
    "id": "xmL5nV-BeOcC"
   },
   "outputs": [],
   "source": [
    "metric = 'RMSE'\n",
    "assert metric in metrics_to_labels"
   ]
  },
  {
   "cell_type": "code",
   "execution_count": 14,
   "metadata": {
    "colab": {},
    "colab_type": "code",
    "executionInfo": {
     "elapsed": 2470,
     "status": "ok",
     "timestamp": 1599369110775,
     "user": {
      "displayName": "George Batchkala",
      "photoUrl": "",
      "userId": "17039292136363863281"
     },
     "user_tz": -180
    },
    "id": "_Do5D_wx6gNW"
   },
   "outputs": [],
   "source": [
    "if metric in ['RMSE', 'MAE']:\n",
    "    pass\n",
    "else:\n",
    "    # no units\n",
    "    datasets_to_units = {'freesolv': '', 'esol': '', 'lipophilicity': ''}"
   ]
  },
  {
   "cell_type": "markdown",
   "metadata": {},
   "source": [
    "## Choose model to show"
   ]
  },
  {
   "cell_type": "code",
   "execution_count": 15,
   "metadata": {},
   "outputs": [],
   "source": [
    "model = 'rf'\n",
    "assert model in ['rf', 'gp']"
   ]
  },
  {
   "cell_type": "code",
   "execution_count": 16,
   "metadata": {},
   "outputs": [],
   "source": [
    "models_to_title_additions = {\n",
    "    'rf': 'Random Forests',\n",
    "    'gp': 'Gaussian Processes'\n",
    "}"
   ]
  },
  {
   "cell_type": "markdown",
   "metadata": {},
   "source": [
    "## Load files:"
   ]
  },
  {
   "cell_type": "code",
   "execution_count": 17,
   "metadata": {},
   "outputs": [
    {
     "name": "stdout",
     "output_type": "stream",
     "text": [
      "esol original extended full rf\n"
     ]
    }
   ],
   "source": [
    "print(dataset, smile_type, grid_search_type, cf, model)"
   ]
  },
  {
   "cell_type": "code",
   "execution_count": 18,
   "metadata": {},
   "outputs": [],
   "source": [
    "# save results as csv-s, rewrite each time\n",
    "df_true = pd.read_csv(f'../results/{dataset}_{smile_type}_{grid_search_type}_{cf}_multiple_ci_runs_true_{model}.csv')\n",
    "df_pred = pd.read_csv(f'../results/{dataset}_{smile_type}_{grid_search_type}_{cf}_multiple_ci_runs_pred_{model}.csv')\n",
    "df_std = pd.read_csv(f'../results/{dataset}_{smile_type}_{grid_search_type}_{cf}_multiple_ci_runs_std_{model}.csv')"
   ]
  },
  {
   "cell_type": "markdown",
   "metadata": {},
   "source": [
    "## Have a look at files"
   ]
  },
  {
   "cell_type": "code",
   "execution_count": 19,
   "metadata": {},
   "outputs": [
    {
     "data": {
      "text/plain": [
       "((226, 30), (226, 30), (226, 30))"
      ]
     },
     "execution_count": 19,
     "metadata": {},
     "output_type": "execute_result"
    }
   ],
   "source": [
    "df_true.shape, df_pred.shape, df_std.shape"
   ]
  },
  {
   "cell_type": "code",
   "execution_count": 20,
   "metadata": {},
   "outputs": [
    {
     "data": {
      "text/html": [
       "<div>\n",
       "<style scoped>\n",
       "    .dataframe tbody tr th:only-of-type {\n",
       "        vertical-align: middle;\n",
       "    }\n",
       "\n",
       "    .dataframe tbody tr th {\n",
       "        vertical-align: top;\n",
       "    }\n",
       "\n",
       "    .dataframe thead th {\n",
       "        text-align: right;\n",
       "    }\n",
       "</style>\n",
       "<table border=\"1\" class=\"dataframe\">\n",
       "  <thead>\n",
       "    <tr style=\"text-align: right;\">\n",
       "      <th></th>\n",
       "      <th>test_true_0</th>\n",
       "      <th>test_true_1</th>\n",
       "      <th>test_true_2</th>\n",
       "      <th>test_true_3</th>\n",
       "      <th>test_true_4</th>\n",
       "      <th>test_true_5</th>\n",
       "      <th>test_true_6</th>\n",
       "      <th>test_true_7</th>\n",
       "      <th>test_true_8</th>\n",
       "      <th>test_true_9</th>\n",
       "      <th>...</th>\n",
       "      <th>test_true_20</th>\n",
       "      <th>test_true_21</th>\n",
       "      <th>test_true_22</th>\n",
       "      <th>test_true_23</th>\n",
       "      <th>test_true_24</th>\n",
       "      <th>test_true_25</th>\n",
       "      <th>test_true_26</th>\n",
       "      <th>test_true_27</th>\n",
       "      <th>test_true_28</th>\n",
       "      <th>test_true_29</th>\n",
       "    </tr>\n",
       "  </thead>\n",
       "  <tbody>\n",
       "    <tr>\n",
       "      <th>0</th>\n",
       "      <td>-2.540</td>\n",
       "      <td>-0.010</td>\n",
       "      <td>-2.430</td>\n",
       "      <td>-5.05</td>\n",
       "      <td>-0.854</td>\n",
       "      <td>-0.620</td>\n",
       "      <td>-1.30</td>\n",
       "      <td>-1.140</td>\n",
       "      <td>-3.53</td>\n",
       "      <td>-3.770</td>\n",
       "      <td>...</td>\n",
       "      <td>-2.860</td>\n",
       "      <td>-3.893</td>\n",
       "      <td>-0.82</td>\n",
       "      <td>-4.883</td>\n",
       "      <td>-4.23</td>\n",
       "      <td>0.39</td>\n",
       "      <td>-0.73</td>\n",
       "      <td>-3.040</td>\n",
       "      <td>-2.60</td>\n",
       "      <td>-2.349</td>\n",
       "    </tr>\n",
       "    <tr>\n",
       "      <th>1</th>\n",
       "      <td>-2.253</td>\n",
       "      <td>-8.003</td>\n",
       "      <td>-6.510</td>\n",
       "      <td>0.47</td>\n",
       "      <td>-1.640</td>\n",
       "      <td>-2.060</td>\n",
       "      <td>-1.13</td>\n",
       "      <td>-5.370</td>\n",
       "      <td>-2.15</td>\n",
       "      <td>-4.560</td>\n",
       "      <td>...</td>\n",
       "      <td>-7.820</td>\n",
       "      <td>-4.220</td>\n",
       "      <td>-2.85</td>\n",
       "      <td>-4.432</td>\n",
       "      <td>-4.71</td>\n",
       "      <td>-5.16</td>\n",
       "      <td>0.96</td>\n",
       "      <td>-4.286</td>\n",
       "      <td>-5.37</td>\n",
       "      <td>-7.680</td>\n",
       "    </tr>\n",
       "    <tr>\n",
       "      <th>2</th>\n",
       "      <td>-2.484</td>\n",
       "      <td>-1.300</td>\n",
       "      <td>-4.194</td>\n",
       "      <td>-5.66</td>\n",
       "      <td>-6.290</td>\n",
       "      <td>-8.334</td>\n",
       "      <td>-3.39</td>\n",
       "      <td>-2.310</td>\n",
       "      <td>-3.59</td>\n",
       "      <td>-0.720</td>\n",
       "      <td>...</td>\n",
       "      <td>-2.843</td>\n",
       "      <td>-3.150</td>\n",
       "      <td>-1.29</td>\n",
       "      <td>-7.800</td>\n",
       "      <td>-2.96</td>\n",
       "      <td>-0.60</td>\n",
       "      <td>-4.06</td>\n",
       "      <td>-3.750</td>\n",
       "      <td>-2.22</td>\n",
       "      <td>-2.350</td>\n",
       "    </tr>\n",
       "    <tr>\n",
       "      <th>3</th>\n",
       "      <td>-2.540</td>\n",
       "      <td>-3.590</td>\n",
       "      <td>-4.000</td>\n",
       "      <td>-4.46</td>\n",
       "      <td>-2.350</td>\n",
       "      <td>-3.500</td>\n",
       "      <td>-0.41</td>\n",
       "      <td>-0.950</td>\n",
       "      <td>-1.78</td>\n",
       "      <td>-1.614</td>\n",
       "      <td>...</td>\n",
       "      <td>-1.220</td>\n",
       "      <td>-1.820</td>\n",
       "      <td>-4.15</td>\n",
       "      <td>-1.440</td>\n",
       "      <td>-2.46</td>\n",
       "      <td>-0.60</td>\n",
       "      <td>-1.08</td>\n",
       "      <td>-0.700</td>\n",
       "      <td>-2.64</td>\n",
       "      <td>-1.920</td>\n",
       "    </tr>\n",
       "    <tr>\n",
       "      <th>4</th>\n",
       "      <td>-7.200</td>\n",
       "      <td>-1.920</td>\n",
       "      <td>-2.452</td>\n",
       "      <td>-2.12</td>\n",
       "      <td>-1.890</td>\n",
       "      <td>0.523</td>\n",
       "      <td>-7.92</td>\n",
       "      <td>-2.468</td>\n",
       "      <td>-1.94</td>\n",
       "      <td>-4.140</td>\n",
       "      <td>...</td>\n",
       "      <td>-2.360</td>\n",
       "      <td>-6.090</td>\n",
       "      <td>-3.59</td>\n",
       "      <td>-4.140</td>\n",
       "      <td>-1.08</td>\n",
       "      <td>-3.85</td>\n",
       "      <td>-1.68</td>\n",
       "      <td>0.009</td>\n",
       "      <td>-3.40</td>\n",
       "      <td>1.120</td>\n",
       "    </tr>\n",
       "  </tbody>\n",
       "</table>\n",
       "<p>5 rows × 30 columns</p>\n",
       "</div>"
      ],
      "text/plain": [
       "   test_true_0  test_true_1  test_true_2  test_true_3  test_true_4  \\\n",
       "0       -2.540       -0.010       -2.430        -5.05       -0.854   \n",
       "1       -2.253       -8.003       -6.510         0.47       -1.640   \n",
       "2       -2.484       -1.300       -4.194        -5.66       -6.290   \n",
       "3       -2.540       -3.590       -4.000        -4.46       -2.350   \n",
       "4       -7.200       -1.920       -2.452        -2.12       -1.890   \n",
       "\n",
       "   test_true_5  test_true_6  test_true_7  test_true_8  test_true_9  ...  \\\n",
       "0       -0.620        -1.30       -1.140        -3.53       -3.770  ...   \n",
       "1       -2.060        -1.13       -5.370        -2.15       -4.560  ...   \n",
       "2       -8.334        -3.39       -2.310        -3.59       -0.720  ...   \n",
       "3       -3.500        -0.41       -0.950        -1.78       -1.614  ...   \n",
       "4        0.523        -7.92       -2.468        -1.94       -4.140  ...   \n",
       "\n",
       "   test_true_20  test_true_21  test_true_22  test_true_23  test_true_24  \\\n",
       "0        -2.860        -3.893         -0.82        -4.883         -4.23   \n",
       "1        -7.820        -4.220         -2.85        -4.432         -4.71   \n",
       "2        -2.843        -3.150         -1.29        -7.800         -2.96   \n",
       "3        -1.220        -1.820         -4.15        -1.440         -2.46   \n",
       "4        -2.360        -6.090         -3.59        -4.140         -1.08   \n",
       "\n",
       "   test_true_25  test_true_26  test_true_27  test_true_28  test_true_29  \n",
       "0          0.39         -0.73        -3.040         -2.60        -2.349  \n",
       "1         -5.16          0.96        -4.286         -5.37        -7.680  \n",
       "2         -0.60         -4.06        -3.750         -2.22        -2.350  \n",
       "3         -0.60         -1.08        -0.700         -2.64        -1.920  \n",
       "4         -3.85         -1.68         0.009         -3.40         1.120  \n",
       "\n",
       "[5 rows x 30 columns]"
      ]
     },
     "execution_count": 20,
     "metadata": {},
     "output_type": "execute_result"
    }
   ],
   "source": [
    "df_true.head()"
   ]
  },
  {
   "cell_type": "code",
   "execution_count": 21,
   "metadata": {},
   "outputs": [
    {
     "data": {
      "text/html": [
       "<div>\n",
       "<style scoped>\n",
       "    .dataframe tbody tr th:only-of-type {\n",
       "        vertical-align: middle;\n",
       "    }\n",
       "\n",
       "    .dataframe tbody tr th {\n",
       "        vertical-align: top;\n",
       "    }\n",
       "\n",
       "    .dataframe thead th {\n",
       "        text-align: right;\n",
       "    }\n",
       "</style>\n",
       "<table border=\"1\" class=\"dataframe\">\n",
       "  <thead>\n",
       "    <tr style=\"text-align: right;\">\n",
       "      <th></th>\n",
       "      <th>test_pred_0</th>\n",
       "      <th>test_pred_1</th>\n",
       "      <th>test_pred_2</th>\n",
       "      <th>test_pred_3</th>\n",
       "      <th>test_pred_4</th>\n",
       "      <th>test_pred_5</th>\n",
       "      <th>test_pred_6</th>\n",
       "      <th>test_pred_7</th>\n",
       "      <th>test_pred_8</th>\n",
       "      <th>test_pred_9</th>\n",
       "      <th>...</th>\n",
       "      <th>test_pred_20</th>\n",
       "      <th>test_pred_21</th>\n",
       "      <th>test_pred_22</th>\n",
       "      <th>test_pred_23</th>\n",
       "      <th>test_pred_24</th>\n",
       "      <th>test_pred_25</th>\n",
       "      <th>test_pred_26</th>\n",
       "      <th>test_pred_27</th>\n",
       "      <th>test_pred_28</th>\n",
       "      <th>test_pred_29</th>\n",
       "    </tr>\n",
       "  </thead>\n",
       "  <tbody>\n",
       "    <tr>\n",
       "      <th>0</th>\n",
       "      <td>-2.468450</td>\n",
       "      <td>0.154667</td>\n",
       "      <td>-2.234392</td>\n",
       "      <td>-4.691708</td>\n",
       "      <td>-0.682395</td>\n",
       "      <td>-0.721610</td>\n",
       "      <td>-1.079215</td>\n",
       "      <td>-0.873667</td>\n",
       "      <td>-3.380622</td>\n",
       "      <td>-3.973230</td>\n",
       "      <td>...</td>\n",
       "      <td>-3.172639</td>\n",
       "      <td>-4.466803</td>\n",
       "      <td>-1.302623</td>\n",
       "      <td>-3.753847</td>\n",
       "      <td>-4.264882</td>\n",
       "      <td>-0.262270</td>\n",
       "      <td>-0.727567</td>\n",
       "      <td>-2.938102</td>\n",
       "      <td>-3.029462</td>\n",
       "      <td>-2.196876</td>\n",
       "    </tr>\n",
       "    <tr>\n",
       "      <th>1</th>\n",
       "      <td>-2.290429</td>\n",
       "      <td>-6.933175</td>\n",
       "      <td>-6.710913</td>\n",
       "      <td>-0.018350</td>\n",
       "      <td>-1.508900</td>\n",
       "      <td>-2.214430</td>\n",
       "      <td>-2.986040</td>\n",
       "      <td>-4.944415</td>\n",
       "      <td>-1.948415</td>\n",
       "      <td>-3.873120</td>\n",
       "      <td>...</td>\n",
       "      <td>-7.887385</td>\n",
       "      <td>-3.610353</td>\n",
       "      <td>-2.797095</td>\n",
       "      <td>-4.967153</td>\n",
       "      <td>-4.656777</td>\n",
       "      <td>-3.734931</td>\n",
       "      <td>0.372997</td>\n",
       "      <td>-4.421237</td>\n",
       "      <td>-4.957531</td>\n",
       "      <td>-7.670190</td>\n",
       "    </tr>\n",
       "    <tr>\n",
       "      <th>2</th>\n",
       "      <td>-2.517211</td>\n",
       "      <td>-1.294947</td>\n",
       "      <td>-4.536663</td>\n",
       "      <td>-4.227113</td>\n",
       "      <td>-5.728635</td>\n",
       "      <td>-8.218903</td>\n",
       "      <td>-2.731077</td>\n",
       "      <td>-2.370032</td>\n",
       "      <td>-3.736257</td>\n",
       "      <td>-0.353915</td>\n",
       "      <td>...</td>\n",
       "      <td>-2.552258</td>\n",
       "      <td>-3.876300</td>\n",
       "      <td>-1.436080</td>\n",
       "      <td>-7.325567</td>\n",
       "      <td>-2.415720</td>\n",
       "      <td>-0.601352</td>\n",
       "      <td>-3.662248</td>\n",
       "      <td>-3.678365</td>\n",
       "      <td>-1.148031</td>\n",
       "      <td>-1.768806</td>\n",
       "    </tr>\n",
       "    <tr>\n",
       "      <th>3</th>\n",
       "      <td>-2.468450</td>\n",
       "      <td>-4.055083</td>\n",
       "      <td>-3.785085</td>\n",
       "      <td>-5.203003</td>\n",
       "      <td>-1.729603</td>\n",
       "      <td>-3.800112</td>\n",
       "      <td>-1.426755</td>\n",
       "      <td>-1.907510</td>\n",
       "      <td>-1.749762</td>\n",
       "      <td>-2.067388</td>\n",
       "      <td>...</td>\n",
       "      <td>-1.588828</td>\n",
       "      <td>-1.553912</td>\n",
       "      <td>-4.474565</td>\n",
       "      <td>-1.472998</td>\n",
       "      <td>-2.292508</td>\n",
       "      <td>-0.461950</td>\n",
       "      <td>-1.108813</td>\n",
       "      <td>-1.007667</td>\n",
       "      <td>-2.601217</td>\n",
       "      <td>-0.754125</td>\n",
       "    </tr>\n",
       "    <tr>\n",
       "      <th>4</th>\n",
       "      <td>-6.986867</td>\n",
       "      <td>-2.575022</td>\n",
       "      <td>-2.591727</td>\n",
       "      <td>-1.726506</td>\n",
       "      <td>-1.862897</td>\n",
       "      <td>-3.348035</td>\n",
       "      <td>-8.309978</td>\n",
       "      <td>-2.559625</td>\n",
       "      <td>-1.890983</td>\n",
       "      <td>-4.597212</td>\n",
       "      <td>...</td>\n",
       "      <td>-2.284041</td>\n",
       "      <td>-5.261628</td>\n",
       "      <td>-4.000077</td>\n",
       "      <td>-4.016500</td>\n",
       "      <td>-1.100517</td>\n",
       "      <td>-3.776830</td>\n",
       "      <td>-1.819253</td>\n",
       "      <td>-1.089602</td>\n",
       "      <td>-3.286858</td>\n",
       "      <td>0.086257</td>\n",
       "    </tr>\n",
       "  </tbody>\n",
       "</table>\n",
       "<p>5 rows × 30 columns</p>\n",
       "</div>"
      ],
      "text/plain": [
       "   test_pred_0  test_pred_1  test_pred_2  test_pred_3  test_pred_4  \\\n",
       "0    -2.468450     0.154667    -2.234392    -4.691708    -0.682395   \n",
       "1    -2.290429    -6.933175    -6.710913    -0.018350    -1.508900   \n",
       "2    -2.517211    -1.294947    -4.536663    -4.227113    -5.728635   \n",
       "3    -2.468450    -4.055083    -3.785085    -5.203003    -1.729603   \n",
       "4    -6.986867    -2.575022    -2.591727    -1.726506    -1.862897   \n",
       "\n",
       "   test_pred_5  test_pred_6  test_pred_7  test_pred_8  test_pred_9  ...  \\\n",
       "0    -0.721610    -1.079215    -0.873667    -3.380622    -3.973230  ...   \n",
       "1    -2.214430    -2.986040    -4.944415    -1.948415    -3.873120  ...   \n",
       "2    -8.218903    -2.731077    -2.370032    -3.736257    -0.353915  ...   \n",
       "3    -3.800112    -1.426755    -1.907510    -1.749762    -2.067388  ...   \n",
       "4    -3.348035    -8.309978    -2.559625    -1.890983    -4.597212  ...   \n",
       "\n",
       "   test_pred_20  test_pred_21  test_pred_22  test_pred_23  test_pred_24  \\\n",
       "0     -3.172639     -4.466803     -1.302623     -3.753847     -4.264882   \n",
       "1     -7.887385     -3.610353     -2.797095     -4.967153     -4.656777   \n",
       "2     -2.552258     -3.876300     -1.436080     -7.325567     -2.415720   \n",
       "3     -1.588828     -1.553912     -4.474565     -1.472998     -2.292508   \n",
       "4     -2.284041     -5.261628     -4.000077     -4.016500     -1.100517   \n",
       "\n",
       "   test_pred_25  test_pred_26  test_pred_27  test_pred_28  test_pred_29  \n",
       "0     -0.262270     -0.727567     -2.938102     -3.029462     -2.196876  \n",
       "1     -3.734931      0.372997     -4.421237     -4.957531     -7.670190  \n",
       "2     -0.601352     -3.662248     -3.678365     -1.148031     -1.768806  \n",
       "3     -0.461950     -1.108813     -1.007667     -2.601217     -0.754125  \n",
       "4     -3.776830     -1.819253     -1.089602     -3.286858      0.086257  \n",
       "\n",
       "[5 rows x 30 columns]"
      ]
     },
     "execution_count": 21,
     "metadata": {},
     "output_type": "execute_result"
    }
   ],
   "source": [
    "df_pred.head()"
   ]
  },
  {
   "cell_type": "code",
   "execution_count": 22,
   "metadata": {},
   "outputs": [
    {
     "data": {
      "text/html": [
       "<div>\n",
       "<style scoped>\n",
       "    .dataframe tbody tr th:only-of-type {\n",
       "        vertical-align: middle;\n",
       "    }\n",
       "\n",
       "    .dataframe tbody tr th {\n",
       "        vertical-align: top;\n",
       "    }\n",
       "\n",
       "    .dataframe thead th {\n",
       "        text-align: right;\n",
       "    }\n",
       "</style>\n",
       "<table border=\"1\" class=\"dataframe\">\n",
       "  <thead>\n",
       "    <tr style=\"text-align: right;\">\n",
       "      <th></th>\n",
       "      <th>test_std_0</th>\n",
       "      <th>test_std_1</th>\n",
       "      <th>test_std_2</th>\n",
       "      <th>test_std_3</th>\n",
       "      <th>test_std_4</th>\n",
       "      <th>test_std_5</th>\n",
       "      <th>test_std_6</th>\n",
       "      <th>test_std_7</th>\n",
       "      <th>test_std_8</th>\n",
       "      <th>test_std_9</th>\n",
       "      <th>...</th>\n",
       "      <th>test_std_20</th>\n",
       "      <th>test_std_21</th>\n",
       "      <th>test_std_22</th>\n",
       "      <th>test_std_23</th>\n",
       "      <th>test_std_24</th>\n",
       "      <th>test_std_25</th>\n",
       "      <th>test_std_26</th>\n",
       "      <th>test_std_27</th>\n",
       "      <th>test_std_28</th>\n",
       "      <th>test_std_29</th>\n",
       "    </tr>\n",
       "  </thead>\n",
       "  <tbody>\n",
       "    <tr>\n",
       "      <th>0</th>\n",
       "      <td>0.537685</td>\n",
       "      <td>1.408282</td>\n",
       "      <td>1.153721</td>\n",
       "      <td>0.812973</td>\n",
       "      <td>0.989220</td>\n",
       "      <td>1.119482</td>\n",
       "      <td>1.057081</td>\n",
       "      <td>0.961101</td>\n",
       "      <td>0.602005</td>\n",
       "      <td>0.462151</td>\n",
       "      <td>...</td>\n",
       "      <td>0.488473</td>\n",
       "      <td>0.793675</td>\n",
       "      <td>0.886288</td>\n",
       "      <td>0.597001</td>\n",
       "      <td>0.654970</td>\n",
       "      <td>1.172218</td>\n",
       "      <td>1.072474</td>\n",
       "      <td>1.017504</td>\n",
       "      <td>0.609850</td>\n",
       "      <td>1.046191</td>\n",
       "    </tr>\n",
       "    <tr>\n",
       "      <th>1</th>\n",
       "      <td>0.588572</td>\n",
       "      <td>1.650968</td>\n",
       "      <td>1.583553</td>\n",
       "      <td>1.304867</td>\n",
       "      <td>0.797387</td>\n",
       "      <td>0.906133</td>\n",
       "      <td>0.910046</td>\n",
       "      <td>0.981951</td>\n",
       "      <td>0.705167</td>\n",
       "      <td>0.499177</td>\n",
       "      <td>...</td>\n",
       "      <td>2.133924</td>\n",
       "      <td>0.508207</td>\n",
       "      <td>0.399994</td>\n",
       "      <td>0.924387</td>\n",
       "      <td>0.779422</td>\n",
       "      <td>0.726316</td>\n",
       "      <td>1.538427</td>\n",
       "      <td>1.072677</td>\n",
       "      <td>0.863685</td>\n",
       "      <td>2.228561</td>\n",
       "    </tr>\n",
       "    <tr>\n",
       "      <th>2</th>\n",
       "      <td>0.551081</td>\n",
       "      <td>0.949237</td>\n",
       "      <td>1.161538</td>\n",
       "      <td>0.735957</td>\n",
       "      <td>1.362904</td>\n",
       "      <td>2.457269</td>\n",
       "      <td>0.933848</td>\n",
       "      <td>0.692739</td>\n",
       "      <td>0.611262</td>\n",
       "      <td>1.184220</td>\n",
       "      <td>...</td>\n",
       "      <td>0.503190</td>\n",
       "      <td>0.564669</td>\n",
       "      <td>0.820786</td>\n",
       "      <td>1.964819</td>\n",
       "      <td>0.612061</td>\n",
       "      <td>1.118824</td>\n",
       "      <td>0.824730</td>\n",
       "      <td>1.039048</td>\n",
       "      <td>0.796897</td>\n",
       "      <td>1.056587</td>\n",
       "    </tr>\n",
       "    <tr>\n",
       "      <th>3</th>\n",
       "      <td>0.537685</td>\n",
       "      <td>0.818151</td>\n",
       "      <td>1.110598</td>\n",
       "      <td>0.955605</td>\n",
       "      <td>0.728763</td>\n",
       "      <td>0.935868</td>\n",
       "      <td>1.352555</td>\n",
       "      <td>0.740319</td>\n",
       "      <td>0.732936</td>\n",
       "      <td>0.476832</td>\n",
       "      <td>...</td>\n",
       "      <td>0.802788</td>\n",
       "      <td>0.766000</td>\n",
       "      <td>0.540990</td>\n",
       "      <td>0.673160</td>\n",
       "      <td>0.649176</td>\n",
       "      <td>1.214253</td>\n",
       "      <td>1.013520</td>\n",
       "      <td>1.226729</td>\n",
       "      <td>0.620429</td>\n",
       "      <td>1.186327</td>\n",
       "    </tr>\n",
       "    <tr>\n",
       "      <th>4</th>\n",
       "      <td>1.755563</td>\n",
       "      <td>0.791988</td>\n",
       "      <td>1.123754</td>\n",
       "      <td>0.695313</td>\n",
       "      <td>0.703252</td>\n",
       "      <td>0.880911</td>\n",
       "      <td>2.247300</td>\n",
       "      <td>0.669490</td>\n",
       "      <td>0.728476</td>\n",
       "      <td>0.646979</td>\n",
       "      <td>...</td>\n",
       "      <td>0.499705</td>\n",
       "      <td>1.092659</td>\n",
       "      <td>0.368618</td>\n",
       "      <td>0.620223</td>\n",
       "      <td>0.958021</td>\n",
       "      <td>0.815599</td>\n",
       "      <td>0.853702</td>\n",
       "      <td>1.191584</td>\n",
       "      <td>0.610093</td>\n",
       "      <td>1.403486</td>\n",
       "    </tr>\n",
       "  </tbody>\n",
       "</table>\n",
       "<p>5 rows × 30 columns</p>\n",
       "</div>"
      ],
      "text/plain": [
       "   test_std_0  test_std_1  test_std_2  test_std_3  test_std_4  test_std_5  \\\n",
       "0    0.537685    1.408282    1.153721    0.812973    0.989220    1.119482   \n",
       "1    0.588572    1.650968    1.583553    1.304867    0.797387    0.906133   \n",
       "2    0.551081    0.949237    1.161538    0.735957    1.362904    2.457269   \n",
       "3    0.537685    0.818151    1.110598    0.955605    0.728763    0.935868   \n",
       "4    1.755563    0.791988    1.123754    0.695313    0.703252    0.880911   \n",
       "\n",
       "   test_std_6  test_std_7  test_std_8  test_std_9  ...  test_std_20  \\\n",
       "0    1.057081    0.961101    0.602005    0.462151  ...     0.488473   \n",
       "1    0.910046    0.981951    0.705167    0.499177  ...     2.133924   \n",
       "2    0.933848    0.692739    0.611262    1.184220  ...     0.503190   \n",
       "3    1.352555    0.740319    0.732936    0.476832  ...     0.802788   \n",
       "4    2.247300    0.669490    0.728476    0.646979  ...     0.499705   \n",
       "\n",
       "   test_std_21  test_std_22  test_std_23  test_std_24  test_std_25  \\\n",
       "0     0.793675     0.886288     0.597001     0.654970     1.172218   \n",
       "1     0.508207     0.399994     0.924387     0.779422     0.726316   \n",
       "2     0.564669     0.820786     1.964819     0.612061     1.118824   \n",
       "3     0.766000     0.540990     0.673160     0.649176     1.214253   \n",
       "4     1.092659     0.368618     0.620223     0.958021     0.815599   \n",
       "\n",
       "   test_std_26  test_std_27  test_std_28  test_std_29  \n",
       "0     1.072474     1.017504     0.609850     1.046191  \n",
       "1     1.538427     1.072677     0.863685     2.228561  \n",
       "2     0.824730     1.039048     0.796897     1.056587  \n",
       "3     1.013520     1.226729     0.620429     1.186327  \n",
       "4     0.853702     1.191584     0.610093     1.403486  \n",
       "\n",
       "[5 rows x 30 columns]"
      ]
     },
     "execution_count": 22,
     "metadata": {},
     "output_type": "execute_result"
    }
   ],
   "source": [
    "df_std.head()"
   ]
  },
  {
   "cell_type": "markdown",
   "metadata": {},
   "source": [
    "# One run"
   ]
  },
  {
   "cell_type": "code",
   "execution_count": 23,
   "metadata": {},
   "outputs": [],
   "source": [
    "y_test = df_true.iloc[:, 0]\n",
    "y_test_pred = df_pred.iloc[:, 0]\n",
    "y_test_std = df_std.iloc[:, 0]"
   ]
  },
  {
   "cell_type": "markdown",
   "metadata": {},
   "source": [
    "## RMSE"
   ]
  },
  {
   "cell_type": "code",
   "execution_count": 24,
   "metadata": {},
   "outputs": [
    {
     "data": {
      "text/plain": [
       "0.7131056245433154"
      ]
     },
     "execution_count": 24,
     "metadata": {},
     "output_type": "execute_result"
    }
   ],
   "source": [
    "mean_squared_error(y_true=y_test, y_pred=y_test_pred, squared=False)"
   ]
  },
  {
   "cell_type": "markdown",
   "metadata": {
    "colab_type": "text",
    "id": "cemAX5Um_PtG"
   },
   "source": [
    "## Calculate confidence bounds using std part of gpr predictions"
   ]
  },
  {
   "cell_type": "code",
   "execution_count": 25,
   "metadata": {
    "colab": {},
    "colab_type": "code",
    "executionInfo": {
     "elapsed": 501,
     "status": "ok",
     "timestamp": 1599369443430,
     "user": {
      "displayName": "George Batchkala",
      "photoUrl": "",
      "userId": "17039292136363863281"
     },
     "user_tz": -180
    },
    "id": "SXkK4l9fXh5U"
   },
   "outputs": [],
   "source": [
    "upper = y_test_pred + 1.96 * y_test_std\n",
    "lower = y_test_pred - 1.96 * y_test_std"
   ]
  },
  {
   "cell_type": "code",
   "execution_count": 26,
   "metadata": {
    "colab": {},
    "colab_type": "code",
    "executionInfo": {
     "elapsed": 554,
     "status": "ok",
     "timestamp": 1599369444362,
     "user": {
      "displayName": "George Batchkala",
      "photoUrl": "",
      "userId": "17039292136363863281"
     },
     "user_tz": -180
    },
    "id": "920aWd5cYMiQ"
   },
   "outputs": [
    {
     "data": {
      "text/html": [
       "<div>\n",
       "<style scoped>\n",
       "    .dataframe tbody tr th:only-of-type {\n",
       "        vertical-align: middle;\n",
       "    }\n",
       "\n",
       "    .dataframe tbody tr th {\n",
       "        vertical-align: top;\n",
       "    }\n",
       "\n",
       "    .dataframe thead th {\n",
       "        text-align: right;\n",
       "    }\n",
       "</style>\n",
       "<table border=\"1\" class=\"dataframe\">\n",
       "  <thead>\n",
       "    <tr style=\"text-align: right;\">\n",
       "      <th></th>\n",
       "      <th>y_test</th>\n",
       "      <th>y_test_pred</th>\n",
       "      <th>y_test_std</th>\n",
       "      <th>lower</th>\n",
       "      <th>upper</th>\n",
       "      <th>sq_error</th>\n",
       "      <th>cumul_sq_error</th>\n",
       "      <th>cumul_mse</th>\n",
       "      <th>cumul_rmse</th>\n",
       "    </tr>\n",
       "  </thead>\n",
       "  <tbody>\n",
       "    <tr>\n",
       "      <th>99</th>\n",
       "      <td>-0.410</td>\n",
       "      <td>-1.304002</td>\n",
       "      <td>0.356981</td>\n",
       "      <td>-2.003684</td>\n",
       "      <td>-0.604319</td>\n",
       "      <td>0.799239</td>\n",
       "      <td>0.799239</td>\n",
       "      <td>0.799239</td>\n",
       "      <td>0.894002</td>\n",
       "    </tr>\n",
       "    <tr>\n",
       "      <th>120</th>\n",
       "      <td>-2.850</td>\n",
       "      <td>-2.897603</td>\n",
       "      <td>0.488225</td>\n",
       "      <td>-3.854524</td>\n",
       "      <td>-1.940683</td>\n",
       "      <td>0.002266</td>\n",
       "      <td>0.801505</td>\n",
       "      <td>0.400753</td>\n",
       "      <td>0.633050</td>\n",
       "    </tr>\n",
       "    <tr>\n",
       "      <th>113</th>\n",
       "      <td>-1.940</td>\n",
       "      <td>-3.100696</td>\n",
       "      <td>0.497667</td>\n",
       "      <td>-4.076122</td>\n",
       "      <td>-2.125269</td>\n",
       "      <td>1.347214</td>\n",
       "      <td>2.148719</td>\n",
       "      <td>0.716240</td>\n",
       "      <td>0.846309</td>\n",
       "    </tr>\n",
       "    <tr>\n",
       "      <th>74</th>\n",
       "      <td>-2.878</td>\n",
       "      <td>-2.620083</td>\n",
       "      <td>0.500036</td>\n",
       "      <td>-3.600155</td>\n",
       "      <td>-1.640012</td>\n",
       "      <td>0.066521</td>\n",
       "      <td>2.215240</td>\n",
       "      <td>0.553810</td>\n",
       "      <td>0.744184</td>\n",
       "    </tr>\n",
       "    <tr>\n",
       "      <th>131</th>\n",
       "      <td>-2.356</td>\n",
       "      <td>-2.473441</td>\n",
       "      <td>0.501295</td>\n",
       "      <td>-3.455979</td>\n",
       "      <td>-1.490903</td>\n",
       "      <td>0.013792</td>\n",
       "      <td>2.229033</td>\n",
       "      <td>0.445807</td>\n",
       "      <td>0.667687</td>\n",
       "    </tr>\n",
       "    <tr>\n",
       "      <th>...</th>\n",
       "      <td>...</td>\n",
       "      <td>...</td>\n",
       "      <td>...</td>\n",
       "      <td>...</td>\n",
       "      <td>...</td>\n",
       "      <td>...</td>\n",
       "      <td>...</td>\n",
       "      <td>...</td>\n",
       "      <td>...</td>\n",
       "    </tr>\n",
       "    <tr>\n",
       "      <th>219</th>\n",
       "      <td>-8.230</td>\n",
       "      <td>-8.020025</td>\n",
       "      <td>2.289597</td>\n",
       "      <td>-12.507635</td>\n",
       "      <td>-3.532415</td>\n",
       "      <td>0.044090</td>\n",
       "      <td>113.782040</td>\n",
       "      <td>0.512532</td>\n",
       "      <td>0.715913</td>\n",
       "    </tr>\n",
       "    <tr>\n",
       "      <th>188</th>\n",
       "      <td>-7.870</td>\n",
       "      <td>-8.370993</td>\n",
       "      <td>2.392667</td>\n",
       "      <td>-13.060621</td>\n",
       "      <td>-3.681366</td>\n",
       "      <td>0.250994</td>\n",
       "      <td>114.033035</td>\n",
       "      <td>0.511359</td>\n",
       "      <td>0.715094</td>\n",
       "    </tr>\n",
       "    <tr>\n",
       "      <th>8</th>\n",
       "      <td>-7.660</td>\n",
       "      <td>-8.283503</td>\n",
       "      <td>2.420512</td>\n",
       "      <td>-13.027706</td>\n",
       "      <td>-3.539301</td>\n",
       "      <td>0.388756</td>\n",
       "      <td>114.421791</td>\n",
       "      <td>0.510812</td>\n",
       "      <td>0.714711</td>\n",
       "    </tr>\n",
       "    <tr>\n",
       "      <th>156</th>\n",
       "      <td>-8.804</td>\n",
       "      <td>-8.417430</td>\n",
       "      <td>2.478480</td>\n",
       "      <td>-13.275250</td>\n",
       "      <td>-3.559610</td>\n",
       "      <td>0.149436</td>\n",
       "      <td>114.571227</td>\n",
       "      <td>0.509205</td>\n",
       "      <td>0.713586</td>\n",
       "    </tr>\n",
       "    <tr>\n",
       "      <th>44</th>\n",
       "      <td>-7.800</td>\n",
       "      <td>-8.395155</td>\n",
       "      <td>2.483487</td>\n",
       "      <td>-13.262790</td>\n",
       "      <td>-3.527520</td>\n",
       "      <td>0.354209</td>\n",
       "      <td>114.925437</td>\n",
       "      <td>0.508520</td>\n",
       "      <td>0.713106</td>\n",
       "    </tr>\n",
       "  </tbody>\n",
       "</table>\n",
       "<p>226 rows × 9 columns</p>\n",
       "</div>"
      ],
      "text/plain": [
       "     y_test  y_test_pred  y_test_std      lower     upper  sq_error  \\\n",
       "99   -0.410    -1.304002    0.356981  -2.003684 -0.604319  0.799239   \n",
       "120  -2.850    -2.897603    0.488225  -3.854524 -1.940683  0.002266   \n",
       "113  -1.940    -3.100696    0.497667  -4.076122 -2.125269  1.347214   \n",
       "74   -2.878    -2.620083    0.500036  -3.600155 -1.640012  0.066521   \n",
       "131  -2.356    -2.473441    0.501295  -3.455979 -1.490903  0.013792   \n",
       "..      ...          ...         ...        ...       ...       ...   \n",
       "219  -8.230    -8.020025    2.289597 -12.507635 -3.532415  0.044090   \n",
       "188  -7.870    -8.370993    2.392667 -13.060621 -3.681366  0.250994   \n",
       "8    -7.660    -8.283503    2.420512 -13.027706 -3.539301  0.388756   \n",
       "156  -8.804    -8.417430    2.478480 -13.275250 -3.559610  0.149436   \n",
       "44   -7.800    -8.395155    2.483487 -13.262790 -3.527520  0.354209   \n",
       "\n",
       "     cumul_sq_error  cumul_mse  cumul_rmse  \n",
       "99         0.799239   0.799239    0.894002  \n",
       "120        0.801505   0.400753    0.633050  \n",
       "113        2.148719   0.716240    0.846309  \n",
       "74         2.215240   0.553810    0.744184  \n",
       "131        2.229033   0.445807    0.667687  \n",
       "..              ...        ...         ...  \n",
       "219      113.782040   0.512532    0.715913  \n",
       "188      114.033035   0.511359    0.715094  \n",
       "8        114.421791   0.510812    0.714711  \n",
       "156      114.571227   0.509205    0.713586  \n",
       "44       114.925437   0.508520    0.713106  \n",
       "\n",
       "[226 rows x 9 columns]"
      ]
     },
     "metadata": {},
     "output_type": "display_data"
    }
   ],
   "source": [
    "CIs_df = pd.DataFrame(\n",
    "    {'y_test': y_test,\n",
    "     'y_test_pred': y_test_pred,\n",
    "     'y_test_std': y_test_std,\n",
    "     'lower': lower,\n",
    "     'upper': upper,\n",
    "     'sq_error': (y_test - y_test_pred) ** 2\n",
    "     }\n",
    ")\n",
    "CIs_df = CIs_df.sort_values(by='y_test_std', ascending=True)\n",
    "CIs_df['cumul_sq_error'] = CIs_df['sq_error'].cumsum()\n",
    "CIs_df['cumul_mse'] = CIs_df['cumul_sq_error'].values / np.arange(1, CIs_df.shape[0]+1)\n",
    "CIs_df['cumul_rmse'] = np.sqrt(CIs_df['cumul_mse'])\n",
    "display(CIs_df)"
   ]
  },
  {
   "cell_type": "code",
   "execution_count": 27,
   "metadata": {},
   "outputs": [],
   "source": [
    "# checking that calculating rmse each time separately would be the same\n",
    "CIs_df = CIs_df.sort_values(by='y_test_std', ascending=True)\n",
    "\n",
    "\n",
    "calculation_match = []\n",
    "for i in range(CIs_df.shape[0]):\n",
    "    a = CIs_df.y_test[:i+1]\n",
    "    b = CIs_df.y_test_pred[:i+1]\n",
    "    \n",
    "    calculation_match.append(np.abs(mean_squared_error(a, b, squared=False) - CIs_df.cumul_rmse.iloc[i]) < 1e-8)\n",
    "    \n",
    "# if returns true - it is the same\n",
    "assert np.all(calculation_match) "
   ]
  },
  {
   "cell_type": "markdown",
   "metadata": {
    "colab_type": "text",
    "id": "EetjBHkh_Ptb"
   },
   "source": [
    "## Plot test observations with sdt values as colours"
   ]
  },
  {
   "cell_type": "code",
   "execution_count": 48,
   "metadata": {},
   "outputs": [
    {
     "data": {
      "image/png": "[encoded data removed]",
      "text/plain": [
       "<Figure size 288x288 with 2 Axes>"
      ]
     },
     "metadata": {},
     "output_type": "display_data"
    }
   ],
   "source": [
    "# sort values used for x axis\n",
    "CIs_df = CIs_df.sort_values(by='y_test')\n",
    "\n",
    "# Plot error bars for predicted quantity using unbiased variance\n",
    "plt.figure(figsize=FIGSIZE_CI)\n",
    "\n",
    "plt.plot([np.min(y_test), np.max(y_test)], [np.min(y_test), np.max(y_test)], 'k--', label='perfect prediction')\n",
    "plt.scatter(x=CIs_df.y_test, y=CIs_df.y_test_pred, c=CIs_df.y_test_std, s=100, label='test data points')\n",
    "\n",
    "plt.xlabel(f'Measured {datasets_to_units[dataset]}')\n",
    "plt.ylabel(f'Predicted {datasets_to_units[dataset]}')\n",
    "plt.title(f'{models_to_title_additions[model]}')\n",
    "\n",
    "# add colourbar and legend\n",
    "plt.colorbar(label=f'estimated st.d. {datasets_to_units[dataset]}')\n",
    "plt.legend()\n",
    "\n",
    "plt.savefig(f'{PLOTS_DIR}/ci_plots/predicted_vs_measured_scatter_colour_conf_{dataset}_{cf}_{model}.png', dpi=DPI, bbox_inches='tight')\n",
    "plt.show()"
   ]
  },
  {
   "cell_type": "markdown",
   "metadata": {},
   "source": [
    "## Plot sq^error vs std"
   ]
  },
  {
   "cell_type": "code",
   "execution_count": 29,
   "metadata": {},
   "outputs": [
    {
     "data": {
      "image/png": "[encoded data removed]",
      "text/plain": [
       "<Figure size 288x288 with 1 Axes>"
      ]
     },
     "metadata": {},
     "output_type": "display_data"
    }
   ],
   "source": [
    "# sort values used for x axis\n",
    "CIs_df = CIs_df.sort_values(by='y_test_std')\n",
    "\n",
    "# Plot error bars for predicted quantity using unbiased variance\n",
    "plt.figure(figsize=FIGSIZE_CI)\n",
    "\n",
    "#plt.plot([np.min(y_test), np.max(y_test)], [np.min(y_test), np.max(y_test)], 'k--', label='perfect prediction')\n",
    "plt.scatter(x=CIs_df.y_test_std, y=CIs_df.sq_error)\n",
    "\n",
    "\n",
    "plt.xlabel(f'Estimated standard error {datasets_to_units[dataset]}')\n",
    "plt.ylabel(f'Squared error {datasets_to_units[dataset]}')\n",
    "# plt.title(f'{datasets_to_titles[dataset]}')\n",
    "\n",
    "# # add colourbar and legend\n",
    "# plt.colorbar()\n",
    "# plt.legend()\n",
    "\n",
    "#plt.savefig(f'{PLOTS_DIR}/pubs_units_values.png', bbox_inches='tight')\n",
    "plt.show()"
   ]
  },
  {
   "cell_type": "markdown",
   "metadata": {
    "colab_type": "text",
    "id": "_ccuuy4I_Pth"
   },
   "source": [
    "## Plot 95% confidence intervals"
   ]
  },
  {
   "cell_type": "code",
   "execution_count": 30,
   "metadata": {
    "colab": {
     "base_uri": "https://localhost:8080/",
     "height": 441
    },
    "colab_type": "code",
    "executionInfo": {
     "elapsed": 970,
     "status": "ok",
     "timestamp": 1599369450276,
     "user": {
      "displayName": "George Batchkala",
      "photoUrl": "",
      "userId": "17039292136363863281"
     },
     "user_tz": -180
    },
    "id": "cpgd53nspyIa",
    "outputId": "08048f48-aec6-4755-9a10-6220bb978e7d"
   },
   "outputs": [
    {
     "data": {
      "image/png": "[encoded data removed]",
      "text/plain": [
       "<Figure size 288x288 with 1 Axes>"
      ]
     },
     "metadata": {},
     "output_type": "display_data"
    }
   ],
   "source": [
    "# sort values used for x axis\n",
    "CIs_df = CIs_df.sort_values(by='y_test')\n",
    "\n",
    "fig, ax = plt.subplots(1, figsize=FIGSIZE_CI)\n",
    "\n",
    "# ax.set_aspect('equal')\n",
    "\n",
    "ax.plot([np.min(y_test), np.max(y_test)], [np.min(y_test), np.max(y_test)], 'k--', label='perfect prediction')\n",
    "\n",
    "ax.plot(CIs_df.y_test, CIs_df.lower, linewidth=1, linestyle='--', label='lower confidence bound')\n",
    "ax.plot(CIs_df.y_test, CIs_df.upper, linewidth=1, linestyle='--', label='upper confidence bound')\n",
    "ax.fill_between(CIs_df.y_test, CIs_df.upper, CIs_df.lower, facecolor='blue', alpha=0.2)\n",
    "\n",
    "\n",
    "\n",
    "\n",
    "ax.set_title(f'{datasets_to_titles[dataset]}')\n",
    "ax.set_xlabel(f'Measured {datasets_to_units[dataset]}')\n",
    "ax.set_ylabel(f'Predicted {datasets_to_units[dataset]}')\n",
    "\n",
    "ax.legend(loc='upper left')\n",
    "\n",
    "#plt.savefig(f'{PLOTS_DIR}/ci_plots/predicted_vs_measured_with_ci_bounds_{dataset}_{cf}_{model}.png', dpi=DPI, bbox_inches='tight')\n",
    "plt.show()"
   ]
  },
  {
   "cell_type": "markdown",
   "metadata": {
    "colab_type": "text",
    "id": "fkOsQTGu_Ptp"
   },
   "source": [
    "## Calculate the proportion of measured values in test set within 95% CIs"
   ]
  },
  {
   "cell_type": "code",
   "execution_count": 31,
   "metadata": {
    "colab": {
     "base_uri": "https://localhost:8080/",
     "height": 221
    },
    "colab_type": "code",
    "executionInfo": {
     "elapsed": 579,
     "status": "ok",
     "timestamp": 1599369452924,
     "user": {
      "displayName": "George Batchkala",
      "photoUrl": "",
      "userId": "17039292136363863281"
     },
     "user_tz": -180
    },
    "id": "aZIgKoxLOA-p",
    "outputId": "8b369c63-d466-4717-c195-36989bb8c229"
   },
   "outputs": [
    {
     "data": {
      "text/plain": [
       "0.9380530973451328"
      ]
     },
     "execution_count": 31,
     "metadata": {},
     "output_type": "execute_result"
    }
   ],
   "source": [
    "within_cis = (CIs_df.lower <= CIs_df.y_test) & (CIs_df.y_test <= CIs_df.upper)\n",
    "within_cis.sum() / len(within_cis)"
   ]
  },
  {
   "cell_type": "markdown",
   "metadata": {
    "colab": {
     "base_uri": "https://localhost:8080/",
     "height": 34
    },
    "colab_type": "code",
    "executionInfo": {
     "elapsed": 558,
     "status": "ok",
     "timestamp": 1599369454940,
     "user": {
      "displayName": "George Batchkala",
      "photoUrl": "",
      "userId": "17039292136363863281"
     },
     "user_tz": -180
    },
    "id": "xn5N35d9oyKp",
    "outputId": "e39450e9-979f-43fc-e10d-dca42f01f4b3"
   },
   "source": [
    "## Confidence plots (RMSE vs Prcentile)"
   ]
  },
  {
   "cell_type": "code",
   "execution_count": 49,
   "metadata": {
    "colab": {
     "base_uri": "https://localhost:8080/",
     "height": 34
    },
    "colab_type": "code",
    "executionInfo": {
     "elapsed": 537,
     "status": "ok",
     "timestamp": 1599369442681,
     "user": {
      "displayName": "George Batchkala",
      "photoUrl": "",
      "userId": "17039292136363863281"
     },
     "user_tz": -180
    },
    "id": "Ubu7AXP6FxHU",
    "outputId": "3198590e-bcec-42d3-d275-0c6076033c81"
   },
   "outputs": [
    {
     "data": {
      "image/png": "[encoded data removed]",
      "text/plain": [
       "<Figure size 288x288 with 1 Axes>"
      ]
     },
     "metadata": {},
     "output_type": "display_data"
    }
   ],
   "source": [
    "# sort values used for x axis\n",
    "CIs_df = CIs_df.sort_values(by='y_test_std', ascending=True)\n",
    "\n",
    "# set size\n",
    "plt.figure(figsize=FIGSIZE_CI)\n",
    "\n",
    "confidence_percentiles = np.arange(1e-14, 100, 100/len(y_test))\n",
    "flipped_cumul_rmse = CIs_df['cumul_rmse'].values[::-1]\n",
    "\n",
    "\n",
    "plt.plot(confidence_percentiles, flipped_cumul_rmse)\n",
    "plt.title(f'{models_to_title_additions[model]}')\n",
    "plt.xlabel('Confidence percentile')\n",
    "plt.ylabel(f'RMSE {datasets_to_units[dataset]}')\n",
    "\n",
    "\n",
    "plt.savefig(f'{PLOTS_DIR}/ci_plots/cumulrmse_vs_confidence_one_run_{dataset}_{cf}_{model}.png', dpi=DPI, bbox_inches='tight')\n",
    "plt.show()"
   ]
  },
  {
   "cell_type": "code",
   "execution_count": 33,
   "metadata": {},
   "outputs": [
    {
     "data": {
      "text/plain": [
       "(0.7133085162217205, 1.955505395598028e-36)"
      ]
     },
     "execution_count": 33,
     "metadata": {},
     "output_type": "execute_result"
    }
   ],
   "source": [
    "corr, p_value = pearsonr(confidence_percentiles, flipped_cumul_rmse)\n",
    "corr, p_value"
   ]
  },
  {
   "cell_type": "markdown",
   "metadata": {
    "colab_type": "text",
    "id": "dyMFpUthnFTG"
   },
   "source": [
    "# Multiple runs"
   ]
  },
  {
   "cell_type": "code",
   "execution_count": 34,
   "metadata": {},
   "outputs": [],
   "source": [
    "dataset_to_num_cis = {\n",
    "    'freesolv': 50,\n",
    "    'esol': 30,\n",
    "    'lipophilicity': 10\n",
    "}"
   ]
  },
  {
   "cell_type": "code",
   "execution_count": 35,
   "metadata": {},
   "outputs": [
    {
     "data": {
      "text/plain": [
       "30"
      ]
     },
     "execution_count": 35,
     "metadata": {},
     "output_type": "execute_result"
    }
   ],
   "source": [
    "dataset_to_num_cis[dataset]"
   ]
  },
  {
   "cell_type": "code",
   "execution_count": 36,
   "metadata": {
    "colab": {},
    "colab_type": "code",
    "executionInfo": {
     "elapsed": 815516,
     "status": "ok",
     "timestamp": 1599370274333,
     "user": {
      "displayName": "George Batchkala",
      "photoUrl": "",
      "userId": "17039292136363863281"
     },
     "user_tz": -180
    },
    "id": "Y9gls6mP0Gl4"
   },
   "outputs": [
    {
     "name": "stdout",
     "output_type": "stream",
     "text": [
      "Done\n"
     ]
    }
   ],
   "source": [
    "rmse_mult_runs = []\n",
    "within_95_cis_mult_runs = []\n",
    "cumulrmse_vs_percentile_corr_mult_runs = []\n",
    "\n",
    "flipped_cumulrmse_mult_runs = []\n",
    "\n",
    "for i in range(dataset_to_num_cis[dataset]):\n",
    "    \n",
    "    # get data\n",
    "    y_test = df_true.iloc[:, i]\n",
    "    y_test_pred = df_pred.iloc[:, i]\n",
    "    y_test_std = df_std.iloc[:, i]\n",
    "    \n",
    "    # calculate and record rmse\n",
    "    rmse_mult_runs.append(mean_squared_error(y_true=y_test, y_pred=y_test_pred, squared=False))\n",
    "    \n",
    "    # calculate upper and lower 95% conf bounds\n",
    "    upper = y_test_pred + 1.96 * y_test_std\n",
    "    lower = y_test_pred - 1.96 * y_test_std\n",
    "    \n",
    "    # calculate and record proportion of true values within 95% CI from prediction\n",
    "    within_cis = (lower <= y_test) & (y_test <= upper)\n",
    "    within_cis_proportion = within_cis.sum() / len(within_cis)\n",
    "    within_95_cis_mult_runs.append(within_cis_proportion)\n",
    "    \n",
    "    # create a dataframe to be able to sort things easily\n",
    "    CIs_df = pd.DataFrame(\n",
    "        {'y_test': y_test,\n",
    "         'y_test_pred': y_test_pred,\n",
    "         'y_test_std': y_test_std,\n",
    "         'lower': lower,\n",
    "         'upper': upper,\n",
    "         'sq_error': (y_test - y_test_pred) ** 2\n",
    "        }\n",
    "    )\n",
    "    \n",
    "    # create cumulative rmse column\n",
    "    CIs_df = CIs_df.sort_values(by='y_test_std', ascending=True)\n",
    "    CIs_df['cumul_sq_error'] = CIs_df['sq_error'].cumsum()\n",
    "    CIs_df['cumul_mse'] = CIs_df['cumul_sq_error'].values / np.arange(1, CIs_df.shape[0]+1)\n",
    "    CIs_df['cumul_rmse'] = np.sqrt(CIs_df['cumul_mse'])\n",
    "    \n",
    "    # record confidence percentiles and flip cumulative rmses\n",
    "    confidence_percentiles = np.arange(1e-14, 100, 100/len(y_test))\n",
    "    flipped_cumul_rmse = CIs_df['cumul_rmse'].values[::-1]\n",
    "    \n",
    "    # record flipped cumulative rmse\n",
    "    flipped_cumulrmse_mult_runs.append(flipped_cumul_rmse)\n",
    "    \n",
    "    # record correlation between cumulative rmse and confidence percentile\n",
    "    cumulrmse_vs_percentile_corr_mult_runs.append(pearsonr(confidence_percentiles, flipped_cumul_rmse)[0])\n",
    "\n",
    "print('Done')"
   ]
  },
  {
   "cell_type": "markdown",
   "metadata": {},
   "source": [
    "# Important metrics (corr, rmse, within_95)"
   ]
  },
  {
   "cell_type": "code",
   "execution_count": 37,
   "metadata": {},
   "outputs": [
    {
     "data": {
      "text/plain": [
       "('esol', 'full', 'rf')"
      ]
     },
     "execution_count": 37,
     "metadata": {},
     "output_type": "execute_result"
    }
   ],
   "source": [
    "dataset, cf, model"
   ]
  },
  {
   "cell_type": "markdown",
   "metadata": {},
   "source": [
    "## Correlation"
   ]
  },
  {
   "cell_type": "code",
   "execution_count": 38,
   "metadata": {
    "colab": {},
    "colab_type": "code",
    "id": "h1sXVpJKnFTN"
   },
   "outputs": [],
   "source": [
    "#cumulrmse_vs_percentile_corr_mult_runs"
   ]
  },
  {
   "cell_type": "code",
   "execution_count": 39,
   "metadata": {
    "colab": {},
    "colab_type": "code",
    "executionInfo": {
     "elapsed": 2656,
     "status": "ok",
     "timestamp": 1599358918465,
     "user": {
      "displayName": "George Batchkala",
      "photoUrl": "",
      "userId": "17039292136363863281"
     },
     "user_tz": -180
    },
    "id": "Oc2Tqd6snFTQ"
   },
   "outputs": [
    {
     "data": {
      "text/plain": [
       "(-0.04, 0.475)"
      ]
     },
     "execution_count": 39,
     "metadata": {},
     "output_type": "execute_result"
    }
   ],
   "source": [
    "np.mean(cumulrmse_vs_percentile_corr_mult_runs).round(3), np.std(cumulrmse_vs_percentile_corr_mult_runs).round(3)"
   ]
  },
  {
   "cell_type": "markdown",
   "metadata": {},
   "source": [
    "## RMSE"
   ]
  },
  {
   "cell_type": "code",
   "execution_count": 40,
   "metadata": {
    "colab": {},
    "colab_type": "code",
    "executionInfo": {
     "elapsed": 814347,
     "status": "ok",
     "timestamp": 1599370274334,
     "user": {
      "displayName": "George Batchkala",
      "photoUrl": "",
      "userId": "17039292136363863281"
     },
     "user_tz": -180
    },
    "id": "gRnk3OYHnFS_"
   },
   "outputs": [],
   "source": [
    "#rmse_mult_runs"
   ]
  },
  {
   "cell_type": "code",
   "execution_count": 41,
   "metadata": {},
   "outputs": [
    {
     "data": {
      "text/plain": [
       "(0.638, 0.041)"
      ]
     },
     "execution_count": 41,
     "metadata": {},
     "output_type": "execute_result"
    }
   ],
   "source": [
    "np.mean(rmse_mult_runs).round(3), np.std(rmse_mult_runs).round(3)"
   ]
  },
  {
   "cell_type": "markdown",
   "metadata": {},
   "source": [
    "## Within 95% CIs"
   ]
  },
  {
   "cell_type": "code",
   "execution_count": 42,
   "metadata": {
    "colab": {},
    "colab_type": "code",
    "executionInfo": {
     "elapsed": 814026,
     "status": "ok",
     "timestamp": 1599370274336,
     "user": {
      "displayName": "George Batchkala",
      "photoUrl": "",
      "userId": "17039292136363863281"
     },
     "user_tz": -180
    },
    "id": "-4e1uVb7nFTB"
   },
   "outputs": [],
   "source": [
    "#within_95_cis_mult_runs"
   ]
  },
  {
   "cell_type": "code",
   "execution_count": 43,
   "metadata": {},
   "outputs": [
    {
     "data": {
      "text/plain": [
       "(0.968, 0.02)"
      ]
     },
     "execution_count": 43,
     "metadata": {},
     "output_type": "execute_result"
    }
   ],
   "source": [
    "np.mean(within_95_cis_mult_runs).round(3), np.std(within_95_cis_mult_runs).round(3)"
   ]
  },
  {
   "cell_type": "markdown",
   "metadata": {},
   "source": [
    "# Separate plots (do not save)"
   ]
  },
  {
   "cell_type": "code",
   "execution_count": 44,
   "metadata": {},
   "outputs": [
    {
     "data": {
      "image/png": "[encoded data removed]",
      "text/plain": [
       "<Figure size 576x288 with 1 Axes>"
      ]
     },
     "metadata": {},
     "output_type": "display_data"
    }
   ],
   "source": [
    "# set size\n",
    "plt.figure(figsize=FIGSIZE_HEATMAP)\n",
    "\n",
    "for flipped_cumul_rmse in flipped_cumulrmse_mult_runs:\n",
    "    plt.plot(confidence_percentiles, flipped_cumul_rmse, linewidth=1)\n",
    "\n",
    "plt.title(f'{datasets_to_titles[dataset]}. {models_to_title_additions[model]}.')\n",
    "plt.xlabel('Confidence percentile')\n",
    "plt.ylabel(f'RMSE {datasets_to_units[dataset]}')\n",
    "\n",
    "\n",
    "#plt.savefig(f'{PLOTS_DIR}/ci_plots/cumulrmse_vs_confidence_mult_run_{dataset}_{cf}_{model}.png', dpi=DPI, bbox_inches='tight')\n",
    "plt.show()"
   ]
  },
  {
   "cell_type": "markdown",
   "metadata": {},
   "source": [
    "# Calculations for Confidence Plot"
   ]
  },
  {
   "cell_type": "code",
   "execution_count": 45,
   "metadata": {
    "colab": {},
    "colab_type": "code",
    "id": "1TkWwDInnFTT"
   },
   "outputs": [],
   "source": [
    "#print(np.array(flipped_cumulrmse_mult_runs).shape)\n",
    "#print(np.array(flipped_cumulrmse_mult_runs).std(axis=0).shape)\n",
    "#print(np.array(flipped_cumulrmse_mult_runs).mean(axis=0).shape)\n",
    "\n",
    "flipped_cumulrmse_mean = np.array(flipped_cumulrmse_mult_runs).mean(axis=0)\n",
    "flipped_cumulrmse_sdt = np.array(flipped_cumulrmse_mult_runs).mean(axis=0)\n",
    "\n",
    "flipped_cumulrmse_lower = flipped_cumulrmse_mean - 1.96*flipped_cumulrmse_sdt\n",
    "flipped_cumulrmse_upper = flipped_cumulrmse_mean + 1.96*flipped_cumulrmse_sdt"
   ]
  },
  {
   "cell_type": "code",
   "execution_count": 46,
   "metadata": {
    "colab": {},
    "colab_type": "code",
    "id": "8nSzBZlUnFTV"
   },
   "outputs": [
    {
     "data": {
      "image/png": "[encoded data removed]",
      "text/plain": [
       "<Figure size 576x288 with 1 Axes>"
      ]
     },
     "metadata": {},
     "output_type": "display_data"
    }
   ],
   "source": [
    "# set size\n",
    "plt.figure(figsize=FIGSIZE_HEATMAP)\n",
    "\n",
    "plt.plot(confidence_percentiles, flipped_cumulrmse_mean, label=f'mean {metric}')\n",
    "plt.plot(confidence_percentiles, flipped_cumulrmse_lower, label=f'lower 95% CI bound')\n",
    "plt.plot(confidence_percentiles, flipped_cumulrmse_upper, label=f'upper 95% CI bound')\n",
    "plt.fill_between(confidence_percentiles, flipped_cumulrmse_upper, flipped_cumulrmse_lower, facecolor='blue', alpha=0.2)\n",
    "\n",
    "plt.legend(loc='upper center')\n",
    "\n",
    "plt.title(f'{datasets_to_titles[dataset]}. {models_to_title_additions[model]}.')\n",
    "plt.xlabel('Confidence percentile')\n",
    "plt.ylabel(f'RMSE {datasets_to_units[dataset]}')\n",
    "\n",
    "#plt.savefig(f'{PLOTS_DIR}/ci_plots/cumulrmse_vs_confidence_with_ci_bounds_{dataset}_{cf}_{model}.png', dpi=DPI, bbox_inches='tight')\n",
    "plt.show()"
   ]
  },
  {
   "cell_type": "markdown",
   "metadata": {},
   "source": [
    "### Together"
   ]
  },
  {
   "cell_type": "code",
   "execution_count": 47,
   "metadata": {
    "colab": {},
    "colab_type": "code",
    "id": "TaJxLDSvnFTa"
   },
   "outputs": [
    {
     "data": {
      "image/png": "[encoded data removed]",
      "text/plain": [
       "<Figure size 576x576 with 2 Axes>"
      ]
     },
     "metadata": {},
     "output_type": "display_data"
    }
   ],
   "source": [
    "# Create two subplots and unpack the output array immediately\n",
    "f, (ax1, ax2) = plt.subplots(2, 1, figsize=(8, 8)) #, sharey=True\n",
    "\n",
    "for flipped_cumul_rmse in flipped_cumulrmse_mult_runs:\n",
    "    ax1.plot(confidence_percentiles, flipped_cumul_rmse, linewidth=1)\n",
    "\n",
    "ax1.set_title(f'{datasets_to_titles[dataset]}. {models_to_title_additions[model]}.')\n",
    "#ax1.set_xlabel('Confidence percentile')\n",
    "ax1.set_ylabel(f'RMSE {datasets_to_units[dataset]}')\n",
    "\n",
    "\n",
    "ax2.plot(confidence_percentiles, flipped_cumulrmse_mean, label=f'mean {metric}')\n",
    "ax2.plot(confidence_percentiles, flipped_cumulrmse_lower, label=f'lower 95% CI bound')\n",
    "ax2.plot(confidence_percentiles, flipped_cumulrmse_upper, label=f'upper 95% CI bound')\n",
    "ax2.fill_between(confidence_percentiles, flipped_cumulrmse_upper, flipped_cumulrmse_lower, facecolor='blue', alpha=0.2)\n",
    "\n",
    "ax2.legend(loc='upper center')\n",
    "\n",
    "#ax2.set_title(datasets_to_titles[dataset])\n",
    "ax2.set_xlabel('Confidence percentile')\n",
    "ax2.set_ylabel(f'RMSE {datasets_to_units[dataset]}')\n",
    "\n",
    "plt.savefig(f'{PLOTS_DIR}/ci_plots/cumulrmse_vs_confidence_multiple_runs_both_{dataset}_{cf}_{model}.png', dpi=DPI, bbox_inches='tight')\n",
    "plt.show()"
   ]
  },
  {
   "cell_type": "code",
   "execution_count": null,
   "metadata": {},
   "outputs": [],
   "source": []
  },
  {
   "cell_type": "code",
   "execution_count": null,
   "metadata": {},
   "outputs": [],
   "source": []
  }
 ],
 "metadata": {
  "colab": {
   "collapsed_sections": [],
   "name": "colab_extended_ci_rf_and_gp_saving_results.ipynb",
   "provenance": [],
   "toc_visible": true
  },
  "kernelspec": {
   "display_name": "Python [conda env:batch-msc] *",
   "language": "python",
   "name": "conda-env-batch-msc-py"
  },
  "language_info": {
   "codemirror_mode": {
    "name": "ipython",
    "version": 3
   },
   "file_extension": ".py",
   "mimetype": "text/x-python",
   "name": "python",
   "nbconvert_exporter": "python",
   "pygments_lexer": "ipython3",
   "version": "3.6.10"
  }
 },
 "nbformat": 4,
 "nbformat_minor": 1
}
