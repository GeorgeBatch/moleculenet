{
 "cells": [
  {
   "cell_type": "markdown",
   "metadata": {
    "colab_type": "text",
    "id": "iwDYlLl8rOL4"
   },
   "source": [
    "# About"
   ]
  },
  {
   "cell_type": "markdown",
   "metadata": {},
   "source": [
    "Here we prepare, plot (and save) the results for CI plots, which were obtained in:\n",
    "- `colab_extended_ci_rf_and_gp_saving_results.ipnb`\n",
    "\n",
    "The notebook includes both one-run and multiple-runs CIs plots"
   ]
  },
  {
   "cell_type": "code",
   "execution_count": null,
   "metadata": {},
   "outputs": [],
   "source": []
  },
  {
   "cell_type": "code",
   "execution_count": 1,
   "metadata": {
    "colab": {
     "base_uri": "https://localhost:8080/",
     "height": 187
    },
    "colab_type": "code",
    "executionInfo": {
     "elapsed": 1132,
     "status": "ok",
     "timestamp": 1599367180747,
     "user": {
      "displayName": "George Batchkala",
      "photoUrl": "",
      "userId": "17039292136363863281"
     },
     "user_tz": -180
    },
    "id": "KXdDhDGgeIeq",
    "outputId": "ac29522b-b410-41be-c74b-3bb849f12683"
   },
   "outputs": [
    {
     "name": "stdout",
     "output_type": "stream",
     "text": [
      "all_plots.ipynb\r\n",
      "colab_extended_GPflow_pipeline.ipynb\r\n",
      "colab_extended_ci_rf_and_gp_saving_results.ipynb\r\n",
      "colab_extended_grid_search_pipeline.ipynb\r\n",
      "colab_reproducing_ci_gp.ipynb\r\n",
      "colab_reproducing_ci_rf.ipynb\r\n",
      "colab_reproducing_grid_search_pipeline.ipynb\r\n",
      "eda.ipynb\r\n",
      "prepare_and_plot_extended_ci_rf_and_gp_results.ipynb\r\n",
      "prepare_extended_grid_search_results.ipynb\r\n",
      "prepare_reproducing_grid_search_results.ipynb\r\n"
     ]
    }
   ],
   "source": [
    "%ls"
   ]
  },
  {
   "cell_type": "code",
   "execution_count": 2,
   "metadata": {
    "colab": {
     "base_uri": "https://localhost:8080/",
     "height": 442
    },
    "colab_type": "code",
    "executionInfo": {
     "elapsed": 1789,
     "status": "ok",
     "timestamp": 1599367191557,
     "user": {
      "displayName": "George Batchkala",
      "photoUrl": "",
      "userId": "17039292136363863281"
     },
     "user_tz": -180
    },
    "id": "pKc-Tl2jKRz3",
    "outputId": "53d49ad6-3349-41ed-c464-5342909ee43b"
   },
   "outputs": [
    {
     "name": "stdout",
     "output_type": "stream",
     "text": [
      "ESOL_README\r\n",
      "FreeSolv_README\r\n",
      "Lipo_README\r\n",
      "esol_original.csv\r\n",
      "esol_original_1024ecfp4_features.csv\r\n",
      "esol_original_1024ecfp6_features.csv\r\n",
      "esol_original_2048ecfp4_features.csv\r\n",
      "esol_original_2048ecfp6_features.csv\r\n",
      "esol_original_IdSmilesLabels.csv\r\n",
      "esol_original_extra_features.csv\r\n",
      "esol_original_rdkit_features.csv\r\n",
      "freesolv_original.csv\r\n",
      "freesolv_original_1024ecfp4_features.csv\r\n",
      "freesolv_original_1024ecfp6_features.csv\r\n",
      "freesolv_original_2048ecfp4_features.csv\r\n",
      "freesolv_original_2048ecfp6_features.csv\r\n",
      "freesolv_original_IdSmilesLabels.csv\r\n",
      "freesolv_original_rdkit_features.csv\r\n",
      "lipophilicity_original.csv\r\n",
      "lipophilicity_original_1024ecfp4_features.csv\r\n",
      "lipophilicity_original_1024ecfp6_features.csv\r\n",
      "lipophilicity_original_2048ecfp4_features.csv\r\n",
      "lipophilicity_original_2048ecfp6_features.csv\r\n",
      "lipophilicity_original_IdSmilesLabels.csv\r\n",
      "lipophilicity_original_rdkit_features.csv\r\n"
     ]
    }
   ],
   "source": [
    "%ls ../data/"
   ]
  },
  {
   "cell_type": "markdown",
   "metadata": {
    "colab_type": "text",
    "id": "cG9tpt04e0iN"
   },
   "source": [
    "## Import modules"
   ]
  },
  {
   "cell_type": "markdown",
   "metadata": {
    "colab_type": "text",
    "id": "D6wO2E_J6gM6"
   },
   "source": [
    "### Standard imports"
   ]
  },
  {
   "cell_type": "code",
   "execution_count": 3,
   "metadata": {
    "colab": {},
    "colab_type": "code",
    "executionInfo": {
     "elapsed": 1881,
     "status": "ok",
     "timestamp": 1599367193789,
     "user": {
      "displayName": "George Batchkala",
      "photoUrl": "",
      "userId": "17039292136363863281"
     },
     "user_tz": -180
    },
    "id": "sjl-QAB5e4I3"
   },
   "outputs": [],
   "source": [
    "import json\n",
    "import pickle\n",
    "\n",
    "import sys\n",
    "\n",
    "import numpy as np\n",
    "import pandas as pd\n",
    "import matplotlib.pyplot as plt\n",
    "import seaborn as sns"
   ]
  },
  {
   "cell_type": "code",
   "execution_count": 4,
   "metadata": {
    "colab": {
     "base_uri": "https://localhost:8080/",
     "height": 34
    },
    "colab_type": "code",
    "executionInfo": {
     "elapsed": 1241,
     "status": "ok",
     "timestamp": 1599367193790,
     "user": {
      "displayName": "George Batchkala",
      "photoUrl": "",
      "userId": "17039292136363863281"
     },
     "user_tz": -180
    },
    "id": "QhvLwBKDAsWr",
    "outputId": "846aa1c4-8927-4a57-ee17-7a51eb38eae1"
   },
   "outputs": [],
   "source": [
    "# metrics\n",
    "from scipy.stats import pearsonr\n",
    "from sklearn.metrics import r2_score\n",
    "from sklearn.metrics import mean_squared_error\n",
    "from sklearn.metrics import mean_absolute_error\n",
    "from sklearn.metrics import jaccard_score # Tanimoto"
   ]
  },
  {
   "cell_type": "markdown",
   "metadata": {
    "colab_type": "text",
    "id": "pCdK4Iwk6gND"
   },
   "source": [
    "### Custom imports"
   ]
  },
  {
   "cell_type": "code",
   "execution_count": 5,
   "metadata": {
    "colab": {},
    "colab_type": "code",
    "executionInfo": {
     "elapsed": 1395,
     "status": "ok",
     "timestamp": 1599367196515,
     "user": {
      "displayName": "George Batchkala",
      "photoUrl": "",
      "userId": "17039292136363863281"
     },
     "user_tz": -180
    },
    "id": "gllhJNPK6gNE"
   },
   "outputs": [],
   "source": [
    "sys.path.insert(0, '..')\n",
    "\n",
    "# plotting\n",
    "from util_scripts.plotting_functions_and_vars import FIGSIZE_CI, FIGSIZE_HEATMAP, DPI, PLOTS_DIR\n",
    "from util_scripts.plotting_functions_and_vars import datasets_to_titles, datasets_to_units, metrics_to_labels\n",
    "from util_scripts.plotting_functions_and_vars import plot_algorithm_dataset_comparison_heatmap\n",
    "\n",
    "\n",
    "from util_scripts.plotting_functions_and_vars import datasets_to_rounding_precision\n",
    "\n",
    "sys.path.insert(0, './notebooks')"
   ]
  },
  {
   "cell_type": "markdown",
   "metadata": {
    "colab_type": "text",
    "id": "daKbVAugrOMs"
   },
   "source": [
    "## Set plotting style"
   ]
  },
  {
   "cell_type": "code",
   "execution_count": 6,
   "metadata": {
    "colab": {},
    "colab_type": "code",
    "executionInfo": {
     "elapsed": 1685,
     "status": "ok",
     "timestamp": 1599367200371,
     "user": {
      "displayName": "George Batchkala",
      "photoUrl": "",
      "userId": "17039292136363863281"
     },
     "user_tz": -180
    },
    "id": "wEF0rQL3rOMt"
   },
   "outputs": [],
   "source": [
    "%matplotlib inline\n",
    "plt.style.use('fivethirtyeight')\n",
    "\n",
    "plt.rcParams['axes.facecolor']='w'\n",
    "#plt.rcParams['axes.linewidth']=1\n",
    "plt.rcParams['axes.edgecolor']='w'\n",
    "plt.rcParams['figure.facecolor']='w'\n",
    "plt.rcParams['savefig.facecolor']='w'\n",
    "#plt.rcParams['grid.color']='white'\n",
    "\n",
    "# sns.set()"
   ]
  },
  {
   "cell_type": "markdown",
   "metadata": {
    "colab_type": "text",
    "id": "o4r2WevweR5i"
   },
   "source": [
    "# Load Data"
   ]
  },
  {
   "cell_type": "markdown",
   "metadata": {
    "colab_type": "text",
    "id": "K-fg6Gq6qt8p"
   },
   "source": [
    "## CHOOSE: dataset, smile_type, grid_search_type"
   ]
  },
  {
   "cell_type": "code",
   "execution_count": 7,
   "metadata": {
    "colab": {},
    "colab_type": "code",
    "executionInfo": {
     "elapsed": 486,
     "status": "ok",
     "timestamp": 1599369100807,
     "user": {
      "displayName": "George Batchkala",
      "photoUrl": "",
      "userId": "17039292136363863281"
     },
     "user_tz": -180
    },
    "id": "DmVtuXvrrOMx"
   },
   "outputs": [],
   "source": [
    "dataset = 'lipophilicity'\n",
    "assert dataset in ['freesolv', 'esol', 'lipophilicity']\n",
    "\n",
    "smile_type = 'original'\n",
    "assert smile_type in ['original', 'protonated']\n",
    "\n",
    "grid_search_type = 'extended'\n",
    "assert grid_search_type in ['reproducing', 'extended']\n",
    "\n",
    "# correlated features treatment\n",
    "if dataset == 'esol':\n",
    "    cf = 'reduced'\n",
    "else:\n",
    "    cf = 'full'\n",
    "assert cf in ['reduced', 'full']"
   ]
  },
  {
   "cell_type": "code",
   "execution_count": 8,
   "metadata": {},
   "outputs": [],
   "source": [
    "# # for esol\n",
    "# cf = 'full'"
   ]
  },
  {
   "cell_type": "markdown",
   "metadata": {
    "colab_type": "text",
    "id": "Tvy3ngWanFP_"
   },
   "source": [
    "## Titles, Units and Labels for datasets"
   ]
  },
  {
   "cell_type": "code",
   "execution_count": 9,
   "metadata": {
    "colab": {
     "base_uri": "https://localhost:8080/",
     "height": 68
    },
    "colab_type": "code",
    "executionInfo": {
     "elapsed": 1033,
     "status": "ok",
     "timestamp": 1599369104364,
     "user": {
      "displayName": "George Batchkala",
      "photoUrl": "",
      "userId": "17039292136363863281"
     },
     "user_tz": -180
    },
    "id": "xGB7XOf1_PrT",
    "outputId": "f286b9a8-6363-4425-f354-495e8079c359"
   },
   "outputs": [
    {
     "name": "stdout",
     "output_type": "stream",
     "text": [
      "freesolv      :  Solvation Energy\n",
      "esol          :  Log Solubility\n",
      "lipophilicity :  Octanol/Water Distribution Coefficient\n"
     ]
    }
   ],
   "source": [
    "for key, value in datasets_to_titles.items():\n",
    "    print(key, (13 - len(key))*' ' + ': ',  value)"
   ]
  },
  {
   "cell_type": "code",
   "execution_count": 10,
   "metadata": {
    "colab": {
     "base_uri": "https://localhost:8080/",
     "height": 68
    },
    "colab_type": "code",
    "executionInfo": {
     "elapsed": 464,
     "status": "ok",
     "timestamp": 1599369104654,
     "user": {
      "displayName": "George Batchkala",
      "photoUrl": "",
      "userId": "17039292136363863281"
     },
     "user_tz": -180
    },
    "id": "C7EdTtuv_PrX",
    "outputId": "b05507fc-8e5e-4b84-b0cd-c7310199a055"
   },
   "outputs": [
    {
     "name": "stdout",
     "output_type": "stream",
     "text": [
      "freesolv      :  (kcal/mol)\n",
      "esol          :  (mol/litre)\n",
      "lipophilicity :  (logD)\n"
     ]
    }
   ],
   "source": [
    "for key, value in datasets_to_units.items():\n",
    "    print(key, (13 - len(key))*' ' + ': ',  value)"
   ]
  },
  {
   "cell_type": "code",
   "execution_count": 11,
   "metadata": {},
   "outputs": [
    {
     "name": "stdout",
     "output_type": "stream",
     "text": [
      "RMSE          :  root-mean-square error\n",
      "MAE           :  mean absolute error\n",
      "R^2           :  R^2 (coefficient of determination)\n",
      "pearson_r     :  Pearson correlation\n"
     ]
    }
   ],
   "source": [
    "for key, value in metrics_to_labels.items():\n",
    "    print(key, (13 - len(key))*' ' + ': ',  value)"
   ]
  },
  {
   "cell_type": "code",
   "execution_count": 12,
   "metadata": {
    "colab": {},
    "colab_type": "code",
    "executionInfo": {
     "elapsed": 640,
     "status": "ok",
     "timestamp": 1599369105549,
     "user": {
      "displayName": "George Batchkala",
      "photoUrl": "",
      "userId": "17039292136363863281"
     },
     "user_tz": -180
    },
    "id": "Fyv7vIwJ_Pra"
   },
   "outputs": [
    {
     "data": {
      "text/plain": [
       "3"
      ]
     },
     "execution_count": 12,
     "metadata": {},
     "output_type": "execute_result"
    }
   ],
   "source": [
    "rp = datasets_to_rounding_precision[dataset]\n",
    "rp"
   ]
  },
  {
   "cell_type": "markdown",
   "metadata": {
    "colab_type": "text",
    "id": "1PIRIaAszL4P"
   },
   "source": [
    "## CHOOSE metric to display"
   ]
  },
  {
   "cell_type": "markdown",
   "metadata": {
    "colab_type": "text",
    "id": "0j-LrNtiVaEG"
   },
   "source": []
  },
  {
   "cell_type": "code",
   "execution_count": 13,
   "metadata": {
    "colab": {},
    "colab_type": "code",
    "executionInfo": {
     "elapsed": 1065,
     "status": "ok",
     "timestamp": 1599369108985,
     "user": {
      "displayName": "George Batchkala",
      "photoUrl": "",
      "userId": "17039292136363863281"
     },
     "user_tz": -180
    },
    "id": "xmL5nV-BeOcC"
   },
   "outputs": [],
   "source": [
    "metric = 'RMSE'\n",
    "assert metric in metrics_to_labels"
   ]
  },
  {
   "cell_type": "code",
   "execution_count": 14,
   "metadata": {
    "colab": {},
    "colab_type": "code",
    "executionInfo": {
     "elapsed": 2470,
     "status": "ok",
     "timestamp": 1599369110775,
     "user": {
      "displayName": "George Batchkala",
      "photoUrl": "",
      "userId": "17039292136363863281"
     },
     "user_tz": -180
    },
    "id": "_Do5D_wx6gNW"
   },
   "outputs": [],
   "source": [
    "if metric in ['RMSE', 'MAE']:\n",
    "    pass\n",
    "else:\n",
    "    # no units\n",
    "    datasets_to_units = {'freesolv': '', 'esol': '', 'lipophilicity': ''}"
   ]
  },
  {
   "cell_type": "markdown",
   "metadata": {},
   "source": [
    "## Choose model to show"
   ]
  },
  {
   "cell_type": "code",
   "execution_count": 15,
   "metadata": {},
   "outputs": [],
   "source": [
    "model = 'rf'\n",
    "assert model in ['rf', 'gp']"
   ]
  },
  {
   "cell_type": "markdown",
   "metadata": {},
   "source": [
    "## Load files:"
   ]
  },
  {
   "cell_type": "code",
   "execution_count": 16,
   "metadata": {},
   "outputs": [
    {
     "name": "stdout",
     "output_type": "stream",
     "text": [
      "lipophilicity original extended full rf\n"
     ]
    }
   ],
   "source": [
    "print(dataset, smile_type, grid_search_type, cf, model)"
   ]
  },
  {
   "cell_type": "code",
   "execution_count": 17,
   "metadata": {},
   "outputs": [],
   "source": [
    "# save results as csv-s, rewrite each time\n",
    "df_true = pd.read_csv(f'../results/{dataset}_{smile_type}_{grid_search_type}_{cf}_multiple_ci_runs_true_{model}.csv')\n",
    "df_pred = pd.read_csv(f'../results/{dataset}_{smile_type}_{grid_search_type}_{cf}_multiple_ci_runs_pred_{model}.csv')\n",
    "df_std = pd.read_csv(f'../results/{dataset}_{smile_type}_{grid_search_type}_{cf}_multiple_ci_runs_std_{model}.csv')"
   ]
  },
  {
   "cell_type": "markdown",
   "metadata": {},
   "source": [
    "## Have a look at files"
   ]
  },
  {
   "cell_type": "code",
   "execution_count": 18,
   "metadata": {},
   "outputs": [
    {
     "data": {
      "text/plain": [
       "((840, 30), (840, 30), (840, 30))"
      ]
     },
     "execution_count": 18,
     "metadata": {},
     "output_type": "execute_result"
    }
   ],
   "source": [
    "df_true.shape, df_pred.shape, df_std.shape"
   ]
  },
  {
   "cell_type": "code",
   "execution_count": 19,
   "metadata": {},
   "outputs": [
    {
     "data": {
      "text/html": [
       "<div>\n",
       "<style scoped>\n",
       "    .dataframe tbody tr th:only-of-type {\n",
       "        vertical-align: middle;\n",
       "    }\n",
       "\n",
       "    .dataframe tbody tr th {\n",
       "        vertical-align: top;\n",
       "    }\n",
       "\n",
       "    .dataframe thead th {\n",
       "        text-align: right;\n",
       "    }\n",
       "</style>\n",
       "<table border=\"1\" class=\"dataframe\">\n",
       "  <thead>\n",
       "    <tr style=\"text-align: right;\">\n",
       "      <th></th>\n",
       "      <th>test_true_0</th>\n",
       "      <th>test_true_1</th>\n",
       "      <th>test_true_2</th>\n",
       "      <th>test_true_3</th>\n",
       "      <th>test_true_4</th>\n",
       "      <th>test_true_5</th>\n",
       "      <th>test_true_6</th>\n",
       "      <th>test_true_7</th>\n",
       "      <th>test_true_8</th>\n",
       "      <th>test_true_9</th>\n",
       "      <th>...</th>\n",
       "      <th>test_true_20</th>\n",
       "      <th>test_true_21</th>\n",
       "      <th>test_true_22</th>\n",
       "      <th>test_true_23</th>\n",
       "      <th>test_true_24</th>\n",
       "      <th>test_true_25</th>\n",
       "      <th>test_true_26</th>\n",
       "      <th>test_true_27</th>\n",
       "      <th>test_true_28</th>\n",
       "      <th>test_true_29</th>\n",
       "    </tr>\n",
       "  </thead>\n",
       "  <tbody>\n",
       "    <tr>\n",
       "      <th>0</th>\n",
       "      <td>2.63</td>\n",
       "      <td>1.71</td>\n",
       "      <td>3.30</td>\n",
       "      <td>-0.72</td>\n",
       "      <td>3.20</td>\n",
       "      <td>2.16</td>\n",
       "      <td>3.99</td>\n",
       "      <td>0.70</td>\n",
       "      <td>0.02</td>\n",
       "      <td>1.09</td>\n",
       "      <td>...</td>\n",
       "      <td>4.38</td>\n",
       "      <td>3.21</td>\n",
       "      <td>1.25</td>\n",
       "      <td>3.80</td>\n",
       "      <td>2.29</td>\n",
       "      <td>1.25</td>\n",
       "      <td>4.00</td>\n",
       "      <td>3.67</td>\n",
       "      <td>2.50</td>\n",
       "      <td>1.81</td>\n",
       "    </tr>\n",
       "    <tr>\n",
       "      <th>1</th>\n",
       "      <td>-0.91</td>\n",
       "      <td>1.90</td>\n",
       "      <td>1.26</td>\n",
       "      <td>0.75</td>\n",
       "      <td>4.24</td>\n",
       "      <td>2.12</td>\n",
       "      <td>4.20</td>\n",
       "      <td>2.60</td>\n",
       "      <td>2.66</td>\n",
       "      <td>1.92</td>\n",
       "      <td>...</td>\n",
       "      <td>2.93</td>\n",
       "      <td>2.37</td>\n",
       "      <td>3.20</td>\n",
       "      <td>2.91</td>\n",
       "      <td>0.91</td>\n",
       "      <td>3.30</td>\n",
       "      <td>0.30</td>\n",
       "      <td>2.38</td>\n",
       "      <td>0.70</td>\n",
       "      <td>3.14</td>\n",
       "    </tr>\n",
       "    <tr>\n",
       "      <th>2</th>\n",
       "      <td>3.21</td>\n",
       "      <td>2.10</td>\n",
       "      <td>2.34</td>\n",
       "      <td>2.71</td>\n",
       "      <td>1.81</td>\n",
       "      <td>0.98</td>\n",
       "      <td>1.57</td>\n",
       "      <td>3.80</td>\n",
       "      <td>1.91</td>\n",
       "      <td>1.00</td>\n",
       "      <td>...</td>\n",
       "      <td>3.55</td>\n",
       "      <td>1.50</td>\n",
       "      <td>3.40</td>\n",
       "      <td>4.20</td>\n",
       "      <td>-1.18</td>\n",
       "      <td>2.26</td>\n",
       "      <td>4.20</td>\n",
       "      <td>3.00</td>\n",
       "      <td>2.51</td>\n",
       "      <td>1.87</td>\n",
       "    </tr>\n",
       "    <tr>\n",
       "      <th>3</th>\n",
       "      <td>2.90</td>\n",
       "      <td>0.78</td>\n",
       "      <td>0.80</td>\n",
       "      <td>2.50</td>\n",
       "      <td>-0.71</td>\n",
       "      <td>2.02</td>\n",
       "      <td>0.68</td>\n",
       "      <td>1.69</td>\n",
       "      <td>2.95</td>\n",
       "      <td>3.54</td>\n",
       "      <td>...</td>\n",
       "      <td>0.90</td>\n",
       "      <td>0.22</td>\n",
       "      <td>-0.10</td>\n",
       "      <td>3.44</td>\n",
       "      <td>0.85</td>\n",
       "      <td>1.70</td>\n",
       "      <td>2.79</td>\n",
       "      <td>3.40</td>\n",
       "      <td>2.38</td>\n",
       "      <td>2.30</td>\n",
       "    </tr>\n",
       "    <tr>\n",
       "      <th>4</th>\n",
       "      <td>3.07</td>\n",
       "      <td>0.75</td>\n",
       "      <td>2.41</td>\n",
       "      <td>3.32</td>\n",
       "      <td>2.32</td>\n",
       "      <td>2.80</td>\n",
       "      <td>2.50</td>\n",
       "      <td>2.46</td>\n",
       "      <td>3.10</td>\n",
       "      <td>3.10</td>\n",
       "      <td>...</td>\n",
       "      <td>2.78</td>\n",
       "      <td>1.70</td>\n",
       "      <td>2.80</td>\n",
       "      <td>3.67</td>\n",
       "      <td>3.50</td>\n",
       "      <td>3.90</td>\n",
       "      <td>-0.27</td>\n",
       "      <td>0.96</td>\n",
       "      <td>0.15</td>\n",
       "      <td>1.20</td>\n",
       "    </tr>\n",
       "  </tbody>\n",
       "</table>\n",
       "<p>5 rows × 30 columns</p>\n",
       "</div>"
      ],
      "text/plain": [
       "   test_true_0  test_true_1  test_true_2  test_true_3  test_true_4  \\\n",
       "0         2.63         1.71         3.30        -0.72         3.20   \n",
       "1        -0.91         1.90         1.26         0.75         4.24   \n",
       "2         3.21         2.10         2.34         2.71         1.81   \n",
       "3         2.90         0.78         0.80         2.50        -0.71   \n",
       "4         3.07         0.75         2.41         3.32         2.32   \n",
       "\n",
       "   test_true_5  test_true_6  test_true_7  test_true_8  test_true_9  ...  \\\n",
       "0         2.16         3.99         0.70         0.02         1.09  ...   \n",
       "1         2.12         4.20         2.60         2.66         1.92  ...   \n",
       "2         0.98         1.57         3.80         1.91         1.00  ...   \n",
       "3         2.02         0.68         1.69         2.95         3.54  ...   \n",
       "4         2.80         2.50         2.46         3.10         3.10  ...   \n",
       "\n",
       "   test_true_20  test_true_21  test_true_22  test_true_23  test_true_24  \\\n",
       "0          4.38          3.21          1.25          3.80          2.29   \n",
       "1          2.93          2.37          3.20          2.91          0.91   \n",
       "2          3.55          1.50          3.40          4.20         -1.18   \n",
       "3          0.90          0.22         -0.10          3.44          0.85   \n",
       "4          2.78          1.70          2.80          3.67          3.50   \n",
       "\n",
       "   test_true_25  test_true_26  test_true_27  test_true_28  test_true_29  \n",
       "0          1.25          4.00          3.67          2.50          1.81  \n",
       "1          3.30          0.30          2.38          0.70          3.14  \n",
       "2          2.26          4.20          3.00          2.51          1.87  \n",
       "3          1.70          2.79          3.40          2.38          2.30  \n",
       "4          3.90         -0.27          0.96          0.15          1.20  \n",
       "\n",
       "[5 rows x 30 columns]"
      ]
     },
     "execution_count": 19,
     "metadata": {},
     "output_type": "execute_result"
    }
   ],
   "source": [
    "df_true.head()"
   ]
  },
  {
   "cell_type": "code",
   "execution_count": 20,
   "metadata": {},
   "outputs": [
    {
     "data": {
      "text/html": [
       "<div>\n",
       "<style scoped>\n",
       "    .dataframe tbody tr th:only-of-type {\n",
       "        vertical-align: middle;\n",
       "    }\n",
       "\n",
       "    .dataframe tbody tr th {\n",
       "        vertical-align: top;\n",
       "    }\n",
       "\n",
       "    .dataframe thead th {\n",
       "        text-align: right;\n",
       "    }\n",
       "</style>\n",
       "<table border=\"1\" class=\"dataframe\">\n",
       "  <thead>\n",
       "    <tr style=\"text-align: right;\">\n",
       "      <th></th>\n",
       "      <th>test_pred_0</th>\n",
       "      <th>test_pred_1</th>\n",
       "      <th>test_pred_2</th>\n",
       "      <th>test_pred_3</th>\n",
       "      <th>test_pred_4</th>\n",
       "      <th>test_pred_5</th>\n",
       "      <th>test_pred_6</th>\n",
       "      <th>test_pred_7</th>\n",
       "      <th>test_pred_8</th>\n",
       "      <th>test_pred_9</th>\n",
       "      <th>...</th>\n",
       "      <th>test_pred_20</th>\n",
       "      <th>test_pred_21</th>\n",
       "      <th>test_pred_22</th>\n",
       "      <th>test_pred_23</th>\n",
       "      <th>test_pred_24</th>\n",
       "      <th>test_pred_25</th>\n",
       "      <th>test_pred_26</th>\n",
       "      <th>test_pred_27</th>\n",
       "      <th>test_pred_28</th>\n",
       "      <th>test_pred_29</th>\n",
       "    </tr>\n",
       "  </thead>\n",
       "  <tbody>\n",
       "    <tr>\n",
       "      <th>0</th>\n",
       "      <td>2.619470</td>\n",
       "      <td>1.482603</td>\n",
       "      <td>2.208232</td>\n",
       "      <td>0.189911</td>\n",
       "      <td>3.478523</td>\n",
       "      <td>0.937740</td>\n",
       "      <td>3.682811</td>\n",
       "      <td>1.099396</td>\n",
       "      <td>0.453467</td>\n",
       "      <td>1.359727</td>\n",
       "      <td>...</td>\n",
       "      <td>2.123894</td>\n",
       "      <td>3.130277</td>\n",
       "      <td>2.203353</td>\n",
       "      <td>2.099853</td>\n",
       "      <td>2.676526</td>\n",
       "      <td>2.161940</td>\n",
       "      <td>3.043485</td>\n",
       "      <td>3.408261</td>\n",
       "      <td>2.881986</td>\n",
       "      <td>1.451086</td>\n",
       "    </tr>\n",
       "    <tr>\n",
       "      <th>1</th>\n",
       "      <td>1.676191</td>\n",
       "      <td>2.515472</td>\n",
       "      <td>2.198547</td>\n",
       "      <td>1.588650</td>\n",
       "      <td>3.264839</td>\n",
       "      <td>2.664647</td>\n",
       "      <td>3.566324</td>\n",
       "      <td>2.629442</td>\n",
       "      <td>2.737457</td>\n",
       "      <td>1.990614</td>\n",
       "      <td>...</td>\n",
       "      <td>2.684032</td>\n",
       "      <td>2.410204</td>\n",
       "      <td>2.018032</td>\n",
       "      <td>1.938040</td>\n",
       "      <td>1.338877</td>\n",
       "      <td>2.602325</td>\n",
       "      <td>0.625622</td>\n",
       "      <td>2.095873</td>\n",
       "      <td>1.251972</td>\n",
       "      <td>3.116037</td>\n",
       "    </tr>\n",
       "    <tr>\n",
       "      <th>2</th>\n",
       "      <td>2.517569</td>\n",
       "      <td>1.674679</td>\n",
       "      <td>2.221512</td>\n",
       "      <td>2.355000</td>\n",
       "      <td>1.865242</td>\n",
       "      <td>2.707548</td>\n",
       "      <td>3.281862</td>\n",
       "      <td>2.630821</td>\n",
       "      <td>2.686316</td>\n",
       "      <td>1.612419</td>\n",
       "      <td>...</td>\n",
       "      <td>3.224825</td>\n",
       "      <td>0.927642</td>\n",
       "      <td>3.271603</td>\n",
       "      <td>3.188568</td>\n",
       "      <td>-0.369811</td>\n",
       "      <td>2.427282</td>\n",
       "      <td>1.574485</td>\n",
       "      <td>2.885289</td>\n",
       "      <td>2.433854</td>\n",
       "      <td>2.513016</td>\n",
       "    </tr>\n",
       "    <tr>\n",
       "      <th>3</th>\n",
       "      <td>2.723466</td>\n",
       "      <td>1.056000</td>\n",
       "      <td>1.264860</td>\n",
       "      <td>2.379331</td>\n",
       "      <td>0.006223</td>\n",
       "      <td>2.148772</td>\n",
       "      <td>1.088994</td>\n",
       "      <td>2.014088</td>\n",
       "      <td>3.028093</td>\n",
       "      <td>3.389239</td>\n",
       "      <td>...</td>\n",
       "      <td>1.256401</td>\n",
       "      <td>0.226770</td>\n",
       "      <td>1.016453</td>\n",
       "      <td>2.795768</td>\n",
       "      <td>0.452826</td>\n",
       "      <td>2.350984</td>\n",
       "      <td>2.155776</td>\n",
       "      <td>2.864887</td>\n",
       "      <td>2.872611</td>\n",
       "      <td>1.827681</td>\n",
       "    </tr>\n",
       "    <tr>\n",
       "      <th>4</th>\n",
       "      <td>1.901214</td>\n",
       "      <td>1.784129</td>\n",
       "      <td>2.555648</td>\n",
       "      <td>2.594397</td>\n",
       "      <td>2.303734</td>\n",
       "      <td>2.356811</td>\n",
       "      <td>2.309452</td>\n",
       "      <td>3.044621</td>\n",
       "      <td>2.925301</td>\n",
       "      <td>2.911028</td>\n",
       "      <td>...</td>\n",
       "      <td>2.956209</td>\n",
       "      <td>1.445853</td>\n",
       "      <td>2.378854</td>\n",
       "      <td>3.496361</td>\n",
       "      <td>3.229906</td>\n",
       "      <td>2.401105</td>\n",
       "      <td>0.176552</td>\n",
       "      <td>1.424581</td>\n",
       "      <td>0.993337</td>\n",
       "      <td>0.630053</td>\n",
       "    </tr>\n",
       "  </tbody>\n",
       "</table>\n",
       "<p>5 rows × 30 columns</p>\n",
       "</div>"
      ],
      "text/plain": [
       "   test_pred_0  test_pred_1  test_pred_2  test_pred_3  test_pred_4  \\\n",
       "0     2.619470     1.482603     2.208232     0.189911     3.478523   \n",
       "1     1.676191     2.515472     2.198547     1.588650     3.264839   \n",
       "2     2.517569     1.674679     2.221512     2.355000     1.865242   \n",
       "3     2.723466     1.056000     1.264860     2.379331     0.006223   \n",
       "4     1.901214     1.784129     2.555648     2.594397     2.303734   \n",
       "\n",
       "   test_pred_5  test_pred_6  test_pred_7  test_pred_8  test_pred_9  ...  \\\n",
       "0     0.937740     3.682811     1.099396     0.453467     1.359727  ...   \n",
       "1     2.664647     3.566324     2.629442     2.737457     1.990614  ...   \n",
       "2     2.707548     3.281862     2.630821     2.686316     1.612419  ...   \n",
       "3     2.148772     1.088994     2.014088     3.028093     3.389239  ...   \n",
       "4     2.356811     2.309452     3.044621     2.925301     2.911028  ...   \n",
       "\n",
       "   test_pred_20  test_pred_21  test_pred_22  test_pred_23  test_pred_24  \\\n",
       "0      2.123894      3.130277      2.203353      2.099853      2.676526   \n",
       "1      2.684032      2.410204      2.018032      1.938040      1.338877   \n",
       "2      3.224825      0.927642      3.271603      3.188568     -0.369811   \n",
       "3      1.256401      0.226770      1.016453      2.795768      0.452826   \n",
       "4      2.956209      1.445853      2.378854      3.496361      3.229906   \n",
       "\n",
       "   test_pred_25  test_pred_26  test_pred_27  test_pred_28  test_pred_29  \n",
       "0      2.161940      3.043485      3.408261      2.881986      1.451086  \n",
       "1      2.602325      0.625622      2.095873      1.251972      3.116037  \n",
       "2      2.427282      1.574485      2.885289      2.433854      2.513016  \n",
       "3      2.350984      2.155776      2.864887      2.872611      1.827681  \n",
       "4      2.401105      0.176552      1.424581      0.993337      0.630053  \n",
       "\n",
       "[5 rows x 30 columns]"
      ]
     },
     "execution_count": 20,
     "metadata": {},
     "output_type": "execute_result"
    }
   ],
   "source": [
    "df_pred.head()"
   ]
  },
  {
   "cell_type": "code",
   "execution_count": 21,
   "metadata": {},
   "outputs": [
    {
     "data": {
      "text/html": [
       "<div>\n",
       "<style scoped>\n",
       "    .dataframe tbody tr th:only-of-type {\n",
       "        vertical-align: middle;\n",
       "    }\n",
       "\n",
       "    .dataframe tbody tr th {\n",
       "        vertical-align: top;\n",
       "    }\n",
       "\n",
       "    .dataframe thead th {\n",
       "        text-align: right;\n",
       "    }\n",
       "</style>\n",
       "<table border=\"1\" class=\"dataframe\">\n",
       "  <thead>\n",
       "    <tr style=\"text-align: right;\">\n",
       "      <th></th>\n",
       "      <th>test_std_0</th>\n",
       "      <th>test_std_1</th>\n",
       "      <th>test_std_2</th>\n",
       "      <th>test_std_3</th>\n",
       "      <th>test_std_4</th>\n",
       "      <th>test_std_5</th>\n",
       "      <th>test_std_6</th>\n",
       "      <th>test_std_7</th>\n",
       "      <th>test_std_8</th>\n",
       "      <th>test_std_9</th>\n",
       "      <th>...</th>\n",
       "      <th>test_std_20</th>\n",
       "      <th>test_std_21</th>\n",
       "      <th>test_std_22</th>\n",
       "      <th>test_std_23</th>\n",
       "      <th>test_std_24</th>\n",
       "      <th>test_std_25</th>\n",
       "      <th>test_std_26</th>\n",
       "      <th>test_std_27</th>\n",
       "      <th>test_std_28</th>\n",
       "      <th>test_std_29</th>\n",
       "    </tr>\n",
       "  </thead>\n",
       "  <tbody>\n",
       "    <tr>\n",
       "      <th>0</th>\n",
       "      <td>0.537095</td>\n",
       "      <td>0.338517</td>\n",
       "      <td>0.435627</td>\n",
       "      <td>0.346405</td>\n",
       "      <td>0.455823</td>\n",
       "      <td>0.330770</td>\n",
       "      <td>0.364442</td>\n",
       "      <td>0.513534</td>\n",
       "      <td>0.544051</td>\n",
       "      <td>0.459483</td>\n",
       "      <td>...</td>\n",
       "      <td>0.491083</td>\n",
       "      <td>0.476398</td>\n",
       "      <td>0.423364</td>\n",
       "      <td>0.393592</td>\n",
       "      <td>0.463973</td>\n",
       "      <td>0.549963</td>\n",
       "      <td>0.454341</td>\n",
       "      <td>0.335004</td>\n",
       "      <td>0.478187</td>\n",
       "      <td>0.355805</td>\n",
       "    </tr>\n",
       "    <tr>\n",
       "      <th>1</th>\n",
       "      <td>0.527078</td>\n",
       "      <td>0.366311</td>\n",
       "      <td>0.473248</td>\n",
       "      <td>0.433435</td>\n",
       "      <td>0.475468</td>\n",
       "      <td>0.397148</td>\n",
       "      <td>0.390687</td>\n",
       "      <td>0.394809</td>\n",
       "      <td>0.531910</td>\n",
       "      <td>0.457895</td>\n",
       "      <td>...</td>\n",
       "      <td>0.522680</td>\n",
       "      <td>0.521246</td>\n",
       "      <td>0.374903</td>\n",
       "      <td>0.381334</td>\n",
       "      <td>0.457272</td>\n",
       "      <td>0.563421</td>\n",
       "      <td>0.307558</td>\n",
       "      <td>0.426169</td>\n",
       "      <td>0.511153</td>\n",
       "      <td>0.377904</td>\n",
       "    </tr>\n",
       "    <tr>\n",
       "      <th>2</th>\n",
       "      <td>0.549449</td>\n",
       "      <td>0.495256</td>\n",
       "      <td>0.396500</td>\n",
       "      <td>0.489832</td>\n",
       "      <td>0.510611</td>\n",
       "      <td>0.417577</td>\n",
       "      <td>0.340535</td>\n",
       "      <td>0.438870</td>\n",
       "      <td>0.496616</td>\n",
       "      <td>0.493974</td>\n",
       "      <td>...</td>\n",
       "      <td>0.473829</td>\n",
       "      <td>0.408953</td>\n",
       "      <td>0.356237</td>\n",
       "      <td>0.379843</td>\n",
       "      <td>0.377145</td>\n",
       "      <td>0.553121</td>\n",
       "      <td>0.515928</td>\n",
       "      <td>0.399625</td>\n",
       "      <td>0.521078</td>\n",
       "      <td>0.437393</td>\n",
       "    </tr>\n",
       "    <tr>\n",
       "      <th>3</th>\n",
       "      <td>0.519508</td>\n",
       "      <td>0.325156</td>\n",
       "      <td>0.412410</td>\n",
       "      <td>0.469114</td>\n",
       "      <td>0.432354</td>\n",
       "      <td>0.453281</td>\n",
       "      <td>0.403912</td>\n",
       "      <td>0.434884</td>\n",
       "      <td>0.470480</td>\n",
       "      <td>0.523401</td>\n",
       "      <td>...</td>\n",
       "      <td>0.457041</td>\n",
       "      <td>0.386441</td>\n",
       "      <td>0.279722</td>\n",
       "      <td>0.412551</td>\n",
       "      <td>0.391827</td>\n",
       "      <td>0.563237</td>\n",
       "      <td>0.467238</td>\n",
       "      <td>0.304716</td>\n",
       "      <td>0.527056</td>\n",
       "      <td>0.358123</td>\n",
       "    </tr>\n",
       "    <tr>\n",
       "      <th>4</th>\n",
       "      <td>0.567700</td>\n",
       "      <td>0.337610</td>\n",
       "      <td>0.401393</td>\n",
       "      <td>0.490290</td>\n",
       "      <td>0.520134</td>\n",
       "      <td>0.387105</td>\n",
       "      <td>0.410688</td>\n",
       "      <td>0.427894</td>\n",
       "      <td>0.491200</td>\n",
       "      <td>0.419965</td>\n",
       "      <td>...</td>\n",
       "      <td>0.482366</td>\n",
       "      <td>0.492389</td>\n",
       "      <td>0.385160</td>\n",
       "      <td>0.343416</td>\n",
       "      <td>0.353223</td>\n",
       "      <td>0.551361</td>\n",
       "      <td>0.359885</td>\n",
       "      <td>0.404836</td>\n",
       "      <td>0.489738</td>\n",
       "      <td>0.348959</td>\n",
       "    </tr>\n",
       "  </tbody>\n",
       "</table>\n",
       "<p>5 rows × 30 columns</p>\n",
       "</div>"
      ],
      "text/plain": [
       "   test_std_0  test_std_1  test_std_2  test_std_3  test_std_4  test_std_5  \\\n",
       "0    0.537095    0.338517    0.435627    0.346405    0.455823    0.330770   \n",
       "1    0.527078    0.366311    0.473248    0.433435    0.475468    0.397148   \n",
       "2    0.549449    0.495256    0.396500    0.489832    0.510611    0.417577   \n",
       "3    0.519508    0.325156    0.412410    0.469114    0.432354    0.453281   \n",
       "4    0.567700    0.337610    0.401393    0.490290    0.520134    0.387105   \n",
       "\n",
       "   test_std_6  test_std_7  test_std_8  test_std_9  ...  test_std_20  \\\n",
       "0    0.364442    0.513534    0.544051    0.459483  ...     0.491083   \n",
       "1    0.390687    0.394809    0.531910    0.457895  ...     0.522680   \n",
       "2    0.340535    0.438870    0.496616    0.493974  ...     0.473829   \n",
       "3    0.403912    0.434884    0.470480    0.523401  ...     0.457041   \n",
       "4    0.410688    0.427894    0.491200    0.419965  ...     0.482366   \n",
       "\n",
       "   test_std_21  test_std_22  test_std_23  test_std_24  test_std_25  \\\n",
       "0     0.476398     0.423364     0.393592     0.463973     0.549963   \n",
       "1     0.521246     0.374903     0.381334     0.457272     0.563421   \n",
       "2     0.408953     0.356237     0.379843     0.377145     0.553121   \n",
       "3     0.386441     0.279722     0.412551     0.391827     0.563237   \n",
       "4     0.492389     0.385160     0.343416     0.353223     0.551361   \n",
       "\n",
       "   test_std_26  test_std_27  test_std_28  test_std_29  \n",
       "0     0.454341     0.335004     0.478187     0.355805  \n",
       "1     0.307558     0.426169     0.511153     0.377904  \n",
       "2     0.515928     0.399625     0.521078     0.437393  \n",
       "3     0.467238     0.304716     0.527056     0.358123  \n",
       "4     0.359885     0.404836     0.489738     0.348959  \n",
       "\n",
       "[5 rows x 30 columns]"
      ]
     },
     "execution_count": 21,
     "metadata": {},
     "output_type": "execute_result"
    }
   ],
   "source": [
    "df_std.head()"
   ]
  },
  {
   "cell_type": "markdown",
   "metadata": {},
   "source": [
    "# One run"
   ]
  },
  {
   "cell_type": "code",
   "execution_count": 22,
   "metadata": {},
   "outputs": [],
   "source": [
    "y_test = df_true.iloc[:, 0]\n",
    "y_test_pred = df_pred.iloc[:, 0]\n",
    "y_test_std = df_std.iloc[:, 0]"
   ]
  },
  {
   "cell_type": "markdown",
   "metadata": {},
   "source": [
    "## RMSE"
   ]
  },
  {
   "cell_type": "code",
   "execution_count": 23,
   "metadata": {},
   "outputs": [
    {
     "data": {
      "text/plain": [
       "0.6704405211767106"
      ]
     },
     "execution_count": 23,
     "metadata": {},
     "output_type": "execute_result"
    }
   ],
   "source": [
    "mean_squared_error(y_true=y_test, y_pred=y_test_pred, squared=False)"
   ]
  },
  {
   "cell_type": "markdown",
   "metadata": {
    "colab_type": "text",
    "id": "cemAX5Um_PtG"
   },
   "source": [
    "## Calculate confidence bounds using std part of gpr predictions"
   ]
  },
  {
   "cell_type": "code",
   "execution_count": 24,
   "metadata": {
    "colab": {},
    "colab_type": "code",
    "executionInfo": {
     "elapsed": 501,
     "status": "ok",
     "timestamp": 1599369443430,
     "user": {
      "displayName": "George Batchkala",
      "photoUrl": "",
      "userId": "17039292136363863281"
     },
     "user_tz": -180
    },
    "id": "SXkK4l9fXh5U"
   },
   "outputs": [],
   "source": [
    "upper = y_test_pred + 1.96 * y_test_std\n",
    "lower = y_test_pred - 1.96 * y_test_std"
   ]
  },
  {
   "cell_type": "code",
   "execution_count": 25,
   "metadata": {
    "colab": {},
    "colab_type": "code",
    "executionInfo": {
     "elapsed": 554,
     "status": "ok",
     "timestamp": 1599369444362,
     "user": {
      "displayName": "George Batchkala",
      "photoUrl": "",
      "userId": "17039292136363863281"
     },
     "user_tz": -180
    },
    "id": "920aWd5cYMiQ"
   },
   "outputs": [
    {
     "data": {
      "text/html": [
       "<div>\n",
       "<style scoped>\n",
       "    .dataframe tbody tr th:only-of-type {\n",
       "        vertical-align: middle;\n",
       "    }\n",
       "\n",
       "    .dataframe tbody tr th {\n",
       "        vertical-align: top;\n",
       "    }\n",
       "\n",
       "    .dataframe thead th {\n",
       "        text-align: right;\n",
       "    }\n",
       "</style>\n",
       "<table border=\"1\" class=\"dataframe\">\n",
       "  <thead>\n",
       "    <tr style=\"text-align: right;\">\n",
       "      <th></th>\n",
       "      <th>y_test</th>\n",
       "      <th>y_test_pred</th>\n",
       "      <th>y_test_std</th>\n",
       "      <th>lower</th>\n",
       "      <th>upper</th>\n",
       "      <th>sq_error</th>\n",
       "      <th>cumul_sq_error</th>\n",
       "      <th>cumul_mse</th>\n",
       "      <th>cumul_rmse</th>\n",
       "    </tr>\n",
       "  </thead>\n",
       "  <tbody>\n",
       "    <tr>\n",
       "      <th>22</th>\n",
       "      <td>-1.10</td>\n",
       "      <td>-0.419521</td>\n",
       "      <td>0.322499</td>\n",
       "      <td>-1.051620</td>\n",
       "      <td>0.212578</td>\n",
       "      <td>0.463052</td>\n",
       "      <td>0.463052</td>\n",
       "      <td>0.463052</td>\n",
       "      <td>0.680479</td>\n",
       "    </tr>\n",
       "    <tr>\n",
       "      <th>27</th>\n",
       "      <td>-0.15</td>\n",
       "      <td>-0.239007</td>\n",
       "      <td>0.332190</td>\n",
       "      <td>-0.890099</td>\n",
       "      <td>0.412085</td>\n",
       "      <td>0.007922</td>\n",
       "      <td>0.470974</td>\n",
       "      <td>0.235487</td>\n",
       "      <td>0.485270</td>\n",
       "    </tr>\n",
       "    <tr>\n",
       "      <th>316</th>\n",
       "      <td>-0.82</td>\n",
       "      <td>-0.387454</td>\n",
       "      <td>0.374432</td>\n",
       "      <td>-1.121341</td>\n",
       "      <td>0.346432</td>\n",
       "      <td>0.187096</td>\n",
       "      <td>0.658070</td>\n",
       "      <td>0.219357</td>\n",
       "      <td>0.468355</td>\n",
       "    </tr>\n",
       "    <tr>\n",
       "      <th>40</th>\n",
       "      <td>-1.20</td>\n",
       "      <td>-0.284922</td>\n",
       "      <td>0.399888</td>\n",
       "      <td>-1.068703</td>\n",
       "      <td>0.498859</td>\n",
       "      <td>0.837368</td>\n",
       "      <td>1.495438</td>\n",
       "      <td>0.373860</td>\n",
       "      <td>0.611441</td>\n",
       "    </tr>\n",
       "    <tr>\n",
       "      <th>674</th>\n",
       "      <td>-1.27</td>\n",
       "      <td>0.104566</td>\n",
       "      <td>0.406933</td>\n",
       "      <td>-0.693023</td>\n",
       "      <td>0.902155</td>\n",
       "      <td>1.889432</td>\n",
       "      <td>3.384870</td>\n",
       "      <td>0.676974</td>\n",
       "      <td>0.822784</td>\n",
       "    </tr>\n",
       "    <tr>\n",
       "      <th>...</th>\n",
       "      <td>...</td>\n",
       "      <td>...</td>\n",
       "      <td>...</td>\n",
       "      <td>...</td>\n",
       "      <td>...</td>\n",
       "      <td>...</td>\n",
       "      <td>...</td>\n",
       "      <td>...</td>\n",
       "      <td>...</td>\n",
       "    </tr>\n",
       "    <tr>\n",
       "      <th>271</th>\n",
       "      <td>2.40</td>\n",
       "      <td>2.138730</td>\n",
       "      <td>0.611823</td>\n",
       "      <td>0.939557</td>\n",
       "      <td>3.337902</td>\n",
       "      <td>0.068262</td>\n",
       "      <td>372.376890</td>\n",
       "      <td>0.445427</td>\n",
       "      <td>0.667403</td>\n",
       "    </tr>\n",
       "    <tr>\n",
       "      <th>488</th>\n",
       "      <td>0.01</td>\n",
       "      <td>1.598447</td>\n",
       "      <td>0.616082</td>\n",
       "      <td>0.390927</td>\n",
       "      <td>2.805968</td>\n",
       "      <td>2.523165</td>\n",
       "      <td>374.900055</td>\n",
       "      <td>0.447909</td>\n",
       "      <td>0.669260</td>\n",
       "    </tr>\n",
       "    <tr>\n",
       "      <th>51</th>\n",
       "      <td>1.80</td>\n",
       "      <td>1.587505</td>\n",
       "      <td>0.617483</td>\n",
       "      <td>0.377239</td>\n",
       "      <td>2.797772</td>\n",
       "      <td>0.045154</td>\n",
       "      <td>374.945209</td>\n",
       "      <td>0.447429</td>\n",
       "      <td>0.668901</td>\n",
       "    </tr>\n",
       "    <tr>\n",
       "      <th>236</th>\n",
       "      <td>0.64</td>\n",
       "      <td>1.966885</td>\n",
       "      <td>0.631663</td>\n",
       "      <td>0.728825</td>\n",
       "      <td>3.204946</td>\n",
       "      <td>1.760624</td>\n",
       "      <td>376.705833</td>\n",
       "      <td>0.448994</td>\n",
       "      <td>0.670070</td>\n",
       "    </tr>\n",
       "    <tr>\n",
       "      <th>653</th>\n",
       "      <td>-0.28</td>\n",
       "      <td>0.650688</td>\n",
       "      <td>0.674766</td>\n",
       "      <td>-0.671854</td>\n",
       "      <td>1.973230</td>\n",
       "      <td>0.866180</td>\n",
       "      <td>377.572014</td>\n",
       "      <td>0.449490</td>\n",
       "      <td>0.670441</td>\n",
       "    </tr>\n",
       "  </tbody>\n",
       "</table>\n",
       "<p>840 rows × 9 columns</p>\n",
       "</div>"
      ],
      "text/plain": [
       "     y_test  y_test_pred  y_test_std     lower     upper  sq_error  \\\n",
       "22    -1.10    -0.419521    0.322499 -1.051620  0.212578  0.463052   \n",
       "27    -0.15    -0.239007    0.332190 -0.890099  0.412085  0.007922   \n",
       "316   -0.82    -0.387454    0.374432 -1.121341  0.346432  0.187096   \n",
       "40    -1.20    -0.284922    0.399888 -1.068703  0.498859  0.837368   \n",
       "674   -1.27     0.104566    0.406933 -0.693023  0.902155  1.889432   \n",
       "..      ...          ...         ...       ...       ...       ...   \n",
       "271    2.40     2.138730    0.611823  0.939557  3.337902  0.068262   \n",
       "488    0.01     1.598447    0.616082  0.390927  2.805968  2.523165   \n",
       "51     1.80     1.587505    0.617483  0.377239  2.797772  0.045154   \n",
       "236    0.64     1.966885    0.631663  0.728825  3.204946  1.760624   \n",
       "653   -0.28     0.650688    0.674766 -0.671854  1.973230  0.866180   \n",
       "\n",
       "     cumul_sq_error  cumul_mse  cumul_rmse  \n",
       "22         0.463052   0.463052    0.680479  \n",
       "27         0.470974   0.235487    0.485270  \n",
       "316        0.658070   0.219357    0.468355  \n",
       "40         1.495438   0.373860    0.611441  \n",
       "674        3.384870   0.676974    0.822784  \n",
       "..              ...        ...         ...  \n",
       "271      372.376890   0.445427    0.667403  \n",
       "488      374.900055   0.447909    0.669260  \n",
       "51       374.945209   0.447429    0.668901  \n",
       "236      376.705833   0.448994    0.670070  \n",
       "653      377.572014   0.449490    0.670441  \n",
       "\n",
       "[840 rows x 9 columns]"
      ]
     },
     "metadata": {},
     "output_type": "display_data"
    }
   ],
   "source": [
    "CIs_df = pd.DataFrame(\n",
    "    {'y_test': y_test,\n",
    "     'y_test_pred': y_test_pred,\n",
    "     'y_test_std': y_test_std,\n",
    "     'lower': lower,\n",
    "     'upper': upper,\n",
    "     'sq_error': (y_test - y_test_pred) ** 2\n",
    "     }\n",
    ")\n",
    "CIs_df = CIs_df.sort_values(by='y_test_std', ascending=True)\n",
    "CIs_df['cumul_sq_error'] = CIs_df['sq_error'].cumsum()\n",
    "CIs_df['cumul_mse'] = CIs_df['cumul_sq_error'].values / np.arange(1, CIs_df.shape[0]+1)\n",
    "CIs_df['cumul_rmse'] = np.sqrt(CIs_df['cumul_mse'])\n",
    "display(CIs_df)"
   ]
  },
  {
   "cell_type": "code",
   "execution_count": 26,
   "metadata": {},
   "outputs": [],
   "source": [
    "# checking that calculating rmse each time separately would be the same\n",
    "CIs_df = CIs_df.sort_values(by='y_test_std', ascending=True)\n",
    "\n",
    "\n",
    "calculation_match = []\n",
    "for i in range(CIs_df.shape[0]):\n",
    "    a = CIs_df.y_test[:i+1]\n",
    "    b = CIs_df.y_test_pred[:i+1]\n",
    "    \n",
    "    calculation_match.append(np.abs(mean_squared_error(a, b, squared=False) - CIs_df.cumul_rmse.iloc[i]) < 1e-8)\n",
    "    \n",
    "# if returns true - it is the same\n",
    "assert np.all(calculation_match) "
   ]
  },
  {
   "cell_type": "markdown",
   "metadata": {
    "colab_type": "text",
    "id": "EetjBHkh_Ptb"
   },
   "source": [
    "## Plot test observations with sdt values as colours"
   ]
  },
  {
   "cell_type": "code",
   "execution_count": 27,
   "metadata": {},
   "outputs": [
    {
     "data": {
      "image/png": "[encoded data removed]",
      "text/plain": [
       "<Figure size 288x288 with 2 Axes>"
      ]
     },
     "metadata": {},
     "output_type": "display_data"
    }
   ],
   "source": [
    "# sort values used for x axis\n",
    "CIs_df = CIs_df.sort_values(by='y_test')\n",
    "\n",
    "# Plot error bars for predicted quantity using unbiased variance\n",
    "plt.figure(figsize=FIGSIZE_CI)\n",
    "\n",
    "plt.plot([np.min(y_test), np.max(y_test)], [np.min(y_test), np.max(y_test)], 'k--', label='perfect prediction')\n",
    "plt.scatter(x=CIs_df.y_test, y=CIs_df.y_test_pred, c=CIs_df.y_test_std, s=100, label='test data points')\n",
    "\n",
    "plt.xlabel(f'Measured {datasets_to_units[dataset]}')\n",
    "plt.ylabel(f'Predicted {datasets_to_units[dataset]}')\n",
    "plt.title(f'{datasets_to_titles[dataset]}')\n",
    "\n",
    "# add colourbar and legend\n",
    "plt.colorbar(label=f'estimated st.d. {datasets_to_units[dataset]}')\n",
    "plt.legend()\n",
    "\n",
    "plt.savefig(f'{PLOTS_DIR}/ci_plots/predicted_vs_measured_scatter_colour_conf_{dataset}_{cf}_{model}.png', dpi=DPI, bbox_inches='tight')\n",
    "plt.show()"
   ]
  },
  {
   "cell_type": "markdown",
   "metadata": {},
   "source": [
    "## Plot sq^error vs std"
   ]
  },
  {
   "cell_type": "code",
   "execution_count": 28,
   "metadata": {},
   "outputs": [
    {
     "data": {
      "image/png": "[encoded data removed]",
      "text/plain": [
       "<Figure size 288x288 with 1 Axes>"
      ]
     },
     "metadata": {},
     "output_type": "display_data"
    }
   ],
   "source": [
    "# sort values used for x axis\n",
    "CIs_df = CIs_df.sort_values(by='y_test_std')\n",
    "\n",
    "# Plot error bars for predicted quantity using unbiased variance\n",
    "plt.figure(figsize=FIGSIZE_CI)\n",
    "\n",
    "#plt.plot([np.min(y_test), np.max(y_test)], [np.min(y_test), np.max(y_test)], 'k--', label='perfect prediction')\n",
    "plt.scatter(x=CIs_df.y_test_std, y=CIs_df.sq_error)\n",
    "\n",
    "\n",
    "plt.xlabel(f'Estimated standard error {datasets_to_units[dataset]}')\n",
    "plt.ylabel(f'Squared error {datasets_to_units[dataset]}')\n",
    "# plt.title(f'{datasets_to_titles[dataset]}')\n",
    "\n",
    "# # add colourbar and legend\n",
    "# plt.colorbar()\n",
    "# plt.legend()\n",
    "\n",
    "#plt.savefig(f'{PLOTS_DIR}/pubs_units_values.png', bbox_inches='tight')\n",
    "plt.show()"
   ]
  },
  {
   "cell_type": "markdown",
   "metadata": {
    "colab_type": "text",
    "id": "_ccuuy4I_Pth"
   },
   "source": [
    "## Plot 95% confidence intervals"
   ]
  },
  {
   "cell_type": "code",
   "execution_count": 29,
   "metadata": {
    "colab": {
     "base_uri": "https://localhost:8080/",
     "height": 441
    },
    "colab_type": "code",
    "executionInfo": {
     "elapsed": 970,
     "status": "ok",
     "timestamp": 1599369450276,
     "user": {
      "displayName": "George Batchkala",
      "photoUrl": "",
      "userId": "17039292136363863281"
     },
     "user_tz": -180
    },
    "id": "cpgd53nspyIa",
    "outputId": "08048f48-aec6-4755-9a10-6220bb978e7d"
   },
   "outputs": [
    {
     "data": {
      "image/png": "[encoded data removed]",
      "text/plain": [
       "<Figure size 288x288 with 1 Axes>"
      ]
     },
     "metadata": {},
     "output_type": "display_data"
    }
   ],
   "source": [
    "# sort values used for x axis\n",
    "CIs_df = CIs_df.sort_values(by='y_test')\n",
    "\n",
    "fig, ax = plt.subplots(1, figsize=FIGSIZE_CI)\n",
    "\n",
    "# ax.set_aspect('equal')\n",
    "\n",
    "ax.plot([np.min(y_test), np.max(y_test)], [np.min(y_test), np.max(y_test)], 'k--', label='perfect prediction')\n",
    "\n",
    "ax.plot(CIs_df.y_test, CIs_df.lower, linewidth=1, linestyle='--', label='lower confidence bound')\n",
    "ax.plot(CIs_df.y_test, CIs_df.upper, linewidth=1, linestyle='--', label='upper confidence bound')\n",
    "ax.fill_between(CIs_df.y_test, CIs_df.upper, CIs_df.lower, facecolor='blue', alpha=0.2)\n",
    "\n",
    "\n",
    "\n",
    "\n",
    "ax.set_title(f'{datasets_to_titles[dataset]}')\n",
    "ax.set_xlabel(f'Measured {datasets_to_units[dataset]}')\n",
    "ax.set_ylabel(f'Predicted {datasets_to_units[dataset]}')\n",
    "\n",
    "ax.legend(loc='upper left')\n",
    "\n",
    "#plt.savefig(f'{PLOTS_DIR}/ci_plots/predicted_vs_measured_with_ci_bounds_{dataset}_{cf}_{model}.png', dpi=DPI, bbox_inches='tight')\n",
    "plt.show()"
   ]
  },
  {
   "cell_type": "markdown",
   "metadata": {
    "colab_type": "text",
    "id": "fkOsQTGu_Ptp"
   },
   "source": [
    "## Calculate the proportion of measured values in test set within 95% CIs"
   ]
  },
  {
   "cell_type": "code",
   "execution_count": 30,
   "metadata": {
    "colab": {
     "base_uri": "https://localhost:8080/",
     "height": 221
    },
    "colab_type": "code",
    "executionInfo": {
     "elapsed": 579,
     "status": "ok",
     "timestamp": 1599369452924,
     "user": {
      "displayName": "George Batchkala",
      "photoUrl": "",
      "userId": "17039292136363863281"
     },
     "user_tz": -180
    },
    "id": "aZIgKoxLOA-p",
    "outputId": "8b369c63-d466-4717-c195-36989bb8c229"
   },
   "outputs": [
    {
     "data": {
      "text/plain": [
       "0.8761904761904762"
      ]
     },
     "execution_count": 30,
     "metadata": {},
     "output_type": "execute_result"
    }
   ],
   "source": [
    "within_cis = (CIs_df.lower <= CIs_df.y_test) & (CIs_df.y_test <= CIs_df.upper)\n",
    "within_cis.sum() / len(within_cis)"
   ]
  },
  {
   "cell_type": "markdown",
   "metadata": {
    "colab": {
     "base_uri": "https://localhost:8080/",
     "height": 34
    },
    "colab_type": "code",
    "executionInfo": {
     "elapsed": 558,
     "status": "ok",
     "timestamp": 1599369454940,
     "user": {
      "displayName": "George Batchkala",
      "photoUrl": "",
      "userId": "17039292136363863281"
     },
     "user_tz": -180
    },
    "id": "xn5N35d9oyKp",
    "outputId": "e39450e9-979f-43fc-e10d-dca42f01f4b3"
   },
   "source": [
    "## Confidence plots (RMSE vs Prcentile)"
   ]
  },
  {
   "cell_type": "code",
   "execution_count": 31,
   "metadata": {
    "colab": {
     "base_uri": "https://localhost:8080/",
     "height": 34
    },
    "colab_type": "code",
    "executionInfo": {
     "elapsed": 537,
     "status": "ok",
     "timestamp": 1599369442681,
     "user": {
      "displayName": "George Batchkala",
      "photoUrl": "",
      "userId": "17039292136363863281"
     },
     "user_tz": -180
    },
    "id": "Ubu7AXP6FxHU",
    "outputId": "3198590e-bcec-42d3-d275-0c6076033c81"
   },
   "outputs": [
    {
     "data": {
      "image/png": "[encoded data removed]",
      "text/plain": [
       "<Figure size 288x288 with 1 Axes>"
      ]
     },
     "metadata": {},
     "output_type": "display_data"
    }
   ],
   "source": [
    "# sort values used for x axis\n",
    "CIs_df = CIs_df.sort_values(by='y_test_std', ascending=True)\n",
    "\n",
    "# set size\n",
    "plt.figure(figsize=FIGSIZE_CI)\n",
    "\n",
    "confidence_percentiles = np.arange(1e-14, 100, 100/len(y_test))\n",
    "flipped_cumul_rmse = CIs_df['cumul_rmse'].values[::-1]\n",
    "\n",
    "\n",
    "plt.plot(confidence_percentiles, flipped_cumul_rmse)\n",
    "plt.title(datasets_to_titles[dataset])\n",
    "plt.xlabel('Confidence percentile')\n",
    "plt.ylabel(f'RMSE {datasets_to_units[dataset]}')\n",
    "\n",
    "\n",
    "plt.savefig(f'{PLOTS_DIR}/ci_plots/cumulrmse_vs_confidence_one_run_{dataset}_{cf}_{model}.png', dpi=DPI, bbox_inches='tight')\n",
    "plt.show()"
   ]
  },
  {
   "cell_type": "code",
   "execution_count": 32,
   "metadata": {},
   "outputs": [
    {
     "data": {
      "text/plain": [
       "(0.7326054013062566, 3.6896446690908566e-142)"
      ]
     },
     "execution_count": 32,
     "metadata": {},
     "output_type": "execute_result"
    }
   ],
   "source": [
    "corr, p_value = pearsonr(confidence_percentiles, flipped_cumul_rmse)\n",
    "corr, p_value"
   ]
  },
  {
   "cell_type": "markdown",
   "metadata": {
    "colab_type": "text",
    "id": "dyMFpUthnFTG"
   },
   "source": [
    "# Multiple runs"
   ]
  },
  {
   "cell_type": "code",
   "execution_count": 33,
   "metadata": {},
   "outputs": [],
   "source": [
    "dataset_to_num_cis = {\n",
    "    'freesolv': 50,\n",
    "    'esol': 30,\n",
    "    'lipophilicity': 10\n",
    "}"
   ]
  },
  {
   "cell_type": "code",
   "execution_count": 34,
   "metadata": {},
   "outputs": [
    {
     "data": {
      "text/plain": [
       "10"
      ]
     },
     "execution_count": 34,
     "metadata": {},
     "output_type": "execute_result"
    }
   ],
   "source": [
    "dataset_to_num_cis[dataset]"
   ]
  },
  {
   "cell_type": "code",
   "execution_count": 35,
   "metadata": {
    "colab": {},
    "colab_type": "code",
    "executionInfo": {
     "elapsed": 815516,
     "status": "ok",
     "timestamp": 1599370274333,
     "user": {
      "displayName": "George Batchkala",
      "photoUrl": "",
      "userId": "17039292136363863281"
     },
     "user_tz": -180
    },
    "id": "Y9gls6mP0Gl4"
   },
   "outputs": [
    {
     "name": "stdout",
     "output_type": "stream",
     "text": [
      "Done\n"
     ]
    }
   ],
   "source": [
    "rmse_mult_runs = []\n",
    "within_95_cis_mult_runs = []\n",
    "cumulrmse_vs_percentile_corr_mult_runs = []\n",
    "\n",
    "flipped_cumulrmse_mult_runs = []\n",
    "\n",
    "for i in range(dataset_to_num_cis[dataset]):\n",
    "    \n",
    "    # get data\n",
    "    y_test = df_true.iloc[:, i]\n",
    "    y_test_pred = df_pred.iloc[:, i]\n",
    "    y_test_std = df_std.iloc[:, i]\n",
    "    \n",
    "    # calculate and record rmse\n",
    "    rmse_mult_runs.append(mean_squared_error(y_true=y_test, y_pred=y_test_pred, squared=False))\n",
    "    \n",
    "    # calculate upper and lower 95% conf bounds\n",
    "    upper = y_test_pred + 1.96 * y_test_std\n",
    "    lower = y_test_pred - 1.96 * y_test_std\n",
    "    \n",
    "    # calculate and record proportion of true values within 95% CI from prediction\n",
    "    within_cis = (lower <= y_test) & (y_test <= upper)\n",
    "    within_cis_proportion = within_cis.sum() / len(within_cis)\n",
    "    within_95_cis_mult_runs.append(within_cis_proportion)\n",
    "    \n",
    "    # create a dataframe to be able to sort things easily\n",
    "    CIs_df = pd.DataFrame(\n",
    "        {'y_test': y_test,\n",
    "         'y_test_pred': y_test_pred,\n",
    "         'y_test_std': y_test_std,\n",
    "         'lower': lower,\n",
    "         'upper': upper,\n",
    "         'sq_error': (y_test - y_test_pred) ** 2\n",
    "        }\n",
    "    )\n",
    "    \n",
    "    # create cumulative rmse column\n",
    "    CIs_df = CIs_df.sort_values(by='y_test_std', ascending=True)\n",
    "    CIs_df['cumul_sq_error'] = CIs_df['sq_error'].cumsum()\n",
    "    CIs_df['cumul_mse'] = CIs_df['cumul_sq_error'].values / np.arange(1, CIs_df.shape[0]+1)\n",
    "    CIs_df['cumul_rmse'] = np.sqrt(CIs_df['cumul_mse'])\n",
    "    \n",
    "    # record confidence percentiles and flip cumulative rmses\n",
    "    confidence_percentiles = np.arange(1e-14, 100, 100/len(y_test))\n",
    "    flipped_cumul_rmse = CIs_df['cumul_rmse'].values[::-1]\n",
    "    \n",
    "    # record flipped cumulative rmse\n",
    "    flipped_cumulrmse_mult_runs.append(flipped_cumul_rmse)\n",
    "    \n",
    "    # record correlation between cumulative rmse and confidence percentile\n",
    "    cumulrmse_vs_percentile_corr_mult_runs.append(pearsonr(confidence_percentiles, flipped_cumul_rmse)[0])\n",
    "\n",
    "print('Done')"
   ]
  },
  {
   "cell_type": "markdown",
   "metadata": {},
   "source": [
    "# Important metrics (corr, rmse, within_95)"
   ]
  },
  {
   "cell_type": "code",
   "execution_count": 36,
   "metadata": {},
   "outputs": [
    {
     "data": {
      "text/plain": [
       "('lipophilicity', 'full', 'rf')"
      ]
     },
     "execution_count": 36,
     "metadata": {},
     "output_type": "execute_result"
    }
   ],
   "source": [
    "dataset, cf, model"
   ]
  },
  {
   "cell_type": "markdown",
   "metadata": {},
   "source": [
    "## Correlation"
   ]
  },
  {
   "cell_type": "code",
   "execution_count": 37,
   "metadata": {
    "colab": {},
    "colab_type": "code",
    "id": "h1sXVpJKnFTN"
   },
   "outputs": [],
   "source": [
    "#cumulrmse_vs_percentile_corr_mult_runs"
   ]
  },
  {
   "cell_type": "code",
   "execution_count": 38,
   "metadata": {
    "colab": {},
    "colab_type": "code",
    "executionInfo": {
     "elapsed": 2656,
     "status": "ok",
     "timestamp": 1599358918465,
     "user": {
      "displayName": "George Batchkala",
      "photoUrl": "",
      "userId": "17039292136363863281"
     },
     "user_tz": -180
    },
    "id": "Oc2Tqd6snFTQ"
   },
   "outputs": [
    {
     "data": {
      "text/plain": [
       "(0.268, 0.346)"
      ]
     },
     "execution_count": 38,
     "metadata": {},
     "output_type": "execute_result"
    }
   ],
   "source": [
    "np.mean(cumulrmse_vs_percentile_corr_mult_runs).round(3), np.std(cumulrmse_vs_percentile_corr_mult_runs).round(3)"
   ]
  },
  {
   "cell_type": "markdown",
   "metadata": {},
   "source": [
    "## RMSE"
   ]
  },
  {
   "cell_type": "code",
   "execution_count": 39,
   "metadata": {
    "colab": {},
    "colab_type": "code",
    "executionInfo": {
     "elapsed": 814347,
     "status": "ok",
     "timestamp": 1599370274334,
     "user": {
      "displayName": "George Batchkala",
      "photoUrl": "",
      "userId": "17039292136363863281"
     },
     "user_tz": -180
    },
    "id": "gRnk3OYHnFS_"
   },
   "outputs": [],
   "source": [
    "#rmse_mult_runs"
   ]
  },
  {
   "cell_type": "code",
   "execution_count": 40,
   "metadata": {},
   "outputs": [
    {
     "data": {
      "text/plain": [
       "(0.671, 0.02)"
      ]
     },
     "execution_count": 40,
     "metadata": {},
     "output_type": "execute_result"
    }
   ],
   "source": [
    "np.mean(rmse_mult_runs).round(3), np.std(rmse_mult_runs).round(3)"
   ]
  },
  {
   "cell_type": "markdown",
   "metadata": {},
   "source": [
    "## Within 95% CIs"
   ]
  },
  {
   "cell_type": "code",
   "execution_count": 41,
   "metadata": {
    "colab": {},
    "colab_type": "code",
    "executionInfo": {
     "elapsed": 814026,
     "status": "ok",
     "timestamp": 1599370274336,
     "user": {
      "displayName": "George Batchkala",
      "photoUrl": "",
      "userId": "17039292136363863281"
     },
     "user_tz": -180
    },
    "id": "-4e1uVb7nFTB"
   },
   "outputs": [],
   "source": [
    "#within_95_cis_mult_runs"
   ]
  },
  {
   "cell_type": "code",
   "execution_count": 42,
   "metadata": {},
   "outputs": [
    {
     "data": {
      "text/plain": [
       "(0.811, 0.042)"
      ]
     },
     "execution_count": 42,
     "metadata": {},
     "output_type": "execute_result"
    }
   ],
   "source": [
    "np.mean(within_95_cis_mult_runs).round(3), np.std(within_95_cis_mult_runs).round(3)"
   ]
  },
  {
   "cell_type": "markdown",
   "metadata": {},
   "source": [
    "# Separate plots (do not save)"
   ]
  },
  {
   "cell_type": "code",
   "execution_count": 43,
   "metadata": {},
   "outputs": [
    {
     "data": {
      "image/png": "[encoded data removed]",
      "text/plain": [
       "<Figure size 576x288 with 1 Axes>"
      ]
     },
     "metadata": {},
     "output_type": "display_data"
    }
   ],
   "source": [
    "# set size\n",
    "plt.figure(figsize=FIGSIZE_HEATMAP)\n",
    "\n",
    "for flipped_cumul_rmse in flipped_cumulrmse_mult_runs:\n",
    "    plt.plot(confidence_percentiles, flipped_cumul_rmse, linewidth=1)\n",
    "\n",
    "plt.title(datasets_to_titles[dataset])\n",
    "plt.xlabel('Confidence percentile')\n",
    "plt.ylabel(f'RMSE {datasets_to_units[dataset]}')\n",
    "\n",
    "\n",
    "#plt.savefig(f'{PLOTS_DIR}/ci_plots/cumulrmse_vs_confidence_mult_run_{dataset}_{cf}_{model}.png', dpi=DPI, bbox_inches='tight')\n",
    "plt.show()"
   ]
  },
  {
   "cell_type": "markdown",
   "metadata": {},
   "source": [
    "# Calculations for Confidence Plot"
   ]
  },
  {
   "cell_type": "code",
   "execution_count": 44,
   "metadata": {
    "colab": {},
    "colab_type": "code",
    "id": "1TkWwDInnFTT"
   },
   "outputs": [],
   "source": [
    "#print(np.array(flipped_cumulrmse_mult_runs).shape)\n",
    "#print(np.array(flipped_cumulrmse_mult_runs).std(axis=0).shape)\n",
    "#print(np.array(flipped_cumulrmse_mult_runs).mean(axis=0).shape)\n",
    "\n",
    "flipped_cumulrmse_mean = np.array(flipped_cumulrmse_mult_runs).mean(axis=0)\n",
    "flipped_cumulrmse_sdt = np.array(flipped_cumulrmse_mult_runs).mean(axis=0)\n",
    "\n",
    "flipped_cumulrmse_lower = flipped_cumulrmse_mean - 1.96*flipped_cumulrmse_sdt\n",
    "flipped_cumulrmse_upper = flipped_cumulrmse_mean + 1.96*flipped_cumulrmse_sdt"
   ]
  },
  {
   "cell_type": "code",
   "execution_count": 45,
   "metadata": {
    "colab": {},
    "colab_type": "code",
    "id": "8nSzBZlUnFTV"
   },
   "outputs": [
    {
     "data": {
      "image/png": "[encoded data removed]",
      "text/plain": [
       "<Figure size 576x288 with 1 Axes>"
      ]
     },
     "metadata": {},
     "output_type": "display_data"
    }
   ],
   "source": [
    "# set size\n",
    "plt.figure(figsize=FIGSIZE_HEATMAP)\n",
    "\n",
    "plt.plot(confidence_percentiles, flipped_cumulrmse_mean, label=f'mean {metric}')\n",
    "plt.plot(confidence_percentiles, flipped_cumulrmse_lower, label=f'lower 95% CI bound')\n",
    "plt.plot(confidence_percentiles, flipped_cumulrmse_upper, label=f'upper 95% CI bound')\n",
    "plt.fill_between(confidence_percentiles, flipped_cumulrmse_upper, flipped_cumulrmse_lower, facecolor='blue', alpha=0.2)\n",
    "\n",
    "plt.legend(loc='upper center')\n",
    "\n",
    "plt.title(datasets_to_titles[dataset])\n",
    "plt.xlabel('Confidence percentile')\n",
    "plt.ylabel(f'RMSE {datasets_to_units[dataset]}')\n",
    "\n",
    "#plt.savefig(f'{PLOTS_DIR}/ci_plots/cumulrmse_vs_confidence_with_ci_bounds_{dataset}_{cf}_{model}.png', dpi=DPI, bbox_inches='tight')\n",
    "plt.show()"
   ]
  },
  {
   "cell_type": "markdown",
   "metadata": {},
   "source": [
    "### Together"
   ]
  },
  {
   "cell_type": "code",
   "execution_count": 46,
   "metadata": {
    "colab": {},
    "colab_type": "code",
    "id": "TaJxLDSvnFTa"
   },
   "outputs": [
    {
     "data": {
      "image/png": "[encoded data removed]",
      "text/plain": [
       "<Figure size 576x576 with 2 Axes>"
      ]
     },
     "metadata": {},
     "output_type": "display_data"
    }
   ],
   "source": [
    "# Create two subplots and unpack the output array immediately\n",
    "f, (ax1, ax2) = plt.subplots(2, 1, figsize=(8, 8)) #, sharey=True\n",
    "\n",
    "for flipped_cumul_rmse in flipped_cumulrmse_mult_runs:\n",
    "    ax1.plot(confidence_percentiles, flipped_cumul_rmse, linewidth=1)\n",
    "\n",
    "ax1.set_title(datasets_to_titles[dataset])\n",
    "#ax1.set_xlabel('Confidence percentile')\n",
    "ax1.set_ylabel(f'RMSE {datasets_to_units[dataset]}')\n",
    "\n",
    "\n",
    "ax2.plot(confidence_percentiles, flipped_cumulrmse_mean, label=f'mean {metric}')\n",
    "ax2.plot(confidence_percentiles, flipped_cumulrmse_lower, label=f'lower 95% CI bound')\n",
    "ax2.plot(confidence_percentiles, flipped_cumulrmse_upper, label=f'upper 95% CI bound')\n",
    "ax2.fill_between(confidence_percentiles, flipped_cumulrmse_upper, flipped_cumulrmse_lower, facecolor='blue', alpha=0.2)\n",
    "\n",
    "ax2.legend(loc='upper center')\n",
    "\n",
    "#ax2.set_title(datasets_to_titles[dataset])\n",
    "ax2.set_xlabel('Confidence percentile')\n",
    "ax2.set_ylabel(f'RMSE {datasets_to_units[dataset]}')\n",
    "\n",
    "plt.savefig(f'{PLOTS_DIR}/ci_plots/cumulrmse_vs_confidence_multiple_runs_both_{dataset}_{cf}_{model}.png', dpi=DPI, bbox_inches='tight')\n",
    "plt.show()"
   ]
  },
  {
   "cell_type": "code",
   "execution_count": null,
   "metadata": {},
   "outputs": [],
   "source": []
  },
  {
   "cell_type": "code",
   "execution_count": null,
   "metadata": {},
   "outputs": [],
   "source": []
  }
 ],
 "metadata": {
  "colab": {
   "collapsed_sections": [],
   "name": "colab_extended_ci_rf_and_gp_saving_results.ipynb",
   "provenance": [],
   "toc_visible": true
  },
  "kernelspec": {
   "display_name": "Python [conda env:batch-msc] *",
   "language": "python",
   "name": "conda-env-batch-msc-py"
  },
  "language_info": {
   "codemirror_mode": {
    "name": "ipython",
    "version": 3
   },
   "file_extension": ".py",
   "mimetype": "text/x-python",
   "name": "python",
   "nbconvert_exporter": "python",
   "pygments_lexer": "ipython3",
   "version": "3.6.10"
  }
 },
 "nbformat": 4,
 "nbformat_minor": 1
}
