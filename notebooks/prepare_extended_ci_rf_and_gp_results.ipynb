{
 "cells": [
  {
   "cell_type": "markdown",
   "metadata": {
    "colab_type": "text",
    "id": "iwDYlLl8rOL4"
   },
   "source": [
    "# About"
   ]
  },
  {
   "cell_type": "markdown",
   "metadata": {},
   "source": [
    "Here we prepare the results to be used in plots and tables by combining them, extracting a metric of interest and saving them into csv files.\n",
    "\n",
    "The results were obtained in:\n",
    "- `colab_extended_ci_rf_and_gp_saving_results.ipnb`"
   ]
  },
  {
   "cell_type": "code",
   "execution_count": null,
   "metadata": {},
   "outputs": [],
   "source": []
  },
  {
   "cell_type": "code",
   "execution_count": 497,
   "metadata": {
    "colab": {
     "base_uri": "https://localhost:8080/",
     "height": 187
    },
    "colab_type": "code",
    "executionInfo": {
     "elapsed": 1132,
     "status": "ok",
     "timestamp": 1599367180747,
     "user": {
      "displayName": "George Batchkala",
      "photoUrl": "",
      "userId": "17039292136363863281"
     },
     "user_tz": -180
    },
    "id": "KXdDhDGgeIeq",
    "outputId": "ac29522b-b410-41be-c74b-3bb849f12683"
   },
   "outputs": [
    {
     "name": "stdout",
     "output_type": "stream",
     "text": [
      "all_plots.ipynb\r\n",
      "colab_extended_GPflow_pipeline.ipynb\r\n",
      "colab_extended_ci_rf_and_gp_saving_results.ipynb\r\n",
      "colab_extended_grid_search_pipeline.ipynb\r\n",
      "colab_reproducing_ci_gp.ipynb\r\n",
      "colab_reproducing_ci_rf.ipynb\r\n",
      "colab_reproducing_grid_search_pipeline.ipynb\r\n",
      "eda.ipynb\r\n",
      "prepare_extended_ci_rf_and_gp_results.ipynb\r\n",
      "prepare_extended_grid_search_results.ipynb\r\n",
      "prepare_reproducing_grid_search_results.ipynb\r\n"
     ]
    }
   ],
   "source": [
    "%ls"
   ]
  },
  {
   "cell_type": "code",
   "execution_count": 498,
   "metadata": {
    "colab": {
     "base_uri": "https://localhost:8080/",
     "height": 442
    },
    "colab_type": "code",
    "executionInfo": {
     "elapsed": 1789,
     "status": "ok",
     "timestamp": 1599367191557,
     "user": {
      "displayName": "George Batchkala",
      "photoUrl": "",
      "userId": "17039292136363863281"
     },
     "user_tz": -180
    },
    "id": "pKc-Tl2jKRz3",
    "outputId": "53d49ad6-3349-41ed-c464-5342909ee43b"
   },
   "outputs": [
    {
     "name": "stdout",
     "output_type": "stream",
     "text": [
      "ESOL_README\r\n",
      "FreeSolv_README\r\n",
      "Lipo_README\r\n",
      "esol_original.csv\r\n",
      "esol_original_1024ecfp4_features.csv\r\n",
      "esol_original_1024ecfp6_features.csv\r\n",
      "esol_original_2048ecfp4_features.csv\r\n",
      "esol_original_2048ecfp6_features.csv\r\n",
      "esol_original_IdSmilesLabels.csv\r\n",
      "esol_original_extra_features.csv\r\n",
      "esol_original_rdkit_features.csv\r\n",
      "freesolv_original.csv\r\n",
      "freesolv_original_1024ecfp4_features.csv\r\n",
      "freesolv_original_1024ecfp6_features.csv\r\n",
      "freesolv_original_2048ecfp4_features.csv\r\n",
      "freesolv_original_2048ecfp6_features.csv\r\n",
      "freesolv_original_IdSmilesLabels.csv\r\n",
      "freesolv_original_rdkit_features.csv\r\n",
      "lipophilicity_original.csv\r\n",
      "lipophilicity_original_1024ecfp4_features.csv\r\n",
      "lipophilicity_original_1024ecfp6_features.csv\r\n",
      "lipophilicity_original_2048ecfp4_features.csv\r\n",
      "lipophilicity_original_2048ecfp6_features.csv\r\n",
      "lipophilicity_original_IdSmilesLabels.csv\r\n",
      "lipophilicity_original_rdkit_features.csv\r\n"
     ]
    }
   ],
   "source": [
    "%ls ../data/"
   ]
  },
  {
   "cell_type": "markdown",
   "metadata": {
    "colab_type": "text",
    "id": "cG9tpt04e0iN"
   },
   "source": [
    "## Import modules"
   ]
  },
  {
   "cell_type": "markdown",
   "metadata": {
    "colab_type": "text",
    "id": "D6wO2E_J6gM6"
   },
   "source": [
    "### Standard imports"
   ]
  },
  {
   "cell_type": "code",
   "execution_count": 499,
   "metadata": {
    "colab": {},
    "colab_type": "code",
    "executionInfo": {
     "elapsed": 1881,
     "status": "ok",
     "timestamp": 1599367193789,
     "user": {
      "displayName": "George Batchkala",
      "photoUrl": "",
      "userId": "17039292136363863281"
     },
     "user_tz": -180
    },
    "id": "sjl-QAB5e4I3"
   },
   "outputs": [],
   "source": [
    "import json\n",
    "import pickle\n",
    "\n",
    "import sys\n",
    "\n",
    "import numpy as np\n",
    "import pandas as pd\n",
    "import matplotlib.pyplot as plt\n",
    "import seaborn as sns"
   ]
  },
  {
   "cell_type": "code",
   "execution_count": 500,
   "metadata": {
    "colab": {
     "base_uri": "https://localhost:8080/",
     "height": 34
    },
    "colab_type": "code",
    "executionInfo": {
     "elapsed": 1241,
     "status": "ok",
     "timestamp": 1599367193790,
     "user": {
      "displayName": "George Batchkala",
      "photoUrl": "",
      "userId": "17039292136363863281"
     },
     "user_tz": -180
    },
    "id": "QhvLwBKDAsWr",
    "outputId": "846aa1c4-8927-4a57-ee17-7a51eb38eae1"
   },
   "outputs": [],
   "source": [
    "# metrics\n",
    "from scipy.stats import pearsonr\n",
    "from sklearn.metrics import r2_score\n",
    "from sklearn.metrics import mean_squared_error\n",
    "from sklearn.metrics import mean_absolute_error\n",
    "from sklearn.metrics import jaccard_score # Tanimoto"
   ]
  },
  {
   "cell_type": "markdown",
   "metadata": {
    "colab_type": "text",
    "id": "pCdK4Iwk6gND"
   },
   "source": [
    "### Custom imports"
   ]
  },
  {
   "cell_type": "code",
   "execution_count": 501,
   "metadata": {
    "colab": {},
    "colab_type": "code",
    "executionInfo": {
     "elapsed": 1395,
     "status": "ok",
     "timestamp": 1599367196515,
     "user": {
      "displayName": "George Batchkala",
      "photoUrl": "",
      "userId": "17039292136363863281"
     },
     "user_tz": -180
    },
    "id": "gllhJNPK6gNE"
   },
   "outputs": [],
   "source": [
    "sys.path.insert(0, '..')\n",
    "\n",
    "# plotting\n",
    "from util_scripts.plotting_functions_and_vars import FIGSIZE_CI, FIGSIZE_HEATMAP, PLOTS_DIR\n",
    "from util_scripts.plotting_functions_and_vars import datasets_to_titles, datasets_to_units, metrics_to_labels\n",
    "from util_scripts.plotting_functions_and_vars import plot_algorithm_dataset_comparison_heatmap\n",
    "\n",
    "\n",
    "from util_scripts.plotting_functions_and_vars import datasets_to_rounding_precision\n",
    "\n",
    "sys.path.insert(0, './notebooks')"
   ]
  },
  {
   "cell_type": "markdown",
   "metadata": {
    "colab_type": "text",
    "id": "daKbVAugrOMs"
   },
   "source": [
    "## Set plotting style"
   ]
  },
  {
   "cell_type": "code",
   "execution_count": 502,
   "metadata": {
    "colab": {},
    "colab_type": "code",
    "executionInfo": {
     "elapsed": 1685,
     "status": "ok",
     "timestamp": 1599367200371,
     "user": {
      "displayName": "George Batchkala",
      "photoUrl": "",
      "userId": "17039292136363863281"
     },
     "user_tz": -180
    },
    "id": "wEF0rQL3rOMt"
   },
   "outputs": [],
   "source": [
    "%matplotlib inline\n",
    "plt.style.use('fivethirtyeight')\n",
    "\n",
    "plt.rcParams['axes.facecolor']='w'\n",
    "#plt.rcParams['axes.linewidth']=1\n",
    "plt.rcParams['axes.edgecolor']='w'\n",
    "plt.rcParams['figure.facecolor']='w'\n",
    "plt.rcParams['savefig.facecolor']='w'\n",
    "#plt.rcParams['grid.color']='white'\n",
    "\n",
    "# sns.set()"
   ]
  },
  {
   "cell_type": "markdown",
   "metadata": {
    "colab_type": "text",
    "id": "o4r2WevweR5i"
   },
   "source": [
    "# Load Data"
   ]
  },
  {
   "cell_type": "markdown",
   "metadata": {
    "colab_type": "text",
    "id": "K-fg6Gq6qt8p"
   },
   "source": [
    "## CHOOSE: dataset, smile_type, grid_search_type"
   ]
  },
  {
   "cell_type": "code",
   "execution_count": 540,
   "metadata": {
    "colab": {},
    "colab_type": "code",
    "executionInfo": {
     "elapsed": 486,
     "status": "ok",
     "timestamp": 1599369100807,
     "user": {
      "displayName": "George Batchkala",
      "photoUrl": "",
      "userId": "17039292136363863281"
     },
     "user_tz": -180
    },
    "id": "DmVtuXvrrOMx"
   },
   "outputs": [],
   "source": [
    "dataset = 'esol'\n",
    "assert dataset in ['freesolv', 'esol', 'lipophilicity']\n",
    "\n",
    "smile_type = 'original'\n",
    "assert smile_type in ['original', 'protonated']\n",
    "\n",
    "grid_search_type = 'extended'\n",
    "assert grid_search_type in ['reproducing', 'extended']\n",
    "\n",
    "# correlated features treatment\n",
    "if dataset == 'esol':\n",
    "    cf = 'reduced'\n",
    "else:\n",
    "    cf = 'full'\n",
    "assert cf in ['reduced', 'full']"
   ]
  },
  {
   "cell_type": "code",
   "execution_count": 541,
   "metadata": {},
   "outputs": [],
   "source": [
    "# # for esol\n",
    "cf = 'full'"
   ]
  },
  {
   "cell_type": "markdown",
   "metadata": {
    "colab_type": "text",
    "id": "Tvy3ngWanFP_"
   },
   "source": [
    "## Titles, Units and Labels for datasets"
   ]
  },
  {
   "cell_type": "code",
   "execution_count": 542,
   "metadata": {
    "colab": {
     "base_uri": "https://localhost:8080/",
     "height": 68
    },
    "colab_type": "code",
    "executionInfo": {
     "elapsed": 1033,
     "status": "ok",
     "timestamp": 1599369104364,
     "user": {
      "displayName": "George Batchkala",
      "photoUrl": "",
      "userId": "17039292136363863281"
     },
     "user_tz": -180
    },
    "id": "xGB7XOf1_PrT",
    "outputId": "f286b9a8-6363-4425-f354-495e8079c359"
   },
   "outputs": [
    {
     "name": "stdout",
     "output_type": "stream",
     "text": [
      "freesolv      :  Solvation Energy\n",
      "esol          :  Log Solubility\n",
      "lipophilicity :  Octanol/Water Distribution Coefficient\n"
     ]
    }
   ],
   "source": [
    "for key, value in datasets_to_titles.items():\n",
    "    print(key, (13 - len(key))*' ' + ': ',  value)"
   ]
  },
  {
   "cell_type": "code",
   "execution_count": 543,
   "metadata": {
    "colab": {
     "base_uri": "https://localhost:8080/",
     "height": 68
    },
    "colab_type": "code",
    "executionInfo": {
     "elapsed": 464,
     "status": "ok",
     "timestamp": 1599369104654,
     "user": {
      "displayName": "George Batchkala",
      "photoUrl": "",
      "userId": "17039292136363863281"
     },
     "user_tz": -180
    },
    "id": "C7EdTtuv_PrX",
    "outputId": "b05507fc-8e5e-4b84-b0cd-c7310199a055"
   },
   "outputs": [
    {
     "name": "stdout",
     "output_type": "stream",
     "text": [
      "freesolv      :  (kcal/mol)\n",
      "esol          :  (mol/litre)\n",
      "lipophilicity :  (logD)\n"
     ]
    }
   ],
   "source": [
    "for key, value in datasets_to_units.items():\n",
    "    print(key, (13 - len(key))*' ' + ': ',  value)"
   ]
  },
  {
   "cell_type": "code",
   "execution_count": 544,
   "metadata": {},
   "outputs": [
    {
     "name": "stdout",
     "output_type": "stream",
     "text": [
      "RMSE          :  root-mean-square error\n",
      "MAE           :  mean absolute error\n",
      "R^2           :  R^2 (coefficient of determination)\n",
      "pearson_r     :  Pearson correlation\n"
     ]
    }
   ],
   "source": [
    "for key, value in metrics_to_labels.items():\n",
    "    print(key, (13 - len(key))*' ' + ': ',  value)"
   ]
  },
  {
   "cell_type": "code",
   "execution_count": 545,
   "metadata": {
    "colab": {},
    "colab_type": "code",
    "executionInfo": {
     "elapsed": 640,
     "status": "ok",
     "timestamp": 1599369105549,
     "user": {
      "displayName": "George Batchkala",
      "photoUrl": "",
      "userId": "17039292136363863281"
     },
     "user_tz": -180
    },
    "id": "Fyv7vIwJ_Pra"
   },
   "outputs": [
    {
     "data": {
      "text/plain": [
       "2"
      ]
     },
     "execution_count": 545,
     "metadata": {},
     "output_type": "execute_result"
    }
   ],
   "source": [
    "rp = datasets_to_rounding_precision[dataset]\n",
    "rp"
   ]
  },
  {
   "cell_type": "markdown",
   "metadata": {
    "colab_type": "text",
    "id": "1PIRIaAszL4P"
   },
   "source": [
    "## CHOOSE metric to display"
   ]
  },
  {
   "cell_type": "markdown",
   "metadata": {
    "colab_type": "text",
    "id": "0j-LrNtiVaEG"
   },
   "source": []
  },
  {
   "cell_type": "code",
   "execution_count": 546,
   "metadata": {
    "colab": {},
    "colab_type": "code",
    "executionInfo": {
     "elapsed": 1065,
     "status": "ok",
     "timestamp": 1599369108985,
     "user": {
      "displayName": "George Batchkala",
      "photoUrl": "",
      "userId": "17039292136363863281"
     },
     "user_tz": -180
    },
    "id": "xmL5nV-BeOcC"
   },
   "outputs": [],
   "source": [
    "metric = 'RMSE'\n",
    "assert metric in metrics_to_labels"
   ]
  },
  {
   "cell_type": "code",
   "execution_count": 547,
   "metadata": {
    "colab": {},
    "colab_type": "code",
    "executionInfo": {
     "elapsed": 2470,
     "status": "ok",
     "timestamp": 1599369110775,
     "user": {
      "displayName": "George Batchkala",
      "photoUrl": "",
      "userId": "17039292136363863281"
     },
     "user_tz": -180
    },
    "id": "_Do5D_wx6gNW"
   },
   "outputs": [],
   "source": [
    "if metric in ['RMSE', 'MAE']:\n",
    "    pass\n",
    "else:\n",
    "    # no units\n",
    "    datasets_to_units = {'freesolv': '', 'esol': '', 'lipophilicity': ''}"
   ]
  },
  {
   "cell_type": "code",
   "execution_count": null,
   "metadata": {
    "colab": {
     "base_uri": "https://localhost:8080/",
     "height": 136
    },
    "colab_type": "code",
    "executionInfo": {
     "elapsed": 871,
     "status": "ok",
     "timestamp": 1599369112365,
     "user": {
      "displayName": "George Batchkala",
      "photoUrl": "",
      "userId": "17039292136363863281"
     },
     "user_tz": -180
    },
    "id": "r6LtAy9jzToO",
    "outputId": "be58b8c1-196f-42ee-bb62-5ffe57868ab8"
   },
   "outputs": [],
   "source": []
  },
  {
   "cell_type": "markdown",
   "metadata": {},
   "source": [
    "## Choose model to show"
   ]
  },
  {
   "cell_type": "code",
   "execution_count": 548,
   "metadata": {},
   "outputs": [],
   "source": [
    "model = 'gp'\n",
    "assert model in ['rf', 'gp']"
   ]
  },
  {
   "cell_type": "markdown",
   "metadata": {},
   "source": [
    "## Load files:"
   ]
  },
  {
   "cell_type": "code",
   "execution_count": 549,
   "metadata": {},
   "outputs": [
    {
     "name": "stdout",
     "output_type": "stream",
     "text": [
      "esol original extended full gp\n"
     ]
    }
   ],
   "source": [
    "print(dataset, smile_type, grid_search_type, cf, model)"
   ]
  },
  {
   "cell_type": "code",
   "execution_count": 550,
   "metadata": {},
   "outputs": [],
   "source": [
    "# save results as csv-s, rewrite each time\n",
    "df_true = pd.read_csv(f'../results/{dataset}_{smile_type}_{grid_search_type}_{cf}_multiple_ci_runs_true_{model}.csv')\n",
    "df_pred = pd.read_csv(f'../results/{dataset}_{smile_type}_{grid_search_type}_{cf}_multiple_ci_runs_pred_{model}.csv')\n",
    "df_std = pd.read_csv(f'../results/{dataset}_{smile_type}_{grid_search_type}_{cf}_multiple_ci_runs_std_{model}.csv')"
   ]
  },
  {
   "cell_type": "markdown",
   "metadata": {},
   "source": [
    "## Have a look at files"
   ]
  },
  {
   "cell_type": "code",
   "execution_count": 551,
   "metadata": {},
   "outputs": [
    {
     "data": {
      "text/plain": [
       "((226, 30), (226, 30), (226, 30))"
      ]
     },
     "execution_count": 551,
     "metadata": {},
     "output_type": "execute_result"
    }
   ],
   "source": [
    "df_true.shape, df_pred.shape, df_std.shape"
   ]
  },
  {
   "cell_type": "code",
   "execution_count": 552,
   "metadata": {},
   "outputs": [
    {
     "data": {
      "text/html": [
       "<div>\n",
       "<style scoped>\n",
       "    .dataframe tbody tr th:only-of-type {\n",
       "        vertical-align: middle;\n",
       "    }\n",
       "\n",
       "    .dataframe tbody tr th {\n",
       "        vertical-align: top;\n",
       "    }\n",
       "\n",
       "    .dataframe thead th {\n",
       "        text-align: right;\n",
       "    }\n",
       "</style>\n",
       "<table border=\"1\" class=\"dataframe\">\n",
       "  <thead>\n",
       "    <tr style=\"text-align: right;\">\n",
       "      <th></th>\n",
       "      <th>test_true_0</th>\n",
       "      <th>test_true_1</th>\n",
       "      <th>test_true_2</th>\n",
       "      <th>test_true_3</th>\n",
       "      <th>test_true_4</th>\n",
       "      <th>test_true_5</th>\n",
       "      <th>test_true_6</th>\n",
       "      <th>test_true_7</th>\n",
       "      <th>test_true_8</th>\n",
       "      <th>test_true_9</th>\n",
       "      <th>...</th>\n",
       "      <th>test_true_20</th>\n",
       "      <th>test_true_21</th>\n",
       "      <th>test_true_22</th>\n",
       "      <th>test_true_23</th>\n",
       "      <th>test_true_24</th>\n",
       "      <th>test_true_25</th>\n",
       "      <th>test_true_26</th>\n",
       "      <th>test_true_27</th>\n",
       "      <th>test_true_28</th>\n",
       "      <th>test_true_29</th>\n",
       "    </tr>\n",
       "  </thead>\n",
       "  <tbody>\n",
       "    <tr>\n",
       "      <th>0</th>\n",
       "      <td>-2.540</td>\n",
       "      <td>-0.010</td>\n",
       "      <td>-2.430</td>\n",
       "      <td>-5.05</td>\n",
       "      <td>-0.854</td>\n",
       "      <td>-0.620</td>\n",
       "      <td>-1.30</td>\n",
       "      <td>-1.140</td>\n",
       "      <td>-3.53</td>\n",
       "      <td>-3.770</td>\n",
       "      <td>...</td>\n",
       "      <td>-2.860</td>\n",
       "      <td>-3.893</td>\n",
       "      <td>-0.82</td>\n",
       "      <td>-4.883</td>\n",
       "      <td>-4.23</td>\n",
       "      <td>0.39</td>\n",
       "      <td>-0.73</td>\n",
       "      <td>-3.040</td>\n",
       "      <td>-2.60</td>\n",
       "      <td>-2.349</td>\n",
       "    </tr>\n",
       "    <tr>\n",
       "      <th>1</th>\n",
       "      <td>-2.253</td>\n",
       "      <td>-8.003</td>\n",
       "      <td>-6.510</td>\n",
       "      <td>0.47</td>\n",
       "      <td>-1.640</td>\n",
       "      <td>-2.060</td>\n",
       "      <td>-1.13</td>\n",
       "      <td>-5.370</td>\n",
       "      <td>-2.15</td>\n",
       "      <td>-4.560</td>\n",
       "      <td>...</td>\n",
       "      <td>-7.820</td>\n",
       "      <td>-4.220</td>\n",
       "      <td>-2.85</td>\n",
       "      <td>-4.432</td>\n",
       "      <td>-4.71</td>\n",
       "      <td>-5.16</td>\n",
       "      <td>0.96</td>\n",
       "      <td>-4.286</td>\n",
       "      <td>-5.37</td>\n",
       "      <td>-7.680</td>\n",
       "    </tr>\n",
       "    <tr>\n",
       "      <th>2</th>\n",
       "      <td>-2.484</td>\n",
       "      <td>-1.300</td>\n",
       "      <td>-4.194</td>\n",
       "      <td>-5.66</td>\n",
       "      <td>-6.290</td>\n",
       "      <td>-8.334</td>\n",
       "      <td>-3.39</td>\n",
       "      <td>-2.310</td>\n",
       "      <td>-3.59</td>\n",
       "      <td>-0.720</td>\n",
       "      <td>...</td>\n",
       "      <td>-2.843</td>\n",
       "      <td>-3.150</td>\n",
       "      <td>-1.29</td>\n",
       "      <td>-7.800</td>\n",
       "      <td>-2.96</td>\n",
       "      <td>-0.60</td>\n",
       "      <td>-4.06</td>\n",
       "      <td>-3.750</td>\n",
       "      <td>-2.22</td>\n",
       "      <td>-2.350</td>\n",
       "    </tr>\n",
       "    <tr>\n",
       "      <th>3</th>\n",
       "      <td>-2.540</td>\n",
       "      <td>-3.590</td>\n",
       "      <td>-4.000</td>\n",
       "      <td>-4.46</td>\n",
       "      <td>-2.350</td>\n",
       "      <td>-3.500</td>\n",
       "      <td>-0.41</td>\n",
       "      <td>-0.950</td>\n",
       "      <td>-1.78</td>\n",
       "      <td>-1.614</td>\n",
       "      <td>...</td>\n",
       "      <td>-1.220</td>\n",
       "      <td>-1.820</td>\n",
       "      <td>-4.15</td>\n",
       "      <td>-1.440</td>\n",
       "      <td>-2.46</td>\n",
       "      <td>-0.60</td>\n",
       "      <td>-1.08</td>\n",
       "      <td>-0.700</td>\n",
       "      <td>-2.64</td>\n",
       "      <td>-1.920</td>\n",
       "    </tr>\n",
       "    <tr>\n",
       "      <th>4</th>\n",
       "      <td>-7.200</td>\n",
       "      <td>-1.920</td>\n",
       "      <td>-2.452</td>\n",
       "      <td>-2.12</td>\n",
       "      <td>-1.890</td>\n",
       "      <td>0.523</td>\n",
       "      <td>-7.92</td>\n",
       "      <td>-2.468</td>\n",
       "      <td>-1.94</td>\n",
       "      <td>-4.140</td>\n",
       "      <td>...</td>\n",
       "      <td>-2.360</td>\n",
       "      <td>-6.090</td>\n",
       "      <td>-3.59</td>\n",
       "      <td>-4.140</td>\n",
       "      <td>-1.08</td>\n",
       "      <td>-3.85</td>\n",
       "      <td>-1.68</td>\n",
       "      <td>0.009</td>\n",
       "      <td>-3.40</td>\n",
       "      <td>1.120</td>\n",
       "    </tr>\n",
       "  </tbody>\n",
       "</table>\n",
       "<p>5 rows × 30 columns</p>\n",
       "</div>"
      ],
      "text/plain": [
       "   test_true_0  test_true_1  test_true_2  test_true_3  test_true_4  \\\n",
       "0       -2.540       -0.010       -2.430        -5.05       -0.854   \n",
       "1       -2.253       -8.003       -6.510         0.47       -1.640   \n",
       "2       -2.484       -1.300       -4.194        -5.66       -6.290   \n",
       "3       -2.540       -3.590       -4.000        -4.46       -2.350   \n",
       "4       -7.200       -1.920       -2.452        -2.12       -1.890   \n",
       "\n",
       "   test_true_5  test_true_6  test_true_7  test_true_8  test_true_9  ...  \\\n",
       "0       -0.620        -1.30       -1.140        -3.53       -3.770  ...   \n",
       "1       -2.060        -1.13       -5.370        -2.15       -4.560  ...   \n",
       "2       -8.334        -3.39       -2.310        -3.59       -0.720  ...   \n",
       "3       -3.500        -0.41       -0.950        -1.78       -1.614  ...   \n",
       "4        0.523        -7.92       -2.468        -1.94       -4.140  ...   \n",
       "\n",
       "   test_true_20  test_true_21  test_true_22  test_true_23  test_true_24  \\\n",
       "0        -2.860        -3.893         -0.82        -4.883         -4.23   \n",
       "1        -7.820        -4.220         -2.85        -4.432         -4.71   \n",
       "2        -2.843        -3.150         -1.29        -7.800         -2.96   \n",
       "3        -1.220        -1.820         -4.15        -1.440         -2.46   \n",
       "4        -2.360        -6.090         -3.59        -4.140         -1.08   \n",
       "\n",
       "   test_true_25  test_true_26  test_true_27  test_true_28  test_true_29  \n",
       "0          0.39         -0.73        -3.040         -2.60        -2.349  \n",
       "1         -5.16          0.96        -4.286         -5.37        -7.680  \n",
       "2         -0.60         -4.06        -3.750         -2.22        -2.350  \n",
       "3         -0.60         -1.08        -0.700         -2.64        -1.920  \n",
       "4         -3.85         -1.68         0.009         -3.40         1.120  \n",
       "\n",
       "[5 rows x 30 columns]"
      ]
     },
     "execution_count": 552,
     "metadata": {},
     "output_type": "execute_result"
    }
   ],
   "source": [
    "df_true.head()"
   ]
  },
  {
   "cell_type": "code",
   "execution_count": 553,
   "metadata": {},
   "outputs": [
    {
     "data": {
      "text/html": [
       "<div>\n",
       "<style scoped>\n",
       "    .dataframe tbody tr th:only-of-type {\n",
       "        vertical-align: middle;\n",
       "    }\n",
       "\n",
       "    .dataframe tbody tr th {\n",
       "        vertical-align: top;\n",
       "    }\n",
       "\n",
       "    .dataframe thead th {\n",
       "        text-align: right;\n",
       "    }\n",
       "</style>\n",
       "<table border=\"1\" class=\"dataframe\">\n",
       "  <thead>\n",
       "    <tr style=\"text-align: right;\">\n",
       "      <th></th>\n",
       "      <th>test_pred_0</th>\n",
       "      <th>test_pred_1</th>\n",
       "      <th>test_pred_2</th>\n",
       "      <th>test_pred_3</th>\n",
       "      <th>test_pred_4</th>\n",
       "      <th>test_pred_5</th>\n",
       "      <th>test_pred_6</th>\n",
       "      <th>test_pred_7</th>\n",
       "      <th>test_pred_8</th>\n",
       "      <th>test_pred_9</th>\n",
       "      <th>...</th>\n",
       "      <th>test_pred_20</th>\n",
       "      <th>test_pred_21</th>\n",
       "      <th>test_pred_22</th>\n",
       "      <th>test_pred_23</th>\n",
       "      <th>test_pred_24</th>\n",
       "      <th>test_pred_25</th>\n",
       "      <th>test_pred_26</th>\n",
       "      <th>test_pred_27</th>\n",
       "      <th>test_pred_28</th>\n",
       "      <th>test_pred_29</th>\n",
       "    </tr>\n",
       "  </thead>\n",
       "  <tbody>\n",
       "    <tr>\n",
       "      <th>0</th>\n",
       "      <td>-2.574774</td>\n",
       "      <td>-0.092735</td>\n",
       "      <td>-2.359312</td>\n",
       "      <td>-4.921299</td>\n",
       "      <td>-0.444560</td>\n",
       "      <td>-0.723651</td>\n",
       "      <td>-1.312956</td>\n",
       "      <td>-0.817448</td>\n",
       "      <td>-3.222917</td>\n",
       "      <td>-4.055223</td>\n",
       "      <td>...</td>\n",
       "      <td>-3.699144</td>\n",
       "      <td>-4.848457</td>\n",
       "      <td>-1.200595</td>\n",
       "      <td>-3.139659</td>\n",
       "      <td>-3.965968</td>\n",
       "      <td>1.013075</td>\n",
       "      <td>-0.777772</td>\n",
       "      <td>-3.168655</td>\n",
       "      <td>-2.741790</td>\n",
       "      <td>-2.311988</td>\n",
       "    </tr>\n",
       "    <tr>\n",
       "      <th>1</th>\n",
       "      <td>-2.219771</td>\n",
       "      <td>-7.119158</td>\n",
       "      <td>-6.799538</td>\n",
       "      <td>0.187352</td>\n",
       "      <td>-1.494986</td>\n",
       "      <td>-2.033925</td>\n",
       "      <td>-2.794725</td>\n",
       "      <td>-5.211833</td>\n",
       "      <td>-1.541814</td>\n",
       "      <td>-3.951329</td>\n",
       "      <td>...</td>\n",
       "      <td>-8.076330</td>\n",
       "      <td>-3.292529</td>\n",
       "      <td>-2.684788</td>\n",
       "      <td>-4.475326</td>\n",
       "      <td>-4.179618</td>\n",
       "      <td>-4.384162</td>\n",
       "      <td>-0.390181</td>\n",
       "      <td>-3.960765</td>\n",
       "      <td>-5.234710</td>\n",
       "      <td>-7.947728</td>\n",
       "    </tr>\n",
       "    <tr>\n",
       "      <th>2</th>\n",
       "      <td>-2.637757</td>\n",
       "      <td>-1.481393</td>\n",
       "      <td>-4.564597</td>\n",
       "      <td>-4.850306</td>\n",
       "      <td>-3.316858</td>\n",
       "      <td>-6.369770</td>\n",
       "      <td>-2.743568</td>\n",
       "      <td>-2.326633</td>\n",
       "      <td>-3.943256</td>\n",
       "      <td>-0.870327</td>\n",
       "      <td>...</td>\n",
       "      <td>-2.364236</td>\n",
       "      <td>-4.041795</td>\n",
       "      <td>-1.298348</td>\n",
       "      <td>-7.405019</td>\n",
       "      <td>-2.806602</td>\n",
       "      <td>-0.625751</td>\n",
       "      <td>-3.901597</td>\n",
       "      <td>-3.664099</td>\n",
       "      <td>-1.568108</td>\n",
       "      <td>-2.195654</td>\n",
       "    </tr>\n",
       "    <tr>\n",
       "      <th>3</th>\n",
       "      <td>-2.574774</td>\n",
       "      <td>-4.001226</td>\n",
       "      <td>-4.130427</td>\n",
       "      <td>-5.114249</td>\n",
       "      <td>-2.169790</td>\n",
       "      <td>-4.189805</td>\n",
       "      <td>-0.049370</td>\n",
       "      <td>-1.746414</td>\n",
       "      <td>-1.878377</td>\n",
       "      <td>-1.724428</td>\n",
       "      <td>...</td>\n",
       "      <td>-1.502790</td>\n",
       "      <td>-0.823382</td>\n",
       "      <td>-4.225482</td>\n",
       "      <td>-2.299431</td>\n",
       "      <td>-2.459403</td>\n",
       "      <td>-0.491622</td>\n",
       "      <td>-1.104876</td>\n",
       "      <td>-0.833786</td>\n",
       "      <td>-2.415218</td>\n",
       "      <td>-0.727656</td>\n",
       "    </tr>\n",
       "    <tr>\n",
       "      <th>4</th>\n",
       "      <td>-6.848141</td>\n",
       "      <td>-2.724514</td>\n",
       "      <td>-2.577299</td>\n",
       "      <td>-2.556976</td>\n",
       "      <td>-1.740994</td>\n",
       "      <td>-0.742721</td>\n",
       "      <td>-8.591227</td>\n",
       "      <td>-2.480766</td>\n",
       "      <td>-1.821048</td>\n",
       "      <td>-4.455407</td>\n",
       "      <td>...</td>\n",
       "      <td>-2.445689</td>\n",
       "      <td>-5.463468</td>\n",
       "      <td>-3.467910</td>\n",
       "      <td>-4.212671</td>\n",
       "      <td>-1.278988</td>\n",
       "      <td>-3.428636</td>\n",
       "      <td>-1.728853</td>\n",
       "      <td>-0.319001</td>\n",
       "      <td>-3.507224</td>\n",
       "      <td>1.613903</td>\n",
       "    </tr>\n",
       "  </tbody>\n",
       "</table>\n",
       "<p>5 rows × 30 columns</p>\n",
       "</div>"
      ],
      "text/plain": [
       "   test_pred_0  test_pred_1  test_pred_2  test_pred_3  test_pred_4  \\\n",
       "0    -2.574774    -0.092735    -2.359312    -4.921299    -0.444560   \n",
       "1    -2.219771    -7.119158    -6.799538     0.187352    -1.494986   \n",
       "2    -2.637757    -1.481393    -4.564597    -4.850306    -3.316858   \n",
       "3    -2.574774    -4.001226    -4.130427    -5.114249    -2.169790   \n",
       "4    -6.848141    -2.724514    -2.577299    -2.556976    -1.740994   \n",
       "\n",
       "   test_pred_5  test_pred_6  test_pred_7  test_pred_8  test_pred_9  ...  \\\n",
       "0    -0.723651    -1.312956    -0.817448    -3.222917    -4.055223  ...   \n",
       "1    -2.033925    -2.794725    -5.211833    -1.541814    -3.951329  ...   \n",
       "2    -6.369770    -2.743568    -2.326633    -3.943256    -0.870327  ...   \n",
       "3    -4.189805    -0.049370    -1.746414    -1.878377    -1.724428  ...   \n",
       "4    -0.742721    -8.591227    -2.480766    -1.821048    -4.455407  ...   \n",
       "\n",
       "   test_pred_20  test_pred_21  test_pred_22  test_pred_23  test_pred_24  \\\n",
       "0     -3.699144     -4.848457     -1.200595     -3.139659     -3.965968   \n",
       "1     -8.076330     -3.292529     -2.684788     -4.475326     -4.179618   \n",
       "2     -2.364236     -4.041795     -1.298348     -7.405019     -2.806602   \n",
       "3     -1.502790     -0.823382     -4.225482     -2.299431     -2.459403   \n",
       "4     -2.445689     -5.463468     -3.467910     -4.212671     -1.278988   \n",
       "\n",
       "   test_pred_25  test_pred_26  test_pred_27  test_pred_28  test_pred_29  \n",
       "0      1.013075     -0.777772     -3.168655     -2.741790     -2.311988  \n",
       "1     -4.384162     -0.390181     -3.960765     -5.234710     -7.947728  \n",
       "2     -0.625751     -3.901597     -3.664099     -1.568108     -2.195654  \n",
       "3     -0.491622     -1.104876     -0.833786     -2.415218     -0.727656  \n",
       "4     -3.428636     -1.728853     -0.319001     -3.507224      1.613903  \n",
       "\n",
       "[5 rows x 30 columns]"
      ]
     },
     "execution_count": 553,
     "metadata": {},
     "output_type": "execute_result"
    }
   ],
   "source": [
    "df_pred.head()"
   ]
  },
  {
   "cell_type": "code",
   "execution_count": 554,
   "metadata": {},
   "outputs": [
    {
     "data": {
      "text/html": [
       "<div>\n",
       "<style scoped>\n",
       "    .dataframe tbody tr th:only-of-type {\n",
       "        vertical-align: middle;\n",
       "    }\n",
       "\n",
       "    .dataframe tbody tr th {\n",
       "        vertical-align: top;\n",
       "    }\n",
       "\n",
       "    .dataframe thead th {\n",
       "        text-align: right;\n",
       "    }\n",
       "</style>\n",
       "<table border=\"1\" class=\"dataframe\">\n",
       "  <thead>\n",
       "    <tr style=\"text-align: right;\">\n",
       "      <th></th>\n",
       "      <th>test_std_0</th>\n",
       "      <th>test_std_1</th>\n",
       "      <th>test_std_2</th>\n",
       "      <th>test_std_3</th>\n",
       "      <th>test_std_4</th>\n",
       "      <th>test_std_5</th>\n",
       "      <th>test_std_6</th>\n",
       "      <th>test_std_7</th>\n",
       "      <th>test_std_8</th>\n",
       "      <th>test_std_9</th>\n",
       "      <th>...</th>\n",
       "      <th>test_std_20</th>\n",
       "      <th>test_std_21</th>\n",
       "      <th>test_std_22</th>\n",
       "      <th>test_std_23</th>\n",
       "      <th>test_std_24</th>\n",
       "      <th>test_std_25</th>\n",
       "      <th>test_std_26</th>\n",
       "      <th>test_std_27</th>\n",
       "      <th>test_std_28</th>\n",
       "      <th>test_std_29</th>\n",
       "    </tr>\n",
       "  </thead>\n",
       "  <tbody>\n",
       "    <tr>\n",
       "      <th>0</th>\n",
       "      <td>0.374629</td>\n",
       "      <td>0.411988</td>\n",
       "      <td>0.402511</td>\n",
       "      <td>0.398874</td>\n",
       "      <td>0.445797</td>\n",
       "      <td>0.389197</td>\n",
       "      <td>0.435197</td>\n",
       "      <td>0.364603</td>\n",
       "      <td>0.457906</td>\n",
       "      <td>0.392631</td>\n",
       "      <td>...</td>\n",
       "      <td>0.888448</td>\n",
       "      <td>0.462549</td>\n",
       "      <td>0.369742</td>\n",
       "      <td>0.679346</td>\n",
       "      <td>0.399749</td>\n",
       "      <td>0.450585</td>\n",
       "      <td>0.389549</td>\n",
       "      <td>0.384639</td>\n",
       "      <td>0.479335</td>\n",
       "      <td>0.393712</td>\n",
       "    </tr>\n",
       "    <tr>\n",
       "      <th>1</th>\n",
       "      <td>0.422296</td>\n",
       "      <td>0.620047</td>\n",
       "      <td>0.450439</td>\n",
       "      <td>0.386145</td>\n",
       "      <td>0.428499</td>\n",
       "      <td>0.472384</td>\n",
       "      <td>0.778933</td>\n",
       "      <td>0.439689</td>\n",
       "      <td>0.597274</td>\n",
       "      <td>0.454309</td>\n",
       "      <td>...</td>\n",
       "      <td>0.397393</td>\n",
       "      <td>0.507070</td>\n",
       "      <td>0.483900</td>\n",
       "      <td>0.555781</td>\n",
       "      <td>0.621061</td>\n",
       "      <td>0.721696</td>\n",
       "      <td>0.761438</td>\n",
       "      <td>0.438246</td>\n",
       "      <td>0.455273</td>\n",
       "      <td>0.382036</td>\n",
       "    </tr>\n",
       "    <tr>\n",
       "      <th>2</th>\n",
       "      <td>0.476213</td>\n",
       "      <td>0.430429</td>\n",
       "      <td>0.557422</td>\n",
       "      <td>0.499846</td>\n",
       "      <td>0.985287</td>\n",
       "      <td>0.719856</td>\n",
       "      <td>0.487594</td>\n",
       "      <td>0.454743</td>\n",
       "      <td>0.447476</td>\n",
       "      <td>0.538235</td>\n",
       "      <td>...</td>\n",
       "      <td>0.412891</td>\n",
       "      <td>0.526371</td>\n",
       "      <td>0.395563</td>\n",
       "      <td>0.380757</td>\n",
       "      <td>0.470214</td>\n",
       "      <td>0.440016</td>\n",
       "      <td>0.421847</td>\n",
       "      <td>0.370015</td>\n",
       "      <td>0.786378</td>\n",
       "      <td>0.379015</td>\n",
       "    </tr>\n",
       "    <tr>\n",
       "      <th>3</th>\n",
       "      <td>0.374629</td>\n",
       "      <td>0.387415</td>\n",
       "      <td>0.409429</td>\n",
       "      <td>0.538187</td>\n",
       "      <td>0.404212</td>\n",
       "      <td>0.467853</td>\n",
       "      <td>0.891613</td>\n",
       "      <td>0.541868</td>\n",
       "      <td>0.430398</td>\n",
       "      <td>0.396403</td>\n",
       "      <td>...</td>\n",
       "      <td>0.643013</td>\n",
       "      <td>0.571402</td>\n",
       "      <td>0.395730</td>\n",
       "      <td>0.684369</td>\n",
       "      <td>0.461487</td>\n",
       "      <td>0.370116</td>\n",
       "      <td>0.375609</td>\n",
       "      <td>0.375388</td>\n",
       "      <td>0.392510</td>\n",
       "      <td>0.411440</td>\n",
       "    </tr>\n",
       "    <tr>\n",
       "      <th>4</th>\n",
       "      <td>0.401352</td>\n",
       "      <td>0.434015</td>\n",
       "      <td>0.429386</td>\n",
       "      <td>0.593062</td>\n",
       "      <td>0.399118</td>\n",
       "      <td>0.667212</td>\n",
       "      <td>0.416735</td>\n",
       "      <td>0.383654</td>\n",
       "      <td>0.387806</td>\n",
       "      <td>0.420823</td>\n",
       "      <td>...</td>\n",
       "      <td>0.462760</td>\n",
       "      <td>0.470339</td>\n",
       "      <td>0.847101</td>\n",
       "      <td>0.386102</td>\n",
       "      <td>0.417753</td>\n",
       "      <td>0.735935</td>\n",
       "      <td>0.446630</td>\n",
       "      <td>0.671971</td>\n",
       "      <td>0.391095</td>\n",
       "      <td>0.488479</td>\n",
       "    </tr>\n",
       "  </tbody>\n",
       "</table>\n",
       "<p>5 rows × 30 columns</p>\n",
       "</div>"
      ],
      "text/plain": [
       "   test_std_0  test_std_1  test_std_2  test_std_3  test_std_4  test_std_5  \\\n",
       "0    0.374629    0.411988    0.402511    0.398874    0.445797    0.389197   \n",
       "1    0.422296    0.620047    0.450439    0.386145    0.428499    0.472384   \n",
       "2    0.476213    0.430429    0.557422    0.499846    0.985287    0.719856   \n",
       "3    0.374629    0.387415    0.409429    0.538187    0.404212    0.467853   \n",
       "4    0.401352    0.434015    0.429386    0.593062    0.399118    0.667212   \n",
       "\n",
       "   test_std_6  test_std_7  test_std_8  test_std_9  ...  test_std_20  \\\n",
       "0    0.435197    0.364603    0.457906    0.392631  ...     0.888448   \n",
       "1    0.778933    0.439689    0.597274    0.454309  ...     0.397393   \n",
       "2    0.487594    0.454743    0.447476    0.538235  ...     0.412891   \n",
       "3    0.891613    0.541868    0.430398    0.396403  ...     0.643013   \n",
       "4    0.416735    0.383654    0.387806    0.420823  ...     0.462760   \n",
       "\n",
       "   test_std_21  test_std_22  test_std_23  test_std_24  test_std_25  \\\n",
       "0     0.462549     0.369742     0.679346     0.399749     0.450585   \n",
       "1     0.507070     0.483900     0.555781     0.621061     0.721696   \n",
       "2     0.526371     0.395563     0.380757     0.470214     0.440016   \n",
       "3     0.571402     0.395730     0.684369     0.461487     0.370116   \n",
       "4     0.470339     0.847101     0.386102     0.417753     0.735935   \n",
       "\n",
       "   test_std_26  test_std_27  test_std_28  test_std_29  \n",
       "0     0.389549     0.384639     0.479335     0.393712  \n",
       "1     0.761438     0.438246     0.455273     0.382036  \n",
       "2     0.421847     0.370015     0.786378     0.379015  \n",
       "3     0.375609     0.375388     0.392510     0.411440  \n",
       "4     0.446630     0.671971     0.391095     0.488479  \n",
       "\n",
       "[5 rows x 30 columns]"
      ]
     },
     "execution_count": 554,
     "metadata": {},
     "output_type": "execute_result"
    }
   ],
   "source": [
    "df_std.head()"
   ]
  },
  {
   "cell_type": "markdown",
   "metadata": {},
   "source": [
    "# One run"
   ]
  },
  {
   "cell_type": "code",
   "execution_count": 555,
   "metadata": {},
   "outputs": [],
   "source": [
    "y_test = df_true.iloc[:, 0]\n",
    "y_test_pred = df_pred.iloc[:, 0]\n",
    "y_test_std = df_std.iloc[:, 0]"
   ]
  },
  {
   "cell_type": "markdown",
   "metadata": {},
   "source": [
    "## RMSE"
   ]
  },
  {
   "cell_type": "code",
   "execution_count": 556,
   "metadata": {},
   "outputs": [
    {
     "data": {
      "text/plain": [
       "0.5975255640640816"
      ]
     },
     "execution_count": 556,
     "metadata": {},
     "output_type": "execute_result"
    }
   ],
   "source": [
    "mean_squared_error(y_true=y_test, y_pred=y_test_pred, squared=False)"
   ]
  },
  {
   "cell_type": "markdown",
   "metadata": {
    "colab_type": "text",
    "id": "cemAX5Um_PtG"
   },
   "source": [
    "## Calculate confidence bounds using std part of gpr predictions"
   ]
  },
  {
   "cell_type": "code",
   "execution_count": 557,
   "metadata": {
    "colab": {},
    "colab_type": "code",
    "executionInfo": {
     "elapsed": 501,
     "status": "ok",
     "timestamp": 1599369443430,
     "user": {
      "displayName": "George Batchkala",
      "photoUrl": "",
      "userId": "17039292136363863281"
     },
     "user_tz": -180
    },
    "id": "SXkK4l9fXh5U"
   },
   "outputs": [],
   "source": [
    "upper = y_test_pred + 1.96 * y_test_std\n",
    "lower = y_test_pred - 1.96 * y_test_std"
   ]
  },
  {
   "cell_type": "code",
   "execution_count": 558,
   "metadata": {
    "colab": {},
    "colab_type": "code",
    "executionInfo": {
     "elapsed": 554,
     "status": "ok",
     "timestamp": 1599369444362,
     "user": {
      "displayName": "George Batchkala",
      "photoUrl": "",
      "userId": "17039292136363863281"
     },
     "user_tz": -180
    },
    "id": "920aWd5cYMiQ"
   },
   "outputs": [
    {
     "data": {
      "text/html": [
       "<div>\n",
       "<style scoped>\n",
       "    .dataframe tbody tr th:only-of-type {\n",
       "        vertical-align: middle;\n",
       "    }\n",
       "\n",
       "    .dataframe tbody tr th {\n",
       "        vertical-align: top;\n",
       "    }\n",
       "\n",
       "    .dataframe thead th {\n",
       "        text-align: right;\n",
       "    }\n",
       "</style>\n",
       "<table border=\"1\" class=\"dataframe\">\n",
       "  <thead>\n",
       "    <tr style=\"text-align: right;\">\n",
       "      <th></th>\n",
       "      <th>y_test</th>\n",
       "      <th>y_test_pred</th>\n",
       "      <th>y_test_std</th>\n",
       "      <th>lower</th>\n",
       "      <th>upper</th>\n",
       "      <th>sq_error</th>\n",
       "      <th>cumul_sq_error</th>\n",
       "      <th>cumul_mse</th>\n",
       "      <th>cumul_rmse</th>\n",
       "    </tr>\n",
       "  </thead>\n",
       "  <tbody>\n",
       "    <tr>\n",
       "      <th>107</th>\n",
       "      <td>-0.800</td>\n",
       "      <td>-0.864228</td>\n",
       "      <td>0.355617</td>\n",
       "      <td>-1.561238</td>\n",
       "      <td>-0.167218</td>\n",
       "      <td>0.004125</td>\n",
       "      <td>0.004125</td>\n",
       "      <td>0.004125</td>\n",
       "      <td>0.064228</td>\n",
       "    </tr>\n",
       "    <tr>\n",
       "      <th>70</th>\n",
       "      <td>-0.290</td>\n",
       "      <td>-0.326224</td>\n",
       "      <td>0.358591</td>\n",
       "      <td>-1.029063</td>\n",
       "      <td>0.376614</td>\n",
       "      <td>0.001312</td>\n",
       "      <td>0.005437</td>\n",
       "      <td>0.002719</td>\n",
       "      <td>0.052141</td>\n",
       "    </tr>\n",
       "    <tr>\n",
       "      <th>54</th>\n",
       "      <td>-1.170</td>\n",
       "      <td>-0.941271</td>\n",
       "      <td>0.358875</td>\n",
       "      <td>-1.644666</td>\n",
       "      <td>-0.237876</td>\n",
       "      <td>0.052317</td>\n",
       "      <td>0.057754</td>\n",
       "      <td>0.019251</td>\n",
       "      <td>0.138750</td>\n",
       "    </tr>\n",
       "    <tr>\n",
       "      <th>76</th>\n",
       "      <td>-1.980</td>\n",
       "      <td>-2.068488</td>\n",
       "      <td>0.359370</td>\n",
       "      <td>-2.772853</td>\n",
       "      <td>-1.364123</td>\n",
       "      <td>0.007830</td>\n",
       "      <td>0.065584</td>\n",
       "      <td>0.016396</td>\n",
       "      <td>0.128047</td>\n",
       "    </tr>\n",
       "    <tr>\n",
       "      <th>32</th>\n",
       "      <td>-3.740</td>\n",
       "      <td>-3.733691</td>\n",
       "      <td>0.361008</td>\n",
       "      <td>-4.441267</td>\n",
       "      <td>-3.026115</td>\n",
       "      <td>0.000040</td>\n",
       "      <td>0.065624</td>\n",
       "      <td>0.013125</td>\n",
       "      <td>0.114564</td>\n",
       "    </tr>\n",
       "    <tr>\n",
       "      <th>...</th>\n",
       "      <td>...</td>\n",
       "      <td>...</td>\n",
       "      <td>...</td>\n",
       "      <td>...</td>\n",
       "      <td>...</td>\n",
       "      <td>...</td>\n",
       "      <td>...</td>\n",
       "      <td>...</td>\n",
       "      <td>...</td>\n",
       "    </tr>\n",
       "    <tr>\n",
       "      <th>14</th>\n",
       "      <td>-3.380</td>\n",
       "      <td>-2.563632</td>\n",
       "      <td>0.826149</td>\n",
       "      <td>-4.182883</td>\n",
       "      <td>-0.944381</td>\n",
       "      <td>0.666457</td>\n",
       "      <td>79.339248</td>\n",
       "      <td>0.357384</td>\n",
       "      <td>0.597816</td>\n",
       "    </tr>\n",
       "    <tr>\n",
       "      <th>185</th>\n",
       "      <td>-3.800</td>\n",
       "      <td>-3.178221</td>\n",
       "      <td>0.871588</td>\n",
       "      <td>-4.886534</td>\n",
       "      <td>-1.469908</td>\n",
       "      <td>0.386609</td>\n",
       "      <td>79.725857</td>\n",
       "      <td>0.357515</td>\n",
       "      <td>0.597926</td>\n",
       "    </tr>\n",
       "    <tr>\n",
       "      <th>99</th>\n",
       "      <td>-0.410</td>\n",
       "      <td>-0.130140</td>\n",
       "      <td>0.872629</td>\n",
       "      <td>-1.840494</td>\n",
       "      <td>1.580213</td>\n",
       "      <td>0.078321</td>\n",
       "      <td>79.804178</td>\n",
       "      <td>0.356269</td>\n",
       "      <td>0.596882</td>\n",
       "    </tr>\n",
       "    <tr>\n",
       "      <th>73</th>\n",
       "      <td>-3.931</td>\n",
       "      <td>-4.514313</td>\n",
       "      <td>0.901840</td>\n",
       "      <td>-6.281919</td>\n",
       "      <td>-2.746707</td>\n",
       "      <td>0.340254</td>\n",
       "      <td>80.144432</td>\n",
       "      <td>0.356197</td>\n",
       "      <td>0.596823</td>\n",
       "    </tr>\n",
       "    <tr>\n",
       "      <th>7</th>\n",
       "      <td>-2.190</td>\n",
       "      <td>-1.451160</td>\n",
       "      <td>0.927403</td>\n",
       "      <td>-3.268869</td>\n",
       "      <td>0.366549</td>\n",
       "      <td>0.545885</td>\n",
       "      <td>80.690317</td>\n",
       "      <td>0.357037</td>\n",
       "      <td>0.597526</td>\n",
       "    </tr>\n",
       "  </tbody>\n",
       "</table>\n",
       "<p>226 rows × 9 columns</p>\n",
       "</div>"
      ],
      "text/plain": [
       "     y_test  y_test_pred  y_test_std     lower     upper  sq_error  \\\n",
       "107  -0.800    -0.864228    0.355617 -1.561238 -0.167218  0.004125   \n",
       "70   -0.290    -0.326224    0.358591 -1.029063  0.376614  0.001312   \n",
       "54   -1.170    -0.941271    0.358875 -1.644666 -0.237876  0.052317   \n",
       "76   -1.980    -2.068488    0.359370 -2.772853 -1.364123  0.007830   \n",
       "32   -3.740    -3.733691    0.361008 -4.441267 -3.026115  0.000040   \n",
       "..      ...          ...         ...       ...       ...       ...   \n",
       "14   -3.380    -2.563632    0.826149 -4.182883 -0.944381  0.666457   \n",
       "185  -3.800    -3.178221    0.871588 -4.886534 -1.469908  0.386609   \n",
       "99   -0.410    -0.130140    0.872629 -1.840494  1.580213  0.078321   \n",
       "73   -3.931    -4.514313    0.901840 -6.281919 -2.746707  0.340254   \n",
       "7    -2.190    -1.451160    0.927403 -3.268869  0.366549  0.545885   \n",
       "\n",
       "     cumul_sq_error  cumul_mse  cumul_rmse  \n",
       "107        0.004125   0.004125    0.064228  \n",
       "70         0.005437   0.002719    0.052141  \n",
       "54         0.057754   0.019251    0.138750  \n",
       "76         0.065584   0.016396    0.128047  \n",
       "32         0.065624   0.013125    0.114564  \n",
       "..              ...        ...         ...  \n",
       "14        79.339248   0.357384    0.597816  \n",
       "185       79.725857   0.357515    0.597926  \n",
       "99        79.804178   0.356269    0.596882  \n",
       "73        80.144432   0.356197    0.596823  \n",
       "7         80.690317   0.357037    0.597526  \n",
       "\n",
       "[226 rows x 9 columns]"
      ]
     },
     "metadata": {},
     "output_type": "display_data"
    }
   ],
   "source": [
    "CIs_df = pd.DataFrame(\n",
    "    {'y_test': y_test,\n",
    "     'y_test_pred': y_test_pred,\n",
    "     'y_test_std': y_test_std,\n",
    "     'lower': lower,\n",
    "     'upper': upper,\n",
    "     'sq_error': (y_test - y_test_pred) ** 2\n",
    "     }\n",
    ")\n",
    "CIs_df = CIs_df.sort_values(by='y_test_std', ascending=True)\n",
    "CIs_df['cumul_sq_error'] = CIs_df['sq_error'].cumsum()\n",
    "CIs_df['cumul_mse'] = CIs_df['cumul_sq_error'].values / np.arange(1, CIs_df.shape[0]+1)\n",
    "CIs_df['cumul_rmse'] = np.sqrt(CIs_df['cumul_mse'])\n",
    "display(CIs_df)"
   ]
  },
  {
   "cell_type": "code",
   "execution_count": 559,
   "metadata": {},
   "outputs": [],
   "source": [
    "# checking that calculating rmse each time separately would be the same\n",
    "CIs_df = CIs_df.sort_values(by='y_test_std', ascending=True)\n",
    "\n",
    "\n",
    "calculation_match = []\n",
    "for i in range(CIs_df.shape[0]):\n",
    "    a = CIs_df.y_test[:i+1]\n",
    "    b = CIs_df.y_test_pred[:i+1]\n",
    "    \n",
    "    calculation_match.append(np.abs(mean_squared_error(a, b, squared=False) - CIs_df.cumul_rmse.iloc[i]) < 1e-8)\n",
    "    \n",
    "# if returns true - it is the same\n",
    "assert np.all(calculation_match) "
   ]
  },
  {
   "cell_type": "markdown",
   "metadata": {
    "colab_type": "text",
    "id": "EetjBHkh_Ptb"
   },
   "source": [
    "## Plot test observations with sdt values as colours"
   ]
  },
  {
   "cell_type": "code",
   "execution_count": 560,
   "metadata": {},
   "outputs": [
    {
     "data": {
      "image/png": "[encoded data removed]",
      "text/plain": [
       "<Figure size 432x432 with 2 Axes>"
      ]
     },
     "metadata": {},
     "output_type": "display_data"
    }
   ],
   "source": [
    "# sort values used for x axis\n",
    "CIs_df = CIs_df.sort_values(by='y_test')\n",
    "\n",
    "# Plot error bars for predicted quantity using unbiased variance\n",
    "plt.figure(figsize=FIGSIZE_CI)\n",
    "\n",
    "plt.plot([np.min(y_test), np.max(y_test)], [np.min(y_test), np.max(y_test)], 'k--', label='perfect prediction')\n",
    "plt.scatter(x=CIs_df.y_test, y=CIs_df.y_test_pred, c=CIs_df.y_test_std, s=100, label='data points')\n",
    "\n",
    "plt.xlabel(f'Measured {datasets_to_units[dataset]}')\n",
    "plt.ylabel(f'Predicted {datasets_to_units[dataset]}')\n",
    "plt.title(f'{datasets_to_titles[dataset]}')\n",
    "\n",
    "# add colourbar and legend\n",
    "plt.colorbar()\n",
    "plt.legend()\n",
    "\n",
    "#plt.savefig(f'{PLOTS_DIR}/pubs_units_values.png', bbox_inches='tight')\n",
    "plt.show()"
   ]
  },
  {
   "cell_type": "markdown",
   "metadata": {},
   "source": [
    "## Plot sq^error vs std"
   ]
  },
  {
   "cell_type": "code",
   "execution_count": 561,
   "metadata": {},
   "outputs": [
    {
     "data": {
      "image/png": "[encoded data removed]",
      "text/plain": [
       "<Figure size 432x432 with 1 Axes>"
      ]
     },
     "metadata": {},
     "output_type": "display_data"
    }
   ],
   "source": [
    "# sort values used for x axis\n",
    "CIs_df = CIs_df.sort_values(by='y_test_std')\n",
    "\n",
    "# Plot error bars for predicted quantity using unbiased variance\n",
    "plt.figure(figsize=FIGSIZE_CI)\n",
    "\n",
    "#plt.plot([np.min(y_test), np.max(y_test)], [np.min(y_test), np.max(y_test)], 'k--', label='perfect prediction')\n",
    "plt.scatter(x=CIs_df.y_test_std, y=CIs_df.sq_error)\n",
    "\n",
    "\n",
    "plt.xlabel(f'Estimated standard error {datasets_to_units[dataset]}')\n",
    "plt.ylabel(f'Squared error {datasets_to_units[dataset]}')\n",
    "# plt.title(f'{datasets_to_titles[dataset]}')\n",
    "\n",
    "# # add colourbar and legend\n",
    "# plt.colorbar()\n",
    "# plt.legend()\n",
    "\n",
    "#plt.savefig(f'{PLOTS_DIR}/pubs_units_values.png', bbox_inches='tight')\n",
    "plt.show()"
   ]
  },
  {
   "cell_type": "markdown",
   "metadata": {
    "colab_type": "text",
    "id": "_ccuuy4I_Pth"
   },
   "source": [
    "## Plot 95% confidence intervals"
   ]
  },
  {
   "cell_type": "code",
   "execution_count": 562,
   "metadata": {
    "colab": {
     "base_uri": "https://localhost:8080/",
     "height": 441
    },
    "colab_type": "code",
    "executionInfo": {
     "elapsed": 970,
     "status": "ok",
     "timestamp": 1599369450276,
     "user": {
      "displayName": "George Batchkala",
      "photoUrl": "",
      "userId": "17039292136363863281"
     },
     "user_tz": -180
    },
    "id": "cpgd53nspyIa",
    "outputId": "08048f48-aec6-4755-9a10-6220bb978e7d"
   },
   "outputs": [
    {
     "data": {
      "image/png": "[encoded data removed]",
      "text/plain": [
       "<Figure size 432x432 with 1 Axes>"
      ]
     },
     "metadata": {},
     "output_type": "display_data"
    }
   ],
   "source": [
    "# sort values used for x axis\n",
    "CIs_df = CIs_df.sort_values(by='y_test')\n",
    "\n",
    "fig, ax = plt.subplots(1, figsize=FIGSIZE_CI)\n",
    "\n",
    "ax.plot([np.min(y_test), np.max(y_test)], [np.min(y_test), np.max(y_test)], 'k--', label='perfect prediction')\n",
    "\n",
    "ax.plot(CIs_df.y_test, CIs_df.lower, linewidth=1, linestyle='--', label='lower confidence bound')\n",
    "ax.plot(CIs_df.y_test, CIs_df.upper, linewidth=1, linestyle='--', label='upper confidence bound')\n",
    "ax.fill_between(CIs_df.y_test, CIs_df.upper, CIs_df.lower, facecolor='blue', alpha=0.2)\n",
    "\n",
    "ax.set_xlabel(f'Measured {datasets_to_units[dataset]}')\n",
    "ax.set_ylabel(f'Predicted {datasets_to_units[dataset]}')\n",
    "\n",
    "ax.set_title(f'{datasets_to_titles[dataset]}')\n",
    "ax.legend(loc='upper left')\n",
    "\n",
    "#plt.savefig(f'{PLOTS_DIR}/pubs_units_values.png', bbox_inches='tight')\n",
    "plt.show()"
   ]
  },
  {
   "cell_type": "markdown",
   "metadata": {
    "colab_type": "text",
    "id": "fkOsQTGu_Ptp"
   },
   "source": [
    "## Calculate the proportion of measured values in test set within 95% CIs"
   ]
  },
  {
   "cell_type": "code",
   "execution_count": 563,
   "metadata": {
    "colab": {
     "base_uri": "https://localhost:8080/",
     "height": 221
    },
    "colab_type": "code",
    "executionInfo": {
     "elapsed": 579,
     "status": "ok",
     "timestamp": 1599369452924,
     "user": {
      "displayName": "George Batchkala",
      "photoUrl": "",
      "userId": "17039292136363863281"
     },
     "user_tz": -180
    },
    "id": "aZIgKoxLOA-p",
    "outputId": "8b369c63-d466-4717-c195-36989bb8c229"
   },
   "outputs": [
    {
     "data": {
      "text/plain": [
       "0.9203539823008849"
      ]
     },
     "execution_count": 563,
     "metadata": {},
     "output_type": "execute_result"
    }
   ],
   "source": [
    "within_cis = (CIs_df.lower <= CIs_df.y_test) & (CIs_df.y_test <= CIs_df.upper)\n",
    "within_cis.sum() / len(within_cis)"
   ]
  },
  {
   "cell_type": "markdown",
   "metadata": {
    "colab": {
     "base_uri": "https://localhost:8080/",
     "height": 34
    },
    "colab_type": "code",
    "executionInfo": {
     "elapsed": 558,
     "status": "ok",
     "timestamp": 1599369454940,
     "user": {
      "displayName": "George Batchkala",
      "photoUrl": "",
      "userId": "17039292136363863281"
     },
     "user_tz": -180
    },
    "id": "xn5N35d9oyKp",
    "outputId": "e39450e9-979f-43fc-e10d-dca42f01f4b3"
   },
   "source": [
    "## Confidence plots (RMSE vs Prcentile)"
   ]
  },
  {
   "cell_type": "code",
   "execution_count": 564,
   "metadata": {
    "colab": {
     "base_uri": "https://localhost:8080/",
     "height": 34
    },
    "colab_type": "code",
    "executionInfo": {
     "elapsed": 537,
     "status": "ok",
     "timestamp": 1599369442681,
     "user": {
      "displayName": "George Batchkala",
      "photoUrl": "",
      "userId": "17039292136363863281"
     },
     "user_tz": -180
    },
    "id": "Ubu7AXP6FxHU",
    "outputId": "3198590e-bcec-42d3-d275-0c6076033c81"
   },
   "outputs": [
    {
     "data": {
      "image/png": "[encoded data removed]",
      "text/plain": [
       "<Figure size 432x288 with 1 Axes>"
      ]
     },
     "metadata": {},
     "output_type": "display_data"
    }
   ],
   "source": [
    "# sort values used for x axis\n",
    "CIs_df = CIs_df.sort_values(by='y_test_std', ascending=True)\n",
    "\n",
    "confidence_percentiles = np.arange(1e-14, 100, 100/len(y_test))\n",
    "flipped_cumul_rmse = CIs_df['cumul_rmse'].values[::-1]\n",
    "\n",
    "\n",
    "plt.plot(confidence_percentiles, flipped_cumul_rmse)\n",
    "\n",
    "plt.show()"
   ]
  },
  {
   "cell_type": "code",
   "execution_count": 565,
   "metadata": {},
   "outputs": [
    {
     "data": {
      "text/plain": [
       "(-0.9577557642303136, 3.219674977448292e-123)"
      ]
     },
     "execution_count": 565,
     "metadata": {},
     "output_type": "execute_result"
    }
   ],
   "source": [
    "corr, p_value = pearsonr(confidence_percentiles, flipped_cumul_rmse)\n",
    "corr, p_value"
   ]
  },
  {
   "cell_type": "markdown",
   "metadata": {
    "colab_type": "text",
    "id": "dyMFpUthnFTG"
   },
   "source": [
    "# Multiple runs"
   ]
  },
  {
   "cell_type": "code",
   "execution_count": 566,
   "metadata": {},
   "outputs": [],
   "source": [
    "dataset_to_num_cis = {\n",
    "    'freesolv': 50,\n",
    "    'esol': 30,\n",
    "    'lipophilicity': 10\n",
    "}"
   ]
  },
  {
   "cell_type": "code",
   "execution_count": 567,
   "metadata": {},
   "outputs": [
    {
     "data": {
      "text/plain": [
       "30"
      ]
     },
     "execution_count": 567,
     "metadata": {},
     "output_type": "execute_result"
    }
   ],
   "source": [
    "dataset_to_num_cis[dataset]"
   ]
  },
  {
   "cell_type": "code",
   "execution_count": 568,
   "metadata": {
    "colab": {},
    "colab_type": "code",
    "executionInfo": {
     "elapsed": 815516,
     "status": "ok",
     "timestamp": 1599370274333,
     "user": {
      "displayName": "George Batchkala",
      "photoUrl": "",
      "userId": "17039292136363863281"
     },
     "user_tz": -180
    },
    "id": "Y9gls6mP0Gl4"
   },
   "outputs": [
    {
     "data": {
      "image/png": "[encoded data removed]",
      "text/plain": [
       "<Figure size 432x288 with 1 Axes>"
      ]
     },
     "metadata": {},
     "output_type": "display_data"
    }
   ],
   "source": [
    "rmse_mult_runs = []\n",
    "within_95_cis_mult_runs = []\n",
    "cumulrmse_vs_percentile_corr_mult_runs = []\n",
    "\n",
    "flipped_cumulrmse_mult_runs = []\n",
    "\n",
    "\n",
    "\n",
    "for i in range(dataset_to_num_cis[dataset]):\n",
    "    \n",
    "    # get data\n",
    "    y_test = df_true.iloc[:, i]\n",
    "    y_test_pred = df_pred.iloc[:, i]\n",
    "    y_test_std = df_std.iloc[:, i]\n",
    "    \n",
    "    # calculate and record rmse\n",
    "    rmse_mult_runs.append(mean_squared_error(y_true=y_test, y_pred=y_test_pred, squared=False))\n",
    "    \n",
    "    # calculate upper and lower 95% conf bounds\n",
    "    upper = y_test_pred + 1.96 * y_test_std\n",
    "    lower = y_test_pred - 1.96 * y_test_std\n",
    "    \n",
    "    # calculate and record proportion of true values within 95% CI from prediction\n",
    "    within_cis = (lower <= y_test) & (y_test <= upper)\n",
    "    within_cis_proportion = within_cis.sum() / len(within_cis)\n",
    "    within_95_cis_mult_runs.append(within_cis_proportion)\n",
    "    \n",
    "    # create a dataframe to be able to sort things easily\n",
    "    CIs_df = pd.DataFrame(\n",
    "        {'y_test': y_test,\n",
    "         'y_test_pred': y_test_pred,\n",
    "         'y_test_std': y_test_std,\n",
    "         'lower': lower,\n",
    "         'upper': upper,\n",
    "         'sq_error': (y_test - y_test_pred) ** 2\n",
    "        }\n",
    "    )\n",
    "    \n",
    "    # create cumulative rmse column\n",
    "    CIs_df = CIs_df.sort_values(by='y_test_std', ascending=True)\n",
    "    CIs_df['cumul_sq_error'] = CIs_df['sq_error'].cumsum()\n",
    "    CIs_df['cumul_mse'] = CIs_df['cumul_sq_error'].values / np.arange(1, CIs_df.shape[0]+1)\n",
    "    CIs_df['cumul_rmse'] = np.sqrt(CIs_df['cumul_mse'])\n",
    "    \n",
    "    # record confidence percentiles and flip cumulative rmses\n",
    "    confidence_percentiles = np.arange(1e-14, 100, 100/len(y_test))\n",
    "    flipped_cumul_rmse = CIs_df['cumul_rmse'].values[::-1]\n",
    "    \n",
    "    # record flipped cumulative rmse\n",
    "    flipped_cumulrmse_mult_runs.append(flipped_cumul_rmse)\n",
    "    \n",
    "    # record correlation between cumulative rmse and confidence percentile\n",
    "    cumulrmse_vs_percentile_corr_mult_runs.append(pearsonr(confidence_percentiles, flipped_cumul_rmse)[0])\n",
    "    \n",
    "    # plot\n",
    "    plt.plot(confidence_percentiles, flipped_cumul_rmse, linewidth=1)\n",
    "\n",
    "\n",
    "plt.xlabel('Confidence percentile')\n",
    "plt.ylabel(f'RMSE {datasets_to_units[dataset]}')\n",
    "plt.show()"
   ]
  },
  {
   "cell_type": "code",
   "execution_count": 569,
   "metadata": {
    "colab": {},
    "colab_type": "code",
    "executionInfo": {
     "elapsed": 814347,
     "status": "ok",
     "timestamp": 1599370274334,
     "user": {
      "displayName": "George Batchkala",
      "photoUrl": "",
      "userId": "17039292136363863281"
     },
     "user_tz": -180
    },
    "id": "gRnk3OYHnFS_"
   },
   "outputs": [],
   "source": [
    "#rmse_mult_runs"
   ]
  },
  {
   "cell_type": "code",
   "execution_count": 570,
   "metadata": {},
   "outputs": [
    {
     "data": {
      "text/plain": [
       "(0.6526444226338953, 0.06274603753507987)"
      ]
     },
     "execution_count": 570,
     "metadata": {},
     "output_type": "execute_result"
    }
   ],
   "source": [
    "np.mean(rmse_mult_runs), np.std(rmse_mult_runs)"
   ]
  },
  {
   "cell_type": "code",
   "execution_count": 571,
   "metadata": {
    "colab": {},
    "colab_type": "code",
    "executionInfo": {
     "elapsed": 814026,
     "status": "ok",
     "timestamp": 1599370274336,
     "user": {
      "displayName": "George Batchkala",
      "photoUrl": "",
      "userId": "17039292136363863281"
     },
     "user_tz": -180
    },
    "id": "-4e1uVb7nFTB"
   },
   "outputs": [],
   "source": [
    "#within_95_cis_mult_runs"
   ]
  },
  {
   "cell_type": "code",
   "execution_count": 572,
   "metadata": {},
   "outputs": [
    {
     "data": {
      "text/plain": [
       "(0.9224188790560474, 0.015188160072986448)"
      ]
     },
     "execution_count": 572,
     "metadata": {},
     "output_type": "execute_result"
    }
   ],
   "source": [
    "np.mean(within_95_cis_mult_runs), np.std(within_95_cis_mult_runs)"
   ]
  },
  {
   "cell_type": "code",
   "execution_count": 573,
   "metadata": {
    "colab": {},
    "colab_type": "code",
    "id": "h1sXVpJKnFTN"
   },
   "outputs": [],
   "source": [
    "#cumulrmse_vs_percentile_corr_mult_runs"
   ]
  },
  {
   "cell_type": "code",
   "execution_count": 574,
   "metadata": {
    "colab": {},
    "colab_type": "code",
    "executionInfo": {
     "elapsed": 2656,
     "status": "ok",
     "timestamp": 1599358918465,
     "user": {
      "displayName": "George Batchkala",
      "photoUrl": "",
      "userId": "17039292136363863281"
     },
     "user_tz": -180
    },
    "id": "Oc2Tqd6snFTQ"
   },
   "outputs": [
    {
     "data": {
      "text/plain": [
       "(-0.9463880156776711, 0.027332023864663723)"
      ]
     },
     "execution_count": 574,
     "metadata": {},
     "output_type": "execute_result"
    }
   ],
   "source": [
    "np.mean(cumulrmse_vs_percentile_corr_mult_runs), np.std(cumulrmse_vs_percentile_corr_mult_runs)"
   ]
  },
  {
   "cell_type": "code",
   "execution_count": 575,
   "metadata": {
    "colab": {},
    "colab_type": "code",
    "id": "1TkWwDInnFTT"
   },
   "outputs": [
    {
     "name": "stdout",
     "output_type": "stream",
     "text": [
      "(30, 226)\n",
      "(226,)\n",
      "(226,)\n"
     ]
    }
   ],
   "source": [
    "print(np.array(flipped_cumulrmse_mult_runs).shape)\n",
    "print(np.array(flipped_cumulrmse_mult_runs).std(axis=0).shape)\n",
    "print(np.array(flipped_cumulrmse_mult_runs).mean(axis=0).shape)\n",
    "\n",
    "flipped_cumulrmse_mean = np.array(flipped_cumulrmse_mult_runs).mean(axis=0)\n",
    "flipped_cumulrmse_sdt = np.array(flipped_cumulrmse_mult_runs).mean(axis=0)\n",
    "\n",
    "flipped_cumulrmse_lower = flipped_cumulrmse_mean - 1.96*flipped_cumulrmse_sdt\n",
    "flipped_cumulrmse_upper = flipped_cumulrmse_mean + 1.96*flipped_cumulrmse_sdt"
   ]
  },
  {
   "cell_type": "code",
   "execution_count": 576,
   "metadata": {
    "colab": {},
    "colab_type": "code",
    "id": "8nSzBZlUnFTV"
   },
   "outputs": [
    {
     "data": {
      "image/png": "[encoded data removed]",
      "text/plain": [
       "<Figure size 432x288 with 1 Axes>"
      ]
     },
     "metadata": {},
     "output_type": "display_data"
    }
   ],
   "source": [
    "# plot\n",
    "plt.plot(confidence_percentiles, flipped_cumulrmse_mean, label='mean')\n",
    "plt.plot(confidence_percentiles, flipped_cumulrmse_lower, label='lower')\n",
    "plt.plot(confidence_percentiles, flipped_cumulrmse_upper, label='upper')\n",
    "plt.fill_between(confidence_percentiles, flipped_cumulrmse_upper, flipped_cumulrmse_lower, facecolor='blue', alpha=0.2)\n",
    "\n",
    "plt.legend(loc='upper center')\n",
    "\n",
    "plt.title(datasets_to_titles[dataset])\n",
    "plt.xlabel('Confidence percentile')\n",
    "plt.ylabel(f'RMSE {datasets_to_units[dataset]}')\n",
    "\n",
    "plt.show()"
   ]
  },
  {
   "cell_type": "code",
   "execution_count": null,
   "metadata": {
    "colab": {},
    "colab_type": "code",
    "id": "TaJxLDSvnFTa"
   },
   "outputs": [],
   "source": []
  },
  {
   "cell_type": "code",
   "execution_count": null,
   "metadata": {},
   "outputs": [],
   "source": []
  },
  {
   "cell_type": "code",
   "execution_count": null,
   "metadata": {},
   "outputs": [],
   "source": []
  },
  {
   "cell_type": "code",
   "execution_count": null,
   "metadata": {},
   "outputs": [],
   "source": []
  },
  {
   "cell_type": "code",
   "execution_count": null,
   "metadata": {},
   "outputs": [],
   "source": []
  },
  {
   "cell_type": "code",
   "execution_count": null,
   "metadata": {},
   "outputs": [],
   "source": []
  },
  {
   "cell_type": "code",
   "execution_count": null,
   "metadata": {},
   "outputs": [],
   "source": []
  }
 ],
 "metadata": {
  "colab": {
   "collapsed_sections": [],
   "name": "colab_extended_ci_rf_and_gp_saving_results.ipynb",
   "provenance": [],
   "toc_visible": true
  },
  "kernelspec": {
   "display_name": "Python [conda env:batch-msc] *",
   "language": "python",
   "name": "conda-env-batch-msc-py"
  },
  "language_info": {
   "codemirror_mode": {
    "name": "ipython",
    "version": 3
   },
   "file_extension": ".py",
   "mimetype": "text/x-python",
   "name": "python",
   "nbconvert_exporter": "python",
   "pygments_lexer": "ipython3",
   "version": "3.6.10"
  }
 },
 "nbformat": 4,
 "nbformat_minor": 1
}
