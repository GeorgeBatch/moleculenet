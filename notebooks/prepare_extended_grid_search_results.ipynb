{
 "cells": [
  {
   "cell_type": "markdown",
   "metadata": {},
   "source": [
    "# About"
   ]
  },
  {
   "cell_type": "markdown",
   "metadata": {},
   "source": [
    "Here we prepare the results to be used in plots and tables by combining them, extracting a metric of interest and saving them into csv files.\n",
    "\n",
    "The results were obtained in:\n",
    "- `colab_extended_grid_search_pipeline.ipynb`\n",
    "- `colab_extended_GPflow_pipeline.ipynb`\n"
   ]
  },
  {
   "cell_type": "markdown",
   "metadata": {
    "colab_type": "text",
    "id": "0X-xLNS3AQSJ"
   },
   "source": [
    "# Setup"
   ]
  },
  {
   "cell_type": "markdown",
   "metadata": {
    "colab_type": "text",
    "id": "RfEydQSeAQSL"
   },
   "source": [
    "## Look around"
   ]
  },
  {
   "cell_type": "code",
   "execution_count": 1,
   "metadata": {
    "colab": {},
    "colab_type": "code",
    "id": "VbUH1eOtObXp",
    "outputId": "dce5a945-dc95-4b37-b002-99aad21517b3"
   },
   "outputs": [
    {
     "name": "stdout",
     "output_type": "stream",
     "text": [
      "all_plots.ipynb\r\n",
      "colab_extended_GPflow_pipeline.ipynb\r\n",
      "colab_extended_grid_search_pipeline.ipynb\r\n",
      "colab_reproducing_ci_gp.ipynb\r\n",
      "colab_reproducing_ci_rf.ipynb\r\n",
      "colab_reproducing_grid_search_pipeline.ipynb\r\n",
      "eda.ipynb\r\n",
      "prepare_extended_grid_search_results.ipynb\r\n",
      "prepare_reproducing_grid_search_results.ipynb\r\n"
     ]
    }
   ],
   "source": [
    "%ls"
   ]
  },
  {
   "cell_type": "code",
   "execution_count": 2,
   "metadata": {
    "colab": {},
    "colab_type": "code",
    "id": "CyTRxipFObXw",
    "outputId": "eae6f7d2-af85-4e2e-8dcf-df43fe77be91"
   },
   "outputs": [
    {
     "name": "stdout",
     "output_type": "stream",
     "text": [
      "esol_original_extended_gp_tanimoto_train_test_scores.pickle\r\n",
      "esol_original_extended_gp_tanimoto_val_scores.pickle\r\n",
      "esol_original_extended_random_search_best_params_full.pickle\r\n",
      "esol_original_extended_random_search_best_params_reduced.pickle\r\n",
      "esol_original_extended_random_search_best_train_test_scores_full.pickle\r\n",
      "esol_original_extended_random_search_best_train_test_scores_reduced.pickle\r\n",
      "esol_original_extended_random_search_best_val_scores_full.pickle\r\n",
      "esol_original_extended_random_search_best_val_scores_reduced.pickle\r\n",
      "esol_original_extended_random_search_grid_params_reduced.pickle\r\n",
      "esol_original_reproducing_random_search_best_params.pickle\r\n",
      "esol_original_reproducing_random_search_best_train_test_scores.pickle\r\n",
      "esol_original_reproducing_random_search_best_val_scores.pickle\r\n",
      "esol_original_reproducing_random_search_grid_params.pickle\r\n",
      "freesolv_original_extended_gp_tanimoto_train_test_scores.pickle\r\n",
      "freesolv_original_extended_gp_tanimoto_val_scores.pickle\r\n",
      "freesolv_original_extended_random_search_best_params_full.pickle\r\n",
      "freesolv_original_extended_random_search_best_train_test_scores_full.pickle\r\n",
      "freesolv_original_extended_random_search_best_val_scores_full.pickle\r\n",
      "freesolv_original_extended_random_search_grid_params_full.pickle\r\n",
      "freesolv_original_reproducing_random_search_best_params.pickle\r\n",
      "freesolv_original_reproducing_random_search_best_train_test_scores.pickle\r\n",
      "freesolv_original_reproducing_random_search_best_val_scores.pickle\r\n",
      "freesolv_original_reproducing_random_search_grid_params.pickle\r\n",
      "lipophilicity_original_extended_gp_tanimoto_train_test_scores.pickle\r\n",
      "lipophilicity_original_extended_gp_tanimoto_val_scores.pickle\r\n",
      "lipophilicity_original_extended_random_search_best_params_full.pickle\r\n",
      "lipophilicity_original_extended_random_search_best_train_test_scores_full.pickle\r\n",
      "lipophilicity_original_extended_random_search_best_val_scores_full.pickle\r\n",
      "lipophilicity_original_extended_random_search_grid_params_full.pickle\r\n",
      "lipophilicity_original_reproducing_random_search_best_params.pickle\r\n",
      "lipophilicity_original_reproducing_random_search_best_train_test_scores.pickle\r\n",
      "lipophilicity_original_reproducing_random_search_best_val_scores.pickle\r\n",
      "lipophilicity_original_reproducing_random_search_grid_params.pickle\r\n"
     ]
    }
   ],
   "source": [
    "%ls ../results/"
   ]
  },
  {
   "cell_type": "markdown",
   "metadata": {
    "colab_type": "text",
    "id": "Gg6wa0GzAQSd"
   },
   "source": [
    "## Import Modules"
   ]
  },
  {
   "cell_type": "markdown",
   "metadata": {
    "colab_type": "text",
    "id": "JHBu35KMX2Vp"
   },
   "source": [
    "### Standard imports"
   ]
  },
  {
   "cell_type": "code",
   "execution_count": 3,
   "metadata": {
    "colab": {},
    "colab_type": "code",
    "id": "FKInp93BObX0"
   },
   "outputs": [],
   "source": [
    "import json\n",
    "import pickle\n",
    "\n",
    "import sys\n",
    "\n",
    "import numpy as np\n",
    "import pandas as pd\n",
    "import matplotlib.pyplot as plt\n",
    "import seaborn as sns"
   ]
  },
  {
   "cell_type": "markdown",
   "metadata": {
    "colab_type": "text",
    "id": "h1f16iDbX2Vu"
   },
   "source": [
    "### Custom imports"
   ]
  },
  {
   "cell_type": "code",
   "execution_count": 4,
   "metadata": {
    "colab": {},
    "colab_type": "code",
    "id": "xFokvyDCX2Vv"
   },
   "outputs": [],
   "source": [
    "sys.path.insert(0, '..')\n",
    "\n",
    "# plotting\n",
    "from util_scripts.plotting_functions_and_vars import FIGSIZE_CI, FIGSIZE_HEATMAP, PLOTS_DIR\n",
    "from util_scripts.plotting_functions_and_vars import datasets_to_titles, datasets_to_units, metrics_to_labels\n",
    "from util_scripts.plotting_functions_and_vars import plot_algorithm_dataset_comparison_heatmap\n",
    "\n",
    "sys.path.insert(0, './notebooks')"
   ]
  },
  {
   "cell_type": "markdown",
   "metadata": {
    "colab_type": "text",
    "id": "yLHwWzzyAQSo"
   },
   "source": [
    "## CHOOSE dataset, smile_type, grid_search_type to visualize"
   ]
  },
  {
   "cell_type": "code",
   "execution_count": 5,
   "metadata": {
    "colab": {},
    "colab_type": "code",
    "id": "96CqnRUHObX3"
   },
   "outputs": [],
   "source": [
    "# root = '../backup_results'\n",
    "root = '../results'"
   ]
  },
  {
   "cell_type": "code",
   "execution_count": 6,
   "metadata": {
    "colab": {},
    "colab_type": "code",
    "id": "cyalSHrqOiqN"
   },
   "outputs": [],
   "source": [
    "dataset = 'lipophilicity'\n",
    "assert dataset in ['freesolv', 'esol', 'lipophilicity']\n",
    "\n",
    "smile_type = 'original'\n",
    "assert smile_type in ['original', 'protonated']\n",
    "\n",
    "grid_search_type = 'extended'\n",
    "assert grid_search_type in ['reproducing', 'extended']\n",
    "\n",
    "# correlated features treatment\n",
    "if dataset == 'esol':\n",
    "    cf = 'reduced'\n",
    "else:\n",
    "    cf = 'full'\n",
    "assert cf in ['reduced', 'full']"
   ]
  },
  {
   "cell_type": "code",
   "execution_count": 7,
   "metadata": {
    "colab": {},
    "colab_type": "code",
    "id": "34anQVC0AQSz"
   },
   "outputs": [],
   "source": [
    "# # for esol\n",
    "# cf = 'full'"
   ]
  },
  {
   "cell_type": "markdown",
   "metadata": {
    "colab_type": "text",
    "id": "jjXl2uPcAQS3"
   },
   "source": [
    "## Titles, Units and Labels for datasets"
   ]
  },
  {
   "cell_type": "code",
   "execution_count": 8,
   "metadata": {
    "colab": {},
    "colab_type": "code",
    "id": "xMuEJlPFAQS4",
    "outputId": "d1fe2b3e-ceb3-4728-84c8-dd6fad0f75e7"
   },
   "outputs": [
    {
     "name": "stdout",
     "output_type": "stream",
     "text": [
      "freesolv      :  Solvation Energy\n",
      "esol          :  Log Solubility\n",
      "lipophilicity :  Octanol/Water Distribution Coefficient\n"
     ]
    }
   ],
   "source": [
    "for key, value in datasets_to_titles.items():\n",
    "    print(key, (13 - len(key))*' ' + ': ',  value)"
   ]
  },
  {
   "cell_type": "code",
   "execution_count": 9,
   "metadata": {
    "colab": {},
    "colab_type": "code",
    "id": "SjdWkUsFX2WQ",
    "outputId": "ddb34e87-a3e1-47bf-a790-f07be0054692"
   },
   "outputs": [
    {
     "name": "stdout",
     "output_type": "stream",
     "text": [
      "freesolv      :  (kcal/mol)\n",
      "esol          :  (mol/litre)\n",
      "lipophilicity :  (logD)\n"
     ]
    }
   ],
   "source": [
    "for key, value in datasets_to_units.items():\n",
    "    print(key, (13 - len(key))*' ' + ': ',  value)"
   ]
  },
  {
   "cell_type": "code",
   "execution_count": 10,
   "metadata": {
    "colab": {},
    "colab_type": "code",
    "id": "dnv0wRL8AQTD",
    "outputId": "f0870571-5d32-4756-9e5e-f34c22489381"
   },
   "outputs": [
    {
     "name": "stdout",
     "output_type": "stream",
     "text": [
      "RMSE          :  root-mean-square error\n",
      "MAE           :  mean absolute error\n",
      "R^2           :  R^2 (coefficient of determination)\n",
      "pearson_r     :  Pearson correlation\n"
     ]
    }
   ],
   "source": [
    "for key, value in metrics_to_labels.items():\n",
    "    print(key, (13 - len(key))*' ' + ': ',  value)"
   ]
  },
  {
   "cell_type": "markdown",
   "metadata": {
    "colab_type": "text",
    "id": "x4jNc4LUAQTM"
   },
   "source": [
    "## CHOOSE metric to display"
   ]
  },
  {
   "cell_type": "code",
   "execution_count": 11,
   "metadata": {
    "colab": {},
    "colab_type": "code",
    "id": "xCke_bPxAQTN"
   },
   "outputs": [],
   "source": [
    "metric = 'RMSE'\n",
    "assert metric in metrics_to_labels"
   ]
  },
  {
   "cell_type": "code",
   "execution_count": 12,
   "metadata": {
    "colab": {},
    "colab_type": "code",
    "id": "ItaMy-LTAQTq"
   },
   "outputs": [],
   "source": [
    "if metric in ['RMSE', 'MAE']:\n",
    "    pass\n",
    "else:\n",
    "    # no units\n",
    "    datasets_to_units = {'freesolv': '', 'esol': '', 'lipophilicity': ''}"
   ]
  },
  {
   "cell_type": "markdown",
   "metadata": {
    "colab_type": "text",
    "id": "NucBYiW4AQTv"
   },
   "source": [
    "## Load everything"
   ]
  },
  {
   "cell_type": "code",
   "execution_count": 13,
   "metadata": {
    "colab": {},
    "colab_type": "code",
    "id": "P7gZiseHAQTw",
    "outputId": "6a3dcf22-6ddb-40f2-ff6b-98afcf2cae22"
   },
   "outputs": [
    {
     "name": "stdout",
     "output_type": "stream",
     "text": [
      "esol_original_extended_gp_tanimoto_train_test_scores.pickle\r\n",
      "esol_original_extended_gp_tanimoto_val_scores.pickle\r\n",
      "esol_original_extended_random_search_best_params_full.pickle\r\n",
      "esol_original_extended_random_search_best_params_reduced.pickle\r\n",
      "esol_original_extended_random_search_best_train_test_scores_full.pickle\r\n",
      "esol_original_extended_random_search_best_train_test_scores_reduced.pickle\r\n",
      "esol_original_extended_random_search_best_val_scores_full.pickle\r\n",
      "esol_original_extended_random_search_best_val_scores_reduced.pickle\r\n",
      "esol_original_extended_random_search_grid_params_reduced.pickle\r\n",
      "esol_original_reproducing_random_search_best_params.pickle\r\n",
      "esol_original_reproducing_random_search_best_train_test_scores.pickle\r\n",
      "esol_original_reproducing_random_search_best_val_scores.pickle\r\n",
      "esol_original_reproducing_random_search_grid_params.pickle\r\n",
      "freesolv_original_extended_gp_tanimoto_train_test_scores.pickle\r\n",
      "freesolv_original_extended_gp_tanimoto_val_scores.pickle\r\n",
      "freesolv_original_extended_random_search_best_params_full.pickle\r\n",
      "freesolv_original_extended_random_search_best_train_test_scores_full.pickle\r\n",
      "freesolv_original_extended_random_search_best_val_scores_full.pickle\r\n",
      "freesolv_original_extended_random_search_grid_params_full.pickle\r\n",
      "freesolv_original_reproducing_random_search_best_params.pickle\r\n",
      "freesolv_original_reproducing_random_search_best_train_test_scores.pickle\r\n",
      "freesolv_original_reproducing_random_search_best_val_scores.pickle\r\n",
      "freesolv_original_reproducing_random_search_grid_params.pickle\r\n",
      "lipophilicity_original_extended_gp_tanimoto_train_test_scores.pickle\r\n",
      "lipophilicity_original_extended_gp_tanimoto_val_scores.pickle\r\n",
      "lipophilicity_original_extended_random_search_best_params_full.pickle\r\n",
      "lipophilicity_original_extended_random_search_best_train_test_scores_full.pickle\r\n",
      "lipophilicity_original_extended_random_search_best_val_scores_full.pickle\r\n",
      "lipophilicity_original_extended_random_search_grid_params_full.pickle\r\n",
      "lipophilicity_original_reproducing_random_search_best_params.pickle\r\n",
      "lipophilicity_original_reproducing_random_search_best_train_test_scores.pickle\r\n",
      "lipophilicity_original_reproducing_random_search_best_val_scores.pickle\r\n",
      "lipophilicity_original_reproducing_random_search_grid_params.pickle\r\n"
     ]
    }
   ],
   "source": [
    "%ls ../results/"
   ]
  },
  {
   "cell_type": "markdown",
   "metadata": {},
   "source": [
    "### Sklearn"
   ]
  },
  {
   "cell_type": "code",
   "execution_count": 14,
   "metadata": {
    "colab": {},
    "colab_type": "code",
    "id": "X2glbcNcObX6"
   },
   "outputs": [],
   "source": [
    "with open(f'../results/{dataset}_{smile_type}_{grid_search_type}_random_search_best_val_scores_{cf}.pickle', 'rb') as fp:\n",
    "    val_scores = pickle.load(fp)\n",
    "\n",
    "with open(f'../results/{dataset}_{smile_type}_{grid_search_type}_random_search_best_train_test_scores_{cf}.pickle', 'rb') as fp:\n",
    "    train_test_scores = pickle.load(fp)\n",
    "\n",
    "with open(f'../results/{dataset}_{smile_type}_{grid_search_type}_random_search_best_params_{cf}.pickle', 'rb') as fp:\n",
    "    best_params = pickle.load(fp)\n",
    "\n",
    "# with open(f'../results/{dataset}_{smile_type}_{grid_search_type}_random_search_grid_params_{cf}.pickle', 'rb') as fp:\n",
    "#     params = pickle.load(fp)"
   ]
  },
  {
   "cell_type": "code",
   "execution_count": 15,
   "metadata": {
    "colab": {},
    "colab_type": "code",
    "id": "GUrBl_FzAQUG",
    "outputId": "f98ad4ea-8eb5-4fcb-ff3d-6123d226bb2f"
   },
   "outputs": [],
   "source": [
    "# best_params"
   ]
  },
  {
   "cell_type": "markdown",
   "metadata": {
    "colab_type": "text",
    "id": "k3TMIMvWAQUe"
   },
   "source": [
    "Have a look at best parameters."
   ]
  },
  {
   "cell_type": "code",
   "execution_count": 16,
   "metadata": {
    "colab": {},
    "colab_type": "code",
    "id": "9j7rbVktObYA",
    "outputId": "970b69b5-d5eb-4b3d-df18-8dca22fdfe26"
   },
   "outputs": [
    {
     "data": {
      "text/plain": [
       "{'rf': {'rf__n_estimators': 950, 'rf__max_features': 0.4},\n",
       " 'xgb': {'xgb__subsample': 1,\n",
       "  'xgb__n_estimators': 400,\n",
       "  'xgb__max_depth': 9,\n",
       "  'xgb__learning_rate': 0.1},\n",
       " 'krr': {'krr__alpha': 0.01},\n",
       " 'gp': {'gp__kernel': RBF(length_scale=1) + WhiteKernel(noise_level=1)}}"
      ]
     },
     "execution_count": 16,
     "metadata": {},
     "output_type": "execute_result"
    }
   ],
   "source": [
    "best_params['1024ecfp-4']"
   ]
  },
  {
   "cell_type": "markdown",
   "metadata": {
    "colab_type": "text",
    "id": "oXXHngt0AQUl"
   },
   "source": [
    "Have a look at the scores"
   ]
  },
  {
   "cell_type": "code",
   "execution_count": 17,
   "metadata": {
    "colab": {},
    "colab_type": "code",
    "id": "sS0OedfOAQUl",
    "outputId": "fead3491-e944-4410-9dd7-8306e434f0ec"
   },
   "outputs": [],
   "source": [
    "# val_scores"
   ]
  },
  {
   "cell_type": "code",
   "execution_count": 18,
   "metadata": {
    "colab": {},
    "colab_type": "code",
    "id": "JMPWwMI1AQUp",
    "outputId": "53a01981-4b33-4b18-dfbf-42a2023d72f0"
   },
   "outputs": [],
   "source": [
    "# train_test_scores"
   ]
  },
  {
   "cell_type": "markdown",
   "metadata": {},
   "source": [
    "### GPflow"
   ]
  },
  {
   "cell_type": "code",
   "execution_count": 19,
   "metadata": {},
   "outputs": [],
   "source": [
    "with open(f'../results/{dataset}_{smile_type}_{grid_search_type}_gp_tanimoto_val_scores.pickle', 'rb') as fp:\n",
    "    gpflow_val_scores = pickle.load(fp)\n",
    "\n",
    "with open(f'../results/{dataset}_{smile_type}_{grid_search_type}_gp_tanimoto_train_test_scores.pickle', 'rb') as fp:\n",
    "    gpflow_train_test_scores = pickle.load(fp)"
   ]
  },
  {
   "cell_type": "code",
   "execution_count": 20,
   "metadata": {},
   "outputs": [],
   "source": [
    "# gpflow_val_scores"
   ]
  },
  {
   "cell_type": "markdown",
   "metadata": {},
   "source": [
    "### Get means and standard deviations"
   ]
  },
  {
   "cell_type": "markdown",
   "metadata": {},
   "source": [
    "#### Scikit-Learn"
   ]
  },
  {
   "cell_type": "markdown",
   "metadata": {
    "colab_type": "text",
    "id": "5BWvgdcDAQUt"
   },
   "source": [
    "Get the means over folds (`cross_validate()` records the results as arrays even for `num_folds=1`)"
   ]
  },
  {
   "cell_type": "code",
   "execution_count": 21,
   "metadata": {},
   "outputs": [],
   "source": [
    "scores = val_scores\n",
    "mean_val_scores = {features: {model: {record: np.abs(scores[features][model][record].mean()) for record in scores[features][model]} for model in scores[features]} for features in scores}\n",
    "std_val_scores = {features: {model: {record: scores[features][model][record].std() for record in scores[features][model]} for model in scores[features]} for features in scores}\n",
    "\n",
    "# mean_val_scores\n",
    "# std_val_scores"
   ]
  },
  {
   "cell_type": "code",
   "execution_count": 22,
   "metadata": {},
   "outputs": [],
   "source": [
    "scores = train_test_scores\n",
    "mean_train_test_scores = {features: {model: {record: np.abs(scores[features][model][record].mean()) for record in scores[features][model]} for model in scores[features]} for features in scores}\n",
    "std_train_test_scores = {features: {model: {record: scores[features][model][record].std() for record in scores[features][model]} for model in scores[features]} for features in scores}\n",
    "\n",
    "# mean_train_test_scores\n",
    "# std_train_test_scores"
   ]
  },
  {
   "cell_type": "markdown",
   "metadata": {},
   "source": [
    "#### GPflow"
   ]
  },
  {
   "cell_type": "code",
   "execution_count": 23,
   "metadata": {},
   "outputs": [],
   "source": [
    "scores = gpflow_val_scores\n",
    "gpflow_mean_val_scores = {features: {record: np.abs(scores[features][record]).mean() for record in scores[features]} for features in scores}\n",
    "gpflow_std_val_scores = {features: {record: np.array(scores[features][record]).std() for record in scores[features]} for features in scores}\n",
    "\n",
    "# gpflow_mean_val_scores\n",
    "# gpflow_std_val_scores"
   ]
  },
  {
   "cell_type": "code",
   "execution_count": 24,
   "metadata": {},
   "outputs": [],
   "source": [
    "scores = gpflow_train_test_scores\n",
    "gpflow_mean_train_test_scores = {features: {record: np.abs(scores[features][record]).mean() for record in scores[features]} for features in scores}\n",
    "gpflow_std_train_test_scores = {features: {record: np.array(scores[features][record]).std() for record in scores[features]} for features in scores}\n",
    "\n",
    "# gpflow_mean_train_test_scores\n",
    "# gpflow_std_train_test_scores"
   ]
  },
  {
   "cell_type": "markdown",
   "metadata": {
    "colab_type": "text",
    "id": "tq91XVzvAQU5"
   },
   "source": [
    "# Visualization"
   ]
  },
  {
   "cell_type": "markdown",
   "metadata": {
    "colab_type": "text",
    "id": "79j3OG_LAQU6"
   },
   "source": [
    "## Plotting options"
   ]
  },
  {
   "cell_type": "code",
   "execution_count": 25,
   "metadata": {
    "colab": {},
    "colab_type": "code",
    "id": "-F3lnzIkAQU2",
    "outputId": "a0c27bb2-77af-47fd-beed-f9d354d48815"
   },
   "outputs": [
    {
     "data": {
      "text/plain": [
       "dict_keys(['RDKit', '1024ecfp-4', '1024ecfp-6', '2048ecfp-4', '2048ecfp-6', '1024ecfp-4 + RDKit', '1024ecfp-6 + RDKit', '2048ecfp-4 + RDKit', '2048ecfp-6 + RDKit'])"
      ]
     },
     "execution_count": 25,
     "metadata": {},
     "output_type": "execute_result"
    }
   ],
   "source": [
    "mean_val_scores.keys()"
   ]
  },
  {
   "cell_type": "code",
   "execution_count": 26,
   "metadata": {
    "colab": {},
    "colab_type": "code",
    "id": "Zx8K4vRIObYF"
   },
   "outputs": [],
   "source": [
    "column_order = ['RDKit',\n",
    "                '1024ecfp-4', '1024ecfp-4 + RDKit',\n",
    "                '1024ecfp-6', '1024ecfp-6 + RDKit',\n",
    "                '2048ecfp-4', '2048ecfp-4 + RDKit',\n",
    "                '2048ecfp-6', '2048ecfp-6 + RDKit'\n",
    "                ]\n",
    "\n",
    "row_order = ['Random Forest', 'XGBoost', 'Kernel Ridge', 'GP-sklearn', 'GP-GPflow']\n",
    "mapper = {\n",
    "    'rf': 'Random Forest',\n",
    "    'xgb': 'XGBoost',\n",
    "    'krr': 'Kernel Ridge',\n",
    "    'gp': 'GP-sklearn',\n",
    "    'gpflow': 'GP-GPflow'\n",
    "}"
   ]
  },
  {
   "cell_type": "markdown",
   "metadata": {
    "colab_type": "text",
    "id": "vxrJtnSWAQU-"
   },
   "source": [
    "## Train metric"
   ]
  },
  {
   "cell_type": "code",
   "execution_count": 27,
   "metadata": {
    "colab": {},
    "colab_type": "code",
    "id": "Vo6S1WmkObYJ",
    "outputId": "301d944b-d6a7-4fe3-d07e-42283571b794"
   },
   "outputs": [
    {
     "name": "stdout",
     "output_type": "stream",
     "text": [
      "RMSE : root-mean-square error , unit: (logD)\n"
     ]
    },
    {
     "data": {
      "text/html": [
       "<div>\n",
       "<style scoped>\n",
       "    .dataframe tbody tr th:only-of-type {\n",
       "        vertical-align: middle;\n",
       "    }\n",
       "\n",
       "    .dataframe tbody tr th {\n",
       "        vertical-align: top;\n",
       "    }\n",
       "\n",
       "    .dataframe thead th {\n",
       "        text-align: right;\n",
       "    }\n",
       "</style>\n",
       "<table border=\"1\" class=\"dataframe\">\n",
       "  <thead>\n",
       "    <tr style=\"text-align: right;\">\n",
       "      <th></th>\n",
       "      <th>RDKit</th>\n",
       "      <th>1024ecfp-4</th>\n",
       "      <th>1024ecfp-6</th>\n",
       "      <th>2048ecfp-4</th>\n",
       "      <th>2048ecfp-6</th>\n",
       "      <th>1024ecfp-4 + RDKit</th>\n",
       "      <th>1024ecfp-6 + RDKit</th>\n",
       "      <th>2048ecfp-4 + RDKit</th>\n",
       "      <th>2048ecfp-6 + RDKit</th>\n",
       "    </tr>\n",
       "  </thead>\n",
       "  <tbody>\n",
       "    <tr>\n",
       "      <th>rf</th>\n",
       "      <td>0.26</td>\n",
       "      <td>0.31</td>\n",
       "      <td>0.32</td>\n",
       "      <td>0.30</td>\n",
       "      <td>0.31</td>\n",
       "      <td>0.25</td>\n",
       "      <td>0.25</td>\n",
       "      <td>0.25</td>\n",
       "      <td>0.25</td>\n",
       "    </tr>\n",
       "    <tr>\n",
       "      <th>xgb</th>\n",
       "      <td>0.31</td>\n",
       "      <td>0.11</td>\n",
       "      <td>0.05</td>\n",
       "      <td>0.17</td>\n",
       "      <td>0.10</td>\n",
       "      <td>0.33</td>\n",
       "      <td>0.31</td>\n",
       "      <td>0.10</td>\n",
       "      <td>0.06</td>\n",
       "    </tr>\n",
       "    <tr>\n",
       "      <th>krr</th>\n",
       "      <td>0.28</td>\n",
       "      <td>0.04</td>\n",
       "      <td>0.03</td>\n",
       "      <td>0.04</td>\n",
       "      <td>0.02</td>\n",
       "      <td>0.03</td>\n",
       "      <td>0.02</td>\n",
       "      <td>0.03</td>\n",
       "      <td>0.02</td>\n",
       "    </tr>\n",
       "    <tr>\n",
       "      <th>gp</th>\n",
       "      <td>0.12</td>\n",
       "      <td>0.33</td>\n",
       "      <td>0.69</td>\n",
       "      <td>0.16</td>\n",
       "      <td>0.30</td>\n",
       "      <td>0.12</td>\n",
       "      <td>0.49</td>\n",
       "      <td>0.14</td>\n",
       "      <td>0.33</td>\n",
       "    </tr>\n",
       "  </tbody>\n",
       "</table>\n",
       "</div>"
      ],
      "text/plain": [
       "     RDKit  1024ecfp-4  1024ecfp-6  2048ecfp-4  2048ecfp-6  \\\n",
       "rf    0.26        0.31        0.32        0.30        0.31   \n",
       "xgb   0.31        0.11        0.05        0.17        0.10   \n",
       "krr   0.28        0.04        0.03        0.04        0.02   \n",
       "gp    0.12        0.33        0.69        0.16        0.30   \n",
       "\n",
       "     1024ecfp-4 + RDKit  1024ecfp-6 + RDKit  2048ecfp-4 + RDKit  \\\n",
       "rf                 0.25                0.25                0.25   \n",
       "xgb                0.33                0.31                0.10   \n",
       "krr                0.03                0.02                0.03   \n",
       "gp                 0.12                0.49                0.14   \n",
       "\n",
       "     2048ecfp-6 + RDKit  \n",
       "rf                 0.25  \n",
       "xgb                0.06  \n",
       "krr                0.02  \n",
       "gp                 0.33  "
      ]
     },
     "execution_count": 27,
     "metadata": {},
     "output_type": "execute_result"
    }
   ],
   "source": [
    "## pull out train scores for all features for all models (train set is the train set when working on train/test split )\n",
    "train_metric = pd.DataFrame({features: {model: mean_train_test_scores[features][model][f'train_{metric}'] for model in mean_train_test_scores[features]} for features in mean_train_test_scores})\n",
    "\n",
    "print(metric, ':',metrics_to_labels[metric], ', unit:', datasets_to_units[dataset])\n",
    "train_metric.round(2)"
   ]
  },
  {
   "cell_type": "code",
   "execution_count": 28,
   "metadata": {},
   "outputs": [
    {
     "name": "stdout",
     "output_type": "stream",
     "text": [
      "RMSE : root-mean-square error , unit: (logD)\n"
     ]
    },
    {
     "data": {
      "text/html": [
       "<div>\n",
       "<style scoped>\n",
       "    .dataframe tbody tr th:only-of-type {\n",
       "        vertical-align: middle;\n",
       "    }\n",
       "\n",
       "    .dataframe tbody tr th {\n",
       "        vertical-align: top;\n",
       "    }\n",
       "\n",
       "    .dataframe thead th {\n",
       "        text-align: right;\n",
       "    }\n",
       "</style>\n",
       "<table border=\"1\" class=\"dataframe\">\n",
       "  <thead>\n",
       "    <tr style=\"text-align: right;\">\n",
       "      <th></th>\n",
       "      <th>RDKit</th>\n",
       "      <th>1024ecfp-4</th>\n",
       "      <th>1024ecfp-6</th>\n",
       "      <th>2048ecfp-4</th>\n",
       "      <th>2048ecfp-6</th>\n",
       "      <th>1024ecfp-4 + RDKit</th>\n",
       "      <th>1024ecfp-6 + RDKit</th>\n",
       "      <th>2048ecfp-4 + RDKit</th>\n",
       "      <th>2048ecfp-6 + RDKit</th>\n",
       "    </tr>\n",
       "  </thead>\n",
       "  <tbody>\n",
       "    <tr>\n",
       "      <th>gpflow</th>\n",
       "      <td>None</td>\n",
       "      <td>0.06</td>\n",
       "      <td>0.04</td>\n",
       "      <td>0.06</td>\n",
       "      <td>0.04</td>\n",
       "      <td>None</td>\n",
       "      <td>None</td>\n",
       "      <td>None</td>\n",
       "      <td>None</td>\n",
       "    </tr>\n",
       "  </tbody>\n",
       "</table>\n",
       "</div>"
      ],
      "text/plain": [
       "       RDKit  1024ecfp-4  1024ecfp-6  2048ecfp-4  2048ecfp-6  \\\n",
       "gpflow  None        0.06        0.04        0.06        0.04   \n",
       "\n",
       "       1024ecfp-4 + RDKit 1024ecfp-6 + RDKit 2048ecfp-4 + RDKit  \\\n",
       "gpflow               None               None               None   \n",
       "\n",
       "       2048ecfp-6 + RDKit  \n",
       "gpflow               None  "
      ]
     },
     "execution_count": 28,
     "metadata": {},
     "output_type": "execute_result"
    }
   ],
   "source": [
    "gpflow_train_metric = {features: {'gpflow': gpflow_mean_train_test_scores[features][f'train_{metric}']} for features in gpflow_mean_train_test_scores}\n",
    "for features in train_metric:\n",
    "    if features not in gpflow_train_metric:\n",
    "        gpflow_train_metric[features] = {}\n",
    "        gpflow_train_metric[features]['gpflow'] = None\n",
    "gpflow_train_metric = pd.DataFrame(gpflow_train_metric)[train_metric.columns]\n",
    "\n",
    "print(metric, ':',metrics_to_labels[metric], ', unit:', datasets_to_units[dataset])\n",
    "gpflow_train_metric.round(2)"
   ]
  },
  {
   "cell_type": "code",
   "execution_count": 29,
   "metadata": {},
   "outputs": [
    {
     "data": {
      "text/html": [
       "<div>\n",
       "<style scoped>\n",
       "    .dataframe tbody tr th:only-of-type {\n",
       "        vertical-align: middle;\n",
       "    }\n",
       "\n",
       "    .dataframe tbody tr th {\n",
       "        vertical-align: top;\n",
       "    }\n",
       "\n",
       "    .dataframe thead th {\n",
       "        text-align: right;\n",
       "    }\n",
       "</style>\n",
       "<table border=\"1\" class=\"dataframe\">\n",
       "  <thead>\n",
       "    <tr style=\"text-align: right;\">\n",
       "      <th></th>\n",
       "      <th>RDKit</th>\n",
       "      <th>1024ecfp-4</th>\n",
       "      <th>1024ecfp-6</th>\n",
       "      <th>2048ecfp-4</th>\n",
       "      <th>2048ecfp-6</th>\n",
       "      <th>1024ecfp-4 + RDKit</th>\n",
       "      <th>1024ecfp-6 + RDKit</th>\n",
       "      <th>2048ecfp-4 + RDKit</th>\n",
       "      <th>2048ecfp-6 + RDKit</th>\n",
       "    </tr>\n",
       "  </thead>\n",
       "  <tbody>\n",
       "    <tr>\n",
       "      <th>rf</th>\n",
       "      <td>0.26</td>\n",
       "      <td>0.31</td>\n",
       "      <td>0.32</td>\n",
       "      <td>0.30</td>\n",
       "      <td>0.31</td>\n",
       "      <td>0.25</td>\n",
       "      <td>0.25</td>\n",
       "      <td>0.25</td>\n",
       "      <td>0.25</td>\n",
       "    </tr>\n",
       "    <tr>\n",
       "      <th>xgb</th>\n",
       "      <td>0.31</td>\n",
       "      <td>0.11</td>\n",
       "      <td>0.05</td>\n",
       "      <td>0.17</td>\n",
       "      <td>0.10</td>\n",
       "      <td>0.33</td>\n",
       "      <td>0.31</td>\n",
       "      <td>0.10</td>\n",
       "      <td>0.06</td>\n",
       "    </tr>\n",
       "    <tr>\n",
       "      <th>krr</th>\n",
       "      <td>0.28</td>\n",
       "      <td>0.04</td>\n",
       "      <td>0.03</td>\n",
       "      <td>0.04</td>\n",
       "      <td>0.02</td>\n",
       "      <td>0.03</td>\n",
       "      <td>0.02</td>\n",
       "      <td>0.03</td>\n",
       "      <td>0.02</td>\n",
       "    </tr>\n",
       "    <tr>\n",
       "      <th>gp</th>\n",
       "      <td>0.12</td>\n",
       "      <td>0.33</td>\n",
       "      <td>0.69</td>\n",
       "      <td>0.16</td>\n",
       "      <td>0.30</td>\n",
       "      <td>0.12</td>\n",
       "      <td>0.49</td>\n",
       "      <td>0.14</td>\n",
       "      <td>0.33</td>\n",
       "    </tr>\n",
       "    <tr>\n",
       "      <th>gpflow</th>\n",
       "      <td>NaN</td>\n",
       "      <td>0.06</td>\n",
       "      <td>0.04</td>\n",
       "      <td>0.06</td>\n",
       "      <td>0.04</td>\n",
       "      <td>NaN</td>\n",
       "      <td>NaN</td>\n",
       "      <td>NaN</td>\n",
       "      <td>NaN</td>\n",
       "    </tr>\n",
       "  </tbody>\n",
       "</table>\n",
       "</div>"
      ],
      "text/plain": [
       "        RDKit  1024ecfp-4  1024ecfp-6  2048ecfp-4  2048ecfp-6  \\\n",
       "rf       0.26        0.31        0.32        0.30        0.31   \n",
       "xgb      0.31        0.11        0.05        0.17        0.10   \n",
       "krr      0.28        0.04        0.03        0.04        0.02   \n",
       "gp       0.12        0.33        0.69        0.16        0.30   \n",
       "gpflow    NaN        0.06        0.04        0.06        0.04   \n",
       "\n",
       "        1024ecfp-4 + RDKit  1024ecfp-6 + RDKit  2048ecfp-4 + RDKit  \\\n",
       "rf                    0.25                0.25                0.25   \n",
       "xgb                   0.33                0.31                0.10   \n",
       "krr                   0.03                0.02                0.03   \n",
       "gp                    0.12                0.49                0.14   \n",
       "gpflow                 NaN                 NaN                 NaN   \n",
       "\n",
       "        2048ecfp-6 + RDKit  \n",
       "rf                    0.25  \n",
       "xgb                   0.06  \n",
       "krr                   0.02  \n",
       "gp                    0.33  \n",
       "gpflow                 NaN  "
      ]
     },
     "execution_count": 29,
     "metadata": {},
     "output_type": "execute_result"
    }
   ],
   "source": [
    "combined_train_metric = pd.concat([train_metric, gpflow_train_metric])\n",
    "combined_train_metric.round(2)"
   ]
  },
  {
   "cell_type": "code",
   "execution_count": 30,
   "metadata": {},
   "outputs": [
    {
     "data": {
      "text/html": [
       "<div>\n",
       "<style scoped>\n",
       "    .dataframe tbody tr th:only-of-type {\n",
       "        vertical-align: middle;\n",
       "    }\n",
       "\n",
       "    .dataframe tbody tr th {\n",
       "        vertical-align: top;\n",
       "    }\n",
       "\n",
       "    .dataframe thead th {\n",
       "        text-align: right;\n",
       "    }\n",
       "</style>\n",
       "<table border=\"1\" class=\"dataframe\">\n",
       "  <thead>\n",
       "    <tr style=\"text-align: right;\">\n",
       "      <th></th>\n",
       "      <th>RDKit</th>\n",
       "      <th>1024ecfp-4</th>\n",
       "      <th>1024ecfp-4 + RDKit</th>\n",
       "      <th>1024ecfp-6</th>\n",
       "      <th>1024ecfp-6 + RDKit</th>\n",
       "      <th>2048ecfp-4</th>\n",
       "      <th>2048ecfp-4 + RDKit</th>\n",
       "      <th>2048ecfp-6</th>\n",
       "      <th>2048ecfp-6 + RDKit</th>\n",
       "    </tr>\n",
       "  </thead>\n",
       "  <tbody>\n",
       "    <tr>\n",
       "      <th>Random Forest</th>\n",
       "      <td>0.26</td>\n",
       "      <td>0.31</td>\n",
       "      <td>0.25</td>\n",
       "      <td>0.32</td>\n",
       "      <td>0.25</td>\n",
       "      <td>0.30</td>\n",
       "      <td>0.25</td>\n",
       "      <td>0.31</td>\n",
       "      <td>0.25</td>\n",
       "    </tr>\n",
       "    <tr>\n",
       "      <th>XGBoost</th>\n",
       "      <td>0.31</td>\n",
       "      <td>0.11</td>\n",
       "      <td>0.33</td>\n",
       "      <td>0.05</td>\n",
       "      <td>0.31</td>\n",
       "      <td>0.17</td>\n",
       "      <td>0.10</td>\n",
       "      <td>0.10</td>\n",
       "      <td>0.06</td>\n",
       "    </tr>\n",
       "    <tr>\n",
       "      <th>Kernel Ridge</th>\n",
       "      <td>0.28</td>\n",
       "      <td>0.04</td>\n",
       "      <td>0.03</td>\n",
       "      <td>0.03</td>\n",
       "      <td>0.02</td>\n",
       "      <td>0.04</td>\n",
       "      <td>0.03</td>\n",
       "      <td>0.02</td>\n",
       "      <td>0.02</td>\n",
       "    </tr>\n",
       "    <tr>\n",
       "      <th>GP-sklearn</th>\n",
       "      <td>0.12</td>\n",
       "      <td>0.33</td>\n",
       "      <td>0.12</td>\n",
       "      <td>0.69</td>\n",
       "      <td>0.49</td>\n",
       "      <td>0.16</td>\n",
       "      <td>0.14</td>\n",
       "      <td>0.30</td>\n",
       "      <td>0.33</td>\n",
       "    </tr>\n",
       "    <tr>\n",
       "      <th>GP-GPflow</th>\n",
       "      <td>NaN</td>\n",
       "      <td>0.06</td>\n",
       "      <td>NaN</td>\n",
       "      <td>0.04</td>\n",
       "      <td>NaN</td>\n",
       "      <td>0.06</td>\n",
       "      <td>NaN</td>\n",
       "      <td>0.04</td>\n",
       "      <td>NaN</td>\n",
       "    </tr>\n",
       "  </tbody>\n",
       "</table>\n",
       "</div>"
      ],
      "text/plain": [
       "               RDKit  1024ecfp-4  1024ecfp-4 + RDKit  1024ecfp-6  \\\n",
       "Random Forest   0.26        0.31                0.25        0.32   \n",
       "XGBoost         0.31        0.11                0.33        0.05   \n",
       "Kernel Ridge    0.28        0.04                0.03        0.03   \n",
       "GP-sklearn      0.12        0.33                0.12        0.69   \n",
       "GP-GPflow        NaN        0.06                 NaN        0.04   \n",
       "\n",
       "               1024ecfp-6 + RDKit  2048ecfp-4  2048ecfp-4 + RDKit  2048ecfp-6  \\\n",
       "Random Forest                0.25        0.30                0.25        0.31   \n",
       "XGBoost                      0.31        0.17                0.10        0.10   \n",
       "Kernel Ridge                 0.02        0.04                0.03        0.02   \n",
       "GP-sklearn                   0.49        0.16                0.14        0.30   \n",
       "GP-GPflow                     NaN        0.06                 NaN        0.04   \n",
       "\n",
       "               2048ecfp-6 + RDKit  \n",
       "Random Forest                0.25  \n",
       "XGBoost                      0.06  \n",
       "Kernel Ridge                 0.02  \n",
       "GP-sklearn                   0.33  \n",
       "GP-GPflow                     NaN  "
      ]
     },
     "execution_count": 30,
     "metadata": {},
     "output_type": "execute_result"
    }
   ],
   "source": [
    "df = combined_train_metric.round(2)\n",
    "df = df.rename(mapper=mapper, axis='rows')\n",
    "df = df.loc[row_order, column_order]\n",
    "df"
   ]
  },
  {
   "cell_type": "markdown",
   "metadata": {},
   "source": [
    "### Heatmap (train)"
   ]
  },
  {
   "cell_type": "code",
   "execution_count": null,
   "metadata": {},
   "outputs": [],
   "source": []
  },
  {
   "cell_type": "code",
   "execution_count": 31,
   "metadata": {
    "colab": {},
    "colab_type": "code",
    "id": "4iiKcCOMObYM",
    "outputId": "e973f26c-605b-4c34-d8c0-56b4ec602627"
   },
   "outputs": [
    {
     "data": {
      "image/png": "[encoded data removed]",
      "text/plain": [
       "<Figure size 576x432 with 2 Axes>"
      ]
     },
     "metadata": {
      "needs_background": "light"
     },
     "output_type": "display_data"
    }
   ],
   "source": [
    "plot_algorithm_dataset_comparison_heatmap(df, dataset=dataset, metric=metric)\n",
    "\n",
    "# fig.savefig(f'{PLOTS_DIR}/algorithm_comparison.jpg', dpi=350, bbox_inches='tight')\n",
    "plt.show()"
   ]
  },
  {
   "cell_type": "markdown",
   "metadata": {
    "colab_type": "text",
    "id": "bL8eEAnWAQVI"
   },
   "source": [
    "## Val metric"
   ]
  },
  {
   "cell_type": "markdown",
   "metadata": {},
   "source": [
    "### Scikit-Learn"
   ]
  },
  {
   "cell_type": "code",
   "execution_count": 32,
   "metadata": {
    "colab": {},
    "colab_type": "code",
    "id": "KhoOQLCFObYP",
    "outputId": "42aa4335-580b-4444-c3a1-50e83b83f258"
   },
   "outputs": [
    {
     "name": "stdout",
     "output_type": "stream",
     "text": [
      "RMSE : root-mean-square error , unit: (logD)\n"
     ]
    },
    {
     "data": {
      "text/html": [
       "<div>\n",
       "<style scoped>\n",
       "    .dataframe tbody tr th:only-of-type {\n",
       "        vertical-align: middle;\n",
       "    }\n",
       "\n",
       "    .dataframe tbody tr th {\n",
       "        vertical-align: top;\n",
       "    }\n",
       "\n",
       "    .dataframe thead th {\n",
       "        text-align: right;\n",
       "    }\n",
       "</style>\n",
       "<table border=\"1\" class=\"dataframe\">\n",
       "  <thead>\n",
       "    <tr style=\"text-align: right;\">\n",
       "      <th></th>\n",
       "      <th>RDKit</th>\n",
       "      <th>1024ecfp-4</th>\n",
       "      <th>1024ecfp-6</th>\n",
       "      <th>2048ecfp-4</th>\n",
       "      <th>2048ecfp-6</th>\n",
       "      <th>1024ecfp-4 + RDKit</th>\n",
       "      <th>1024ecfp-6 + RDKit</th>\n",
       "      <th>2048ecfp-4 + RDKit</th>\n",
       "      <th>2048ecfp-6 + RDKit</th>\n",
       "    </tr>\n",
       "  </thead>\n",
       "  <tbody>\n",
       "    <tr>\n",
       "      <th>rf</th>\n",
       "      <td>0.66</td>\n",
       "      <td>0.81</td>\n",
       "      <td>0.84</td>\n",
       "      <td>0.78</td>\n",
       "      <td>0.81</td>\n",
       "      <td>0.65</td>\n",
       "      <td>0.65</td>\n",
       "      <td>0.65</td>\n",
       "      <td>0.65</td>\n",
       "    </tr>\n",
       "    <tr>\n",
       "      <th>xgb</th>\n",
       "      <td>0.63</td>\n",
       "      <td>0.79</td>\n",
       "      <td>0.82</td>\n",
       "      <td>0.76</td>\n",
       "      <td>0.79</td>\n",
       "      <td>0.62</td>\n",
       "      <td>0.63</td>\n",
       "      <td>0.62</td>\n",
       "      <td>0.62</td>\n",
       "    </tr>\n",
       "    <tr>\n",
       "      <th>krr</th>\n",
       "      <td>0.64</td>\n",
       "      <td>0.84</td>\n",
       "      <td>0.83</td>\n",
       "      <td>0.91</td>\n",
       "      <td>0.85</td>\n",
       "      <td>0.68</td>\n",
       "      <td>0.66</td>\n",
       "      <td>0.81</td>\n",
       "      <td>0.71</td>\n",
       "    </tr>\n",
       "    <tr>\n",
       "      <th>gp</th>\n",
       "      <td>0.59</td>\n",
       "      <td>1.05</td>\n",
       "      <td>1.02</td>\n",
       "      <td>0.82</td>\n",
       "      <td>1.16</td>\n",
       "      <td>0.63</td>\n",
       "      <td>37917.90</td>\n",
       "      <td>0.67</td>\n",
       "      <td>29774.31</td>\n",
       "    </tr>\n",
       "  </tbody>\n",
       "</table>\n",
       "</div>"
      ],
      "text/plain": [
       "     RDKit  1024ecfp-4  1024ecfp-6  2048ecfp-4  2048ecfp-6  \\\n",
       "rf    0.66        0.81        0.84        0.78        0.81   \n",
       "xgb   0.63        0.79        0.82        0.76        0.79   \n",
       "krr   0.64        0.84        0.83        0.91        0.85   \n",
       "gp    0.59        1.05        1.02        0.82        1.16   \n",
       "\n",
       "     1024ecfp-4 + RDKit  1024ecfp-6 + RDKit  2048ecfp-4 + RDKit  \\\n",
       "rf                 0.65                0.65                0.65   \n",
       "xgb                0.62                0.63                0.62   \n",
       "krr                0.68                0.66                0.81   \n",
       "gp                 0.63            37917.90                0.67   \n",
       "\n",
       "     2048ecfp-6 + RDKit  \n",
       "rf                 0.65  \n",
       "xgb                0.62  \n",
       "krr                0.71  \n",
       "gp             29774.31  "
      ]
     },
     "execution_count": 32,
     "metadata": {},
     "output_type": "execute_result"
    }
   ],
   "source": [
    "## pull out validation scores for all features for all models (validation set is a test set when working on train/val split )\n",
    "val_metric = pd.DataFrame({features: {model: mean_val_scores[features][model][f'test_{metric}'] for model in mean_val_scores[features]} for features in mean_val_scores})\n",
    "\n",
    "print(metric, ':',metrics_to_labels[metric], ', unit:', datasets_to_units[dataset])\n",
    "val_metric.round(2)"
   ]
  },
  {
   "cell_type": "markdown",
   "metadata": {},
   "source": [
    "### GPflow"
   ]
  },
  {
   "cell_type": "code",
   "execution_count": 33,
   "metadata": {},
   "outputs": [
    {
     "name": "stdout",
     "output_type": "stream",
     "text": [
      "RMSE : root-mean-square error , unit: (logD)\n"
     ]
    },
    {
     "data": {
      "text/html": [
       "<div>\n",
       "<style scoped>\n",
       "    .dataframe tbody tr th:only-of-type {\n",
       "        vertical-align: middle;\n",
       "    }\n",
       "\n",
       "    .dataframe tbody tr th {\n",
       "        vertical-align: top;\n",
       "    }\n",
       "\n",
       "    .dataframe thead th {\n",
       "        text-align: right;\n",
       "    }\n",
       "</style>\n",
       "<table border=\"1\" class=\"dataframe\">\n",
       "  <thead>\n",
       "    <tr style=\"text-align: right;\">\n",
       "      <th></th>\n",
       "      <th>RDKit</th>\n",
       "      <th>1024ecfp-4</th>\n",
       "      <th>1024ecfp-6</th>\n",
       "      <th>2048ecfp-4</th>\n",
       "      <th>2048ecfp-6</th>\n",
       "      <th>1024ecfp-4 + RDKit</th>\n",
       "      <th>1024ecfp-6 + RDKit</th>\n",
       "      <th>2048ecfp-4 + RDKit</th>\n",
       "      <th>2048ecfp-6 + RDKit</th>\n",
       "    </tr>\n",
       "  </thead>\n",
       "  <tbody>\n",
       "    <tr>\n",
       "      <th>gpflow</th>\n",
       "      <td>None</td>\n",
       "      <td>0.74</td>\n",
       "      <td>0.78</td>\n",
       "      <td>0.7</td>\n",
       "      <td>0.74</td>\n",
       "      <td>None</td>\n",
       "      <td>None</td>\n",
       "      <td>None</td>\n",
       "      <td>None</td>\n",
       "    </tr>\n",
       "  </tbody>\n",
       "</table>\n",
       "</div>"
      ],
      "text/plain": [
       "       RDKit  1024ecfp-4  1024ecfp-6  2048ecfp-4  2048ecfp-6  \\\n",
       "gpflow  None        0.74        0.78         0.7        0.74   \n",
       "\n",
       "       1024ecfp-4 + RDKit 1024ecfp-6 + RDKit 2048ecfp-4 + RDKit  \\\n",
       "gpflow               None               None               None   \n",
       "\n",
       "       2048ecfp-6 + RDKit  \n",
       "gpflow               None  "
      ]
     },
     "execution_count": 33,
     "metadata": {},
     "output_type": "execute_result"
    }
   ],
   "source": [
    "gpflow_val_metric = {features: {'gpflow': gpflow_mean_val_scores[features][f'test_{metric}']} for features in gpflow_mean_val_scores}\n",
    "for features in val_metric:\n",
    "    if features not in gpflow_val_metric:\n",
    "        gpflow_val_metric[features] = {}\n",
    "        gpflow_val_metric[features]['gpflow'] = None\n",
    "gpflow_val_metric = pd.DataFrame(gpflow_val_metric)[val_metric.columns]\n",
    "\n",
    "print(metric, ':',metrics_to_labels[metric], ', unit:', datasets_to_units[dataset])\n",
    "gpflow_val_metric.round(2)"
   ]
  },
  {
   "cell_type": "markdown",
   "metadata": {},
   "source": [
    "### Combined (val)"
   ]
  },
  {
   "cell_type": "code",
   "execution_count": 34,
   "metadata": {},
   "outputs": [
    {
     "data": {
      "text/html": [
       "<div>\n",
       "<style scoped>\n",
       "    .dataframe tbody tr th:only-of-type {\n",
       "        vertical-align: middle;\n",
       "    }\n",
       "\n",
       "    .dataframe tbody tr th {\n",
       "        vertical-align: top;\n",
       "    }\n",
       "\n",
       "    .dataframe thead th {\n",
       "        text-align: right;\n",
       "    }\n",
       "</style>\n",
       "<table border=\"1\" class=\"dataframe\">\n",
       "  <thead>\n",
       "    <tr style=\"text-align: right;\">\n",
       "      <th></th>\n",
       "      <th>RDKit</th>\n",
       "      <th>1024ecfp-4</th>\n",
       "      <th>1024ecfp-6</th>\n",
       "      <th>2048ecfp-4</th>\n",
       "      <th>2048ecfp-6</th>\n",
       "      <th>1024ecfp-4 + RDKit</th>\n",
       "      <th>1024ecfp-6 + RDKit</th>\n",
       "      <th>2048ecfp-4 + RDKit</th>\n",
       "      <th>2048ecfp-6 + RDKit</th>\n",
       "    </tr>\n",
       "  </thead>\n",
       "  <tbody>\n",
       "    <tr>\n",
       "      <th>rf</th>\n",
       "      <td>0.66</td>\n",
       "      <td>0.81</td>\n",
       "      <td>0.84</td>\n",
       "      <td>0.78</td>\n",
       "      <td>0.81</td>\n",
       "      <td>0.65</td>\n",
       "      <td>0.65</td>\n",
       "      <td>0.65</td>\n",
       "      <td>0.65</td>\n",
       "    </tr>\n",
       "    <tr>\n",
       "      <th>xgb</th>\n",
       "      <td>0.63</td>\n",
       "      <td>0.79</td>\n",
       "      <td>0.82</td>\n",
       "      <td>0.76</td>\n",
       "      <td>0.79</td>\n",
       "      <td>0.62</td>\n",
       "      <td>0.63</td>\n",
       "      <td>0.62</td>\n",
       "      <td>0.62</td>\n",
       "    </tr>\n",
       "    <tr>\n",
       "      <th>krr</th>\n",
       "      <td>0.64</td>\n",
       "      <td>0.84</td>\n",
       "      <td>0.83</td>\n",
       "      <td>0.91</td>\n",
       "      <td>0.85</td>\n",
       "      <td>0.68</td>\n",
       "      <td>0.66</td>\n",
       "      <td>0.81</td>\n",
       "      <td>0.71</td>\n",
       "    </tr>\n",
       "    <tr>\n",
       "      <th>gp</th>\n",
       "      <td>0.59</td>\n",
       "      <td>1.05</td>\n",
       "      <td>1.02</td>\n",
       "      <td>0.82</td>\n",
       "      <td>1.16</td>\n",
       "      <td>0.63</td>\n",
       "      <td>37917.90</td>\n",
       "      <td>0.67</td>\n",
       "      <td>29774.31</td>\n",
       "    </tr>\n",
       "    <tr>\n",
       "      <th>gpflow</th>\n",
       "      <td>NaN</td>\n",
       "      <td>0.74</td>\n",
       "      <td>0.78</td>\n",
       "      <td>0.70</td>\n",
       "      <td>0.74</td>\n",
       "      <td>NaN</td>\n",
       "      <td>NaN</td>\n",
       "      <td>NaN</td>\n",
       "      <td>NaN</td>\n",
       "    </tr>\n",
       "  </tbody>\n",
       "</table>\n",
       "</div>"
      ],
      "text/plain": [
       "        RDKit  1024ecfp-4  1024ecfp-6  2048ecfp-4  2048ecfp-6  \\\n",
       "rf       0.66        0.81        0.84        0.78        0.81   \n",
       "xgb      0.63        0.79        0.82        0.76        0.79   \n",
       "krr      0.64        0.84        0.83        0.91        0.85   \n",
       "gp       0.59        1.05        1.02        0.82        1.16   \n",
       "gpflow    NaN        0.74        0.78        0.70        0.74   \n",
       "\n",
       "        1024ecfp-4 + RDKit  1024ecfp-6 + RDKit  2048ecfp-4 + RDKit  \\\n",
       "rf                    0.65                0.65                0.65   \n",
       "xgb                   0.62                0.63                0.62   \n",
       "krr                   0.68                0.66                0.81   \n",
       "gp                    0.63            37917.90                0.67   \n",
       "gpflow                 NaN                 NaN                 NaN   \n",
       "\n",
       "        2048ecfp-6 + RDKit  \n",
       "rf                    0.65  \n",
       "xgb                   0.62  \n",
       "krr                   0.71  \n",
       "gp                29774.31  \n",
       "gpflow                 NaN  "
      ]
     },
     "execution_count": 34,
     "metadata": {},
     "output_type": "execute_result"
    }
   ],
   "source": [
    "combined_val_metric = pd.concat([val_metric, gpflow_val_metric])\n",
    "combined_val_metric.round(2)"
   ]
  },
  {
   "cell_type": "code",
   "execution_count": 35,
   "metadata": {},
   "outputs": [
    {
     "data": {
      "text/html": [
       "<div>\n",
       "<style scoped>\n",
       "    .dataframe tbody tr th:only-of-type {\n",
       "        vertical-align: middle;\n",
       "    }\n",
       "\n",
       "    .dataframe tbody tr th {\n",
       "        vertical-align: top;\n",
       "    }\n",
       "\n",
       "    .dataframe thead th {\n",
       "        text-align: right;\n",
       "    }\n",
       "</style>\n",
       "<table border=\"1\" class=\"dataframe\">\n",
       "  <thead>\n",
       "    <tr style=\"text-align: right;\">\n",
       "      <th></th>\n",
       "      <th>RDKit</th>\n",
       "      <th>1024ecfp-4</th>\n",
       "      <th>1024ecfp-4 + RDKit</th>\n",
       "      <th>1024ecfp-6</th>\n",
       "      <th>1024ecfp-6 + RDKit</th>\n",
       "      <th>2048ecfp-4</th>\n",
       "      <th>2048ecfp-4 + RDKit</th>\n",
       "      <th>2048ecfp-6</th>\n",
       "      <th>2048ecfp-6 + RDKit</th>\n",
       "    </tr>\n",
       "  </thead>\n",
       "  <tbody>\n",
       "    <tr>\n",
       "      <th>Random Forest</th>\n",
       "      <td>0.663037</td>\n",
       "      <td>0.809012</td>\n",
       "      <td>0.648765</td>\n",
       "      <td>0.843417</td>\n",
       "      <td>0.654838</td>\n",
       "      <td>0.775045</td>\n",
       "      <td>0.649224</td>\n",
       "      <td>0.813262</td>\n",
       "      <td>0.651554</td>\n",
       "    </tr>\n",
       "    <tr>\n",
       "      <th>XGBoost</th>\n",
       "      <td>0.630900</td>\n",
       "      <td>0.786780</td>\n",
       "      <td>0.617527</td>\n",
       "      <td>0.819866</td>\n",
       "      <td>0.626844</td>\n",
       "      <td>0.761844</td>\n",
       "      <td>0.615225</td>\n",
       "      <td>0.789871</td>\n",
       "      <td>0.619120</td>\n",
       "    </tr>\n",
       "    <tr>\n",
       "      <th>Kernel Ridge</th>\n",
       "      <td>0.641093</td>\n",
       "      <td>0.841189</td>\n",
       "      <td>0.679430</td>\n",
       "      <td>0.831321</td>\n",
       "      <td>0.661572</td>\n",
       "      <td>0.913659</td>\n",
       "      <td>0.807309</td>\n",
       "      <td>0.851520</td>\n",
       "      <td>0.708265</td>\n",
       "    </tr>\n",
       "    <tr>\n",
       "      <th>GP-sklearn</th>\n",
       "      <td>0.593916</td>\n",
       "      <td>1.049610</td>\n",
       "      <td>0.634698</td>\n",
       "      <td>1.016808</td>\n",
       "      <td>37917.903493</td>\n",
       "      <td>0.821471</td>\n",
       "      <td>0.666196</td>\n",
       "      <td>1.159482</td>\n",
       "      <td>29774.311291</td>\n",
       "    </tr>\n",
       "    <tr>\n",
       "      <th>GP-GPflow</th>\n",
       "      <td>NaN</td>\n",
       "      <td>0.737232</td>\n",
       "      <td>NaN</td>\n",
       "      <td>0.780519</td>\n",
       "      <td>NaN</td>\n",
       "      <td>0.699894</td>\n",
       "      <td>NaN</td>\n",
       "      <td>0.743065</td>\n",
       "      <td>NaN</td>\n",
       "    </tr>\n",
       "  </tbody>\n",
       "</table>\n",
       "</div>"
      ],
      "text/plain": [
       "                  RDKit  1024ecfp-4  1024ecfp-4 + RDKit  1024ecfp-6  \\\n",
       "Random Forest  0.663037    0.809012            0.648765    0.843417   \n",
       "XGBoost        0.630900    0.786780            0.617527    0.819866   \n",
       "Kernel Ridge   0.641093    0.841189            0.679430    0.831321   \n",
       "GP-sklearn     0.593916    1.049610            0.634698    1.016808   \n",
       "GP-GPflow           NaN    0.737232                 NaN    0.780519   \n",
       "\n",
       "               1024ecfp-6 + RDKit  2048ecfp-4  2048ecfp-4 + RDKit  2048ecfp-6  \\\n",
       "Random Forest            0.654838    0.775045            0.649224    0.813262   \n",
       "XGBoost                  0.626844    0.761844            0.615225    0.789871   \n",
       "Kernel Ridge             0.661572    0.913659            0.807309    0.851520   \n",
       "GP-sklearn           37917.903493    0.821471            0.666196    1.159482   \n",
       "GP-GPflow                     NaN    0.699894                 NaN    0.743065   \n",
       "\n",
       "               2048ecfp-6 + RDKit  \n",
       "Random Forest            0.651554  \n",
       "XGBoost                  0.619120  \n",
       "Kernel Ridge             0.708265  \n",
       "GP-sklearn           29774.311291  \n",
       "GP-GPflow                     NaN  "
      ]
     },
     "execution_count": 35,
     "metadata": {},
     "output_type": "execute_result"
    }
   ],
   "source": [
    "df = combined_val_metric\n",
    "df = df.rename(mapper=mapper, axis='rows')\n",
    "df = df.loc[row_order, column_order]\n",
    "df"
   ]
  },
  {
   "cell_type": "code",
   "execution_count": 36,
   "metadata": {},
   "outputs": [],
   "source": [
    "df.to_csv(f'../tables/{dataset}_{smile_type}_{grid_search_type}_{cf}_combined_val_{metric}_model_x_featureset_heatmap_df.csv', index=True)"
   ]
  },
  {
   "cell_type": "code",
   "execution_count": null,
   "metadata": {},
   "outputs": [],
   "source": []
  },
  {
   "cell_type": "markdown",
   "metadata": {},
   "source": [
    "### Heatmap (val)"
   ]
  },
  {
   "cell_type": "code",
   "execution_count": 37,
   "metadata": {},
   "outputs": [
    {
     "data": {
      "text/html": [
       "<div>\n",
       "<style scoped>\n",
       "    .dataframe tbody tr th:only-of-type {\n",
       "        vertical-align: middle;\n",
       "    }\n",
       "\n",
       "    .dataframe tbody tr th {\n",
       "        vertical-align: top;\n",
       "    }\n",
       "\n",
       "    .dataframe thead th {\n",
       "        text-align: right;\n",
       "    }\n",
       "</style>\n",
       "<table border=\"1\" class=\"dataframe\">\n",
       "  <thead>\n",
       "    <tr style=\"text-align: right;\">\n",
       "      <th></th>\n",
       "      <th>RDKit</th>\n",
       "      <th>1024ecfp-4</th>\n",
       "      <th>1024ecfp-4 + RDKit</th>\n",
       "      <th>1024ecfp-6</th>\n",
       "      <th>1024ecfp-6 + RDKit</th>\n",
       "      <th>2048ecfp-4</th>\n",
       "      <th>2048ecfp-4 + RDKit</th>\n",
       "      <th>2048ecfp-6</th>\n",
       "      <th>2048ecfp-6 + RDKit</th>\n",
       "    </tr>\n",
       "  </thead>\n",
       "  <tbody>\n",
       "    <tr>\n",
       "      <th>Random Forest</th>\n",
       "      <td>0.663037</td>\n",
       "      <td>0.809012</td>\n",
       "      <td>0.648765</td>\n",
       "      <td>0.843417</td>\n",
       "      <td>0.654838</td>\n",
       "      <td>0.775045</td>\n",
       "      <td>0.649224</td>\n",
       "      <td>0.813262</td>\n",
       "      <td>0.651554</td>\n",
       "    </tr>\n",
       "    <tr>\n",
       "      <th>XGBoost</th>\n",
       "      <td>0.630900</td>\n",
       "      <td>0.786780</td>\n",
       "      <td>0.617527</td>\n",
       "      <td>0.819866</td>\n",
       "      <td>0.626844</td>\n",
       "      <td>0.761844</td>\n",
       "      <td>0.615225</td>\n",
       "      <td>0.789871</td>\n",
       "      <td>0.619120</td>\n",
       "    </tr>\n",
       "    <tr>\n",
       "      <th>Kernel Ridge</th>\n",
       "      <td>0.641093</td>\n",
       "      <td>0.841189</td>\n",
       "      <td>0.679430</td>\n",
       "      <td>0.831321</td>\n",
       "      <td>0.661572</td>\n",
       "      <td>0.913659</td>\n",
       "      <td>0.807309</td>\n",
       "      <td>0.851520</td>\n",
       "      <td>0.708265</td>\n",
       "    </tr>\n",
       "    <tr>\n",
       "      <th>GP-sklearn</th>\n",
       "      <td>0.593916</td>\n",
       "      <td>1.049610</td>\n",
       "      <td>0.634698</td>\n",
       "      <td>1.016808</td>\n",
       "      <td>37917.903493</td>\n",
       "      <td>0.821471</td>\n",
       "      <td>0.666196</td>\n",
       "      <td>1.159482</td>\n",
       "      <td>29774.311291</td>\n",
       "    </tr>\n",
       "    <tr>\n",
       "      <th>GP-GPflow</th>\n",
       "      <td>NaN</td>\n",
       "      <td>0.737232</td>\n",
       "      <td>NaN</td>\n",
       "      <td>0.780519</td>\n",
       "      <td>NaN</td>\n",
       "      <td>0.699894</td>\n",
       "      <td>NaN</td>\n",
       "      <td>0.743065</td>\n",
       "      <td>NaN</td>\n",
       "    </tr>\n",
       "  </tbody>\n",
       "</table>\n",
       "</div>"
      ],
      "text/plain": [
       "                  RDKit  1024ecfp-4  1024ecfp-4 + RDKit  1024ecfp-6  \\\n",
       "Random Forest  0.663037    0.809012            0.648765    0.843417   \n",
       "XGBoost        0.630900    0.786780            0.617527    0.819866   \n",
       "Kernel Ridge   0.641093    0.841189            0.679430    0.831321   \n",
       "GP-sklearn     0.593916    1.049610            0.634698    1.016808   \n",
       "GP-GPflow           NaN    0.737232                 NaN    0.780519   \n",
       "\n",
       "               1024ecfp-6 + RDKit  2048ecfp-4  2048ecfp-4 + RDKit  2048ecfp-6  \\\n",
       "Random Forest            0.654838    0.775045            0.649224    0.813262   \n",
       "XGBoost                  0.626844    0.761844            0.615225    0.789871   \n",
       "Kernel Ridge             0.661572    0.913659            0.807309    0.851520   \n",
       "GP-sklearn           37917.903493    0.821471            0.666196    1.159482   \n",
       "GP-GPflow                     NaN    0.699894                 NaN    0.743065   \n",
       "\n",
       "               2048ecfp-6 + RDKit  \n",
       "Random Forest            0.651554  \n",
       "XGBoost                  0.619120  \n",
       "Kernel Ridge             0.708265  \n",
       "GP-sklearn           29774.311291  \n",
       "GP-GPflow                     NaN  "
      ]
     },
     "execution_count": 37,
     "metadata": {},
     "output_type": "execute_result"
    }
   ],
   "source": [
    "df = pd.read_csv(f'../tables/{dataset}_{smile_type}_{grid_search_type}_{cf}_combined_val_{metric}_model_x_featureset_heatmap_df.csv', index_col=0)\n",
    "df"
   ]
  },
  {
   "cell_type": "code",
   "execution_count": 38,
   "metadata": {
    "colab": {},
    "colab_type": "code",
    "id": "eMiuZLM0ObYS",
    "outputId": "b8cf8667-05e8-4394-cf88-19c3605f9b5e"
   },
   "outputs": [
    {
     "data": {
      "image/png": "[encoded data removed]",
      "text/plain": [
       "<Figure size 576x432 with 2 Axes>"
      ]
     },
     "metadata": {
      "needs_background": "light"
     },
     "output_type": "display_data"
    }
   ],
   "source": [
    "plot_algorithm_dataset_comparison_heatmap(df, dataset=dataset, metric=metric)\n",
    "\n",
    "# fig.savefig(f'{PLOTS_DIR}/algorithm_comparison.jpg', dpi=350, bbox_inches='tight')\n",
    "plt.show()"
   ]
  },
  {
   "cell_type": "code",
   "execution_count": 39,
   "metadata": {
    "colab": {},
    "colab_type": "code",
    "id": "P19bb1lXX2XT",
    "outputId": "94d3c9a1-2ac9-4b08-93fc-b25a0b848073"
   },
   "outputs": [
    {
     "data": {
      "text/html": [
       "<div>\n",
       "<style scoped>\n",
       "    .dataframe tbody tr th:only-of-type {\n",
       "        vertical-align: middle;\n",
       "    }\n",
       "\n",
       "    .dataframe tbody tr th {\n",
       "        vertical-align: top;\n",
       "    }\n",
       "\n",
       "    .dataframe thead th {\n",
       "        text-align: right;\n",
       "    }\n",
       "</style>\n",
       "<table border=\"1\" class=\"dataframe\">\n",
       "  <thead>\n",
       "    <tr style=\"text-align: right;\">\n",
       "      <th></th>\n",
       "      <th>RDKit</th>\n",
       "      <th>1024ecfp-4</th>\n",
       "      <th>1024ecfp-6</th>\n",
       "      <th>2048ecfp-4</th>\n",
       "      <th>2048ecfp-6</th>\n",
       "      <th>1024ecfp-4 + RDKit</th>\n",
       "      <th>1024ecfp-6 + RDKit</th>\n",
       "      <th>2048ecfp-4 + RDKit</th>\n",
       "      <th>2048ecfp-6 + RDKit</th>\n",
       "    </tr>\n",
       "  </thead>\n",
       "  <tbody>\n",
       "    <tr>\n",
       "      <th>rf</th>\n",
       "      <td>0.663037</td>\n",
       "      <td>0.809012</td>\n",
       "      <td>0.843417</td>\n",
       "      <td>0.775045</td>\n",
       "      <td>0.813262</td>\n",
       "      <td>0.648765</td>\n",
       "      <td>0.654838</td>\n",
       "      <td>0.649224</td>\n",
       "      <td>0.651554</td>\n",
       "    </tr>\n",
       "    <tr>\n",
       "      <th>xgb</th>\n",
       "      <td>0.630900</td>\n",
       "      <td>0.786780</td>\n",
       "      <td>0.819866</td>\n",
       "      <td>0.761844</td>\n",
       "      <td>0.789871</td>\n",
       "      <td>0.617527</td>\n",
       "      <td>0.626844</td>\n",
       "      <td>0.615225</td>\n",
       "      <td>0.619120</td>\n",
       "    </tr>\n",
       "    <tr>\n",
       "      <th>krr</th>\n",
       "      <td>0.641093</td>\n",
       "      <td>0.841189</td>\n",
       "      <td>0.831321</td>\n",
       "      <td>0.913659</td>\n",
       "      <td>0.851520</td>\n",
       "      <td>0.679430</td>\n",
       "      <td>0.661572</td>\n",
       "      <td>0.807309</td>\n",
       "      <td>0.708265</td>\n",
       "    </tr>\n",
       "    <tr>\n",
       "      <th>gp</th>\n",
       "      <td>0.593916</td>\n",
       "      <td>1.049610</td>\n",
       "      <td>1.016808</td>\n",
       "      <td>0.821471</td>\n",
       "      <td>1.159482</td>\n",
       "      <td>0.634698</td>\n",
       "      <td>37917.903493</td>\n",
       "      <td>0.666196</td>\n",
       "      <td>29774.311291</td>\n",
       "    </tr>\n",
       "    <tr>\n",
       "      <th>gpflow</th>\n",
       "      <td>NaN</td>\n",
       "      <td>0.737232</td>\n",
       "      <td>0.780519</td>\n",
       "      <td>0.699894</td>\n",
       "      <td>0.743065</td>\n",
       "      <td>NaN</td>\n",
       "      <td>NaN</td>\n",
       "      <td>NaN</td>\n",
       "      <td>NaN</td>\n",
       "    </tr>\n",
       "  </tbody>\n",
       "</table>\n",
       "</div>"
      ],
      "text/plain": [
       "           RDKit  1024ecfp-4  1024ecfp-6  2048ecfp-4  2048ecfp-6  \\\n",
       "rf      0.663037    0.809012    0.843417    0.775045    0.813262   \n",
       "xgb     0.630900    0.786780    0.819866    0.761844    0.789871   \n",
       "krr     0.641093    0.841189    0.831321    0.913659    0.851520   \n",
       "gp      0.593916    1.049610    1.016808    0.821471    1.159482   \n",
       "gpflow       NaN    0.737232    0.780519    0.699894    0.743065   \n",
       "\n",
       "        1024ecfp-4 + RDKit  1024ecfp-6 + RDKit  2048ecfp-4 + RDKit  \\\n",
       "rf                0.648765            0.654838            0.649224   \n",
       "xgb               0.617527            0.626844            0.615225   \n",
       "krr               0.679430            0.661572            0.807309   \n",
       "gp                0.634698        37917.903493            0.666196   \n",
       "gpflow                 NaN                 NaN                 NaN   \n",
       "\n",
       "        2048ecfp-6 + RDKit  \n",
       "rf                0.651554  \n",
       "xgb               0.619120  \n",
       "krr               0.708265  \n",
       "gp            29774.311291  \n",
       "gpflow                 NaN  "
      ]
     },
     "execution_count": 39,
     "metadata": {},
     "output_type": "execute_result"
    }
   ],
   "source": [
    "combined_val_metric"
   ]
  },
  {
   "cell_type": "markdown",
   "metadata": {
    "colab": {},
    "colab_type": "code",
    "id": "1uu77bH6X2XW",
    "outputId": "807ebb25-f485-4528-bf31-b4e895e8b224"
   },
   "source": [
    "### Scikit-Learn best"
   ]
  },
  {
   "cell_type": "code",
   "execution_count": 40,
   "metadata": {},
   "outputs": [
    {
     "name": "stdout",
     "output_type": "stream",
     "text": [
      "gp RDKit 0.5939161242167411 0.01580686109038748\n",
      "\n",
      "xgb 2048ecfp-4 + RDKit 0.6152249771731683 0.015064204169378212\n",
      "\n",
      "krr RDKit 0.6410925922281541 0.04143661064525223\n",
      "\n",
      "rf 1024ecfp-4 + RDKit 0.6487654748816032 0.0204837621579914\n",
      "\n"
     ]
    }
   ],
   "source": [
    "best = []\n",
    "for model in val_metric.min(axis=1).sort_values().index:\n",
    "    # get the feature set for which \n",
    "    features = list(val_metric.loc[model, val_metric.loc[model] == val_metric.loc[model].min()].index)[0]\n",
    "    best.append([model, features, mean_val_scores[features][model][f'test_{metric}'], std_val_scores[features][model][f'test_{metric}']])\n",
    "    print(model, features, mean_val_scores[features][model][f'test_{metric}'], std_val_scores[features][model][f'test_{metric}'])\n",
    "    print()"
   ]
  },
  {
   "cell_type": "code",
   "execution_count": 41,
   "metadata": {},
   "outputs": [
    {
     "data": {
      "text/html": [
       "<div>\n",
       "<style scoped>\n",
       "    .dataframe tbody tr th:only-of-type {\n",
       "        vertical-align: middle;\n",
       "    }\n",
       "\n",
       "    .dataframe tbody tr th {\n",
       "        vertical-align: top;\n",
       "    }\n",
       "\n",
       "    .dataframe thead th {\n",
       "        text-align: right;\n",
       "    }\n",
       "</style>\n",
       "<table border=\"1\" class=\"dataframe\">\n",
       "  <thead>\n",
       "    <tr style=\"text-align: right;\">\n",
       "      <th></th>\n",
       "      <th>0</th>\n",
       "      <th>1</th>\n",
       "      <th>2</th>\n",
       "      <th>3</th>\n",
       "    </tr>\n",
       "  </thead>\n",
       "  <tbody>\n",
       "    <tr>\n",
       "      <th>0</th>\n",
       "      <td>gp</td>\n",
       "      <td>RDKit</td>\n",
       "      <td>0.593916</td>\n",
       "      <td>0.015807</td>\n",
       "    </tr>\n",
       "    <tr>\n",
       "      <th>1</th>\n",
       "      <td>xgb</td>\n",
       "      <td>2048ecfp-4 + RDKit</td>\n",
       "      <td>0.615225</td>\n",
       "      <td>0.015064</td>\n",
       "    </tr>\n",
       "    <tr>\n",
       "      <th>2</th>\n",
       "      <td>krr</td>\n",
       "      <td>RDKit</td>\n",
       "      <td>0.641093</td>\n",
       "      <td>0.041437</td>\n",
       "    </tr>\n",
       "    <tr>\n",
       "      <th>3</th>\n",
       "      <td>rf</td>\n",
       "      <td>1024ecfp-4 + RDKit</td>\n",
       "      <td>0.648765</td>\n",
       "      <td>0.020484</td>\n",
       "    </tr>\n",
       "  </tbody>\n",
       "</table>\n",
       "</div>"
      ],
      "text/plain": [
       "     0                   1         2         3\n",
       "0   gp               RDKit  0.593916  0.015807\n",
       "1  xgb  2048ecfp-4 + RDKit  0.615225  0.015064\n",
       "2  krr               RDKit  0.641093  0.041437\n",
       "3   rf  1024ecfp-4 + RDKit  0.648765  0.020484"
      ]
     },
     "execution_count": 41,
     "metadata": {},
     "output_type": "execute_result"
    }
   ],
   "source": [
    "pd.DataFrame(best)"
   ]
  },
  {
   "cell_type": "code",
   "execution_count": 42,
   "metadata": {},
   "outputs": [
    {
     "data": {
      "text/plain": [
       "'lipophilicity'"
      ]
     },
     "execution_count": 42,
     "metadata": {},
     "output_type": "execute_result"
    }
   ],
   "source": [
    "dataset"
   ]
  },
  {
   "cell_type": "markdown",
   "metadata": {},
   "source": [
    "### Combined (val)"
   ]
  },
  {
   "cell_type": "code",
   "execution_count": 43,
   "metadata": {},
   "outputs": [
    {
     "name": "stdout",
     "output_type": "stream",
     "text": [
      "gp RDKit 0.5939161242167411 0.01580686109038748\n",
      "\n",
      "xgb 2048ecfp-4 + RDKit 0.6152249771731683 0.015064204169378212\n",
      "\n",
      "krr RDKit 0.6410925922281541 0.04143661064525223\n",
      "\n",
      "rf 1024ecfp-4 + RDKit 0.6487654748816032 0.0204837621579914\n",
      "\n",
      "gpflow 2048ecfp-4 0.6998935764408948 0.012586121986796634\n",
      "\n"
     ]
    }
   ],
   "source": [
    "best = []\n",
    "for model in combined_val_metric.min(axis=1).sort_values().index:\n",
    "    # get the feature set for which \n",
    "    features = list(combined_val_metric.loc[model, combined_val_metric.loc[model] == combined_val_metric.loc[model].min()].index)[0]\n",
    "    \n",
    "    if model != 'gpflow':\n",
    "        best.append([model, features, mean_val_scores[features][model][f'test_{metric}'], std_val_scores[features][model][f'test_{metric}']])\n",
    "        print(model, features, mean_val_scores[features][model][f'test_{metric}'], std_val_scores[features][model][f'test_{metric}'])\n",
    "    else:\n",
    "        pass\n",
    "        best.append([model, features, gpflow_mean_val_scores[features][f'test_{metric}'], gpflow_std_val_scores[features][f'test_{metric}']])\n",
    "        print(model, features, gpflow_mean_val_scores[features][f'test_{metric}'], gpflow_std_val_scores[features][f'test_{metric}'])\n",
    "    print()"
   ]
  },
  {
   "cell_type": "code",
   "execution_count": 44,
   "metadata": {},
   "outputs": [
    {
     "data": {
      "text/plain": [
       "('lipophilicity', 'original', 'extended', 'full')"
      ]
     },
     "execution_count": 44,
     "metadata": {},
     "output_type": "execute_result"
    }
   ],
   "source": [
    "dataset, smile_type, grid_search_type, cf"
   ]
  },
  {
   "cell_type": "code",
   "execution_count": 45,
   "metadata": {},
   "outputs": [
    {
     "data": {
      "text/html": [
       "<div>\n",
       "<style scoped>\n",
       "    .dataframe tbody tr th:only-of-type {\n",
       "        vertical-align: middle;\n",
       "    }\n",
       "\n",
       "    .dataframe tbody tr th {\n",
       "        vertical-align: top;\n",
       "    }\n",
       "\n",
       "    .dataframe thead th {\n",
       "        text-align: right;\n",
       "    }\n",
       "</style>\n",
       "<table border=\"1\" class=\"dataframe\">\n",
       "  <thead>\n",
       "    <tr style=\"text-align: right;\">\n",
       "      <th></th>\n",
       "      <th>0</th>\n",
       "      <th>1</th>\n",
       "      <th>2</th>\n",
       "      <th>3</th>\n",
       "    </tr>\n",
       "  </thead>\n",
       "  <tbody>\n",
       "    <tr>\n",
       "      <th>0</th>\n",
       "      <td>gp</td>\n",
       "      <td>RDKit</td>\n",
       "      <td>0.593916</td>\n",
       "      <td>0.015807</td>\n",
       "    </tr>\n",
       "    <tr>\n",
       "      <th>1</th>\n",
       "      <td>xgb</td>\n",
       "      <td>2048ecfp-4 + RDKit</td>\n",
       "      <td>0.615225</td>\n",
       "      <td>0.015064</td>\n",
       "    </tr>\n",
       "    <tr>\n",
       "      <th>2</th>\n",
       "      <td>krr</td>\n",
       "      <td>RDKit</td>\n",
       "      <td>0.641093</td>\n",
       "      <td>0.041437</td>\n",
       "    </tr>\n",
       "    <tr>\n",
       "      <th>3</th>\n",
       "      <td>rf</td>\n",
       "      <td>1024ecfp-4 + RDKit</td>\n",
       "      <td>0.648765</td>\n",
       "      <td>0.020484</td>\n",
       "    </tr>\n",
       "    <tr>\n",
       "      <th>4</th>\n",
       "      <td>gpflow</td>\n",
       "      <td>2048ecfp-4</td>\n",
       "      <td>0.699894</td>\n",
       "      <td>0.012586</td>\n",
       "    </tr>\n",
       "  </tbody>\n",
       "</table>\n",
       "</div>"
      ],
      "text/plain": [
       "        0                   1         2         3\n",
       "0      gp               RDKit  0.593916  0.015807\n",
       "1     xgb  2048ecfp-4 + RDKit  0.615225  0.015064\n",
       "2     krr               RDKit  0.641093  0.041437\n",
       "3      rf  1024ecfp-4 + RDKit  0.648765  0.020484\n",
       "4  gpflow          2048ecfp-4  0.699894  0.012586"
      ]
     },
     "execution_count": 45,
     "metadata": {},
     "output_type": "execute_result"
    }
   ],
   "source": [
    "best_val_scores = pd.DataFrame(best)\n",
    "best_val_scores"
   ]
  },
  {
   "cell_type": "code",
   "execution_count": 46,
   "metadata": {},
   "outputs": [],
   "source": [
    "best_val_scores.to_csv(f'../tables/{dataset}_{smile_type}_{grid_search_type}_{cf}_best_val_{metric}_model_x_featureset_mean_std.csv', index=True)"
   ]
  },
  {
   "cell_type": "code",
   "execution_count": null,
   "metadata": {},
   "outputs": [],
   "source": []
  },
  {
   "cell_type": "markdown",
   "metadata": {
    "colab_type": "text",
    "id": "fUJDK2qLAQVP"
   },
   "source": [
    "## Test metric"
   ]
  },
  {
   "cell_type": "markdown",
   "metadata": {},
   "source": [
    "### Scikit-Learn"
   ]
  },
  {
   "cell_type": "code",
   "execution_count": 47,
   "metadata": {
    "colab": {},
    "colab_type": "code",
    "id": "1Npsyrn0ObYV",
    "outputId": "692f88c5-1e1f-4424-979a-8db0907141ad"
   },
   "outputs": [
    {
     "name": "stdout",
     "output_type": "stream",
     "text": [
      "RMSE : root-mean-square error , unit: (logD)\n"
     ]
    },
    {
     "data": {
      "text/html": [
       "<div>\n",
       "<style scoped>\n",
       "    .dataframe tbody tr th:only-of-type {\n",
       "        vertical-align: middle;\n",
       "    }\n",
       "\n",
       "    .dataframe tbody tr th {\n",
       "        vertical-align: top;\n",
       "    }\n",
       "\n",
       "    .dataframe thead th {\n",
       "        text-align: right;\n",
       "    }\n",
       "</style>\n",
       "<table border=\"1\" class=\"dataframe\">\n",
       "  <thead>\n",
       "    <tr style=\"text-align: right;\">\n",
       "      <th></th>\n",
       "      <th>RDKit</th>\n",
       "      <th>1024ecfp-4</th>\n",
       "      <th>1024ecfp-6</th>\n",
       "      <th>2048ecfp-4</th>\n",
       "      <th>2048ecfp-6</th>\n",
       "      <th>1024ecfp-4 + RDKit</th>\n",
       "      <th>1024ecfp-6 + RDKit</th>\n",
       "      <th>2048ecfp-4 + RDKit</th>\n",
       "      <th>2048ecfp-6 + RDKit</th>\n",
       "    </tr>\n",
       "  </thead>\n",
       "  <tbody>\n",
       "    <tr>\n",
       "      <th>rf</th>\n",
       "      <td>0.69</td>\n",
       "      <td>0.83</td>\n",
       "      <td>0.85</td>\n",
       "      <td>0.80</td>\n",
       "      <td>0.83</td>\n",
       "      <td>0.67</td>\n",
       "      <td>0.68</td>\n",
       "      <td>0.68</td>\n",
       "      <td>0.68</td>\n",
       "    </tr>\n",
       "    <tr>\n",
       "      <th>xgb</th>\n",
       "      <td>0.66</td>\n",
       "      <td>0.80</td>\n",
       "      <td>0.82</td>\n",
       "      <td>0.77</td>\n",
       "      <td>0.81</td>\n",
       "      <td>0.64</td>\n",
       "      <td>0.66</td>\n",
       "      <td>0.64</td>\n",
       "      <td>0.64</td>\n",
       "    </tr>\n",
       "    <tr>\n",
       "      <th>krr</th>\n",
       "      <td>0.67</td>\n",
       "      <td>0.82</td>\n",
       "      <td>0.82</td>\n",
       "      <td>0.90</td>\n",
       "      <td>0.83</td>\n",
       "      <td>0.68</td>\n",
       "      <td>0.68</td>\n",
       "      <td>0.79</td>\n",
       "      <td>0.73</td>\n",
       "    </tr>\n",
       "    <tr>\n",
       "      <th>gp</th>\n",
       "      <td>0.63</td>\n",
       "      <td>0.80</td>\n",
       "      <td>0.98</td>\n",
       "      <td>0.80</td>\n",
       "      <td>1.15</td>\n",
       "      <td>0.64</td>\n",
       "      <td>0.78</td>\n",
       "      <td>0.66</td>\n",
       "      <td>0.95</td>\n",
       "    </tr>\n",
       "  </tbody>\n",
       "</table>\n",
       "</div>"
      ],
      "text/plain": [
       "     RDKit  1024ecfp-4  1024ecfp-6  2048ecfp-4  2048ecfp-6  \\\n",
       "rf    0.69        0.83        0.85        0.80        0.83   \n",
       "xgb   0.66        0.80        0.82        0.77        0.81   \n",
       "krr   0.67        0.82        0.82        0.90        0.83   \n",
       "gp    0.63        0.80        0.98        0.80        1.15   \n",
       "\n",
       "     1024ecfp-4 + RDKit  1024ecfp-6 + RDKit  2048ecfp-4 + RDKit  \\\n",
       "rf                 0.67                0.68                0.68   \n",
       "xgb                0.64                0.66                0.64   \n",
       "krr                0.68                0.68                0.79   \n",
       "gp                 0.64                0.78                0.66   \n",
       "\n",
       "     2048ecfp-6 + RDKit  \n",
       "rf                 0.68  \n",
       "xgb                0.64  \n",
       "krr                0.73  \n",
       "gp                 0.95  "
      ]
     },
     "execution_count": 47,
     "metadata": {},
     "output_type": "execute_result"
    }
   ],
   "source": [
    "## pull out validation scores for all features for all models (validation set is a test set when working on train/val split )\n",
    "test_metric = pd.DataFrame({features: {model: mean_train_test_scores[features][model][f'test_{metric}'] for model in mean_train_test_scores[features]} for features in mean_train_test_scores})\n",
    "\n",
    "print(metric, ':',metrics_to_labels[metric], ', unit:', datasets_to_units[dataset])\n",
    "test_metric.round(2)"
   ]
  },
  {
   "cell_type": "markdown",
   "metadata": {},
   "source": [
    "### GPflow"
   ]
  },
  {
   "cell_type": "code",
   "execution_count": 48,
   "metadata": {},
   "outputs": [
    {
     "name": "stdout",
     "output_type": "stream",
     "text": [
      "RMSE : root-mean-square error , unit: (logD)\n"
     ]
    },
    {
     "data": {
      "text/html": [
       "<div>\n",
       "<style scoped>\n",
       "    .dataframe tbody tr th:only-of-type {\n",
       "        vertical-align: middle;\n",
       "    }\n",
       "\n",
       "    .dataframe tbody tr th {\n",
       "        vertical-align: top;\n",
       "    }\n",
       "\n",
       "    .dataframe thead th {\n",
       "        text-align: right;\n",
       "    }\n",
       "</style>\n",
       "<table border=\"1\" class=\"dataframe\">\n",
       "  <thead>\n",
       "    <tr style=\"text-align: right;\">\n",
       "      <th></th>\n",
       "      <th>RDKit</th>\n",
       "      <th>1024ecfp-4</th>\n",
       "      <th>1024ecfp-6</th>\n",
       "      <th>2048ecfp-4</th>\n",
       "      <th>2048ecfp-6</th>\n",
       "      <th>1024ecfp-4 + RDKit</th>\n",
       "      <th>1024ecfp-6 + RDKit</th>\n",
       "      <th>2048ecfp-4 + RDKit</th>\n",
       "      <th>2048ecfp-6 + RDKit</th>\n",
       "    </tr>\n",
       "  </thead>\n",
       "  <tbody>\n",
       "    <tr>\n",
       "      <th>gpflow</th>\n",
       "      <td>None</td>\n",
       "      <td>0.72</td>\n",
       "      <td>0.76</td>\n",
       "      <td>0.69</td>\n",
       "      <td>0.73</td>\n",
       "      <td>None</td>\n",
       "      <td>None</td>\n",
       "      <td>None</td>\n",
       "      <td>None</td>\n",
       "    </tr>\n",
       "  </tbody>\n",
       "</table>\n",
       "</div>"
      ],
      "text/plain": [
       "       RDKit  1024ecfp-4  1024ecfp-6  2048ecfp-4  2048ecfp-6  \\\n",
       "gpflow  None        0.72        0.76        0.69        0.73   \n",
       "\n",
       "       1024ecfp-4 + RDKit 1024ecfp-6 + RDKit 2048ecfp-4 + RDKit  \\\n",
       "gpflow               None               None               None   \n",
       "\n",
       "       2048ecfp-6 + RDKit  \n",
       "gpflow               None  "
      ]
     },
     "execution_count": 48,
     "metadata": {},
     "output_type": "execute_result"
    }
   ],
   "source": [
    "gpflow_test_metric = {features: {'gpflow': gpflow_mean_train_test_scores[features][f'test_{metric}']} for features in gpflow_mean_train_test_scores}\n",
    "for features in test_metric:\n",
    "    if features not in gpflow_test_metric:\n",
    "        gpflow_test_metric[features] = {}\n",
    "        gpflow_test_metric[features]['gpflow'] = None\n",
    "gpflow_test_metric = pd.DataFrame(gpflow_test_metric)[test_metric.columns]\n",
    "\n",
    "print(metric, ':',metrics_to_labels[metric], ', unit:', datasets_to_units[dataset])\n",
    "gpflow_test_metric.round(2)"
   ]
  },
  {
   "cell_type": "markdown",
   "metadata": {},
   "source": [
    "### Combined (test)"
   ]
  },
  {
   "cell_type": "code",
   "execution_count": 49,
   "metadata": {},
   "outputs": [
    {
     "data": {
      "text/html": [
       "<div>\n",
       "<style scoped>\n",
       "    .dataframe tbody tr th:only-of-type {\n",
       "        vertical-align: middle;\n",
       "    }\n",
       "\n",
       "    .dataframe tbody tr th {\n",
       "        vertical-align: top;\n",
       "    }\n",
       "\n",
       "    .dataframe thead th {\n",
       "        text-align: right;\n",
       "    }\n",
       "</style>\n",
       "<table border=\"1\" class=\"dataframe\">\n",
       "  <thead>\n",
       "    <tr style=\"text-align: right;\">\n",
       "      <th></th>\n",
       "      <th>RDKit</th>\n",
       "      <th>1024ecfp-4</th>\n",
       "      <th>1024ecfp-6</th>\n",
       "      <th>2048ecfp-4</th>\n",
       "      <th>2048ecfp-6</th>\n",
       "      <th>1024ecfp-4 + RDKit</th>\n",
       "      <th>1024ecfp-6 + RDKit</th>\n",
       "      <th>2048ecfp-4 + RDKit</th>\n",
       "      <th>2048ecfp-6 + RDKit</th>\n",
       "    </tr>\n",
       "  </thead>\n",
       "  <tbody>\n",
       "    <tr>\n",
       "      <th>rf</th>\n",
       "      <td>0.69</td>\n",
       "      <td>0.83</td>\n",
       "      <td>0.85</td>\n",
       "      <td>0.80</td>\n",
       "      <td>0.83</td>\n",
       "      <td>0.67</td>\n",
       "      <td>0.68</td>\n",
       "      <td>0.68</td>\n",
       "      <td>0.68</td>\n",
       "    </tr>\n",
       "    <tr>\n",
       "      <th>xgb</th>\n",
       "      <td>0.66</td>\n",
       "      <td>0.80</td>\n",
       "      <td>0.82</td>\n",
       "      <td>0.77</td>\n",
       "      <td>0.81</td>\n",
       "      <td>0.64</td>\n",
       "      <td>0.66</td>\n",
       "      <td>0.64</td>\n",
       "      <td>0.64</td>\n",
       "    </tr>\n",
       "    <tr>\n",
       "      <th>krr</th>\n",
       "      <td>0.67</td>\n",
       "      <td>0.82</td>\n",
       "      <td>0.82</td>\n",
       "      <td>0.90</td>\n",
       "      <td>0.83</td>\n",
       "      <td>0.68</td>\n",
       "      <td>0.68</td>\n",
       "      <td>0.79</td>\n",
       "      <td>0.73</td>\n",
       "    </tr>\n",
       "    <tr>\n",
       "      <th>gp</th>\n",
       "      <td>0.63</td>\n",
       "      <td>0.80</td>\n",
       "      <td>0.98</td>\n",
       "      <td>0.80</td>\n",
       "      <td>1.15</td>\n",
       "      <td>0.64</td>\n",
       "      <td>0.78</td>\n",
       "      <td>0.66</td>\n",
       "      <td>0.95</td>\n",
       "    </tr>\n",
       "    <tr>\n",
       "      <th>gpflow</th>\n",
       "      <td>NaN</td>\n",
       "      <td>0.72</td>\n",
       "      <td>0.76</td>\n",
       "      <td>0.69</td>\n",
       "      <td>0.73</td>\n",
       "      <td>NaN</td>\n",
       "      <td>NaN</td>\n",
       "      <td>NaN</td>\n",
       "      <td>NaN</td>\n",
       "    </tr>\n",
       "  </tbody>\n",
       "</table>\n",
       "</div>"
      ],
      "text/plain": [
       "        RDKit  1024ecfp-4  1024ecfp-6  2048ecfp-4  2048ecfp-6  \\\n",
       "rf       0.69        0.83        0.85        0.80        0.83   \n",
       "xgb      0.66        0.80        0.82        0.77        0.81   \n",
       "krr      0.67        0.82        0.82        0.90        0.83   \n",
       "gp       0.63        0.80        0.98        0.80        1.15   \n",
       "gpflow    NaN        0.72        0.76        0.69        0.73   \n",
       "\n",
       "        1024ecfp-4 + RDKit  1024ecfp-6 + RDKit  2048ecfp-4 + RDKit  \\\n",
       "rf                    0.67                0.68                0.68   \n",
       "xgb                   0.64                0.66                0.64   \n",
       "krr                   0.68                0.68                0.79   \n",
       "gp                    0.64                0.78                0.66   \n",
       "gpflow                 NaN                 NaN                 NaN   \n",
       "\n",
       "        2048ecfp-6 + RDKit  \n",
       "rf                    0.68  \n",
       "xgb                   0.64  \n",
       "krr                   0.73  \n",
       "gp                    0.95  \n",
       "gpflow                 NaN  "
      ]
     },
     "execution_count": 49,
     "metadata": {},
     "output_type": "execute_result"
    }
   ],
   "source": [
    "combined_test_metric = pd.concat([test_metric, gpflow_test_metric])\n",
    "combined_test_metric.round(2)"
   ]
  },
  {
   "cell_type": "code",
   "execution_count": 50,
   "metadata": {},
   "outputs": [
    {
     "data": {
      "text/html": [
       "<div>\n",
       "<style scoped>\n",
       "    .dataframe tbody tr th:only-of-type {\n",
       "        vertical-align: middle;\n",
       "    }\n",
       "\n",
       "    .dataframe tbody tr th {\n",
       "        vertical-align: top;\n",
       "    }\n",
       "\n",
       "    .dataframe thead th {\n",
       "        text-align: right;\n",
       "    }\n",
       "</style>\n",
       "<table border=\"1\" class=\"dataframe\">\n",
       "  <thead>\n",
       "    <tr style=\"text-align: right;\">\n",
       "      <th></th>\n",
       "      <th>RDKit</th>\n",
       "      <th>1024ecfp-4</th>\n",
       "      <th>1024ecfp-4 + RDKit</th>\n",
       "      <th>1024ecfp-6</th>\n",
       "      <th>1024ecfp-6 + RDKit</th>\n",
       "      <th>2048ecfp-4</th>\n",
       "      <th>2048ecfp-4 + RDKit</th>\n",
       "      <th>2048ecfp-6</th>\n",
       "      <th>2048ecfp-6 + RDKit</th>\n",
       "    </tr>\n",
       "  </thead>\n",
       "  <tbody>\n",
       "    <tr>\n",
       "      <th>Random Forest</th>\n",
       "      <td>0.69</td>\n",
       "      <td>0.83</td>\n",
       "      <td>0.67</td>\n",
       "      <td>0.85</td>\n",
       "      <td>0.68</td>\n",
       "      <td>0.80</td>\n",
       "      <td>0.68</td>\n",
       "      <td>0.83</td>\n",
       "      <td>0.68</td>\n",
       "    </tr>\n",
       "    <tr>\n",
       "      <th>XGBoost</th>\n",
       "      <td>0.66</td>\n",
       "      <td>0.80</td>\n",
       "      <td>0.64</td>\n",
       "      <td>0.82</td>\n",
       "      <td>0.66</td>\n",
       "      <td>0.77</td>\n",
       "      <td>0.64</td>\n",
       "      <td>0.81</td>\n",
       "      <td>0.64</td>\n",
       "    </tr>\n",
       "    <tr>\n",
       "      <th>Kernel Ridge</th>\n",
       "      <td>0.67</td>\n",
       "      <td>0.82</td>\n",
       "      <td>0.68</td>\n",
       "      <td>0.82</td>\n",
       "      <td>0.68</td>\n",
       "      <td>0.90</td>\n",
       "      <td>0.79</td>\n",
       "      <td>0.83</td>\n",
       "      <td>0.73</td>\n",
       "    </tr>\n",
       "    <tr>\n",
       "      <th>GP-sklearn</th>\n",
       "      <td>0.63</td>\n",
       "      <td>0.80</td>\n",
       "      <td>0.64</td>\n",
       "      <td>0.98</td>\n",
       "      <td>0.78</td>\n",
       "      <td>0.80</td>\n",
       "      <td>0.66</td>\n",
       "      <td>1.15</td>\n",
       "      <td>0.95</td>\n",
       "    </tr>\n",
       "    <tr>\n",
       "      <th>GP-GPflow</th>\n",
       "      <td>NaN</td>\n",
       "      <td>0.72</td>\n",
       "      <td>NaN</td>\n",
       "      <td>0.76</td>\n",
       "      <td>NaN</td>\n",
       "      <td>0.69</td>\n",
       "      <td>NaN</td>\n",
       "      <td>0.73</td>\n",
       "      <td>NaN</td>\n",
       "    </tr>\n",
       "  </tbody>\n",
       "</table>\n",
       "</div>"
      ],
      "text/plain": [
       "               RDKit  1024ecfp-4  1024ecfp-4 + RDKit  1024ecfp-6  \\\n",
       "Random Forest   0.69        0.83                0.67        0.85   \n",
       "XGBoost         0.66        0.80                0.64        0.82   \n",
       "Kernel Ridge    0.67        0.82                0.68        0.82   \n",
       "GP-sklearn      0.63        0.80                0.64        0.98   \n",
       "GP-GPflow        NaN        0.72                 NaN        0.76   \n",
       "\n",
       "               1024ecfp-6 + RDKit  2048ecfp-4  2048ecfp-4 + RDKit  2048ecfp-6  \\\n",
       "Random Forest                0.68        0.80                0.68        0.83   \n",
       "XGBoost                      0.66        0.77                0.64        0.81   \n",
       "Kernel Ridge                 0.68        0.90                0.79        0.83   \n",
       "GP-sklearn                   0.78        0.80                0.66        1.15   \n",
       "GP-GPflow                     NaN        0.69                 NaN        0.73   \n",
       "\n",
       "               2048ecfp-6 + RDKit  \n",
       "Random Forest                0.68  \n",
       "XGBoost                      0.64  \n",
       "Kernel Ridge                 0.73  \n",
       "GP-sklearn                   0.95  \n",
       "GP-GPflow                     NaN  "
      ]
     },
     "execution_count": 50,
     "metadata": {},
     "output_type": "execute_result"
    }
   ],
   "source": [
    "df = combined_test_metric.round(2)\n",
    "df = df.rename(mapper=mapper, axis='rows')\n",
    "df = df.loc[row_order, column_order]\n",
    "df"
   ]
  },
  {
   "cell_type": "code",
   "execution_count": 51,
   "metadata": {},
   "outputs": [],
   "source": [
    "df.to_csv(f'../tables/{dataset}_{smile_type}_{grid_search_type}_{cf}_combined_test_{metric}_model_x_featureset_heatmap_df.csv', index=True)"
   ]
  },
  {
   "cell_type": "markdown",
   "metadata": {},
   "source": [
    "### Heatmap (test)"
   ]
  },
  {
   "cell_type": "code",
   "execution_count": 52,
   "metadata": {},
   "outputs": [
    {
     "data": {
      "text/html": [
       "<div>\n",
       "<style scoped>\n",
       "    .dataframe tbody tr th:only-of-type {\n",
       "        vertical-align: middle;\n",
       "    }\n",
       "\n",
       "    .dataframe tbody tr th {\n",
       "        vertical-align: top;\n",
       "    }\n",
       "\n",
       "    .dataframe thead th {\n",
       "        text-align: right;\n",
       "    }\n",
       "</style>\n",
       "<table border=\"1\" class=\"dataframe\">\n",
       "  <thead>\n",
       "    <tr style=\"text-align: right;\">\n",
       "      <th></th>\n",
       "      <th>RDKit</th>\n",
       "      <th>1024ecfp-4</th>\n",
       "      <th>1024ecfp-4 + RDKit</th>\n",
       "      <th>1024ecfp-6</th>\n",
       "      <th>1024ecfp-6 + RDKit</th>\n",
       "      <th>2048ecfp-4</th>\n",
       "      <th>2048ecfp-4 + RDKit</th>\n",
       "      <th>2048ecfp-6</th>\n",
       "      <th>2048ecfp-6 + RDKit</th>\n",
       "    </tr>\n",
       "  </thead>\n",
       "  <tbody>\n",
       "    <tr>\n",
       "      <th>Random Forest</th>\n",
       "      <td>0.69</td>\n",
       "      <td>0.83</td>\n",
       "      <td>0.67</td>\n",
       "      <td>0.85</td>\n",
       "      <td>0.68</td>\n",
       "      <td>0.80</td>\n",
       "      <td>0.68</td>\n",
       "      <td>0.83</td>\n",
       "      <td>0.68</td>\n",
       "    </tr>\n",
       "    <tr>\n",
       "      <th>XGBoost</th>\n",
       "      <td>0.66</td>\n",
       "      <td>0.80</td>\n",
       "      <td>0.64</td>\n",
       "      <td>0.82</td>\n",
       "      <td>0.66</td>\n",
       "      <td>0.77</td>\n",
       "      <td>0.64</td>\n",
       "      <td>0.81</td>\n",
       "      <td>0.64</td>\n",
       "    </tr>\n",
       "    <tr>\n",
       "      <th>Kernel Ridge</th>\n",
       "      <td>0.67</td>\n",
       "      <td>0.82</td>\n",
       "      <td>0.68</td>\n",
       "      <td>0.82</td>\n",
       "      <td>0.68</td>\n",
       "      <td>0.90</td>\n",
       "      <td>0.79</td>\n",
       "      <td>0.83</td>\n",
       "      <td>0.73</td>\n",
       "    </tr>\n",
       "    <tr>\n",
       "      <th>GP-sklearn</th>\n",
       "      <td>0.63</td>\n",
       "      <td>0.80</td>\n",
       "      <td>0.64</td>\n",
       "      <td>0.98</td>\n",
       "      <td>0.78</td>\n",
       "      <td>0.80</td>\n",
       "      <td>0.66</td>\n",
       "      <td>1.15</td>\n",
       "      <td>0.95</td>\n",
       "    </tr>\n",
       "    <tr>\n",
       "      <th>GP-GPflow</th>\n",
       "      <td>NaN</td>\n",
       "      <td>0.72</td>\n",
       "      <td>NaN</td>\n",
       "      <td>0.76</td>\n",
       "      <td>NaN</td>\n",
       "      <td>0.69</td>\n",
       "      <td>NaN</td>\n",
       "      <td>0.73</td>\n",
       "      <td>NaN</td>\n",
       "    </tr>\n",
       "  </tbody>\n",
       "</table>\n",
       "</div>"
      ],
      "text/plain": [
       "               RDKit  1024ecfp-4  1024ecfp-4 + RDKit  1024ecfp-6  \\\n",
       "Random Forest   0.69        0.83                0.67        0.85   \n",
       "XGBoost         0.66        0.80                0.64        0.82   \n",
       "Kernel Ridge    0.67        0.82                0.68        0.82   \n",
       "GP-sklearn      0.63        0.80                0.64        0.98   \n",
       "GP-GPflow        NaN        0.72                 NaN        0.76   \n",
       "\n",
       "               1024ecfp-6 + RDKit  2048ecfp-4  2048ecfp-4 + RDKit  2048ecfp-6  \\\n",
       "Random Forest                0.68        0.80                0.68        0.83   \n",
       "XGBoost                      0.66        0.77                0.64        0.81   \n",
       "Kernel Ridge                 0.68        0.90                0.79        0.83   \n",
       "GP-sklearn                   0.78        0.80                0.66        1.15   \n",
       "GP-GPflow                     NaN        0.69                 NaN        0.73   \n",
       "\n",
       "               2048ecfp-6 + RDKit  \n",
       "Random Forest                0.68  \n",
       "XGBoost                      0.64  \n",
       "Kernel Ridge                 0.73  \n",
       "GP-sklearn                   0.95  \n",
       "GP-GPflow                     NaN  "
      ]
     },
     "execution_count": 52,
     "metadata": {},
     "output_type": "execute_result"
    }
   ],
   "source": [
    "df = pd.read_csv(f'../tables/{dataset}_{smile_type}_{grid_search_type}_{cf}_combined_test_{metric}_model_x_featureset_heatmap_df.csv', index_col=0)\n",
    "df"
   ]
  },
  {
   "cell_type": "code",
   "execution_count": 53,
   "metadata": {
    "colab": {},
    "colab_type": "code",
    "id": "xLiKrnQAObYY",
    "outputId": "ae3f0a3d-6df0-4473-daef-07fdb6ddbc1c"
   },
   "outputs": [
    {
     "data": {
      "image/png": "[encoded data removed]",
      "text/plain": [
       "<Figure size 576x432 with 2 Axes>"
      ]
     },
     "metadata": {
      "needs_background": "light"
     },
     "output_type": "display_data"
    }
   ],
   "source": [
    "plot_algorithm_dataset_comparison_heatmap(df, dataset=dataset, metric=metric)\n",
    "\n",
    "# fig.savefig(f'{PLOTS_DIR}/algorithm_comparison.jpg', dpi=350, bbox_inches='tight')\n",
    "plt.show()"
   ]
  },
  {
   "cell_type": "code",
   "execution_count": 54,
   "metadata": {},
   "outputs": [
    {
     "data": {
      "text/html": [
       "<div>\n",
       "<style scoped>\n",
       "    .dataframe tbody tr th:only-of-type {\n",
       "        vertical-align: middle;\n",
       "    }\n",
       "\n",
       "    .dataframe tbody tr th {\n",
       "        vertical-align: top;\n",
       "    }\n",
       "\n",
       "    .dataframe thead th {\n",
       "        text-align: right;\n",
       "    }\n",
       "</style>\n",
       "<table border=\"1\" class=\"dataframe\">\n",
       "  <thead>\n",
       "    <tr style=\"text-align: right;\">\n",
       "      <th></th>\n",
       "      <th>RDKit</th>\n",
       "      <th>1024ecfp-4</th>\n",
       "      <th>1024ecfp-6</th>\n",
       "      <th>2048ecfp-4</th>\n",
       "      <th>2048ecfp-6</th>\n",
       "      <th>1024ecfp-4 + RDKit</th>\n",
       "      <th>1024ecfp-6 + RDKit</th>\n",
       "      <th>2048ecfp-4 + RDKit</th>\n",
       "      <th>2048ecfp-6 + RDKit</th>\n",
       "    </tr>\n",
       "  </thead>\n",
       "  <tbody>\n",
       "    <tr>\n",
       "      <th>rf</th>\n",
       "      <td>0.690765</td>\n",
       "      <td>0.829097</td>\n",
       "      <td>0.845208</td>\n",
       "      <td>0.801353</td>\n",
       "      <td>0.825029</td>\n",
       "      <td>0.670997</td>\n",
       "      <td>0.678017</td>\n",
       "      <td>0.678806</td>\n",
       "      <td>0.675074</td>\n",
       "    </tr>\n",
       "    <tr>\n",
       "      <th>xgb</th>\n",
       "      <td>0.660805</td>\n",
       "      <td>0.801091</td>\n",
       "      <td>0.817932</td>\n",
       "      <td>0.769080</td>\n",
       "      <td>0.809381</td>\n",
       "      <td>0.636322</td>\n",
       "      <td>0.655600</td>\n",
       "      <td>0.640713</td>\n",
       "      <td>0.643897</td>\n",
       "    </tr>\n",
       "    <tr>\n",
       "      <th>krr</th>\n",
       "      <td>0.665612</td>\n",
       "      <td>0.822457</td>\n",
       "      <td>0.818048</td>\n",
       "      <td>0.896998</td>\n",
       "      <td>0.826634</td>\n",
       "      <td>0.679417</td>\n",
       "      <td>0.676069</td>\n",
       "      <td>0.794012</td>\n",
       "      <td>0.727349</td>\n",
       "    </tr>\n",
       "    <tr>\n",
       "      <th>gp</th>\n",
       "      <td>0.632699</td>\n",
       "      <td>0.801513</td>\n",
       "      <td>0.983819</td>\n",
       "      <td>0.799493</td>\n",
       "      <td>1.153606</td>\n",
       "      <td>0.638386</td>\n",
       "      <td>0.777124</td>\n",
       "      <td>0.659990</td>\n",
       "      <td>0.951188</td>\n",
       "    </tr>\n",
       "    <tr>\n",
       "      <th>gpflow</th>\n",
       "      <td>NaN</td>\n",
       "      <td>0.724286</td>\n",
       "      <td>0.757914</td>\n",
       "      <td>0.687052</td>\n",
       "      <td>0.727057</td>\n",
       "      <td>NaN</td>\n",
       "      <td>NaN</td>\n",
       "      <td>NaN</td>\n",
       "      <td>NaN</td>\n",
       "    </tr>\n",
       "  </tbody>\n",
       "</table>\n",
       "</div>"
      ],
      "text/plain": [
       "           RDKit  1024ecfp-4  1024ecfp-6  2048ecfp-4  2048ecfp-6  \\\n",
       "rf      0.690765    0.829097    0.845208    0.801353    0.825029   \n",
       "xgb     0.660805    0.801091    0.817932    0.769080    0.809381   \n",
       "krr     0.665612    0.822457    0.818048    0.896998    0.826634   \n",
       "gp      0.632699    0.801513    0.983819    0.799493    1.153606   \n",
       "gpflow       NaN    0.724286    0.757914    0.687052    0.727057   \n",
       "\n",
       "        1024ecfp-4 + RDKit  1024ecfp-6 + RDKit  2048ecfp-4 + RDKit  \\\n",
       "rf                0.670997            0.678017            0.678806   \n",
       "xgb               0.636322            0.655600            0.640713   \n",
       "krr               0.679417            0.676069            0.794012   \n",
       "gp                0.638386            0.777124            0.659990   \n",
       "gpflow                 NaN                 NaN                 NaN   \n",
       "\n",
       "        2048ecfp-6 + RDKit  \n",
       "rf                0.675074  \n",
       "xgb               0.643897  \n",
       "krr               0.727349  \n",
       "gp                0.951188  \n",
       "gpflow                 NaN  "
      ]
     },
     "execution_count": 54,
     "metadata": {},
     "output_type": "execute_result"
    }
   ],
   "source": [
    "combined_test_metric"
   ]
  },
  {
   "cell_type": "markdown",
   "metadata": {},
   "source": [
    "## Best feature set for each model"
   ]
  },
  {
   "cell_type": "markdown",
   "metadata": {
    "colab": {},
    "colab_type": "code",
    "id": "1uu77bH6X2XW",
    "outputId": "807ebb25-f485-4528-bf31-b4e895e8b224"
   },
   "source": [
    "### Scikit-Learn"
   ]
  },
  {
   "cell_type": "code",
   "execution_count": 55,
   "metadata": {},
   "outputs": [
    {
     "name": "stdout",
     "output_type": "stream",
     "text": [
      "gp RDKit 0.6326990330037838 0.026320484823695308\n",
      "\n",
      "xgb 1024ecfp-4 + RDKit 0.6363220904305424 0.020775125556533783\n",
      "\n",
      "krr RDKit 0.6656120334939409 0.05216840717769401\n",
      "\n",
      "rf 1024ecfp-4 + RDKit 0.67099674337315 0.02163595754125149\n",
      "\n"
     ]
    }
   ],
   "source": [
    "best = []\n",
    "for model in test_metric.min(axis=1).sort_values().index:\n",
    "    # get the feature set for which \n",
    "    features = list(test_metric.loc[model, test_metric.loc[model] == test_metric.loc[model].min()].index)[0]\n",
    "    best.append([model, features, mean_train_test_scores[features][model][f'test_{metric}'], std_train_test_scores[features][model][f'test_{metric}']])\n",
    "    print(model, features, mean_train_test_scores[features][model][f'test_{metric}'], std_train_test_scores[features][model][f'test_{metric}'])\n",
    "    print()"
   ]
  },
  {
   "cell_type": "code",
   "execution_count": 56,
   "metadata": {},
   "outputs": [
    {
     "data": {
      "text/html": [
       "<div>\n",
       "<style scoped>\n",
       "    .dataframe tbody tr th:only-of-type {\n",
       "        vertical-align: middle;\n",
       "    }\n",
       "\n",
       "    .dataframe tbody tr th {\n",
       "        vertical-align: top;\n",
       "    }\n",
       "\n",
       "    .dataframe thead th {\n",
       "        text-align: right;\n",
       "    }\n",
       "</style>\n",
       "<table border=\"1\" class=\"dataframe\">\n",
       "  <thead>\n",
       "    <tr style=\"text-align: right;\">\n",
       "      <th></th>\n",
       "      <th>0</th>\n",
       "      <th>1</th>\n",
       "      <th>2</th>\n",
       "      <th>3</th>\n",
       "    </tr>\n",
       "  </thead>\n",
       "  <tbody>\n",
       "    <tr>\n",
       "      <th>0</th>\n",
       "      <td>gp</td>\n",
       "      <td>RDKit</td>\n",
       "      <td>0.632699</td>\n",
       "      <td>0.026320</td>\n",
       "    </tr>\n",
       "    <tr>\n",
       "      <th>1</th>\n",
       "      <td>xgb</td>\n",
       "      <td>1024ecfp-4 + RDKit</td>\n",
       "      <td>0.636322</td>\n",
       "      <td>0.020775</td>\n",
       "    </tr>\n",
       "    <tr>\n",
       "      <th>2</th>\n",
       "      <td>krr</td>\n",
       "      <td>RDKit</td>\n",
       "      <td>0.665612</td>\n",
       "      <td>0.052168</td>\n",
       "    </tr>\n",
       "    <tr>\n",
       "      <th>3</th>\n",
       "      <td>rf</td>\n",
       "      <td>1024ecfp-4 + RDKit</td>\n",
       "      <td>0.670997</td>\n",
       "      <td>0.021636</td>\n",
       "    </tr>\n",
       "  </tbody>\n",
       "</table>\n",
       "</div>"
      ],
      "text/plain": [
       "     0                   1         2         3\n",
       "0   gp               RDKit  0.632699  0.026320\n",
       "1  xgb  1024ecfp-4 + RDKit  0.636322  0.020775\n",
       "2  krr               RDKit  0.665612  0.052168\n",
       "3   rf  1024ecfp-4 + RDKit  0.670997  0.021636"
      ]
     },
     "execution_count": 56,
     "metadata": {},
     "output_type": "execute_result"
    }
   ],
   "source": [
    "pd.DataFrame(best)"
   ]
  },
  {
   "cell_type": "markdown",
   "metadata": {},
   "source": [
    "### Combined best"
   ]
  },
  {
   "cell_type": "code",
   "execution_count": 57,
   "metadata": {},
   "outputs": [
    {
     "name": "stdout",
     "output_type": "stream",
     "text": [
      "gp RDKit 0.6326990330037838 0.026320484823695308\n",
      "\n",
      "xgb 1024ecfp-4 + RDKit 0.6363220904305424 0.020775125556533783\n",
      "\n",
      "krr RDKit 0.6656120334939409 0.05216840717769401\n",
      "\n",
      "rf 1024ecfp-4 + RDKit 0.67099674337315 0.02163595754125149\n",
      "\n",
      "gpflow 2048ecfp-4 0.6870524728614278 0.0652835525038975\n",
      "\n"
     ]
    }
   ],
   "source": [
    "best = []\n",
    "for model in combined_test_metric.min(axis=1).sort_values().index:\n",
    "    # get the feature set for which \n",
    "    features = list(combined_test_metric.loc[model, combined_test_metric.loc[model] == combined_test_metric.loc[model].min()].index)[0]\n",
    "    \n",
    "    if model != 'gpflow':\n",
    "        best.append([model, features, mean_train_test_scores[features][model][f'test_{metric}'], std_train_test_scores[features][model][f'test_{metric}']])\n",
    "        print(model, features, mean_train_test_scores[features][model][f'test_{metric}'], std_train_test_scores[features][model][f'test_{metric}'])\n",
    "    else:\n",
    "        pass\n",
    "        best.append([model, features, gpflow_mean_train_test_scores[features][f'test_{metric}'], gpflow_std_train_test_scores[features][f'test_{metric}']])\n",
    "        print(model, features, gpflow_mean_train_test_scores[features][f'test_{metric}'], gpflow_std_train_test_scores[features][f'test_{metric}'])\n",
    "    print()"
   ]
  },
  {
   "cell_type": "code",
   "execution_count": 58,
   "metadata": {},
   "outputs": [
    {
     "data": {
      "text/plain": [
       "('lipophilicity', 'original', 'extended', 'full')"
      ]
     },
     "execution_count": 58,
     "metadata": {},
     "output_type": "execute_result"
    }
   ],
   "source": [
    "dataset, smile_type, grid_search_type, cf"
   ]
  },
  {
   "cell_type": "code",
   "execution_count": 59,
   "metadata": {},
   "outputs": [
    {
     "data": {
      "text/html": [
       "<div>\n",
       "<style scoped>\n",
       "    .dataframe tbody tr th:only-of-type {\n",
       "        vertical-align: middle;\n",
       "    }\n",
       "\n",
       "    .dataframe tbody tr th {\n",
       "        vertical-align: top;\n",
       "    }\n",
       "\n",
       "    .dataframe thead th {\n",
       "        text-align: right;\n",
       "    }\n",
       "</style>\n",
       "<table border=\"1\" class=\"dataframe\">\n",
       "  <thead>\n",
       "    <tr style=\"text-align: right;\">\n",
       "      <th></th>\n",
       "      <th>0</th>\n",
       "      <th>1</th>\n",
       "      <th>2</th>\n",
       "      <th>3</th>\n",
       "    </tr>\n",
       "  </thead>\n",
       "  <tbody>\n",
       "    <tr>\n",
       "      <th>0</th>\n",
       "      <td>gp</td>\n",
       "      <td>RDKit</td>\n",
       "      <td>0.632699</td>\n",
       "      <td>0.026320</td>\n",
       "    </tr>\n",
       "    <tr>\n",
       "      <th>1</th>\n",
       "      <td>xgb</td>\n",
       "      <td>1024ecfp-4 + RDKit</td>\n",
       "      <td>0.636322</td>\n",
       "      <td>0.020775</td>\n",
       "    </tr>\n",
       "    <tr>\n",
       "      <th>2</th>\n",
       "      <td>krr</td>\n",
       "      <td>RDKit</td>\n",
       "      <td>0.665612</td>\n",
       "      <td>0.052168</td>\n",
       "    </tr>\n",
       "    <tr>\n",
       "      <th>3</th>\n",
       "      <td>rf</td>\n",
       "      <td>1024ecfp-4 + RDKit</td>\n",
       "      <td>0.670997</td>\n",
       "      <td>0.021636</td>\n",
       "    </tr>\n",
       "    <tr>\n",
       "      <th>4</th>\n",
       "      <td>gpflow</td>\n",
       "      <td>2048ecfp-4</td>\n",
       "      <td>0.687052</td>\n",
       "      <td>0.065284</td>\n",
       "    </tr>\n",
       "  </tbody>\n",
       "</table>\n",
       "</div>"
      ],
      "text/plain": [
       "        0                   1         2         3\n",
       "0      gp               RDKit  0.632699  0.026320\n",
       "1     xgb  1024ecfp-4 + RDKit  0.636322  0.020775\n",
       "2     krr               RDKit  0.665612  0.052168\n",
       "3      rf  1024ecfp-4 + RDKit  0.670997  0.021636\n",
       "4  gpflow          2048ecfp-4  0.687052  0.065284"
      ]
     },
     "execution_count": 59,
     "metadata": {},
     "output_type": "execute_result"
    }
   ],
   "source": [
    "best_test_scores = pd.DataFrame(best)\n",
    "best_test_scores"
   ]
  },
  {
   "cell_type": "code",
   "execution_count": 60,
   "metadata": {},
   "outputs": [],
   "source": [
    "best_test_scores.to_csv(f'../tables/{dataset}_{smile_type}_{grid_search_type}_{cf}_best_test_{metric}_model_x_featureset_mean_std.csv', index=True)"
   ]
  },
  {
   "cell_type": "code",
   "execution_count": null,
   "metadata": {},
   "outputs": [],
   "source": []
  },
  {
   "cell_type": "code",
   "execution_count": null,
   "metadata": {},
   "outputs": [],
   "source": []
  },
  {
   "cell_type": "code",
   "execution_count": null,
   "metadata": {},
   "outputs": [],
   "source": []
  },
  {
   "cell_type": "code",
   "execution_count": null,
   "metadata": {},
   "outputs": [],
   "source": []
  }
 ],
 "metadata": {
  "colab": {
   "collapsed_sections": [],
   "name": "visualise_extended_grid_search_results.ipynb",
   "provenance": []
  },
  "kernelspec": {
   "display_name": "Python [conda env:batch-msc] *",
   "language": "python",
   "name": "conda-env-batch-msc-py"
  },
  "language_info": {
   "codemirror_mode": {
    "name": "ipython",
    "version": 3
   },
   "file_extension": ".py",
   "mimetype": "text/x-python",
   "name": "python",
   "nbconvert_exporter": "python",
   "pygments_lexer": "ipython3",
   "version": "3.6.10"
  }
 },
 "nbformat": 4,
 "nbformat_minor": 1
}
