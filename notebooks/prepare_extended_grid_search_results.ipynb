{
 "cells": [
  {
   "cell_type": "markdown",
   "metadata": {
    "colab_type": "text",
    "id": "0X-xLNS3AQSJ"
   },
   "source": [
    "# Setup"
   ]
  },
  {
   "cell_type": "markdown",
   "metadata": {
    "colab_type": "text",
    "id": "RfEydQSeAQSL"
   },
   "source": [
    "## Look around"
   ]
  },
  {
   "cell_type": "code",
   "execution_count": 1,
   "metadata": {
    "colab": {},
    "colab_type": "code",
    "id": "VbUH1eOtObXp",
    "outputId": "dce5a945-dc95-4b37-b002-99aad21517b3"
   },
   "outputs": [
    {
     "name": "stdout",
     "output_type": "stream",
     "text": [
      "colab_extended_GPflow_pipeline.ipynb\r\n",
      "colab_extended_grid_search_pipeline.ipynb\r\n",
      "colab_reproducing_ci_gp.ipynb\r\n",
      "colab_reproducing_ci_rf.ipynb\r\n",
      "colab_reproducing_grid_search_pipeline.ipynb\r\n",
      "eda.ipynb\r\n",
      "visualise_extended_grid_search_results.ipynb\r\n",
      "visualise_reproducing_grid_search_results.ipynb\r\n"
     ]
    }
   ],
   "source": [
    "%ls"
   ]
  },
  {
   "cell_type": "code",
   "execution_count": 2,
   "metadata": {
    "colab": {},
    "colab_type": "code",
    "id": "CyTRxipFObXw",
    "outputId": "eae6f7d2-af85-4e2e-8dcf-df43fe77be91"
   },
   "outputs": [
    {
     "name": "stdout",
     "output_type": "stream",
     "text": [
      "esol_original_extended_gp_tanimoto_train_test_scores.pickle\r\n",
      "esol_original_extended_gp_tanimoto_val_scores.pickle\r\n",
      "esol_original_extended_random_search_best_params_full.pickle\r\n",
      "esol_original_extended_random_search_best_params_reduced.pickle\r\n",
      "esol_original_extended_random_search_best_train_test_scores_full.pickle\r\n",
      "esol_original_extended_random_search_best_train_test_scores_reduced.pickle\r\n",
      "esol_original_extended_random_search_best_val_scores_full.pickle\r\n",
      "esol_original_extended_random_search_best_val_scores_reduced.pickle\r\n",
      "esol_original_extended_random_search_grid_params_reduced.pickle\r\n",
      "esol_original_reproducing_random_search_best_params.pickle\r\n",
      "esol_original_reproducing_random_search_best_train_test_scores.pickle\r\n",
      "esol_original_reproducing_random_search_best_val_scores.pickle\r\n",
      "esol_original_reproducing_random_search_grid_params.pickle\r\n",
      "freesolv_original_extended_gp_tanimoto_train_test_scores.pickle\r\n",
      "freesolv_original_extended_gp_tanimoto_val_scores.pickle\r\n",
      "freesolv_original_extended_random_search_best_params_full.pickle\r\n",
      "freesolv_original_extended_random_search_best_train_test_scores_full.pickle\r\n",
      "freesolv_original_extended_random_search_best_val_scores_full.pickle\r\n",
      "freesolv_original_extended_random_search_grid_params_full.pickle\r\n",
      "freesolv_original_reproducing_random_search_best_params.pickle\r\n",
      "freesolv_original_reproducing_random_search_best_train_test_scores.pickle\r\n",
      "freesolv_original_reproducing_random_search_best_val_scores.pickle\r\n",
      "freesolv_original_reproducing_random_search_grid_params.pickle\r\n",
      "lipophilicity_original_extended_gp_tanimoto_train_test_scores.pickle\r\n",
      "lipophilicity_original_extended_gp_tanimoto_val_scores.pickle\r\n",
      "lipophilicity_original_extended_random_search_best_params_full.pickle\r\n",
      "lipophilicity_original_extended_random_search_best_train_test_scores_full.pickle\r\n",
      "lipophilicity_original_extended_random_search_best_val_scores_full.pickle\r\n",
      "lipophilicity_original_extended_random_search_grid_params_full.pickle\r\n",
      "lipophilicity_original_reproducing_random_search_best_params.pickle\r\n",
      "lipophilicity_original_reproducing_random_search_best_train_test_scores.pickle\r\n",
      "lipophilicity_original_reproducing_random_search_best_val_scores.pickle\r\n",
      "lipophilicity_original_reproducing_random_search_grid_params.pickle\r\n"
     ]
    }
   ],
   "source": [
    "%ls ../results/"
   ]
  },
  {
   "cell_type": "markdown",
   "metadata": {
    "colab_type": "text",
    "id": "Gg6wa0GzAQSd"
   },
   "source": [
    "## Import Modules"
   ]
  },
  {
   "cell_type": "markdown",
   "metadata": {
    "colab_type": "text",
    "id": "JHBu35KMX2Vp"
   },
   "source": [
    "### Standard imports"
   ]
  },
  {
   "cell_type": "code",
   "execution_count": 3,
   "metadata": {
    "colab": {},
    "colab_type": "code",
    "id": "FKInp93BObX0"
   },
   "outputs": [],
   "source": [
    "import json\n",
    "import pickle\n",
    "\n",
    "import sys\n",
    "\n",
    "import numpy as np\n",
    "import pandas as pd\n",
    "import matplotlib.pyplot as plt\n",
    "import seaborn as sns"
   ]
  },
  {
   "cell_type": "markdown",
   "metadata": {
    "colab_type": "text",
    "id": "h1f16iDbX2Vu"
   },
   "source": [
    "### Custom imports"
   ]
  },
  {
   "cell_type": "code",
   "execution_count": 4,
   "metadata": {
    "colab": {},
    "colab_type": "code",
    "id": "xFokvyDCX2Vv"
   },
   "outputs": [],
   "source": [
    "sys.path.insert(0, '..')\n",
    "\n",
    "# plotting\n",
    "from util_scripts.plotting_functions_and_vars import FIGSIZE_CI, FIGSIZE_HEATMAP, PLOTS_DIR\n",
    "from util_scripts.plotting_functions_and_vars import datasets_to_titles, datasets_to_units, metrics_to_labels\n",
    "from util_scripts.plotting_functions_and_vars import plot_algorithm_dataset_comparison_heatmap\n",
    "\n",
    "sys.path.insert(0, './notebooks')"
   ]
  },
  {
   "cell_type": "markdown",
   "metadata": {
    "colab_type": "text",
    "id": "yLHwWzzyAQSo"
   },
   "source": [
    "## CHOOSE dataset, smile_type, grid_search_type to visualize"
   ]
  },
  {
   "cell_type": "code",
   "execution_count": 5,
   "metadata": {
    "colab": {},
    "colab_type": "code",
    "id": "96CqnRUHObX3"
   },
   "outputs": [],
   "source": [
    "# root = '../backup_results'\n",
    "root = '../results'"
   ]
  },
  {
   "cell_type": "code",
   "execution_count": 6,
   "metadata": {
    "colab": {},
    "colab_type": "code",
    "id": "cyalSHrqOiqN"
   },
   "outputs": [],
   "source": [
    "dataset = 'esol'\n",
    "assert dataset in ['freesolv', 'esol', 'lipophilicity']\n",
    "\n",
    "smile_type = 'original'\n",
    "assert smile_type in ['original', 'protonated']\n",
    "\n",
    "grid_search_type = 'extended'\n",
    "assert grid_search_type in ['reproducing', 'extended']\n",
    "\n",
    "# correlated features treatment\n",
    "if dataset == 'esol':\n",
    "    cf = 'reduced'\n",
    "else:\n",
    "    cf = 'full'\n",
    "assert cf in ['reduced', 'full']"
   ]
  },
  {
   "cell_type": "code",
   "execution_count": 7,
   "metadata": {
    "colab": {},
    "colab_type": "code",
    "id": "34anQVC0AQSz"
   },
   "outputs": [],
   "source": [
    "# experiment\n",
    "cf = 'full'"
   ]
  },
  {
   "cell_type": "markdown",
   "metadata": {
    "colab_type": "text",
    "id": "jjXl2uPcAQS3"
   },
   "source": [
    "## Titles, Units and Labels for datasets"
   ]
  },
  {
   "cell_type": "code",
   "execution_count": 8,
   "metadata": {
    "colab": {},
    "colab_type": "code",
    "id": "xMuEJlPFAQS4",
    "outputId": "d1fe2b3e-ceb3-4728-84c8-dd6fad0f75e7"
   },
   "outputs": [
    {
     "name": "stdout",
     "output_type": "stream",
     "text": [
      "freesolv      :  Solvation Energy\n",
      "esol          :  Log Solubility\n",
      "lipophilicity :  Octanol/Water Distribution Coefficient\n"
     ]
    }
   ],
   "source": [
    "for key, value in datasets_to_titles.items():\n",
    "    print(key, (13 - len(key))*' ' + ': ',  value)"
   ]
  },
  {
   "cell_type": "code",
   "execution_count": 9,
   "metadata": {
    "colab": {},
    "colab_type": "code",
    "id": "SjdWkUsFX2WQ",
    "outputId": "ddb34e87-a3e1-47bf-a790-f07be0054692"
   },
   "outputs": [
    {
     "name": "stdout",
     "output_type": "stream",
     "text": [
      "freesolv      :  (kcal/mol)\n",
      "esol          :  (mol/litre)\n",
      "lipophilicity :  (logD)\n"
     ]
    }
   ],
   "source": [
    "for key, value in datasets_to_units.items():\n",
    "    print(key, (13 - len(key))*' ' + ': ',  value)"
   ]
  },
  {
   "cell_type": "code",
   "execution_count": 10,
   "metadata": {
    "colab": {},
    "colab_type": "code",
    "id": "dnv0wRL8AQTD",
    "outputId": "f0870571-5d32-4756-9e5e-f34c22489381"
   },
   "outputs": [
    {
     "name": "stdout",
     "output_type": "stream",
     "text": [
      "RMSE          :  root-mean-square error\n",
      "MAE           :  mean absolute error\n",
      "R^2           :  R^2 (coefficient of determination)\n",
      "pearson_r     :  Pearson correlation\n"
     ]
    }
   ],
   "source": [
    "for key, value in metrics_to_labels.items():\n",
    "    print(key, (13 - len(key))*' ' + ': ',  value)"
   ]
  },
  {
   "cell_type": "markdown",
   "metadata": {
    "colab_type": "text",
    "id": "x4jNc4LUAQTM"
   },
   "source": [
    "## CHOOSE metric to display"
   ]
  },
  {
   "cell_type": "code",
   "execution_count": 11,
   "metadata": {
    "colab": {},
    "colab_type": "code",
    "id": "xCke_bPxAQTN"
   },
   "outputs": [],
   "source": [
    "metric = 'RMSE'\n",
    "assert metric in metrics_to_labels"
   ]
  },
  {
   "cell_type": "code",
   "execution_count": 12,
   "metadata": {
    "colab": {},
    "colab_type": "code",
    "id": "ItaMy-LTAQTq"
   },
   "outputs": [],
   "source": [
    "if metric in ['RMSE', 'MAE']:\n",
    "    pass\n",
    "else:\n",
    "    # no units\n",
    "    datasets_to_units = {'freesolv': '', 'esol': '', 'lipophilicity': ''}"
   ]
  },
  {
   "cell_type": "markdown",
   "metadata": {
    "colab_type": "text",
    "id": "NucBYiW4AQTv"
   },
   "source": [
    "## Load everything"
   ]
  },
  {
   "cell_type": "code",
   "execution_count": 13,
   "metadata": {
    "colab": {},
    "colab_type": "code",
    "id": "P7gZiseHAQTw",
    "outputId": "6a3dcf22-6ddb-40f2-ff6b-98afcf2cae22"
   },
   "outputs": [
    {
     "name": "stdout",
     "output_type": "stream",
     "text": [
      "esol_original_extended_gp_tanimoto_train_test_scores.pickle\r\n",
      "esol_original_extended_gp_tanimoto_val_scores.pickle\r\n",
      "esol_original_extended_random_search_best_params_full.pickle\r\n",
      "esol_original_extended_random_search_best_params_reduced.pickle\r\n",
      "esol_original_extended_random_search_best_train_test_scores_full.pickle\r\n",
      "esol_original_extended_random_search_best_train_test_scores_reduced.pickle\r\n",
      "esol_original_extended_random_search_best_val_scores_full.pickle\r\n",
      "esol_original_extended_random_search_best_val_scores_reduced.pickle\r\n",
      "esol_original_extended_random_search_grid_params_reduced.pickle\r\n",
      "esol_original_reproducing_random_search_best_params.pickle\r\n",
      "esol_original_reproducing_random_search_best_train_test_scores.pickle\r\n",
      "esol_original_reproducing_random_search_best_val_scores.pickle\r\n",
      "esol_original_reproducing_random_search_grid_params.pickle\r\n",
      "freesolv_original_extended_gp_tanimoto_train_test_scores.pickle\r\n",
      "freesolv_original_extended_gp_tanimoto_val_scores.pickle\r\n",
      "freesolv_original_extended_random_search_best_params_full.pickle\r\n",
      "freesolv_original_extended_random_search_best_train_test_scores_full.pickle\r\n",
      "freesolv_original_extended_random_search_best_val_scores_full.pickle\r\n",
      "freesolv_original_extended_random_search_grid_params_full.pickle\r\n",
      "freesolv_original_reproducing_random_search_best_params.pickle\r\n",
      "freesolv_original_reproducing_random_search_best_train_test_scores.pickle\r\n",
      "freesolv_original_reproducing_random_search_best_val_scores.pickle\r\n",
      "freesolv_original_reproducing_random_search_grid_params.pickle\r\n",
      "lipophilicity_original_extended_gp_tanimoto_train_test_scores.pickle\r\n",
      "lipophilicity_original_extended_gp_tanimoto_val_scores.pickle\r\n",
      "lipophilicity_original_extended_random_search_best_params_full.pickle\r\n",
      "lipophilicity_original_extended_random_search_best_train_test_scores_full.pickle\r\n",
      "lipophilicity_original_extended_random_search_best_val_scores_full.pickle\r\n",
      "lipophilicity_original_extended_random_search_grid_params_full.pickle\r\n",
      "lipophilicity_original_reproducing_random_search_best_params.pickle\r\n",
      "lipophilicity_original_reproducing_random_search_best_train_test_scores.pickle\r\n",
      "lipophilicity_original_reproducing_random_search_best_val_scores.pickle\r\n",
      "lipophilicity_original_reproducing_random_search_grid_params.pickle\r\n"
     ]
    }
   ],
   "source": [
    "%ls ../results/"
   ]
  },
  {
   "cell_type": "markdown",
   "metadata": {},
   "source": [
    "### Sklearn"
   ]
  },
  {
   "cell_type": "code",
   "execution_count": 14,
   "metadata": {
    "colab": {},
    "colab_type": "code",
    "id": "X2glbcNcObX6"
   },
   "outputs": [],
   "source": [
    "with open(f'../results/{dataset}_{smile_type}_{grid_search_type}_random_search_best_val_scores_{cf}.pickle', 'rb') as fp:\n",
    "    val_scores = pickle.load(fp)\n",
    "\n",
    "with open(f'../results/{dataset}_{smile_type}_{grid_search_type}_random_search_best_train_test_scores_{cf}.pickle', 'rb') as fp:\n",
    "    train_test_scores = pickle.load(fp)\n",
    "\n",
    "with open(f'../results/{dataset}_{smile_type}_{grid_search_type}_random_search_best_params_{cf}.pickle', 'rb') as fp:\n",
    "    best_params = pickle.load(fp)\n",
    "\n",
    "# with open(f'../results/{dataset}_{smile_type}_{grid_search_type}_random_search_grid_params_{cf}.pickle', 'rb') as fp:\n",
    "#     params = pickle.load(fp)"
   ]
  },
  {
   "cell_type": "code",
   "execution_count": 15,
   "metadata": {
    "colab": {},
    "colab_type": "code",
    "id": "GUrBl_FzAQUG",
    "outputId": "f98ad4ea-8eb5-4fcb-ff3d-6123d226bb2f"
   },
   "outputs": [],
   "source": [
    "# best_params"
   ]
  },
  {
   "cell_type": "markdown",
   "metadata": {
    "colab_type": "text",
    "id": "k3TMIMvWAQUe"
   },
   "source": [
    "Have a look at best parameters."
   ]
  },
  {
   "cell_type": "code",
   "execution_count": 16,
   "metadata": {
    "colab": {},
    "colab_type": "code",
    "id": "9j7rbVktObYA",
    "outputId": "970b69b5-d5eb-4b3d-df18-8dca22fdfe26"
   },
   "outputs": [
    {
     "data": {
      "text/plain": [
       "{'rf': {'rf__n_estimators': 850, 'rf__max_features': 0.1},\n",
       " 'xgb': {'xgb__subsample': 0.5,\n",
       "  'xgb__n_estimators': 300,\n",
       "  'xgb__max_depth': 9,\n",
       "  'xgb__learning_rate': 0.2},\n",
       " 'krr': {'krr__alpha': 0.01},\n",
       " 'gp': {'gp__kernel': Matern(length_scale=1, nu=1.5) + WhiteKernel(noise_level=1)}}"
      ]
     },
     "execution_count": 16,
     "metadata": {},
     "output_type": "execute_result"
    }
   ],
   "source": [
    "best_params['1024ecfp-4']"
   ]
  },
  {
   "cell_type": "markdown",
   "metadata": {
    "colab_type": "text",
    "id": "oXXHngt0AQUl"
   },
   "source": [
    "Have a look at the scores"
   ]
  },
  {
   "cell_type": "code",
   "execution_count": 17,
   "metadata": {
    "colab": {},
    "colab_type": "code",
    "id": "sS0OedfOAQUl",
    "outputId": "fead3491-e944-4410-9dd7-8306e434f0ec"
   },
   "outputs": [],
   "source": [
    "# val_scores"
   ]
  },
  {
   "cell_type": "code",
   "execution_count": 18,
   "metadata": {
    "colab": {},
    "colab_type": "code",
    "id": "JMPWwMI1AQUp",
    "outputId": "53a01981-4b33-4b18-dfbf-42a2023d72f0"
   },
   "outputs": [],
   "source": [
    "# train_test_scores"
   ]
  },
  {
   "cell_type": "markdown",
   "metadata": {},
   "source": [
    "### GPflow"
   ]
  },
  {
   "cell_type": "code",
   "execution_count": 19,
   "metadata": {},
   "outputs": [],
   "source": [
    "with open(f'../results/{dataset}_{smile_type}_{grid_search_type}_gp_tanimoto_val_scores.pickle', 'rb') as fp:\n",
    "    gpflow_val_scores = pickle.load(fp)\n",
    "\n",
    "with open(f'../results/{dataset}_{smile_type}_{grid_search_type}_gp_tanimoto_train_test_scores.pickle', 'rb') as fp:\n",
    "    gpflow_train_test_scores = pickle.load(fp)"
   ]
  },
  {
   "cell_type": "code",
   "execution_count": 20,
   "metadata": {},
   "outputs": [],
   "source": [
    "# gpflow_val_scores"
   ]
  },
  {
   "cell_type": "markdown",
   "metadata": {},
   "source": [
    "### Get means and standard deviations"
   ]
  },
  {
   "cell_type": "markdown",
   "metadata": {},
   "source": [
    "#### Scikit-Learn"
   ]
  },
  {
   "cell_type": "markdown",
   "metadata": {
    "colab_type": "text",
    "id": "5BWvgdcDAQUt"
   },
   "source": [
    "Get the means over folds (`cross_validate()` records the results as arrays even for `num_folds=1`)"
   ]
  },
  {
   "cell_type": "code",
   "execution_count": 21,
   "metadata": {},
   "outputs": [],
   "source": [
    "scores = val_scores\n",
    "mean_val_scores = {features: {model: {record: np.abs(scores[features][model][record].mean()) for record in scores[features][model]} for model in scores[features]} for features in scores}\n",
    "std_val_scores = {features: {model: {record: scores[features][model][record].std() for record in scores[features][model]} for model in scores[features]} for features in scores}\n",
    "\n",
    "# mean_val_scores\n",
    "# std_val_scores"
   ]
  },
  {
   "cell_type": "code",
   "execution_count": 22,
   "metadata": {},
   "outputs": [],
   "source": [
    "scores = train_test_scores\n",
    "mean_train_test_scores = {features: {model: {record: np.abs(scores[features][model][record].mean()) for record in scores[features][model]} for model in scores[features]} for features in scores}\n",
    "std_train_test_scores = {features: {model: {record: scores[features][model][record].std() for record in scores[features][model]} for model in scores[features]} for features in scores}\n",
    "\n",
    "# mean_train_test_scores\n",
    "# std_train_test_scores"
   ]
  },
  {
   "cell_type": "markdown",
   "metadata": {},
   "source": [
    "#### GPflow"
   ]
  },
  {
   "cell_type": "code",
   "execution_count": 23,
   "metadata": {},
   "outputs": [],
   "source": [
    "scores = gpflow_val_scores\n",
    "gpflow_mean_val_scores = {features: {record: np.abs(scores[features][record]).mean() for record in scores[features]} for features in scores}\n",
    "gpflow_std_val_scores = {features: {record: np.array(scores[features][record]).std() for record in scores[features]} for features in scores}\n",
    "\n",
    "# gpflow_mean_val_scores\n",
    "# gpflow_std_val_scores"
   ]
  },
  {
   "cell_type": "code",
   "execution_count": 24,
   "metadata": {},
   "outputs": [],
   "source": [
    "scores = gpflow_train_test_scores\n",
    "gpflow_mean_train_test_scores = {features: {record: np.abs(scores[features][record]).mean() for record in scores[features]} for features in scores}\n",
    "gpflow_std_train_test_scores = {features: {record: np.array(scores[features][record]).std() for record in scores[features]} for features in scores}\n",
    "\n",
    "# gpflow_mean_train_test_scores\n",
    "# gpflow_std_train_test_scores"
   ]
  },
  {
   "cell_type": "markdown",
   "metadata": {
    "colab_type": "text",
    "id": "tq91XVzvAQU5"
   },
   "source": [
    "# Visualization"
   ]
  },
  {
   "cell_type": "markdown",
   "metadata": {
    "colab_type": "text",
    "id": "79j3OG_LAQU6"
   },
   "source": [
    "## Plotting options"
   ]
  },
  {
   "cell_type": "code",
   "execution_count": 25,
   "metadata": {
    "colab": {},
    "colab_type": "code",
    "id": "-F3lnzIkAQU2",
    "outputId": "a0c27bb2-77af-47fd-beed-f9d354d48815"
   },
   "outputs": [
    {
     "data": {
      "text/plain": [
       "dict_keys(['RDKit', '1024ecfp-4', '1024ecfp-6', '2048ecfp-4', '2048ecfp-6', '1024ecfp-4 + RDKit', '1024ecfp-6 + RDKit', '2048ecfp-4 + RDKit', '2048ecfp-6 + RDKit'])"
      ]
     },
     "execution_count": 25,
     "metadata": {},
     "output_type": "execute_result"
    }
   ],
   "source": [
    "mean_val_scores.keys()"
   ]
  },
  {
   "cell_type": "code",
   "execution_count": 26,
   "metadata": {
    "colab": {},
    "colab_type": "code",
    "id": "Zx8K4vRIObYF"
   },
   "outputs": [],
   "source": [
    "column_order = ['RDKit',\n",
    "                '1024ecfp-4', '1024ecfp-4 + RDKit',\n",
    "                '1024ecfp-6', '1024ecfp-6 + RDKit',\n",
    "                '2048ecfp-4', '2048ecfp-4 + RDKit',\n",
    "                '2048ecfp-6', '2048ecfp-6 + RDKit'\n",
    "                ]\n",
    "\n",
    "row_order = ['Random Forest', 'XGBoost', 'Kernel Ridge', 'GP-sklearn', 'GP-GPflow']\n",
    "mapper = {\n",
    "    'rf': 'Random Forest',\n",
    "    'xgb': 'XGBoost',\n",
    "    'krr': 'Kernel Ridge',\n",
    "    'gp': 'GP-sklearn',\n",
    "    'gpflow': 'GP-GPflow'\n",
    "}"
   ]
  },
  {
   "cell_type": "markdown",
   "metadata": {
    "colab_type": "text",
    "id": "vxrJtnSWAQU-"
   },
   "source": [
    "## Train metric"
   ]
  },
  {
   "cell_type": "code",
   "execution_count": 27,
   "metadata": {
    "colab": {},
    "colab_type": "code",
    "id": "Vo6S1WmkObYJ",
    "outputId": "301d944b-d6a7-4fe3-d07e-42283571b794"
   },
   "outputs": [
    {
     "name": "stdout",
     "output_type": "stream",
     "text": [
      "RMSE : root-mean-square error , unit: (mol/litre)\n"
     ]
    },
    {
     "data": {
      "text/html": [
       "<div>\n",
       "<style scoped>\n",
       "    .dataframe tbody tr th:only-of-type {\n",
       "        vertical-align: middle;\n",
       "    }\n",
       "\n",
       "    .dataframe tbody tr th {\n",
       "        vertical-align: top;\n",
       "    }\n",
       "\n",
       "    .dataframe thead th {\n",
       "        text-align: right;\n",
       "    }\n",
       "</style>\n",
       "<table border=\"1\" class=\"dataframe\">\n",
       "  <thead>\n",
       "    <tr style=\"text-align: right;\">\n",
       "      <th></th>\n",
       "      <th>RDKit</th>\n",
       "      <th>1024ecfp-4</th>\n",
       "      <th>1024ecfp-6</th>\n",
       "      <th>2048ecfp-4</th>\n",
       "      <th>2048ecfp-6</th>\n",
       "      <th>1024ecfp-4 + RDKit</th>\n",
       "      <th>1024ecfp-6 + RDKit</th>\n",
       "      <th>2048ecfp-4 + RDKit</th>\n",
       "      <th>2048ecfp-6 + RDKit</th>\n",
       "    </tr>\n",
       "  </thead>\n",
       "  <tbody>\n",
       "    <tr>\n",
       "      <th>rf</th>\n",
       "      <td>0.23</td>\n",
       "      <td>0.48</td>\n",
       "      <td>0.46</td>\n",
       "      <td>0.47</td>\n",
       "      <td>0.45</td>\n",
       "      <td>0.23</td>\n",
       "      <td>0.24</td>\n",
       "      <td>0.23</td>\n",
       "      <td>0.23</td>\n",
       "    </tr>\n",
       "    <tr>\n",
       "      <th>xgb</th>\n",
       "      <td>0.03</td>\n",
       "      <td>0.28</td>\n",
       "      <td>0.56</td>\n",
       "      <td>0.46</td>\n",
       "      <td>0.22</td>\n",
       "      <td>0.30</td>\n",
       "      <td>0.13</td>\n",
       "      <td>0.03</td>\n",
       "      <td>0.15</td>\n",
       "    </tr>\n",
       "    <tr>\n",
       "      <th>krr</th>\n",
       "      <td>0.09</td>\n",
       "      <td>0.26</td>\n",
       "      <td>0.17</td>\n",
       "      <td>0.25</td>\n",
       "      <td>0.17</td>\n",
       "      <td>0.06</td>\n",
       "      <td>0.04</td>\n",
       "      <td>0.07</td>\n",
       "      <td>0.03</td>\n",
       "    </tr>\n",
       "    <tr>\n",
       "      <th>gp</th>\n",
       "      <td>0.18</td>\n",
       "      <td>1.17</td>\n",
       "      <td>1.18</td>\n",
       "      <td>1.31</td>\n",
       "      <td>0.19</td>\n",
       "      <td>0.25</td>\n",
       "      <td>0.22</td>\n",
       "      <td>0.27</td>\n",
       "      <td>0.27</td>\n",
       "    </tr>\n",
       "  </tbody>\n",
       "</table>\n",
       "</div>"
      ],
      "text/plain": [
       "     RDKit  1024ecfp-4  1024ecfp-6  2048ecfp-4  2048ecfp-6  \\\n",
       "rf    0.23        0.48        0.46        0.47        0.45   \n",
       "xgb   0.03        0.28        0.56        0.46        0.22   \n",
       "krr   0.09        0.26        0.17        0.25        0.17   \n",
       "gp    0.18        1.17        1.18        1.31        0.19   \n",
       "\n",
       "     1024ecfp-4 + RDKit  1024ecfp-6 + RDKit  2048ecfp-4 + RDKit  \\\n",
       "rf                 0.23                0.24                0.23   \n",
       "xgb                0.30                0.13                0.03   \n",
       "krr                0.06                0.04                0.07   \n",
       "gp                 0.25                0.22                0.27   \n",
       "\n",
       "     2048ecfp-6 + RDKit  \n",
       "rf                 0.23  \n",
       "xgb                0.15  \n",
       "krr                0.03  \n",
       "gp                 0.27  "
      ]
     },
     "execution_count": 27,
     "metadata": {},
     "output_type": "execute_result"
    }
   ],
   "source": [
    "## pull out train scores for all features for all models (train set is the train set when working on train/test split )\n",
    "train_metric = pd.DataFrame({features: {model: mean_train_test_scores[features][model][f'train_{metric}'] for model in mean_train_test_scores[features]} for features in mean_train_test_scores})\n",
    "\n",
    "print(metric, ':',metrics_to_labels[metric], ', unit:', datasets_to_units[dataset])\n",
    "train_metric.round(2)"
   ]
  },
  {
   "cell_type": "code",
   "execution_count": 28,
   "metadata": {},
   "outputs": [
    {
     "name": "stdout",
     "output_type": "stream",
     "text": [
      "RMSE : root-mean-square error , unit: (mol/litre)\n"
     ]
    },
    {
     "data": {
      "text/html": [
       "<div>\n",
       "<style scoped>\n",
       "    .dataframe tbody tr th:only-of-type {\n",
       "        vertical-align: middle;\n",
       "    }\n",
       "\n",
       "    .dataframe tbody tr th {\n",
       "        vertical-align: top;\n",
       "    }\n",
       "\n",
       "    .dataframe thead th {\n",
       "        text-align: right;\n",
       "    }\n",
       "</style>\n",
       "<table border=\"1\" class=\"dataframe\">\n",
       "  <thead>\n",
       "    <tr style=\"text-align: right;\">\n",
       "      <th></th>\n",
       "      <th>RDKit</th>\n",
       "      <th>1024ecfp-4</th>\n",
       "      <th>1024ecfp-6</th>\n",
       "      <th>2048ecfp-4</th>\n",
       "      <th>2048ecfp-6</th>\n",
       "      <th>1024ecfp-4 + RDKit</th>\n",
       "      <th>1024ecfp-6 + RDKit</th>\n",
       "      <th>2048ecfp-4 + RDKit</th>\n",
       "      <th>2048ecfp-6 + RDKit</th>\n",
       "    </tr>\n",
       "  </thead>\n",
       "  <tbody>\n",
       "    <tr>\n",
       "      <th>gpflow</th>\n",
       "      <td>None</td>\n",
       "      <td>0.37</td>\n",
       "      <td>0.27</td>\n",
       "      <td>0.36</td>\n",
       "      <td>0.26</td>\n",
       "      <td>None</td>\n",
       "      <td>None</td>\n",
       "      <td>None</td>\n",
       "      <td>None</td>\n",
       "    </tr>\n",
       "  </tbody>\n",
       "</table>\n",
       "</div>"
      ],
      "text/plain": [
       "       RDKit  1024ecfp-4  1024ecfp-6  2048ecfp-4  2048ecfp-6  \\\n",
       "gpflow  None        0.37        0.27        0.36        0.26   \n",
       "\n",
       "       1024ecfp-4 + RDKit 1024ecfp-6 + RDKit 2048ecfp-4 + RDKit  \\\n",
       "gpflow               None               None               None   \n",
       "\n",
       "       2048ecfp-6 + RDKit  \n",
       "gpflow               None  "
      ]
     },
     "execution_count": 28,
     "metadata": {},
     "output_type": "execute_result"
    }
   ],
   "source": [
    "gpflow_train_metric = {features: {'gpflow': gpflow_mean_train_test_scores[features][f'train_{metric}']} for features in gpflow_mean_train_test_scores}\n",
    "for features in train_metric:\n",
    "    if features not in gpflow_train_metric:\n",
    "        gpflow_train_metric[features] = {}\n",
    "        gpflow_train_metric[features]['gpflow'] = None\n",
    "gpflow_train_metric = pd.DataFrame(gpflow_train_metric)[train_metric.columns]\n",
    "\n",
    "print(metric, ':',metrics_to_labels[metric], ', unit:', datasets_to_units[dataset])\n",
    "gpflow_train_metric.round(2)"
   ]
  },
  {
   "cell_type": "code",
   "execution_count": 29,
   "metadata": {},
   "outputs": [
    {
     "data": {
      "text/html": [
       "<div>\n",
       "<style scoped>\n",
       "    .dataframe tbody tr th:only-of-type {\n",
       "        vertical-align: middle;\n",
       "    }\n",
       "\n",
       "    .dataframe tbody tr th {\n",
       "        vertical-align: top;\n",
       "    }\n",
       "\n",
       "    .dataframe thead th {\n",
       "        text-align: right;\n",
       "    }\n",
       "</style>\n",
       "<table border=\"1\" class=\"dataframe\">\n",
       "  <thead>\n",
       "    <tr style=\"text-align: right;\">\n",
       "      <th></th>\n",
       "      <th>RDKit</th>\n",
       "      <th>1024ecfp-4</th>\n",
       "      <th>1024ecfp-6</th>\n",
       "      <th>2048ecfp-4</th>\n",
       "      <th>2048ecfp-6</th>\n",
       "      <th>1024ecfp-4 + RDKit</th>\n",
       "      <th>1024ecfp-6 + RDKit</th>\n",
       "      <th>2048ecfp-4 + RDKit</th>\n",
       "      <th>2048ecfp-6 + RDKit</th>\n",
       "    </tr>\n",
       "  </thead>\n",
       "  <tbody>\n",
       "    <tr>\n",
       "      <th>rf</th>\n",
       "      <td>0.23</td>\n",
       "      <td>0.48</td>\n",
       "      <td>0.46</td>\n",
       "      <td>0.47</td>\n",
       "      <td>0.45</td>\n",
       "      <td>0.23</td>\n",
       "      <td>0.24</td>\n",
       "      <td>0.23</td>\n",
       "      <td>0.23</td>\n",
       "    </tr>\n",
       "    <tr>\n",
       "      <th>xgb</th>\n",
       "      <td>0.03</td>\n",
       "      <td>0.28</td>\n",
       "      <td>0.56</td>\n",
       "      <td>0.46</td>\n",
       "      <td>0.22</td>\n",
       "      <td>0.30</td>\n",
       "      <td>0.13</td>\n",
       "      <td>0.03</td>\n",
       "      <td>0.15</td>\n",
       "    </tr>\n",
       "    <tr>\n",
       "      <th>krr</th>\n",
       "      <td>0.09</td>\n",
       "      <td>0.26</td>\n",
       "      <td>0.17</td>\n",
       "      <td>0.25</td>\n",
       "      <td>0.17</td>\n",
       "      <td>0.06</td>\n",
       "      <td>0.04</td>\n",
       "      <td>0.07</td>\n",
       "      <td>0.03</td>\n",
       "    </tr>\n",
       "    <tr>\n",
       "      <th>gp</th>\n",
       "      <td>0.18</td>\n",
       "      <td>1.17</td>\n",
       "      <td>1.18</td>\n",
       "      <td>1.31</td>\n",
       "      <td>0.19</td>\n",
       "      <td>0.25</td>\n",
       "      <td>0.22</td>\n",
       "      <td>0.27</td>\n",
       "      <td>0.27</td>\n",
       "    </tr>\n",
       "    <tr>\n",
       "      <th>gpflow</th>\n",
       "      <td>NaN</td>\n",
       "      <td>0.37</td>\n",
       "      <td>0.27</td>\n",
       "      <td>0.36</td>\n",
       "      <td>0.26</td>\n",
       "      <td>NaN</td>\n",
       "      <td>NaN</td>\n",
       "      <td>NaN</td>\n",
       "      <td>NaN</td>\n",
       "    </tr>\n",
       "  </tbody>\n",
       "</table>\n",
       "</div>"
      ],
      "text/plain": [
       "        RDKit  1024ecfp-4  1024ecfp-6  2048ecfp-4  2048ecfp-6  \\\n",
       "rf       0.23        0.48        0.46        0.47        0.45   \n",
       "xgb      0.03        0.28        0.56        0.46        0.22   \n",
       "krr      0.09        0.26        0.17        0.25        0.17   \n",
       "gp       0.18        1.17        1.18        1.31        0.19   \n",
       "gpflow    NaN        0.37        0.27        0.36        0.26   \n",
       "\n",
       "        1024ecfp-4 + RDKit  1024ecfp-6 + RDKit  2048ecfp-4 + RDKit  \\\n",
       "rf                    0.23                0.24                0.23   \n",
       "xgb                   0.30                0.13                0.03   \n",
       "krr                   0.06                0.04                0.07   \n",
       "gp                    0.25                0.22                0.27   \n",
       "gpflow                 NaN                 NaN                 NaN   \n",
       "\n",
       "        2048ecfp-6 + RDKit  \n",
       "rf                    0.23  \n",
       "xgb                   0.15  \n",
       "krr                   0.03  \n",
       "gp                    0.27  \n",
       "gpflow                 NaN  "
      ]
     },
     "execution_count": 29,
     "metadata": {},
     "output_type": "execute_result"
    }
   ],
   "source": [
    "combined_train_metric = pd.concat([train_metric, gpflow_train_metric])\n",
    "combined_train_metric.round(2)"
   ]
  },
  {
   "cell_type": "code",
   "execution_count": 30,
   "metadata": {
    "colab": {},
    "colab_type": "code",
    "id": "4iiKcCOMObYM",
    "outputId": "e973f26c-605b-4c34-d8c0-56b4ec602627"
   },
   "outputs": [
    {
     "data": {
      "image/png": "[encoded data removed]",
      "text/plain": [
       "<Figure size 576x432 with 2 Axes>"
      ]
     },
     "metadata": {
      "needs_background": "light"
     },
     "output_type": "display_data"
    }
   ],
   "source": [
    "df = combined_train_metric.round(2)\n",
    "df = df.rename(mapper=mapper, axis='rows')\n",
    "df = df.loc[row_order, column_order]\n",
    "\n",
    "plot_algorithm_dataset_comparison_heatmap(df, dataset=dataset, metric=metric)\n",
    "\n",
    "# fig.savefig(f'{PLOTS_DIR}/algorithm_comparison.jpg', dpi=350, bbox_inches='tight')\n",
    "plt.show()"
   ]
  },
  {
   "cell_type": "markdown",
   "metadata": {
    "colab_type": "text",
    "id": "bL8eEAnWAQVI"
   },
   "source": [
    "## Val metric"
   ]
  },
  {
   "cell_type": "markdown",
   "metadata": {},
   "source": [
    "### Scikit-Learn"
   ]
  },
  {
   "cell_type": "code",
   "execution_count": 31,
   "metadata": {
    "colab": {},
    "colab_type": "code",
    "id": "KhoOQLCFObYP",
    "outputId": "42aa4335-580b-4444-c3a1-50e83b83f258"
   },
   "outputs": [
    {
     "name": "stdout",
     "output_type": "stream",
     "text": [
      "RMSE : root-mean-square error , unit: (mol/litre)\n"
     ]
    },
    {
     "data": {
      "text/html": [
       "<div>\n",
       "<style scoped>\n",
       "    .dataframe tbody tr th:only-of-type {\n",
       "        vertical-align: middle;\n",
       "    }\n",
       "\n",
       "    .dataframe tbody tr th {\n",
       "        vertical-align: top;\n",
       "    }\n",
       "\n",
       "    .dataframe thead th {\n",
       "        text-align: right;\n",
       "    }\n",
       "</style>\n",
       "<table border=\"1\" class=\"dataframe\">\n",
       "  <thead>\n",
       "    <tr style=\"text-align: right;\">\n",
       "      <th></th>\n",
       "      <th>RDKit</th>\n",
       "      <th>1024ecfp-4</th>\n",
       "      <th>1024ecfp-6</th>\n",
       "      <th>2048ecfp-4</th>\n",
       "      <th>2048ecfp-6</th>\n",
       "      <th>1024ecfp-4 + RDKit</th>\n",
       "      <th>1024ecfp-6 + RDKit</th>\n",
       "      <th>2048ecfp-4 + RDKit</th>\n",
       "      <th>2048ecfp-6 + RDKit</th>\n",
       "    </tr>\n",
       "  </thead>\n",
       "  <tbody>\n",
       "    <tr>\n",
       "      <th>rf</th>\n",
       "      <td>0.60</td>\n",
       "      <td>1.24</td>\n",
       "      <td>1.26</td>\n",
       "      <td>1.23</td>\n",
       "      <td>1.25</td>\n",
       "      <td>0.60</td>\n",
       "      <td>0.61</td>\n",
       "      <td>0.60</td>\n",
       "      <td>0.61</td>\n",
       "    </tr>\n",
       "    <tr>\n",
       "      <th>xgb</th>\n",
       "      <td>0.55</td>\n",
       "      <td>1.20</td>\n",
       "      <td>1.20</td>\n",
       "      <td>1.19</td>\n",
       "      <td>1.22</td>\n",
       "      <td>0.58</td>\n",
       "      <td>0.57</td>\n",
       "      <td>0.59</td>\n",
       "      <td>0.60</td>\n",
       "    </tr>\n",
       "    <tr>\n",
       "      <th>krr</th>\n",
       "      <td>0.82</td>\n",
       "      <td>1.83</td>\n",
       "      <td>1.77</td>\n",
       "      <td>1.86</td>\n",
       "      <td>2.06</td>\n",
       "      <td>1.39</td>\n",
       "      <td>1.32</td>\n",
       "      <td>1.46</td>\n",
       "      <td>1.71</td>\n",
       "    </tr>\n",
       "    <tr>\n",
       "      <th>gp</th>\n",
       "      <td>0.60</td>\n",
       "      <td>1.62</td>\n",
       "      <td>1.59</td>\n",
       "      <td>1.71</td>\n",
       "      <td>1.91</td>\n",
       "      <td>0.79</td>\n",
       "      <td>0.75</td>\n",
       "      <td>0.84</td>\n",
       "      <td>0.92</td>\n",
       "    </tr>\n",
       "  </tbody>\n",
       "</table>\n",
       "</div>"
      ],
      "text/plain": [
       "     RDKit  1024ecfp-4  1024ecfp-6  2048ecfp-4  2048ecfp-6  \\\n",
       "rf    0.60        1.24        1.26        1.23        1.25   \n",
       "xgb   0.55        1.20        1.20        1.19        1.22   \n",
       "krr   0.82        1.83        1.77        1.86        2.06   \n",
       "gp    0.60        1.62        1.59        1.71        1.91   \n",
       "\n",
       "     1024ecfp-4 + RDKit  1024ecfp-6 + RDKit  2048ecfp-4 + RDKit  \\\n",
       "rf                 0.60                0.61                0.60   \n",
       "xgb                0.58                0.57                0.59   \n",
       "krr                1.39                1.32                1.46   \n",
       "gp                 0.79                0.75                0.84   \n",
       "\n",
       "     2048ecfp-6 + RDKit  \n",
       "rf                 0.61  \n",
       "xgb                0.60  \n",
       "krr                1.71  \n",
       "gp                 0.92  "
      ]
     },
     "execution_count": 31,
     "metadata": {},
     "output_type": "execute_result"
    }
   ],
   "source": [
    "## pull out validation scores for all features for all models (validation set is a test set when working on train/val split )\n",
    "val_metric = pd.DataFrame({features: {model: mean_val_scores[features][model][f'test_{metric}'] for model in mean_val_scores[features]} for features in mean_val_scores})\n",
    "\n",
    "print(metric, ':',metrics_to_labels[metric], ', unit:', datasets_to_units[dataset])\n",
    "val_metric.round(2)"
   ]
  },
  {
   "cell_type": "markdown",
   "metadata": {},
   "source": [
    "### GPflow"
   ]
  },
  {
   "cell_type": "code",
   "execution_count": 32,
   "metadata": {},
   "outputs": [
    {
     "name": "stdout",
     "output_type": "stream",
     "text": [
      "RMSE : root-mean-square error , unit: (mol/litre)\n"
     ]
    },
    {
     "data": {
      "text/html": [
       "<div>\n",
       "<style scoped>\n",
       "    .dataframe tbody tr th:only-of-type {\n",
       "        vertical-align: middle;\n",
       "    }\n",
       "\n",
       "    .dataframe tbody tr th {\n",
       "        vertical-align: top;\n",
       "    }\n",
       "\n",
       "    .dataframe thead th {\n",
       "        text-align: right;\n",
       "    }\n",
       "</style>\n",
       "<table border=\"1\" class=\"dataframe\">\n",
       "  <thead>\n",
       "    <tr style=\"text-align: right;\">\n",
       "      <th></th>\n",
       "      <th>RDKit</th>\n",
       "      <th>1024ecfp-4</th>\n",
       "      <th>1024ecfp-6</th>\n",
       "      <th>2048ecfp-4</th>\n",
       "      <th>2048ecfp-6</th>\n",
       "      <th>1024ecfp-4 + RDKit</th>\n",
       "      <th>1024ecfp-6 + RDKit</th>\n",
       "      <th>2048ecfp-4 + RDKit</th>\n",
       "      <th>2048ecfp-6 + RDKit</th>\n",
       "    </tr>\n",
       "  </thead>\n",
       "  <tbody>\n",
       "    <tr>\n",
       "      <th>gpflow</th>\n",
       "      <td>None</td>\n",
       "      <td>1.01</td>\n",
       "      <td>1.05</td>\n",
       "      <td>1.0</td>\n",
       "      <td>1.02</td>\n",
       "      <td>None</td>\n",
       "      <td>None</td>\n",
       "      <td>None</td>\n",
       "      <td>None</td>\n",
       "    </tr>\n",
       "  </tbody>\n",
       "</table>\n",
       "</div>"
      ],
      "text/plain": [
       "       RDKit  1024ecfp-4  1024ecfp-6  2048ecfp-4  2048ecfp-6  \\\n",
       "gpflow  None        1.01        1.05         1.0        1.02   \n",
       "\n",
       "       1024ecfp-4 + RDKit 1024ecfp-6 + RDKit 2048ecfp-4 + RDKit  \\\n",
       "gpflow               None               None               None   \n",
       "\n",
       "       2048ecfp-6 + RDKit  \n",
       "gpflow               None  "
      ]
     },
     "execution_count": 32,
     "metadata": {},
     "output_type": "execute_result"
    }
   ],
   "source": [
    "gpflow_val_metric = {features: {'gpflow': gpflow_mean_val_scores[features][f'test_{metric}']} for features in gpflow_mean_val_scores}\n",
    "for features in val_metric:\n",
    "    if features not in gpflow_val_metric:\n",
    "        gpflow_val_metric[features] = {}\n",
    "        gpflow_val_metric[features]['gpflow'] = None\n",
    "gpflow_val_metric = pd.DataFrame(gpflow_val_metric)[val_metric.columns]\n",
    "\n",
    "print(metric, ':',metrics_to_labels[metric], ', unit:', datasets_to_units[dataset])\n",
    "gpflow_val_metric.round(2)"
   ]
  },
  {
   "cell_type": "markdown",
   "metadata": {},
   "source": [
    "### Combined"
   ]
  },
  {
   "cell_type": "code",
   "execution_count": 33,
   "metadata": {},
   "outputs": [
    {
     "data": {
      "text/html": [
       "<div>\n",
       "<style scoped>\n",
       "    .dataframe tbody tr th:only-of-type {\n",
       "        vertical-align: middle;\n",
       "    }\n",
       "\n",
       "    .dataframe tbody tr th {\n",
       "        vertical-align: top;\n",
       "    }\n",
       "\n",
       "    .dataframe thead th {\n",
       "        text-align: right;\n",
       "    }\n",
       "</style>\n",
       "<table border=\"1\" class=\"dataframe\">\n",
       "  <thead>\n",
       "    <tr style=\"text-align: right;\">\n",
       "      <th></th>\n",
       "      <th>RDKit</th>\n",
       "      <th>1024ecfp-4</th>\n",
       "      <th>1024ecfp-6</th>\n",
       "      <th>2048ecfp-4</th>\n",
       "      <th>2048ecfp-6</th>\n",
       "      <th>1024ecfp-4 + RDKit</th>\n",
       "      <th>1024ecfp-6 + RDKit</th>\n",
       "      <th>2048ecfp-4 + RDKit</th>\n",
       "      <th>2048ecfp-6 + RDKit</th>\n",
       "    </tr>\n",
       "  </thead>\n",
       "  <tbody>\n",
       "    <tr>\n",
       "      <th>rf</th>\n",
       "      <td>0.60</td>\n",
       "      <td>1.24</td>\n",
       "      <td>1.26</td>\n",
       "      <td>1.23</td>\n",
       "      <td>1.25</td>\n",
       "      <td>0.60</td>\n",
       "      <td>0.61</td>\n",
       "      <td>0.60</td>\n",
       "      <td>0.61</td>\n",
       "    </tr>\n",
       "    <tr>\n",
       "      <th>xgb</th>\n",
       "      <td>0.55</td>\n",
       "      <td>1.20</td>\n",
       "      <td>1.20</td>\n",
       "      <td>1.19</td>\n",
       "      <td>1.22</td>\n",
       "      <td>0.58</td>\n",
       "      <td>0.57</td>\n",
       "      <td>0.59</td>\n",
       "      <td>0.60</td>\n",
       "    </tr>\n",
       "    <tr>\n",
       "      <th>krr</th>\n",
       "      <td>0.82</td>\n",
       "      <td>1.83</td>\n",
       "      <td>1.77</td>\n",
       "      <td>1.86</td>\n",
       "      <td>2.06</td>\n",
       "      <td>1.39</td>\n",
       "      <td>1.32</td>\n",
       "      <td>1.46</td>\n",
       "      <td>1.71</td>\n",
       "    </tr>\n",
       "    <tr>\n",
       "      <th>gp</th>\n",
       "      <td>0.60</td>\n",
       "      <td>1.62</td>\n",
       "      <td>1.59</td>\n",
       "      <td>1.71</td>\n",
       "      <td>1.91</td>\n",
       "      <td>0.79</td>\n",
       "      <td>0.75</td>\n",
       "      <td>0.84</td>\n",
       "      <td>0.92</td>\n",
       "    </tr>\n",
       "    <tr>\n",
       "      <th>gpflow</th>\n",
       "      <td>NaN</td>\n",
       "      <td>1.01</td>\n",
       "      <td>1.05</td>\n",
       "      <td>1.00</td>\n",
       "      <td>1.02</td>\n",
       "      <td>NaN</td>\n",
       "      <td>NaN</td>\n",
       "      <td>NaN</td>\n",
       "      <td>NaN</td>\n",
       "    </tr>\n",
       "  </tbody>\n",
       "</table>\n",
       "</div>"
      ],
      "text/plain": [
       "        RDKit  1024ecfp-4  1024ecfp-6  2048ecfp-4  2048ecfp-6  \\\n",
       "rf       0.60        1.24        1.26        1.23        1.25   \n",
       "xgb      0.55        1.20        1.20        1.19        1.22   \n",
       "krr      0.82        1.83        1.77        1.86        2.06   \n",
       "gp       0.60        1.62        1.59        1.71        1.91   \n",
       "gpflow    NaN        1.01        1.05        1.00        1.02   \n",
       "\n",
       "        1024ecfp-4 + RDKit  1024ecfp-6 + RDKit  2048ecfp-4 + RDKit  \\\n",
       "rf                    0.60                0.61                0.60   \n",
       "xgb                   0.58                0.57                0.59   \n",
       "krr                   1.39                1.32                1.46   \n",
       "gp                    0.79                0.75                0.84   \n",
       "gpflow                 NaN                 NaN                 NaN   \n",
       "\n",
       "        2048ecfp-6 + RDKit  \n",
       "rf                    0.61  \n",
       "xgb                   0.60  \n",
       "krr                   1.71  \n",
       "gp                    0.92  \n",
       "gpflow                 NaN  "
      ]
     },
     "execution_count": 33,
     "metadata": {},
     "output_type": "execute_result"
    }
   ],
   "source": [
    "combined_val_metric = pd.concat([val_metric, gpflow_val_metric])\n",
    "combined_val_metric.round(2)"
   ]
  },
  {
   "cell_type": "markdown",
   "metadata": {},
   "source": [
    "### Heatmap"
   ]
  },
  {
   "cell_type": "code",
   "execution_count": 34,
   "metadata": {
    "colab": {},
    "colab_type": "code",
    "id": "eMiuZLM0ObYS",
    "outputId": "b8cf8667-05e8-4394-cf88-19c3605f9b5e"
   },
   "outputs": [
    {
     "data": {
      "image/png": "[encoded data removed]",
      "text/plain": [
       "<Figure size 576x432 with 2 Axes>"
      ]
     },
     "metadata": {
      "needs_background": "light"
     },
     "output_type": "display_data"
    }
   ],
   "source": [
    "df = combined_val_metric\n",
    "df = df.rename(mapper=mapper, axis='rows')\n",
    "df = df.loc[row_order, column_order]\n",
    "\n",
    "plot_algorithm_dataset_comparison_heatmap(df, dataset=dataset, metric=metric)\n",
    "\n",
    "# fig.savefig(f'{PLOTS_DIR}/algorithm_comparison.jpg', dpi=350, bbox_inches='tight')\n",
    "plt.show()"
   ]
  },
  {
   "cell_type": "code",
   "execution_count": 35,
   "metadata": {
    "colab": {},
    "colab_type": "code",
    "id": "P19bb1lXX2XT",
    "outputId": "94d3c9a1-2ac9-4b08-93fc-b25a0b848073"
   },
   "outputs": [
    {
     "data": {
      "text/html": [
       "<div>\n",
       "<style scoped>\n",
       "    .dataframe tbody tr th:only-of-type {\n",
       "        vertical-align: middle;\n",
       "    }\n",
       "\n",
       "    .dataframe tbody tr th {\n",
       "        vertical-align: top;\n",
       "    }\n",
       "\n",
       "    .dataframe thead th {\n",
       "        text-align: right;\n",
       "    }\n",
       "</style>\n",
       "<table border=\"1\" class=\"dataframe\">\n",
       "  <thead>\n",
       "    <tr style=\"text-align: right;\">\n",
       "      <th></th>\n",
       "      <th>RDKit</th>\n",
       "      <th>1024ecfp-4</th>\n",
       "      <th>1024ecfp-6</th>\n",
       "      <th>2048ecfp-4</th>\n",
       "      <th>2048ecfp-6</th>\n",
       "      <th>1024ecfp-4 + RDKit</th>\n",
       "      <th>1024ecfp-6 + RDKit</th>\n",
       "      <th>2048ecfp-4 + RDKit</th>\n",
       "      <th>2048ecfp-6 + RDKit</th>\n",
       "    </tr>\n",
       "  </thead>\n",
       "  <tbody>\n",
       "    <tr>\n",
       "      <th>rf</th>\n",
       "      <td>0.600959</td>\n",
       "      <td>1.242268</td>\n",
       "      <td>1.263004</td>\n",
       "      <td>1.232053</td>\n",
       "      <td>1.247590</td>\n",
       "      <td>0.601850</td>\n",
       "      <td>0.610560</td>\n",
       "      <td>0.603127</td>\n",
       "      <td>0.611924</td>\n",
       "    </tr>\n",
       "    <tr>\n",
       "      <th>xgb</th>\n",
       "      <td>0.550116</td>\n",
       "      <td>1.196102</td>\n",
       "      <td>1.200491</td>\n",
       "      <td>1.187169</td>\n",
       "      <td>1.221795</td>\n",
       "      <td>0.578008</td>\n",
       "      <td>0.568173</td>\n",
       "      <td>0.592631</td>\n",
       "      <td>0.602478</td>\n",
       "    </tr>\n",
       "    <tr>\n",
       "      <th>krr</th>\n",
       "      <td>0.820157</td>\n",
       "      <td>1.831391</td>\n",
       "      <td>1.774324</td>\n",
       "      <td>1.864609</td>\n",
       "      <td>2.062440</td>\n",
       "      <td>1.386677</td>\n",
       "      <td>1.323724</td>\n",
       "      <td>1.463234</td>\n",
       "      <td>1.706109</td>\n",
       "    </tr>\n",
       "    <tr>\n",
       "      <th>gp</th>\n",
       "      <td>0.603975</td>\n",
       "      <td>1.622110</td>\n",
       "      <td>1.588880</td>\n",
       "      <td>1.708997</td>\n",
       "      <td>1.914532</td>\n",
       "      <td>0.786074</td>\n",
       "      <td>0.752342</td>\n",
       "      <td>0.838613</td>\n",
       "      <td>0.919331</td>\n",
       "    </tr>\n",
       "    <tr>\n",
       "      <th>gpflow</th>\n",
       "      <td>NaN</td>\n",
       "      <td>1.014397</td>\n",
       "      <td>1.045926</td>\n",
       "      <td>0.997895</td>\n",
       "      <td>1.018233</td>\n",
       "      <td>NaN</td>\n",
       "      <td>NaN</td>\n",
       "      <td>NaN</td>\n",
       "      <td>NaN</td>\n",
       "    </tr>\n",
       "  </tbody>\n",
       "</table>\n",
       "</div>"
      ],
      "text/plain": [
       "           RDKit  1024ecfp-4  1024ecfp-6  2048ecfp-4  2048ecfp-6  \\\n",
       "rf      0.600959    1.242268    1.263004    1.232053    1.247590   \n",
       "xgb     0.550116    1.196102    1.200491    1.187169    1.221795   \n",
       "krr     0.820157    1.831391    1.774324    1.864609    2.062440   \n",
       "gp      0.603975    1.622110    1.588880    1.708997    1.914532   \n",
       "gpflow       NaN    1.014397    1.045926    0.997895    1.018233   \n",
       "\n",
       "        1024ecfp-4 + RDKit  1024ecfp-6 + RDKit  2048ecfp-4 + RDKit  \\\n",
       "rf                0.601850            0.610560            0.603127   \n",
       "xgb               0.578008            0.568173            0.592631   \n",
       "krr               1.386677            1.323724            1.463234   \n",
       "gp                0.786074            0.752342            0.838613   \n",
       "gpflow                 NaN                 NaN                 NaN   \n",
       "\n",
       "        2048ecfp-6 + RDKit  \n",
       "rf                0.611924  \n",
       "xgb               0.602478  \n",
       "krr               1.706109  \n",
       "gp                0.919331  \n",
       "gpflow                 NaN  "
      ]
     },
     "execution_count": 35,
     "metadata": {},
     "output_type": "execute_result"
    }
   ],
   "source": [
    "combined_val_metric"
   ]
  },
  {
   "cell_type": "markdown",
   "metadata": {
    "colab": {},
    "colab_type": "code",
    "id": "1uu77bH6X2XW",
    "outputId": "807ebb25-f485-4528-bf31-b4e895e8b224"
   },
   "source": [
    "### Scikit-Learn best"
   ]
  },
  {
   "cell_type": "code",
   "execution_count": 36,
   "metadata": {},
   "outputs": [
    {
     "name": "stdout",
     "output_type": "stream",
     "text": [
      "xgb RDKit 0.5501161769559048 0.04109036316980578\n",
      "\n",
      "rf RDKit 0.6009593426848229 0.0378305346933809\n",
      "\n",
      "gp RDKit 0.6039751640828205 0.022815318279771506\n",
      "\n",
      "krr RDKit 0.8201574774779243 0.07366423884832891\n",
      "\n"
     ]
    }
   ],
   "source": [
    "best = []\n",
    "for model in val_metric.min(axis=1).sort_values().index:\n",
    "    # get the feature set for which \n",
    "    features = list(val_metric.loc[model, val_metric.loc[model] == val_metric.loc[model].min()].index)[0]\n",
    "    best.append([model, features, mean_val_scores[features][model][f'test_{metric}'], std_val_scores[features][model][f'test_{metric}']])\n",
    "    print(model, features, mean_val_scores[features][model][f'test_{metric}'], std_val_scores[features][model][f'test_{metric}'])\n",
    "    print()"
   ]
  },
  {
   "cell_type": "code",
   "execution_count": 37,
   "metadata": {},
   "outputs": [
    {
     "data": {
      "text/html": [
       "<div>\n",
       "<style scoped>\n",
       "    .dataframe tbody tr th:only-of-type {\n",
       "        vertical-align: middle;\n",
       "    }\n",
       "\n",
       "    .dataframe tbody tr th {\n",
       "        vertical-align: top;\n",
       "    }\n",
       "\n",
       "    .dataframe thead th {\n",
       "        text-align: right;\n",
       "    }\n",
       "</style>\n",
       "<table border=\"1\" class=\"dataframe\">\n",
       "  <thead>\n",
       "    <tr style=\"text-align: right;\">\n",
       "      <th></th>\n",
       "      <th>0</th>\n",
       "      <th>1</th>\n",
       "      <th>2</th>\n",
       "      <th>3</th>\n",
       "    </tr>\n",
       "  </thead>\n",
       "  <tbody>\n",
       "    <tr>\n",
       "      <th>0</th>\n",
       "      <td>xgb</td>\n",
       "      <td>RDKit</td>\n",
       "      <td>0.550116</td>\n",
       "      <td>0.041090</td>\n",
       "    </tr>\n",
       "    <tr>\n",
       "      <th>1</th>\n",
       "      <td>rf</td>\n",
       "      <td>RDKit</td>\n",
       "      <td>0.600959</td>\n",
       "      <td>0.037831</td>\n",
       "    </tr>\n",
       "    <tr>\n",
       "      <th>2</th>\n",
       "      <td>gp</td>\n",
       "      <td>RDKit</td>\n",
       "      <td>0.603975</td>\n",
       "      <td>0.022815</td>\n",
       "    </tr>\n",
       "    <tr>\n",
       "      <th>3</th>\n",
       "      <td>krr</td>\n",
       "      <td>RDKit</td>\n",
       "      <td>0.820157</td>\n",
       "      <td>0.073664</td>\n",
       "    </tr>\n",
       "  </tbody>\n",
       "</table>\n",
       "</div>"
      ],
      "text/plain": [
       "     0      1         2         3\n",
       "0  xgb  RDKit  0.550116  0.041090\n",
       "1   rf  RDKit  0.600959  0.037831\n",
       "2   gp  RDKit  0.603975  0.022815\n",
       "3  krr  RDKit  0.820157  0.073664"
      ]
     },
     "execution_count": 37,
     "metadata": {},
     "output_type": "execute_result"
    }
   ],
   "source": [
    "pd.DataFrame(best)"
   ]
  },
  {
   "cell_type": "code",
   "execution_count": 38,
   "metadata": {},
   "outputs": [
    {
     "data": {
      "text/plain": [
       "'esol'"
      ]
     },
     "execution_count": 38,
     "metadata": {},
     "output_type": "execute_result"
    }
   ],
   "source": [
    "dataset"
   ]
  },
  {
   "cell_type": "markdown",
   "metadata": {},
   "source": [
    "### Combined"
   ]
  },
  {
   "cell_type": "code",
   "execution_count": 39,
   "metadata": {},
   "outputs": [
    {
     "name": "stdout",
     "output_type": "stream",
     "text": [
      "xgb RDKit 0.5501161769559048 0.04109036316980578\n",
      "\n",
      "rf RDKit 0.6009593426848229 0.0378305346933809\n",
      "\n",
      "gp RDKit 0.6039751640828205 0.022815318279771506\n",
      "\n",
      "krr RDKit 0.8201574774779243 0.07366423884832891\n",
      "\n",
      "gpflow 2048ecfp-4 0.997895238019353 0.01684556136298293\n",
      "\n"
     ]
    }
   ],
   "source": [
    "best = []\n",
    "for model in combined_val_metric.min(axis=1).sort_values().index:\n",
    "    # get the feature set for which \n",
    "    features = list(combined_val_metric.loc[model, combined_val_metric.loc[model] == combined_val_metric.loc[model].min()].index)[0]\n",
    "    \n",
    "    if model != 'gpflow':\n",
    "        best.append([model, features, mean_val_scores[features][model][f'test_{metric}'], std_val_scores[features][model][f'test_{metric}']])\n",
    "        print(model, features, mean_val_scores[features][model][f'test_{metric}'], std_val_scores[features][model][f'test_{metric}'])\n",
    "    else:\n",
    "        pass\n",
    "        best.append([model, features, gpflow_mean_val_scores[features][f'test_{metric}'], gpflow_std_val_scores[features][f'test_{metric}']])\n",
    "        print(model, features, gpflow_mean_val_scores[features][f'test_{metric}'], gpflow_std_val_scores[features][f'test_{metric}'])\n",
    "    print()"
   ]
  },
  {
   "cell_type": "code",
   "execution_count": 40,
   "metadata": {},
   "outputs": [
    {
     "data": {
      "text/plain": [
       "('esol', 'original', 'extended', 'full')"
      ]
     },
     "execution_count": 40,
     "metadata": {},
     "output_type": "execute_result"
    }
   ],
   "source": [
    "dataset, smile_type, grid_search_type, cf"
   ]
  },
  {
   "cell_type": "code",
   "execution_count": 41,
   "metadata": {},
   "outputs": [
    {
     "data": {
      "text/html": [
       "<div>\n",
       "<style scoped>\n",
       "    .dataframe tbody tr th:only-of-type {\n",
       "        vertical-align: middle;\n",
       "    }\n",
       "\n",
       "    .dataframe tbody tr th {\n",
       "        vertical-align: top;\n",
       "    }\n",
       "\n",
       "    .dataframe thead th {\n",
       "        text-align: right;\n",
       "    }\n",
       "</style>\n",
       "<table border=\"1\" class=\"dataframe\">\n",
       "  <thead>\n",
       "    <tr style=\"text-align: right;\">\n",
       "      <th></th>\n",
       "      <th>0</th>\n",
       "      <th>1</th>\n",
       "      <th>2</th>\n",
       "      <th>3</th>\n",
       "    </tr>\n",
       "  </thead>\n",
       "  <tbody>\n",
       "    <tr>\n",
       "      <th>0</th>\n",
       "      <td>xgb</td>\n",
       "      <td>RDKit</td>\n",
       "      <td>0.550116</td>\n",
       "      <td>0.041090</td>\n",
       "    </tr>\n",
       "    <tr>\n",
       "      <th>1</th>\n",
       "      <td>rf</td>\n",
       "      <td>RDKit</td>\n",
       "      <td>0.600959</td>\n",
       "      <td>0.037831</td>\n",
       "    </tr>\n",
       "    <tr>\n",
       "      <th>2</th>\n",
       "      <td>gp</td>\n",
       "      <td>RDKit</td>\n",
       "      <td>0.603975</td>\n",
       "      <td>0.022815</td>\n",
       "    </tr>\n",
       "    <tr>\n",
       "      <th>3</th>\n",
       "      <td>krr</td>\n",
       "      <td>RDKit</td>\n",
       "      <td>0.820157</td>\n",
       "      <td>0.073664</td>\n",
       "    </tr>\n",
       "    <tr>\n",
       "      <th>4</th>\n",
       "      <td>gpflow</td>\n",
       "      <td>2048ecfp-4</td>\n",
       "      <td>0.997895</td>\n",
       "      <td>0.016846</td>\n",
       "    </tr>\n",
       "  </tbody>\n",
       "</table>\n",
       "</div>"
      ],
      "text/plain": [
       "        0           1         2         3\n",
       "0     xgb       RDKit  0.550116  0.041090\n",
       "1      rf       RDKit  0.600959  0.037831\n",
       "2      gp       RDKit  0.603975  0.022815\n",
       "3     krr       RDKit  0.820157  0.073664\n",
       "4  gpflow  2048ecfp-4  0.997895  0.016846"
      ]
     },
     "execution_count": 41,
     "metadata": {},
     "output_type": "execute_result"
    }
   ],
   "source": [
    "pd.DataFrame(best)"
   ]
  },
  {
   "cell_type": "markdown",
   "metadata": {
    "colab_type": "text",
    "id": "fUJDK2qLAQVP"
   },
   "source": [
    "## Test metric"
   ]
  },
  {
   "cell_type": "markdown",
   "metadata": {},
   "source": [
    "### Scikit-Learn"
   ]
  },
  {
   "cell_type": "code",
   "execution_count": 42,
   "metadata": {
    "colab": {},
    "colab_type": "code",
    "id": "1Npsyrn0ObYV",
    "outputId": "692f88c5-1e1f-4424-979a-8db0907141ad"
   },
   "outputs": [
    {
     "name": "stdout",
     "output_type": "stream",
     "text": [
      "RMSE : root-mean-square error , unit: (mol/litre)\n"
     ]
    },
    {
     "data": {
      "text/html": [
       "<div>\n",
       "<style scoped>\n",
       "    .dataframe tbody tr th:only-of-type {\n",
       "        vertical-align: middle;\n",
       "    }\n",
       "\n",
       "    .dataframe tbody tr th {\n",
       "        vertical-align: top;\n",
       "    }\n",
       "\n",
       "    .dataframe thead th {\n",
       "        text-align: right;\n",
       "    }\n",
       "</style>\n",
       "<table border=\"1\" class=\"dataframe\">\n",
       "  <thead>\n",
       "    <tr style=\"text-align: right;\">\n",
       "      <th></th>\n",
       "      <th>RDKit</th>\n",
       "      <th>1024ecfp-4</th>\n",
       "      <th>1024ecfp-6</th>\n",
       "      <th>2048ecfp-4</th>\n",
       "      <th>2048ecfp-6</th>\n",
       "      <th>1024ecfp-4 + RDKit</th>\n",
       "      <th>1024ecfp-6 + RDKit</th>\n",
       "      <th>2048ecfp-4 + RDKit</th>\n",
       "      <th>2048ecfp-6 + RDKit</th>\n",
       "    </tr>\n",
       "  </thead>\n",
       "  <tbody>\n",
       "    <tr>\n",
       "      <th>rf</th>\n",
       "      <td>0.67</td>\n",
       "      <td>1.21</td>\n",
       "      <td>1.23</td>\n",
       "      <td>1.20</td>\n",
       "      <td>1.18</td>\n",
       "      <td>0.67</td>\n",
       "      <td>0.68</td>\n",
       "      <td>0.67</td>\n",
       "      <td>0.68</td>\n",
       "    </tr>\n",
       "    <tr>\n",
       "      <th>xgb</th>\n",
       "      <td>0.64</td>\n",
       "      <td>1.24</td>\n",
       "      <td>1.19</td>\n",
       "      <td>1.18</td>\n",
       "      <td>1.13</td>\n",
       "      <td>0.63</td>\n",
       "      <td>0.61</td>\n",
       "      <td>0.63</td>\n",
       "      <td>0.68</td>\n",
       "    </tr>\n",
       "    <tr>\n",
       "      <th>krr</th>\n",
       "      <td>0.87</td>\n",
       "      <td>1.86</td>\n",
       "      <td>1.75</td>\n",
       "      <td>1.94</td>\n",
       "      <td>2.02</td>\n",
       "      <td>1.52</td>\n",
       "      <td>1.39</td>\n",
       "      <td>1.68</td>\n",
       "      <td>1.78</td>\n",
       "    </tr>\n",
       "    <tr>\n",
       "      <th>gp</th>\n",
       "      <td>0.66</td>\n",
       "      <td>1.64</td>\n",
       "      <td>1.61</td>\n",
       "      <td>1.78</td>\n",
       "      <td>1.89</td>\n",
       "      <td>0.87</td>\n",
       "      <td>0.83</td>\n",
       "      <td>1.00</td>\n",
       "      <td>1.00</td>\n",
       "    </tr>\n",
       "  </tbody>\n",
       "</table>\n",
       "</div>"
      ],
      "text/plain": [
       "     RDKit  1024ecfp-4  1024ecfp-6  2048ecfp-4  2048ecfp-6  \\\n",
       "rf    0.67        1.21        1.23        1.20        1.18   \n",
       "xgb   0.64        1.24        1.19        1.18        1.13   \n",
       "krr   0.87        1.86        1.75        1.94        2.02   \n",
       "gp    0.66        1.64        1.61        1.78        1.89   \n",
       "\n",
       "     1024ecfp-4 + RDKit  1024ecfp-6 + RDKit  2048ecfp-4 + RDKit  \\\n",
       "rf                 0.67                0.68                0.67   \n",
       "xgb                0.63                0.61                0.63   \n",
       "krr                1.52                1.39                1.68   \n",
       "gp                 0.87                0.83                1.00   \n",
       "\n",
       "     2048ecfp-6 + RDKit  \n",
       "rf                 0.68  \n",
       "xgb                0.68  \n",
       "krr                1.78  \n",
       "gp                 1.00  "
      ]
     },
     "execution_count": 42,
     "metadata": {},
     "output_type": "execute_result"
    }
   ],
   "source": [
    "## pull out validation scores for all features for all models (validation set is a test set when working on train/val split )\n",
    "test_metric = pd.DataFrame({features: {model: mean_train_test_scores[features][model][f'test_{metric}'] for model in mean_train_test_scores[features]} for features in mean_train_test_scores})\n",
    "\n",
    "print(metric, ':',metrics_to_labels[metric], ', unit:', datasets_to_units[dataset])\n",
    "test_metric.round(2)"
   ]
  },
  {
   "cell_type": "markdown",
   "metadata": {},
   "source": [
    "### GPflow"
   ]
  },
  {
   "cell_type": "code",
   "execution_count": 43,
   "metadata": {},
   "outputs": [
    {
     "name": "stdout",
     "output_type": "stream",
     "text": [
      "RMSE : root-mean-square error , unit: (mol/litre)\n"
     ]
    },
    {
     "data": {
      "text/html": [
       "<div>\n",
       "<style scoped>\n",
       "    .dataframe tbody tr th:only-of-type {\n",
       "        vertical-align: middle;\n",
       "    }\n",
       "\n",
       "    .dataframe tbody tr th {\n",
       "        vertical-align: top;\n",
       "    }\n",
       "\n",
       "    .dataframe thead th {\n",
       "        text-align: right;\n",
       "    }\n",
       "</style>\n",
       "<table border=\"1\" class=\"dataframe\">\n",
       "  <thead>\n",
       "    <tr style=\"text-align: right;\">\n",
       "      <th></th>\n",
       "      <th>RDKit</th>\n",
       "      <th>1024ecfp-4</th>\n",
       "      <th>1024ecfp-6</th>\n",
       "      <th>2048ecfp-4</th>\n",
       "      <th>2048ecfp-6</th>\n",
       "      <th>1024ecfp-4 + RDKit</th>\n",
       "      <th>1024ecfp-6 + RDKit</th>\n",
       "      <th>2048ecfp-4 + RDKit</th>\n",
       "      <th>2048ecfp-6 + RDKit</th>\n",
       "    </tr>\n",
       "  </thead>\n",
       "  <tbody>\n",
       "    <tr>\n",
       "      <th>gpflow</th>\n",
       "      <td>None</td>\n",
       "      <td>1.07</td>\n",
       "      <td>1.05</td>\n",
       "      <td>1.04</td>\n",
       "      <td>1.03</td>\n",
       "      <td>None</td>\n",
       "      <td>None</td>\n",
       "      <td>None</td>\n",
       "      <td>None</td>\n",
       "    </tr>\n",
       "  </tbody>\n",
       "</table>\n",
       "</div>"
      ],
      "text/plain": [
       "       RDKit  1024ecfp-4  1024ecfp-6  2048ecfp-4  2048ecfp-6  \\\n",
       "gpflow  None        1.07        1.05        1.04        1.03   \n",
       "\n",
       "       1024ecfp-4 + RDKit 1024ecfp-6 + RDKit 2048ecfp-4 + RDKit  \\\n",
       "gpflow               None               None               None   \n",
       "\n",
       "       2048ecfp-6 + RDKit  \n",
       "gpflow               None  "
      ]
     },
     "execution_count": 43,
     "metadata": {},
     "output_type": "execute_result"
    }
   ],
   "source": [
    "gpflow_test_metric = {features: {'gpflow': gpflow_mean_train_test_scores[features][f'test_{metric}']} for features in gpflow_mean_train_test_scores}\n",
    "for features in test_metric:\n",
    "    if features not in gpflow_test_metric:\n",
    "        gpflow_test_metric[features] = {}\n",
    "        gpflow_test_metric[features]['gpflow'] = None\n",
    "gpflow_test_metric = pd.DataFrame(gpflow_test_metric)[test_metric.columns]\n",
    "\n",
    "print(metric, ':',metrics_to_labels[metric], ', unit:', datasets_to_units[dataset])\n",
    "gpflow_test_metric.round(2)"
   ]
  },
  {
   "cell_type": "markdown",
   "metadata": {},
   "source": [
    "### Combined"
   ]
  },
  {
   "cell_type": "code",
   "execution_count": 44,
   "metadata": {},
   "outputs": [
    {
     "data": {
      "text/html": [
       "<div>\n",
       "<style scoped>\n",
       "    .dataframe tbody tr th:only-of-type {\n",
       "        vertical-align: middle;\n",
       "    }\n",
       "\n",
       "    .dataframe tbody tr th {\n",
       "        vertical-align: top;\n",
       "    }\n",
       "\n",
       "    .dataframe thead th {\n",
       "        text-align: right;\n",
       "    }\n",
       "</style>\n",
       "<table border=\"1\" class=\"dataframe\">\n",
       "  <thead>\n",
       "    <tr style=\"text-align: right;\">\n",
       "      <th></th>\n",
       "      <th>RDKit</th>\n",
       "      <th>1024ecfp-4</th>\n",
       "      <th>1024ecfp-6</th>\n",
       "      <th>2048ecfp-4</th>\n",
       "      <th>2048ecfp-6</th>\n",
       "      <th>1024ecfp-4 + RDKit</th>\n",
       "      <th>1024ecfp-6 + RDKit</th>\n",
       "      <th>2048ecfp-4 + RDKit</th>\n",
       "      <th>2048ecfp-6 + RDKit</th>\n",
       "    </tr>\n",
       "  </thead>\n",
       "  <tbody>\n",
       "    <tr>\n",
       "      <th>rf</th>\n",
       "      <td>0.67</td>\n",
       "      <td>1.21</td>\n",
       "      <td>1.23</td>\n",
       "      <td>1.20</td>\n",
       "      <td>1.18</td>\n",
       "      <td>0.67</td>\n",
       "      <td>0.68</td>\n",
       "      <td>0.67</td>\n",
       "      <td>0.68</td>\n",
       "    </tr>\n",
       "    <tr>\n",
       "      <th>xgb</th>\n",
       "      <td>0.64</td>\n",
       "      <td>1.24</td>\n",
       "      <td>1.19</td>\n",
       "      <td>1.18</td>\n",
       "      <td>1.13</td>\n",
       "      <td>0.63</td>\n",
       "      <td>0.61</td>\n",
       "      <td>0.63</td>\n",
       "      <td>0.68</td>\n",
       "    </tr>\n",
       "    <tr>\n",
       "      <th>krr</th>\n",
       "      <td>0.87</td>\n",
       "      <td>1.86</td>\n",
       "      <td>1.75</td>\n",
       "      <td>1.94</td>\n",
       "      <td>2.02</td>\n",
       "      <td>1.52</td>\n",
       "      <td>1.39</td>\n",
       "      <td>1.68</td>\n",
       "      <td>1.78</td>\n",
       "    </tr>\n",
       "    <tr>\n",
       "      <th>gp</th>\n",
       "      <td>0.66</td>\n",
       "      <td>1.64</td>\n",
       "      <td>1.61</td>\n",
       "      <td>1.78</td>\n",
       "      <td>1.89</td>\n",
       "      <td>0.87</td>\n",
       "      <td>0.83</td>\n",
       "      <td>1.00</td>\n",
       "      <td>1.00</td>\n",
       "    </tr>\n",
       "    <tr>\n",
       "      <th>gpflow</th>\n",
       "      <td>NaN</td>\n",
       "      <td>1.07</td>\n",
       "      <td>1.05</td>\n",
       "      <td>1.04</td>\n",
       "      <td>1.03</td>\n",
       "      <td>NaN</td>\n",
       "      <td>NaN</td>\n",
       "      <td>NaN</td>\n",
       "      <td>NaN</td>\n",
       "    </tr>\n",
       "  </tbody>\n",
       "</table>\n",
       "</div>"
      ],
      "text/plain": [
       "        RDKit  1024ecfp-4  1024ecfp-6  2048ecfp-4  2048ecfp-6  \\\n",
       "rf       0.67        1.21        1.23        1.20        1.18   \n",
       "xgb      0.64        1.24        1.19        1.18        1.13   \n",
       "krr      0.87        1.86        1.75        1.94        2.02   \n",
       "gp       0.66        1.64        1.61        1.78        1.89   \n",
       "gpflow    NaN        1.07        1.05        1.04        1.03   \n",
       "\n",
       "        1024ecfp-4 + RDKit  1024ecfp-6 + RDKit  2048ecfp-4 + RDKit  \\\n",
       "rf                    0.67                0.68                0.67   \n",
       "xgb                   0.63                0.61                0.63   \n",
       "krr                   1.52                1.39                1.68   \n",
       "gp                    0.87                0.83                1.00   \n",
       "gpflow                 NaN                 NaN                 NaN   \n",
       "\n",
       "        2048ecfp-6 + RDKit  \n",
       "rf                    0.68  \n",
       "xgb                   0.68  \n",
       "krr                   1.78  \n",
       "gp                    1.00  \n",
       "gpflow                 NaN  "
      ]
     },
     "execution_count": 44,
     "metadata": {},
     "output_type": "execute_result"
    }
   ],
   "source": [
    "combined_test_metric = pd.concat([test_metric, gpflow_test_metric])\n",
    "combined_test_metric.round(2)"
   ]
  },
  {
   "cell_type": "code",
   "execution_count": null,
   "metadata": {},
   "outputs": [],
   "source": []
  },
  {
   "cell_type": "markdown",
   "metadata": {},
   "source": [
    "### Heatmap"
   ]
  },
  {
   "cell_type": "code",
   "execution_count": 68,
   "metadata": {
    "colab": {},
    "colab_type": "code",
    "id": "xLiKrnQAObYY",
    "outputId": "ae3f0a3d-6df0-4473-daef-07fdb6ddbc1c"
   },
   "outputs": [
    {
     "data": {
      "image/png": "[encoded data removed]",
      "text/plain": [
       "<Figure size 576x432 with 2 Axes>"
      ]
     },
     "metadata": {
      "needs_background": "light"
     },
     "output_type": "display_data"
    }
   ],
   "source": [
    "df = combined_test_metric.round(2)\n",
    "df = df.rename(mapper=mapper, axis='rows')\n",
    "df = df.loc[row_order, column_order]\n",
    "\n",
    "plot_algorithm_dataset_comparison_heatmap(df, dataset=dataset, metric=metric)\n",
    "\n",
    "# fig.savefig(f'{PLOTS_DIR}/algorithm_comparison.jpg', dpi=350, bbox_inches='tight')\n",
    "plt.show()"
   ]
  },
  {
   "cell_type": "code",
   "execution_count": 69,
   "metadata": {},
   "outputs": [
    {
     "data": {
      "text/html": [
       "<div>\n",
       "<style scoped>\n",
       "    .dataframe tbody tr th:only-of-type {\n",
       "        vertical-align: middle;\n",
       "    }\n",
       "\n",
       "    .dataframe tbody tr th {\n",
       "        vertical-align: top;\n",
       "    }\n",
       "\n",
       "    .dataframe thead th {\n",
       "        text-align: right;\n",
       "    }\n",
       "</style>\n",
       "<table border=\"1\" class=\"dataframe\">\n",
       "  <thead>\n",
       "    <tr style=\"text-align: right;\">\n",
       "      <th></th>\n",
       "      <th>RDKit</th>\n",
       "      <th>1024ecfp-4</th>\n",
       "      <th>1024ecfp-6</th>\n",
       "      <th>2048ecfp-4</th>\n",
       "      <th>2048ecfp-6</th>\n",
       "      <th>1024ecfp-4 + RDKit</th>\n",
       "      <th>1024ecfp-6 + RDKit</th>\n",
       "      <th>2048ecfp-4 + RDKit</th>\n",
       "      <th>2048ecfp-6 + RDKit</th>\n",
       "    </tr>\n",
       "  </thead>\n",
       "  <tbody>\n",
       "    <tr>\n",
       "      <th>rf</th>\n",
       "      <td>0.674734</td>\n",
       "      <td>1.210020</td>\n",
       "      <td>1.232659</td>\n",
       "      <td>1.196919</td>\n",
       "      <td>1.180997</td>\n",
       "      <td>0.674738</td>\n",
       "      <td>0.679047</td>\n",
       "      <td>0.669048</td>\n",
       "      <td>0.681571</td>\n",
       "    </tr>\n",
       "    <tr>\n",
       "      <th>xgb</th>\n",
       "      <td>0.637167</td>\n",
       "      <td>1.241589</td>\n",
       "      <td>1.191706</td>\n",
       "      <td>1.180189</td>\n",
       "      <td>1.131992</td>\n",
       "      <td>0.634530</td>\n",
       "      <td>0.609122</td>\n",
       "      <td>0.626021</td>\n",
       "      <td>0.679212</td>\n",
       "    </tr>\n",
       "    <tr>\n",
       "      <th>krr</th>\n",
       "      <td>0.874215</td>\n",
       "      <td>1.856633</td>\n",
       "      <td>1.754450</td>\n",
       "      <td>1.941671</td>\n",
       "      <td>2.021473</td>\n",
       "      <td>1.517000</td>\n",
       "      <td>1.391965</td>\n",
       "      <td>1.678236</td>\n",
       "      <td>1.777762</td>\n",
       "    </tr>\n",
       "    <tr>\n",
       "      <th>gp</th>\n",
       "      <td>0.658735</td>\n",
       "      <td>1.643792</td>\n",
       "      <td>1.606907</td>\n",
       "      <td>1.779559</td>\n",
       "      <td>1.894843</td>\n",
       "      <td>0.872197</td>\n",
       "      <td>0.830794</td>\n",
       "      <td>0.998978</td>\n",
       "      <td>1.003112</td>\n",
       "    </tr>\n",
       "    <tr>\n",
       "      <th>gpflow</th>\n",
       "      <td>NaN</td>\n",
       "      <td>1.069009</td>\n",
       "      <td>1.051721</td>\n",
       "      <td>1.043505</td>\n",
       "      <td>1.029373</td>\n",
       "      <td>NaN</td>\n",
       "      <td>NaN</td>\n",
       "      <td>NaN</td>\n",
       "      <td>NaN</td>\n",
       "    </tr>\n",
       "  </tbody>\n",
       "</table>\n",
       "</div>"
      ],
      "text/plain": [
       "           RDKit  1024ecfp-4  1024ecfp-6  2048ecfp-4  2048ecfp-6  \\\n",
       "rf      0.674734    1.210020    1.232659    1.196919    1.180997   \n",
       "xgb     0.637167    1.241589    1.191706    1.180189    1.131992   \n",
       "krr     0.874215    1.856633    1.754450    1.941671    2.021473   \n",
       "gp      0.658735    1.643792    1.606907    1.779559    1.894843   \n",
       "gpflow       NaN    1.069009    1.051721    1.043505    1.029373   \n",
       "\n",
       "        1024ecfp-4 + RDKit  1024ecfp-6 + RDKit  2048ecfp-4 + RDKit  \\\n",
       "rf                0.674738            0.679047            0.669048   \n",
       "xgb               0.634530            0.609122            0.626021   \n",
       "krr               1.517000            1.391965            1.678236   \n",
       "gp                0.872197            0.830794            0.998978   \n",
       "gpflow                 NaN                 NaN                 NaN   \n",
       "\n",
       "        2048ecfp-6 + RDKit  \n",
       "rf                0.681571  \n",
       "xgb               0.679212  \n",
       "krr               1.777762  \n",
       "gp                1.003112  \n",
       "gpflow                 NaN  "
      ]
     },
     "execution_count": 69,
     "metadata": {},
     "output_type": "execute_result"
    }
   ],
   "source": [
    "combined_test_metric"
   ]
  },
  {
   "cell_type": "markdown",
   "metadata": {},
   "source": [
    "## Best feature set for each model"
   ]
  },
  {
   "cell_type": "markdown",
   "metadata": {
    "colab": {},
    "colab_type": "code",
    "id": "1uu77bH6X2XW",
    "outputId": "807ebb25-f485-4528-bf31-b4e895e8b224"
   },
   "source": [
    "### Scikit-Learn"
   ]
  },
  {
   "cell_type": "code",
   "execution_count": 70,
   "metadata": {},
   "outputs": [
    {
     "name": "stdout",
     "output_type": "stream",
     "text": [
      "xgb 1024ecfp-6 + RDKit 0.6091223774168234 0.047678322063773475\n",
      "\n",
      "gp RDKit 0.6587345637068794 0.03190512512700775\n",
      "\n",
      "rf 2048ecfp-4 + RDKit 0.6690484342593243 0.0627873087463154\n",
      "\n",
      "krr RDKit 0.8742146519107542 0.010021229267198725\n",
      "\n"
     ]
    }
   ],
   "source": [
    "best = []\n",
    "for model in test_metric.min(axis=1).sort_values().index:\n",
    "    # get the feature set for which \n",
    "    features = list(test_metric.loc[model, test_metric.loc[model] == test_metric.loc[model].min()].index)[0]\n",
    "    best.append([model, features, mean_train_test_scores[features][model][f'test_{metric}'], std_train_test_scores[features][model][f'test_{metric}']])\n",
    "    print(model, features, mean_train_test_scores[features][model][f'test_{metric}'], std_train_test_scores[features][model][f'test_{metric}'])\n",
    "    print()"
   ]
  },
  {
   "cell_type": "code",
   "execution_count": 71,
   "metadata": {},
   "outputs": [
    {
     "data": {
      "text/html": [
       "<div>\n",
       "<style scoped>\n",
       "    .dataframe tbody tr th:only-of-type {\n",
       "        vertical-align: middle;\n",
       "    }\n",
       "\n",
       "    .dataframe tbody tr th {\n",
       "        vertical-align: top;\n",
       "    }\n",
       "\n",
       "    .dataframe thead th {\n",
       "        text-align: right;\n",
       "    }\n",
       "</style>\n",
       "<table border=\"1\" class=\"dataframe\">\n",
       "  <thead>\n",
       "    <tr style=\"text-align: right;\">\n",
       "      <th></th>\n",
       "      <th>0</th>\n",
       "      <th>1</th>\n",
       "      <th>2</th>\n",
       "      <th>3</th>\n",
       "    </tr>\n",
       "  </thead>\n",
       "  <tbody>\n",
       "    <tr>\n",
       "      <th>0</th>\n",
       "      <td>xgb</td>\n",
       "      <td>1024ecfp-6 + RDKit</td>\n",
       "      <td>0.609122</td>\n",
       "      <td>0.047678</td>\n",
       "    </tr>\n",
       "    <tr>\n",
       "      <th>1</th>\n",
       "      <td>gp</td>\n",
       "      <td>RDKit</td>\n",
       "      <td>0.658735</td>\n",
       "      <td>0.031905</td>\n",
       "    </tr>\n",
       "    <tr>\n",
       "      <th>2</th>\n",
       "      <td>rf</td>\n",
       "      <td>2048ecfp-4 + RDKit</td>\n",
       "      <td>0.669048</td>\n",
       "      <td>0.062787</td>\n",
       "    </tr>\n",
       "    <tr>\n",
       "      <th>3</th>\n",
       "      <td>krr</td>\n",
       "      <td>RDKit</td>\n",
       "      <td>0.874215</td>\n",
       "      <td>0.010021</td>\n",
       "    </tr>\n",
       "  </tbody>\n",
       "</table>\n",
       "</div>"
      ],
      "text/plain": [
       "     0                   1         2         3\n",
       "0  xgb  1024ecfp-6 + RDKit  0.609122  0.047678\n",
       "1   gp               RDKit  0.658735  0.031905\n",
       "2   rf  2048ecfp-4 + RDKit  0.669048  0.062787\n",
       "3  krr               RDKit  0.874215  0.010021"
      ]
     },
     "execution_count": 71,
     "metadata": {},
     "output_type": "execute_result"
    }
   ],
   "source": [
    "pd.DataFrame(best)"
   ]
  },
  {
   "cell_type": "markdown",
   "metadata": {},
   "source": [
    "### Combined best"
   ]
  },
  {
   "cell_type": "code",
   "execution_count": 72,
   "metadata": {},
   "outputs": [
    {
     "name": "stdout",
     "output_type": "stream",
     "text": [
      "xgb 1024ecfp-6 + RDKit 0.6091223774168234 0.047678322063773475\n",
      "\n",
      "gp RDKit 0.6587345637068794 0.03190512512700775\n",
      "\n",
      "rf 2048ecfp-4 + RDKit 0.6690484342593243 0.0627873087463154\n",
      "\n",
      "krr RDKit 0.8742146519107542 0.010021229267198725\n",
      "\n",
      "gpflow 2048ecfp-6 1.0293729161948013 0.009862302956136965\n",
      "\n"
     ]
    }
   ],
   "source": [
    "best = []\n",
    "for model in combined_test_metric.min(axis=1).sort_values().index:\n",
    "    # get the feature set for which \n",
    "    features = list(combined_test_metric.loc[model, combined_test_metric.loc[model] == combined_test_metric.loc[model].min()].index)[0]\n",
    "    \n",
    "    if model != 'gpflow':\n",
    "        best.append([model, features, mean_train_test_scores[features][model][f'test_{metric}'], std_train_test_scores[features][model][f'test_{metric}']])\n",
    "        print(model, features, mean_train_test_scores[features][model][f'test_{metric}'], std_train_test_scores[features][model][f'test_{metric}'])\n",
    "    else:\n",
    "        pass\n",
    "        best.append([model, features, gpflow_mean_train_test_scores[features][f'test_{metric}'], gpflow_std_train_test_scores[features][f'test_{metric}']])\n",
    "        print(model, features, gpflow_mean_train_test_scores[features][f'test_{metric}'], gpflow_std_train_test_scores[features][f'test_{metric}'])\n",
    "    print()"
   ]
  },
  {
   "cell_type": "code",
   "execution_count": 73,
   "metadata": {},
   "outputs": [
    {
     "data": {
      "text/plain": [
       "('esol', 'original', 'extended', 'full')"
      ]
     },
     "execution_count": 73,
     "metadata": {},
     "output_type": "execute_result"
    }
   ],
   "source": [
    "dataset, smile_type, grid_search_type, cf"
   ]
  },
  {
   "cell_type": "code",
   "execution_count": 74,
   "metadata": {},
   "outputs": [
    {
     "data": {
      "text/html": [
       "<div>\n",
       "<style scoped>\n",
       "    .dataframe tbody tr th:only-of-type {\n",
       "        vertical-align: middle;\n",
       "    }\n",
       "\n",
       "    .dataframe tbody tr th {\n",
       "        vertical-align: top;\n",
       "    }\n",
       "\n",
       "    .dataframe thead th {\n",
       "        text-align: right;\n",
       "    }\n",
       "</style>\n",
       "<table border=\"1\" class=\"dataframe\">\n",
       "  <thead>\n",
       "    <tr style=\"text-align: right;\">\n",
       "      <th></th>\n",
       "      <th>0</th>\n",
       "      <th>1</th>\n",
       "      <th>2</th>\n",
       "      <th>3</th>\n",
       "    </tr>\n",
       "  </thead>\n",
       "  <tbody>\n",
       "    <tr>\n",
       "      <th>0</th>\n",
       "      <td>xgb</td>\n",
       "      <td>1024ecfp-6 + RDKit</td>\n",
       "      <td>0.609122</td>\n",
       "      <td>0.047678</td>\n",
       "    </tr>\n",
       "    <tr>\n",
       "      <th>1</th>\n",
       "      <td>gp</td>\n",
       "      <td>RDKit</td>\n",
       "      <td>0.658735</td>\n",
       "      <td>0.031905</td>\n",
       "    </tr>\n",
       "    <tr>\n",
       "      <th>2</th>\n",
       "      <td>rf</td>\n",
       "      <td>2048ecfp-4 + RDKit</td>\n",
       "      <td>0.669048</td>\n",
       "      <td>0.062787</td>\n",
       "    </tr>\n",
       "    <tr>\n",
       "      <th>3</th>\n",
       "      <td>krr</td>\n",
       "      <td>RDKit</td>\n",
       "      <td>0.874215</td>\n",
       "      <td>0.010021</td>\n",
       "    </tr>\n",
       "    <tr>\n",
       "      <th>4</th>\n",
       "      <td>gpflow</td>\n",
       "      <td>2048ecfp-6</td>\n",
       "      <td>1.029373</td>\n",
       "      <td>0.009862</td>\n",
       "    </tr>\n",
       "  </tbody>\n",
       "</table>\n",
       "</div>"
      ],
      "text/plain": [
       "        0                   1         2         3\n",
       "0     xgb  1024ecfp-6 + RDKit  0.609122  0.047678\n",
       "1      gp               RDKit  0.658735  0.031905\n",
       "2      rf  2048ecfp-4 + RDKit  0.669048  0.062787\n",
       "3     krr               RDKit  0.874215  0.010021\n",
       "4  gpflow          2048ecfp-6  1.029373  0.009862"
      ]
     },
     "execution_count": 74,
     "metadata": {},
     "output_type": "execute_result"
    }
   ],
   "source": [
    "pd.DataFrame(best)"
   ]
  },
  {
   "cell_type": "code",
   "execution_count": null,
   "metadata": {},
   "outputs": [],
   "source": []
  },
  {
   "cell_type": "code",
   "execution_count": null,
   "metadata": {},
   "outputs": [],
   "source": []
  },
  {
   "cell_type": "markdown",
   "metadata": {
    "colab": {},
    "colab_type": "code",
    "id": "9OFPhzLsObYb"
   },
   "source": [
    "# Creating a table with all the scores (only makes sence for reproducing or particular feature set)"
   ]
  },
  {
   "cell_type": "markdown",
   "metadata": {
    "colab_type": "text",
    "id": "eaeMI2izAQVg"
   },
   "source": [
    "## Train and test scores data frame"
   ]
  },
  {
   "cell_type": "code",
   "execution_count": 52,
   "metadata": {
    "colab": {},
    "colab_type": "code",
    "id": "jLPAp6-WAQVg",
    "outputId": "ff34e297-1d7c-4adb-cd58-e880670653df"
   },
   "outputs": [
    {
     "data": {
      "text/html": [
       "<div>\n",
       "<style scoped>\n",
       "    .dataframe tbody tr th:only-of-type {\n",
       "        vertical-align: middle;\n",
       "    }\n",
       "\n",
       "    .dataframe tbody tr th {\n",
       "        vertical-align: top;\n",
       "    }\n",
       "\n",
       "    .dataframe thead th {\n",
       "        text-align: right;\n",
       "    }\n",
       "</style>\n",
       "<table border=\"1\" class=\"dataframe\">\n",
       "  <thead>\n",
       "    <tr style=\"text-align: right;\">\n",
       "      <th></th>\n",
       "      <th>fit_time</th>\n",
       "      <th>score_time</th>\n",
       "      <th>test_RMSE</th>\n",
       "      <th>train_RMSE</th>\n",
       "      <th>test_MAE</th>\n",
       "      <th>train_MAE</th>\n",
       "      <th>test_R^2</th>\n",
       "      <th>train_R^2</th>\n",
       "      <th>test_pearson_r</th>\n",
       "      <th>train_pearson_r</th>\n",
       "    </tr>\n",
       "  </thead>\n",
       "  <tbody>\n",
       "    <tr>\n",
       "      <th>rf</th>\n",
       "      <td>3.355469</td>\n",
       "      <td>0.027206</td>\n",
       "      <td>0.088998</td>\n",
       "      <td>0.013024</td>\n",
       "      <td>0.060264</td>\n",
       "      <td>0.003688</td>\n",
       "      <td>0.064678</td>\n",
       "      <td>0.003227</td>\n",
       "      <td>0.040535</td>\n",
       "      <td>0.001328</td>\n",
       "    </tr>\n",
       "    <tr>\n",
       "      <th>xgb</th>\n",
       "      <td>5.827420</td>\n",
       "      <td>0.001834</td>\n",
       "      <td>0.003302</td>\n",
       "      <td>0.019217</td>\n",
       "      <td>0.038317</td>\n",
       "      <td>0.003801</td>\n",
       "      <td>0.022714</td>\n",
       "      <td>0.002565</td>\n",
       "      <td>0.015186</td>\n",
       "      <td>0.001290</td>\n",
       "    </tr>\n",
       "    <tr>\n",
       "      <th>krr</th>\n",
       "      <td>0.045215</td>\n",
       "      <td>0.006581</td>\n",
       "      <td>0.086736</td>\n",
       "      <td>0.020814</td>\n",
       "      <td>0.077624</td>\n",
       "      <td>0.003030</td>\n",
       "      <td>0.108555</td>\n",
       "      <td>0.002497</td>\n",
       "      <td>0.080168</td>\n",
       "      <td>0.001257</td>\n",
       "    </tr>\n",
       "    <tr>\n",
       "      <th>gp</th>\n",
       "      <td>0.748089</td>\n",
       "      <td>0.007753</td>\n",
       "      <td>0.031950</td>\n",
       "      <td>0.017498</td>\n",
       "      <td>0.031545</td>\n",
       "      <td>0.011806</td>\n",
       "      <td>0.039370</td>\n",
       "      <td>0.011408</td>\n",
       "      <td>0.035539</td>\n",
       "      <td>0.003177</td>\n",
       "    </tr>\n",
       "  </tbody>\n",
       "</table>\n",
       "</div>"
      ],
      "text/plain": [
       "     fit_time  score_time  test_RMSE  train_RMSE  test_MAE  train_MAE  \\\n",
       "rf   3.355469    0.027206   0.088998    0.013024  0.060264   0.003688   \n",
       "xgb  5.827420    0.001834   0.003302    0.019217  0.038317   0.003801   \n",
       "krr  0.045215    0.006581   0.086736    0.020814  0.077624   0.003030   \n",
       "gp   0.748089    0.007753   0.031950    0.017498  0.031545   0.011806   \n",
       "\n",
       "     test_R^2  train_R^2  test_pearson_r  train_pearson_r  \n",
       "rf   0.064678   0.003227        0.040535         0.001328  \n",
       "xgb  0.022714   0.002565        0.015186         0.001290  \n",
       "krr  0.108555   0.002497        0.080168         0.001257  \n",
       "gp   0.039370   0.011408        0.035539         0.003177  "
      ]
     },
     "execution_count": 52,
     "metadata": {},
     "output_type": "execute_result"
    }
   ],
   "source": [
    "train_test_means_df = pd.DataFrame(mean_train_test_scores['1024ecfp-4']).T\n",
    "train_test_stds_df = pd.DataFrame(std_train_test_scores['1024ecfp-4']).T\n",
    "\n",
    "train_test_stds_df"
   ]
  },
  {
   "cell_type": "markdown",
   "metadata": {
    "colab_type": "text",
    "id": "45VwRSUMAQVm"
   },
   "source": [
    "## Validation scores data frame"
   ]
  },
  {
   "cell_type": "markdown",
   "metadata": {
    "colab_type": "text",
    "id": "53jfBjDHAQVm"
   },
   "source": [
    "### Changing col names to 'val_\\*' form 'test_\\*'"
   ]
  },
  {
   "cell_type": "code",
   "execution_count": 53,
   "metadata": {
    "colab": {},
    "colab_type": "code",
    "id": "u-MqjBdbAQVn",
    "outputId": "ade0d1d7-e39f-46c8-98bf-249e14d296a8"
   },
   "outputs": [
    {
     "data": {
      "text/html": [
       "<div>\n",
       "<style scoped>\n",
       "    .dataframe tbody tr th:only-of-type {\n",
       "        vertical-align: middle;\n",
       "    }\n",
       "\n",
       "    .dataframe tbody tr th {\n",
       "        vertical-align: top;\n",
       "    }\n",
       "\n",
       "    .dataframe thead th {\n",
       "        text-align: right;\n",
       "    }\n",
       "</style>\n",
       "<table border=\"1\" class=\"dataframe\">\n",
       "  <thead>\n",
       "    <tr style=\"text-align: right;\">\n",
       "      <th></th>\n",
       "      <th>fit_time</th>\n",
       "      <th>score_time</th>\n",
       "      <th>test_RMSE</th>\n",
       "      <th>test_MAE</th>\n",
       "      <th>test_R^2</th>\n",
       "      <th>test_pearson_r</th>\n",
       "    </tr>\n",
       "  </thead>\n",
       "  <tbody>\n",
       "    <tr>\n",
       "      <th>rf</th>\n",
       "      <td>2.837354</td>\n",
       "      <td>0.027328</td>\n",
       "      <td>0.017910</td>\n",
       "      <td>0.008003</td>\n",
       "      <td>0.033406</td>\n",
       "      <td>0.023508</td>\n",
       "    </tr>\n",
       "    <tr>\n",
       "      <th>xgb</th>\n",
       "      <td>5.007012</td>\n",
       "      <td>0.001603</td>\n",
       "      <td>0.016791</td>\n",
       "      <td>0.032181</td>\n",
       "      <td>0.035353</td>\n",
       "      <td>0.023527</td>\n",
       "    </tr>\n",
       "    <tr>\n",
       "      <th>krr</th>\n",
       "      <td>0.039165</td>\n",
       "      <td>0.005996</td>\n",
       "      <td>0.137349</td>\n",
       "      <td>0.075659</td>\n",
       "      <td>0.200282</td>\n",
       "      <td>0.108097</td>\n",
       "    </tr>\n",
       "    <tr>\n",
       "      <th>gp</th>\n",
       "      <td>4.592598</td>\n",
       "      <td>0.004381</td>\n",
       "      <td>0.020725</td>\n",
       "      <td>0.010343</td>\n",
       "      <td>0.038837</td>\n",
       "      <td>0.057407</td>\n",
       "    </tr>\n",
       "  </tbody>\n",
       "</table>\n",
       "</div>"
      ],
      "text/plain": [
       "     fit_time  score_time  test_RMSE  test_MAE  test_R^2  test_pearson_r\n",
       "rf   2.837354    0.027328   0.017910  0.008003  0.033406        0.023508\n",
       "xgb  5.007012    0.001603   0.016791  0.032181  0.035353        0.023527\n",
       "krr  0.039165    0.005996   0.137349  0.075659  0.200282        0.108097\n",
       "gp   4.592598    0.004381   0.020725  0.010343  0.038837        0.057407"
      ]
     },
     "execution_count": 53,
     "metadata": {},
     "output_type": "execute_result"
    }
   ],
   "source": [
    "val_means_df = pd.DataFrame(mean_val_scores['1024ecfp-4']).T\n",
    "val_stds_df = pd.DataFrame(std_val_scores['1024ecfp-4']).T\n",
    "\n",
    "val_stds_df"
   ]
  },
  {
   "cell_type": "code",
   "execution_count": 54,
   "metadata": {
    "colab": {},
    "colab_type": "code",
    "id": "1p7yNiB9AQVq",
    "outputId": "30c19e00-ff24-4424-bae6-104b5bc44629"
   },
   "outputs": [
    {
     "data": {
      "text/html": [
       "<div>\n",
       "<style scoped>\n",
       "    .dataframe tbody tr th:only-of-type {\n",
       "        vertical-align: middle;\n",
       "    }\n",
       "\n",
       "    .dataframe tbody tr th {\n",
       "        vertical-align: top;\n",
       "    }\n",
       "\n",
       "    .dataframe thead th {\n",
       "        text-align: right;\n",
       "    }\n",
       "</style>\n",
       "<table border=\"1\" class=\"dataframe\">\n",
       "  <thead>\n",
       "    <tr style=\"text-align: right;\">\n",
       "      <th></th>\n",
       "      <th>test_RMSE</th>\n",
       "      <th>test_MAE</th>\n",
       "      <th>test_R^2</th>\n",
       "      <th>test_pearson_r</th>\n",
       "    </tr>\n",
       "  </thead>\n",
       "  <tbody>\n",
       "    <tr>\n",
       "      <th>rf</th>\n",
       "      <td>0.017910</td>\n",
       "      <td>0.008003</td>\n",
       "      <td>0.033406</td>\n",
       "      <td>0.023508</td>\n",
       "    </tr>\n",
       "    <tr>\n",
       "      <th>xgb</th>\n",
       "      <td>0.016791</td>\n",
       "      <td>0.032181</td>\n",
       "      <td>0.035353</td>\n",
       "      <td>0.023527</td>\n",
       "    </tr>\n",
       "    <tr>\n",
       "      <th>krr</th>\n",
       "      <td>0.137349</td>\n",
       "      <td>0.075659</td>\n",
       "      <td>0.200282</td>\n",
       "      <td>0.108097</td>\n",
       "    </tr>\n",
       "    <tr>\n",
       "      <th>gp</th>\n",
       "      <td>0.020725</td>\n",
       "      <td>0.010343</td>\n",
       "      <td>0.038837</td>\n",
       "      <td>0.057407</td>\n",
       "    </tr>\n",
       "  </tbody>\n",
       "</table>\n",
       "</div>"
      ],
      "text/plain": [
       "     test_RMSE  test_MAE  test_R^2  test_pearson_r\n",
       "rf    0.017910  0.008003  0.033406        0.023508\n",
       "xgb   0.016791  0.032181  0.035353        0.023527\n",
       "krr   0.137349  0.075659  0.200282        0.108097\n",
       "gp    0.020725  0.010343  0.038837        0.057407"
      ]
     },
     "execution_count": 54,
     "metadata": {},
     "output_type": "execute_result"
    }
   ],
   "source": [
    "val_means_df.drop(['fit_time', 'score_time'], axis=1, inplace=True)\n",
    "val_stds_df.drop(['fit_time', 'score_time'], axis=1, inplace=True)\n",
    "val_stds_df"
   ]
  },
  {
   "cell_type": "code",
   "execution_count": 55,
   "metadata": {
    "colab": {},
    "colab_type": "code",
    "id": "FwFR7zZRAQVx",
    "outputId": "9a812674-1e89-4736-bf0b-f07b858f29df"
   },
   "outputs": [
    {
     "data": {
      "text/plain": [
       "['test_RMSE', 'test_MAE', 'test_R^2', 'test_pearson_r']"
      ]
     },
     "execution_count": 55,
     "metadata": {},
     "output_type": "execute_result"
    }
   ],
   "source": [
    "col_names = list(val_means_df.columns)\n",
    "col_names"
   ]
  },
  {
   "cell_type": "code",
   "execution_count": 56,
   "metadata": {
    "colab": {},
    "colab_type": "code",
    "id": "wlfcoWQ3AQV2",
    "outputId": "3e97d14b-2312-46fe-fe28-332a6ccf20c8"
   },
   "outputs": [
    {
     "data": {
      "text/plain": [
       "['val_RMSE', 'val_MAE', 'val_R^2', 'val_pearson_r']"
      ]
     },
     "execution_count": 56,
     "metadata": {},
     "output_type": "execute_result"
    }
   ],
   "source": [
    "new_col_names = []\n",
    "for name in col_names:\n",
    "    new_col_names.append(name.replace(\"test\", \"val\"))\n",
    "    \n",
    "new_col_names"
   ]
  },
  {
   "cell_type": "markdown",
   "metadata": {
    "colab_type": "text",
    "id": "80Nyt4i8AQV8"
   },
   "source": [
    "### Ready validation data frame"
   ]
  },
  {
   "cell_type": "code",
   "execution_count": 57,
   "metadata": {
    "colab": {},
    "colab_type": "code",
    "id": "8yqpk988AQV8",
    "outputId": "b8bcbbe8-980c-4964-c22c-392d0de022ed"
   },
   "outputs": [
    {
     "data": {
      "text/html": [
       "<div>\n",
       "<style scoped>\n",
       "    .dataframe tbody tr th:only-of-type {\n",
       "        vertical-align: middle;\n",
       "    }\n",
       "\n",
       "    .dataframe tbody tr th {\n",
       "        vertical-align: top;\n",
       "    }\n",
       "\n",
       "    .dataframe thead th {\n",
       "        text-align: right;\n",
       "    }\n",
       "</style>\n",
       "<table border=\"1\" class=\"dataframe\">\n",
       "  <thead>\n",
       "    <tr style=\"text-align: right;\">\n",
       "      <th></th>\n",
       "      <th>val_RMSE</th>\n",
       "      <th>val_MAE</th>\n",
       "      <th>val_R^2</th>\n",
       "      <th>val_pearson_r</th>\n",
       "    </tr>\n",
       "  </thead>\n",
       "  <tbody>\n",
       "    <tr>\n",
       "      <th>rf</th>\n",
       "      <td>0.017910</td>\n",
       "      <td>0.008003</td>\n",
       "      <td>0.033406</td>\n",
       "      <td>0.023508</td>\n",
       "    </tr>\n",
       "    <tr>\n",
       "      <th>xgb</th>\n",
       "      <td>0.016791</td>\n",
       "      <td>0.032181</td>\n",
       "      <td>0.035353</td>\n",
       "      <td>0.023527</td>\n",
       "    </tr>\n",
       "    <tr>\n",
       "      <th>krr</th>\n",
       "      <td>0.137349</td>\n",
       "      <td>0.075659</td>\n",
       "      <td>0.200282</td>\n",
       "      <td>0.108097</td>\n",
       "    </tr>\n",
       "    <tr>\n",
       "      <th>gp</th>\n",
       "      <td>0.020725</td>\n",
       "      <td>0.010343</td>\n",
       "      <td>0.038837</td>\n",
       "      <td>0.057407</td>\n",
       "    </tr>\n",
       "  </tbody>\n",
       "</table>\n",
       "</div>"
      ],
      "text/plain": [
       "     val_RMSE   val_MAE   val_R^2  val_pearson_r\n",
       "rf   0.017910  0.008003  0.033406       0.023508\n",
       "xgb  0.016791  0.032181  0.035353       0.023527\n",
       "krr  0.137349  0.075659  0.200282       0.108097\n",
       "gp   0.020725  0.010343  0.038837       0.057407"
      ]
     },
     "execution_count": 57,
     "metadata": {},
     "output_type": "execute_result"
    }
   ],
   "source": [
    "val_means_df.columns = new_col_names\n",
    "val_stds_df.columns = new_col_names\n",
    "\n",
    "val_stds_df"
   ]
  },
  {
   "cell_type": "markdown",
   "metadata": {
    "colab_type": "text",
    "id": "qgO9WSXFAQWA"
   },
   "source": [
    "## All scores"
   ]
  },
  {
   "cell_type": "code",
   "execution_count": 58,
   "metadata": {
    "colab": {},
    "colab_type": "code",
    "id": "EluGMCO0AQWA",
    "outputId": "baa085d9-6500-42d7-dc2d-63855dbeacc2"
   },
   "outputs": [
    {
     "data": {
      "text/html": [
       "<div>\n",
       "<style scoped>\n",
       "    .dataframe tbody tr th:only-of-type {\n",
       "        vertical-align: middle;\n",
       "    }\n",
       "\n",
       "    .dataframe tbody tr th {\n",
       "        vertical-align: top;\n",
       "    }\n",
       "\n",
       "    .dataframe thead th {\n",
       "        text-align: right;\n",
       "    }\n",
       "</style>\n",
       "<table border=\"1\" class=\"dataframe\">\n",
       "  <thead>\n",
       "    <tr style=\"text-align: right;\">\n",
       "      <th></th>\n",
       "      <th>fit_time</th>\n",
       "      <th>score_time</th>\n",
       "      <th>test_RMSE</th>\n",
       "      <th>train_RMSE</th>\n",
       "      <th>test_MAE</th>\n",
       "      <th>train_MAE</th>\n",
       "      <th>test_R^2</th>\n",
       "      <th>train_R^2</th>\n",
       "      <th>test_pearson_r</th>\n",
       "      <th>train_pearson_r</th>\n",
       "      <th>val_RMSE</th>\n",
       "      <th>val_MAE</th>\n",
       "      <th>val_R^2</th>\n",
       "      <th>val_pearson_r</th>\n",
       "    </tr>\n",
       "  </thead>\n",
       "  <tbody>\n",
       "    <tr>\n",
       "      <th>rf</th>\n",
       "      <td>3.355469</td>\n",
       "      <td>0.027206</td>\n",
       "      <td>0.088998</td>\n",
       "      <td>0.013024</td>\n",
       "      <td>0.060264</td>\n",
       "      <td>0.003688</td>\n",
       "      <td>0.064678</td>\n",
       "      <td>0.003227</td>\n",
       "      <td>0.040535</td>\n",
       "      <td>0.001328</td>\n",
       "      <td>0.017910</td>\n",
       "      <td>0.008003</td>\n",
       "      <td>0.033406</td>\n",
       "      <td>0.023508</td>\n",
       "    </tr>\n",
       "    <tr>\n",
       "      <th>xgb</th>\n",
       "      <td>5.827420</td>\n",
       "      <td>0.001834</td>\n",
       "      <td>0.003302</td>\n",
       "      <td>0.019217</td>\n",
       "      <td>0.038317</td>\n",
       "      <td>0.003801</td>\n",
       "      <td>0.022714</td>\n",
       "      <td>0.002565</td>\n",
       "      <td>0.015186</td>\n",
       "      <td>0.001290</td>\n",
       "      <td>0.016791</td>\n",
       "      <td>0.032181</td>\n",
       "      <td>0.035353</td>\n",
       "      <td>0.023527</td>\n",
       "    </tr>\n",
       "    <tr>\n",
       "      <th>krr</th>\n",
       "      <td>0.045215</td>\n",
       "      <td>0.006581</td>\n",
       "      <td>0.086736</td>\n",
       "      <td>0.020814</td>\n",
       "      <td>0.077624</td>\n",
       "      <td>0.003030</td>\n",
       "      <td>0.108555</td>\n",
       "      <td>0.002497</td>\n",
       "      <td>0.080168</td>\n",
       "      <td>0.001257</td>\n",
       "      <td>0.137349</td>\n",
       "      <td>0.075659</td>\n",
       "      <td>0.200282</td>\n",
       "      <td>0.108097</td>\n",
       "    </tr>\n",
       "    <tr>\n",
       "      <th>gp</th>\n",
       "      <td>0.748089</td>\n",
       "      <td>0.007753</td>\n",
       "      <td>0.031950</td>\n",
       "      <td>0.017498</td>\n",
       "      <td>0.031545</td>\n",
       "      <td>0.011806</td>\n",
       "      <td>0.039370</td>\n",
       "      <td>0.011408</td>\n",
       "      <td>0.035539</td>\n",
       "      <td>0.003177</td>\n",
       "      <td>0.020725</td>\n",
       "      <td>0.010343</td>\n",
       "      <td>0.038837</td>\n",
       "      <td>0.057407</td>\n",
       "    </tr>\n",
       "  </tbody>\n",
       "</table>\n",
       "</div>"
      ],
      "text/plain": [
       "     fit_time  score_time  test_RMSE  train_RMSE  test_MAE  train_MAE  \\\n",
       "rf   3.355469    0.027206   0.088998    0.013024  0.060264   0.003688   \n",
       "xgb  5.827420    0.001834   0.003302    0.019217  0.038317   0.003801   \n",
       "krr  0.045215    0.006581   0.086736    0.020814  0.077624   0.003030   \n",
       "gp   0.748089    0.007753   0.031950    0.017498  0.031545   0.011806   \n",
       "\n",
       "     test_R^2  train_R^2  test_pearson_r  train_pearson_r  val_RMSE   val_MAE  \\\n",
       "rf   0.064678   0.003227        0.040535         0.001328  0.017910  0.008003   \n",
       "xgb  0.022714   0.002565        0.015186         0.001290  0.016791  0.032181   \n",
       "krr  0.108555   0.002497        0.080168         0.001257  0.137349  0.075659   \n",
       "gp   0.039370   0.011408        0.035539         0.003177  0.020725  0.010343   \n",
       "\n",
       "      val_R^2  val_pearson_r  \n",
       "rf   0.033406       0.023508  \n",
       "xgb  0.035353       0.023527  \n",
       "krr  0.200282       0.108097  \n",
       "gp   0.038837       0.057407  "
      ]
     },
     "execution_count": 58,
     "metadata": {},
     "output_type": "execute_result"
    }
   ],
   "source": [
    "all_means = pd.concat([train_test_means_df, val_means_df], axis = 1)\n",
    "all_stds = pd.concat([train_test_stds_df, val_stds_df], axis = 1)\n",
    "\n",
    "all_stds"
   ]
  },
  {
   "cell_type": "code",
   "execution_count": 59,
   "metadata": {
    "colab": {},
    "colab_type": "code",
    "id": "cvLRjs2RAQWF",
    "outputId": "a5d46911-9a95-4f3a-9528-8b58c8801b7d"
   },
   "outputs": [
    {
     "data": {
      "text/plain": [
       "['fit_time',\n",
       " 'score_time',\n",
       " 'train_RMSE',\n",
       " 'val_RMSE',\n",
       " 'test_RMSE',\n",
       " 'train_MAE',\n",
       " 'val_MAE',\n",
       " 'test_MAE',\n",
       " 'train_R^2',\n",
       " 'val_R^2',\n",
       " 'test_R^2',\n",
       " 'train_pearson_r',\n",
       " 'val_pearson_r',\n",
       " 'test_pearson_r']"
      ]
     },
     "execution_count": 59,
     "metadata": {},
     "output_type": "execute_result"
    }
   ],
   "source": [
    "col_order = ['fit_time', 'score_time']\n",
    "temp = [[f'train_{metric}', f'val_{metric}', f'test_{metric}'] for metric in metrics_to_labels]\n",
    "\n",
    "for l in temp:\n",
    "    col_order.extend(l)\n",
    "    \n",
    "col_order"
   ]
  },
  {
   "cell_type": "code",
   "execution_count": 60,
   "metadata": {
    "colab": {},
    "colab_type": "code",
    "id": "zBbUUlBWAQWI",
    "outputId": "ea942e5d-7bb7-49ec-f185-6a4c5691ae09"
   },
   "outputs": [
    {
     "data": {
      "text/html": [
       "<div>\n",
       "<style scoped>\n",
       "    .dataframe tbody tr th:only-of-type {\n",
       "        vertical-align: middle;\n",
       "    }\n",
       "\n",
       "    .dataframe tbody tr th {\n",
       "        vertical-align: top;\n",
       "    }\n",
       "\n",
       "    .dataframe thead th {\n",
       "        text-align: right;\n",
       "    }\n",
       "</style>\n",
       "<table border=\"1\" class=\"dataframe\">\n",
       "  <thead>\n",
       "    <tr style=\"text-align: right;\">\n",
       "      <th></th>\n",
       "      <th>fit_time</th>\n",
       "      <th>score_time</th>\n",
       "      <th>train_RMSE</th>\n",
       "      <th>val_RMSE</th>\n",
       "      <th>test_RMSE</th>\n",
       "      <th>train_MAE</th>\n",
       "      <th>val_MAE</th>\n",
       "      <th>test_MAE</th>\n",
       "      <th>train_R^2</th>\n",
       "      <th>val_R^2</th>\n",
       "      <th>test_R^2</th>\n",
       "      <th>train_pearson_r</th>\n",
       "      <th>val_pearson_r</th>\n",
       "      <th>test_pearson_r</th>\n",
       "    </tr>\n",
       "  </thead>\n",
       "  <tbody>\n",
       "    <tr>\n",
       "      <th>rf</th>\n",
       "      <td>3.355469</td>\n",
       "      <td>0.027206</td>\n",
       "      <td>0.013024</td>\n",
       "      <td>0.017910</td>\n",
       "      <td>0.088998</td>\n",
       "      <td>0.003688</td>\n",
       "      <td>0.008003</td>\n",
       "      <td>0.060264</td>\n",
       "      <td>0.003227</td>\n",
       "      <td>0.033406</td>\n",
       "      <td>0.064678</td>\n",
       "      <td>0.001328</td>\n",
       "      <td>0.023508</td>\n",
       "      <td>0.040535</td>\n",
       "    </tr>\n",
       "    <tr>\n",
       "      <th>xgb</th>\n",
       "      <td>5.827420</td>\n",
       "      <td>0.001834</td>\n",
       "      <td>0.019217</td>\n",
       "      <td>0.016791</td>\n",
       "      <td>0.003302</td>\n",
       "      <td>0.003801</td>\n",
       "      <td>0.032181</td>\n",
       "      <td>0.038317</td>\n",
       "      <td>0.002565</td>\n",
       "      <td>0.035353</td>\n",
       "      <td>0.022714</td>\n",
       "      <td>0.001290</td>\n",
       "      <td>0.023527</td>\n",
       "      <td>0.015186</td>\n",
       "    </tr>\n",
       "    <tr>\n",
       "      <th>krr</th>\n",
       "      <td>0.045215</td>\n",
       "      <td>0.006581</td>\n",
       "      <td>0.020814</td>\n",
       "      <td>0.137349</td>\n",
       "      <td>0.086736</td>\n",
       "      <td>0.003030</td>\n",
       "      <td>0.075659</td>\n",
       "      <td>0.077624</td>\n",
       "      <td>0.002497</td>\n",
       "      <td>0.200282</td>\n",
       "      <td>0.108555</td>\n",
       "      <td>0.001257</td>\n",
       "      <td>0.108097</td>\n",
       "      <td>0.080168</td>\n",
       "    </tr>\n",
       "    <tr>\n",
       "      <th>gp</th>\n",
       "      <td>0.748089</td>\n",
       "      <td>0.007753</td>\n",
       "      <td>0.017498</td>\n",
       "      <td>0.020725</td>\n",
       "      <td>0.031950</td>\n",
       "      <td>0.011806</td>\n",
       "      <td>0.010343</td>\n",
       "      <td>0.031545</td>\n",
       "      <td>0.011408</td>\n",
       "      <td>0.038837</td>\n",
       "      <td>0.039370</td>\n",
       "      <td>0.003177</td>\n",
       "      <td>0.057407</td>\n",
       "      <td>0.035539</td>\n",
       "    </tr>\n",
       "  </tbody>\n",
       "</table>\n",
       "</div>"
      ],
      "text/plain": [
       "     fit_time  score_time  train_RMSE  val_RMSE  test_RMSE  train_MAE  \\\n",
       "rf   3.355469    0.027206    0.013024  0.017910   0.088998   0.003688   \n",
       "xgb  5.827420    0.001834    0.019217  0.016791   0.003302   0.003801   \n",
       "krr  0.045215    0.006581    0.020814  0.137349   0.086736   0.003030   \n",
       "gp   0.748089    0.007753    0.017498  0.020725   0.031950   0.011806   \n",
       "\n",
       "      val_MAE  test_MAE  train_R^2   val_R^2  test_R^2  train_pearson_r  \\\n",
       "rf   0.008003  0.060264   0.003227  0.033406  0.064678         0.001328   \n",
       "xgb  0.032181  0.038317   0.002565  0.035353  0.022714         0.001290   \n",
       "krr  0.075659  0.077624   0.002497  0.200282  0.108555         0.001257   \n",
       "gp   0.010343  0.031545   0.011408  0.038837  0.039370         0.003177   \n",
       "\n",
       "     val_pearson_r  test_pearson_r  \n",
       "rf        0.023508        0.040535  \n",
       "xgb       0.023527        0.015186  \n",
       "krr       0.108097        0.080168  \n",
       "gp        0.057407        0.035539  "
      ]
     },
     "execution_count": 60,
     "metadata": {},
     "output_type": "execute_result"
    }
   ],
   "source": [
    "all_means = all_means[col_order]\n",
    "all_stds = all_stds[col_order]\n",
    "\n",
    "all_stds"
   ]
  },
  {
   "cell_type": "code",
   "execution_count": 61,
   "metadata": {
    "colab": {},
    "colab_type": "code",
    "id": "sEsbo4pdAQWN"
   },
   "outputs": [],
   "source": [
    "# # making rmse, mae positive\n",
    "\n",
    "# for subset in ['train', 'val', 'test']:\n",
    "#     for metric in ['RMSE', 'MAE']:\n",
    "#         all_means[f'{subset}_{metric}'] = np.abs(all_scores[f'{subset}_{metric}'])"
   ]
  },
  {
   "cell_type": "markdown",
   "metadata": {
    "colab_type": "text",
    "id": "Vd69jyA1AQWY"
   },
   "source": [
    "## Presentable version"
   ]
  },
  {
   "cell_type": "code",
   "execution_count": 62,
   "metadata": {
    "colab": {},
    "colab_type": "code",
    "id": "Q4HM6OPxAQWZ"
   },
   "outputs": [],
   "source": [
    "presentable_all_means = np.round(all_means, 3)\n",
    "presentable_all_stds = np.round(all_stds, 3)"
   ]
  },
  {
   "cell_type": "code",
   "execution_count": 63,
   "metadata": {
    "colab": {},
    "colab_type": "code",
    "id": "bgqPA6NAAQWc",
    "outputId": "3fc26746-0c7f-4482-93d2-e5ff1f50e792"
   },
   "outputs": [
    {
     "name": "stdout",
     "output_type": "stream",
     "text": [
      "esol original extended\n",
      "\n",
      "Means:\n"
     ]
    },
    {
     "data": {
      "text/html": [
       "<div>\n",
       "<style scoped>\n",
       "    .dataframe tbody tr th:only-of-type {\n",
       "        vertical-align: middle;\n",
       "    }\n",
       "\n",
       "    .dataframe tbody tr th {\n",
       "        vertical-align: top;\n",
       "    }\n",
       "\n",
       "    .dataframe thead th {\n",
       "        text-align: right;\n",
       "    }\n",
       "</style>\n",
       "<table border=\"1\" class=\"dataframe\">\n",
       "  <thead>\n",
       "    <tr style=\"text-align: right;\">\n",
       "      <th></th>\n",
       "      <th>fit_time</th>\n",
       "      <th>score_time</th>\n",
       "      <th>train_RMSE</th>\n",
       "      <th>val_RMSE</th>\n",
       "      <th>test_RMSE</th>\n",
       "      <th>train_MAE</th>\n",
       "      <th>val_MAE</th>\n",
       "      <th>test_MAE</th>\n",
       "      <th>train_R^2</th>\n",
       "      <th>val_R^2</th>\n",
       "      <th>test_R^2</th>\n",
       "      <th>train_pearson_r</th>\n",
       "      <th>val_pearson_r</th>\n",
       "      <th>test_pearson_r</th>\n",
       "    </tr>\n",
       "  </thead>\n",
       "  <tbody>\n",
       "    <tr>\n",
       "      <th>rf</th>\n",
       "      <td>14.972</td>\n",
       "      <td>0.119</td>\n",
       "      <td>0.477</td>\n",
       "      <td>1.242</td>\n",
       "      <td>1.210</td>\n",
       "      <td>0.335</td>\n",
       "      <td>0.919</td>\n",
       "      <td>0.914</td>\n",
       "      <td>0.948</td>\n",
       "      <td>0.631</td>\n",
       "      <td>0.688</td>\n",
       "      <td>0.979</td>\n",
       "      <td>0.804</td>\n",
       "      <td>0.833</td>\n",
       "    </tr>\n",
       "    <tr>\n",
       "      <th>xgb</th>\n",
       "      <td>30.370</td>\n",
       "      <td>0.010</td>\n",
       "      <td>0.281</td>\n",
       "      <td>1.196</td>\n",
       "      <td>1.242</td>\n",
       "      <td>0.136</td>\n",
       "      <td>0.874</td>\n",
       "      <td>0.928</td>\n",
       "      <td>0.982</td>\n",
       "      <td>0.658</td>\n",
       "      <td>0.676</td>\n",
       "      <td>0.991</td>\n",
       "      <td>0.818</td>\n",
       "      <td>0.831</td>\n",
       "    </tr>\n",
       "    <tr>\n",
       "      <th>krr</th>\n",
       "      <td>0.227</td>\n",
       "      <td>0.029</td>\n",
       "      <td>0.256</td>\n",
       "      <td>1.831</td>\n",
       "      <td>1.857</td>\n",
       "      <td>0.072</td>\n",
       "      <td>1.340</td>\n",
       "      <td>1.327</td>\n",
       "      <td>0.985</td>\n",
       "      <td>0.183</td>\n",
       "      <td>0.272</td>\n",
       "      <td>0.992</td>\n",
       "      <td>0.601</td>\n",
       "      <td>0.636</td>\n",
       "    </tr>\n",
       "    <tr>\n",
       "      <th>gp</th>\n",
       "      <td>22.014</td>\n",
       "      <td>0.129</td>\n",
       "      <td>1.174</td>\n",
       "      <td>1.622</td>\n",
       "      <td>1.644</td>\n",
       "      <td>0.902</td>\n",
       "      <td>1.257</td>\n",
       "      <td>1.305</td>\n",
       "      <td>0.683</td>\n",
       "      <td>0.372</td>\n",
       "      <td>0.433</td>\n",
       "      <td>0.931</td>\n",
       "      <td>0.729</td>\n",
       "      <td>0.765</td>\n",
       "    </tr>\n",
       "  </tbody>\n",
       "</table>\n",
       "</div>"
      ],
      "text/plain": [
       "     fit_time  score_time  train_RMSE  val_RMSE  test_RMSE  train_MAE  \\\n",
       "rf     14.972       0.119       0.477     1.242      1.210      0.335   \n",
       "xgb    30.370       0.010       0.281     1.196      1.242      0.136   \n",
       "krr     0.227       0.029       0.256     1.831      1.857      0.072   \n",
       "gp     22.014       0.129       1.174     1.622      1.644      0.902   \n",
       "\n",
       "     val_MAE  test_MAE  train_R^2  val_R^2  test_R^2  train_pearson_r  \\\n",
       "rf     0.919     0.914      0.948    0.631     0.688            0.979   \n",
       "xgb    0.874     0.928      0.982    0.658     0.676            0.991   \n",
       "krr    1.340     1.327      0.985    0.183     0.272            0.992   \n",
       "gp     1.257     1.305      0.683    0.372     0.433            0.931   \n",
       "\n",
       "     val_pearson_r  test_pearson_r  \n",
       "rf           0.804           0.833  \n",
       "xgb          0.818           0.831  \n",
       "krr          0.601           0.636  \n",
       "gp           0.729           0.765  "
      ]
     },
     "metadata": {},
     "output_type": "display_data"
    },
    {
     "name": "stdout",
     "output_type": "stream",
     "text": [
      "Standard deviations:\n"
     ]
    },
    {
     "data": {
      "text/html": [
       "<div>\n",
       "<style scoped>\n",
       "    .dataframe tbody tr th:only-of-type {\n",
       "        vertical-align: middle;\n",
       "    }\n",
       "\n",
       "    .dataframe tbody tr th {\n",
       "        vertical-align: top;\n",
       "    }\n",
       "\n",
       "    .dataframe thead th {\n",
       "        text-align: right;\n",
       "    }\n",
       "</style>\n",
       "<table border=\"1\" class=\"dataframe\">\n",
       "  <thead>\n",
       "    <tr style=\"text-align: right;\">\n",
       "      <th></th>\n",
       "      <th>fit_time</th>\n",
       "      <th>score_time</th>\n",
       "      <th>train_RMSE</th>\n",
       "      <th>val_RMSE</th>\n",
       "      <th>test_RMSE</th>\n",
       "      <th>train_MAE</th>\n",
       "      <th>val_MAE</th>\n",
       "      <th>test_MAE</th>\n",
       "      <th>train_R^2</th>\n",
       "      <th>val_R^2</th>\n",
       "      <th>test_R^2</th>\n",
       "      <th>train_pearson_r</th>\n",
       "      <th>val_pearson_r</th>\n",
       "      <th>test_pearson_r</th>\n",
       "    </tr>\n",
       "  </thead>\n",
       "  <tbody>\n",
       "    <tr>\n",
       "      <th>rf</th>\n",
       "      <td>3.355</td>\n",
       "      <td>0.027</td>\n",
       "      <td>0.013</td>\n",
       "      <td>0.018</td>\n",
       "      <td>0.089</td>\n",
       "      <td>0.004</td>\n",
       "      <td>0.008</td>\n",
       "      <td>0.060</td>\n",
       "      <td>0.003</td>\n",
       "      <td>0.033</td>\n",
       "      <td>0.065</td>\n",
       "      <td>0.001</td>\n",
       "      <td>0.024</td>\n",
       "      <td>0.041</td>\n",
       "    </tr>\n",
       "    <tr>\n",
       "      <th>xgb</th>\n",
       "      <td>5.827</td>\n",
       "      <td>0.002</td>\n",
       "      <td>0.019</td>\n",
       "      <td>0.017</td>\n",
       "      <td>0.003</td>\n",
       "      <td>0.004</td>\n",
       "      <td>0.032</td>\n",
       "      <td>0.038</td>\n",
       "      <td>0.003</td>\n",
       "      <td>0.035</td>\n",
       "      <td>0.023</td>\n",
       "      <td>0.001</td>\n",
       "      <td>0.024</td>\n",
       "      <td>0.015</td>\n",
       "    </tr>\n",
       "    <tr>\n",
       "      <th>krr</th>\n",
       "      <td>0.045</td>\n",
       "      <td>0.007</td>\n",
       "      <td>0.021</td>\n",
       "      <td>0.137</td>\n",
       "      <td>0.087</td>\n",
       "      <td>0.003</td>\n",
       "      <td>0.076</td>\n",
       "      <td>0.078</td>\n",
       "      <td>0.002</td>\n",
       "      <td>0.200</td>\n",
       "      <td>0.109</td>\n",
       "      <td>0.001</td>\n",
       "      <td>0.108</td>\n",
       "      <td>0.080</td>\n",
       "    </tr>\n",
       "    <tr>\n",
       "      <th>gp</th>\n",
       "      <td>0.748</td>\n",
       "      <td>0.008</td>\n",
       "      <td>0.017</td>\n",
       "      <td>0.021</td>\n",
       "      <td>0.032</td>\n",
       "      <td>0.012</td>\n",
       "      <td>0.010</td>\n",
       "      <td>0.032</td>\n",
       "      <td>0.011</td>\n",
       "      <td>0.039</td>\n",
       "      <td>0.039</td>\n",
       "      <td>0.003</td>\n",
       "      <td>0.057</td>\n",
       "      <td>0.036</td>\n",
       "    </tr>\n",
       "  </tbody>\n",
       "</table>\n",
       "</div>"
      ],
      "text/plain": [
       "     fit_time  score_time  train_RMSE  val_RMSE  test_RMSE  train_MAE  \\\n",
       "rf      3.355       0.027       0.013     0.018      0.089      0.004   \n",
       "xgb     5.827       0.002       0.019     0.017      0.003      0.004   \n",
       "krr     0.045       0.007       0.021     0.137      0.087      0.003   \n",
       "gp      0.748       0.008       0.017     0.021      0.032      0.012   \n",
       "\n",
       "     val_MAE  test_MAE  train_R^2  val_R^2  test_R^2  train_pearson_r  \\\n",
       "rf     0.008     0.060      0.003    0.033     0.065            0.001   \n",
       "xgb    0.032     0.038      0.003    0.035     0.023            0.001   \n",
       "krr    0.076     0.078      0.002    0.200     0.109            0.001   \n",
       "gp     0.010     0.032      0.011    0.039     0.039            0.003   \n",
       "\n",
       "     val_pearson_r  test_pearson_r  \n",
       "rf           0.024           0.041  \n",
       "xgb          0.024           0.015  \n",
       "krr          0.108           0.080  \n",
       "gp           0.057           0.036  "
      ]
     },
     "metadata": {},
     "output_type": "display_data"
    }
   ],
   "source": [
    "print(dataset, smile_type, grid_search_type)\n",
    "\n",
    "print('\\nMeans:')\n",
    "display(presentable_all_means)\n",
    "\n",
    "print('Standard deviations:')\n",
    "display(presentable_all_stds)"
   ]
  },
  {
   "cell_type": "code",
   "execution_count": 64,
   "metadata": {
    "colab": {},
    "colab_type": "code",
    "id": "j4ADn1TNAQWf",
    "outputId": "450430a2-5597-4a93-cac3-6e0d080256d5"
   },
   "outputs": [
    {
     "data": {
      "text/html": [
       "<div>\n",
       "<style scoped>\n",
       "    .dataframe tbody tr th:only-of-type {\n",
       "        vertical-align: middle;\n",
       "    }\n",
       "\n",
       "    .dataframe tbody tr th {\n",
       "        vertical-align: top;\n",
       "    }\n",
       "\n",
       "    .dataframe thead th {\n",
       "        text-align: right;\n",
       "    }\n",
       "</style>\n",
       "<table border=\"1\" class=\"dataframe\">\n",
       "  <thead>\n",
       "    <tr style=\"text-align: right;\">\n",
       "      <th></th>\n",
       "      <th>fit_time</th>\n",
       "      <th>score_time</th>\n",
       "      <th>train_RMSE</th>\n",
       "      <th>val_RMSE</th>\n",
       "      <th>test_RMSE</th>\n",
       "      <th>train_MAE</th>\n",
       "      <th>val_MAE</th>\n",
       "      <th>test_MAE</th>\n",
       "      <th>train_R^2</th>\n",
       "      <th>val_R^2</th>\n",
       "      <th>test_R^2</th>\n",
       "      <th>train_pearson_r</th>\n",
       "      <th>val_pearson_r</th>\n",
       "      <th>test_pearson_r</th>\n",
       "    </tr>\n",
       "  </thead>\n",
       "  <tbody>\n",
       "    <tr>\n",
       "      <th>rf</th>\n",
       "      <td>14.972 +/- 3.355</td>\n",
       "      <td>0.119 +/- 0.027</td>\n",
       "      <td>0.477 +/- 0.013</td>\n",
       "      <td>1.242 +/- 0.018</td>\n",
       "      <td>1.21 +/- 0.089</td>\n",
       "      <td>0.335 +/- 0.004</td>\n",
       "      <td>0.919 +/- 0.008</td>\n",
       "      <td>0.914 +/- 0.06</td>\n",
       "      <td>0.948 +/- 0.003</td>\n",
       "      <td>0.631 +/- 0.033</td>\n",
       "      <td>0.688 +/- 0.065</td>\n",
       "      <td>0.979 +/- 0.001</td>\n",
       "      <td>0.804 +/- 0.024</td>\n",
       "      <td>0.833 +/- 0.041</td>\n",
       "    </tr>\n",
       "    <tr>\n",
       "      <th>xgb</th>\n",
       "      <td>30.37 +/- 5.827</td>\n",
       "      <td>0.01 +/- 0.002</td>\n",
       "      <td>0.281 +/- 0.019</td>\n",
       "      <td>1.196 +/- 0.017</td>\n",
       "      <td>1.242 +/- 0.003</td>\n",
       "      <td>0.136 +/- 0.004</td>\n",
       "      <td>0.874 +/- 0.032</td>\n",
       "      <td>0.928 +/- 0.038</td>\n",
       "      <td>0.982 +/- 0.003</td>\n",
       "      <td>0.658 +/- 0.035</td>\n",
       "      <td>0.676 +/- 0.023</td>\n",
       "      <td>0.991 +/- 0.001</td>\n",
       "      <td>0.818 +/- 0.024</td>\n",
       "      <td>0.831 +/- 0.015</td>\n",
       "    </tr>\n",
       "    <tr>\n",
       "      <th>krr</th>\n",
       "      <td>0.227 +/- 0.045</td>\n",
       "      <td>0.029 +/- 0.007</td>\n",
       "      <td>0.256 +/- 0.021</td>\n",
       "      <td>1.831 +/- 0.137</td>\n",
       "      <td>1.857 +/- 0.087</td>\n",
       "      <td>0.072 +/- 0.003</td>\n",
       "      <td>1.34 +/- 0.076</td>\n",
       "      <td>1.327 +/- 0.078</td>\n",
       "      <td>0.985 +/- 0.002</td>\n",
       "      <td>0.183 +/- 0.2</td>\n",
       "      <td>0.272 +/- 0.109</td>\n",
       "      <td>0.992 +/- 0.001</td>\n",
       "      <td>0.601 +/- 0.108</td>\n",
       "      <td>0.636 +/- 0.08</td>\n",
       "    </tr>\n",
       "    <tr>\n",
       "      <th>gp</th>\n",
       "      <td>22.014 +/- 0.748</td>\n",
       "      <td>0.129 +/- 0.008</td>\n",
       "      <td>1.174 +/- 0.017</td>\n",
       "      <td>1.622 +/- 0.021</td>\n",
       "      <td>1.644 +/- 0.032</td>\n",
       "      <td>0.902 +/- 0.012</td>\n",
       "      <td>1.257 +/- 0.01</td>\n",
       "      <td>1.305 +/- 0.032</td>\n",
       "      <td>0.683 +/- 0.011</td>\n",
       "      <td>0.372 +/- 0.039</td>\n",
       "      <td>0.433 +/- 0.039</td>\n",
       "      <td>0.931 +/- 0.003</td>\n",
       "      <td>0.729 +/- 0.057</td>\n",
       "      <td>0.765 +/- 0.036</td>\n",
       "    </tr>\n",
       "  </tbody>\n",
       "</table>\n",
       "</div>"
      ],
      "text/plain": [
       "             fit_time       score_time       train_RMSE         val_RMSE  \\\n",
       "rf   14.972 +/- 3.355  0.119 +/- 0.027  0.477 +/- 0.013  1.242 +/- 0.018   \n",
       "xgb   30.37 +/- 5.827   0.01 +/- 0.002  0.281 +/- 0.019  1.196 +/- 0.017   \n",
       "krr   0.227 +/- 0.045  0.029 +/- 0.007  0.256 +/- 0.021  1.831 +/- 0.137   \n",
       "gp   22.014 +/- 0.748  0.129 +/- 0.008  1.174 +/- 0.017  1.622 +/- 0.021   \n",
       "\n",
       "           test_RMSE        train_MAE          val_MAE         test_MAE  \\\n",
       "rf    1.21 +/- 0.089  0.335 +/- 0.004  0.919 +/- 0.008   0.914 +/- 0.06   \n",
       "xgb  1.242 +/- 0.003  0.136 +/- 0.004  0.874 +/- 0.032  0.928 +/- 0.038   \n",
       "krr  1.857 +/- 0.087  0.072 +/- 0.003   1.34 +/- 0.076  1.327 +/- 0.078   \n",
       "gp   1.644 +/- 0.032  0.902 +/- 0.012   1.257 +/- 0.01  1.305 +/- 0.032   \n",
       "\n",
       "           train_R^2          val_R^2         test_R^2  train_pearson_r  \\\n",
       "rf   0.948 +/- 0.003  0.631 +/- 0.033  0.688 +/- 0.065  0.979 +/- 0.001   \n",
       "xgb  0.982 +/- 0.003  0.658 +/- 0.035  0.676 +/- 0.023  0.991 +/- 0.001   \n",
       "krr  0.985 +/- 0.002    0.183 +/- 0.2  0.272 +/- 0.109  0.992 +/- 0.001   \n",
       "gp   0.683 +/- 0.011  0.372 +/- 0.039  0.433 +/- 0.039  0.931 +/- 0.003   \n",
       "\n",
       "       val_pearson_r   test_pearson_r  \n",
       "rf   0.804 +/- 0.024  0.833 +/- 0.041  \n",
       "xgb  0.818 +/- 0.024  0.831 +/- 0.015  \n",
       "krr  0.601 +/- 0.108   0.636 +/- 0.08  \n",
       "gp   0.729 +/- 0.057  0.765 +/- 0.036  "
      ]
     },
     "execution_count": 64,
     "metadata": {},
     "output_type": "execute_result"
    }
   ],
   "source": [
    "presentable_all_means_stds = presentable_all_means.copy()\n",
    "for i in presentable_all_means_stds.index:\n",
    "    for j in presentable_all_means_stds.columns:\n",
    "        presentable_all_means_stds.loc[i, j] = str(presentable_all_means.loc[i, j]) + ' +/- ' + str(presentable_all_stds.loc[i, j])\n",
    "        \n",
    "presentable_all_means_stds"
   ]
  },
  {
   "cell_type": "markdown",
   "metadata": {
    "colab_type": "text",
    "id": "ASA9a6vbAQWj"
   },
   "source": [
    "# Save results to csv files"
   ]
  },
  {
   "cell_type": "code",
   "execution_count": 65,
   "metadata": {
    "colab": {},
    "colab_type": "code",
    "id": "nJ74TseFAQWl"
   },
   "outputs": [],
   "source": [
    "if grid_search_type == 'reproducing':\n",
    "    presentable_all_means.to_csv(f'../tables/{dataset}_{smile_type}_{grid_search_type}_random_search_best_means.csv', index=True)\n",
    "    presentable_all_stds.to_csv(f'../tables/{dataset}_{smile_type}_{grid_search_type}_random_search_best_stds.csv', index=True)\n",
    "    presentable_all_means_stds.to_csv(f'../tables/{dataset}_{smile_type}_{grid_search_type}_random_search_best_means_pm_stds.csv', index=True)\n",
    "else:\n",
    "    pass"
   ]
  },
  {
   "cell_type": "code",
   "execution_count": null,
   "metadata": {},
   "outputs": [],
   "source": []
  }
 ],
 "metadata": {
  "colab": {
   "collapsed_sections": [],
   "name": "visualise_extended_grid_search_results.ipynb",
   "provenance": []
  },
  "kernelspec": {
   "display_name": "Python [conda env:batch-msc] *",
   "language": "python",
   "name": "conda-env-batch-msc-py"
  },
  "language_info": {
   "codemirror_mode": {
    "name": "ipython",
    "version": 3
   },
   "file_extension": ".py",
   "mimetype": "text/x-python",
   "name": "python",
   "nbconvert_exporter": "python",
   "pygments_lexer": "ipython3",
   "version": "3.6.10"
  }
 },
 "nbformat": 4,
 "nbformat_minor": 1
}
