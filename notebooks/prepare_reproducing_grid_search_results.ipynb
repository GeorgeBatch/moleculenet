{
 "cells": [
  {
   "cell_type": "markdown",
   "metadata": {},
   "source": [
    "# Setup"
   ]
  },
  {
   "cell_type": "markdown",
   "metadata": {},
   "source": [
    "## Look around"
   ]
  },
  {
   "cell_type": "code",
   "execution_count": 1,
   "metadata": {
    "colab": {},
    "colab_type": "code",
    "id": "VbUH1eOtObXp",
    "outputId": "dce5a945-dc95-4b37-b002-99aad21517b3"
   },
   "outputs": [
    {
     "name": "stdout",
     "output_type": "stream",
     "text": [
      "colab_extended_GPflow_pipeline.ipynb\r\n",
      "colab_extended_grid_search_pipeline.ipynb\r\n",
      "colab_reproducing_ci_gp.ipynb\r\n",
      "colab_reproducing_ci_rf.ipynb\r\n",
      "colab_reproducing_grid_search_pipeline.ipynb\r\n",
      "eda.ipynb\r\n",
      "prepare_extended_grid_search_results.ipynb\r\n",
      "prepare_reproducing_grid_search_results.ipynb\r\n"
     ]
    }
   ],
   "source": [
    "%ls"
   ]
  },
  {
   "cell_type": "code",
   "execution_count": 2,
   "metadata": {
    "colab": {},
    "colab_type": "code",
    "id": "CyTRxipFObXw",
    "outputId": "eae6f7d2-af85-4e2e-8dcf-df43fe77be91"
   },
   "outputs": [
    {
     "name": "stdout",
     "output_type": "stream",
     "text": [
      "esol_original_extended_gp_tanimoto_train_test_scores.pickle\r\n",
      "esol_original_extended_gp_tanimoto_val_scores.pickle\r\n",
      "esol_original_extended_random_search_best_params_full.pickle\r\n",
      "esol_original_extended_random_search_best_params_reduced.pickle\r\n",
      "esol_original_extended_random_search_best_train_test_scores_full.pickle\r\n",
      "esol_original_extended_random_search_best_train_test_scores_reduced.pickle\r\n",
      "esol_original_extended_random_search_best_val_scores_full.pickle\r\n",
      "esol_original_extended_random_search_best_val_scores_reduced.pickle\r\n",
      "esol_original_extended_random_search_grid_params_reduced.pickle\r\n",
      "esol_original_reproducing_random_search_best_params.pickle\r\n",
      "esol_original_reproducing_random_search_best_train_test_scores.pickle\r\n",
      "esol_original_reproducing_random_search_best_val_scores.pickle\r\n",
      "esol_original_reproducing_random_search_grid_params.pickle\r\n",
      "freesolv_original_extended_gp_tanimoto_train_test_scores.pickle\r\n",
      "freesolv_original_extended_gp_tanimoto_val_scores.pickle\r\n",
      "freesolv_original_extended_random_search_best_params_full.pickle\r\n",
      "freesolv_original_extended_random_search_best_train_test_scores_full.pickle\r\n",
      "freesolv_original_extended_random_search_best_val_scores_full.pickle\r\n",
      "freesolv_original_extended_random_search_grid_params_full.pickle\r\n",
      "freesolv_original_reproducing_random_search_best_params.pickle\r\n",
      "freesolv_original_reproducing_random_search_best_train_test_scores.pickle\r\n",
      "freesolv_original_reproducing_random_search_best_val_scores.pickle\r\n",
      "freesolv_original_reproducing_random_search_grid_params.pickle\r\n",
      "lipophilicity_original_extended_gp_tanimoto_train_test_scores.pickle\r\n",
      "lipophilicity_original_extended_gp_tanimoto_val_scores.pickle\r\n",
      "lipophilicity_original_extended_random_search_best_params_full.pickle\r\n",
      "lipophilicity_original_extended_random_search_best_train_test_scores_full.pickle\r\n",
      "lipophilicity_original_extended_random_search_best_val_scores_full.pickle\r\n",
      "lipophilicity_original_extended_random_search_grid_params_full.pickle\r\n",
      "lipophilicity_original_reproducing_random_search_best_params.pickle\r\n",
      "lipophilicity_original_reproducing_random_search_best_train_test_scores.pickle\r\n",
      "lipophilicity_original_reproducing_random_search_best_val_scores.pickle\r\n",
      "lipophilicity_original_reproducing_random_search_grid_params.pickle\r\n"
     ]
    }
   ],
   "source": [
    "%ls ../results/"
   ]
  },
  {
   "cell_type": "markdown",
   "metadata": {},
   "source": [
    "## Import Modules"
   ]
  },
  {
   "cell_type": "markdown",
   "metadata": {},
   "source": [
    "### Standard imports"
   ]
  },
  {
   "cell_type": "code",
   "execution_count": 3,
   "metadata": {
    "colab": {},
    "colab_type": "code",
    "id": "FKInp93BObX0"
   },
   "outputs": [],
   "source": [
    "import pickle\n",
    "import json\n",
    "\n",
    "import sys\n",
    "\n",
    "import numpy as np\n",
    "import pandas as pd\n",
    "import matplotlib.pyplot as plt\n",
    "import seaborn as sns"
   ]
  },
  {
   "cell_type": "markdown",
   "metadata": {},
   "source": [
    "### Custom imports"
   ]
  },
  {
   "cell_type": "code",
   "execution_count": 4,
   "metadata": {},
   "outputs": [],
   "source": [
    "sys.path.insert(0, '..')\n",
    "\n",
    "# plotting\n",
    "from util_scripts.plotting_functions_and_vars import FIGSIZE_CI, FIGSIZE_HEATMAP, PLOTS_DIR\n",
    "from util_scripts.plotting_functions_and_vars import datasets_to_titles, datasets_to_units, metrics_to_labels\n",
    "from util_scripts.plotting_functions_and_vars import plot_algorithm_dataset_comparison_heatmap\n",
    "\n",
    "sys.path.insert(0, './notebooks')"
   ]
  },
  {
   "cell_type": "markdown",
   "metadata": {},
   "source": [
    "## CHOOSE dataset, smile_type, grid_search_type to visualize"
   ]
  },
  {
   "cell_type": "code",
   "execution_count": 5,
   "metadata": {
    "colab": {},
    "colab_type": "code",
    "executionInfo": {
     "elapsed": 1190,
     "status": "ok",
     "timestamp": 1595584172806,
     "user": {
      "displayName": "George Batchkala",
      "photoUrl": "",
      "userId": "17039292136363863281"
     },
     "user_tz": -180
    },
    "id": "96CqnRUHObX3"
   },
   "outputs": [],
   "source": [
    "# root = '../backup_results'\n",
    "root = '../results'"
   ]
  },
  {
   "cell_type": "code",
   "execution_count": 6,
   "metadata": {
    "colab": {},
    "colab_type": "code",
    "id": "cyalSHrqOiqN"
   },
   "outputs": [],
   "source": [
    "dataset = 'freesolv'\n",
    "assert dataset in ['freesolv', 'esol', 'lipophilicity']\n",
    "\n",
    "smile_type = 'original'\n",
    "assert smile_type in ['original', 'protonated']\n",
    "\n",
    "grid_search_type = 'reproducing'\n",
    "assert grid_search_type in ['reproducing', 'extended']"
   ]
  },
  {
   "cell_type": "markdown",
   "metadata": {},
   "source": [
    "## Titles, Units and Labels for datasets"
   ]
  },
  {
   "cell_type": "code",
   "execution_count": 7,
   "metadata": {},
   "outputs": [
    {
     "name": "stdout",
     "output_type": "stream",
     "text": [
      "freesolv      :  Solvation Energy\n",
      "esol          :  Log Solubility\n",
      "lipophilicity :  Octanol/Water Distribution Coefficient\n"
     ]
    }
   ],
   "source": [
    "for key, value in datasets_to_titles.items():\n",
    "    print(key, (13 - len(key))*' ' + ': ',  value)"
   ]
  },
  {
   "cell_type": "code",
   "execution_count": 8,
   "metadata": {},
   "outputs": [
    {
     "name": "stdout",
     "output_type": "stream",
     "text": [
      "freesolv      :  (kcal/mol)\n",
      "esol          :  (mol/litre)\n",
      "lipophilicity :  (logD)\n"
     ]
    }
   ],
   "source": [
    "for key, value in datasets_to_units.items():\n",
    "    print(key, (13 - len(key))*' ' + ': ',  value)"
   ]
  },
  {
   "cell_type": "code",
   "execution_count": 9,
   "metadata": {},
   "outputs": [
    {
     "name": "stdout",
     "output_type": "stream",
     "text": [
      "RMSE          :  root-mean-square error\n",
      "MAE           :  mean absolute error\n",
      "R^2           :  R^2 (coefficient of determination)\n",
      "pearson_r     :  Pearson correlation\n"
     ]
    }
   ],
   "source": [
    "for key, value in metrics_to_labels.items():\n",
    "    print(key, (13 - len(key))*' ' + ': ',  value)"
   ]
  },
  {
   "cell_type": "code",
   "execution_count": null,
   "metadata": {},
   "outputs": [],
   "source": []
  },
  {
   "cell_type": "markdown",
   "metadata": {},
   "source": [
    "## CHOOSE metric to display"
   ]
  },
  {
   "cell_type": "code",
   "execution_count": 10,
   "metadata": {},
   "outputs": [],
   "source": [
    "metric = 'RMSE'\n",
    "assert metric in metrics_to_labels"
   ]
  },
  {
   "cell_type": "code",
   "execution_count": 11,
   "metadata": {},
   "outputs": [],
   "source": [
    "if metric in ['RMSE', 'MAE']:\n",
    "    pass\n",
    "else:\n",
    "    # no units\n",
    "    datasets_to_units = {'freesolv': '', 'esol': '', 'lipophilicity': ''}"
   ]
  },
  {
   "cell_type": "markdown",
   "metadata": {},
   "source": [
    "## Load everything"
   ]
  },
  {
   "cell_type": "code",
   "execution_count": 12,
   "metadata": {},
   "outputs": [
    {
     "name": "stdout",
     "output_type": "stream",
     "text": [
      "esol_original_extended_gp_tanimoto_train_test_scores.pickle\r\n",
      "esol_original_extended_gp_tanimoto_val_scores.pickle\r\n",
      "esol_original_extended_random_search_best_params_full.pickle\r\n",
      "esol_original_extended_random_search_best_params_reduced.pickle\r\n",
      "esol_original_extended_random_search_best_train_test_scores_full.pickle\r\n",
      "esol_original_extended_random_search_best_train_test_scores_reduced.pickle\r\n",
      "esol_original_extended_random_search_best_val_scores_full.pickle\r\n",
      "esol_original_extended_random_search_best_val_scores_reduced.pickle\r\n",
      "esol_original_extended_random_search_grid_params_reduced.pickle\r\n",
      "esol_original_reproducing_random_search_best_params.pickle\r\n",
      "esol_original_reproducing_random_search_best_train_test_scores.pickle\r\n",
      "esol_original_reproducing_random_search_best_val_scores.pickle\r\n",
      "esol_original_reproducing_random_search_grid_params.pickle\r\n",
      "freesolv_original_extended_gp_tanimoto_train_test_scores.pickle\r\n",
      "freesolv_original_extended_gp_tanimoto_val_scores.pickle\r\n",
      "freesolv_original_extended_random_search_best_params_full.pickle\r\n",
      "freesolv_original_extended_random_search_best_train_test_scores_full.pickle\r\n",
      "freesolv_original_extended_random_search_best_val_scores_full.pickle\r\n",
      "freesolv_original_extended_random_search_grid_params_full.pickle\r\n",
      "freesolv_original_reproducing_random_search_best_params.pickle\r\n",
      "freesolv_original_reproducing_random_search_best_train_test_scores.pickle\r\n",
      "freesolv_original_reproducing_random_search_best_val_scores.pickle\r\n",
      "freesolv_original_reproducing_random_search_grid_params.pickle\r\n",
      "lipophilicity_original_extended_gp_tanimoto_train_test_scores.pickle\r\n",
      "lipophilicity_original_extended_gp_tanimoto_val_scores.pickle\r\n",
      "lipophilicity_original_extended_random_search_best_params_full.pickle\r\n",
      "lipophilicity_original_extended_random_search_best_train_test_scores_full.pickle\r\n",
      "lipophilicity_original_extended_random_search_best_val_scores_full.pickle\r\n",
      "lipophilicity_original_extended_random_search_grid_params_full.pickle\r\n",
      "lipophilicity_original_reproducing_random_search_best_params.pickle\r\n",
      "lipophilicity_original_reproducing_random_search_best_train_test_scores.pickle\r\n",
      "lipophilicity_original_reproducing_random_search_best_val_scores.pickle\r\n",
      "lipophilicity_original_reproducing_random_search_grid_params.pickle\r\n"
     ]
    }
   ],
   "source": [
    "%ls ../results/"
   ]
  },
  {
   "cell_type": "code",
   "execution_count": 13,
   "metadata": {
    "colab": {},
    "colab_type": "code",
    "id": "X2glbcNcObX6"
   },
   "outputs": [],
   "source": [
    "with open(f'../results/{dataset}_{smile_type}_{grid_search_type}_random_search_best_val_scores.pickle', 'rb') as fp:\n",
    "    val_scores = pickle.load(fp)\n",
    "\n",
    "with open(f'../results/{dataset}_{smile_type}_{grid_search_type}_random_search_best_train_test_scores.pickle', 'rb') as fp:\n",
    "    train_test_scores = pickle.load(fp)\n",
    "\n",
    "with open(f'../results/{dataset}_{smile_type}_{grid_search_type}_random_search_best_params.pickle', 'rb') as fp:\n",
    "    best_params = pickle.load(fp)\n",
    "\n",
    "with open(f'../results/{dataset}_{smile_type}_{grid_search_type}_random_search_grid_params.pickle', 'rb') as fp:\n",
    "    params = pickle.load(fp)"
   ]
  },
  {
   "cell_type": "code",
   "execution_count": 14,
   "metadata": {},
   "outputs": [
    {
     "data": {
      "text/plain": [
       "{'1024ecfp-4': {'rf': {'rf__n_estimators': 500},\n",
       "  'xgb': {'xgb__n_estimators': 100,\n",
       "   'xgb__max_depth': 7,\n",
       "   'xgb__learning_rate': 0.2},\n",
       "  'krr': {'krr__alpha': 0.01},\n",
       "  'gp': {'gp__kernel': Matern(length_scale=1, nu=1.5) + WhiteKernel(noise_level=1)}}}"
      ]
     },
     "execution_count": 14,
     "metadata": {},
     "output_type": "execute_result"
    }
   ],
   "source": [
    "best_params"
   ]
  },
  {
   "cell_type": "code",
   "execution_count": 15,
   "metadata": {
    "colab": {},
    "colab_type": "code",
    "id": "_-z1xc4UObX9"
   },
   "outputs": [],
   "source": [
    "# with open(f'{root}/{dataset}_{smile_type}_random_search_best_params.json', 'r') as f:\n",
    "#     best_params = json.load(f)\n",
    "\n",
    "# with open(f'{root}/{dataset}_{smile_type}_random_search_best_cv_scores.json', 'r') as f:\n",
    "#     cv_scores = json.load(f)\n",
    "    \n",
    "# with open(f'{root}/{dataset}_{smile_type}_random_search_best_test_score.json', 'r') as f:\n",
    "#     test_score = json.load(f)"
   ]
  },
  {
   "cell_type": "markdown",
   "metadata": {},
   "source": [
    "Have a look at best parameters."
   ]
  },
  {
   "cell_type": "code",
   "execution_count": 16,
   "metadata": {
    "colab": {},
    "colab_type": "code",
    "id": "9j7rbVktObYA",
    "outputId": "970b69b5-d5eb-4b3d-df18-8dca22fdfe26"
   },
   "outputs": [
    {
     "data": {
      "text/plain": [
       "{'rf': {'rf__n_estimators': 500},\n",
       " 'xgb': {'xgb__n_estimators': 100,\n",
       "  'xgb__max_depth': 7,\n",
       "  'xgb__learning_rate': 0.2},\n",
       " 'krr': {'krr__alpha': 0.01},\n",
       " 'gp': {'gp__kernel': Matern(length_scale=1, nu=1.5) + WhiteKernel(noise_level=1)}}"
      ]
     },
     "execution_count": 16,
     "metadata": {},
     "output_type": "execute_result"
    }
   ],
   "source": [
    "best_params['1024ecfp-4']"
   ]
  },
  {
   "cell_type": "markdown",
   "metadata": {},
   "source": [
    "Have a look at the scores"
   ]
  },
  {
   "cell_type": "code",
   "execution_count": 17,
   "metadata": {},
   "outputs": [
    {
     "data": {
      "text/plain": [
       "{'1024ecfp-4': {'rf': {'fit_time': array([13.67025661, 13.5763967 ,  8.72875261]),\n",
       "   'score_time': array([0.06913567, 0.06881833, 0.04356933]),\n",
       "   'test_RMSE': array([-2.0652686 , -2.7198849 , -2.44871824]),\n",
       "   'test_MAE': array([-1.32842992, -1.21508427, -1.41746871]),\n",
       "   'test_R^2': array([0.68958705, 0.59216012, 0.61828794]),\n",
       "   'test_pearson_r': array([0.84292259, 0.76972331, 0.81527464])},\n",
       "  'xgb': {'fit_time': array([3.76285124, 3.72412491, 2.4172976 ]),\n",
       "   'score_time': array([0.02843904, 0.02651   , 0.01561689]),\n",
       "   'test_RMSE': array([-1.99913261, -2.17552875, -2.06884979]),\n",
       "   'test_MAE': array([-1.34843504, -1.16502681, -1.30771738]),\n",
       "   'test_R^2': array([0.70914941, 0.73907344, 0.72753158]),\n",
       "   'test_pearson_r': array([0.84566209, 0.8647542 , 0.85898064])},\n",
       "  'krr': {'fit_time': array([0.07818103, 0.10201812, 0.06083035]),\n",
       "   'score_time': array([0.01396918, 0.01514673, 0.00926852]),\n",
       "   'test_RMSE': array([-1.95879198, -2.31997877, -2.11971704]),\n",
       "   'test_MAE': array([-1.36544878, -1.2765197 , -1.27645511]),\n",
       "   'test_R^2': array([0.72076916, 0.70327328, 0.71396839]),\n",
       "   'test_pearson_r': array([0.85859846, 0.84945982, 0.86013496])},\n",
       "  'gp': {'fit_time': array([3.42485428, 3.46040082, 2.61937094]),\n",
       "   'score_time': array([0.05530238, 0.05417252, 0.0423162 ]),\n",
       "   'test_RMSE': array([-1.90989679, -2.30762198, -2.08354912]),\n",
       "   'test_MAE': array([-1.29390211, -1.14473819, -1.23274276]),\n",
       "   'test_R^2': array([0.73453545, 0.70642574, 0.72364601]),\n",
       "   'test_pearson_r': array([0.86862822, 0.85421046, 0.8650217 ])}}}"
      ]
     },
     "execution_count": 17,
     "metadata": {},
     "output_type": "execute_result"
    }
   ],
   "source": [
    "val_scores"
   ]
  },
  {
   "cell_type": "code",
   "execution_count": 18,
   "metadata": {},
   "outputs": [
    {
     "data": {
      "text/plain": [
       "{'1024ecfp-4': {'rf': {'fit_time': array([15.67559266, 16.02740407,  9.75516558]),\n",
       "   'score_time': array([0.06949973, 0.07967043, 0.04433656]),\n",
       "   'test_RMSE': array([-2.77690922, -2.65768954, -1.76339967]),\n",
       "   'train_RMSE': array([-0.7360855 , -0.72892177, -0.78293156]),\n",
       "   'test_MAE': array([-1.42775852, -1.36813067, -1.12448039]),\n",
       "   'train_MAE': array([-0.44268967, -0.44196825, -0.46686006]),\n",
       "   'test_R^2': array([0.63116894, 0.61007431, 0.75311989]),\n",
       "   'train_R^2': array([0.96155298, 0.96312065, 0.95920749]),\n",
       "   'test_pearson_r': array([0.81025325, 0.7889467 , 0.87504886]),\n",
       "   'train_pearson_r': array([0.98496308, 0.98547644, 0.98422494])},\n",
       "  'xgb': {'fit_time': array([4.40001607, 4.39198852, 2.79412842]),\n",
       "   'score_time': array([0.02725291, 0.02746487, 0.01554537]),\n",
       "   'test_RMSE': array([-2.51279695, -2.08709943, -1.70853487]),\n",
       "   'train_RMSE': array([-0.3954944 , -0.43837734, -0.43556319]),\n",
       "   'test_MAE': array([-1.51294224, -1.21292516, -1.12651943]),\n",
       "   'train_MAE': array([-0.27747258, -0.30533891, -0.30923816]),\n",
       "   'test_R^2': array([0.69799168, 0.7595307 , 0.76824331]),\n",
       "   'train_R^2': array([0.98890092, 0.98666117, 0.98737489]),\n",
       "   'test_pearson_r': array([0.8362798 , 0.87697744, 0.87711849]),\n",
       "   'train_pearson_r': array([0.99494583, 0.99393138, 0.99425164])},\n",
       "  'krr': {'fit_time': array([0.09934425, 0.08883786, 0.047405  ]),\n",
       "   'score_time': array([0.01572824, 0.01616025, 0.01387167]),\n",
       "   'test_RMSE': array([-2.37173427, -2.25935663, -1.73553245]),\n",
       "   'train_RMSE': array([-0.99626073, -1.01393953, -1.03219153]),\n",
       "   'test_MAE': array([-1.36827568, -1.2133649 , -1.2158198 ]),\n",
       "   'train_MAE': array([-0.70586524, -0.72199015, -0.71794304]),\n",
       "   'test_R^2': array([0.73094803, 0.71819874, 0.76086119]),\n",
       "   'train_R^2': array([0.92957088, 0.92864153, 0.92909882]),\n",
       "   'test_pearson_r': array([0.86779977, 0.85308865, 0.87339988]),\n",
       "   'train_pearson_r': array([0.96944744, 0.96872471, 0.96916742])},\n",
       "  'gp': {'fit_time': array([4.03515315, 4.0866909 , 3.2773695 ]),\n",
       "   'score_time': array([0.05736327, 0.0620594 , 0.04862189]),\n",
       "   'test_RMSE': array([-2.2428636 , -2.04912383, -1.70633683]),\n",
       "   'train_RMSE': array([-0.05834061, -0.05942477, -0.058554  ]),\n",
       "   'test_MAE': array([-1.32004502, -1.04124666, -1.1498261 ]),\n",
       "   'train_MAE': array([-0.02987668, -0.03112724, -0.03006151]),\n",
       "   'test_R^2': array([0.75939212, 0.76820196, 0.76883924]),\n",
       "   'train_R^2': array([0.99975848, 0.99975489, 0.99977184]),\n",
       "   'test_pearson_r': array([0.88660352, 0.88312109, 0.88066633]),\n",
       "   'train_pearson_r': array([0.99988831, 0.99988739, 0.99989405])}}}"
      ]
     },
     "execution_count": 18,
     "metadata": {},
     "output_type": "execute_result"
    }
   ],
   "source": [
    "train_test_scores"
   ]
  },
  {
   "cell_type": "markdown",
   "metadata": {},
   "source": [
    "Get the means over folds (cross_validate records the results as arrays even for one fold)"
   ]
  },
  {
   "cell_type": "code",
   "execution_count": 19,
   "metadata": {},
   "outputs": [
    {
     "data": {
      "text/plain": [
       "{'1024ecfp-4': {'rf': {'fit_time': 13.819387435913086,\n",
       "   'score_time': 0.06450223922729492,\n",
       "   'test_RMSE': 2.3993328102691684,\n",
       "   'train_RMSE': 0.7493129417520509,\n",
       "   'test_MAE': 1.3067898623524632,\n",
       "   'train_MAE': 0.4505059927017589,\n",
       "   'test_R^2': 0.6647877150182208,\n",
       "   'train_R^2': 0.961293704308392,\n",
       "   'test_pearson_r': 0.8247496033044065,\n",
       "   'train_pearson_r': 0.984888150698129},\n",
       "  'xgb': {'fit_time': 3.862044334411621,\n",
       "   'score_time': 0.023421049118041992,\n",
       "   'test_RMSE': 2.102810418992084,\n",
       "   'train_RMSE': 0.42314497569255743,\n",
       "   'test_MAE': 1.2841289445620319,\n",
       "   'train_MAE': 0.29734988428346687,\n",
       "   'test_R^2': 0.7419218958330428,\n",
       "   'train_R^2': 0.9876456618804891,\n",
       "   'test_pearson_r': 0.8634585764183352,\n",
       "   'train_pearson_r': 0.9943762846451496},\n",
       "  'krr': {'fit_time': 0.07852904001871745,\n",
       "   'score_time': 0.015253384908040365,\n",
       "   'test_RMSE': 2.1222077868266744,\n",
       "   'train_RMSE': 1.01413059699117,\n",
       "   'test_MAE': 1.2658201252850467,\n",
       "   'train_MAE': 0.7152661456146033,\n",
       "   'test_R^2': 0.7366693189829933,\n",
       "   'train_R^2': 0.9291037461018884,\n",
       "   'test_pearson_r': 0.86476276634155,\n",
       "   'train_pearson_r': 0.9691131898769546},\n",
       "  'gp': {'fit_time': 3.7997378508249917,\n",
       "   'score_time': 0.0560148557027181,\n",
       "   'test_RMSE': 1.999441419013846,\n",
       "   'train_RMSE': 0.05877312732325196,\n",
       "   'test_MAE': 1.1703725915832905,\n",
       "   'train_MAE': 0.030355145785351655,\n",
       "   'test_R^2': 0.7654777727591053,\n",
       "   'train_R^2': 0.9997617373080643,\n",
       "   'test_pearson_r': 0.883463646813195,\n",
       "   'train_pearson_r': 0.9998899149346027}}}"
      ]
     },
     "execution_count": 19,
     "metadata": {},
     "output_type": "execute_result"
    }
   ],
   "source": [
    "mean_val_scores = {features: {model: {record: np.abs(val_scores[features][model][record].mean()) for record in val_scores[features][model]} for model in val_scores[features]} for features in val_scores}\n",
    "mean_train_test_scores = {features: {model: {record: np.abs(train_test_scores[features][model][record].mean()) for record in train_test_scores[features][model]} for model in train_test_scores[features]} for features in train_test_scores}\n",
    "\n",
    "mean_train_test_scores"
   ]
  },
  {
   "cell_type": "code",
   "execution_count": 20,
   "metadata": {},
   "outputs": [
    {
     "data": {
      "text/plain": [
       "{'1024ecfp-4': {'rf': {'fit_time': 2.3076424889321623,\n",
       "   'score_time': 0.011977992031772905,\n",
       "   'test_RMSE': 0.26855322066261805,\n",
       "   'test_MAE': 0.08282149465052677,\n",
       "   'test_R^2': 0.041174741402080994,\n",
       "   'test_pearson_r': 0.03017995491289836},\n",
       "  'xgb': {'fit_time': 0.6253720605559688,\n",
       "   'score_time': 0.005644944078987859,\n",
       "   'test_RMSE': 0.07253848104208606,\n",
       "   'test_MAE': 0.07863919567640305,\n",
       "   'test_R^2': 0.012322366023402994,\n",
       "   'test_pearson_r': 0.00799462647634182},\n",
       "  'krr': {'fit_time': 0.016884195612224283,\n",
       "   'score_time': 0.0025393828464985286,\n",
       "   'test_RMSE': 0.14774510186209644,\n",
       "   'test_MAE': 0.04193680231151645,\n",
       "   'test_R^2': 0.00720140432325303,\n",
       "   'test_pearson_r': 0.004712088888678398},\n",
       "  'gp': {'fit_time': 0.3883581154771111,\n",
       "   'score_time': 0.005873573725228352,\n",
       "   'test_RMSE': 0.16280496143417567,\n",
       "   'test_MAE': 0.061223765065121595,\n",
       "   'test_R^2': 0.011572346490645901,\n",
       "   'test_pearson_r': 0.0061260979102285605}}}"
      ]
     },
     "execution_count": 20,
     "metadata": {},
     "output_type": "execute_result"
    }
   ],
   "source": [
    "std_val_scores = {features: {model: {record: val_scores[features][model][record].std() for record in val_scores[features][model]} for model in val_scores[features]} for features in val_scores}\n",
    "std_train_test_scores = {features: {model: {record: train_test_scores[features][model][record].std() for record in train_test_scores[features][model]} for model in train_test_scores[features]} for features in train_test_scores}\n",
    "\n",
    "std_val_scores"
   ]
  },
  {
   "cell_type": "code",
   "execution_count": 21,
   "metadata": {},
   "outputs": [
    {
     "data": {
      "text/plain": [
       "{'1024ecfp-4': {'rf': {'fit_time': 11.991801977157593,\n",
       "   'score_time': 0.060507774353027344,\n",
       "   'test_RMSE': 2.4112905795778308,\n",
       "   'test_MAE': 1.3203276337118717,\n",
       "   'test_R^2': 0.6333450372790219,\n",
       "   'test_pearson_r': 0.8093068470084014},\n",
       "  'xgb': {'fit_time': 3.301424582799276,\n",
       "   'score_time': 0.023521979649861652,\n",
       "   'test_RMSE': 2.0811703820283145,\n",
       "   'test_MAE': 1.273726408872849,\n",
       "   'test_R^2': 0.7252514767792566,\n",
       "   'test_pearson_r': 0.8564656422655741},\n",
       "  'krr': {'fit_time': 0.08034316698710124,\n",
       "   'score_time': 0.012794812520345053,\n",
       "   'test_RMSE': 2.1328292645114857,\n",
       "   'test_MAE': 1.3061411926845305,\n",
       "   'test_R^2': 0.7126702761913101,\n",
       "   'test_pearson_r': 0.8560644145421757},\n",
       "  'gp': {'fit_time': 3.168208678563436,\n",
       "   'score_time': 0.050597031911214195,\n",
       "   'test_RMSE': 2.1003559617890493,\n",
       "   'test_MAE': 1.2237943549564063,\n",
       "   'test_R^2': 0.7215357332904843,\n",
       "   'test_pearson_r': 0.8626201290718131}}}"
      ]
     },
     "execution_count": 21,
     "metadata": {},
     "output_type": "execute_result"
    }
   ],
   "source": [
    "mean_val_scores"
   ]
  },
  {
   "cell_type": "markdown",
   "metadata": {},
   "source": [
    "# Visualization"
   ]
  },
  {
   "cell_type": "markdown",
   "metadata": {},
   "source": [
    "## Plotting options"
   ]
  },
  {
   "cell_type": "code",
   "execution_count": 22,
   "metadata": {
    "colab": {},
    "colab_type": "code",
    "id": "Zx8K4vRIObYF"
   },
   "outputs": [],
   "source": [
    "column_order = ['1024ecfp-4']\n",
    "\n",
    "row_order = ['Random Forest', 'XGBoost', 'Kernel Ridge', 'Gaussian Process']\n",
    "mapper = {\n",
    "    'rf': 'Random Forest',\n",
    "    'xgb': 'XGBoost',\n",
    "    'krr': 'Kernel Ridge',\n",
    "    'gp': 'Gaussian Process'\n",
    "}"
   ]
  },
  {
   "cell_type": "markdown",
   "metadata": {},
   "source": [
    "## Train metric"
   ]
  },
  {
   "cell_type": "code",
   "execution_count": 23,
   "metadata": {
    "colab": {},
    "colab_type": "code",
    "id": "Vo6S1WmkObYJ",
    "outputId": "301d944b-d6a7-4fe3-d07e-42283571b794"
   },
   "outputs": [
    {
     "name": "stdout",
     "output_type": "stream",
     "text": [
      "RMSE : root-mean-square error , unit: (kcal/mol)\n"
     ]
    },
    {
     "data": {
      "text/html": [
       "<div>\n",
       "<style scoped>\n",
       "    .dataframe tbody tr th:only-of-type {\n",
       "        vertical-align: middle;\n",
       "    }\n",
       "\n",
       "    .dataframe tbody tr th {\n",
       "        vertical-align: top;\n",
       "    }\n",
       "\n",
       "    .dataframe thead th {\n",
       "        text-align: right;\n",
       "    }\n",
       "</style>\n",
       "<table border=\"1\" class=\"dataframe\">\n",
       "  <thead>\n",
       "    <tr style=\"text-align: right;\">\n",
       "      <th></th>\n",
       "      <th>1024ecfp-4</th>\n",
       "    </tr>\n",
       "  </thead>\n",
       "  <tbody>\n",
       "    <tr>\n",
       "      <th>gp</th>\n",
       "      <td>0.06</td>\n",
       "    </tr>\n",
       "    <tr>\n",
       "      <th>krr</th>\n",
       "      <td>1.01</td>\n",
       "    </tr>\n",
       "    <tr>\n",
       "      <th>rf</th>\n",
       "      <td>0.75</td>\n",
       "    </tr>\n",
       "    <tr>\n",
       "      <th>xgb</th>\n",
       "      <td>0.42</td>\n",
       "    </tr>\n",
       "  </tbody>\n",
       "</table>\n",
       "</div>"
      ],
      "text/plain": [
       "     1024ecfp-4\n",
       "gp         0.06\n",
       "krr        1.01\n",
       "rf         0.75\n",
       "xgb        0.42"
      ]
     },
     "execution_count": 23,
     "metadata": {},
     "output_type": "execute_result"
    }
   ],
   "source": [
    "## pull out train scores for all features for all models (train set is the train set when working on train/test split )\n",
    "train_metric = pd.DataFrame({features: {model: mean_train_test_scores[features][model][f'train_{metric}'] for model in mean_train_test_scores[features]} for features in mean_train_test_scores})\n",
    "\n",
    "print(metric, ':',metrics_to_labels[metric], ', unit:', datasets_to_units[dataset])\n",
    "train_metric.round(2)"
   ]
  },
  {
   "cell_type": "code",
   "execution_count": 24,
   "metadata": {
    "colab": {},
    "colab_type": "code",
    "id": "4iiKcCOMObYM",
    "outputId": "e973f26c-605b-4c34-d8c0-56b4ec602627"
   },
   "outputs": [
    {
     "data": {
      "image/png": "[encoded data removed]",
      "text/plain": [
       "<Figure size 576x432 with 2 Axes>"
      ]
     },
     "metadata": {
      "needs_background": "light"
     },
     "output_type": "display_data"
    }
   ],
   "source": [
    "df = train_metric.round(2)\n",
    "df = df.rename(mapper=mapper, axis='rows')\n",
    "df = df.loc[row_order, column_order]\n",
    "\n",
    "plot_algorithm_dataset_comparison_heatmap(df, dataset=dataset, metric=metric)\n",
    "\n",
    "# fig.savefig('../figures/algorithm_comparison.jpg', dpi=350, bbox_inches='tight')\n",
    "plt.show()"
   ]
  },
  {
   "cell_type": "markdown",
   "metadata": {},
   "source": [
    "## Val metric"
   ]
  },
  {
   "cell_type": "code",
   "execution_count": 25,
   "metadata": {
    "colab": {},
    "colab_type": "code",
    "id": "KhoOQLCFObYP",
    "outputId": "42aa4335-580b-4444-c3a1-50e83b83f258"
   },
   "outputs": [
    {
     "name": "stdout",
     "output_type": "stream",
     "text": [
      "RMSE : root-mean-square error , unit: (kcal/mol)\n"
     ]
    },
    {
     "data": {
      "text/html": [
       "<div>\n",
       "<style scoped>\n",
       "    .dataframe tbody tr th:only-of-type {\n",
       "        vertical-align: middle;\n",
       "    }\n",
       "\n",
       "    .dataframe tbody tr th {\n",
       "        vertical-align: top;\n",
       "    }\n",
       "\n",
       "    .dataframe thead th {\n",
       "        text-align: right;\n",
       "    }\n",
       "</style>\n",
       "<table border=\"1\" class=\"dataframe\">\n",
       "  <thead>\n",
       "    <tr style=\"text-align: right;\">\n",
       "      <th></th>\n",
       "      <th>1024ecfp-4</th>\n",
       "    </tr>\n",
       "  </thead>\n",
       "  <tbody>\n",
       "    <tr>\n",
       "      <th>gp</th>\n",
       "      <td>2.10</td>\n",
       "    </tr>\n",
       "    <tr>\n",
       "      <th>krr</th>\n",
       "      <td>2.13</td>\n",
       "    </tr>\n",
       "    <tr>\n",
       "      <th>rf</th>\n",
       "      <td>2.41</td>\n",
       "    </tr>\n",
       "    <tr>\n",
       "      <th>xgb</th>\n",
       "      <td>2.08</td>\n",
       "    </tr>\n",
       "  </tbody>\n",
       "</table>\n",
       "</div>"
      ],
      "text/plain": [
       "     1024ecfp-4\n",
       "gp         2.10\n",
       "krr        2.13\n",
       "rf         2.41\n",
       "xgb        2.08"
      ]
     },
     "execution_count": 25,
     "metadata": {},
     "output_type": "execute_result"
    }
   ],
   "source": [
    "## pull out validation scores for all features for all models (validation set is a test set when working on train/val split )\n",
    "val_metric = pd.DataFrame({features: {model: mean_val_scores[features][model][f'test_{metric}'] for model in mean_val_scores[features]} for features in mean_val_scores})\n",
    "\n",
    "print(metric, ':',metrics_to_labels[metric], ', unit:', datasets_to_units[dataset])\n",
    "val_metric.round(2)"
   ]
  },
  {
   "cell_type": "code",
   "execution_count": 26,
   "metadata": {
    "colab": {},
    "colab_type": "code",
    "id": "eMiuZLM0ObYS",
    "outputId": "b8cf8667-05e8-4394-cf88-19c3605f9b5e"
   },
   "outputs": [
    {
     "data": {
      "image/png": "[encoded data removed]",
      "text/plain": [
       "<Figure size 576x432 with 2 Axes>"
      ]
     },
     "metadata": {
      "needs_background": "light"
     },
     "output_type": "display_data"
    }
   ],
   "source": [
    "df = val_metric.round(2)\n",
    "df = df.rename(mapper=mapper, axis='rows')\n",
    "df = df.loc[row_order, column_order]\n",
    "\n",
    "plot_algorithm_dataset_comparison_heatmap(df, dataset=dataset, metric=metric)\n",
    "\n",
    "# fig.savefig('../figures/algorithm_comparison.jpg', dpi=350, bbox_inches='tight')\n",
    "plt.show()"
   ]
  },
  {
   "cell_type": "markdown",
   "metadata": {},
   "source": [
    "## Test metric"
   ]
  },
  {
   "cell_type": "code",
   "execution_count": 27,
   "metadata": {
    "colab": {},
    "colab_type": "code",
    "id": "1Npsyrn0ObYV",
    "outputId": "692f88c5-1e1f-4424-979a-8db0907141ad"
   },
   "outputs": [
    {
     "name": "stdout",
     "output_type": "stream",
     "text": [
      "RMSE : root-mean-square error , unit: (kcal/mol)\n"
     ]
    },
    {
     "data": {
      "text/html": [
       "<div>\n",
       "<style scoped>\n",
       "    .dataframe tbody tr th:only-of-type {\n",
       "        vertical-align: middle;\n",
       "    }\n",
       "\n",
       "    .dataframe tbody tr th {\n",
       "        vertical-align: top;\n",
       "    }\n",
       "\n",
       "    .dataframe thead th {\n",
       "        text-align: right;\n",
       "    }\n",
       "</style>\n",
       "<table border=\"1\" class=\"dataframe\">\n",
       "  <thead>\n",
       "    <tr style=\"text-align: right;\">\n",
       "      <th></th>\n",
       "      <th>1024ecfp-4</th>\n",
       "    </tr>\n",
       "  </thead>\n",
       "  <tbody>\n",
       "    <tr>\n",
       "      <th>gp</th>\n",
       "      <td>2.00</td>\n",
       "    </tr>\n",
       "    <tr>\n",
       "      <th>krr</th>\n",
       "      <td>2.12</td>\n",
       "    </tr>\n",
       "    <tr>\n",
       "      <th>rf</th>\n",
       "      <td>2.40</td>\n",
       "    </tr>\n",
       "    <tr>\n",
       "      <th>xgb</th>\n",
       "      <td>2.10</td>\n",
       "    </tr>\n",
       "  </tbody>\n",
       "</table>\n",
       "</div>"
      ],
      "text/plain": [
       "     1024ecfp-4\n",
       "gp         2.00\n",
       "krr        2.12\n",
       "rf         2.40\n",
       "xgb        2.10"
      ]
     },
     "execution_count": 27,
     "metadata": {},
     "output_type": "execute_result"
    }
   ],
   "source": [
    "## pull out validation scores for all features for all models (validation set is a test set when working on train/val split )\n",
    "test_metric = pd.DataFrame({features: {model: mean_train_test_scores[features][model][f'test_{metric}'] for model in mean_train_test_scores[features]} for features in mean_train_test_scores})\n",
    "\n",
    "print(metric, ':',metrics_to_labels[metric], ', unit:', datasets_to_units[dataset])\n",
    "test_metric.round(2)"
   ]
  },
  {
   "cell_type": "code",
   "execution_count": 28,
   "metadata": {
    "colab": {},
    "colab_type": "code",
    "id": "xLiKrnQAObYY",
    "outputId": "ae3f0a3d-6df0-4473-daef-07fdb6ddbc1c"
   },
   "outputs": [
    {
     "data": {
      "image/png": "[encoded data removed]",
      "text/plain": [
       "<Figure size 576x432 with 2 Axes>"
      ]
     },
     "metadata": {
      "needs_background": "light"
     },
     "output_type": "display_data"
    }
   ],
   "source": [
    "df = test_metric.round(2)\n",
    "df = df.rename(mapper=mapper, axis='rows')\n",
    "df = df.loc[row_order, column_order]\n",
    "\n",
    "plot_algorithm_dataset_comparison_heatmap(df, dataset=dataset, metric=metric)\n",
    "\n",
    "# fig.savefig('../figures/algorithm_comparison.jpg', dpi=350, bbox_inches='tight')\n",
    "plt.show()"
   ]
  },
  {
   "cell_type": "markdown",
   "metadata": {
    "colab": {},
    "colab_type": "code",
    "id": "9OFPhzLsObYb"
   },
   "source": [
    "# Creating a table with all the scores"
   ]
  },
  {
   "cell_type": "markdown",
   "metadata": {},
   "source": [
    "## Train and test scores data frame"
   ]
  },
  {
   "cell_type": "code",
   "execution_count": 29,
   "metadata": {},
   "outputs": [
    {
     "data": {
      "text/html": [
       "<div>\n",
       "<style scoped>\n",
       "    .dataframe tbody tr th:only-of-type {\n",
       "        vertical-align: middle;\n",
       "    }\n",
       "\n",
       "    .dataframe tbody tr th {\n",
       "        vertical-align: top;\n",
       "    }\n",
       "\n",
       "    .dataframe thead th {\n",
       "        text-align: right;\n",
       "    }\n",
       "</style>\n",
       "<table border=\"1\" class=\"dataframe\">\n",
       "  <thead>\n",
       "    <tr style=\"text-align: right;\">\n",
       "      <th></th>\n",
       "      <th>fit_time</th>\n",
       "      <th>score_time</th>\n",
       "      <th>test_RMSE</th>\n",
       "      <th>train_RMSE</th>\n",
       "      <th>test_MAE</th>\n",
       "      <th>train_MAE</th>\n",
       "      <th>test_R^2</th>\n",
       "      <th>train_R^2</th>\n",
       "      <th>test_pearson_r</th>\n",
       "      <th>train_pearson_r</th>\n",
       "    </tr>\n",
       "  </thead>\n",
       "  <tbody>\n",
       "    <tr>\n",
       "      <th>rf</th>\n",
       "      <td>2.877426</td>\n",
       "      <td>0.014852</td>\n",
       "      <td>0.452299</td>\n",
       "      <td>0.023951</td>\n",
       "      <td>0.131191</td>\n",
       "      <td>0.011568</td>\n",
       "      <td>0.063051</td>\n",
       "      <td>0.001608</td>\n",
       "      <td>0.036615</td>\n",
       "      <td>0.000514</td>\n",
       "    </tr>\n",
       "    <tr>\n",
       "      <th>xgb</th>\n",
       "      <td>0.755138</td>\n",
       "      <td>0.005570</td>\n",
       "      <td>0.328527</td>\n",
       "      <td>0.019586</td>\n",
       "      <td>0.165596</td>\n",
       "      <td>0.014145</td>\n",
       "      <td>0.031266</td>\n",
       "      <td>0.000934</td>\n",
       "      <td>0.019218</td>\n",
       "      <td>0.000423</td>\n",
       "    </tr>\n",
       "    <tr>\n",
       "      <th>krr</th>\n",
       "      <td>0.022422</td>\n",
       "      <td>0.000993</td>\n",
       "      <td>0.277243</td>\n",
       "      <td>0.014669</td>\n",
       "      <td>0.072454</td>\n",
       "      <td>0.006850</td>\n",
       "      <td>0.017881</td>\n",
       "      <td>0.000379</td>\n",
       "      <td>0.008566</td>\n",
       "      <td>0.000298</td>\n",
       "    </tr>\n",
       "    <tr>\n",
       "      <th>gp</th>\n",
       "      <td>0.369969</td>\n",
       "      <td>0.005568</td>\n",
       "      <td>0.221836</td>\n",
       "      <td>0.000469</td>\n",
       "      <td>0.114742</td>\n",
       "      <td>0.000551</td>\n",
       "      <td>0.004311</td>\n",
       "      <td>0.000007</td>\n",
       "      <td>0.002436</td>\n",
       "      <td>0.000003</td>\n",
       "    </tr>\n",
       "  </tbody>\n",
       "</table>\n",
       "</div>"
      ],
      "text/plain": [
       "     fit_time  score_time  test_RMSE  train_RMSE  test_MAE  train_MAE  \\\n",
       "rf   2.877426    0.014852   0.452299    0.023951  0.131191   0.011568   \n",
       "xgb  0.755138    0.005570   0.328527    0.019586  0.165596   0.014145   \n",
       "krr  0.022422    0.000993   0.277243    0.014669  0.072454   0.006850   \n",
       "gp   0.369969    0.005568   0.221836    0.000469  0.114742   0.000551   \n",
       "\n",
       "     test_R^2  train_R^2  test_pearson_r  train_pearson_r  \n",
       "rf   0.063051   0.001608        0.036615         0.000514  \n",
       "xgb  0.031266   0.000934        0.019218         0.000423  \n",
       "krr  0.017881   0.000379        0.008566         0.000298  \n",
       "gp   0.004311   0.000007        0.002436         0.000003  "
      ]
     },
     "execution_count": 29,
     "metadata": {},
     "output_type": "execute_result"
    }
   ],
   "source": [
    "train_test_means_df = pd.DataFrame(mean_train_test_scores['1024ecfp-4']).T\n",
    "train_test_stds_df = pd.DataFrame(std_train_test_scores['1024ecfp-4']).T\n",
    "\n",
    "train_test_stds_df"
   ]
  },
  {
   "cell_type": "markdown",
   "metadata": {},
   "source": [
    "## Validation scores data frame"
   ]
  },
  {
   "cell_type": "markdown",
   "metadata": {},
   "source": [
    "### Changing col names to 'val_\\*' form 'test_\\*'"
   ]
  },
  {
   "cell_type": "code",
   "execution_count": 30,
   "metadata": {},
   "outputs": [
    {
     "data": {
      "text/html": [
       "<div>\n",
       "<style scoped>\n",
       "    .dataframe tbody tr th:only-of-type {\n",
       "        vertical-align: middle;\n",
       "    }\n",
       "\n",
       "    .dataframe tbody tr th {\n",
       "        vertical-align: top;\n",
       "    }\n",
       "\n",
       "    .dataframe thead th {\n",
       "        text-align: right;\n",
       "    }\n",
       "</style>\n",
       "<table border=\"1\" class=\"dataframe\">\n",
       "  <thead>\n",
       "    <tr style=\"text-align: right;\">\n",
       "      <th></th>\n",
       "      <th>fit_time</th>\n",
       "      <th>score_time</th>\n",
       "      <th>test_RMSE</th>\n",
       "      <th>test_MAE</th>\n",
       "      <th>test_R^2</th>\n",
       "      <th>test_pearson_r</th>\n",
       "    </tr>\n",
       "  </thead>\n",
       "  <tbody>\n",
       "    <tr>\n",
       "      <th>rf</th>\n",
       "      <td>2.307642</td>\n",
       "      <td>0.011978</td>\n",
       "      <td>0.268553</td>\n",
       "      <td>0.082821</td>\n",
       "      <td>0.041175</td>\n",
       "      <td>0.030180</td>\n",
       "    </tr>\n",
       "    <tr>\n",
       "      <th>xgb</th>\n",
       "      <td>0.625372</td>\n",
       "      <td>0.005645</td>\n",
       "      <td>0.072538</td>\n",
       "      <td>0.078639</td>\n",
       "      <td>0.012322</td>\n",
       "      <td>0.007995</td>\n",
       "    </tr>\n",
       "    <tr>\n",
       "      <th>krr</th>\n",
       "      <td>0.016884</td>\n",
       "      <td>0.002539</td>\n",
       "      <td>0.147745</td>\n",
       "      <td>0.041937</td>\n",
       "      <td>0.007201</td>\n",
       "      <td>0.004712</td>\n",
       "    </tr>\n",
       "    <tr>\n",
       "      <th>gp</th>\n",
       "      <td>0.388358</td>\n",
       "      <td>0.005874</td>\n",
       "      <td>0.162805</td>\n",
       "      <td>0.061224</td>\n",
       "      <td>0.011572</td>\n",
       "      <td>0.006126</td>\n",
       "    </tr>\n",
       "  </tbody>\n",
       "</table>\n",
       "</div>"
      ],
      "text/plain": [
       "     fit_time  score_time  test_RMSE  test_MAE  test_R^2  test_pearson_r\n",
       "rf   2.307642    0.011978   0.268553  0.082821  0.041175        0.030180\n",
       "xgb  0.625372    0.005645   0.072538  0.078639  0.012322        0.007995\n",
       "krr  0.016884    0.002539   0.147745  0.041937  0.007201        0.004712\n",
       "gp   0.388358    0.005874   0.162805  0.061224  0.011572        0.006126"
      ]
     },
     "execution_count": 30,
     "metadata": {},
     "output_type": "execute_result"
    }
   ],
   "source": [
    "val_means_df = pd.DataFrame(mean_val_scores['1024ecfp-4']).T\n",
    "val_stds_df = pd.DataFrame(std_val_scores['1024ecfp-4']).T\n",
    "\n",
    "val_stds_df"
   ]
  },
  {
   "cell_type": "code",
   "execution_count": 31,
   "metadata": {},
   "outputs": [
    {
     "data": {
      "text/html": [
       "<div>\n",
       "<style scoped>\n",
       "    .dataframe tbody tr th:only-of-type {\n",
       "        vertical-align: middle;\n",
       "    }\n",
       "\n",
       "    .dataframe tbody tr th {\n",
       "        vertical-align: top;\n",
       "    }\n",
       "\n",
       "    .dataframe thead th {\n",
       "        text-align: right;\n",
       "    }\n",
       "</style>\n",
       "<table border=\"1\" class=\"dataframe\">\n",
       "  <thead>\n",
       "    <tr style=\"text-align: right;\">\n",
       "      <th></th>\n",
       "      <th>test_RMSE</th>\n",
       "      <th>test_MAE</th>\n",
       "      <th>test_R^2</th>\n",
       "      <th>test_pearson_r</th>\n",
       "    </tr>\n",
       "  </thead>\n",
       "  <tbody>\n",
       "    <tr>\n",
       "      <th>rf</th>\n",
       "      <td>0.268553</td>\n",
       "      <td>0.082821</td>\n",
       "      <td>0.041175</td>\n",
       "      <td>0.030180</td>\n",
       "    </tr>\n",
       "    <tr>\n",
       "      <th>xgb</th>\n",
       "      <td>0.072538</td>\n",
       "      <td>0.078639</td>\n",
       "      <td>0.012322</td>\n",
       "      <td>0.007995</td>\n",
       "    </tr>\n",
       "    <tr>\n",
       "      <th>krr</th>\n",
       "      <td>0.147745</td>\n",
       "      <td>0.041937</td>\n",
       "      <td>0.007201</td>\n",
       "      <td>0.004712</td>\n",
       "    </tr>\n",
       "    <tr>\n",
       "      <th>gp</th>\n",
       "      <td>0.162805</td>\n",
       "      <td>0.061224</td>\n",
       "      <td>0.011572</td>\n",
       "      <td>0.006126</td>\n",
       "    </tr>\n",
       "  </tbody>\n",
       "</table>\n",
       "</div>"
      ],
      "text/plain": [
       "     test_RMSE  test_MAE  test_R^2  test_pearson_r\n",
       "rf    0.268553  0.082821  0.041175        0.030180\n",
       "xgb   0.072538  0.078639  0.012322        0.007995\n",
       "krr   0.147745  0.041937  0.007201        0.004712\n",
       "gp    0.162805  0.061224  0.011572        0.006126"
      ]
     },
     "execution_count": 31,
     "metadata": {},
     "output_type": "execute_result"
    }
   ],
   "source": [
    "val_means_df.drop(['fit_time', 'score_time'], axis=1, inplace=True)\n",
    "val_stds_df.drop(['fit_time', 'score_time'], axis=1, inplace=True)\n",
    "val_stds_df"
   ]
  },
  {
   "cell_type": "code",
   "execution_count": 32,
   "metadata": {},
   "outputs": [
    {
     "data": {
      "text/plain": [
       "['test_RMSE', 'test_MAE', 'test_R^2', 'test_pearson_r']"
      ]
     },
     "execution_count": 32,
     "metadata": {},
     "output_type": "execute_result"
    }
   ],
   "source": [
    "col_names = list(val_means_df.columns)\n",
    "col_names"
   ]
  },
  {
   "cell_type": "code",
   "execution_count": 33,
   "metadata": {},
   "outputs": [
    {
     "data": {
      "text/plain": [
       "['val_RMSE', 'val_MAE', 'val_R^2', 'val_pearson_r']"
      ]
     },
     "execution_count": 33,
     "metadata": {},
     "output_type": "execute_result"
    }
   ],
   "source": [
    "new_col_names = []\n",
    "for name in col_names:\n",
    "    new_col_names.append(name.replace(\"test\", \"val\"))\n",
    "    \n",
    "new_col_names"
   ]
  },
  {
   "cell_type": "markdown",
   "metadata": {},
   "source": [
    "### Ready validation data frame"
   ]
  },
  {
   "cell_type": "code",
   "execution_count": 34,
   "metadata": {},
   "outputs": [
    {
     "data": {
      "text/html": [
       "<div>\n",
       "<style scoped>\n",
       "    .dataframe tbody tr th:only-of-type {\n",
       "        vertical-align: middle;\n",
       "    }\n",
       "\n",
       "    .dataframe tbody tr th {\n",
       "        vertical-align: top;\n",
       "    }\n",
       "\n",
       "    .dataframe thead th {\n",
       "        text-align: right;\n",
       "    }\n",
       "</style>\n",
       "<table border=\"1\" class=\"dataframe\">\n",
       "  <thead>\n",
       "    <tr style=\"text-align: right;\">\n",
       "      <th></th>\n",
       "      <th>val_RMSE</th>\n",
       "      <th>val_MAE</th>\n",
       "      <th>val_R^2</th>\n",
       "      <th>val_pearson_r</th>\n",
       "    </tr>\n",
       "  </thead>\n",
       "  <tbody>\n",
       "    <tr>\n",
       "      <th>rf</th>\n",
       "      <td>0.268553</td>\n",
       "      <td>0.082821</td>\n",
       "      <td>0.041175</td>\n",
       "      <td>0.030180</td>\n",
       "    </tr>\n",
       "    <tr>\n",
       "      <th>xgb</th>\n",
       "      <td>0.072538</td>\n",
       "      <td>0.078639</td>\n",
       "      <td>0.012322</td>\n",
       "      <td>0.007995</td>\n",
       "    </tr>\n",
       "    <tr>\n",
       "      <th>krr</th>\n",
       "      <td>0.147745</td>\n",
       "      <td>0.041937</td>\n",
       "      <td>0.007201</td>\n",
       "      <td>0.004712</td>\n",
       "    </tr>\n",
       "    <tr>\n",
       "      <th>gp</th>\n",
       "      <td>0.162805</td>\n",
       "      <td>0.061224</td>\n",
       "      <td>0.011572</td>\n",
       "      <td>0.006126</td>\n",
       "    </tr>\n",
       "  </tbody>\n",
       "</table>\n",
       "</div>"
      ],
      "text/plain": [
       "     val_RMSE   val_MAE   val_R^2  val_pearson_r\n",
       "rf   0.268553  0.082821  0.041175       0.030180\n",
       "xgb  0.072538  0.078639  0.012322       0.007995\n",
       "krr  0.147745  0.041937  0.007201       0.004712\n",
       "gp   0.162805  0.061224  0.011572       0.006126"
      ]
     },
     "execution_count": 34,
     "metadata": {},
     "output_type": "execute_result"
    }
   ],
   "source": [
    "val_means_df.columns = new_col_names\n",
    "val_stds_df.columns = new_col_names\n",
    "\n",
    "val_stds_df"
   ]
  },
  {
   "cell_type": "markdown",
   "metadata": {},
   "source": [
    "## All scores"
   ]
  },
  {
   "cell_type": "code",
   "execution_count": 35,
   "metadata": {},
   "outputs": [
    {
     "data": {
      "text/html": [
       "<div>\n",
       "<style scoped>\n",
       "    .dataframe tbody tr th:only-of-type {\n",
       "        vertical-align: middle;\n",
       "    }\n",
       "\n",
       "    .dataframe tbody tr th {\n",
       "        vertical-align: top;\n",
       "    }\n",
       "\n",
       "    .dataframe thead th {\n",
       "        text-align: right;\n",
       "    }\n",
       "</style>\n",
       "<table border=\"1\" class=\"dataframe\">\n",
       "  <thead>\n",
       "    <tr style=\"text-align: right;\">\n",
       "      <th></th>\n",
       "      <th>fit_time</th>\n",
       "      <th>score_time</th>\n",
       "      <th>test_RMSE</th>\n",
       "      <th>train_RMSE</th>\n",
       "      <th>test_MAE</th>\n",
       "      <th>train_MAE</th>\n",
       "      <th>test_R^2</th>\n",
       "      <th>train_R^2</th>\n",
       "      <th>test_pearson_r</th>\n",
       "      <th>train_pearson_r</th>\n",
       "      <th>val_RMSE</th>\n",
       "      <th>val_MAE</th>\n",
       "      <th>val_R^2</th>\n",
       "      <th>val_pearson_r</th>\n",
       "    </tr>\n",
       "  </thead>\n",
       "  <tbody>\n",
       "    <tr>\n",
       "      <th>rf</th>\n",
       "      <td>2.877426</td>\n",
       "      <td>0.014852</td>\n",
       "      <td>0.452299</td>\n",
       "      <td>0.023951</td>\n",
       "      <td>0.131191</td>\n",
       "      <td>0.011568</td>\n",
       "      <td>0.063051</td>\n",
       "      <td>0.001608</td>\n",
       "      <td>0.036615</td>\n",
       "      <td>0.000514</td>\n",
       "      <td>0.268553</td>\n",
       "      <td>0.082821</td>\n",
       "      <td>0.041175</td>\n",
       "      <td>0.030180</td>\n",
       "    </tr>\n",
       "    <tr>\n",
       "      <th>xgb</th>\n",
       "      <td>0.755138</td>\n",
       "      <td>0.005570</td>\n",
       "      <td>0.328527</td>\n",
       "      <td>0.019586</td>\n",
       "      <td>0.165596</td>\n",
       "      <td>0.014145</td>\n",
       "      <td>0.031266</td>\n",
       "      <td>0.000934</td>\n",
       "      <td>0.019218</td>\n",
       "      <td>0.000423</td>\n",
       "      <td>0.072538</td>\n",
       "      <td>0.078639</td>\n",
       "      <td>0.012322</td>\n",
       "      <td>0.007995</td>\n",
       "    </tr>\n",
       "    <tr>\n",
       "      <th>krr</th>\n",
       "      <td>0.022422</td>\n",
       "      <td>0.000993</td>\n",
       "      <td>0.277243</td>\n",
       "      <td>0.014669</td>\n",
       "      <td>0.072454</td>\n",
       "      <td>0.006850</td>\n",
       "      <td>0.017881</td>\n",
       "      <td>0.000379</td>\n",
       "      <td>0.008566</td>\n",
       "      <td>0.000298</td>\n",
       "      <td>0.147745</td>\n",
       "      <td>0.041937</td>\n",
       "      <td>0.007201</td>\n",
       "      <td>0.004712</td>\n",
       "    </tr>\n",
       "    <tr>\n",
       "      <th>gp</th>\n",
       "      <td>0.369969</td>\n",
       "      <td>0.005568</td>\n",
       "      <td>0.221836</td>\n",
       "      <td>0.000469</td>\n",
       "      <td>0.114742</td>\n",
       "      <td>0.000551</td>\n",
       "      <td>0.004311</td>\n",
       "      <td>0.000007</td>\n",
       "      <td>0.002436</td>\n",
       "      <td>0.000003</td>\n",
       "      <td>0.162805</td>\n",
       "      <td>0.061224</td>\n",
       "      <td>0.011572</td>\n",
       "      <td>0.006126</td>\n",
       "    </tr>\n",
       "  </tbody>\n",
       "</table>\n",
       "</div>"
      ],
      "text/plain": [
       "     fit_time  score_time  test_RMSE  train_RMSE  test_MAE  train_MAE  \\\n",
       "rf   2.877426    0.014852   0.452299    0.023951  0.131191   0.011568   \n",
       "xgb  0.755138    0.005570   0.328527    0.019586  0.165596   0.014145   \n",
       "krr  0.022422    0.000993   0.277243    0.014669  0.072454   0.006850   \n",
       "gp   0.369969    0.005568   0.221836    0.000469  0.114742   0.000551   \n",
       "\n",
       "     test_R^2  train_R^2  test_pearson_r  train_pearson_r  val_RMSE   val_MAE  \\\n",
       "rf   0.063051   0.001608        0.036615         0.000514  0.268553  0.082821   \n",
       "xgb  0.031266   0.000934        0.019218         0.000423  0.072538  0.078639   \n",
       "krr  0.017881   0.000379        0.008566         0.000298  0.147745  0.041937   \n",
       "gp   0.004311   0.000007        0.002436         0.000003  0.162805  0.061224   \n",
       "\n",
       "      val_R^2  val_pearson_r  \n",
       "rf   0.041175       0.030180  \n",
       "xgb  0.012322       0.007995  \n",
       "krr  0.007201       0.004712  \n",
       "gp   0.011572       0.006126  "
      ]
     },
     "execution_count": 35,
     "metadata": {},
     "output_type": "execute_result"
    }
   ],
   "source": [
    "all_means = pd.concat([train_test_means_df, val_means_df], axis = 1)\n",
    "all_stds = pd.concat([train_test_stds_df, val_stds_df], axis = 1)\n",
    "\n",
    "all_stds"
   ]
  },
  {
   "cell_type": "code",
   "execution_count": 36,
   "metadata": {},
   "outputs": [
    {
     "data": {
      "text/plain": [
       "['fit_time',\n",
       " 'score_time',\n",
       " 'train_RMSE',\n",
       " 'val_RMSE',\n",
       " 'test_RMSE',\n",
       " 'train_MAE',\n",
       " 'val_MAE',\n",
       " 'test_MAE',\n",
       " 'train_R^2',\n",
       " 'val_R^2',\n",
       " 'test_R^2',\n",
       " 'train_pearson_r',\n",
       " 'val_pearson_r',\n",
       " 'test_pearson_r']"
      ]
     },
     "execution_count": 36,
     "metadata": {},
     "output_type": "execute_result"
    }
   ],
   "source": [
    "col_order = ['fit_time', 'score_time']\n",
    "temp = [[f'train_{metric}', f'val_{metric}', f'test_{metric}'] for metric in metrics_to_labels]\n",
    "\n",
    "for l in temp:\n",
    "    col_order.extend(l)\n",
    "    \n",
    "col_order"
   ]
  },
  {
   "cell_type": "code",
   "execution_count": 37,
   "metadata": {},
   "outputs": [
    {
     "data": {
      "text/html": [
       "<div>\n",
       "<style scoped>\n",
       "    .dataframe tbody tr th:only-of-type {\n",
       "        vertical-align: middle;\n",
       "    }\n",
       "\n",
       "    .dataframe tbody tr th {\n",
       "        vertical-align: top;\n",
       "    }\n",
       "\n",
       "    .dataframe thead th {\n",
       "        text-align: right;\n",
       "    }\n",
       "</style>\n",
       "<table border=\"1\" class=\"dataframe\">\n",
       "  <thead>\n",
       "    <tr style=\"text-align: right;\">\n",
       "      <th></th>\n",
       "      <th>fit_time</th>\n",
       "      <th>score_time</th>\n",
       "      <th>train_RMSE</th>\n",
       "      <th>val_RMSE</th>\n",
       "      <th>test_RMSE</th>\n",
       "      <th>train_MAE</th>\n",
       "      <th>val_MAE</th>\n",
       "      <th>test_MAE</th>\n",
       "      <th>train_R^2</th>\n",
       "      <th>val_R^2</th>\n",
       "      <th>test_R^2</th>\n",
       "      <th>train_pearson_r</th>\n",
       "      <th>val_pearson_r</th>\n",
       "      <th>test_pearson_r</th>\n",
       "    </tr>\n",
       "  </thead>\n",
       "  <tbody>\n",
       "    <tr>\n",
       "      <th>rf</th>\n",
       "      <td>2.877426</td>\n",
       "      <td>0.014852</td>\n",
       "      <td>0.023951</td>\n",
       "      <td>0.268553</td>\n",
       "      <td>0.452299</td>\n",
       "      <td>0.011568</td>\n",
       "      <td>0.082821</td>\n",
       "      <td>0.131191</td>\n",
       "      <td>0.001608</td>\n",
       "      <td>0.041175</td>\n",
       "      <td>0.063051</td>\n",
       "      <td>0.000514</td>\n",
       "      <td>0.030180</td>\n",
       "      <td>0.036615</td>\n",
       "    </tr>\n",
       "    <tr>\n",
       "      <th>xgb</th>\n",
       "      <td>0.755138</td>\n",
       "      <td>0.005570</td>\n",
       "      <td>0.019586</td>\n",
       "      <td>0.072538</td>\n",
       "      <td>0.328527</td>\n",
       "      <td>0.014145</td>\n",
       "      <td>0.078639</td>\n",
       "      <td>0.165596</td>\n",
       "      <td>0.000934</td>\n",
       "      <td>0.012322</td>\n",
       "      <td>0.031266</td>\n",
       "      <td>0.000423</td>\n",
       "      <td>0.007995</td>\n",
       "      <td>0.019218</td>\n",
       "    </tr>\n",
       "    <tr>\n",
       "      <th>krr</th>\n",
       "      <td>0.022422</td>\n",
       "      <td>0.000993</td>\n",
       "      <td>0.014669</td>\n",
       "      <td>0.147745</td>\n",
       "      <td>0.277243</td>\n",
       "      <td>0.006850</td>\n",
       "      <td>0.041937</td>\n",
       "      <td>0.072454</td>\n",
       "      <td>0.000379</td>\n",
       "      <td>0.007201</td>\n",
       "      <td>0.017881</td>\n",
       "      <td>0.000298</td>\n",
       "      <td>0.004712</td>\n",
       "      <td>0.008566</td>\n",
       "    </tr>\n",
       "    <tr>\n",
       "      <th>gp</th>\n",
       "      <td>0.369969</td>\n",
       "      <td>0.005568</td>\n",
       "      <td>0.000469</td>\n",
       "      <td>0.162805</td>\n",
       "      <td>0.221836</td>\n",
       "      <td>0.000551</td>\n",
       "      <td>0.061224</td>\n",
       "      <td>0.114742</td>\n",
       "      <td>0.000007</td>\n",
       "      <td>0.011572</td>\n",
       "      <td>0.004311</td>\n",
       "      <td>0.000003</td>\n",
       "      <td>0.006126</td>\n",
       "      <td>0.002436</td>\n",
       "    </tr>\n",
       "  </tbody>\n",
       "</table>\n",
       "</div>"
      ],
      "text/plain": [
       "     fit_time  score_time  train_RMSE  val_RMSE  test_RMSE  train_MAE  \\\n",
       "rf   2.877426    0.014852    0.023951  0.268553   0.452299   0.011568   \n",
       "xgb  0.755138    0.005570    0.019586  0.072538   0.328527   0.014145   \n",
       "krr  0.022422    0.000993    0.014669  0.147745   0.277243   0.006850   \n",
       "gp   0.369969    0.005568    0.000469  0.162805   0.221836   0.000551   \n",
       "\n",
       "      val_MAE  test_MAE  train_R^2   val_R^2  test_R^2  train_pearson_r  \\\n",
       "rf   0.082821  0.131191   0.001608  0.041175  0.063051         0.000514   \n",
       "xgb  0.078639  0.165596   0.000934  0.012322  0.031266         0.000423   \n",
       "krr  0.041937  0.072454   0.000379  0.007201  0.017881         0.000298   \n",
       "gp   0.061224  0.114742   0.000007  0.011572  0.004311         0.000003   \n",
       "\n",
       "     val_pearson_r  test_pearson_r  \n",
       "rf        0.030180        0.036615  \n",
       "xgb       0.007995        0.019218  \n",
       "krr       0.004712        0.008566  \n",
       "gp        0.006126        0.002436  "
      ]
     },
     "execution_count": 37,
     "metadata": {},
     "output_type": "execute_result"
    }
   ],
   "source": [
    "all_means = all_means[col_order]\n",
    "all_stds = all_stds[col_order]\n",
    "\n",
    "all_stds"
   ]
  },
  {
   "cell_type": "code",
   "execution_count": null,
   "metadata": {},
   "outputs": [],
   "source": []
  },
  {
   "cell_type": "markdown",
   "metadata": {},
   "source": [
    "## Presentable version"
   ]
  },
  {
   "cell_type": "code",
   "execution_count": 38,
   "metadata": {},
   "outputs": [],
   "source": [
    "presentable_all_means = np.round(all_means, 3)\n",
    "presentable_all_stds = np.round(all_stds, 3)"
   ]
  },
  {
   "cell_type": "code",
   "execution_count": 39,
   "metadata": {},
   "outputs": [
    {
     "name": "stdout",
     "output_type": "stream",
     "text": [
      "freesolv original reproducing\n",
      "\n",
      "Means:\n"
     ]
    },
    {
     "data": {
      "text/html": [
       "<div>\n",
       "<style scoped>\n",
       "    .dataframe tbody tr th:only-of-type {\n",
       "        vertical-align: middle;\n",
       "    }\n",
       "\n",
       "    .dataframe tbody tr th {\n",
       "        vertical-align: top;\n",
       "    }\n",
       "\n",
       "    .dataframe thead th {\n",
       "        text-align: right;\n",
       "    }\n",
       "</style>\n",
       "<table border=\"1\" class=\"dataframe\">\n",
       "  <thead>\n",
       "    <tr style=\"text-align: right;\">\n",
       "      <th></th>\n",
       "      <th>fit_time</th>\n",
       "      <th>score_time</th>\n",
       "      <th>train_RMSE</th>\n",
       "      <th>val_RMSE</th>\n",
       "      <th>test_RMSE</th>\n",
       "      <th>train_MAE</th>\n",
       "      <th>val_MAE</th>\n",
       "      <th>test_MAE</th>\n",
       "      <th>train_R^2</th>\n",
       "      <th>val_R^2</th>\n",
       "      <th>test_R^2</th>\n",
       "      <th>train_pearson_r</th>\n",
       "      <th>val_pearson_r</th>\n",
       "      <th>test_pearson_r</th>\n",
       "    </tr>\n",
       "  </thead>\n",
       "  <tbody>\n",
       "    <tr>\n",
       "      <th>rf</th>\n",
       "      <td>13.819</td>\n",
       "      <td>0.065</td>\n",
       "      <td>0.749</td>\n",
       "      <td>2.411</td>\n",
       "      <td>2.399</td>\n",
       "      <td>0.451</td>\n",
       "      <td>1.320</td>\n",
       "      <td>1.307</td>\n",
       "      <td>0.961</td>\n",
       "      <td>0.633</td>\n",
       "      <td>0.665</td>\n",
       "      <td>0.985</td>\n",
       "      <td>0.809</td>\n",
       "      <td>0.825</td>\n",
       "    </tr>\n",
       "    <tr>\n",
       "      <th>xgb</th>\n",
       "      <td>3.862</td>\n",
       "      <td>0.023</td>\n",
       "      <td>0.423</td>\n",
       "      <td>2.081</td>\n",
       "      <td>2.103</td>\n",
       "      <td>0.297</td>\n",
       "      <td>1.274</td>\n",
       "      <td>1.284</td>\n",
       "      <td>0.988</td>\n",
       "      <td>0.725</td>\n",
       "      <td>0.742</td>\n",
       "      <td>0.994</td>\n",
       "      <td>0.856</td>\n",
       "      <td>0.863</td>\n",
       "    </tr>\n",
       "    <tr>\n",
       "      <th>krr</th>\n",
       "      <td>0.079</td>\n",
       "      <td>0.015</td>\n",
       "      <td>1.014</td>\n",
       "      <td>2.133</td>\n",
       "      <td>2.122</td>\n",
       "      <td>0.715</td>\n",
       "      <td>1.306</td>\n",
       "      <td>1.266</td>\n",
       "      <td>0.929</td>\n",
       "      <td>0.713</td>\n",
       "      <td>0.737</td>\n",
       "      <td>0.969</td>\n",
       "      <td>0.856</td>\n",
       "      <td>0.865</td>\n",
       "    </tr>\n",
       "    <tr>\n",
       "      <th>gp</th>\n",
       "      <td>3.800</td>\n",
       "      <td>0.056</td>\n",
       "      <td>0.059</td>\n",
       "      <td>2.100</td>\n",
       "      <td>1.999</td>\n",
       "      <td>0.030</td>\n",
       "      <td>1.224</td>\n",
       "      <td>1.170</td>\n",
       "      <td>1.000</td>\n",
       "      <td>0.722</td>\n",
       "      <td>0.765</td>\n",
       "      <td>1.000</td>\n",
       "      <td>0.863</td>\n",
       "      <td>0.883</td>\n",
       "    </tr>\n",
       "  </tbody>\n",
       "</table>\n",
       "</div>"
      ],
      "text/plain": [
       "     fit_time  score_time  train_RMSE  val_RMSE  test_RMSE  train_MAE  \\\n",
       "rf     13.819       0.065       0.749     2.411      2.399      0.451   \n",
       "xgb     3.862       0.023       0.423     2.081      2.103      0.297   \n",
       "krr     0.079       0.015       1.014     2.133      2.122      0.715   \n",
       "gp      3.800       0.056       0.059     2.100      1.999      0.030   \n",
       "\n",
       "     val_MAE  test_MAE  train_R^2  val_R^2  test_R^2  train_pearson_r  \\\n",
       "rf     1.320     1.307      0.961    0.633     0.665            0.985   \n",
       "xgb    1.274     1.284      0.988    0.725     0.742            0.994   \n",
       "krr    1.306     1.266      0.929    0.713     0.737            0.969   \n",
       "gp     1.224     1.170      1.000    0.722     0.765            1.000   \n",
       "\n",
       "     val_pearson_r  test_pearson_r  \n",
       "rf           0.809           0.825  \n",
       "xgb          0.856           0.863  \n",
       "krr          0.856           0.865  \n",
       "gp           0.863           0.883  "
      ]
     },
     "metadata": {},
     "output_type": "display_data"
    },
    {
     "name": "stdout",
     "output_type": "stream",
     "text": [
      "Standard deviations:\n"
     ]
    },
    {
     "data": {
      "text/html": [
       "<div>\n",
       "<style scoped>\n",
       "    .dataframe tbody tr th:only-of-type {\n",
       "        vertical-align: middle;\n",
       "    }\n",
       "\n",
       "    .dataframe tbody tr th {\n",
       "        vertical-align: top;\n",
       "    }\n",
       "\n",
       "    .dataframe thead th {\n",
       "        text-align: right;\n",
       "    }\n",
       "</style>\n",
       "<table border=\"1\" class=\"dataframe\">\n",
       "  <thead>\n",
       "    <tr style=\"text-align: right;\">\n",
       "      <th></th>\n",
       "      <th>fit_time</th>\n",
       "      <th>score_time</th>\n",
       "      <th>train_RMSE</th>\n",
       "      <th>val_RMSE</th>\n",
       "      <th>test_RMSE</th>\n",
       "      <th>train_MAE</th>\n",
       "      <th>val_MAE</th>\n",
       "      <th>test_MAE</th>\n",
       "      <th>train_R^2</th>\n",
       "      <th>val_R^2</th>\n",
       "      <th>test_R^2</th>\n",
       "      <th>train_pearson_r</th>\n",
       "      <th>val_pearson_r</th>\n",
       "      <th>test_pearson_r</th>\n",
       "    </tr>\n",
       "  </thead>\n",
       "  <tbody>\n",
       "    <tr>\n",
       "      <th>rf</th>\n",
       "      <td>2.877</td>\n",
       "      <td>0.015</td>\n",
       "      <td>0.024</td>\n",
       "      <td>0.269</td>\n",
       "      <td>0.452</td>\n",
       "      <td>0.012</td>\n",
       "      <td>0.083</td>\n",
       "      <td>0.131</td>\n",
       "      <td>0.002</td>\n",
       "      <td>0.041</td>\n",
       "      <td>0.063</td>\n",
       "      <td>0.001</td>\n",
       "      <td>0.030</td>\n",
       "      <td>0.037</td>\n",
       "    </tr>\n",
       "    <tr>\n",
       "      <th>xgb</th>\n",
       "      <td>0.755</td>\n",
       "      <td>0.006</td>\n",
       "      <td>0.020</td>\n",
       "      <td>0.073</td>\n",
       "      <td>0.329</td>\n",
       "      <td>0.014</td>\n",
       "      <td>0.079</td>\n",
       "      <td>0.166</td>\n",
       "      <td>0.001</td>\n",
       "      <td>0.012</td>\n",
       "      <td>0.031</td>\n",
       "      <td>0.000</td>\n",
       "      <td>0.008</td>\n",
       "      <td>0.019</td>\n",
       "    </tr>\n",
       "    <tr>\n",
       "      <th>krr</th>\n",
       "      <td>0.022</td>\n",
       "      <td>0.001</td>\n",
       "      <td>0.015</td>\n",
       "      <td>0.148</td>\n",
       "      <td>0.277</td>\n",
       "      <td>0.007</td>\n",
       "      <td>0.042</td>\n",
       "      <td>0.072</td>\n",
       "      <td>0.000</td>\n",
       "      <td>0.007</td>\n",
       "      <td>0.018</td>\n",
       "      <td>0.000</td>\n",
       "      <td>0.005</td>\n",
       "      <td>0.009</td>\n",
       "    </tr>\n",
       "    <tr>\n",
       "      <th>gp</th>\n",
       "      <td>0.370</td>\n",
       "      <td>0.006</td>\n",
       "      <td>0.000</td>\n",
       "      <td>0.163</td>\n",
       "      <td>0.222</td>\n",
       "      <td>0.001</td>\n",
       "      <td>0.061</td>\n",
       "      <td>0.115</td>\n",
       "      <td>0.000</td>\n",
       "      <td>0.012</td>\n",
       "      <td>0.004</td>\n",
       "      <td>0.000</td>\n",
       "      <td>0.006</td>\n",
       "      <td>0.002</td>\n",
       "    </tr>\n",
       "  </tbody>\n",
       "</table>\n",
       "</div>"
      ],
      "text/plain": [
       "     fit_time  score_time  train_RMSE  val_RMSE  test_RMSE  train_MAE  \\\n",
       "rf      2.877       0.015       0.024     0.269      0.452      0.012   \n",
       "xgb     0.755       0.006       0.020     0.073      0.329      0.014   \n",
       "krr     0.022       0.001       0.015     0.148      0.277      0.007   \n",
       "gp      0.370       0.006       0.000     0.163      0.222      0.001   \n",
       "\n",
       "     val_MAE  test_MAE  train_R^2  val_R^2  test_R^2  train_pearson_r  \\\n",
       "rf     0.083     0.131      0.002    0.041     0.063            0.001   \n",
       "xgb    0.079     0.166      0.001    0.012     0.031            0.000   \n",
       "krr    0.042     0.072      0.000    0.007     0.018            0.000   \n",
       "gp     0.061     0.115      0.000    0.012     0.004            0.000   \n",
       "\n",
       "     val_pearson_r  test_pearson_r  \n",
       "rf           0.030           0.037  \n",
       "xgb          0.008           0.019  \n",
       "krr          0.005           0.009  \n",
       "gp           0.006           0.002  "
      ]
     },
     "metadata": {},
     "output_type": "display_data"
    }
   ],
   "source": [
    "print(dataset, smile_type, grid_search_type)\n",
    "\n",
    "print('\\nMeans:')\n",
    "display(presentable_all_means)\n",
    "\n",
    "print('Standard deviations:')\n",
    "display(presentable_all_stds)"
   ]
  },
  {
   "cell_type": "code",
   "execution_count": 40,
   "metadata": {},
   "outputs": [
    {
     "data": {
      "text/html": [
       "<div>\n",
       "<style scoped>\n",
       "    .dataframe tbody tr th:only-of-type {\n",
       "        vertical-align: middle;\n",
       "    }\n",
       "\n",
       "    .dataframe tbody tr th {\n",
       "        vertical-align: top;\n",
       "    }\n",
       "\n",
       "    .dataframe thead th {\n",
       "        text-align: right;\n",
       "    }\n",
       "</style>\n",
       "<table border=\"1\" class=\"dataframe\">\n",
       "  <thead>\n",
       "    <tr style=\"text-align: right;\">\n",
       "      <th></th>\n",
       "      <th>fit_time</th>\n",
       "      <th>score_time</th>\n",
       "      <th>train_RMSE</th>\n",
       "      <th>val_RMSE</th>\n",
       "      <th>test_RMSE</th>\n",
       "      <th>train_MAE</th>\n",
       "      <th>val_MAE</th>\n",
       "      <th>test_MAE</th>\n",
       "      <th>train_R^2</th>\n",
       "      <th>val_R^2</th>\n",
       "      <th>test_R^2</th>\n",
       "      <th>train_pearson_r</th>\n",
       "      <th>val_pearson_r</th>\n",
       "      <th>test_pearson_r</th>\n",
       "    </tr>\n",
       "  </thead>\n",
       "  <tbody>\n",
       "    <tr>\n",
       "      <th>rf</th>\n",
       "      <td>13.819 +/- 2.877</td>\n",
       "      <td>0.065 +/- 0.015</td>\n",
       "      <td>0.749 +/- 0.024</td>\n",
       "      <td>2.411 +/- 0.269</td>\n",
       "      <td>2.399 +/- 0.452</td>\n",
       "      <td>0.451 +/- 0.012</td>\n",
       "      <td>1.32 +/- 0.083</td>\n",
       "      <td>1.307 +/- 0.131</td>\n",
       "      <td>0.961 +/- 0.002</td>\n",
       "      <td>0.633 +/- 0.041</td>\n",
       "      <td>0.665 +/- 0.063</td>\n",
       "      <td>0.985 +/- 0.001</td>\n",
       "      <td>0.809 +/- 0.03</td>\n",
       "      <td>0.825 +/- 0.037</td>\n",
       "    </tr>\n",
       "    <tr>\n",
       "      <th>xgb</th>\n",
       "      <td>3.862 +/- 0.755</td>\n",
       "      <td>0.023 +/- 0.006</td>\n",
       "      <td>0.423 +/- 0.02</td>\n",
       "      <td>2.081 +/- 0.073</td>\n",
       "      <td>2.103 +/- 0.329</td>\n",
       "      <td>0.297 +/- 0.014</td>\n",
       "      <td>1.274 +/- 0.079</td>\n",
       "      <td>1.284 +/- 0.166</td>\n",
       "      <td>0.988 +/- 0.001</td>\n",
       "      <td>0.725 +/- 0.012</td>\n",
       "      <td>0.742 +/- 0.031</td>\n",
       "      <td>0.994 +/- 0.0</td>\n",
       "      <td>0.856 +/- 0.008</td>\n",
       "      <td>0.863 +/- 0.019</td>\n",
       "    </tr>\n",
       "    <tr>\n",
       "      <th>krr</th>\n",
       "      <td>0.079 +/- 0.022</td>\n",
       "      <td>0.015 +/- 0.001</td>\n",
       "      <td>1.014 +/- 0.015</td>\n",
       "      <td>2.133 +/- 0.148</td>\n",
       "      <td>2.122 +/- 0.277</td>\n",
       "      <td>0.715 +/- 0.007</td>\n",
       "      <td>1.306 +/- 0.042</td>\n",
       "      <td>1.266 +/- 0.072</td>\n",
       "      <td>0.929 +/- 0.0</td>\n",
       "      <td>0.713 +/- 0.007</td>\n",
       "      <td>0.737 +/- 0.018</td>\n",
       "      <td>0.969 +/- 0.0</td>\n",
       "      <td>0.856 +/- 0.005</td>\n",
       "      <td>0.865 +/- 0.009</td>\n",
       "    </tr>\n",
       "    <tr>\n",
       "      <th>gp</th>\n",
       "      <td>3.8 +/- 0.37</td>\n",
       "      <td>0.056 +/- 0.006</td>\n",
       "      <td>0.059 +/- 0.0</td>\n",
       "      <td>2.1 +/- 0.163</td>\n",
       "      <td>1.999 +/- 0.222</td>\n",
       "      <td>0.03 +/- 0.001</td>\n",
       "      <td>1.224 +/- 0.061</td>\n",
       "      <td>1.17 +/- 0.115</td>\n",
       "      <td>1.0 +/- 0.0</td>\n",
       "      <td>0.722 +/- 0.012</td>\n",
       "      <td>0.765 +/- 0.004</td>\n",
       "      <td>1.0 +/- 0.0</td>\n",
       "      <td>0.863 +/- 0.006</td>\n",
       "      <td>0.883 +/- 0.002</td>\n",
       "    </tr>\n",
       "  </tbody>\n",
       "</table>\n",
       "</div>"
      ],
      "text/plain": [
       "             fit_time       score_time       train_RMSE         val_RMSE  \\\n",
       "rf   13.819 +/- 2.877  0.065 +/- 0.015  0.749 +/- 0.024  2.411 +/- 0.269   \n",
       "xgb   3.862 +/- 0.755  0.023 +/- 0.006   0.423 +/- 0.02  2.081 +/- 0.073   \n",
       "krr   0.079 +/- 0.022  0.015 +/- 0.001  1.014 +/- 0.015  2.133 +/- 0.148   \n",
       "gp       3.8 +/- 0.37  0.056 +/- 0.006    0.059 +/- 0.0    2.1 +/- 0.163   \n",
       "\n",
       "           test_RMSE        train_MAE          val_MAE         test_MAE  \\\n",
       "rf   2.399 +/- 0.452  0.451 +/- 0.012   1.32 +/- 0.083  1.307 +/- 0.131   \n",
       "xgb  2.103 +/- 0.329  0.297 +/- 0.014  1.274 +/- 0.079  1.284 +/- 0.166   \n",
       "krr  2.122 +/- 0.277  0.715 +/- 0.007  1.306 +/- 0.042  1.266 +/- 0.072   \n",
       "gp   1.999 +/- 0.222   0.03 +/- 0.001  1.224 +/- 0.061   1.17 +/- 0.115   \n",
       "\n",
       "           train_R^2          val_R^2         test_R^2  train_pearson_r  \\\n",
       "rf   0.961 +/- 0.002  0.633 +/- 0.041  0.665 +/- 0.063  0.985 +/- 0.001   \n",
       "xgb  0.988 +/- 0.001  0.725 +/- 0.012  0.742 +/- 0.031    0.994 +/- 0.0   \n",
       "krr    0.929 +/- 0.0  0.713 +/- 0.007  0.737 +/- 0.018    0.969 +/- 0.0   \n",
       "gp       1.0 +/- 0.0  0.722 +/- 0.012  0.765 +/- 0.004      1.0 +/- 0.0   \n",
       "\n",
       "       val_pearson_r   test_pearson_r  \n",
       "rf    0.809 +/- 0.03  0.825 +/- 0.037  \n",
       "xgb  0.856 +/- 0.008  0.863 +/- 0.019  \n",
       "krr  0.856 +/- 0.005  0.865 +/- 0.009  \n",
       "gp   0.863 +/- 0.006  0.883 +/- 0.002  "
      ]
     },
     "execution_count": 40,
     "metadata": {},
     "output_type": "execute_result"
    }
   ],
   "source": [
    "presentable_all_means_stds = presentable_all_means.copy()\n",
    "for i in presentable_all_means_stds.index:\n",
    "    for j in presentable_all_means_stds.columns:\n",
    "        presentable_all_means_stds.loc[i, j] = str(presentable_all_means.loc[i, j]) + ' +/- ' + str(presentable_all_stds.loc[i, j])\n",
    "        \n",
    "presentable_all_means_stds"
   ]
  },
  {
   "cell_type": "code",
   "execution_count": 41,
   "metadata": {},
   "outputs": [
    {
     "name": "stdout",
     "output_type": "stream",
     "text": [
      "freesolv original reproducing\n",
      "RMSE (kcal/mol)\n"
     ]
    },
    {
     "data": {
      "text/html": [
       "<div>\n",
       "<style scoped>\n",
       "    .dataframe tbody tr th:only-of-type {\n",
       "        vertical-align: middle;\n",
       "    }\n",
       "\n",
       "    .dataframe tbody tr th {\n",
       "        vertical-align: top;\n",
       "    }\n",
       "\n",
       "    .dataframe thead th {\n",
       "        text-align: right;\n",
       "    }\n",
       "</style>\n",
       "<table border=\"1\" class=\"dataframe\">\n",
       "  <thead>\n",
       "    <tr style=\"text-align: right;\">\n",
       "      <th></th>\n",
       "      <th>train_RMSE</th>\n",
       "      <th>val_RMSE</th>\n",
       "      <th>test_RMSE</th>\n",
       "    </tr>\n",
       "  </thead>\n",
       "  <tbody>\n",
       "    <tr>\n",
       "      <th>rf</th>\n",
       "      <td>0.749 +/- 0.024</td>\n",
       "      <td>2.411 +/- 0.269</td>\n",
       "      <td>2.399 +/- 0.452</td>\n",
       "    </tr>\n",
       "    <tr>\n",
       "      <th>xgb</th>\n",
       "      <td>0.423 +/- 0.02</td>\n",
       "      <td>2.081 +/- 0.073</td>\n",
       "      <td>2.103 +/- 0.329</td>\n",
       "    </tr>\n",
       "    <tr>\n",
       "      <th>krr</th>\n",
       "      <td>1.014 +/- 0.015</td>\n",
       "      <td>2.133 +/- 0.148</td>\n",
       "      <td>2.122 +/- 0.277</td>\n",
       "    </tr>\n",
       "    <tr>\n",
       "      <th>gp</th>\n",
       "      <td>0.059 +/- 0.0</td>\n",
       "      <td>2.1 +/- 0.163</td>\n",
       "      <td>1.999 +/- 0.222</td>\n",
       "    </tr>\n",
       "  </tbody>\n",
       "</table>\n",
       "</div>"
      ],
      "text/plain": [
       "          train_RMSE         val_RMSE        test_RMSE\n",
       "rf   0.749 +/- 0.024  2.411 +/- 0.269  2.399 +/- 0.452\n",
       "xgb   0.423 +/- 0.02  2.081 +/- 0.073  2.103 +/- 0.329\n",
       "krr  1.014 +/- 0.015  2.133 +/- 0.148  2.122 +/- 0.277\n",
       "gp     0.059 +/- 0.0    2.1 +/- 0.163  1.999 +/- 0.222"
      ]
     },
     "metadata": {},
     "output_type": "display_data"
    }
   ],
   "source": [
    "print(dataset, smile_type, grid_search_type)\n",
    "print(metric, datasets_to_units[dataset])\n",
    "presentable_all_means_stds_rmse = presentable_all_means_stds[['train_RMSE', 'val_RMSE', 'test_RMSE']]\n",
    "display(presentable_all_means_stds_rmse)"
   ]
  },
  {
   "cell_type": "markdown",
   "metadata": {},
   "source": [
    "# Save results to csv files"
   ]
  },
  {
   "cell_type": "markdown",
   "metadata": {},
   "source": [
    "## All results"
   ]
  },
  {
   "cell_type": "code",
   "execution_count": 42,
   "metadata": {},
   "outputs": [],
   "source": [
    "presentable_all_means.to_csv(f'../tables/{dataset}_{smile_type}_{grid_search_type}_random_search_best_means.csv', index=True)"
   ]
  },
  {
   "cell_type": "code",
   "execution_count": 43,
   "metadata": {},
   "outputs": [],
   "source": [
    "presentable_all_stds.to_csv(f'../tables/{dataset}_{smile_type}_{grid_search_type}_random_search_best_stds.csv', index=True)"
   ]
  },
  {
   "cell_type": "code",
   "execution_count": 44,
   "metadata": {},
   "outputs": [],
   "source": [
    "presentable_all_means_stds.to_csv(f'../tables/{dataset}_{smile_type}_{grid_search_type}_random_search_best_means_pm_stds.csv', index=True)"
   ]
  },
  {
   "cell_type": "markdown",
   "metadata": {},
   "source": [
    "## RMSE results (means +- stds)"
   ]
  },
  {
   "cell_type": "code",
   "execution_count": 45,
   "metadata": {},
   "outputs": [],
   "source": [
    "presentable_all_means_stds_rmse.to_csv(f'../tables/{dataset}_{smile_type}_{grid_search_type}_random_search_best_means_pm_stds_rmse.csv', index=True)"
   ]
  },
  {
   "cell_type": "code",
   "execution_count": null,
   "metadata": {},
   "outputs": [],
   "source": []
  }
 ],
 "metadata": {
  "colab": {
   "collapsed_sections": [],
   "name": "Copy of visualise_grid_search_results.ipynb",
   "provenance": []
  },
  "kernelspec": {
   "display_name": "Python [conda env:batch-msc] *",
   "language": "python",
   "name": "conda-env-batch-msc-py"
  },
  "language_info": {
   "codemirror_mode": {
    "name": "ipython",
    "version": 3
   },
   "file_extension": ".py",
   "mimetype": "text/x-python",
   "name": "python",
   "nbconvert_exporter": "python",
   "pygments_lexer": "ipython3",
   "version": "3.6.10"
  }
 },
 "nbformat": 4,
 "nbformat_minor": 1
}
