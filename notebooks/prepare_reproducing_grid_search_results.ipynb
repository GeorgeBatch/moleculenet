{
 "cells": [
  {
   "cell_type": "markdown",
   "metadata": {},
   "source": [
    "# Setup"
   ]
  },
  {
   "cell_type": "markdown",
   "metadata": {},
   "source": [
    "## Look around"
   ]
  },
  {
   "cell_type": "code",
   "execution_count": 47,
   "metadata": {
    "colab": {},
    "colab_type": "code",
    "id": "VbUH1eOtObXp",
    "outputId": "dce5a945-dc95-4b37-b002-99aad21517b3"
   },
   "outputs": [],
   "source": [
    "#%ls"
   ]
  },
  {
   "cell_type": "code",
   "execution_count": 48,
   "metadata": {
    "colab": {},
    "colab_type": "code",
    "id": "CyTRxipFObXw",
    "outputId": "eae6f7d2-af85-4e2e-8dcf-df43fe77be91"
   },
   "outputs": [],
   "source": [
    "#%ls ../results/"
   ]
  },
  {
   "cell_type": "markdown",
   "metadata": {},
   "source": [
    "## Import Modules"
   ]
  },
  {
   "cell_type": "markdown",
   "metadata": {},
   "source": [
    "### Standard imports"
   ]
  },
  {
   "cell_type": "code",
   "execution_count": 3,
   "metadata": {
    "colab": {},
    "colab_type": "code",
    "id": "FKInp93BObX0"
   },
   "outputs": [],
   "source": [
    "import pickle\n",
    "import json\n",
    "\n",
    "import sys\n",
    "\n",
    "import numpy as np\n",
    "import pandas as pd\n",
    "import matplotlib.pyplot as plt\n",
    "import seaborn as sns"
   ]
  },
  {
   "cell_type": "markdown",
   "metadata": {},
   "source": [
    "### Custom imports"
   ]
  },
  {
   "cell_type": "code",
   "execution_count": 4,
   "metadata": {},
   "outputs": [],
   "source": [
    "sys.path.insert(0, '..')\n",
    "\n",
    "# plotting\n",
    "from util_scripts.plotting_functions_and_vars import FIGSIZE_CI, FIGSIZE_HEATMAP, PLOTS_DIR\n",
    "from util_scripts.plotting_functions_and_vars import datasets_to_titles, datasets_to_units, metrics_to_labels\n",
    "from util_scripts.plotting_functions_and_vars import plot_algorithm_dataset_comparison_heatmap\n",
    "\n",
    "from util_scripts.plotting_functions_and_vars import datasets_to_rounding_precision\n",
    "\n",
    "sys.path.insert(0, './notebooks')"
   ]
  },
  {
   "cell_type": "markdown",
   "metadata": {},
   "source": [
    "## CHOOSE dataset, smile_type, grid_search_type to visualize"
   ]
  },
  {
   "cell_type": "code",
   "execution_count": 5,
   "metadata": {
    "colab": {},
    "colab_type": "code",
    "executionInfo": {
     "elapsed": 1190,
     "status": "ok",
     "timestamp": 1595584172806,
     "user": {
      "displayName": "George Batchkala",
      "photoUrl": "",
      "userId": "17039292136363863281"
     },
     "user_tz": -180
    },
    "id": "96CqnRUHObX3"
   },
   "outputs": [],
   "source": [
    "# root = '../backup_results'\n",
    "root = '../results'"
   ]
  },
  {
   "cell_type": "code",
   "execution_count": 6,
   "metadata": {
    "colab": {},
    "colab_type": "code",
    "id": "cyalSHrqOiqN"
   },
   "outputs": [],
   "source": [
    "dataset = 'esol'\n",
    "assert dataset in ['freesolv', 'esol', 'lipophilicity']\n",
    "\n",
    "smile_type = 'original'\n",
    "assert smile_type in ['original', 'protonated']\n",
    "\n",
    "grid_search_type = 'reproducing'\n",
    "assert grid_search_type in ['reproducing', 'extended']"
   ]
  },
  {
   "cell_type": "markdown",
   "metadata": {},
   "source": [
    "## Titles, Units and Labels for datasets"
   ]
  },
  {
   "cell_type": "code",
   "execution_count": 7,
   "metadata": {},
   "outputs": [
    {
     "name": "stdout",
     "output_type": "stream",
     "text": [
      "freesolv      :  Solvation Energy\n",
      "esol          :  Log Solubility\n",
      "lipophilicity :  Octanol/Water Distribution Coefficient\n"
     ]
    }
   ],
   "source": [
    "for key, value in datasets_to_titles.items():\n",
    "    print(key, (13 - len(key))*' ' + ': ',  value)"
   ]
  },
  {
   "cell_type": "code",
   "execution_count": 8,
   "metadata": {},
   "outputs": [
    {
     "name": "stdout",
     "output_type": "stream",
     "text": [
      "freesolv      :  (kcal/mol)\n",
      "esol          :  (mol/litre)\n",
      "lipophilicity :  (logD)\n"
     ]
    }
   ],
   "source": [
    "for key, value in datasets_to_units.items():\n",
    "    print(key, (13 - len(key))*' ' + ': ',  value)"
   ]
  },
  {
   "cell_type": "code",
   "execution_count": 9,
   "metadata": {},
   "outputs": [
    {
     "name": "stdout",
     "output_type": "stream",
     "text": [
      "RMSE          :  root-mean-square error\n",
      "MAE           :  mean absolute error\n",
      "R^2           :  R^2 (coefficient of determination)\n",
      "pearson_r     :  Pearson correlation\n"
     ]
    }
   ],
   "source": [
    "for key, value in metrics_to_labels.items():\n",
    "    print(key, (13 - len(key))*' ' + ': ',  value)"
   ]
  },
  {
   "cell_type": "code",
   "execution_count": 10,
   "metadata": {},
   "outputs": [
    {
     "data": {
      "text/plain": [
       "2"
      ]
     },
     "execution_count": 10,
     "metadata": {},
     "output_type": "execute_result"
    }
   ],
   "source": [
    "rp = datasets_to_rounding_precision[dataset]\n",
    "rp"
   ]
  },
  {
   "cell_type": "markdown",
   "metadata": {},
   "source": [
    "## CHOOSE metric to display"
   ]
  },
  {
   "cell_type": "code",
   "execution_count": 11,
   "metadata": {},
   "outputs": [],
   "source": [
    "metric = 'RMSE'\n",
    "assert metric in metrics_to_labels"
   ]
  },
  {
   "cell_type": "code",
   "execution_count": 12,
   "metadata": {},
   "outputs": [],
   "source": [
    "if metric in ['RMSE', 'MAE']:\n",
    "    pass\n",
    "else:\n",
    "    # no units\n",
    "    datasets_to_units = {'freesolv': '', 'esol': '', 'lipophilicity': ''}"
   ]
  },
  {
   "cell_type": "markdown",
   "metadata": {},
   "source": [
    "## Load everything"
   ]
  },
  {
   "cell_type": "code",
   "execution_count": 13,
   "metadata": {},
   "outputs": [
    {
     "name": "stdout",
     "output_type": "stream",
     "text": [
      "esol_original_extended_full_multiple_ci_runs_pred_gp.csv\r\n",
      "esol_original_extended_full_multiple_ci_runs_pred_rf.csv\r\n",
      "esol_original_extended_full_multiple_ci_runs_pred_xgb.csv\r\n",
      "esol_original_extended_full_multiple_ci_runs_std_gp.csv\r\n",
      "esol_original_extended_full_multiple_ci_runs_std_rf.csv\r\n",
      "esol_original_extended_full_multiple_ci_runs_true_gp.csv\r\n",
      "esol_original_extended_full_multiple_ci_runs_true_rf.csv\r\n",
      "esol_original_extended_full_multiple_ci_runs_true_xgb.csv\r\n",
      "esol_original_extended_gp_tanimoto_train_test_scores.pickle\r\n",
      "esol_original_extended_gp_tanimoto_val_scores.pickle\r\n",
      "esol_original_extended_random_search_best_params_full.pickle\r\n",
      "esol_original_extended_random_search_best_params_reduced.pickle\r\n",
      "esol_original_extended_random_search_best_train_test_scores_full.pickle\r\n",
      "esol_original_extended_random_search_best_train_test_scores_reduced.pickle\r\n",
      "esol_original_extended_random_search_best_val_scores_full.pickle\r\n",
      "esol_original_extended_random_search_best_val_scores_reduced.pickle\r\n",
      "esol_original_extended_random_search_grid_params_reduced.pickle\r\n",
      "esol_original_extended_reduced_multiple_ci_runs_pred_gp.csv\r\n",
      "esol_original_extended_reduced_multiple_ci_runs_pred_rf.csv\r\n",
      "esol_original_extended_reduced_multiple_ci_runs_pred_xgb.csv\r\n",
      "esol_original_extended_reduced_multiple_ci_runs_std_gp.csv\r\n",
      "esol_original_extended_reduced_multiple_ci_runs_std_rf.csv\r\n",
      "esol_original_extended_reduced_multiple_ci_runs_true_gp.csv\r\n",
      "esol_original_extended_reduced_multiple_ci_runs_true_rf.csv\r\n",
      "esol_original_extended_reduced_multiple_ci_runs_true_xgb.csv\r\n",
      "esol_original_reproducing_random_search_best_params.pickle\r\n",
      "esol_original_reproducing_random_search_best_train_test_scores.pickle\r\n",
      "esol_original_reproducing_random_search_best_val_scores.pickle\r\n",
      "esol_original_reproducing_random_search_grid_params.pickle\r\n",
      "freesolv_original_extended_full_multiple_ci_runs_pred_gp.csv\r\n",
      "freesolv_original_extended_full_multiple_ci_runs_pred_rf.csv\r\n",
      "freesolv_original_extended_full_multiple_ci_runs_pred_xgb.csv\r\n",
      "freesolv_original_extended_full_multiple_ci_runs_std_gp.csv\r\n",
      "freesolv_original_extended_full_multiple_ci_runs_std_rf.csv\r\n",
      "freesolv_original_extended_full_multiple_ci_runs_true_gp.csv\r\n",
      "freesolv_original_extended_full_multiple_ci_runs_true_rf.csv\r\n",
      "freesolv_original_extended_full_multiple_ci_runs_true_xgb.csv\r\n",
      "freesolv_original_extended_gp_tanimoto_train_test_scores.pickle\r\n",
      "freesolv_original_extended_gp_tanimoto_val_scores.pickle\r\n",
      "freesolv_original_extended_random_search_best_params_full.pickle\r\n",
      "freesolv_original_extended_random_search_best_train_test_scores_full.pickle\r\n",
      "freesolv_original_extended_random_search_best_val_scores_full.pickle\r\n",
      "freesolv_original_extended_random_search_grid_params_full.pickle\r\n",
      "freesolv_original_reproducing_random_search_best_params.pickle\r\n",
      "freesolv_original_reproducing_random_search_best_train_test_scores.pickle\r\n",
      "freesolv_original_reproducing_random_search_best_val_scores.pickle\r\n",
      "freesolv_original_reproducing_random_search_grid_params.pickle\r\n",
      "lipophilicity_original_extended_full_multiple_ci_runs_pred_gp.csv\r\n",
      "lipophilicity_original_extended_full_multiple_ci_runs_pred_rf.csv\r\n",
      "lipophilicity_original_extended_full_multiple_ci_runs_pred_xgb.csv\r\n",
      "lipophilicity_original_extended_full_multiple_ci_runs_std_gp.csv\r\n",
      "lipophilicity_original_extended_full_multiple_ci_runs_std_rf.csv\r\n",
      "lipophilicity_original_extended_full_multiple_ci_runs_true_gp.csv\r\n",
      "lipophilicity_original_extended_full_multiple_ci_runs_true_rf.csv\r\n",
      "lipophilicity_original_extended_full_multiple_ci_runs_true_xgb.csv\r\n",
      "lipophilicity_original_extended_gp_tanimoto_train_test_scores.pickle\r\n",
      "lipophilicity_original_extended_gp_tanimoto_val_scores.pickle\r\n",
      "lipophilicity_original_extended_random_search_best_params_full.pickle\r\n",
      "lipophilicity_original_extended_random_search_best_train_test_scores_full.pickle\r\n",
      "lipophilicity_original_extended_random_search_best_val_scores_full.pickle\r\n",
      "lipophilicity_original_extended_random_search_grid_params_full.pickle\r\n",
      "lipophilicity_original_reproducing_random_search_best_params.pickle\r\n",
      "lipophilicity_original_reproducing_random_search_best_train_test_scores.pickle\r\n",
      "lipophilicity_original_reproducing_random_search_best_val_scores.pickle\r\n",
      "lipophilicity_original_reproducing_random_search_grid_params.pickle\r\n"
     ]
    }
   ],
   "source": [
    "%ls ../results/"
   ]
  },
  {
   "cell_type": "code",
   "execution_count": 14,
   "metadata": {
    "colab": {},
    "colab_type": "code",
    "id": "X2glbcNcObX6"
   },
   "outputs": [],
   "source": [
    "with open(f'../results/{dataset}_{smile_type}_{grid_search_type}_random_search_best_val_scores.pickle', 'rb') as fp:\n",
    "    val_scores = pickle.load(fp)\n",
    "\n",
    "with open(f'../results/{dataset}_{smile_type}_{grid_search_type}_random_search_best_train_test_scores.pickle', 'rb') as fp:\n",
    "    train_test_scores = pickle.load(fp)\n",
    "\n",
    "with open(f'../results/{dataset}_{smile_type}_{grid_search_type}_random_search_best_params.pickle', 'rb') as fp:\n",
    "    best_params = pickle.load(fp)\n",
    "\n",
    "with open(f'../results/{dataset}_{smile_type}_{grid_search_type}_random_search_grid_params.pickle', 'rb') as fp:\n",
    "    params = pickle.load(fp)"
   ]
  },
  {
   "cell_type": "code",
   "execution_count": 15,
   "metadata": {},
   "outputs": [
    {
     "data": {
      "text/plain": [
       "{'1024ecfp-4': {'rf': {'rf__n_estimators': 500},\n",
       "  'xgb': {'xgb__n_estimators': 350,\n",
       "   'xgb__max_depth': 3,\n",
       "   'xgb__learning_rate': 0.3},\n",
       "  'krr': {'krr__alpha': 0.01},\n",
       "  'gp': {'gp__kernel': Matern(length_scale=1, nu=1.5) + WhiteKernel(noise_level=1)}}}"
      ]
     },
     "execution_count": 15,
     "metadata": {},
     "output_type": "execute_result"
    }
   ],
   "source": [
    "best_params"
   ]
  },
  {
   "cell_type": "code",
   "execution_count": 16,
   "metadata": {
    "colab": {},
    "colab_type": "code",
    "id": "_-z1xc4UObX9"
   },
   "outputs": [],
   "source": [
    "# with open(f'{root}/{dataset}_{smile_type}_random_search_best_params.json', 'r') as f:\n",
    "#     best_params = json.load(f)\n",
    "\n",
    "# with open(f'{root}/{dataset}_{smile_type}_random_search_best_cv_scores.json', 'r') as f:\n",
    "#     cv_scores = json.load(f)\n",
    "    \n",
    "# with open(f'{root}/{dataset}_{smile_type}_random_search_best_test_score.json', 'r') as f:\n",
    "#     test_score = json.load(f)"
   ]
  },
  {
   "cell_type": "markdown",
   "metadata": {},
   "source": [
    "Have a look at best parameters."
   ]
  },
  {
   "cell_type": "code",
   "execution_count": 17,
   "metadata": {
    "colab": {},
    "colab_type": "code",
    "id": "9j7rbVktObYA",
    "outputId": "970b69b5-d5eb-4b3d-df18-8dca22fdfe26"
   },
   "outputs": [
    {
     "data": {
      "text/plain": [
       "{'rf': {'rf__n_estimators': 500},\n",
       " 'xgb': {'xgb__n_estimators': 350,\n",
       "  'xgb__max_depth': 3,\n",
       "  'xgb__learning_rate': 0.3},\n",
       " 'krr': {'krr__alpha': 0.01},\n",
       " 'gp': {'gp__kernel': Matern(length_scale=1, nu=1.5) + WhiteKernel(noise_level=1)}}"
      ]
     },
     "execution_count": 17,
     "metadata": {},
     "output_type": "execute_result"
    }
   ],
   "source": [
    "best_params['1024ecfp-4']"
   ]
  },
  {
   "cell_type": "markdown",
   "metadata": {},
   "source": [
    "Have a look at the scores"
   ]
  },
  {
   "cell_type": "code",
   "execution_count": 18,
   "metadata": {},
   "outputs": [
    {
     "data": {
      "text/plain": [
       "{'1024ecfp-4': {'rf': {'fit_time': array([39.4377718 , 38.57110906, 23.38770008]),\n",
       "   'score_time': array([0.09466529, 0.08619094, 0.05223393]),\n",
       "   'test_RMSE': array([-1.34178015, -1.22262974, -1.29367848]),\n",
       "   'test_MAE': array([-0.94705517, -0.89975679, -0.94488878]),\n",
       "   'test_R^2': array([0.60794166, 0.6537392 , 0.5517642 ]),\n",
       "   'test_pearson_r': array([0.78653641, 0.81310339, 0.74788203])},\n",
       "  'xgb': {'fit_time': array([10.39289474, 10.41551375,  6.79518509]),\n",
       "   'score_time': array([0.02786708, 0.03060985, 0.01667857]),\n",
       "   'test_RMSE': array([-1.27324574, -1.16883852, -1.26714923]),\n",
       "   'test_MAE': array([-0.92256992, -0.83178264, -0.95214969]),\n",
       "   'test_R^2': array([0.64696933, 0.68353735, 0.5699595 ]),\n",
       "   'test_pearson_r': array([0.81224358, 0.8286462 , 0.76005609])},\n",
       "  'krr': {'fit_time': array([0.19490457, 0.15713429, 0.10324836]),\n",
       "   'score_time': array([0.02687693, 0.0287168 , 0.01716375]),\n",
       "   'test_RMSE': array([-1.35147148, -1.21141771, -1.30373293]),\n",
       "   'test_MAE': array([-1.01146869, -0.91008993, -0.95880726]),\n",
       "   'test_R^2': array([0.60225774, 0.66006079, 0.54476976]),\n",
       "   'test_pearson_r': array([0.78618979, 0.81254467, 0.74632302])},\n",
       "  'gp': {'fit_time': array([7.76818991, 7.13789797, 6.1971786 ]),\n",
       "   'score_time': array([0.13073373, 0.13655162, 0.09847522]),\n",
       "   'test_RMSE': array([-1.13968955, -1.10707684, -1.16604039]),\n",
       "   'test_MAE': array([-0.83165929, -0.84778621, -0.89627431]),\n",
       "   'test_R^2': array([0.71714679, 0.71609767, 0.6358494 ]),\n",
       "   'test_pearson_r': array([0.85125919, 0.85369607, 0.80204825])}}}"
      ]
     },
     "execution_count": 18,
     "metadata": {},
     "output_type": "execute_result"
    }
   ],
   "source": [
    "val_scores"
   ]
  },
  {
   "cell_type": "code",
   "execution_count": 19,
   "metadata": {},
   "outputs": [
    {
     "data": {
      "text/plain": [
       "{'1024ecfp-4': {'rf': {'fit_time': array([44.13630319, 44.76457071, 25.56672096]),\n",
       "   'score_time': array([0.09317112, 0.09696794, 0.05433226]),\n",
       "   'test_RMSE': array([-1.1488823 , -1.34596121, -1.2424524 ]),\n",
       "   'train_RMSE': array([-0.49361401, -0.46747745, -0.48995692]),\n",
       "   'test_MAE': array([-0.87037931, -0.98639795, -0.9282179 ]),\n",
       "   'train_MAE': array([-0.34115678, -0.33406854, -0.34020321]),\n",
       "   'test_R^2': array([0.74748202, 0.59400126, 0.66951373]),\n",
       "   'train_R^2': array([0.94328689, 0.95014068, 0.94493215]),\n",
       "   'test_pearson_r': array([0.86606021, 0.77087042, 0.8214092 ]),\n",
       "   'train_pearson_r': array([0.97597571, 0.97876206, 0.97640137])},\n",
       "  'xgb': {'fit_time': array([11.55184984, 11.51178932,  7.58625221]),\n",
       "   'score_time': array([0.02989316, 0.02800202, 0.0174768 ]),\n",
       "   'test_RMSE': array([-1.14467126, -1.17356563, -1.23767076]),\n",
       "   'train_RMSE': array([-0.45730997, -0.45178535, -0.45856922]),\n",
       "   'test_MAE': array([-0.87573058, -0.8594523 , -0.88205508]),\n",
       "   'train_MAE': array([-0.2929905 , -0.30293798, -0.29616713]),\n",
       "   'test_R^2': array([0.74932975, 0.69134426, 0.67205262]),\n",
       "   'train_R^2': array([0.95132232, 0.95343181, 0.95176168]),\n",
       "   'test_pearson_r': array([0.86951786, 0.83179157, 0.82266001]),\n",
       "   'train_pearson_r': array([0.9766618, 0.9776722, 0.9767025])},\n",
       "  'krr': {'fit_time': array([0.1902895 , 0.20125842, 0.12317753]),\n",
       "   'score_time': array([0.03163719, 0.03093624, 0.01897931]),\n",
       "   'test_RMSE': array([-1.16637825, -1.35246478, -1.3777146 ]),\n",
       "   'train_RMSE': array([-0.75440335, -0.73551355, -0.73614819]),\n",
       "   'test_MAE': array([-0.89421684, -0.96576693, -1.02677469]),\n",
       "   'train_MAE': array([-0.54132256, -0.53361543, -0.52911871]),\n",
       "   'test_R^2': array([0.73973243, 0.59006828, 0.59363862]),\n",
       "   'train_R^2': array([0.86753054, 0.87657407, 0.87568805]),\n",
       "   'test_pearson_r': array([0.86270672, 0.77130305, 0.7741103 ]),\n",
       "   'train_pearson_r': array([0.93574649, 0.94019106, 0.93968379])},\n",
       "  'gp': {'fit_time': array([9.328866  , 9.31937265, 7.2819922 ]),\n",
       "   'score_time': array([0.14626431, 0.13255548, 0.10991907]),\n",
       "   'test_RMSE': array([-1.01633992, -1.13769477, -1.14131519]),\n",
       "   'train_RMSE': array([-0.46799556, -0.38808431, -0.45749405]),\n",
       "   'test_MAE': array([-0.74799036, -0.83132208, -0.84012758]),\n",
       "   'train_MAE': array([-0.30910732, -0.25806601, -0.30315777]),\n",
       "   'test_R^2': array([0.80238532, 0.70992445, 0.72112788]),\n",
       "   'train_R^2': array([0.94902092, 0.9656381 , 0.95198762]),\n",
       "   'test_pearson_r': array([0.89875668, 0.84511256, 0.85344116]),\n",
       "   'train_pearson_r': array([0.97835338, 0.98544099, 0.97948365])}}}"
      ]
     },
     "execution_count": 19,
     "metadata": {},
     "output_type": "execute_result"
    }
   ],
   "source": [
    "train_test_scores"
   ]
  },
  {
   "cell_type": "markdown",
   "metadata": {},
   "source": [
    "Get the means over folds (cross_validate records the results as arrays even for one fold)"
   ]
  },
  {
   "cell_type": "code",
   "execution_count": 20,
   "metadata": {},
   "outputs": [
    {
     "data": {
      "text/plain": [
       "{'1024ecfp-4': {'rf': {'fit_time': 38.15586495399475,\n",
       "   'score_time': 0.08149043718973796,\n",
       "   'test_RMSE': 1.245765300429656,\n",
       "   'train_RMSE': 0.48368279430316224,\n",
       "   'test_MAE': 0.9283317206237126,\n",
       "   'train_MAE': 0.33847617561622706,\n",
       "   'test_R^2': 0.6703323358311608,\n",
       "   'train_R^2': 0.9461199030093733,\n",
       "   'test_pearson_r': 0.8194466129903658,\n",
       "   'train_pearson_r': 0.9770463816818342},\n",
       "  'xgb': {'fit_time': 10.216630458831787,\n",
       "   'score_time': 0.025123993555704754,\n",
       "   'test_RMSE': 1.1853025487982498,\n",
       "   'train_RMSE': 0.4558881832754507,\n",
       "   'test_MAE': 0.8724126538731003,\n",
       "   'train_MAE': 0.2973652022870695,\n",
       "   'test_R^2': 0.7042422091913522,\n",
       "   'train_R^2': 0.9521719372830454,\n",
       "   'test_pearson_r': 0.8413231464296871,\n",
       "   'train_pearson_r': 0.9770121660229799},\n",
       "  'krr': {'fit_time': 0.17157514890034994,\n",
       "   'score_time': 0.027184247970581055,\n",
       "   'test_RMSE': 1.2988525401897908,\n",
       "   'train_RMSE': 0.7420216976715474,\n",
       "   'test_MAE': 0.9622528205663797,\n",
       "   'train_MAE': 0.5346855639871081,\n",
       "   'test_R^2': 0.64114644308159,\n",
       "   'train_R^2': 0.8732642240425307,\n",
       "   'test_pearson_r': 0.8027066900059442,\n",
       "   'train_pearson_r': 0.9385404477202676},\n",
       "  'gp': {'fit_time': 8.643410285313925,\n",
       "   'score_time': 0.12957962354024252,\n",
       "   'test_RMSE': 1.0984499616718444,\n",
       "   'train_RMSE': 0.4378579712289799,\n",
       "   'test_MAE': 0.8064800081785313,\n",
       "   'train_MAE': 0.2901103654778805,\n",
       "   'test_R^2': 0.7444792157450094,\n",
       "   'train_R^2': 0.9555488780219973,\n",
       "   'test_pearson_r': 0.8657701318295886,\n",
       "   'train_pearson_r': 0.9810926730639048}}}"
      ]
     },
     "execution_count": 20,
     "metadata": {},
     "output_type": "execute_result"
    }
   ],
   "source": [
    "mean_val_scores = {features: {model: {record: np.abs(val_scores[features][model][record].mean()) for record in val_scores[features][model]} for model in val_scores[features]} for features in val_scores}\n",
    "mean_train_test_scores = {features: {model: {record: np.abs(train_test_scores[features][model][record].mean()) for record in train_test_scores[features][model]} for model in train_test_scores[features]} for features in train_test_scores}\n",
    "\n",
    "mean_train_test_scores"
   ]
  },
  {
   "cell_type": "code",
   "execution_count": 21,
   "metadata": {},
   "outputs": [
    {
     "data": {
      "text/plain": [
       "{'1024ecfp-4': {'rf': {'fit_time': 7.370299364680941,\n",
       "   'score_time': 0.018334280617809506,\n",
       "   'test_RMSE': 0.04894272538914384,\n",
       "   'test_MAE': 0.021803993202895836,\n",
       "   'test_R^2': 0.04170294773428007,\n",
       "   'test_pearson_r': 0.026778496713098614},\n",
       "  'xgb': {'fit_time': 1.7013330076983542,\n",
       "   'score_time': 0.0060257398819955205,\n",
       "   'test_RMSE': 0.04784585074161166,\n",
       "   'test_MAE': 0.05121362641450517,\n",
       "   'test_R^2': 0.0473376353678155,\n",
       "   'test_pearson_r': 0.029244531837154905},\n",
       "  'krr': {'fit_time': 0.03761079638757355,\n",
       "   'score_time': 0.005068462571933674,\n",
       "   'test_RMSE': 0.05813406495770343,\n",
       "   'test_MAE': 0.041398141835991206,\n",
       "   'test_R^2': 0.047067426213550645,\n",
       "   'test_pearson_r': 0.027221819029648372},\n",
       "  'gp': {'fit_time': 0.6455228177206849,\n",
       "   'score_time': 0.016747376730078294,\n",
       "   'test_RMSE': 0.024116975168103405,\n",
       "   'test_MAE': 0.027459612039736386,\n",
       "   'test_R^2': 0.0380790873765765,\n",
       "   'test_pearson_r': 0.023793443457349222}}}"
      ]
     },
     "execution_count": 21,
     "metadata": {},
     "output_type": "execute_result"
    }
   ],
   "source": [
    "std_val_scores = {features: {model: {record: val_scores[features][model][record].std() for record in val_scores[features][model]} for model in val_scores[features]} for features in val_scores}\n",
    "std_train_test_scores = {features: {model: {record: train_test_scores[features][model][record].std() for record in train_test_scores[features][model]} for model in train_test_scores[features]} for features in train_test_scores}\n",
    "\n",
    "std_val_scores"
   ]
  },
  {
   "cell_type": "code",
   "execution_count": 22,
   "metadata": {},
   "outputs": [
    {
     "data": {
      "text/plain": [
       "{'1024ecfp-4': {'rf': {'fit_time': 33.79886031150818,\n",
       "   'score_time': 0.0776967207590739,\n",
       "   'test_RMSE': 1.2860294553389464,\n",
       "   'test_MAE': 0.9305669168758022,\n",
       "   'test_R^2': 0.6044816843259202,\n",
       "   'test_pearson_r': 0.7825072775607325},\n",
       "  'xgb': {'fit_time': 9.201197862625122,\n",
       "   'score_time': 0.02505183219909668,\n",
       "   'test_RMSE': 1.236411161926917,\n",
       "   'test_MAE': 0.9021674141096154,\n",
       "   'test_R^2': 0.6334887274003423,\n",
       "   'test_pearson_r': 0.8003152926154801},\n",
       "  'krr': {'fit_time': 0.15176240603129068,\n",
       "   'score_time': 0.02425249417622884,\n",
       "   'test_RMSE': 1.2888740390526017,\n",
       "   'test_MAE': 0.9601219610465951,\n",
       "   'test_R^2': 0.6023627615227424,\n",
       "   'test_pearson_r': 0.7816858246692808},\n",
       "  'gp': {'fit_time': 7.034422159194946,\n",
       "   'score_time': 0.12192018826802571,\n",
       "   'test_RMSE': 1.1376022616076034,\n",
       "   'test_MAE': 0.8585732697552179,\n",
       "   'test_R^2': 0.6896979561486453,\n",
       "   'test_pearson_r': 0.8356678379425163}}}"
      ]
     },
     "execution_count": 22,
     "metadata": {},
     "output_type": "execute_result"
    }
   ],
   "source": [
    "mean_val_scores"
   ]
  },
  {
   "cell_type": "markdown",
   "metadata": {},
   "source": [
    "# Visualization"
   ]
  },
  {
   "cell_type": "markdown",
   "metadata": {},
   "source": [
    "## Plotting options"
   ]
  },
  {
   "cell_type": "code",
   "execution_count": 23,
   "metadata": {
    "colab": {},
    "colab_type": "code",
    "id": "Zx8K4vRIObYF"
   },
   "outputs": [],
   "source": [
    "column_order = ['1024ecfp-4']\n",
    "\n",
    "row_order = ['Random Forest', 'XGBoost', 'Kernel Ridge', 'Gaussian Process']\n",
    "mapper = {\n",
    "    'rf': 'Random Forest',\n",
    "    'xgb': 'XGBoost',\n",
    "    'krr': 'Kernel Ridge',\n",
    "    'gp': 'Gaussian Process'\n",
    "}"
   ]
  },
  {
   "cell_type": "markdown",
   "metadata": {},
   "source": [
    "## Train metric"
   ]
  },
  {
   "cell_type": "code",
   "execution_count": 24,
   "metadata": {
    "colab": {},
    "colab_type": "code",
    "id": "Vo6S1WmkObYJ",
    "outputId": "301d944b-d6a7-4fe3-d07e-42283571b794"
   },
   "outputs": [
    {
     "name": "stdout",
     "output_type": "stream",
     "text": [
      "RMSE : root-mean-square error , unit: (mol/litre)\n"
     ]
    },
    {
     "data": {
      "text/html": [
       "<div>\n",
       "<style scoped>\n",
       "    .dataframe tbody tr th:only-of-type {\n",
       "        vertical-align: middle;\n",
       "    }\n",
       "\n",
       "    .dataframe tbody tr th {\n",
       "        vertical-align: top;\n",
       "    }\n",
       "\n",
       "    .dataframe thead th {\n",
       "        text-align: right;\n",
       "    }\n",
       "</style>\n",
       "<table border=\"1\" class=\"dataframe\">\n",
       "  <thead>\n",
       "    <tr style=\"text-align: right;\">\n",
       "      <th></th>\n",
       "      <th>1024ecfp-4</th>\n",
       "    </tr>\n",
       "  </thead>\n",
       "  <tbody>\n",
       "    <tr>\n",
       "      <th>gp</th>\n",
       "      <td>0.44</td>\n",
       "    </tr>\n",
       "    <tr>\n",
       "      <th>krr</th>\n",
       "      <td>0.74</td>\n",
       "    </tr>\n",
       "    <tr>\n",
       "      <th>rf</th>\n",
       "      <td>0.48</td>\n",
       "    </tr>\n",
       "    <tr>\n",
       "      <th>xgb</th>\n",
       "      <td>0.46</td>\n",
       "    </tr>\n",
       "  </tbody>\n",
       "</table>\n",
       "</div>"
      ],
      "text/plain": [
       "     1024ecfp-4\n",
       "gp         0.44\n",
       "krr        0.74\n",
       "rf         0.48\n",
       "xgb        0.46"
      ]
     },
     "execution_count": 24,
     "metadata": {},
     "output_type": "execute_result"
    }
   ],
   "source": [
    "## pull out train scores for all features for all models (train set is the train set when working on train/test split )\n",
    "train_metric = pd.DataFrame({features: {model: mean_train_test_scores[features][model][f'train_{metric}'] for model in mean_train_test_scores[features]} for features in mean_train_test_scores})\n",
    "\n",
    "print(metric, ':',metrics_to_labels[metric], ', unit:', datasets_to_units[dataset])\n",
    "train_metric.round(2)"
   ]
  },
  {
   "cell_type": "code",
   "execution_count": 25,
   "metadata": {
    "colab": {},
    "colab_type": "code",
    "id": "4iiKcCOMObYM",
    "outputId": "e973f26c-605b-4c34-d8c0-56b4ec602627"
   },
   "outputs": [
    {
     "data": {
      "image/png": "[encoded data removed]",
      "text/plain": [
       "<Figure size 576x288 with 2 Axes>"
      ]
     },
     "metadata": {
      "needs_background": "light"
     },
     "output_type": "display_data"
    }
   ],
   "source": [
    "df = train_metric.round(2)\n",
    "df = df.rename(mapper=mapper, axis='rows')\n",
    "df = df.loc[row_order, column_order]\n",
    "\n",
    "plot_algorithm_dataset_comparison_heatmap(df, dataset=dataset, metric=metric)\n",
    "\n",
    "# fig.savefig('../figures/algorithm_comparison.jpg', dpi=350, bbox_inches='tight')\n",
    "plt.show()"
   ]
  },
  {
   "cell_type": "markdown",
   "metadata": {},
   "source": [
    "## Val metric"
   ]
  },
  {
   "cell_type": "code",
   "execution_count": 26,
   "metadata": {
    "colab": {},
    "colab_type": "code",
    "id": "KhoOQLCFObYP",
    "outputId": "42aa4335-580b-4444-c3a1-50e83b83f258"
   },
   "outputs": [
    {
     "name": "stdout",
     "output_type": "stream",
     "text": [
      "RMSE : root-mean-square error , unit: (mol/litre)\n"
     ]
    },
    {
     "data": {
      "text/html": [
       "<div>\n",
       "<style scoped>\n",
       "    .dataframe tbody tr th:only-of-type {\n",
       "        vertical-align: middle;\n",
       "    }\n",
       "\n",
       "    .dataframe tbody tr th {\n",
       "        vertical-align: top;\n",
       "    }\n",
       "\n",
       "    .dataframe thead th {\n",
       "        text-align: right;\n",
       "    }\n",
       "</style>\n",
       "<table border=\"1\" class=\"dataframe\">\n",
       "  <thead>\n",
       "    <tr style=\"text-align: right;\">\n",
       "      <th></th>\n",
       "      <th>1024ecfp-4</th>\n",
       "    </tr>\n",
       "  </thead>\n",
       "  <tbody>\n",
       "    <tr>\n",
       "      <th>gp</th>\n",
       "      <td>1.14</td>\n",
       "    </tr>\n",
       "    <tr>\n",
       "      <th>krr</th>\n",
       "      <td>1.29</td>\n",
       "    </tr>\n",
       "    <tr>\n",
       "      <th>rf</th>\n",
       "      <td>1.29</td>\n",
       "    </tr>\n",
       "    <tr>\n",
       "      <th>xgb</th>\n",
       "      <td>1.24</td>\n",
       "    </tr>\n",
       "  </tbody>\n",
       "</table>\n",
       "</div>"
      ],
      "text/plain": [
       "     1024ecfp-4\n",
       "gp         1.14\n",
       "krr        1.29\n",
       "rf         1.29\n",
       "xgb        1.24"
      ]
     },
     "execution_count": 26,
     "metadata": {},
     "output_type": "execute_result"
    }
   ],
   "source": [
    "## pull out validation scores for all features for all models (validation set is a test set when working on train/val split )\n",
    "val_metric = pd.DataFrame({features: {model: mean_val_scores[features][model][f'test_{metric}'] for model in mean_val_scores[features]} for features in mean_val_scores})\n",
    "\n",
    "print(metric, ':',metrics_to_labels[metric], ', unit:', datasets_to_units[dataset])\n",
    "val_metric.round(2)"
   ]
  },
  {
   "cell_type": "code",
   "execution_count": 27,
   "metadata": {
    "colab": {},
    "colab_type": "code",
    "id": "eMiuZLM0ObYS",
    "outputId": "b8cf8667-05e8-4394-cf88-19c3605f9b5e"
   },
   "outputs": [
    {
     "data": {
      "image/png": "[encoded data removed]",
      "text/plain": [
       "<Figure size 576x288 with 2 Axes>"
      ]
     },
     "metadata": {
      "needs_background": "light"
     },
     "output_type": "display_data"
    }
   ],
   "source": [
    "df = val_metric.round(2)\n",
    "df = df.rename(mapper=mapper, axis='rows')\n",
    "df = df.loc[row_order, column_order]\n",
    "\n",
    "plot_algorithm_dataset_comparison_heatmap(df, dataset=dataset, metric=metric)\n",
    "\n",
    "# fig.savefig('../figures/algorithm_comparison.jpg', dpi=350, bbox_inches='tight')\n",
    "plt.show()"
   ]
  },
  {
   "cell_type": "markdown",
   "metadata": {},
   "source": [
    "## Test metric"
   ]
  },
  {
   "cell_type": "code",
   "execution_count": 28,
   "metadata": {
    "colab": {},
    "colab_type": "code",
    "id": "1Npsyrn0ObYV",
    "outputId": "692f88c5-1e1f-4424-979a-8db0907141ad"
   },
   "outputs": [
    {
     "name": "stdout",
     "output_type": "stream",
     "text": [
      "RMSE : root-mean-square error , unit: (mol/litre)\n"
     ]
    },
    {
     "data": {
      "text/html": [
       "<div>\n",
       "<style scoped>\n",
       "    .dataframe tbody tr th:only-of-type {\n",
       "        vertical-align: middle;\n",
       "    }\n",
       "\n",
       "    .dataframe tbody tr th {\n",
       "        vertical-align: top;\n",
       "    }\n",
       "\n",
       "    .dataframe thead th {\n",
       "        text-align: right;\n",
       "    }\n",
       "</style>\n",
       "<table border=\"1\" class=\"dataframe\">\n",
       "  <thead>\n",
       "    <tr style=\"text-align: right;\">\n",
       "      <th></th>\n",
       "      <th>1024ecfp-4</th>\n",
       "    </tr>\n",
       "  </thead>\n",
       "  <tbody>\n",
       "    <tr>\n",
       "      <th>gp</th>\n",
       "      <td>1.10</td>\n",
       "    </tr>\n",
       "    <tr>\n",
       "      <th>krr</th>\n",
       "      <td>1.30</td>\n",
       "    </tr>\n",
       "    <tr>\n",
       "      <th>rf</th>\n",
       "      <td>1.25</td>\n",
       "    </tr>\n",
       "    <tr>\n",
       "      <th>xgb</th>\n",
       "      <td>1.19</td>\n",
       "    </tr>\n",
       "  </tbody>\n",
       "</table>\n",
       "</div>"
      ],
      "text/plain": [
       "     1024ecfp-4\n",
       "gp         1.10\n",
       "krr        1.30\n",
       "rf         1.25\n",
       "xgb        1.19"
      ]
     },
     "execution_count": 28,
     "metadata": {},
     "output_type": "execute_result"
    }
   ],
   "source": [
    "## pull out validation scores for all features for all models (validation set is a test set when working on train/val split )\n",
    "test_metric = pd.DataFrame({features: {model: mean_train_test_scores[features][model][f'test_{metric}'] for model in mean_train_test_scores[features]} for features in mean_train_test_scores})\n",
    "\n",
    "print(metric, ':',metrics_to_labels[metric], ', unit:', datasets_to_units[dataset])\n",
    "test_metric.round(2)"
   ]
  },
  {
   "cell_type": "code",
   "execution_count": 29,
   "metadata": {
    "colab": {},
    "colab_type": "code",
    "id": "xLiKrnQAObYY",
    "outputId": "ae3f0a3d-6df0-4473-daef-07fdb6ddbc1c"
   },
   "outputs": [
    {
     "data": {
      "image/png": "[encoded data removed]",
      "text/plain": [
       "<Figure size 576x288 with 2 Axes>"
      ]
     },
     "metadata": {
      "needs_background": "light"
     },
     "output_type": "display_data"
    }
   ],
   "source": [
    "df = test_metric.round(2)\n",
    "df = df.rename(mapper=mapper, axis='rows')\n",
    "df = df.loc[row_order, column_order]\n",
    "\n",
    "plot_algorithm_dataset_comparison_heatmap(df, dataset=dataset, metric=metric)\n",
    "\n",
    "# fig.savefig('../figures/algorithm_comparison.jpg', dpi=350, bbox_inches='tight')\n",
    "plt.show()"
   ]
  },
  {
   "cell_type": "markdown",
   "metadata": {
    "colab": {},
    "colab_type": "code",
    "id": "9OFPhzLsObYb"
   },
   "source": [
    "# Creating a table with all the scores"
   ]
  },
  {
   "cell_type": "markdown",
   "metadata": {},
   "source": [
    "## Train and test scores data frame"
   ]
  },
  {
   "cell_type": "code",
   "execution_count": 30,
   "metadata": {},
   "outputs": [
    {
     "data": {
      "text/html": [
       "<div>\n",
       "<style scoped>\n",
       "    .dataframe tbody tr th:only-of-type {\n",
       "        vertical-align: middle;\n",
       "    }\n",
       "\n",
       "    .dataframe tbody tr th {\n",
       "        vertical-align: top;\n",
       "    }\n",
       "\n",
       "    .dataframe thead th {\n",
       "        text-align: right;\n",
       "    }\n",
       "</style>\n",
       "<table border=\"1\" class=\"dataframe\">\n",
       "  <thead>\n",
       "    <tr style=\"text-align: right;\">\n",
       "      <th></th>\n",
       "      <th>fit_time</th>\n",
       "      <th>score_time</th>\n",
       "      <th>test_RMSE</th>\n",
       "      <th>train_RMSE</th>\n",
       "      <th>test_MAE</th>\n",
       "      <th>train_MAE</th>\n",
       "      <th>test_R^2</th>\n",
       "      <th>train_R^2</th>\n",
       "      <th>test_pearson_r</th>\n",
       "      <th>train_pearson_r</th>\n",
       "    </tr>\n",
       "  </thead>\n",
       "  <tbody>\n",
       "    <tr>\n",
       "      <th>rf</th>\n",
       "      <td>8.905563</td>\n",
       "      <td>0.019266</td>\n",
       "      <td>0.080491</td>\n",
       "      <td>0.011556</td>\n",
       "      <td>0.047364</td>\n",
       "      <td>0.003141</td>\n",
       "      <td>0.062661</td>\n",
       "      <td>0.002921</td>\n",
       "      <td>0.038886</td>\n",
       "      <td>0.001226</td>\n",
       "    </tr>\n",
       "    <tr>\n",
       "      <th>xgb</th>\n",
       "      <td>1.860030</td>\n",
       "      <td>0.005462</td>\n",
       "      <td>0.038863</td>\n",
       "      <td>0.002946</td>\n",
       "      <td>0.009521</td>\n",
       "      <td>0.004148</td>\n",
       "      <td>0.032840</td>\n",
       "      <td>0.000909</td>\n",
       "      <td>0.020282</td>\n",
       "      <td>0.000467</td>\n",
       "    </tr>\n",
       "    <tr>\n",
       "      <th>krr</th>\n",
       "      <td>0.034514</td>\n",
       "      <td>0.005809</td>\n",
       "      <td>0.094239</td>\n",
       "      <td>0.008759</td>\n",
       "      <td>0.054174</td>\n",
       "      <td>0.005039</td>\n",
       "      <td>0.069726</td>\n",
       "      <td>0.004070</td>\n",
       "      <td>0.042442</td>\n",
       "      <td>0.001986</td>\n",
       "    </tr>\n",
       "    <tr>\n",
       "      <th>gp</th>\n",
       "      <td>0.962676</td>\n",
       "      <td>0.014986</td>\n",
       "      <td>0.058079</td>\n",
       "      <td>0.035455</td>\n",
       "      <td>0.041514</td>\n",
       "      <td>0.022789</td>\n",
       "      <td>0.041200</td>\n",
       "      <td>0.007236</td>\n",
       "      <td>0.023572</td>\n",
       "      <td>0.003109</td>\n",
       "    </tr>\n",
       "  </tbody>\n",
       "</table>\n",
       "</div>"
      ],
      "text/plain": [
       "     fit_time  score_time  test_RMSE  train_RMSE  test_MAE  train_MAE  \\\n",
       "rf   8.905563    0.019266   0.080491    0.011556  0.047364   0.003141   \n",
       "xgb  1.860030    0.005462   0.038863    0.002946  0.009521   0.004148   \n",
       "krr  0.034514    0.005809   0.094239    0.008759  0.054174   0.005039   \n",
       "gp   0.962676    0.014986   0.058079    0.035455  0.041514   0.022789   \n",
       "\n",
       "     test_R^2  train_R^2  test_pearson_r  train_pearson_r  \n",
       "rf   0.062661   0.002921        0.038886         0.001226  \n",
       "xgb  0.032840   0.000909        0.020282         0.000467  \n",
       "krr  0.069726   0.004070        0.042442         0.001986  \n",
       "gp   0.041200   0.007236        0.023572         0.003109  "
      ]
     },
     "execution_count": 30,
     "metadata": {},
     "output_type": "execute_result"
    }
   ],
   "source": [
    "train_test_means_df = pd.DataFrame(mean_train_test_scores['1024ecfp-4']).T\n",
    "train_test_stds_df = pd.DataFrame(std_train_test_scores['1024ecfp-4']).T\n",
    "\n",
    "train_test_stds_df"
   ]
  },
  {
   "cell_type": "markdown",
   "metadata": {},
   "source": [
    "## Validation scores data frame"
   ]
  },
  {
   "cell_type": "markdown",
   "metadata": {},
   "source": [
    "### Changing col names to 'val_\\*' form 'test_\\*'"
   ]
  },
  {
   "cell_type": "code",
   "execution_count": 31,
   "metadata": {},
   "outputs": [
    {
     "data": {
      "text/html": [
       "<div>\n",
       "<style scoped>\n",
       "    .dataframe tbody tr th:only-of-type {\n",
       "        vertical-align: middle;\n",
       "    }\n",
       "\n",
       "    .dataframe tbody tr th {\n",
       "        vertical-align: top;\n",
       "    }\n",
       "\n",
       "    .dataframe thead th {\n",
       "        text-align: right;\n",
       "    }\n",
       "</style>\n",
       "<table border=\"1\" class=\"dataframe\">\n",
       "  <thead>\n",
       "    <tr style=\"text-align: right;\">\n",
       "      <th></th>\n",
       "      <th>fit_time</th>\n",
       "      <th>score_time</th>\n",
       "      <th>test_RMSE</th>\n",
       "      <th>test_MAE</th>\n",
       "      <th>test_R^2</th>\n",
       "      <th>test_pearson_r</th>\n",
       "    </tr>\n",
       "  </thead>\n",
       "  <tbody>\n",
       "    <tr>\n",
       "      <th>rf</th>\n",
       "      <td>7.370299</td>\n",
       "      <td>0.018334</td>\n",
       "      <td>0.048943</td>\n",
       "      <td>0.021804</td>\n",
       "      <td>0.041703</td>\n",
       "      <td>0.026778</td>\n",
       "    </tr>\n",
       "    <tr>\n",
       "      <th>xgb</th>\n",
       "      <td>1.701333</td>\n",
       "      <td>0.006026</td>\n",
       "      <td>0.047846</td>\n",
       "      <td>0.051214</td>\n",
       "      <td>0.047338</td>\n",
       "      <td>0.029245</td>\n",
       "    </tr>\n",
       "    <tr>\n",
       "      <th>krr</th>\n",
       "      <td>0.037611</td>\n",
       "      <td>0.005068</td>\n",
       "      <td>0.058134</td>\n",
       "      <td>0.041398</td>\n",
       "      <td>0.047067</td>\n",
       "      <td>0.027222</td>\n",
       "    </tr>\n",
       "    <tr>\n",
       "      <th>gp</th>\n",
       "      <td>0.645523</td>\n",
       "      <td>0.016747</td>\n",
       "      <td>0.024117</td>\n",
       "      <td>0.027460</td>\n",
       "      <td>0.038079</td>\n",
       "      <td>0.023793</td>\n",
       "    </tr>\n",
       "  </tbody>\n",
       "</table>\n",
       "</div>"
      ],
      "text/plain": [
       "     fit_time  score_time  test_RMSE  test_MAE  test_R^2  test_pearson_r\n",
       "rf   7.370299    0.018334   0.048943  0.021804  0.041703        0.026778\n",
       "xgb  1.701333    0.006026   0.047846  0.051214  0.047338        0.029245\n",
       "krr  0.037611    0.005068   0.058134  0.041398  0.047067        0.027222\n",
       "gp   0.645523    0.016747   0.024117  0.027460  0.038079        0.023793"
      ]
     },
     "execution_count": 31,
     "metadata": {},
     "output_type": "execute_result"
    }
   ],
   "source": [
    "val_means_df = pd.DataFrame(mean_val_scores['1024ecfp-4']).T\n",
    "val_stds_df = pd.DataFrame(std_val_scores['1024ecfp-4']).T\n",
    "\n",
    "val_stds_df"
   ]
  },
  {
   "cell_type": "code",
   "execution_count": 32,
   "metadata": {},
   "outputs": [
    {
     "data": {
      "text/html": [
       "<div>\n",
       "<style scoped>\n",
       "    .dataframe tbody tr th:only-of-type {\n",
       "        vertical-align: middle;\n",
       "    }\n",
       "\n",
       "    .dataframe tbody tr th {\n",
       "        vertical-align: top;\n",
       "    }\n",
       "\n",
       "    .dataframe thead th {\n",
       "        text-align: right;\n",
       "    }\n",
       "</style>\n",
       "<table border=\"1\" class=\"dataframe\">\n",
       "  <thead>\n",
       "    <tr style=\"text-align: right;\">\n",
       "      <th></th>\n",
       "      <th>test_RMSE</th>\n",
       "      <th>test_MAE</th>\n",
       "      <th>test_R^2</th>\n",
       "      <th>test_pearson_r</th>\n",
       "    </tr>\n",
       "  </thead>\n",
       "  <tbody>\n",
       "    <tr>\n",
       "      <th>rf</th>\n",
       "      <td>0.048943</td>\n",
       "      <td>0.021804</td>\n",
       "      <td>0.041703</td>\n",
       "      <td>0.026778</td>\n",
       "    </tr>\n",
       "    <tr>\n",
       "      <th>xgb</th>\n",
       "      <td>0.047846</td>\n",
       "      <td>0.051214</td>\n",
       "      <td>0.047338</td>\n",
       "      <td>0.029245</td>\n",
       "    </tr>\n",
       "    <tr>\n",
       "      <th>krr</th>\n",
       "      <td>0.058134</td>\n",
       "      <td>0.041398</td>\n",
       "      <td>0.047067</td>\n",
       "      <td>0.027222</td>\n",
       "    </tr>\n",
       "    <tr>\n",
       "      <th>gp</th>\n",
       "      <td>0.024117</td>\n",
       "      <td>0.027460</td>\n",
       "      <td>0.038079</td>\n",
       "      <td>0.023793</td>\n",
       "    </tr>\n",
       "  </tbody>\n",
       "</table>\n",
       "</div>"
      ],
      "text/plain": [
       "     test_RMSE  test_MAE  test_R^2  test_pearson_r\n",
       "rf    0.048943  0.021804  0.041703        0.026778\n",
       "xgb   0.047846  0.051214  0.047338        0.029245\n",
       "krr   0.058134  0.041398  0.047067        0.027222\n",
       "gp    0.024117  0.027460  0.038079        0.023793"
      ]
     },
     "execution_count": 32,
     "metadata": {},
     "output_type": "execute_result"
    }
   ],
   "source": [
    "val_means_df.drop(['fit_time', 'score_time'], axis=1, inplace=True)\n",
    "val_stds_df.drop(['fit_time', 'score_time'], axis=1, inplace=True)\n",
    "val_stds_df"
   ]
  },
  {
   "cell_type": "code",
   "execution_count": 33,
   "metadata": {},
   "outputs": [
    {
     "data": {
      "text/plain": [
       "['test_RMSE', 'test_MAE', 'test_R^2', 'test_pearson_r']"
      ]
     },
     "execution_count": 33,
     "metadata": {},
     "output_type": "execute_result"
    }
   ],
   "source": [
    "col_names = list(val_means_df.columns)\n",
    "col_names"
   ]
  },
  {
   "cell_type": "code",
   "execution_count": 34,
   "metadata": {},
   "outputs": [
    {
     "data": {
      "text/plain": [
       "['val_RMSE', 'val_MAE', 'val_R^2', 'val_pearson_r']"
      ]
     },
     "execution_count": 34,
     "metadata": {},
     "output_type": "execute_result"
    }
   ],
   "source": [
    "new_col_names = []\n",
    "for name in col_names:\n",
    "    new_col_names.append(name.replace(\"test\", \"val\"))\n",
    "    \n",
    "new_col_names"
   ]
  },
  {
   "cell_type": "markdown",
   "metadata": {},
   "source": [
    "### Ready validation data frame"
   ]
  },
  {
   "cell_type": "code",
   "execution_count": 35,
   "metadata": {},
   "outputs": [
    {
     "data": {
      "text/html": [
       "<div>\n",
       "<style scoped>\n",
       "    .dataframe tbody tr th:only-of-type {\n",
       "        vertical-align: middle;\n",
       "    }\n",
       "\n",
       "    .dataframe tbody tr th {\n",
       "        vertical-align: top;\n",
       "    }\n",
       "\n",
       "    .dataframe thead th {\n",
       "        text-align: right;\n",
       "    }\n",
       "</style>\n",
       "<table border=\"1\" class=\"dataframe\">\n",
       "  <thead>\n",
       "    <tr style=\"text-align: right;\">\n",
       "      <th></th>\n",
       "      <th>val_RMSE</th>\n",
       "      <th>val_MAE</th>\n",
       "      <th>val_R^2</th>\n",
       "      <th>val_pearson_r</th>\n",
       "    </tr>\n",
       "  </thead>\n",
       "  <tbody>\n",
       "    <tr>\n",
       "      <th>rf</th>\n",
       "      <td>0.048943</td>\n",
       "      <td>0.021804</td>\n",
       "      <td>0.041703</td>\n",
       "      <td>0.026778</td>\n",
       "    </tr>\n",
       "    <tr>\n",
       "      <th>xgb</th>\n",
       "      <td>0.047846</td>\n",
       "      <td>0.051214</td>\n",
       "      <td>0.047338</td>\n",
       "      <td>0.029245</td>\n",
       "    </tr>\n",
       "    <tr>\n",
       "      <th>krr</th>\n",
       "      <td>0.058134</td>\n",
       "      <td>0.041398</td>\n",
       "      <td>0.047067</td>\n",
       "      <td>0.027222</td>\n",
       "    </tr>\n",
       "    <tr>\n",
       "      <th>gp</th>\n",
       "      <td>0.024117</td>\n",
       "      <td>0.027460</td>\n",
       "      <td>0.038079</td>\n",
       "      <td>0.023793</td>\n",
       "    </tr>\n",
       "  </tbody>\n",
       "</table>\n",
       "</div>"
      ],
      "text/plain": [
       "     val_RMSE   val_MAE   val_R^2  val_pearson_r\n",
       "rf   0.048943  0.021804  0.041703       0.026778\n",
       "xgb  0.047846  0.051214  0.047338       0.029245\n",
       "krr  0.058134  0.041398  0.047067       0.027222\n",
       "gp   0.024117  0.027460  0.038079       0.023793"
      ]
     },
     "execution_count": 35,
     "metadata": {},
     "output_type": "execute_result"
    }
   ],
   "source": [
    "val_means_df.columns = new_col_names\n",
    "val_stds_df.columns = new_col_names\n",
    "\n",
    "val_stds_df"
   ]
  },
  {
   "cell_type": "markdown",
   "metadata": {},
   "source": [
    "## All scores"
   ]
  },
  {
   "cell_type": "code",
   "execution_count": 36,
   "metadata": {},
   "outputs": [
    {
     "data": {
      "text/html": [
       "<div>\n",
       "<style scoped>\n",
       "    .dataframe tbody tr th:only-of-type {\n",
       "        vertical-align: middle;\n",
       "    }\n",
       "\n",
       "    .dataframe tbody tr th {\n",
       "        vertical-align: top;\n",
       "    }\n",
       "\n",
       "    .dataframe thead th {\n",
       "        text-align: right;\n",
       "    }\n",
       "</style>\n",
       "<table border=\"1\" class=\"dataframe\">\n",
       "  <thead>\n",
       "    <tr style=\"text-align: right;\">\n",
       "      <th></th>\n",
       "      <th>fit_time</th>\n",
       "      <th>score_time</th>\n",
       "      <th>test_RMSE</th>\n",
       "      <th>train_RMSE</th>\n",
       "      <th>test_MAE</th>\n",
       "      <th>train_MAE</th>\n",
       "      <th>test_R^2</th>\n",
       "      <th>train_R^2</th>\n",
       "      <th>test_pearson_r</th>\n",
       "      <th>train_pearson_r</th>\n",
       "      <th>val_RMSE</th>\n",
       "      <th>val_MAE</th>\n",
       "      <th>val_R^2</th>\n",
       "      <th>val_pearson_r</th>\n",
       "    </tr>\n",
       "  </thead>\n",
       "  <tbody>\n",
       "    <tr>\n",
       "      <th>rf</th>\n",
       "      <td>8.905563</td>\n",
       "      <td>0.019266</td>\n",
       "      <td>0.080491</td>\n",
       "      <td>0.011556</td>\n",
       "      <td>0.047364</td>\n",
       "      <td>0.003141</td>\n",
       "      <td>0.062661</td>\n",
       "      <td>0.002921</td>\n",
       "      <td>0.038886</td>\n",
       "      <td>0.001226</td>\n",
       "      <td>0.048943</td>\n",
       "      <td>0.021804</td>\n",
       "      <td>0.041703</td>\n",
       "      <td>0.026778</td>\n",
       "    </tr>\n",
       "    <tr>\n",
       "      <th>xgb</th>\n",
       "      <td>1.860030</td>\n",
       "      <td>0.005462</td>\n",
       "      <td>0.038863</td>\n",
       "      <td>0.002946</td>\n",
       "      <td>0.009521</td>\n",
       "      <td>0.004148</td>\n",
       "      <td>0.032840</td>\n",
       "      <td>0.000909</td>\n",
       "      <td>0.020282</td>\n",
       "      <td>0.000467</td>\n",
       "      <td>0.047846</td>\n",
       "      <td>0.051214</td>\n",
       "      <td>0.047338</td>\n",
       "      <td>0.029245</td>\n",
       "    </tr>\n",
       "    <tr>\n",
       "      <th>krr</th>\n",
       "      <td>0.034514</td>\n",
       "      <td>0.005809</td>\n",
       "      <td>0.094239</td>\n",
       "      <td>0.008759</td>\n",
       "      <td>0.054174</td>\n",
       "      <td>0.005039</td>\n",
       "      <td>0.069726</td>\n",
       "      <td>0.004070</td>\n",
       "      <td>0.042442</td>\n",
       "      <td>0.001986</td>\n",
       "      <td>0.058134</td>\n",
       "      <td>0.041398</td>\n",
       "      <td>0.047067</td>\n",
       "      <td>0.027222</td>\n",
       "    </tr>\n",
       "    <tr>\n",
       "      <th>gp</th>\n",
       "      <td>0.962676</td>\n",
       "      <td>0.014986</td>\n",
       "      <td>0.058079</td>\n",
       "      <td>0.035455</td>\n",
       "      <td>0.041514</td>\n",
       "      <td>0.022789</td>\n",
       "      <td>0.041200</td>\n",
       "      <td>0.007236</td>\n",
       "      <td>0.023572</td>\n",
       "      <td>0.003109</td>\n",
       "      <td>0.024117</td>\n",
       "      <td>0.027460</td>\n",
       "      <td>0.038079</td>\n",
       "      <td>0.023793</td>\n",
       "    </tr>\n",
       "  </tbody>\n",
       "</table>\n",
       "</div>"
      ],
      "text/plain": [
       "     fit_time  score_time  test_RMSE  train_RMSE  test_MAE  train_MAE  \\\n",
       "rf   8.905563    0.019266   0.080491    0.011556  0.047364   0.003141   \n",
       "xgb  1.860030    0.005462   0.038863    0.002946  0.009521   0.004148   \n",
       "krr  0.034514    0.005809   0.094239    0.008759  0.054174   0.005039   \n",
       "gp   0.962676    0.014986   0.058079    0.035455  0.041514   0.022789   \n",
       "\n",
       "     test_R^2  train_R^2  test_pearson_r  train_pearson_r  val_RMSE   val_MAE  \\\n",
       "rf   0.062661   0.002921        0.038886         0.001226  0.048943  0.021804   \n",
       "xgb  0.032840   0.000909        0.020282         0.000467  0.047846  0.051214   \n",
       "krr  0.069726   0.004070        0.042442         0.001986  0.058134  0.041398   \n",
       "gp   0.041200   0.007236        0.023572         0.003109  0.024117  0.027460   \n",
       "\n",
       "      val_R^2  val_pearson_r  \n",
       "rf   0.041703       0.026778  \n",
       "xgb  0.047338       0.029245  \n",
       "krr  0.047067       0.027222  \n",
       "gp   0.038079       0.023793  "
      ]
     },
     "execution_count": 36,
     "metadata": {},
     "output_type": "execute_result"
    }
   ],
   "source": [
    "all_means = pd.concat([train_test_means_df, val_means_df], axis = 1)\n",
    "all_stds = pd.concat([train_test_stds_df, val_stds_df], axis = 1)\n",
    "\n",
    "all_stds"
   ]
  },
  {
   "cell_type": "code",
   "execution_count": 37,
   "metadata": {},
   "outputs": [
    {
     "data": {
      "text/plain": [
       "['fit_time',\n",
       " 'score_time',\n",
       " 'train_RMSE',\n",
       " 'val_RMSE',\n",
       " 'test_RMSE',\n",
       " 'train_MAE',\n",
       " 'val_MAE',\n",
       " 'test_MAE',\n",
       " 'train_R^2',\n",
       " 'val_R^2',\n",
       " 'test_R^2',\n",
       " 'train_pearson_r',\n",
       " 'val_pearson_r',\n",
       " 'test_pearson_r']"
      ]
     },
     "execution_count": 37,
     "metadata": {},
     "output_type": "execute_result"
    }
   ],
   "source": [
    "col_order = ['fit_time', 'score_time']\n",
    "temp = [[f'train_{metric}', f'val_{metric}', f'test_{metric}'] for metric in metrics_to_labels]\n",
    "\n",
    "for l in temp:\n",
    "    col_order.extend(l)\n",
    "    \n",
    "col_order"
   ]
  },
  {
   "cell_type": "code",
   "execution_count": 38,
   "metadata": {},
   "outputs": [
    {
     "data": {
      "text/html": [
       "<div>\n",
       "<style scoped>\n",
       "    .dataframe tbody tr th:only-of-type {\n",
       "        vertical-align: middle;\n",
       "    }\n",
       "\n",
       "    .dataframe tbody tr th {\n",
       "        vertical-align: top;\n",
       "    }\n",
       "\n",
       "    .dataframe thead th {\n",
       "        text-align: right;\n",
       "    }\n",
       "</style>\n",
       "<table border=\"1\" class=\"dataframe\">\n",
       "  <thead>\n",
       "    <tr style=\"text-align: right;\">\n",
       "      <th></th>\n",
       "      <th>fit_time</th>\n",
       "      <th>score_time</th>\n",
       "      <th>train_RMSE</th>\n",
       "      <th>val_RMSE</th>\n",
       "      <th>test_RMSE</th>\n",
       "      <th>train_MAE</th>\n",
       "      <th>val_MAE</th>\n",
       "      <th>test_MAE</th>\n",
       "      <th>train_R^2</th>\n",
       "      <th>val_R^2</th>\n",
       "      <th>test_R^2</th>\n",
       "      <th>train_pearson_r</th>\n",
       "      <th>val_pearson_r</th>\n",
       "      <th>test_pearson_r</th>\n",
       "    </tr>\n",
       "  </thead>\n",
       "  <tbody>\n",
       "    <tr>\n",
       "      <th>rf</th>\n",
       "      <td>8.905563</td>\n",
       "      <td>0.019266</td>\n",
       "      <td>0.011556</td>\n",
       "      <td>0.048943</td>\n",
       "      <td>0.080491</td>\n",
       "      <td>0.003141</td>\n",
       "      <td>0.021804</td>\n",
       "      <td>0.047364</td>\n",
       "      <td>0.002921</td>\n",
       "      <td>0.041703</td>\n",
       "      <td>0.062661</td>\n",
       "      <td>0.001226</td>\n",
       "      <td>0.026778</td>\n",
       "      <td>0.038886</td>\n",
       "    </tr>\n",
       "    <tr>\n",
       "      <th>xgb</th>\n",
       "      <td>1.860030</td>\n",
       "      <td>0.005462</td>\n",
       "      <td>0.002946</td>\n",
       "      <td>0.047846</td>\n",
       "      <td>0.038863</td>\n",
       "      <td>0.004148</td>\n",
       "      <td>0.051214</td>\n",
       "      <td>0.009521</td>\n",
       "      <td>0.000909</td>\n",
       "      <td>0.047338</td>\n",
       "      <td>0.032840</td>\n",
       "      <td>0.000467</td>\n",
       "      <td>0.029245</td>\n",
       "      <td>0.020282</td>\n",
       "    </tr>\n",
       "    <tr>\n",
       "      <th>krr</th>\n",
       "      <td>0.034514</td>\n",
       "      <td>0.005809</td>\n",
       "      <td>0.008759</td>\n",
       "      <td>0.058134</td>\n",
       "      <td>0.094239</td>\n",
       "      <td>0.005039</td>\n",
       "      <td>0.041398</td>\n",
       "      <td>0.054174</td>\n",
       "      <td>0.004070</td>\n",
       "      <td>0.047067</td>\n",
       "      <td>0.069726</td>\n",
       "      <td>0.001986</td>\n",
       "      <td>0.027222</td>\n",
       "      <td>0.042442</td>\n",
       "    </tr>\n",
       "    <tr>\n",
       "      <th>gp</th>\n",
       "      <td>0.962676</td>\n",
       "      <td>0.014986</td>\n",
       "      <td>0.035455</td>\n",
       "      <td>0.024117</td>\n",
       "      <td>0.058079</td>\n",
       "      <td>0.022789</td>\n",
       "      <td>0.027460</td>\n",
       "      <td>0.041514</td>\n",
       "      <td>0.007236</td>\n",
       "      <td>0.038079</td>\n",
       "      <td>0.041200</td>\n",
       "      <td>0.003109</td>\n",
       "      <td>0.023793</td>\n",
       "      <td>0.023572</td>\n",
       "    </tr>\n",
       "  </tbody>\n",
       "</table>\n",
       "</div>"
      ],
      "text/plain": [
       "     fit_time  score_time  train_RMSE  val_RMSE  test_RMSE  train_MAE  \\\n",
       "rf   8.905563    0.019266    0.011556  0.048943   0.080491   0.003141   \n",
       "xgb  1.860030    0.005462    0.002946  0.047846   0.038863   0.004148   \n",
       "krr  0.034514    0.005809    0.008759  0.058134   0.094239   0.005039   \n",
       "gp   0.962676    0.014986    0.035455  0.024117   0.058079   0.022789   \n",
       "\n",
       "      val_MAE  test_MAE  train_R^2   val_R^2  test_R^2  train_pearson_r  \\\n",
       "rf   0.021804  0.047364   0.002921  0.041703  0.062661         0.001226   \n",
       "xgb  0.051214  0.009521   0.000909  0.047338  0.032840         0.000467   \n",
       "krr  0.041398  0.054174   0.004070  0.047067  0.069726         0.001986   \n",
       "gp   0.027460  0.041514   0.007236  0.038079  0.041200         0.003109   \n",
       "\n",
       "     val_pearson_r  test_pearson_r  \n",
       "rf        0.026778        0.038886  \n",
       "xgb       0.029245        0.020282  \n",
       "krr       0.027222        0.042442  \n",
       "gp        0.023793        0.023572  "
      ]
     },
     "execution_count": 38,
     "metadata": {},
     "output_type": "execute_result"
    }
   ],
   "source": [
    "all_means = all_means[col_order]\n",
    "all_stds = all_stds[col_order]\n",
    "\n",
    "all_stds"
   ]
  },
  {
   "cell_type": "code",
   "execution_count": null,
   "metadata": {},
   "outputs": [],
   "source": []
  },
  {
   "cell_type": "markdown",
   "metadata": {},
   "source": [
    "## Presentable version"
   ]
  },
  {
   "cell_type": "code",
   "execution_count": 39,
   "metadata": {},
   "outputs": [],
   "source": [
    "presentable_all_means = np.round(all_means, rp)\n",
    "presentable_all_stds = np.round(all_stds, rp)"
   ]
  },
  {
   "cell_type": "code",
   "execution_count": 40,
   "metadata": {},
   "outputs": [
    {
     "name": "stdout",
     "output_type": "stream",
     "text": [
      "esol original reproducing\n",
      "\n",
      "Means:\n"
     ]
    },
    {
     "data": {
      "text/html": [
       "<div>\n",
       "<style scoped>\n",
       "    .dataframe tbody tr th:only-of-type {\n",
       "        vertical-align: middle;\n",
       "    }\n",
       "\n",
       "    .dataframe tbody tr th {\n",
       "        vertical-align: top;\n",
       "    }\n",
       "\n",
       "    .dataframe thead th {\n",
       "        text-align: right;\n",
       "    }\n",
       "</style>\n",
       "<table border=\"1\" class=\"dataframe\">\n",
       "  <thead>\n",
       "    <tr style=\"text-align: right;\">\n",
       "      <th></th>\n",
       "      <th>fit_time</th>\n",
       "      <th>score_time</th>\n",
       "      <th>train_RMSE</th>\n",
       "      <th>val_RMSE</th>\n",
       "      <th>test_RMSE</th>\n",
       "      <th>train_MAE</th>\n",
       "      <th>val_MAE</th>\n",
       "      <th>test_MAE</th>\n",
       "      <th>train_R^2</th>\n",
       "      <th>val_R^2</th>\n",
       "      <th>test_R^2</th>\n",
       "      <th>train_pearson_r</th>\n",
       "      <th>val_pearson_r</th>\n",
       "      <th>test_pearson_r</th>\n",
       "    </tr>\n",
       "  </thead>\n",
       "  <tbody>\n",
       "    <tr>\n",
       "      <th>rf</th>\n",
       "      <td>38.16</td>\n",
       "      <td>0.08</td>\n",
       "      <td>0.48</td>\n",
       "      <td>1.29</td>\n",
       "      <td>1.25</td>\n",
       "      <td>0.34</td>\n",
       "      <td>0.93</td>\n",
       "      <td>0.93</td>\n",
       "      <td>0.95</td>\n",
       "      <td>0.60</td>\n",
       "      <td>0.67</td>\n",
       "      <td>0.98</td>\n",
       "      <td>0.78</td>\n",
       "      <td>0.82</td>\n",
       "    </tr>\n",
       "    <tr>\n",
       "      <th>xgb</th>\n",
       "      <td>10.22</td>\n",
       "      <td>0.03</td>\n",
       "      <td>0.46</td>\n",
       "      <td>1.24</td>\n",
       "      <td>1.19</td>\n",
       "      <td>0.30</td>\n",
       "      <td>0.90</td>\n",
       "      <td>0.87</td>\n",
       "      <td>0.95</td>\n",
       "      <td>0.63</td>\n",
       "      <td>0.70</td>\n",
       "      <td>0.98</td>\n",
       "      <td>0.80</td>\n",
       "      <td>0.84</td>\n",
       "    </tr>\n",
       "    <tr>\n",
       "      <th>krr</th>\n",
       "      <td>0.17</td>\n",
       "      <td>0.03</td>\n",
       "      <td>0.74</td>\n",
       "      <td>1.29</td>\n",
       "      <td>1.30</td>\n",
       "      <td>0.53</td>\n",
       "      <td>0.96</td>\n",
       "      <td>0.96</td>\n",
       "      <td>0.87</td>\n",
       "      <td>0.60</td>\n",
       "      <td>0.64</td>\n",
       "      <td>0.94</td>\n",
       "      <td>0.78</td>\n",
       "      <td>0.80</td>\n",
       "    </tr>\n",
       "    <tr>\n",
       "      <th>gp</th>\n",
       "      <td>8.64</td>\n",
       "      <td>0.13</td>\n",
       "      <td>0.44</td>\n",
       "      <td>1.14</td>\n",
       "      <td>1.10</td>\n",
       "      <td>0.29</td>\n",
       "      <td>0.86</td>\n",
       "      <td>0.81</td>\n",
       "      <td>0.96</td>\n",
       "      <td>0.69</td>\n",
       "      <td>0.74</td>\n",
       "      <td>0.98</td>\n",
       "      <td>0.84</td>\n",
       "      <td>0.87</td>\n",
       "    </tr>\n",
       "  </tbody>\n",
       "</table>\n",
       "</div>"
      ],
      "text/plain": [
       "     fit_time  score_time  train_RMSE  val_RMSE  test_RMSE  train_MAE  \\\n",
       "rf      38.16        0.08        0.48      1.29       1.25       0.34   \n",
       "xgb     10.22        0.03        0.46      1.24       1.19       0.30   \n",
       "krr      0.17        0.03        0.74      1.29       1.30       0.53   \n",
       "gp       8.64        0.13        0.44      1.14       1.10       0.29   \n",
       "\n",
       "     val_MAE  test_MAE  train_R^2  val_R^2  test_R^2  train_pearson_r  \\\n",
       "rf      0.93      0.93       0.95     0.60      0.67             0.98   \n",
       "xgb     0.90      0.87       0.95     0.63      0.70             0.98   \n",
       "krr     0.96      0.96       0.87     0.60      0.64             0.94   \n",
       "gp      0.86      0.81       0.96     0.69      0.74             0.98   \n",
       "\n",
       "     val_pearson_r  test_pearson_r  \n",
       "rf            0.78            0.82  \n",
       "xgb           0.80            0.84  \n",
       "krr           0.78            0.80  \n",
       "gp            0.84            0.87  "
      ]
     },
     "metadata": {},
     "output_type": "display_data"
    },
    {
     "name": "stdout",
     "output_type": "stream",
     "text": [
      "Standard deviations:\n"
     ]
    },
    {
     "data": {
      "text/html": [
       "<div>\n",
       "<style scoped>\n",
       "    .dataframe tbody tr th:only-of-type {\n",
       "        vertical-align: middle;\n",
       "    }\n",
       "\n",
       "    .dataframe tbody tr th {\n",
       "        vertical-align: top;\n",
       "    }\n",
       "\n",
       "    .dataframe thead th {\n",
       "        text-align: right;\n",
       "    }\n",
       "</style>\n",
       "<table border=\"1\" class=\"dataframe\">\n",
       "  <thead>\n",
       "    <tr style=\"text-align: right;\">\n",
       "      <th></th>\n",
       "      <th>fit_time</th>\n",
       "      <th>score_time</th>\n",
       "      <th>train_RMSE</th>\n",
       "      <th>val_RMSE</th>\n",
       "      <th>test_RMSE</th>\n",
       "      <th>train_MAE</th>\n",
       "      <th>val_MAE</th>\n",
       "      <th>test_MAE</th>\n",
       "      <th>train_R^2</th>\n",
       "      <th>val_R^2</th>\n",
       "      <th>test_R^2</th>\n",
       "      <th>train_pearson_r</th>\n",
       "      <th>val_pearson_r</th>\n",
       "      <th>test_pearson_r</th>\n",
       "    </tr>\n",
       "  </thead>\n",
       "  <tbody>\n",
       "    <tr>\n",
       "      <th>rf</th>\n",
       "      <td>8.91</td>\n",
       "      <td>0.02</td>\n",
       "      <td>0.01</td>\n",
       "      <td>0.05</td>\n",
       "      <td>0.08</td>\n",
       "      <td>0.00</td>\n",
       "      <td>0.02</td>\n",
       "      <td>0.05</td>\n",
       "      <td>0.00</td>\n",
       "      <td>0.04</td>\n",
       "      <td>0.06</td>\n",
       "      <td>0.0</td>\n",
       "      <td>0.03</td>\n",
       "      <td>0.04</td>\n",
       "    </tr>\n",
       "    <tr>\n",
       "      <th>xgb</th>\n",
       "      <td>1.86</td>\n",
       "      <td>0.01</td>\n",
       "      <td>0.00</td>\n",
       "      <td>0.05</td>\n",
       "      <td>0.04</td>\n",
       "      <td>0.00</td>\n",
       "      <td>0.05</td>\n",
       "      <td>0.01</td>\n",
       "      <td>0.00</td>\n",
       "      <td>0.05</td>\n",
       "      <td>0.03</td>\n",
       "      <td>0.0</td>\n",
       "      <td>0.03</td>\n",
       "      <td>0.02</td>\n",
       "    </tr>\n",
       "    <tr>\n",
       "      <th>krr</th>\n",
       "      <td>0.03</td>\n",
       "      <td>0.01</td>\n",
       "      <td>0.01</td>\n",
       "      <td>0.06</td>\n",
       "      <td>0.09</td>\n",
       "      <td>0.01</td>\n",
       "      <td>0.04</td>\n",
       "      <td>0.05</td>\n",
       "      <td>0.00</td>\n",
       "      <td>0.05</td>\n",
       "      <td>0.07</td>\n",
       "      <td>0.0</td>\n",
       "      <td>0.03</td>\n",
       "      <td>0.04</td>\n",
       "    </tr>\n",
       "    <tr>\n",
       "      <th>gp</th>\n",
       "      <td>0.96</td>\n",
       "      <td>0.01</td>\n",
       "      <td>0.04</td>\n",
       "      <td>0.02</td>\n",
       "      <td>0.06</td>\n",
       "      <td>0.02</td>\n",
       "      <td>0.03</td>\n",
       "      <td>0.04</td>\n",
       "      <td>0.01</td>\n",
       "      <td>0.04</td>\n",
       "      <td>0.04</td>\n",
       "      <td>0.0</td>\n",
       "      <td>0.02</td>\n",
       "      <td>0.02</td>\n",
       "    </tr>\n",
       "  </tbody>\n",
       "</table>\n",
       "</div>"
      ],
      "text/plain": [
       "     fit_time  score_time  train_RMSE  val_RMSE  test_RMSE  train_MAE  \\\n",
       "rf       8.91        0.02        0.01      0.05       0.08       0.00   \n",
       "xgb      1.86        0.01        0.00      0.05       0.04       0.00   \n",
       "krr      0.03        0.01        0.01      0.06       0.09       0.01   \n",
       "gp       0.96        0.01        0.04      0.02       0.06       0.02   \n",
       "\n",
       "     val_MAE  test_MAE  train_R^2  val_R^2  test_R^2  train_pearson_r  \\\n",
       "rf      0.02      0.05       0.00     0.04      0.06              0.0   \n",
       "xgb     0.05      0.01       0.00     0.05      0.03              0.0   \n",
       "krr     0.04      0.05       0.00     0.05      0.07              0.0   \n",
       "gp      0.03      0.04       0.01     0.04      0.04              0.0   \n",
       "\n",
       "     val_pearson_r  test_pearson_r  \n",
       "rf            0.03            0.04  \n",
       "xgb           0.03            0.02  \n",
       "krr           0.03            0.04  \n",
       "gp            0.02            0.02  "
      ]
     },
     "metadata": {},
     "output_type": "display_data"
    }
   ],
   "source": [
    "print(dataset, smile_type, grid_search_type)\n",
    "\n",
    "print('\\nMeans:')\n",
    "display(presentable_all_means)\n",
    "\n",
    "print('Standard deviations:')\n",
    "display(presentable_all_stds)"
   ]
  },
  {
   "cell_type": "code",
   "execution_count": 41,
   "metadata": {},
   "outputs": [
    {
     "data": {
      "text/html": [
       "<div>\n",
       "<style scoped>\n",
       "    .dataframe tbody tr th:only-of-type {\n",
       "        vertical-align: middle;\n",
       "    }\n",
       "\n",
       "    .dataframe tbody tr th {\n",
       "        vertical-align: top;\n",
       "    }\n",
       "\n",
       "    .dataframe thead th {\n",
       "        text-align: right;\n",
       "    }\n",
       "</style>\n",
       "<table border=\"1\" class=\"dataframe\">\n",
       "  <thead>\n",
       "    <tr style=\"text-align: right;\">\n",
       "      <th></th>\n",
       "      <th>fit_time</th>\n",
       "      <th>score_time</th>\n",
       "      <th>train_RMSE</th>\n",
       "      <th>val_RMSE</th>\n",
       "      <th>test_RMSE</th>\n",
       "      <th>train_MAE</th>\n",
       "      <th>val_MAE</th>\n",
       "      <th>test_MAE</th>\n",
       "      <th>train_R^2</th>\n",
       "      <th>val_R^2</th>\n",
       "      <th>test_R^2</th>\n",
       "      <th>train_pearson_r</th>\n",
       "      <th>val_pearson_r</th>\n",
       "      <th>test_pearson_r</th>\n",
       "    </tr>\n",
       "  </thead>\n",
       "  <tbody>\n",
       "    <tr>\n",
       "      <th>rf</th>\n",
       "      <td>38.16 +/- 8.91</td>\n",
       "      <td>0.08 +/- 0.02</td>\n",
       "      <td>0.48 +/- 0.01</td>\n",
       "      <td>1.29 +/- 0.05</td>\n",
       "      <td>1.25 +/- 0.08</td>\n",
       "      <td>0.34 +/- 0.0</td>\n",
       "      <td>0.93 +/- 0.02</td>\n",
       "      <td>0.93 +/- 0.05</td>\n",
       "      <td>0.95 +/- 0.0</td>\n",
       "      <td>0.6 +/- 0.04</td>\n",
       "      <td>0.67 +/- 0.06</td>\n",
       "      <td>0.98 +/- 0.0</td>\n",
       "      <td>0.78 +/- 0.03</td>\n",
       "      <td>0.82 +/- 0.04</td>\n",
       "    </tr>\n",
       "    <tr>\n",
       "      <th>xgb</th>\n",
       "      <td>10.22 +/- 1.86</td>\n",
       "      <td>0.03 +/- 0.01</td>\n",
       "      <td>0.46 +/- 0.0</td>\n",
       "      <td>1.24 +/- 0.05</td>\n",
       "      <td>1.19 +/- 0.04</td>\n",
       "      <td>0.3 +/- 0.0</td>\n",
       "      <td>0.9 +/- 0.05</td>\n",
       "      <td>0.87 +/- 0.01</td>\n",
       "      <td>0.95 +/- 0.0</td>\n",
       "      <td>0.63 +/- 0.05</td>\n",
       "      <td>0.7 +/- 0.03</td>\n",
       "      <td>0.98 +/- 0.0</td>\n",
       "      <td>0.8 +/- 0.03</td>\n",
       "      <td>0.84 +/- 0.02</td>\n",
       "    </tr>\n",
       "    <tr>\n",
       "      <th>krr</th>\n",
       "      <td>0.17 +/- 0.03</td>\n",
       "      <td>0.03 +/- 0.01</td>\n",
       "      <td>0.74 +/- 0.01</td>\n",
       "      <td>1.29 +/- 0.06</td>\n",
       "      <td>1.3 +/- 0.09</td>\n",
       "      <td>0.53 +/- 0.01</td>\n",
       "      <td>0.96 +/- 0.04</td>\n",
       "      <td>0.96 +/- 0.05</td>\n",
       "      <td>0.87 +/- 0.0</td>\n",
       "      <td>0.6 +/- 0.05</td>\n",
       "      <td>0.64 +/- 0.07</td>\n",
       "      <td>0.94 +/- 0.0</td>\n",
       "      <td>0.78 +/- 0.03</td>\n",
       "      <td>0.8 +/- 0.04</td>\n",
       "    </tr>\n",
       "    <tr>\n",
       "      <th>gp</th>\n",
       "      <td>8.64 +/- 0.96</td>\n",
       "      <td>0.13 +/- 0.01</td>\n",
       "      <td>0.44 +/- 0.04</td>\n",
       "      <td>1.14 +/- 0.02</td>\n",
       "      <td>1.1 +/- 0.06</td>\n",
       "      <td>0.29 +/- 0.02</td>\n",
       "      <td>0.86 +/- 0.03</td>\n",
       "      <td>0.81 +/- 0.04</td>\n",
       "      <td>0.96 +/- 0.01</td>\n",
       "      <td>0.69 +/- 0.04</td>\n",
       "      <td>0.74 +/- 0.04</td>\n",
       "      <td>0.98 +/- 0.0</td>\n",
       "      <td>0.84 +/- 0.02</td>\n",
       "      <td>0.87 +/- 0.02</td>\n",
       "    </tr>\n",
       "  </tbody>\n",
       "</table>\n",
       "</div>"
      ],
      "text/plain": [
       "           fit_time     score_time     train_RMSE       val_RMSE  \\\n",
       "rf   38.16 +/- 8.91  0.08 +/- 0.02  0.48 +/- 0.01  1.29 +/- 0.05   \n",
       "xgb  10.22 +/- 1.86  0.03 +/- 0.01   0.46 +/- 0.0  1.24 +/- 0.05   \n",
       "krr   0.17 +/- 0.03  0.03 +/- 0.01  0.74 +/- 0.01  1.29 +/- 0.06   \n",
       "gp    8.64 +/- 0.96  0.13 +/- 0.01  0.44 +/- 0.04  1.14 +/- 0.02   \n",
       "\n",
       "         test_RMSE      train_MAE        val_MAE       test_MAE  \\\n",
       "rf   1.25 +/- 0.08   0.34 +/- 0.0  0.93 +/- 0.02  0.93 +/- 0.05   \n",
       "xgb  1.19 +/- 0.04    0.3 +/- 0.0   0.9 +/- 0.05  0.87 +/- 0.01   \n",
       "krr   1.3 +/- 0.09  0.53 +/- 0.01  0.96 +/- 0.04  0.96 +/- 0.05   \n",
       "gp    1.1 +/- 0.06  0.29 +/- 0.02  0.86 +/- 0.03  0.81 +/- 0.04   \n",
       "\n",
       "         train_R^2        val_R^2       test_R^2 train_pearson_r  \\\n",
       "rf    0.95 +/- 0.0   0.6 +/- 0.04  0.67 +/- 0.06    0.98 +/- 0.0   \n",
       "xgb   0.95 +/- 0.0  0.63 +/- 0.05   0.7 +/- 0.03    0.98 +/- 0.0   \n",
       "krr   0.87 +/- 0.0   0.6 +/- 0.05  0.64 +/- 0.07    0.94 +/- 0.0   \n",
       "gp   0.96 +/- 0.01  0.69 +/- 0.04  0.74 +/- 0.04    0.98 +/- 0.0   \n",
       "\n",
       "     val_pearson_r test_pearson_r  \n",
       "rf   0.78 +/- 0.03  0.82 +/- 0.04  \n",
       "xgb   0.8 +/- 0.03  0.84 +/- 0.02  \n",
       "krr  0.78 +/- 0.03   0.8 +/- 0.04  \n",
       "gp   0.84 +/- 0.02  0.87 +/- 0.02  "
      ]
     },
     "execution_count": 41,
     "metadata": {},
     "output_type": "execute_result"
    }
   ],
   "source": [
    "presentable_all_means_stds = presentable_all_means.copy()\n",
    "for i in presentable_all_means_stds.index:\n",
    "    for j in presentable_all_means_stds.columns:\n",
    "        presentable_all_means_stds.loc[i, j] = str(presentable_all_means.loc[i, j]) + ' +/- ' + str(presentable_all_stds.loc[i, j])\n",
    "        \n",
    "presentable_all_means_stds"
   ]
  },
  {
   "cell_type": "code",
   "execution_count": 42,
   "metadata": {},
   "outputs": [
    {
     "name": "stdout",
     "output_type": "stream",
     "text": [
      "esol original reproducing\n",
      "RMSE (mol/litre)\n"
     ]
    },
    {
     "data": {
      "text/html": [
       "<div>\n",
       "<style scoped>\n",
       "    .dataframe tbody tr th:only-of-type {\n",
       "        vertical-align: middle;\n",
       "    }\n",
       "\n",
       "    .dataframe tbody tr th {\n",
       "        vertical-align: top;\n",
       "    }\n",
       "\n",
       "    .dataframe thead th {\n",
       "        text-align: right;\n",
       "    }\n",
       "</style>\n",
       "<table border=\"1\" class=\"dataframe\">\n",
       "  <thead>\n",
       "    <tr style=\"text-align: right;\">\n",
       "      <th></th>\n",
       "      <th>train_RMSE</th>\n",
       "      <th>val_RMSE</th>\n",
       "      <th>test_RMSE</th>\n",
       "    </tr>\n",
       "  </thead>\n",
       "  <tbody>\n",
       "    <tr>\n",
       "      <th>rf</th>\n",
       "      <td>0.48 +/- 0.01</td>\n",
       "      <td>1.29 +/- 0.05</td>\n",
       "      <td>1.25 +/- 0.08</td>\n",
       "    </tr>\n",
       "    <tr>\n",
       "      <th>xgb</th>\n",
       "      <td>0.46 +/- 0.0</td>\n",
       "      <td>1.24 +/- 0.05</td>\n",
       "      <td>1.19 +/- 0.04</td>\n",
       "    </tr>\n",
       "    <tr>\n",
       "      <th>krr</th>\n",
       "      <td>0.74 +/- 0.01</td>\n",
       "      <td>1.29 +/- 0.06</td>\n",
       "      <td>1.3 +/- 0.09</td>\n",
       "    </tr>\n",
       "    <tr>\n",
       "      <th>gp</th>\n",
       "      <td>0.44 +/- 0.04</td>\n",
       "      <td>1.14 +/- 0.02</td>\n",
       "      <td>1.1 +/- 0.06</td>\n",
       "    </tr>\n",
       "  </tbody>\n",
       "</table>\n",
       "</div>"
      ],
      "text/plain": [
       "        train_RMSE       val_RMSE      test_RMSE\n",
       "rf   0.48 +/- 0.01  1.29 +/- 0.05  1.25 +/- 0.08\n",
       "xgb   0.46 +/- 0.0  1.24 +/- 0.05  1.19 +/- 0.04\n",
       "krr  0.74 +/- 0.01  1.29 +/- 0.06   1.3 +/- 0.09\n",
       "gp   0.44 +/- 0.04  1.14 +/- 0.02   1.1 +/- 0.06"
      ]
     },
     "metadata": {},
     "output_type": "display_data"
    }
   ],
   "source": [
    "print(dataset, smile_type, grid_search_type)\n",
    "print(metric, datasets_to_units[dataset])\n",
    "presentable_all_means_stds_rmse = presentable_all_means_stds[['train_RMSE', 'val_RMSE', 'test_RMSE']]\n",
    "presentable_all_means_stds_rmse = presentable_all_means_stds_rmse.round(rp)\n",
    "\n",
    "\n",
    "display(presentable_all_means_stds_rmse)"
   ]
  },
  {
   "cell_type": "markdown",
   "metadata": {},
   "source": [
    "# Save results to csv files"
   ]
  },
  {
   "cell_type": "markdown",
   "metadata": {},
   "source": [
    "## All results"
   ]
  },
  {
   "cell_type": "code",
   "execution_count": 43,
   "metadata": {},
   "outputs": [],
   "source": [
    "presentable_all_means.to_csv(f'../tables/{dataset}_{smile_type}_{grid_search_type}_random_search_best_means.csv', index=True)"
   ]
  },
  {
   "cell_type": "code",
   "execution_count": 44,
   "metadata": {},
   "outputs": [],
   "source": [
    "presentable_all_stds.to_csv(f'../tables/{dataset}_{smile_type}_{grid_search_type}_random_search_best_stds.csv', index=True)"
   ]
  },
  {
   "cell_type": "code",
   "execution_count": 45,
   "metadata": {},
   "outputs": [],
   "source": [
    "presentable_all_means_stds.to_csv(f'../tables/{dataset}_{smile_type}_{grid_search_type}_random_search_best_means_pm_stds.csv', index=True)"
   ]
  },
  {
   "cell_type": "markdown",
   "metadata": {},
   "source": [
    "## RMSE results (means +- stds)"
   ]
  },
  {
   "cell_type": "code",
   "execution_count": 46,
   "metadata": {},
   "outputs": [],
   "source": [
    "presentable_all_means_stds_rmse.to_csv(f'../tables/{dataset}_{smile_type}_{grid_search_type}_random_search_best_means_pm_stds_rmse.csv', index=True)"
   ]
  },
  {
   "cell_type": "code",
   "execution_count": null,
   "metadata": {},
   "outputs": [],
   "source": []
  },
  {
   "cell_type": "code",
   "execution_count": null,
   "metadata": {},
   "outputs": [],
   "source": []
  },
  {
   "cell_type": "code",
   "execution_count": null,
   "metadata": {},
   "outputs": [],
   "source": []
  },
  {
   "cell_type": "code",
   "execution_count": null,
   "metadata": {},
   "outputs": [],
   "source": []
  },
  {
   "cell_type": "code",
   "execution_count": null,
   "metadata": {},
   "outputs": [],
   "source": []
  },
  {
   "cell_type": "code",
   "execution_count": null,
   "metadata": {},
   "outputs": [],
   "source": []
  }
 ],
 "metadata": {
  "colab": {
   "collapsed_sections": [],
   "name": "Copy of visualise_grid_search_results.ipynb",
   "provenance": []
  },
  "kernelspec": {
   "display_name": "Python [conda env:batch-msc] *",
   "language": "python",
   "name": "conda-env-batch-msc-py"
  },
  "language_info": {
   "codemirror_mode": {
    "name": "ipython",
    "version": 3
   },
   "file_extension": ".py",
   "mimetype": "text/x-python",
   "name": "python",
   "nbconvert_exporter": "python",
   "pygments_lexer": "ipython3",
   "version": "3.6.10"
  }
 },
 "nbformat": 4,
 "nbformat_minor": 1
}
