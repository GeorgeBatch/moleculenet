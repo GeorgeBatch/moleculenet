{
 "cells": [
  {
   "cell_type": "markdown",
   "metadata": {
    "colab_type": "text",
    "id": "0X-xLNS3AQSJ"
   },
   "source": [
    "# Setup"
   ]
  },
  {
   "cell_type": "markdown",
   "metadata": {
    "colab_type": "text",
    "id": "RfEydQSeAQSL"
   },
   "source": [
    "## Look around"
   ]
  },
  {
   "cell_type": "code",
   "execution_count": 397,
   "metadata": {
    "colab": {},
    "colab_type": "code",
    "id": "VbUH1eOtObXp",
    "outputId": "dce5a945-dc95-4b37-b002-99aad21517b3"
   },
   "outputs": [
    {
     "name": "stdout",
     "output_type": "stream",
     "text": [
      "colab_extended_GPflow_pipeline.ipynb\r\n",
      "colab_extended_grid_search_pipeline.ipynb\r\n",
      "colab_reproducing_ci_gp.ipynb\r\n",
      "colab_reproducing_ci_rf.ipynb\r\n",
      "colab_reproducing_grid_search_pipeline.ipynb\r\n",
      "eda.ipynb\r\n",
      "visualise_extended_grid_search_results.ipynb\r\n",
      "visualise_reproducing_grid_search_results.ipynb\r\n"
     ]
    }
   ],
   "source": [
    "%ls"
   ]
  },
  {
   "cell_type": "code",
   "execution_count": 398,
   "metadata": {
    "colab": {},
    "colab_type": "code",
    "id": "CyTRxipFObXw",
    "outputId": "eae6f7d2-af85-4e2e-8dcf-df43fe77be91"
   },
   "outputs": [
    {
     "name": "stdout",
     "output_type": "stream",
     "text": [
      "esol_original_extended_gp_tanimoto_train_test_scores.pickle\r\n",
      "esol_original_extended_gp_tanimoto_val_scores.pickle\r\n",
      "esol_original_extended_random_search_best_params_full.pickle\r\n",
      "esol_original_extended_random_search_best_params_reduced.pickle\r\n",
      "esol_original_extended_random_search_best_train_test_scores_full.pickle\r\n",
      "esol_original_extended_random_search_best_train_test_scores_reduced.pickle\r\n",
      "esol_original_extended_random_search_best_val_scores_full.pickle\r\n",
      "esol_original_extended_random_search_best_val_scores_reduced.pickle\r\n",
      "esol_original_extended_random_search_grid_params_reduced.pickle\r\n",
      "esol_original_reproducing_random_search_best_params.pickle\r\n",
      "esol_original_reproducing_random_search_best_train_test_scores.pickle\r\n",
      "esol_original_reproducing_random_search_best_val_scores.pickle\r\n",
      "esol_original_reproducing_random_search_grid_params.pickle\r\n",
      "freesolv_original_extended_gp_tanimoto_train_test_scores.pickle\r\n",
      "freesolv_original_extended_gp_tanimoto_val_scores.pickle\r\n",
      "freesolv_original_extended_random_search_best_params_full.pickle\r\n",
      "freesolv_original_extended_random_search_best_train_test_scores_full.pickle\r\n",
      "freesolv_original_extended_random_search_best_val_scores_full.pickle\r\n",
      "freesolv_original_extended_random_search_grid_params_full.pickle\r\n",
      "freesolv_original_reproducing_random_search_best_params.pickle\r\n",
      "freesolv_original_reproducing_random_search_best_train_test_scores.pickle\r\n",
      "freesolv_original_reproducing_random_search_best_val_scores.pickle\r\n",
      "freesolv_original_reproducing_random_search_grid_params.pickle\r\n",
      "lipophilicity_original_extended_gp_tanimoto_train_test_scores.pickle\r\n",
      "lipophilicity_original_extended_gp_tanimoto_val_scores.pickle\r\n",
      "lipophilicity_original_extended_random_search_best_params_full.pickle\r\n",
      "lipophilicity_original_extended_random_search_best_train_test_scores_full.pickle\r\n",
      "lipophilicity_original_extended_random_search_best_val_scores_full.pickle\r\n",
      "lipophilicity_original_extended_random_search_grid_params_full.pickle\r\n",
      "lipophilicity_original_reproducing_random_search_best_params.pickle\r\n",
      "lipophilicity_original_reproducing_random_search_best_train_test_scores.pickle\r\n",
      "lipophilicity_original_reproducing_random_search_best_val_scores.pickle\r\n",
      "lipophilicity_original_reproducing_random_search_grid_params.pickle\r\n"
     ]
    }
   ],
   "source": [
    "%ls ../results/"
   ]
  },
  {
   "cell_type": "markdown",
   "metadata": {
    "colab_type": "text",
    "id": "Gg6wa0GzAQSd"
   },
   "source": [
    "## Import Modules"
   ]
  },
  {
   "cell_type": "markdown",
   "metadata": {
    "colab_type": "text",
    "id": "JHBu35KMX2Vp"
   },
   "source": [
    "### Standard imports"
   ]
  },
  {
   "cell_type": "code",
   "execution_count": 3,
   "metadata": {
    "colab": {},
    "colab_type": "code",
    "id": "FKInp93BObX0"
   },
   "outputs": [],
   "source": [
    "import json\n",
    "import pickle\n",
    "\n",
    "import sys\n",
    "\n",
    "import numpy as np\n",
    "import pandas as pd\n",
    "import matplotlib.pyplot as plt\n",
    "import seaborn as sns"
   ]
  },
  {
   "cell_type": "markdown",
   "metadata": {
    "colab_type": "text",
    "id": "h1f16iDbX2Vu"
   },
   "source": [
    "### Custom imports"
   ]
  },
  {
   "cell_type": "code",
   "execution_count": 4,
   "metadata": {
    "colab": {},
    "colab_type": "code",
    "id": "xFokvyDCX2Vv"
   },
   "outputs": [],
   "source": [
    "sys.path.insert(0, '..')\n",
    "\n",
    "# plotting\n",
    "from util_scripts.plotting_functions_and_vars import FIGSIZE_CI, FIGSIZE_HEATMAP, PLOTS_DIR\n",
    "from util_scripts.plotting_functions_and_vars import datasets_to_titles, datasets_to_units, metrics_to_labels\n",
    "from util_scripts.plotting_functions_and_vars import plot_algorithm_dataset_comparison_heatmap\n",
    "\n",
    "sys.path.insert(0, './notebooks')"
   ]
  },
  {
   "cell_type": "markdown",
   "metadata": {
    "colab_type": "text",
    "id": "yLHwWzzyAQSo"
   },
   "source": [
    "## CHOOSE dataset, smile_type, grid_search_type to visualize"
   ]
  },
  {
   "cell_type": "code",
   "execution_count": 399,
   "metadata": {
    "colab": {},
    "colab_type": "code",
    "id": "96CqnRUHObX3"
   },
   "outputs": [],
   "source": [
    "# root = '../backup_results'\n",
    "root = '../results'"
   ]
  },
  {
   "cell_type": "code",
   "execution_count": 480,
   "metadata": {
    "colab": {},
    "colab_type": "code",
    "id": "cyalSHrqOiqN"
   },
   "outputs": [],
   "source": [
    "dataset = 'freesolv'\n",
    "assert dataset in ['freesolv', 'esol', 'lipophilicity']\n",
    "\n",
    "smile_type = 'original'\n",
    "assert smile_type in ['original', 'protonated']\n",
    "\n",
    "grid_search_type = 'extended'\n",
    "assert grid_search_type in ['reproducing', 'extended']\n",
    "\n",
    "# correlated features treatment\n",
    "if dataset == 'esol':\n",
    "    cf = 'reduced'\n",
    "else:\n",
    "    cf = 'full'\n",
    "assert cf in ['reduced', 'full']"
   ]
  },
  {
   "cell_type": "code",
   "execution_count": null,
   "metadata": {
    "colab": {},
    "colab_type": "code",
    "id": "34anQVC0AQSz"
   },
   "outputs": [],
   "source": []
  },
  {
   "cell_type": "markdown",
   "metadata": {
    "colab_type": "text",
    "id": "jjXl2uPcAQS3"
   },
   "source": [
    "## Titles, Units and Labels for datasets"
   ]
  },
  {
   "cell_type": "code",
   "execution_count": 481,
   "metadata": {
    "colab": {},
    "colab_type": "code",
    "id": "xMuEJlPFAQS4",
    "outputId": "d1fe2b3e-ceb3-4728-84c8-dd6fad0f75e7"
   },
   "outputs": [
    {
     "name": "stdout",
     "output_type": "stream",
     "text": [
      "freesolv      :  Solvation Energy\n",
      "esol          :  Log Solubility\n",
      "lipophilicity :  Octanol/Water Distribution Coefficient\n"
     ]
    }
   ],
   "source": [
    "for key, value in datasets_to_titles.items():\n",
    "    print(key, (13 - len(key))*' ' + ': ',  value)"
   ]
  },
  {
   "cell_type": "code",
   "execution_count": 482,
   "metadata": {
    "colab": {},
    "colab_type": "code",
    "id": "SjdWkUsFX2WQ",
    "outputId": "ddb34e87-a3e1-47bf-a790-f07be0054692"
   },
   "outputs": [
    {
     "name": "stdout",
     "output_type": "stream",
     "text": [
      "freesolv      :  (kcal/mol)\n",
      "esol          :  (mol/litre)\n",
      "lipophilicity :  (logD)\n"
     ]
    }
   ],
   "source": [
    "for key, value in datasets_to_units.items():\n",
    "    print(key, (13 - len(key))*' ' + ': ',  value)"
   ]
  },
  {
   "cell_type": "code",
   "execution_count": 483,
   "metadata": {
    "colab": {},
    "colab_type": "code",
    "id": "dnv0wRL8AQTD",
    "outputId": "f0870571-5d32-4756-9e5e-f34c22489381"
   },
   "outputs": [
    {
     "name": "stdout",
     "output_type": "stream",
     "text": [
      "RMSE          :  root-mean-square error\n",
      "MAE           :  mean absolute error\n",
      "R^2           :  R^2 (coefficient of determination)\n",
      "pearson_r     :  Pearson correlation\n"
     ]
    }
   ],
   "source": [
    "for key, value in metrics_to_labels.items():\n",
    "    print(key, (13 - len(key))*' ' + ': ',  value)"
   ]
  },
  {
   "cell_type": "markdown",
   "metadata": {
    "colab_type": "text",
    "id": "x4jNc4LUAQTM"
   },
   "source": [
    "## CHOOSE metric to display"
   ]
  },
  {
   "cell_type": "code",
   "execution_count": 484,
   "metadata": {
    "colab": {},
    "colab_type": "code",
    "id": "xCke_bPxAQTN"
   },
   "outputs": [],
   "source": [
    "metric = 'RMSE'\n",
    "assert metric in metrics_to_labels"
   ]
  },
  {
   "cell_type": "code",
   "execution_count": 485,
   "metadata": {
    "colab": {},
    "colab_type": "code",
    "id": "ItaMy-LTAQTq"
   },
   "outputs": [],
   "source": [
    "if metric in ['RMSE', 'MAE']:\n",
    "    pass\n",
    "else:\n",
    "    # no units\n",
    "    datasets_to_units = {'freesolv': '', 'esol': '', 'lipophilicity': ''}"
   ]
  },
  {
   "cell_type": "markdown",
   "metadata": {
    "colab_type": "text",
    "id": "NucBYiW4AQTv"
   },
   "source": [
    "## Load everything"
   ]
  },
  {
   "cell_type": "code",
   "execution_count": 486,
   "metadata": {
    "colab": {},
    "colab_type": "code",
    "id": "P7gZiseHAQTw",
    "outputId": "6a3dcf22-6ddb-40f2-ff6b-98afcf2cae22"
   },
   "outputs": [
    {
     "name": "stdout",
     "output_type": "stream",
     "text": [
      "esol_original_extended_gp_tanimoto_train_test_scores.pickle\r\n",
      "esol_original_extended_gp_tanimoto_val_scores.pickle\r\n",
      "esol_original_extended_random_search_best_params_full.pickle\r\n",
      "esol_original_extended_random_search_best_params_reduced.pickle\r\n",
      "esol_original_extended_random_search_best_train_test_scores_full.pickle\r\n",
      "esol_original_extended_random_search_best_train_test_scores_reduced.pickle\r\n",
      "esol_original_extended_random_search_best_val_scores_full.pickle\r\n",
      "esol_original_extended_random_search_best_val_scores_reduced.pickle\r\n",
      "esol_original_extended_random_search_grid_params_reduced.pickle\r\n",
      "esol_original_reproducing_random_search_best_params.pickle\r\n",
      "esol_original_reproducing_random_search_best_train_test_scores.pickle\r\n",
      "esol_original_reproducing_random_search_best_val_scores.pickle\r\n",
      "esol_original_reproducing_random_search_grid_params.pickle\r\n",
      "freesolv_original_extended_gp_tanimoto_train_test_scores.pickle\r\n",
      "freesolv_original_extended_gp_tanimoto_val_scores.pickle\r\n",
      "freesolv_original_extended_random_search_best_params_full.pickle\r\n",
      "freesolv_original_extended_random_search_best_train_test_scores_full.pickle\r\n",
      "freesolv_original_extended_random_search_best_val_scores_full.pickle\r\n",
      "freesolv_original_extended_random_search_grid_params_full.pickle\r\n",
      "freesolv_original_reproducing_random_search_best_params.pickle\r\n",
      "freesolv_original_reproducing_random_search_best_train_test_scores.pickle\r\n",
      "freesolv_original_reproducing_random_search_best_val_scores.pickle\r\n",
      "freesolv_original_reproducing_random_search_grid_params.pickle\r\n",
      "lipophilicity_original_extended_gp_tanimoto_train_test_scores.pickle\r\n",
      "lipophilicity_original_extended_gp_tanimoto_val_scores.pickle\r\n",
      "lipophilicity_original_extended_random_search_best_params_full.pickle\r\n",
      "lipophilicity_original_extended_random_search_best_train_test_scores_full.pickle\r\n",
      "lipophilicity_original_extended_random_search_best_val_scores_full.pickle\r\n",
      "lipophilicity_original_extended_random_search_grid_params_full.pickle\r\n",
      "lipophilicity_original_reproducing_random_search_best_params.pickle\r\n",
      "lipophilicity_original_reproducing_random_search_best_train_test_scores.pickle\r\n",
      "lipophilicity_original_reproducing_random_search_best_val_scores.pickle\r\n",
      "lipophilicity_original_reproducing_random_search_grid_params.pickle\r\n"
     ]
    }
   ],
   "source": [
    "%ls ../results/"
   ]
  },
  {
   "cell_type": "markdown",
   "metadata": {},
   "source": [
    "### Sklearn"
   ]
  },
  {
   "cell_type": "code",
   "execution_count": 487,
   "metadata": {
    "colab": {},
    "colab_type": "code",
    "id": "X2glbcNcObX6"
   },
   "outputs": [],
   "source": [
    "with open(f'../results/{dataset}_{smile_type}_{grid_search_type}_random_search_best_val_scores_{cf}.pickle', 'rb') as fp:\n",
    "    val_scores = pickle.load(fp)\n",
    "\n",
    "with open(f'../results/{dataset}_{smile_type}_{grid_search_type}_random_search_best_train_test_scores_{cf}.pickle', 'rb') as fp:\n",
    "    train_test_scores = pickle.load(fp)\n",
    "\n",
    "with open(f'../results/{dataset}_{smile_type}_{grid_search_type}_random_search_best_params_{cf}.pickle', 'rb') as fp:\n",
    "    best_params = pickle.load(fp)\n",
    "\n",
    "with open(f'../results/{dataset}_{smile_type}_{grid_search_type}_random_search_grid_params_{cf}.pickle', 'rb') as fp:\n",
    "    params = pickle.load(fp)"
   ]
  },
  {
   "cell_type": "code",
   "execution_count": 488,
   "metadata": {
    "colab": {},
    "colab_type": "code",
    "id": "GUrBl_FzAQUG",
    "outputId": "f98ad4ea-8eb5-4fcb-ff3d-6123d226bb2f"
   },
   "outputs": [],
   "source": [
    "# best_params"
   ]
  },
  {
   "cell_type": "markdown",
   "metadata": {
    "colab_type": "text",
    "id": "k3TMIMvWAQUe"
   },
   "source": [
    "Have a look at best parameters."
   ]
  },
  {
   "cell_type": "code",
   "execution_count": 489,
   "metadata": {
    "colab": {},
    "colab_type": "code",
    "id": "9j7rbVktObYA",
    "outputId": "970b69b5-d5eb-4b3d-df18-8dca22fdfe26"
   },
   "outputs": [
    {
     "data": {
      "text/plain": [
       "{'rf': {'rf__n_estimators': 1000, 'rf__max_features': 0.8},\n",
       " 'xgb': {'xgb__subsample': 0.5,\n",
       "  'xgb__n_estimators': 200,\n",
       "  'xgb__max_depth': 3,\n",
       "  'xgb__learning_rate': 0.3},\n",
       " 'krr': {'krr__alpha': 0.001},\n",
       " 'gp': {'gp__kernel': Matern(length_scale=1, nu=1.5) + WhiteKernel(noise_level=1)}}"
      ]
     },
     "execution_count": 489,
     "metadata": {},
     "output_type": "execute_result"
    }
   ],
   "source": [
    "best_params['1024ecfp-4']"
   ]
  },
  {
   "cell_type": "markdown",
   "metadata": {
    "colab_type": "text",
    "id": "oXXHngt0AQUl"
   },
   "source": [
    "Have a look at the scores"
   ]
  },
  {
   "cell_type": "code",
   "execution_count": 490,
   "metadata": {
    "colab": {},
    "colab_type": "code",
    "id": "sS0OedfOAQUl",
    "outputId": "fead3491-e944-4410-9dd7-8306e434f0ec"
   },
   "outputs": [],
   "source": [
    "# val_scores"
   ]
  },
  {
   "cell_type": "code",
   "execution_count": 491,
   "metadata": {
    "colab": {},
    "colab_type": "code",
    "id": "JMPWwMI1AQUp",
    "outputId": "53a01981-4b33-4b18-dfbf-42a2023d72f0"
   },
   "outputs": [],
   "source": [
    "# train_test_scores"
   ]
  },
  {
   "cell_type": "markdown",
   "metadata": {},
   "source": [
    "### GPflow"
   ]
  },
  {
   "cell_type": "code",
   "execution_count": 492,
   "metadata": {},
   "outputs": [],
   "source": [
    "with open(f'../results/{dataset}_{smile_type}_{grid_search_type}_gp_tanimoto_val_scores.pickle', 'rb') as fp:\n",
    "    gpflow_val_scores = pickle.load(fp)\n",
    "\n",
    "with open(f'../results/{dataset}_{smile_type}_{grid_search_type}_gp_tanimoto_train_test_scores.pickle', 'rb') as fp:\n",
    "    gpflow_train_test_scores = pickle.load(fp)"
   ]
  },
  {
   "cell_type": "code",
   "execution_count": 493,
   "metadata": {},
   "outputs": [],
   "source": [
    "# gpflow_val_scores"
   ]
  },
  {
   "cell_type": "markdown",
   "metadata": {},
   "source": [
    "### Get means and standard deviations"
   ]
  },
  {
   "cell_type": "markdown",
   "metadata": {},
   "source": [
    "#### Scikit-Learn"
   ]
  },
  {
   "cell_type": "markdown",
   "metadata": {
    "colab_type": "text",
    "id": "5BWvgdcDAQUt"
   },
   "source": [
    "Get the means over folds (`cross_validate()` records the results as arrays even for `num_folds=1`)"
   ]
  },
  {
   "cell_type": "code",
   "execution_count": 494,
   "metadata": {},
   "outputs": [],
   "source": [
    "scores = val_scores\n",
    "mean_val_scores = {features: {model: {record: np.abs(scores[features][model][record].mean()) for record in scores[features][model]} for model in scores[features]} for features in scores}\n",
    "std_val_scores = {features: {model: {record: scores[features][model][record].std() for record in scores[features][model]} for model in scores[features]} for features in scores}\n",
    "\n",
    "# mean_val_scores\n",
    "# std_val_scores"
   ]
  },
  {
   "cell_type": "code",
   "execution_count": 495,
   "metadata": {},
   "outputs": [],
   "source": [
    "scores = train_test_scores\n",
    "mean_train_test_scores = {features: {model: {record: np.abs(scores[features][model][record].mean()) for record in scores[features][model]} for model in scores[features]} for features in scores}\n",
    "std_train_test_scores = {features: {model: {record: scores[features][model][record].std() for record in scores[features][model]} for model in scores[features]} for features in scores}\n",
    "\n",
    "# mean_train_test_scores\n",
    "# std_train_test_scores"
   ]
  },
  {
   "cell_type": "markdown",
   "metadata": {},
   "source": [
    "#### GPflow"
   ]
  },
  {
   "cell_type": "code",
   "execution_count": 496,
   "metadata": {},
   "outputs": [],
   "source": [
    "scores = gpflow_val_scores\n",
    "gpflow_mean_val_scores = {features: {record: np.abs(scores[features][record]).mean() for record in scores[features]} for features in scores}\n",
    "gpflow_std_val_scores = {features: {record: np.array(scores[features][record]).std() for record in scores[features]} for features in scores}\n",
    "\n",
    "# gpflow_mean_val_scores\n",
    "# gpflow_std_val_scores"
   ]
  },
  {
   "cell_type": "code",
   "execution_count": 497,
   "metadata": {},
   "outputs": [],
   "source": [
    "scores = gpflow_train_test_scores\n",
    "gpflow_mean_train_test_scores = {features: {record: np.abs(scores[features][record]).mean() for record in scores[features]} for features in scores}\n",
    "gpflow_std_train_test_scores = {features: {record: np.array(scores[features][record]).std() for record in scores[features]} for features in scores}\n",
    "\n",
    "# gpflow_mean_train_test_scores\n",
    "# gpflow_std_train_test_scores"
   ]
  },
  {
   "cell_type": "markdown",
   "metadata": {
    "colab_type": "text",
    "id": "tq91XVzvAQU5"
   },
   "source": [
    "# Visualization"
   ]
  },
  {
   "cell_type": "markdown",
   "metadata": {
    "colab_type": "text",
    "id": "79j3OG_LAQU6"
   },
   "source": [
    "## Plotting options"
   ]
  },
  {
   "cell_type": "code",
   "execution_count": 498,
   "metadata": {
    "colab": {},
    "colab_type": "code",
    "id": "-F3lnzIkAQU2",
    "outputId": "a0c27bb2-77af-47fd-beed-f9d354d48815"
   },
   "outputs": [
    {
     "data": {
      "text/plain": [
       "dict_keys(['RDKit', '1024ecfp-4', '1024ecfp-6', '2048ecfp-4', '2048ecfp-6', '1024ecfp-4 + RDKit', '1024ecfp-6 + RDKit', '2048ecfp-4 + RDKit', '2048ecfp-6 + RDKit'])"
      ]
     },
     "execution_count": 498,
     "metadata": {},
     "output_type": "execute_result"
    }
   ],
   "source": [
    "mean_val_scores.keys()"
   ]
  },
  {
   "cell_type": "code",
   "execution_count": 499,
   "metadata": {
    "colab": {},
    "colab_type": "code",
    "id": "Zx8K4vRIObYF"
   },
   "outputs": [],
   "source": [
    "column_order = ['RDKit',\n",
    "                '1024ecfp-4', '1024ecfp-4 + RDKit',\n",
    "                '1024ecfp-6', '1024ecfp-6 + RDKit',\n",
    "                '2048ecfp-4', '2048ecfp-4 + RDKit',\n",
    "                '2048ecfp-6', '2048ecfp-6 + RDKit'\n",
    "                ]\n",
    "\n",
    "row_order = ['Random Forest', 'XGBoost', 'Kernel Ridge', 'GP-sklearn', 'GP-GPflow']\n",
    "mapper = {\n",
    "    'rf': 'Random Forest',\n",
    "    'xgb': 'XGBoost',\n",
    "    'krr': 'Kernel Ridge',\n",
    "    'gp': 'GP-sklearn',\n",
    "    'gpflow': 'GP-GPflow'\n",
    "}"
   ]
  },
  {
   "cell_type": "markdown",
   "metadata": {
    "colab_type": "text",
    "id": "vxrJtnSWAQU-"
   },
   "source": [
    "## Train metric"
   ]
  },
  {
   "cell_type": "code",
   "execution_count": 500,
   "metadata": {
    "colab": {},
    "colab_type": "code",
    "id": "Vo6S1WmkObYJ",
    "outputId": "301d944b-d6a7-4fe3-d07e-42283571b794"
   },
   "outputs": [
    {
     "name": "stdout",
     "output_type": "stream",
     "text": [
      "RMSE : root-mean-square error , unit: (kcal/mol)\n"
     ]
    },
    {
     "data": {
      "text/html": [
       "<div>\n",
       "<style scoped>\n",
       "    .dataframe tbody tr th:only-of-type {\n",
       "        vertical-align: middle;\n",
       "    }\n",
       "\n",
       "    .dataframe tbody tr th {\n",
       "        vertical-align: top;\n",
       "    }\n",
       "\n",
       "    .dataframe thead th {\n",
       "        text-align: right;\n",
       "    }\n",
       "</style>\n",
       "<table border=\"1\" class=\"dataframe\">\n",
       "  <thead>\n",
       "    <tr style=\"text-align: right;\">\n",
       "      <th></th>\n",
       "      <th>RDKit</th>\n",
       "      <th>1024ecfp-4</th>\n",
       "      <th>1024ecfp-6</th>\n",
       "      <th>2048ecfp-4</th>\n",
       "      <th>2048ecfp-6</th>\n",
       "      <th>1024ecfp-4 + RDKit</th>\n",
       "      <th>1024ecfp-6 + RDKit</th>\n",
       "      <th>2048ecfp-4 + RDKit</th>\n",
       "      <th>2048ecfp-6 + RDKit</th>\n",
       "    </tr>\n",
       "  </thead>\n",
       "  <tbody>\n",
       "    <tr>\n",
       "      <th>rf</th>\n",
       "      <td>0.44</td>\n",
       "      <td>0.74</td>\n",
       "      <td>0.77</td>\n",
       "      <td>0.75</td>\n",
       "      <td>0.76</td>\n",
       "      <td>0.43</td>\n",
       "      <td>0.44</td>\n",
       "      <td>0.44</td>\n",
       "      <td>0.44</td>\n",
       "    </tr>\n",
       "    <tr>\n",
       "      <th>xgb</th>\n",
       "      <td>0.27</td>\n",
       "      <td>0.67</td>\n",
       "      <td>0.68</td>\n",
       "      <td>0.14</td>\n",
       "      <td>1.04</td>\n",
       "      <td>0.12</td>\n",
       "      <td>0.12</td>\n",
       "      <td>0.11</td>\n",
       "      <td>0.12</td>\n",
       "    </tr>\n",
       "    <tr>\n",
       "      <th>krr</th>\n",
       "      <td>0.12</td>\n",
       "      <td>0.05</td>\n",
       "      <td>0.10</td>\n",
       "      <td>0.08</td>\n",
       "      <td>0.07</td>\n",
       "      <td>0.02</td>\n",
       "      <td>0.02</td>\n",
       "      <td>0.02</td>\n",
       "      <td>0.02</td>\n",
       "    </tr>\n",
       "    <tr>\n",
       "      <th>gp</th>\n",
       "      <td>1.05</td>\n",
       "      <td>3.32</td>\n",
       "      <td>0.02</td>\n",
       "      <td>0.09</td>\n",
       "      <td>0.02</td>\n",
       "      <td>0.03</td>\n",
       "      <td>0.02</td>\n",
       "      <td>0.03</td>\n",
       "      <td>0.02</td>\n",
       "    </tr>\n",
       "  </tbody>\n",
       "</table>\n",
       "</div>"
      ],
      "text/plain": [
       "     RDKit  1024ecfp-4  1024ecfp-6  2048ecfp-4  2048ecfp-6  \\\n",
       "rf    0.44        0.74        0.77        0.75        0.76   \n",
       "xgb   0.27        0.67        0.68        0.14        1.04   \n",
       "krr   0.12        0.05        0.10        0.08        0.07   \n",
       "gp    1.05        3.32        0.02        0.09        0.02   \n",
       "\n",
       "     1024ecfp-4 + RDKit  1024ecfp-6 + RDKit  2048ecfp-4 + RDKit  \\\n",
       "rf                 0.43                0.44                0.44   \n",
       "xgb                0.12                0.12                0.11   \n",
       "krr                0.02                0.02                0.02   \n",
       "gp                 0.03                0.02                0.03   \n",
       "\n",
       "     2048ecfp-6 + RDKit  \n",
       "rf                 0.44  \n",
       "xgb                0.12  \n",
       "krr                0.02  \n",
       "gp                 0.02  "
      ]
     },
     "execution_count": 500,
     "metadata": {},
     "output_type": "execute_result"
    }
   ],
   "source": [
    "## pull out train scores for all features for all models (train set is the train set when working on train/test split )\n",
    "train_metric = pd.DataFrame({features: {model: mean_train_test_scores[features][model][f'train_{metric}'] for model in mean_train_test_scores[features]} for features in mean_train_test_scores})\n",
    "\n",
    "print(metric, ':',metrics_to_labels[metric], ', unit:', datasets_to_units[dataset])\n",
    "train_metric.round(2)"
   ]
  },
  {
   "cell_type": "code",
   "execution_count": 501,
   "metadata": {},
   "outputs": [
    {
     "name": "stdout",
     "output_type": "stream",
     "text": [
      "RMSE : root-mean-square error , unit: (kcal/mol)\n"
     ]
    },
    {
     "data": {
      "text/html": [
       "<div>\n",
       "<style scoped>\n",
       "    .dataframe tbody tr th:only-of-type {\n",
       "        vertical-align: middle;\n",
       "    }\n",
       "\n",
       "    .dataframe tbody tr th {\n",
       "        vertical-align: top;\n",
       "    }\n",
       "\n",
       "    .dataframe thead th {\n",
       "        text-align: right;\n",
       "    }\n",
       "</style>\n",
       "<table border=\"1\" class=\"dataframe\">\n",
       "  <thead>\n",
       "    <tr style=\"text-align: right;\">\n",
       "      <th></th>\n",
       "      <th>RDKit</th>\n",
       "      <th>1024ecfp-4</th>\n",
       "      <th>1024ecfp-6</th>\n",
       "      <th>2048ecfp-4</th>\n",
       "      <th>2048ecfp-6</th>\n",
       "      <th>1024ecfp-4 + RDKit</th>\n",
       "      <th>1024ecfp-6 + RDKit</th>\n",
       "      <th>2048ecfp-4 + RDKit</th>\n",
       "      <th>2048ecfp-6 + RDKit</th>\n",
       "    </tr>\n",
       "  </thead>\n",
       "  <tbody>\n",
       "    <tr>\n",
       "      <th>gpflow</th>\n",
       "      <td>None</td>\n",
       "      <td>0.05</td>\n",
       "      <td>0.02</td>\n",
       "      <td>0.05</td>\n",
       "      <td>0.02</td>\n",
       "      <td>None</td>\n",
       "      <td>None</td>\n",
       "      <td>None</td>\n",
       "      <td>None</td>\n",
       "    </tr>\n",
       "  </tbody>\n",
       "</table>\n",
       "</div>"
      ],
      "text/plain": [
       "       RDKit  1024ecfp-4  1024ecfp-6  2048ecfp-4  2048ecfp-6  \\\n",
       "gpflow  None        0.05        0.02        0.05        0.02   \n",
       "\n",
       "       1024ecfp-4 + RDKit 1024ecfp-6 + RDKit 2048ecfp-4 + RDKit  \\\n",
       "gpflow               None               None               None   \n",
       "\n",
       "       2048ecfp-6 + RDKit  \n",
       "gpflow               None  "
      ]
     },
     "execution_count": 501,
     "metadata": {},
     "output_type": "execute_result"
    }
   ],
   "source": [
    "gpflow_train_metric = {features: {'gpflow': gpflow_mean_train_test_scores[features][f'train_{metric}']} for features in gpflow_mean_train_test_scores}\n",
    "for features in train_metric:\n",
    "    if features not in gpflow_train_metric:\n",
    "        gpflow_train_metric[features] = {}\n",
    "        gpflow_train_metric[features]['gpflow'] = None\n",
    "gpflow_train_metric = pd.DataFrame(gpflow_train_metric)[train_metric.columns]\n",
    "\n",
    "print(metric, ':',metrics_to_labels[metric], ', unit:', datasets_to_units[dataset])\n",
    "gpflow_train_metric.round(2)"
   ]
  },
  {
   "cell_type": "code",
   "execution_count": 502,
   "metadata": {},
   "outputs": [
    {
     "data": {
      "text/html": [
       "<div>\n",
       "<style scoped>\n",
       "    .dataframe tbody tr th:only-of-type {\n",
       "        vertical-align: middle;\n",
       "    }\n",
       "\n",
       "    .dataframe tbody tr th {\n",
       "        vertical-align: top;\n",
       "    }\n",
       "\n",
       "    .dataframe thead th {\n",
       "        text-align: right;\n",
       "    }\n",
       "</style>\n",
       "<table border=\"1\" class=\"dataframe\">\n",
       "  <thead>\n",
       "    <tr style=\"text-align: right;\">\n",
       "      <th></th>\n",
       "      <th>RDKit</th>\n",
       "      <th>1024ecfp-4</th>\n",
       "      <th>1024ecfp-6</th>\n",
       "      <th>2048ecfp-4</th>\n",
       "      <th>2048ecfp-6</th>\n",
       "      <th>1024ecfp-4 + RDKit</th>\n",
       "      <th>1024ecfp-6 + RDKit</th>\n",
       "      <th>2048ecfp-4 + RDKit</th>\n",
       "      <th>2048ecfp-6 + RDKit</th>\n",
       "    </tr>\n",
       "  </thead>\n",
       "  <tbody>\n",
       "    <tr>\n",
       "      <th>rf</th>\n",
       "      <td>0.44</td>\n",
       "      <td>0.74</td>\n",
       "      <td>0.77</td>\n",
       "      <td>0.75</td>\n",
       "      <td>0.76</td>\n",
       "      <td>0.43</td>\n",
       "      <td>0.44</td>\n",
       "      <td>0.44</td>\n",
       "      <td>0.44</td>\n",
       "    </tr>\n",
       "    <tr>\n",
       "      <th>xgb</th>\n",
       "      <td>0.27</td>\n",
       "      <td>0.67</td>\n",
       "      <td>0.68</td>\n",
       "      <td>0.14</td>\n",
       "      <td>1.04</td>\n",
       "      <td>0.12</td>\n",
       "      <td>0.12</td>\n",
       "      <td>0.11</td>\n",
       "      <td>0.12</td>\n",
       "    </tr>\n",
       "    <tr>\n",
       "      <th>krr</th>\n",
       "      <td>0.12</td>\n",
       "      <td>0.05</td>\n",
       "      <td>0.10</td>\n",
       "      <td>0.08</td>\n",
       "      <td>0.07</td>\n",
       "      <td>0.02</td>\n",
       "      <td>0.02</td>\n",
       "      <td>0.02</td>\n",
       "      <td>0.02</td>\n",
       "    </tr>\n",
       "    <tr>\n",
       "      <th>gp</th>\n",
       "      <td>1.05</td>\n",
       "      <td>3.32</td>\n",
       "      <td>0.02</td>\n",
       "      <td>0.09</td>\n",
       "      <td>0.02</td>\n",
       "      <td>0.03</td>\n",
       "      <td>0.02</td>\n",
       "      <td>0.03</td>\n",
       "      <td>0.02</td>\n",
       "    </tr>\n",
       "    <tr>\n",
       "      <th>gpflow</th>\n",
       "      <td>NaN</td>\n",
       "      <td>0.05</td>\n",
       "      <td>0.02</td>\n",
       "      <td>0.05</td>\n",
       "      <td>0.02</td>\n",
       "      <td>NaN</td>\n",
       "      <td>NaN</td>\n",
       "      <td>NaN</td>\n",
       "      <td>NaN</td>\n",
       "    </tr>\n",
       "  </tbody>\n",
       "</table>\n",
       "</div>"
      ],
      "text/plain": [
       "        RDKit  1024ecfp-4  1024ecfp-6  2048ecfp-4  2048ecfp-6  \\\n",
       "rf       0.44        0.74        0.77        0.75        0.76   \n",
       "xgb      0.27        0.67        0.68        0.14        1.04   \n",
       "krr      0.12        0.05        0.10        0.08        0.07   \n",
       "gp       1.05        3.32        0.02        0.09        0.02   \n",
       "gpflow    NaN        0.05        0.02        0.05        0.02   \n",
       "\n",
       "        1024ecfp-4 + RDKit  1024ecfp-6 + RDKit  2048ecfp-4 + RDKit  \\\n",
       "rf                    0.43                0.44                0.44   \n",
       "xgb                   0.12                0.12                0.11   \n",
       "krr                   0.02                0.02                0.02   \n",
       "gp                    0.03                0.02                0.03   \n",
       "gpflow                 NaN                 NaN                 NaN   \n",
       "\n",
       "        2048ecfp-6 + RDKit  \n",
       "rf                    0.44  \n",
       "xgb                   0.12  \n",
       "krr                   0.02  \n",
       "gp                    0.02  \n",
       "gpflow                 NaN  "
      ]
     },
     "execution_count": 502,
     "metadata": {},
     "output_type": "execute_result"
    }
   ],
   "source": [
    "combined_train_metric = pd.concat([train_metric, gpflow_train_metric])\n",
    "combined_train_metric.round(2)"
   ]
  },
  {
   "cell_type": "code",
   "execution_count": 503,
   "metadata": {
    "colab": {},
    "colab_type": "code",
    "id": "4iiKcCOMObYM",
    "outputId": "e973f26c-605b-4c34-d8c0-56b4ec602627"
   },
   "outputs": [
    {
     "data": {
      "image/png": "[encoded data removed]",
      "text/plain": [
       "<Figure size 576x432 with 2 Axes>"
      ]
     },
     "metadata": {
      "needs_background": "light"
     },
     "output_type": "display_data"
    }
   ],
   "source": [
    "df = combined_train_metric.round(2)\n",
    "df = df.rename(mapper=mapper, axis='rows')\n",
    "df = df.loc[row_order, column_order]\n",
    "\n",
    "plot_algorithm_dataset_comparison_heatmap(df, dataset=dataset, metric=metric)\n",
    "\n",
    "# fig.savefig(f'{PLOTS_DIR}/algorithm_comparison.jpg', dpi=350, bbox_inches='tight')\n",
    "plt.show()"
   ]
  },
  {
   "cell_type": "markdown",
   "metadata": {
    "colab_type": "text",
    "id": "bL8eEAnWAQVI"
   },
   "source": [
    "## Val metric"
   ]
  },
  {
   "cell_type": "markdown",
   "metadata": {},
   "source": [
    "### Scikit-Learn"
   ]
  },
  {
   "cell_type": "code",
   "execution_count": 504,
   "metadata": {
    "colab": {},
    "colab_type": "code",
    "id": "KhoOQLCFObYP",
    "outputId": "42aa4335-580b-4444-c3a1-50e83b83f258"
   },
   "outputs": [
    {
     "name": "stdout",
     "output_type": "stream",
     "text": [
      "RMSE : root-mean-square error , unit: (kcal/mol)\n"
     ]
    },
    {
     "data": {
      "text/html": [
       "<div>\n",
       "<style scoped>\n",
       "    .dataframe tbody tr th:only-of-type {\n",
       "        vertical-align: middle;\n",
       "    }\n",
       "\n",
       "    .dataframe tbody tr th {\n",
       "        vertical-align: top;\n",
       "    }\n",
       "\n",
       "    .dataframe thead th {\n",
       "        text-align: right;\n",
       "    }\n",
       "</style>\n",
       "<table border=\"1\" class=\"dataframe\">\n",
       "  <thead>\n",
       "    <tr style=\"text-align: right;\">\n",
       "      <th></th>\n",
       "      <th>RDKit</th>\n",
       "      <th>1024ecfp-4</th>\n",
       "      <th>1024ecfp-6</th>\n",
       "      <th>2048ecfp-4</th>\n",
       "      <th>2048ecfp-6</th>\n",
       "      <th>1024ecfp-4 + RDKit</th>\n",
       "      <th>1024ecfp-6 + RDKit</th>\n",
       "      <th>2048ecfp-4 + RDKit</th>\n",
       "      <th>2048ecfp-6 + RDKit</th>\n",
       "    </tr>\n",
       "  </thead>\n",
       "  <tbody>\n",
       "    <tr>\n",
       "      <th>rf</th>\n",
       "      <td>1.32</td>\n",
       "      <td>2.39</td>\n",
       "      <td>2.47</td>\n",
       "      <td>2.40</td>\n",
       "      <td>2.48</td>\n",
       "      <td>1.41</td>\n",
       "      <td>1.41</td>\n",
       "      <td>1.36</td>\n",
       "      <td>1.41</td>\n",
       "    </tr>\n",
       "    <tr>\n",
       "      <th>xgb</th>\n",
       "      <td>1.02</td>\n",
       "      <td>2.12</td>\n",
       "      <td>2.21</td>\n",
       "      <td>1.81</td>\n",
       "      <td>2.27</td>\n",
       "      <td>1.13</td>\n",
       "      <td>1.19</td>\n",
       "      <td>1.14</td>\n",
       "      <td>1.17</td>\n",
       "    </tr>\n",
       "    <tr>\n",
       "      <th>krr</th>\n",
       "      <td>1.88</td>\n",
       "      <td>3.92</td>\n",
       "      <td>4.17</td>\n",
       "      <td>3.79</td>\n",
       "      <td>4.13</td>\n",
       "      <td>3.36</td>\n",
       "      <td>3.61</td>\n",
       "      <td>3.22</td>\n",
       "      <td>3.60</td>\n",
       "    </tr>\n",
       "    <tr>\n",
       "      <th>gp</th>\n",
       "      <td>1.60</td>\n",
       "      <td>3.70</td>\n",
       "      <td>3.24</td>\n",
       "      <td>2.73</td>\n",
       "      <td>2.76</td>\n",
       "      <td>2.66</td>\n",
       "      <td>1.42</td>\n",
       "      <td>2.60</td>\n",
       "      <td>1.30</td>\n",
       "    </tr>\n",
       "  </tbody>\n",
       "</table>\n",
       "</div>"
      ],
      "text/plain": [
       "     RDKit  1024ecfp-4  1024ecfp-6  2048ecfp-4  2048ecfp-6  \\\n",
       "rf    1.32        2.39        2.47        2.40        2.48   \n",
       "xgb   1.02        2.12        2.21        1.81        2.27   \n",
       "krr   1.88        3.92        4.17        3.79        4.13   \n",
       "gp    1.60        3.70        3.24        2.73        2.76   \n",
       "\n",
       "     1024ecfp-4 + RDKit  1024ecfp-6 + RDKit  2048ecfp-4 + RDKit  \\\n",
       "rf                 1.41                1.41                1.36   \n",
       "xgb                1.13                1.19                1.14   \n",
       "krr                3.36                3.61                3.22   \n",
       "gp                 2.66                1.42                2.60   \n",
       "\n",
       "     2048ecfp-6 + RDKit  \n",
       "rf                 1.41  \n",
       "xgb                1.17  \n",
       "krr                3.60  \n",
       "gp                 1.30  "
      ]
     },
     "execution_count": 504,
     "metadata": {},
     "output_type": "execute_result"
    }
   ],
   "source": [
    "## pull out validation scores for all features for all models (validation set is a test set when working on train/val split )\n",
    "val_metric = pd.DataFrame({features: {model: mean_val_scores[features][model][f'test_{metric}'] for model in mean_val_scores[features]} for features in mean_val_scores})\n",
    "\n",
    "print(metric, ':',metrics_to_labels[metric], ', unit:', datasets_to_units[dataset])\n",
    "val_metric.round(2)"
   ]
  },
  {
   "cell_type": "markdown",
   "metadata": {},
   "source": [
    "### GPflow"
   ]
  },
  {
   "cell_type": "code",
   "execution_count": 505,
   "metadata": {},
   "outputs": [
    {
     "name": "stdout",
     "output_type": "stream",
     "text": [
      "RMSE : root-mean-square error , unit: (kcal/mol)\n"
     ]
    },
    {
     "data": {
      "text/html": [
       "<div>\n",
       "<style scoped>\n",
       "    .dataframe tbody tr th:only-of-type {\n",
       "        vertical-align: middle;\n",
       "    }\n",
       "\n",
       "    .dataframe tbody tr th {\n",
       "        vertical-align: top;\n",
       "    }\n",
       "\n",
       "    .dataframe thead th {\n",
       "        text-align: right;\n",
       "    }\n",
       "</style>\n",
       "<table border=\"1\" class=\"dataframe\">\n",
       "  <thead>\n",
       "    <tr style=\"text-align: right;\">\n",
       "      <th></th>\n",
       "      <th>RDKit</th>\n",
       "      <th>1024ecfp-4</th>\n",
       "      <th>1024ecfp-6</th>\n",
       "      <th>2048ecfp-4</th>\n",
       "      <th>2048ecfp-6</th>\n",
       "      <th>1024ecfp-4 + RDKit</th>\n",
       "      <th>1024ecfp-6 + RDKit</th>\n",
       "      <th>2048ecfp-4 + RDKit</th>\n",
       "      <th>2048ecfp-6 + RDKit</th>\n",
       "    </tr>\n",
       "  </thead>\n",
       "  <tbody>\n",
       "    <tr>\n",
       "      <th>gpflow</th>\n",
       "      <td>None</td>\n",
       "      <td>1.82</td>\n",
       "      <td>1.94</td>\n",
       "      <td>1.76</td>\n",
       "      <td>1.86</td>\n",
       "      <td>None</td>\n",
       "      <td>None</td>\n",
       "      <td>None</td>\n",
       "      <td>None</td>\n",
       "    </tr>\n",
       "  </tbody>\n",
       "</table>\n",
       "</div>"
      ],
      "text/plain": [
       "       RDKit  1024ecfp-4  1024ecfp-6  2048ecfp-4  2048ecfp-6  \\\n",
       "gpflow  None        1.82        1.94        1.76        1.86   \n",
       "\n",
       "       1024ecfp-4 + RDKit 1024ecfp-6 + RDKit 2048ecfp-4 + RDKit  \\\n",
       "gpflow               None               None               None   \n",
       "\n",
       "       2048ecfp-6 + RDKit  \n",
       "gpflow               None  "
      ]
     },
     "execution_count": 505,
     "metadata": {},
     "output_type": "execute_result"
    }
   ],
   "source": [
    "gpflow_val_metric = {features: {'gpflow': gpflow_mean_val_scores[features][f'test_{metric}']} for features in gpflow_mean_val_scores}\n",
    "for features in val_metric:\n",
    "    if features not in gpflow_val_metric:\n",
    "        gpflow_val_metric[features] = {}\n",
    "        gpflow_val_metric[features]['gpflow'] = None\n",
    "gpflow_val_metric = pd.DataFrame(gpflow_val_metric)[val_metric.columns]\n",
    "\n",
    "print(metric, ':',metrics_to_labels[metric], ', unit:', datasets_to_units[dataset])\n",
    "gpflow_val_metric.round(2)"
   ]
  },
  {
   "cell_type": "markdown",
   "metadata": {},
   "source": [
    "### Combined"
   ]
  },
  {
   "cell_type": "code",
   "execution_count": 506,
   "metadata": {},
   "outputs": [
    {
     "data": {
      "text/html": [
       "<div>\n",
       "<style scoped>\n",
       "    .dataframe tbody tr th:only-of-type {\n",
       "        vertical-align: middle;\n",
       "    }\n",
       "\n",
       "    .dataframe tbody tr th {\n",
       "        vertical-align: top;\n",
       "    }\n",
       "\n",
       "    .dataframe thead th {\n",
       "        text-align: right;\n",
       "    }\n",
       "</style>\n",
       "<table border=\"1\" class=\"dataframe\">\n",
       "  <thead>\n",
       "    <tr style=\"text-align: right;\">\n",
       "      <th></th>\n",
       "      <th>RDKit</th>\n",
       "      <th>1024ecfp-4</th>\n",
       "      <th>1024ecfp-6</th>\n",
       "      <th>2048ecfp-4</th>\n",
       "      <th>2048ecfp-6</th>\n",
       "      <th>1024ecfp-4 + RDKit</th>\n",
       "      <th>1024ecfp-6 + RDKit</th>\n",
       "      <th>2048ecfp-4 + RDKit</th>\n",
       "      <th>2048ecfp-6 + RDKit</th>\n",
       "    </tr>\n",
       "  </thead>\n",
       "  <tbody>\n",
       "    <tr>\n",
       "      <th>rf</th>\n",
       "      <td>1.32</td>\n",
       "      <td>2.39</td>\n",
       "      <td>2.47</td>\n",
       "      <td>2.40</td>\n",
       "      <td>2.48</td>\n",
       "      <td>1.41</td>\n",
       "      <td>1.41</td>\n",
       "      <td>1.36</td>\n",
       "      <td>1.41</td>\n",
       "    </tr>\n",
       "    <tr>\n",
       "      <th>xgb</th>\n",
       "      <td>1.02</td>\n",
       "      <td>2.12</td>\n",
       "      <td>2.21</td>\n",
       "      <td>1.81</td>\n",
       "      <td>2.27</td>\n",
       "      <td>1.13</td>\n",
       "      <td>1.19</td>\n",
       "      <td>1.14</td>\n",
       "      <td>1.17</td>\n",
       "    </tr>\n",
       "    <tr>\n",
       "      <th>krr</th>\n",
       "      <td>1.88</td>\n",
       "      <td>3.92</td>\n",
       "      <td>4.17</td>\n",
       "      <td>3.79</td>\n",
       "      <td>4.13</td>\n",
       "      <td>3.36</td>\n",
       "      <td>3.61</td>\n",
       "      <td>3.22</td>\n",
       "      <td>3.60</td>\n",
       "    </tr>\n",
       "    <tr>\n",
       "      <th>gp</th>\n",
       "      <td>1.60</td>\n",
       "      <td>3.70</td>\n",
       "      <td>3.24</td>\n",
       "      <td>2.73</td>\n",
       "      <td>2.76</td>\n",
       "      <td>2.66</td>\n",
       "      <td>1.42</td>\n",
       "      <td>2.60</td>\n",
       "      <td>1.30</td>\n",
       "    </tr>\n",
       "    <tr>\n",
       "      <th>gpflow</th>\n",
       "      <td>NaN</td>\n",
       "      <td>1.82</td>\n",
       "      <td>1.94</td>\n",
       "      <td>1.76</td>\n",
       "      <td>1.86</td>\n",
       "      <td>NaN</td>\n",
       "      <td>NaN</td>\n",
       "      <td>NaN</td>\n",
       "      <td>NaN</td>\n",
       "    </tr>\n",
       "  </tbody>\n",
       "</table>\n",
       "</div>"
      ],
      "text/plain": [
       "        RDKit  1024ecfp-4  1024ecfp-6  2048ecfp-4  2048ecfp-6  \\\n",
       "rf       1.32        2.39        2.47        2.40        2.48   \n",
       "xgb      1.02        2.12        2.21        1.81        2.27   \n",
       "krr      1.88        3.92        4.17        3.79        4.13   \n",
       "gp       1.60        3.70        3.24        2.73        2.76   \n",
       "gpflow    NaN        1.82        1.94        1.76        1.86   \n",
       "\n",
       "        1024ecfp-4 + RDKit  1024ecfp-6 + RDKit  2048ecfp-4 + RDKit  \\\n",
       "rf                    1.41                1.41                1.36   \n",
       "xgb                   1.13                1.19                1.14   \n",
       "krr                   3.36                3.61                3.22   \n",
       "gp                    2.66                1.42                2.60   \n",
       "gpflow                 NaN                 NaN                 NaN   \n",
       "\n",
       "        2048ecfp-6 + RDKit  \n",
       "rf                    1.41  \n",
       "xgb                   1.17  \n",
       "krr                   3.60  \n",
       "gp                    1.30  \n",
       "gpflow                 NaN  "
      ]
     },
     "execution_count": 506,
     "metadata": {},
     "output_type": "execute_result"
    }
   ],
   "source": [
    "combined_val_metric = pd.concat([val_metric, gpflow_val_metric])\n",
    "combined_val_metric.round(2)"
   ]
  },
  {
   "cell_type": "markdown",
   "metadata": {},
   "source": [
    "### Heatmap"
   ]
  },
  {
   "cell_type": "code",
   "execution_count": 507,
   "metadata": {
    "colab": {},
    "colab_type": "code",
    "id": "eMiuZLM0ObYS",
    "outputId": "b8cf8667-05e8-4394-cf88-19c3605f9b5e"
   },
   "outputs": [
    {
     "data": {
      "image/png": "[encoded data removed]",
      "text/plain": [
       "<Figure size 576x432 with 2 Axes>"
      ]
     },
     "metadata": {
      "needs_background": "light"
     },
     "output_type": "display_data"
    }
   ],
   "source": [
    "df = combined_val_metric\n",
    "df = df.rename(mapper=mapper, axis='rows')\n",
    "df = df.loc[row_order, column_order]\n",
    "\n",
    "plot_algorithm_dataset_comparison_heatmap(df, dataset=dataset, metric=metric)\n",
    "\n",
    "# fig.savefig(f'{PLOTS_DIR}/algorithm_comparison.jpg', dpi=350, bbox_inches='tight')\n",
    "plt.show()"
   ]
  },
  {
   "cell_type": "code",
   "execution_count": 508,
   "metadata": {
    "colab": {},
    "colab_type": "code",
    "id": "P19bb1lXX2XT",
    "outputId": "94d3c9a1-2ac9-4b08-93fc-b25a0b848073"
   },
   "outputs": [
    {
     "data": {
      "text/html": [
       "<div>\n",
       "<style scoped>\n",
       "    .dataframe tbody tr th:only-of-type {\n",
       "        vertical-align: middle;\n",
       "    }\n",
       "\n",
       "    .dataframe tbody tr th {\n",
       "        vertical-align: top;\n",
       "    }\n",
       "\n",
       "    .dataframe thead th {\n",
       "        text-align: right;\n",
       "    }\n",
       "</style>\n",
       "<table border=\"1\" class=\"dataframe\">\n",
       "  <thead>\n",
       "    <tr style=\"text-align: right;\">\n",
       "      <th></th>\n",
       "      <th>RDKit</th>\n",
       "      <th>1024ecfp-4</th>\n",
       "      <th>1024ecfp-6</th>\n",
       "      <th>2048ecfp-4</th>\n",
       "      <th>2048ecfp-6</th>\n",
       "      <th>1024ecfp-4 + RDKit</th>\n",
       "      <th>1024ecfp-6 + RDKit</th>\n",
       "      <th>2048ecfp-4 + RDKit</th>\n",
       "      <th>2048ecfp-6 + RDKit</th>\n",
       "    </tr>\n",
       "  </thead>\n",
       "  <tbody>\n",
       "    <tr>\n",
       "      <th>rf</th>\n",
       "      <td>1.318468</td>\n",
       "      <td>2.388300</td>\n",
       "      <td>2.471258</td>\n",
       "      <td>2.399716</td>\n",
       "      <td>2.482164</td>\n",
       "      <td>1.409335</td>\n",
       "      <td>1.411271</td>\n",
       "      <td>1.360595</td>\n",
       "      <td>1.408385</td>\n",
       "    </tr>\n",
       "    <tr>\n",
       "      <th>xgb</th>\n",
       "      <td>1.019750</td>\n",
       "      <td>2.121608</td>\n",
       "      <td>2.211659</td>\n",
       "      <td>1.811312</td>\n",
       "      <td>2.270843</td>\n",
       "      <td>1.134740</td>\n",
       "      <td>1.194041</td>\n",
       "      <td>1.137866</td>\n",
       "      <td>1.168250</td>\n",
       "    </tr>\n",
       "    <tr>\n",
       "      <th>krr</th>\n",
       "      <td>1.880828</td>\n",
       "      <td>3.923582</td>\n",
       "      <td>4.172590</td>\n",
       "      <td>3.794209</td>\n",
       "      <td>4.133178</td>\n",
       "      <td>3.362130</td>\n",
       "      <td>3.613947</td>\n",
       "      <td>3.217046</td>\n",
       "      <td>3.599431</td>\n",
       "    </tr>\n",
       "    <tr>\n",
       "      <th>gp</th>\n",
       "      <td>1.602419</td>\n",
       "      <td>3.702557</td>\n",
       "      <td>3.235235</td>\n",
       "      <td>2.726548</td>\n",
       "      <td>2.757538</td>\n",
       "      <td>2.658689</td>\n",
       "      <td>1.424402</td>\n",
       "      <td>2.596580</td>\n",
       "      <td>1.303139</td>\n",
       "    </tr>\n",
       "    <tr>\n",
       "      <th>gpflow</th>\n",
       "      <td>NaN</td>\n",
       "      <td>1.815378</td>\n",
       "      <td>1.943833</td>\n",
       "      <td>1.757358</td>\n",
       "      <td>1.862905</td>\n",
       "      <td>NaN</td>\n",
       "      <td>NaN</td>\n",
       "      <td>NaN</td>\n",
       "      <td>NaN</td>\n",
       "    </tr>\n",
       "  </tbody>\n",
       "</table>\n",
       "</div>"
      ],
      "text/plain": [
       "           RDKit  1024ecfp-4  1024ecfp-6  2048ecfp-4  2048ecfp-6  \\\n",
       "rf      1.318468    2.388300    2.471258    2.399716    2.482164   \n",
       "xgb     1.019750    2.121608    2.211659    1.811312    2.270843   \n",
       "krr     1.880828    3.923582    4.172590    3.794209    4.133178   \n",
       "gp      1.602419    3.702557    3.235235    2.726548    2.757538   \n",
       "gpflow       NaN    1.815378    1.943833    1.757358    1.862905   \n",
       "\n",
       "        1024ecfp-4 + RDKit  1024ecfp-6 + RDKit  2048ecfp-4 + RDKit  \\\n",
       "rf                1.409335            1.411271            1.360595   \n",
       "xgb               1.134740            1.194041            1.137866   \n",
       "krr               3.362130            3.613947            3.217046   \n",
       "gp                2.658689            1.424402            2.596580   \n",
       "gpflow                 NaN                 NaN                 NaN   \n",
       "\n",
       "        2048ecfp-6 + RDKit  \n",
       "rf                1.408385  \n",
       "xgb               1.168250  \n",
       "krr               3.599431  \n",
       "gp                1.303139  \n",
       "gpflow                 NaN  "
      ]
     },
     "execution_count": 508,
     "metadata": {},
     "output_type": "execute_result"
    }
   ],
   "source": [
    "combined_val_metric"
   ]
  },
  {
   "cell_type": "markdown",
   "metadata": {
    "colab": {},
    "colab_type": "code",
    "id": "1uu77bH6X2XW",
    "outputId": "807ebb25-f485-4528-bf31-b4e895e8b224"
   },
   "source": [
    "### Scikit-Learn best"
   ]
  },
  {
   "cell_type": "code",
   "execution_count": 509,
   "metadata": {},
   "outputs": [
    {
     "name": "stdout",
     "output_type": "stream",
     "text": [
      "xgb RDKit 1.0197499396886374 0.14643975559197284\n",
      "\n",
      "gp 2048ecfp-6 + RDKit 1.3031390835658205 0.05476284898469423\n",
      "\n",
      "rf RDKit 1.318467606379582 0.21778253843920686\n",
      "\n",
      "krr RDKit 1.880827564898648 0.21450324002086973\n",
      "\n"
     ]
    }
   ],
   "source": [
    "best = []\n",
    "for model in val_metric.min(axis=1).sort_values().index:\n",
    "    # get the feature set for which \n",
    "    features = list(val_metric.loc[model, val_metric.loc[model] == val_metric.loc[model].min()].index)[0]\n",
    "    best.append([model, features, mean_val_scores[features][model][f'test_{metric}'], std_val_scores[features][model][f'test_{metric}']])\n",
    "    print(model, features, mean_val_scores[features][model][f'test_{metric}'], std_val_scores[features][model][f'test_{metric}'])\n",
    "    print()"
   ]
  },
  {
   "cell_type": "code",
   "execution_count": 510,
   "metadata": {},
   "outputs": [
    {
     "data": {
      "text/html": [
       "<div>\n",
       "<style scoped>\n",
       "    .dataframe tbody tr th:only-of-type {\n",
       "        vertical-align: middle;\n",
       "    }\n",
       "\n",
       "    .dataframe tbody tr th {\n",
       "        vertical-align: top;\n",
       "    }\n",
       "\n",
       "    .dataframe thead th {\n",
       "        text-align: right;\n",
       "    }\n",
       "</style>\n",
       "<table border=\"1\" class=\"dataframe\">\n",
       "  <thead>\n",
       "    <tr style=\"text-align: right;\">\n",
       "      <th></th>\n",
       "      <th>0</th>\n",
       "      <th>1</th>\n",
       "      <th>2</th>\n",
       "      <th>3</th>\n",
       "    </tr>\n",
       "  </thead>\n",
       "  <tbody>\n",
       "    <tr>\n",
       "      <th>0</th>\n",
       "      <td>xgb</td>\n",
       "      <td>RDKit</td>\n",
       "      <td>1.019750</td>\n",
       "      <td>0.146440</td>\n",
       "    </tr>\n",
       "    <tr>\n",
       "      <th>1</th>\n",
       "      <td>gp</td>\n",
       "      <td>2048ecfp-6 + RDKit</td>\n",
       "      <td>1.303139</td>\n",
       "      <td>0.054763</td>\n",
       "    </tr>\n",
       "    <tr>\n",
       "      <th>2</th>\n",
       "      <td>rf</td>\n",
       "      <td>RDKit</td>\n",
       "      <td>1.318468</td>\n",
       "      <td>0.217783</td>\n",
       "    </tr>\n",
       "    <tr>\n",
       "      <th>3</th>\n",
       "      <td>krr</td>\n",
       "      <td>RDKit</td>\n",
       "      <td>1.880828</td>\n",
       "      <td>0.214503</td>\n",
       "    </tr>\n",
       "  </tbody>\n",
       "</table>\n",
       "</div>"
      ],
      "text/plain": [
       "     0                   1         2         3\n",
       "0  xgb               RDKit  1.019750  0.146440\n",
       "1   gp  2048ecfp-6 + RDKit  1.303139  0.054763\n",
       "2   rf               RDKit  1.318468  0.217783\n",
       "3  krr               RDKit  1.880828  0.214503"
      ]
     },
     "execution_count": 510,
     "metadata": {},
     "output_type": "execute_result"
    }
   ],
   "source": [
    "pd.DataFrame(best)"
   ]
  },
  {
   "cell_type": "code",
   "execution_count": 511,
   "metadata": {},
   "outputs": [
    {
     "data": {
      "text/plain": [
       "'freesolv'"
      ]
     },
     "execution_count": 511,
     "metadata": {},
     "output_type": "execute_result"
    }
   ],
   "source": [
    "dataset"
   ]
  },
  {
   "cell_type": "markdown",
   "metadata": {},
   "source": [
    "### Combined"
   ]
  },
  {
   "cell_type": "code",
   "execution_count": 514,
   "metadata": {},
   "outputs": [
    {
     "name": "stdout",
     "output_type": "stream",
     "text": [
      "xgb RDKit 1.0197499396886374 0.14643975559197284\n",
      "\n",
      "gp 2048ecfp-6 + RDKit 1.3031390835658205 0.05476284898469423\n",
      "\n",
      "rf RDKit 1.318467606379582 0.21778253843920686\n",
      "\n",
      "gpflow 2048ecfp-4 1.7573584553531052 0.5795976250391914\n",
      "\n",
      "krr RDKit 1.880827564898648 0.21450324002086973\n",
      "\n"
     ]
    }
   ],
   "source": [
    "best = []\n",
    "for model in combined_val_metric.min(axis=1).sort_values().index:\n",
    "    # get the feature set for which \n",
    "    features = list(combined_val_metric.loc[model, combined_val_metric.loc[model] == combined_val_metric.loc[model].min()].index)[0]\n",
    "    \n",
    "    if model != 'gpflow':\n",
    "        best.append([model, features, mean_val_scores[features][model][f'test_{metric}'], std_val_scores[features][model][f'test_{metric}']])\n",
    "        print(model, features, mean_val_scores[features][model][f'test_{metric}'], std_val_scores[features][model][f'test_{metric}'])\n",
    "    else:\n",
    "        pass\n",
    "        best.append([model, features, gpflow_mean_val_scores[features][f'test_{metric}'], gpflow_std_val_scores[features][f'test_{metric}']])\n",
    "        print(model, features, gpflow_mean_val_scores[features][f'test_{metric}'], gpflow_std_val_scores[features][f'test_{metric}'])\n",
    "    print()"
   ]
  },
  {
   "cell_type": "code",
   "execution_count": 527,
   "metadata": {},
   "outputs": [
    {
     "data": {
      "text/plain": [
       "('freesolv', 'original', 'extended', 'full')"
      ]
     },
     "execution_count": 527,
     "metadata": {},
     "output_type": "execute_result"
    }
   ],
   "source": [
    "dataset, smile_type, grid_search_type, cf"
   ]
  },
  {
   "cell_type": "code",
   "execution_count": 528,
   "metadata": {},
   "outputs": [
    {
     "data": {
      "text/html": [
       "<div>\n",
       "<style scoped>\n",
       "    .dataframe tbody tr th:only-of-type {\n",
       "        vertical-align: middle;\n",
       "    }\n",
       "\n",
       "    .dataframe tbody tr th {\n",
       "        vertical-align: top;\n",
       "    }\n",
       "\n",
       "    .dataframe thead th {\n",
       "        text-align: right;\n",
       "    }\n",
       "</style>\n",
       "<table border=\"1\" class=\"dataframe\">\n",
       "  <thead>\n",
       "    <tr style=\"text-align: right;\">\n",
       "      <th></th>\n",
       "      <th>0</th>\n",
       "      <th>1</th>\n",
       "      <th>2</th>\n",
       "      <th>3</th>\n",
       "    </tr>\n",
       "  </thead>\n",
       "  <tbody>\n",
       "    <tr>\n",
       "      <th>0</th>\n",
       "      <td>xgb</td>\n",
       "      <td>RDKit</td>\n",
       "      <td>0.919144</td>\n",
       "      <td>0.194983</td>\n",
       "    </tr>\n",
       "    <tr>\n",
       "      <th>1</th>\n",
       "      <td>rf</td>\n",
       "      <td>RDKit</td>\n",
       "      <td>1.119663</td>\n",
       "      <td>0.116559</td>\n",
       "    </tr>\n",
       "    <tr>\n",
       "      <th>2</th>\n",
       "      <td>gp</td>\n",
       "      <td>1024ecfp-6 + RDKit</td>\n",
       "      <td>1.277199</td>\n",
       "      <td>0.162655</td>\n",
       "    </tr>\n",
       "    <tr>\n",
       "      <th>3</th>\n",
       "      <td>krr</td>\n",
       "      <td>RDKit</td>\n",
       "      <td>1.903378</td>\n",
       "      <td>0.347493</td>\n",
       "    </tr>\n",
       "    <tr>\n",
       "      <th>4</th>\n",
       "      <td>gpflow</td>\n",
       "      <td>2048ecfp-4</td>\n",
       "      <td>2.022483</td>\n",
       "      <td>0.272678</td>\n",
       "    </tr>\n",
       "  </tbody>\n",
       "</table>\n",
       "</div>"
      ],
      "text/plain": [
       "        0                   1         2         3\n",
       "0     xgb               RDKit  0.919144  0.194983\n",
       "1      rf               RDKit  1.119663  0.116559\n",
       "2      gp  1024ecfp-6 + RDKit  1.277199  0.162655\n",
       "3     krr               RDKit  1.903378  0.347493\n",
       "4  gpflow          2048ecfp-4  2.022483  0.272678"
      ]
     },
     "execution_count": 528,
     "metadata": {},
     "output_type": "execute_result"
    }
   ],
   "source": [
    "pd.DataFrame(best)"
   ]
  },
  {
   "cell_type": "markdown",
   "metadata": {
    "colab_type": "text",
    "id": "fUJDK2qLAQVP"
   },
   "source": [
    "## Test metric"
   ]
  },
  {
   "cell_type": "markdown",
   "metadata": {},
   "source": [
    "### Scikit-Learn"
   ]
  },
  {
   "cell_type": "code",
   "execution_count": 529,
   "metadata": {
    "colab": {},
    "colab_type": "code",
    "id": "1Npsyrn0ObYV",
    "outputId": "692f88c5-1e1f-4424-979a-8db0907141ad"
   },
   "outputs": [
    {
     "name": "stdout",
     "output_type": "stream",
     "text": [
      "RMSE : root-mean-square error , unit: (kcal/mol)\n"
     ]
    },
    {
     "data": {
      "text/html": [
       "<div>\n",
       "<style scoped>\n",
       "    .dataframe tbody tr th:only-of-type {\n",
       "        vertical-align: middle;\n",
       "    }\n",
       "\n",
       "    .dataframe tbody tr th {\n",
       "        vertical-align: top;\n",
       "    }\n",
       "\n",
       "    .dataframe thead th {\n",
       "        text-align: right;\n",
       "    }\n",
       "</style>\n",
       "<table border=\"1\" class=\"dataframe\">\n",
       "  <thead>\n",
       "    <tr style=\"text-align: right;\">\n",
       "      <th></th>\n",
       "      <th>RDKit</th>\n",
       "      <th>1024ecfp-4</th>\n",
       "      <th>1024ecfp-6</th>\n",
       "      <th>2048ecfp-4</th>\n",
       "      <th>2048ecfp-6</th>\n",
       "      <th>1024ecfp-4 + RDKit</th>\n",
       "      <th>1024ecfp-6 + RDKit</th>\n",
       "      <th>2048ecfp-4 + RDKit</th>\n",
       "      <th>2048ecfp-6 + RDKit</th>\n",
       "    </tr>\n",
       "  </thead>\n",
       "  <tbody>\n",
       "    <tr>\n",
       "      <th>rf</th>\n",
       "      <td>1.12</td>\n",
       "      <td>2.38</td>\n",
       "      <td>2.39</td>\n",
       "      <td>2.40</td>\n",
       "      <td>2.39</td>\n",
       "      <td>1.16</td>\n",
       "      <td>1.18</td>\n",
       "      <td>1.17</td>\n",
       "      <td>1.17</td>\n",
       "    </tr>\n",
       "    <tr>\n",
       "      <th>xgb</th>\n",
       "      <td>0.92</td>\n",
       "      <td>2.08</td>\n",
       "      <td>2.04</td>\n",
       "      <td>1.89</td>\n",
       "      <td>2.16</td>\n",
       "      <td>0.97</td>\n",
       "      <td>1.08</td>\n",
       "      <td>1.07</td>\n",
       "      <td>1.12</td>\n",
       "    </tr>\n",
       "    <tr>\n",
       "      <th>krr</th>\n",
       "      <td>1.90</td>\n",
       "      <td>3.35</td>\n",
       "      <td>3.90</td>\n",
       "      <td>3.22</td>\n",
       "      <td>3.90</td>\n",
       "      <td>2.63</td>\n",
       "      <td>3.29</td>\n",
       "      <td>2.38</td>\n",
       "      <td>3.31</td>\n",
       "    </tr>\n",
       "    <tr>\n",
       "      <th>gp</th>\n",
       "      <td>1.59</td>\n",
       "      <td>3.85</td>\n",
       "      <td>3.30</td>\n",
       "      <td>2.55</td>\n",
       "      <td>2.34</td>\n",
       "      <td>2.13</td>\n",
       "      <td>1.28</td>\n",
       "      <td>1.94</td>\n",
       "      <td>1.35</td>\n",
       "    </tr>\n",
       "  </tbody>\n",
       "</table>\n",
       "</div>"
      ],
      "text/plain": [
       "     RDKit  1024ecfp-4  1024ecfp-6  2048ecfp-4  2048ecfp-6  \\\n",
       "rf    1.12        2.38        2.39        2.40        2.39   \n",
       "xgb   0.92        2.08        2.04        1.89        2.16   \n",
       "krr   1.90        3.35        3.90        3.22        3.90   \n",
       "gp    1.59        3.85        3.30        2.55        2.34   \n",
       "\n",
       "     1024ecfp-4 + RDKit  1024ecfp-6 + RDKit  2048ecfp-4 + RDKit  \\\n",
       "rf                 1.16                1.18                1.17   \n",
       "xgb                0.97                1.08                1.07   \n",
       "krr                2.63                3.29                2.38   \n",
       "gp                 2.13                1.28                1.94   \n",
       "\n",
       "     2048ecfp-6 + RDKit  \n",
       "rf                 1.17  \n",
       "xgb                1.12  \n",
       "krr                3.31  \n",
       "gp                 1.35  "
      ]
     },
     "execution_count": 529,
     "metadata": {},
     "output_type": "execute_result"
    }
   ],
   "source": [
    "## pull out validation scores for all features for all models (validation set is a test set when working on train/val split )\n",
    "test_metric = pd.DataFrame({features: {model: mean_train_test_scores[features][model][f'test_{metric}'] for model in mean_train_test_scores[features]} for features in mean_train_test_scores})\n",
    "\n",
    "print(metric, ':',metrics_to_labels[metric], ', unit:', datasets_to_units[dataset])\n",
    "test_metric.round(2)"
   ]
  },
  {
   "cell_type": "markdown",
   "metadata": {},
   "source": [
    "### GPflow"
   ]
  },
  {
   "cell_type": "code",
   "execution_count": 530,
   "metadata": {},
   "outputs": [
    {
     "name": "stdout",
     "output_type": "stream",
     "text": [
      "RMSE : root-mean-square error , unit: (kcal/mol)\n"
     ]
    },
    {
     "data": {
      "text/html": [
       "<div>\n",
       "<style scoped>\n",
       "    .dataframe tbody tr th:only-of-type {\n",
       "        vertical-align: middle;\n",
       "    }\n",
       "\n",
       "    .dataframe tbody tr th {\n",
       "        vertical-align: top;\n",
       "    }\n",
       "\n",
       "    .dataframe thead th {\n",
       "        text-align: right;\n",
       "    }\n",
       "</style>\n",
       "<table border=\"1\" class=\"dataframe\">\n",
       "  <thead>\n",
       "    <tr style=\"text-align: right;\">\n",
       "      <th></th>\n",
       "      <th>RDKit</th>\n",
       "      <th>1024ecfp-4</th>\n",
       "      <th>1024ecfp-6</th>\n",
       "      <th>2048ecfp-4</th>\n",
       "      <th>2048ecfp-6</th>\n",
       "      <th>1024ecfp-4 + RDKit</th>\n",
       "      <th>1024ecfp-6 + RDKit</th>\n",
       "      <th>2048ecfp-4 + RDKit</th>\n",
       "      <th>2048ecfp-6 + RDKit</th>\n",
       "    </tr>\n",
       "  </thead>\n",
       "  <tbody>\n",
       "    <tr>\n",
       "      <th>gpflow</th>\n",
       "      <td>None</td>\n",
       "      <td>2.06</td>\n",
       "      <td>2.18</td>\n",
       "      <td>2.02</td>\n",
       "      <td>2.13</td>\n",
       "      <td>None</td>\n",
       "      <td>None</td>\n",
       "      <td>None</td>\n",
       "      <td>None</td>\n",
       "    </tr>\n",
       "  </tbody>\n",
       "</table>\n",
       "</div>"
      ],
      "text/plain": [
       "       RDKit  1024ecfp-4  1024ecfp-6  2048ecfp-4  2048ecfp-6  \\\n",
       "gpflow  None        2.06        2.18        2.02        2.13   \n",
       "\n",
       "       1024ecfp-4 + RDKit 1024ecfp-6 + RDKit 2048ecfp-4 + RDKit  \\\n",
       "gpflow               None               None               None   \n",
       "\n",
       "       2048ecfp-6 + RDKit  \n",
       "gpflow               None  "
      ]
     },
     "execution_count": 530,
     "metadata": {},
     "output_type": "execute_result"
    }
   ],
   "source": [
    "gpflow_test_metric = {features: {'gpflow': gpflow_mean_train_test_scores[features][f'test_{metric}']} for features in gpflow_mean_train_test_scores}\n",
    "for features in test_metric:\n",
    "    if features not in gpflow_test_metric:\n",
    "        gpflow_test_metric[features] = {}\n",
    "        gpflow_test_metric[features]['gpflow'] = None\n",
    "gpflow_test_metric = pd.DataFrame(gpflow_test_metric)[test_metric.columns]\n",
    "\n",
    "print(metric, ':',metrics_to_labels[metric], ', unit:', datasets_to_units[dataset])\n",
    "gpflow_test_metric.round(2)"
   ]
  },
  {
   "cell_type": "markdown",
   "metadata": {},
   "source": [
    "### Combined"
   ]
  },
  {
   "cell_type": "code",
   "execution_count": 531,
   "metadata": {},
   "outputs": [
    {
     "data": {
      "text/html": [
       "<div>\n",
       "<style scoped>\n",
       "    .dataframe tbody tr th:only-of-type {\n",
       "        vertical-align: middle;\n",
       "    }\n",
       "\n",
       "    .dataframe tbody tr th {\n",
       "        vertical-align: top;\n",
       "    }\n",
       "\n",
       "    .dataframe thead th {\n",
       "        text-align: right;\n",
       "    }\n",
       "</style>\n",
       "<table border=\"1\" class=\"dataframe\">\n",
       "  <thead>\n",
       "    <tr style=\"text-align: right;\">\n",
       "      <th></th>\n",
       "      <th>RDKit</th>\n",
       "      <th>1024ecfp-4</th>\n",
       "      <th>1024ecfp-6</th>\n",
       "      <th>2048ecfp-4</th>\n",
       "      <th>2048ecfp-6</th>\n",
       "      <th>1024ecfp-4 + RDKit</th>\n",
       "      <th>1024ecfp-6 + RDKit</th>\n",
       "      <th>2048ecfp-4 + RDKit</th>\n",
       "      <th>2048ecfp-6 + RDKit</th>\n",
       "    </tr>\n",
       "  </thead>\n",
       "  <tbody>\n",
       "    <tr>\n",
       "      <th>rf</th>\n",
       "      <td>1.12</td>\n",
       "      <td>2.38</td>\n",
       "      <td>2.39</td>\n",
       "      <td>2.40</td>\n",
       "      <td>2.39</td>\n",
       "      <td>1.16</td>\n",
       "      <td>1.18</td>\n",
       "      <td>1.17</td>\n",
       "      <td>1.17</td>\n",
       "    </tr>\n",
       "    <tr>\n",
       "      <th>xgb</th>\n",
       "      <td>0.92</td>\n",
       "      <td>2.08</td>\n",
       "      <td>2.04</td>\n",
       "      <td>1.89</td>\n",
       "      <td>2.16</td>\n",
       "      <td>0.97</td>\n",
       "      <td>1.08</td>\n",
       "      <td>1.07</td>\n",
       "      <td>1.12</td>\n",
       "    </tr>\n",
       "    <tr>\n",
       "      <th>krr</th>\n",
       "      <td>1.90</td>\n",
       "      <td>3.35</td>\n",
       "      <td>3.90</td>\n",
       "      <td>3.22</td>\n",
       "      <td>3.90</td>\n",
       "      <td>2.63</td>\n",
       "      <td>3.29</td>\n",
       "      <td>2.38</td>\n",
       "      <td>3.31</td>\n",
       "    </tr>\n",
       "    <tr>\n",
       "      <th>gp</th>\n",
       "      <td>1.59</td>\n",
       "      <td>3.85</td>\n",
       "      <td>3.30</td>\n",
       "      <td>2.55</td>\n",
       "      <td>2.34</td>\n",
       "      <td>2.13</td>\n",
       "      <td>1.28</td>\n",
       "      <td>1.94</td>\n",
       "      <td>1.35</td>\n",
       "    </tr>\n",
       "    <tr>\n",
       "      <th>gpflow</th>\n",
       "      <td>NaN</td>\n",
       "      <td>2.06</td>\n",
       "      <td>2.18</td>\n",
       "      <td>2.02</td>\n",
       "      <td>2.13</td>\n",
       "      <td>NaN</td>\n",
       "      <td>NaN</td>\n",
       "      <td>NaN</td>\n",
       "      <td>NaN</td>\n",
       "    </tr>\n",
       "  </tbody>\n",
       "</table>\n",
       "</div>"
      ],
      "text/plain": [
       "        RDKit  1024ecfp-4  1024ecfp-6  2048ecfp-4  2048ecfp-6  \\\n",
       "rf       1.12        2.38        2.39        2.40        2.39   \n",
       "xgb      0.92        2.08        2.04        1.89        2.16   \n",
       "krr      1.90        3.35        3.90        3.22        3.90   \n",
       "gp       1.59        3.85        3.30        2.55        2.34   \n",
       "gpflow    NaN        2.06        2.18        2.02        2.13   \n",
       "\n",
       "        1024ecfp-4 + RDKit  1024ecfp-6 + RDKit  2048ecfp-4 + RDKit  \\\n",
       "rf                    1.16                1.18                1.17   \n",
       "xgb                   0.97                1.08                1.07   \n",
       "krr                   2.63                3.29                2.38   \n",
       "gp                    2.13                1.28                1.94   \n",
       "gpflow                 NaN                 NaN                 NaN   \n",
       "\n",
       "        2048ecfp-6 + RDKit  \n",
       "rf                    1.17  \n",
       "xgb                   1.12  \n",
       "krr                   3.31  \n",
       "gp                    1.35  \n",
       "gpflow                 NaN  "
      ]
     },
     "execution_count": 531,
     "metadata": {},
     "output_type": "execute_result"
    }
   ],
   "source": [
    "combined_test_metric = pd.concat([test_metric, gpflow_test_metric])\n",
    "combined_test_metric.round(2)"
   ]
  },
  {
   "cell_type": "code",
   "execution_count": null,
   "metadata": {},
   "outputs": [],
   "source": []
  },
  {
   "cell_type": "markdown",
   "metadata": {},
   "source": [
    "### Heatmap"
   ]
  },
  {
   "cell_type": "code",
   "execution_count": 532,
   "metadata": {
    "colab": {},
    "colab_type": "code",
    "id": "xLiKrnQAObYY",
    "outputId": "ae3f0a3d-6df0-4473-daef-07fdb6ddbc1c"
   },
   "outputs": [
    {
     "data": {
      "image/png": "[encoded data removed]",
      "text/plain": [
       "<Figure size 576x432 with 2 Axes>"
      ]
     },
     "metadata": {
      "needs_background": "light"
     },
     "output_type": "display_data"
    }
   ],
   "source": [
    "df = combined_test_metric.round(2)\n",
    "df = df.rename(mapper=mapper, axis='rows')\n",
    "df = df.loc[row_order, column_order]\n",
    "\n",
    "plot_algorithm_dataset_comparison_heatmap(df, dataset=dataset, metric=metric)\n",
    "\n",
    "# fig.savefig(f'{PLOTS_DIR}/algorithm_comparison.jpg', dpi=350, bbox_inches='tight')\n",
    "plt.show()"
   ]
  },
  {
   "cell_type": "code",
   "execution_count": 533,
   "metadata": {},
   "outputs": [
    {
     "data": {
      "text/html": [
       "<div>\n",
       "<style scoped>\n",
       "    .dataframe tbody tr th:only-of-type {\n",
       "        vertical-align: middle;\n",
       "    }\n",
       "\n",
       "    .dataframe tbody tr th {\n",
       "        vertical-align: top;\n",
       "    }\n",
       "\n",
       "    .dataframe thead th {\n",
       "        text-align: right;\n",
       "    }\n",
       "</style>\n",
       "<table border=\"1\" class=\"dataframe\">\n",
       "  <thead>\n",
       "    <tr style=\"text-align: right;\">\n",
       "      <th></th>\n",
       "      <th>RDKit</th>\n",
       "      <th>1024ecfp-4</th>\n",
       "      <th>1024ecfp-6</th>\n",
       "      <th>2048ecfp-4</th>\n",
       "      <th>2048ecfp-6</th>\n",
       "      <th>1024ecfp-4 + RDKit</th>\n",
       "      <th>1024ecfp-6 + RDKit</th>\n",
       "      <th>2048ecfp-4 + RDKit</th>\n",
       "      <th>2048ecfp-6 + RDKit</th>\n",
       "    </tr>\n",
       "  </thead>\n",
       "  <tbody>\n",
       "    <tr>\n",
       "      <th>rf</th>\n",
       "      <td>1.119663</td>\n",
       "      <td>2.384055</td>\n",
       "      <td>2.393512</td>\n",
       "      <td>2.399871</td>\n",
       "      <td>2.393578</td>\n",
       "      <td>1.155087</td>\n",
       "      <td>1.183817</td>\n",
       "      <td>1.167815</td>\n",
       "      <td>1.174998</td>\n",
       "    </tr>\n",
       "    <tr>\n",
       "      <th>xgb</th>\n",
       "      <td>0.919144</td>\n",
       "      <td>2.081193</td>\n",
       "      <td>2.043461</td>\n",
       "      <td>1.894925</td>\n",
       "      <td>2.161108</td>\n",
       "      <td>0.965062</td>\n",
       "      <td>1.076466</td>\n",
       "      <td>1.074082</td>\n",
       "      <td>1.121155</td>\n",
       "    </tr>\n",
       "    <tr>\n",
       "      <th>krr</th>\n",
       "      <td>1.903378</td>\n",
       "      <td>3.347656</td>\n",
       "      <td>3.900644</td>\n",
       "      <td>3.221569</td>\n",
       "      <td>3.902393</td>\n",
       "      <td>2.627741</td>\n",
       "      <td>3.290779</td>\n",
       "      <td>2.380338</td>\n",
       "      <td>3.310282</td>\n",
       "    </tr>\n",
       "    <tr>\n",
       "      <th>gp</th>\n",
       "      <td>1.585225</td>\n",
       "      <td>3.852336</td>\n",
       "      <td>3.299073</td>\n",
       "      <td>2.553735</td>\n",
       "      <td>2.343223</td>\n",
       "      <td>2.127922</td>\n",
       "      <td>1.277199</td>\n",
       "      <td>1.940991</td>\n",
       "      <td>1.351948</td>\n",
       "    </tr>\n",
       "    <tr>\n",
       "      <th>gpflow</th>\n",
       "      <td>NaN</td>\n",
       "      <td>2.064607</td>\n",
       "      <td>2.182774</td>\n",
       "      <td>2.022483</td>\n",
       "      <td>2.126875</td>\n",
       "      <td>NaN</td>\n",
       "      <td>NaN</td>\n",
       "      <td>NaN</td>\n",
       "      <td>NaN</td>\n",
       "    </tr>\n",
       "  </tbody>\n",
       "</table>\n",
       "</div>"
      ],
      "text/plain": [
       "           RDKit  1024ecfp-4  1024ecfp-6  2048ecfp-4  2048ecfp-6  \\\n",
       "rf      1.119663    2.384055    2.393512    2.399871    2.393578   \n",
       "xgb     0.919144    2.081193    2.043461    1.894925    2.161108   \n",
       "krr     1.903378    3.347656    3.900644    3.221569    3.902393   \n",
       "gp      1.585225    3.852336    3.299073    2.553735    2.343223   \n",
       "gpflow       NaN    2.064607    2.182774    2.022483    2.126875   \n",
       "\n",
       "        1024ecfp-4 + RDKit  1024ecfp-6 + RDKit  2048ecfp-4 + RDKit  \\\n",
       "rf                1.155087            1.183817            1.167815   \n",
       "xgb               0.965062            1.076466            1.074082   \n",
       "krr               2.627741            3.290779            2.380338   \n",
       "gp                2.127922            1.277199            1.940991   \n",
       "gpflow                 NaN                 NaN                 NaN   \n",
       "\n",
       "        2048ecfp-6 + RDKit  \n",
       "rf                1.174998  \n",
       "xgb               1.121155  \n",
       "krr               3.310282  \n",
       "gp                1.351948  \n",
       "gpflow                 NaN  "
      ]
     },
     "execution_count": 533,
     "metadata": {},
     "output_type": "execute_result"
    }
   ],
   "source": [
    "combined_test_metric"
   ]
  },
  {
   "cell_type": "markdown",
   "metadata": {},
   "source": [
    "## Best feature set for each model"
   ]
  },
  {
   "cell_type": "markdown",
   "metadata": {
    "colab": {},
    "colab_type": "code",
    "id": "1uu77bH6X2XW",
    "outputId": "807ebb25-f485-4528-bf31-b4e895e8b224"
   },
   "source": [
    "### Scikit-Learn"
   ]
  },
  {
   "cell_type": "code",
   "execution_count": 534,
   "metadata": {},
   "outputs": [
    {
     "name": "stdout",
     "output_type": "stream",
     "text": [
      "xgb RDKit 0.9191437566741985 0.19498280738151097\n",
      "\n",
      "rf RDKit 1.1196631080934496 0.11655862773197274\n",
      "\n",
      "gp 1024ecfp-6 + RDKit 1.2771985552000977 0.1626546119438704\n",
      "\n",
      "krr RDKit 1.9033775061765021 0.3474933671604229\n",
      "\n"
     ]
    }
   ],
   "source": [
    "best = []\n",
    "for model in test_metric.min(axis=1).sort_values().index:\n",
    "    # get the feature set for which \n",
    "    features = list(test_metric.loc[model, test_metric.loc[model] == test_metric.loc[model].min()].index)[0]\n",
    "    best.append([model, features, mean_train_test_scores[features][model][f'test_{metric}'], std_train_test_scores[features][model][f'test_{metric}']])\n",
    "    print(model, features, mean_train_test_scores[features][model][f'test_{metric}'], std_train_test_scores[features][model][f'test_{metric}'])\n",
    "    print()"
   ]
  },
  {
   "cell_type": "code",
   "execution_count": 535,
   "metadata": {},
   "outputs": [
    {
     "data": {
      "text/html": [
       "<div>\n",
       "<style scoped>\n",
       "    .dataframe tbody tr th:only-of-type {\n",
       "        vertical-align: middle;\n",
       "    }\n",
       "\n",
       "    .dataframe tbody tr th {\n",
       "        vertical-align: top;\n",
       "    }\n",
       "\n",
       "    .dataframe thead th {\n",
       "        text-align: right;\n",
       "    }\n",
       "</style>\n",
       "<table border=\"1\" class=\"dataframe\">\n",
       "  <thead>\n",
       "    <tr style=\"text-align: right;\">\n",
       "      <th></th>\n",
       "      <th>0</th>\n",
       "      <th>1</th>\n",
       "      <th>2</th>\n",
       "      <th>3</th>\n",
       "    </tr>\n",
       "  </thead>\n",
       "  <tbody>\n",
       "    <tr>\n",
       "      <th>0</th>\n",
       "      <td>xgb</td>\n",
       "      <td>RDKit</td>\n",
       "      <td>0.919144</td>\n",
       "      <td>0.194983</td>\n",
       "    </tr>\n",
       "    <tr>\n",
       "      <th>1</th>\n",
       "      <td>rf</td>\n",
       "      <td>RDKit</td>\n",
       "      <td>1.119663</td>\n",
       "      <td>0.116559</td>\n",
       "    </tr>\n",
       "    <tr>\n",
       "      <th>2</th>\n",
       "      <td>gp</td>\n",
       "      <td>1024ecfp-6 + RDKit</td>\n",
       "      <td>1.277199</td>\n",
       "      <td>0.162655</td>\n",
       "    </tr>\n",
       "    <tr>\n",
       "      <th>3</th>\n",
       "      <td>krr</td>\n",
       "      <td>RDKit</td>\n",
       "      <td>1.903378</td>\n",
       "      <td>0.347493</td>\n",
       "    </tr>\n",
       "  </tbody>\n",
       "</table>\n",
       "</div>"
      ],
      "text/plain": [
       "     0                   1         2         3\n",
       "0  xgb               RDKit  0.919144  0.194983\n",
       "1   rf               RDKit  1.119663  0.116559\n",
       "2   gp  1024ecfp-6 + RDKit  1.277199  0.162655\n",
       "3  krr               RDKit  1.903378  0.347493"
      ]
     },
     "execution_count": 535,
     "metadata": {},
     "output_type": "execute_result"
    }
   ],
   "source": [
    "pd.DataFrame(best)"
   ]
  },
  {
   "cell_type": "markdown",
   "metadata": {},
   "source": [
    "### Combined best"
   ]
  },
  {
   "cell_type": "code",
   "execution_count": 538,
   "metadata": {},
   "outputs": [
    {
     "name": "stdout",
     "output_type": "stream",
     "text": [
      "xgb RDKit 0.9191437566741985 0.19498280738151097\n",
      "\n",
      "rf RDKit 1.1196631080934496 0.11655862773197274\n",
      "\n",
      "gp 1024ecfp-6 + RDKit 1.2771985552000977 0.1626546119438704\n",
      "\n",
      "krr RDKit 1.9033775061765021 0.3474933671604229\n",
      "\n",
      "gpflow 2048ecfp-4 2.022482892234754 0.27267796309810544\n",
      "\n"
     ]
    }
   ],
   "source": [
    "best = []\n",
    "for model in combined_test_metric.min(axis=1).sort_values().index:\n",
    "    # get the feature set for which \n",
    "    features = list(combined_test_metric.loc[model, combined_test_metric.loc[model] == combined_test_metric.loc[model].min()].index)[0]\n",
    "    \n",
    "    if model != 'gpflow':\n",
    "        best.append([model, features, mean_train_test_scores[features][model][f'test_{metric}'], std_train_test_scores[features][model][f'test_{metric}']])\n",
    "        print(model, features, mean_train_test_scores[features][model][f'test_{metric}'], std_train_test_scores[features][model][f'test_{metric}'])\n",
    "    else:\n",
    "        pass\n",
    "        best.append([model, features, gpflow_mean_train_test_scores[features][f'test_{metric}'], gpflow_std_train_test_scores[features][f'test_{metric}']])\n",
    "        print(model, features, gpflow_mean_train_test_scores[features][f'test_{metric}'], gpflow_std_train_test_scores[features][f'test_{metric}'])\n",
    "    print()"
   ]
  },
  {
   "cell_type": "code",
   "execution_count": 539,
   "metadata": {},
   "outputs": [
    {
     "data": {
      "text/plain": [
       "('freesolv', 'original', 'extended', 'full')"
      ]
     },
     "execution_count": 539,
     "metadata": {},
     "output_type": "execute_result"
    }
   ],
   "source": [
    "dataset, smile_type, grid_search_type, cf"
   ]
  },
  {
   "cell_type": "code",
   "execution_count": 537,
   "metadata": {},
   "outputs": [
    {
     "data": {
      "text/html": [
       "<div>\n",
       "<style scoped>\n",
       "    .dataframe tbody tr th:only-of-type {\n",
       "        vertical-align: middle;\n",
       "    }\n",
       "\n",
       "    .dataframe tbody tr th {\n",
       "        vertical-align: top;\n",
       "    }\n",
       "\n",
       "    .dataframe thead th {\n",
       "        text-align: right;\n",
       "    }\n",
       "</style>\n",
       "<table border=\"1\" class=\"dataframe\">\n",
       "  <thead>\n",
       "    <tr style=\"text-align: right;\">\n",
       "      <th></th>\n",
       "      <th>0</th>\n",
       "      <th>1</th>\n",
       "      <th>2</th>\n",
       "      <th>3</th>\n",
       "    </tr>\n",
       "  </thead>\n",
       "  <tbody>\n",
       "    <tr>\n",
       "      <th>0</th>\n",
       "      <td>xgb</td>\n",
       "      <td>RDKit</td>\n",
       "      <td>0.919144</td>\n",
       "      <td>0.194983</td>\n",
       "    </tr>\n",
       "    <tr>\n",
       "      <th>1</th>\n",
       "      <td>rf</td>\n",
       "      <td>RDKit</td>\n",
       "      <td>1.119663</td>\n",
       "      <td>0.116559</td>\n",
       "    </tr>\n",
       "    <tr>\n",
       "      <th>2</th>\n",
       "      <td>gp</td>\n",
       "      <td>1024ecfp-6 + RDKit</td>\n",
       "      <td>1.277199</td>\n",
       "      <td>0.162655</td>\n",
       "    </tr>\n",
       "    <tr>\n",
       "      <th>3</th>\n",
       "      <td>krr</td>\n",
       "      <td>RDKit</td>\n",
       "      <td>1.903378</td>\n",
       "      <td>0.347493</td>\n",
       "    </tr>\n",
       "    <tr>\n",
       "      <th>4</th>\n",
       "      <td>gpflow</td>\n",
       "      <td>2048ecfp-4</td>\n",
       "      <td>2.022483</td>\n",
       "      <td>0.272678</td>\n",
       "    </tr>\n",
       "  </tbody>\n",
       "</table>\n",
       "</div>"
      ],
      "text/plain": [
       "        0                   1         2         3\n",
       "0     xgb               RDKit  0.919144  0.194983\n",
       "1      rf               RDKit  1.119663  0.116559\n",
       "2      gp  1024ecfp-6 + RDKit  1.277199  0.162655\n",
       "3     krr               RDKit  1.903378  0.347493\n",
       "4  gpflow          2048ecfp-4  2.022483  0.272678"
      ]
     },
     "execution_count": 537,
     "metadata": {},
     "output_type": "execute_result"
    }
   ],
   "source": [
    "pd.DataFrame(best)"
   ]
  },
  {
   "cell_type": "code",
   "execution_count": null,
   "metadata": {},
   "outputs": [],
   "source": []
  },
  {
   "cell_type": "code",
   "execution_count": null,
   "metadata": {},
   "outputs": [],
   "source": []
  },
  {
   "cell_type": "markdown",
   "metadata": {
    "colab": {},
    "colab_type": "code",
    "id": "9OFPhzLsObYb"
   },
   "source": [
    "# Creating a table with all the scores (only makes sence for reproducing or particular feature set)"
   ]
  },
  {
   "cell_type": "markdown",
   "metadata": {
    "colab_type": "text",
    "id": "eaeMI2izAQVg"
   },
   "source": [
    "## Train and test scores data frame"
   ]
  },
  {
   "cell_type": "code",
   "execution_count": 474,
   "metadata": {
    "colab": {},
    "colab_type": "code",
    "id": "jLPAp6-WAQVg",
    "outputId": "ff34e297-1d7c-4adb-cd58-e880670653df"
   },
   "outputs": [
    {
     "data": {
      "text/html": [
       "<div>\n",
       "<style scoped>\n",
       "    .dataframe tbody tr th:only-of-type {\n",
       "        vertical-align: middle;\n",
       "    }\n",
       "\n",
       "    .dataframe tbody tr th {\n",
       "        vertical-align: top;\n",
       "    }\n",
       "\n",
       "    .dataframe thead th {\n",
       "        text-align: right;\n",
       "    }\n",
       "</style>\n",
       "<table border=\"1\" class=\"dataframe\">\n",
       "  <thead>\n",
       "    <tr style=\"text-align: right;\">\n",
       "      <th></th>\n",
       "      <th>fit_time</th>\n",
       "      <th>score_time</th>\n",
       "      <th>test_RMSE</th>\n",
       "      <th>train_RMSE</th>\n",
       "      <th>test_MAE</th>\n",
       "      <th>train_MAE</th>\n",
       "      <th>test_R^2</th>\n",
       "      <th>train_R^2</th>\n",
       "      <th>test_pearson_r</th>\n",
       "      <th>train_pearson_r</th>\n",
       "    </tr>\n",
       "  </thead>\n",
       "  <tbody>\n",
       "    <tr>\n",
       "      <th>rf</th>\n",
       "      <td>3.994119</td>\n",
       "      <td>0.020552</td>\n",
       "      <td>0.443666</td>\n",
       "      <td>0.023265</td>\n",
       "      <td>0.129173</td>\n",
       "      <td>0.010599</td>\n",
       "      <td>0.059956</td>\n",
       "      <td>0.001414</td>\n",
       "      <td>0.033868</td>\n",
       "      <td>0.000632</td>\n",
       "    </tr>\n",
       "    <tr>\n",
       "      <th>xgb</th>\n",
       "      <td>0.681495</td>\n",
       "      <td>0.006255</td>\n",
       "      <td>0.349533</td>\n",
       "      <td>0.012556</td>\n",
       "      <td>0.179685</td>\n",
       "      <td>0.014313</td>\n",
       "      <td>0.040849</td>\n",
       "      <td>0.001578</td>\n",
       "      <td>0.025258</td>\n",
       "      <td>0.000843</td>\n",
       "    </tr>\n",
       "    <tr>\n",
       "      <th>krr</th>\n",
       "      <td>0.026230</td>\n",
       "      <td>0.004008</td>\n",
       "      <td>0.227742</td>\n",
       "      <td>0.000281</td>\n",
       "      <td>0.151326</td>\n",
       "      <td>0.000119</td>\n",
       "      <td>0.122404</td>\n",
       "      <td>0.000003</td>\n",
       "      <td>0.073574</td>\n",
       "      <td>0.000001</td>\n",
       "    </tr>\n",
       "    <tr>\n",
       "      <th>gp</th>\n",
       "      <td>0.710641</td>\n",
       "      <td>0.011309</td>\n",
       "      <td>0.362189</td>\n",
       "      <td>0.045095</td>\n",
       "      <td>0.096782</td>\n",
       "      <td>0.011048</td>\n",
       "      <td>0.027723</td>\n",
       "      <td>0.002170</td>\n",
       "      <td>0.109185</td>\n",
       "      <td>0.002956</td>\n",
       "    </tr>\n",
       "  </tbody>\n",
       "</table>\n",
       "</div>"
      ],
      "text/plain": [
       "     fit_time  score_time  test_RMSE  train_RMSE  test_MAE  train_MAE  \\\n",
       "rf   3.994119    0.020552   0.443666    0.023265  0.129173   0.010599   \n",
       "xgb  0.681495    0.006255   0.349533    0.012556  0.179685   0.014313   \n",
       "krr  0.026230    0.004008   0.227742    0.000281  0.151326   0.000119   \n",
       "gp   0.710641    0.011309   0.362189    0.045095  0.096782   0.011048   \n",
       "\n",
       "     test_R^2  train_R^2  test_pearson_r  train_pearson_r  \n",
       "rf   0.059956   0.001414        0.033868         0.000632  \n",
       "xgb  0.040849   0.001578        0.025258         0.000843  \n",
       "krr  0.122404   0.000003        0.073574         0.000001  \n",
       "gp   0.027723   0.002170        0.109185         0.002956  "
      ]
     },
     "execution_count": 474,
     "metadata": {},
     "output_type": "execute_result"
    }
   ],
   "source": [
    "train_test_means_df = pd.DataFrame(mean_train_test_scores['1024ecfp-4']).T\n",
    "train_test_stds_df = pd.DataFrame(std_train_test_scores['1024ecfp-4']).T\n",
    "\n",
    "train_test_stds_df"
   ]
  },
  {
   "cell_type": "markdown",
   "metadata": {
    "colab_type": "text",
    "id": "45VwRSUMAQVm"
   },
   "source": [
    "## Validation scores data frame"
   ]
  },
  {
   "cell_type": "markdown",
   "metadata": {
    "colab_type": "text",
    "id": "53jfBjDHAQVm"
   },
   "source": [
    "### Changing col names to 'val_\\*' form 'test_\\*'"
   ]
  },
  {
   "cell_type": "code",
   "execution_count": 475,
   "metadata": {
    "colab": {},
    "colab_type": "code",
    "id": "u-MqjBdbAQVn",
    "outputId": "ade0d1d7-e39f-46c8-98bf-249e14d296a8"
   },
   "outputs": [
    {
     "data": {
      "text/html": [
       "<div>\n",
       "<style scoped>\n",
       "    .dataframe tbody tr th:only-of-type {\n",
       "        vertical-align: middle;\n",
       "    }\n",
       "\n",
       "    .dataframe tbody tr th {\n",
       "        vertical-align: top;\n",
       "    }\n",
       "\n",
       "    .dataframe thead th {\n",
       "        text-align: right;\n",
       "    }\n",
       "</style>\n",
       "<table border=\"1\" class=\"dataframe\">\n",
       "  <thead>\n",
       "    <tr style=\"text-align: right;\">\n",
       "      <th></th>\n",
       "      <th>fit_time</th>\n",
       "      <th>score_time</th>\n",
       "      <th>test_RMSE</th>\n",
       "      <th>test_MAE</th>\n",
       "      <th>test_R^2</th>\n",
       "      <th>test_pearson_r</th>\n",
       "    </tr>\n",
       "  </thead>\n",
       "  <tbody>\n",
       "    <tr>\n",
       "      <th>rf</th>\n",
       "      <td>3.454050</td>\n",
       "      <td>0.021687</td>\n",
       "      <td>0.250018</td>\n",
       "      <td>0.092018</td>\n",
       "      <td>0.035761</td>\n",
       "      <td>0.027058</td>\n",
       "    </tr>\n",
       "    <tr>\n",
       "      <th>xgb</th>\n",
       "      <td>0.484046</td>\n",
       "      <td>0.001694</td>\n",
       "      <td>0.175711</td>\n",
       "      <td>0.015280</td>\n",
       "      <td>0.016002</td>\n",
       "      <td>0.010326</td>\n",
       "    </tr>\n",
       "    <tr>\n",
       "      <th>krr</th>\n",
       "      <td>0.028786</td>\n",
       "      <td>0.003589</td>\n",
       "      <td>0.037452</td>\n",
       "      <td>0.158623</td>\n",
       "      <td>0.092987</td>\n",
       "      <td>0.023486</td>\n",
       "    </tr>\n",
       "    <tr>\n",
       "      <th>gp</th>\n",
       "      <td>0.686427</td>\n",
       "      <td>0.006013</td>\n",
       "      <td>0.234522</td>\n",
       "      <td>0.088449</td>\n",
       "      <td>0.029178</td>\n",
       "      <td>0.042197</td>\n",
       "    </tr>\n",
       "  </tbody>\n",
       "</table>\n",
       "</div>"
      ],
      "text/plain": [
       "     fit_time  score_time  test_RMSE  test_MAE  test_R^2  test_pearson_r\n",
       "rf   3.454050    0.021687   0.250018  0.092018  0.035761        0.027058\n",
       "xgb  0.484046    0.001694   0.175711  0.015280  0.016002        0.010326\n",
       "krr  0.028786    0.003589   0.037452  0.158623  0.092987        0.023486\n",
       "gp   0.686427    0.006013   0.234522  0.088449  0.029178        0.042197"
      ]
     },
     "execution_count": 475,
     "metadata": {},
     "output_type": "execute_result"
    }
   ],
   "source": [
    "val_means_df = pd.DataFrame(mean_val_scores['1024ecfp-4']).T\n",
    "val_stds_df = pd.DataFrame(std_val_scores['1024ecfp-4']).T\n",
    "\n",
    "val_stds_df"
   ]
  },
  {
   "cell_type": "code",
   "execution_count": 476,
   "metadata": {
    "colab": {},
    "colab_type": "code",
    "id": "1p7yNiB9AQVq",
    "outputId": "30c19e00-ff24-4424-bae6-104b5bc44629"
   },
   "outputs": [
    {
     "data": {
      "text/html": [
       "<div>\n",
       "<style scoped>\n",
       "    .dataframe tbody tr th:only-of-type {\n",
       "        vertical-align: middle;\n",
       "    }\n",
       "\n",
       "    .dataframe tbody tr th {\n",
       "        vertical-align: top;\n",
       "    }\n",
       "\n",
       "    .dataframe thead th {\n",
       "        text-align: right;\n",
       "    }\n",
       "</style>\n",
       "<table border=\"1\" class=\"dataframe\">\n",
       "  <thead>\n",
       "    <tr style=\"text-align: right;\">\n",
       "      <th></th>\n",
       "      <th>test_RMSE</th>\n",
       "      <th>test_MAE</th>\n",
       "      <th>test_R^2</th>\n",
       "      <th>test_pearson_r</th>\n",
       "    </tr>\n",
       "  </thead>\n",
       "  <tbody>\n",
       "    <tr>\n",
       "      <th>rf</th>\n",
       "      <td>0.250018</td>\n",
       "      <td>0.092018</td>\n",
       "      <td>0.035761</td>\n",
       "      <td>0.027058</td>\n",
       "    </tr>\n",
       "    <tr>\n",
       "      <th>xgb</th>\n",
       "      <td>0.175711</td>\n",
       "      <td>0.015280</td>\n",
       "      <td>0.016002</td>\n",
       "      <td>0.010326</td>\n",
       "    </tr>\n",
       "    <tr>\n",
       "      <th>krr</th>\n",
       "      <td>0.037452</td>\n",
       "      <td>0.158623</td>\n",
       "      <td>0.092987</td>\n",
       "      <td>0.023486</td>\n",
       "    </tr>\n",
       "    <tr>\n",
       "      <th>gp</th>\n",
       "      <td>0.234522</td>\n",
       "      <td>0.088449</td>\n",
       "      <td>0.029178</td>\n",
       "      <td>0.042197</td>\n",
       "    </tr>\n",
       "  </tbody>\n",
       "</table>\n",
       "</div>"
      ],
      "text/plain": [
       "     test_RMSE  test_MAE  test_R^2  test_pearson_r\n",
       "rf    0.250018  0.092018  0.035761        0.027058\n",
       "xgb   0.175711  0.015280  0.016002        0.010326\n",
       "krr   0.037452  0.158623  0.092987        0.023486\n",
       "gp    0.234522  0.088449  0.029178        0.042197"
      ]
     },
     "execution_count": 476,
     "metadata": {},
     "output_type": "execute_result"
    }
   ],
   "source": [
    "val_means_df.drop(['fit_time', 'score_time'], axis=1, inplace=True)\n",
    "val_stds_df.drop(['fit_time', 'score_time'], axis=1, inplace=True)\n",
    "val_stds_df"
   ]
  },
  {
   "cell_type": "code",
   "execution_count": 477,
   "metadata": {
    "colab": {},
    "colab_type": "code",
    "id": "FwFR7zZRAQVx",
    "outputId": "9a812674-1e89-4736-bf0b-f07b858f29df"
   },
   "outputs": [
    {
     "data": {
      "text/plain": [
       "['test_RMSE', 'test_MAE', 'test_R^2', 'test_pearson_r']"
      ]
     },
     "execution_count": 477,
     "metadata": {},
     "output_type": "execute_result"
    }
   ],
   "source": [
    "col_names = list(val_means_df.columns)\n",
    "col_names"
   ]
  },
  {
   "cell_type": "code",
   "execution_count": null,
   "metadata": {
    "colab": {},
    "colab_type": "code",
    "id": "wlfcoWQ3AQV2",
    "outputId": "3e97d14b-2312-46fe-fe28-332a6ccf20c8"
   },
   "outputs": [
    {
     "data": {
      "text/plain": [
       "['val_RMSE', 'val_MAE', 'val_R^2', 'val_pearson_r']"
      ]
     },
     "execution_count": 34,
     "metadata": {
      "tags": []
     },
     "output_type": "execute_result"
    }
   ],
   "source": [
    "new_col_names = []\n",
    "for name in col_names:\n",
    "    new_col_names.append(name.replace(\"test\", \"val\"))\n",
    "    \n",
    "new_col_names"
   ]
  },
  {
   "cell_type": "markdown",
   "metadata": {
    "colab_type": "text",
    "id": "80Nyt4i8AQV8"
   },
   "source": [
    "### Ready validation data frame"
   ]
  },
  {
   "cell_type": "code",
   "execution_count": null,
   "metadata": {
    "colab": {},
    "colab_type": "code",
    "id": "8yqpk988AQV8",
    "outputId": "b8bcbbe8-980c-4964-c22c-392d0de022ed"
   },
   "outputs": [
    {
     "data": {
      "text/html": [
       "<div>\n",
       "<style scoped>\n",
       "    .dataframe tbody tr th:only-of-type {\n",
       "        vertical-align: middle;\n",
       "    }\n",
       "\n",
       "    .dataframe tbody tr th {\n",
       "        vertical-align: top;\n",
       "    }\n",
       "\n",
       "    .dataframe thead th {\n",
       "        text-align: right;\n",
       "    }\n",
       "</style>\n",
       "<table border=\"1\" class=\"dataframe\">\n",
       "  <thead>\n",
       "    <tr style=\"text-align: right;\">\n",
       "      <th></th>\n",
       "      <th>val_RMSE</th>\n",
       "      <th>val_MAE</th>\n",
       "      <th>val_R^2</th>\n",
       "      <th>val_pearson_r</th>\n",
       "    </tr>\n",
       "  </thead>\n",
       "  <tbody>\n",
       "    <tr>\n",
       "      <th>rf</th>\n",
       "      <td>0.250018</td>\n",
       "      <td>0.092018</td>\n",
       "      <td>0.035761</td>\n",
       "      <td>0.027058</td>\n",
       "    </tr>\n",
       "    <tr>\n",
       "      <th>xgb</th>\n",
       "      <td>0.175711</td>\n",
       "      <td>0.015280</td>\n",
       "      <td>0.016002</td>\n",
       "      <td>0.010326</td>\n",
       "    </tr>\n",
       "    <tr>\n",
       "      <th>krr</th>\n",
       "      <td>0.037452</td>\n",
       "      <td>0.158623</td>\n",
       "      <td>0.092987</td>\n",
       "      <td>0.023486</td>\n",
       "    </tr>\n",
       "    <tr>\n",
       "      <th>gp</th>\n",
       "      <td>0.234522</td>\n",
       "      <td>0.088449</td>\n",
       "      <td>0.029178</td>\n",
       "      <td>0.042197</td>\n",
       "    </tr>\n",
       "  </tbody>\n",
       "</table>\n",
       "</div>"
      ],
      "text/plain": [
       "     val_RMSE   val_MAE   val_R^2  val_pearson_r\n",
       "rf   0.250018  0.092018  0.035761       0.027058\n",
       "xgb  0.175711  0.015280  0.016002       0.010326\n",
       "krr  0.037452  0.158623  0.092987       0.023486\n",
       "gp   0.234522  0.088449  0.029178       0.042197"
      ]
     },
     "execution_count": 35,
     "metadata": {
      "tags": []
     },
     "output_type": "execute_result"
    }
   ],
   "source": [
    "val_means_df.columns = new_col_names\n",
    "val_stds_df.columns = new_col_names\n",
    "\n",
    "val_stds_df"
   ]
  },
  {
   "cell_type": "markdown",
   "metadata": {
    "colab_type": "text",
    "id": "qgO9WSXFAQWA"
   },
   "source": [
    "## All scores"
   ]
  },
  {
   "cell_type": "code",
   "execution_count": null,
   "metadata": {
    "colab": {},
    "colab_type": "code",
    "id": "EluGMCO0AQWA",
    "outputId": "baa085d9-6500-42d7-dc2d-63855dbeacc2"
   },
   "outputs": [
    {
     "data": {
      "text/html": [
       "<div>\n",
       "<style scoped>\n",
       "    .dataframe tbody tr th:only-of-type {\n",
       "        vertical-align: middle;\n",
       "    }\n",
       "\n",
       "    .dataframe tbody tr th {\n",
       "        vertical-align: top;\n",
       "    }\n",
       "\n",
       "    .dataframe thead th {\n",
       "        text-align: right;\n",
       "    }\n",
       "</style>\n",
       "<table border=\"1\" class=\"dataframe\">\n",
       "  <thead>\n",
       "    <tr style=\"text-align: right;\">\n",
       "      <th></th>\n",
       "      <th>fit_time</th>\n",
       "      <th>score_time</th>\n",
       "      <th>test_RMSE</th>\n",
       "      <th>train_RMSE</th>\n",
       "      <th>test_MAE</th>\n",
       "      <th>train_MAE</th>\n",
       "      <th>test_R^2</th>\n",
       "      <th>train_R^2</th>\n",
       "      <th>test_pearson_r</th>\n",
       "      <th>train_pearson_r</th>\n",
       "      <th>val_RMSE</th>\n",
       "      <th>val_MAE</th>\n",
       "      <th>val_R^2</th>\n",
       "      <th>val_pearson_r</th>\n",
       "    </tr>\n",
       "  </thead>\n",
       "  <tbody>\n",
       "    <tr>\n",
       "      <th>rf</th>\n",
       "      <td>3.994119</td>\n",
       "      <td>0.020552</td>\n",
       "      <td>0.443666</td>\n",
       "      <td>0.023265</td>\n",
       "      <td>0.129173</td>\n",
       "      <td>0.010599</td>\n",
       "      <td>0.059956</td>\n",
       "      <td>0.001414</td>\n",
       "      <td>0.033868</td>\n",
       "      <td>0.000632</td>\n",
       "      <td>0.250018</td>\n",
       "      <td>0.092018</td>\n",
       "      <td>0.035761</td>\n",
       "      <td>0.027058</td>\n",
       "    </tr>\n",
       "    <tr>\n",
       "      <th>xgb</th>\n",
       "      <td>0.681495</td>\n",
       "      <td>0.006255</td>\n",
       "      <td>0.349533</td>\n",
       "      <td>0.012556</td>\n",
       "      <td>0.179685</td>\n",
       "      <td>0.014313</td>\n",
       "      <td>0.040849</td>\n",
       "      <td>0.001578</td>\n",
       "      <td>0.025258</td>\n",
       "      <td>0.000843</td>\n",
       "      <td>0.175711</td>\n",
       "      <td>0.015280</td>\n",
       "      <td>0.016002</td>\n",
       "      <td>0.010326</td>\n",
       "    </tr>\n",
       "    <tr>\n",
       "      <th>krr</th>\n",
       "      <td>0.026230</td>\n",
       "      <td>0.004008</td>\n",
       "      <td>0.227742</td>\n",
       "      <td>0.000281</td>\n",
       "      <td>0.151326</td>\n",
       "      <td>0.000119</td>\n",
       "      <td>0.122404</td>\n",
       "      <td>0.000003</td>\n",
       "      <td>0.073574</td>\n",
       "      <td>0.000001</td>\n",
       "      <td>0.037452</td>\n",
       "      <td>0.158623</td>\n",
       "      <td>0.092987</td>\n",
       "      <td>0.023486</td>\n",
       "    </tr>\n",
       "    <tr>\n",
       "      <th>gp</th>\n",
       "      <td>0.710641</td>\n",
       "      <td>0.011309</td>\n",
       "      <td>0.362189</td>\n",
       "      <td>0.045095</td>\n",
       "      <td>0.096782</td>\n",
       "      <td>0.011048</td>\n",
       "      <td>0.027723</td>\n",
       "      <td>0.002170</td>\n",
       "      <td>0.109185</td>\n",
       "      <td>0.002956</td>\n",
       "      <td>0.234522</td>\n",
       "      <td>0.088449</td>\n",
       "      <td>0.029178</td>\n",
       "      <td>0.042197</td>\n",
       "    </tr>\n",
       "  </tbody>\n",
       "</table>\n",
       "</div>"
      ],
      "text/plain": [
       "     fit_time  score_time  test_RMSE  train_RMSE  test_MAE  train_MAE  \\\n",
       "rf   3.994119    0.020552   0.443666    0.023265  0.129173   0.010599   \n",
       "xgb  0.681495    0.006255   0.349533    0.012556  0.179685   0.014313   \n",
       "krr  0.026230    0.004008   0.227742    0.000281  0.151326   0.000119   \n",
       "gp   0.710641    0.011309   0.362189    0.045095  0.096782   0.011048   \n",
       "\n",
       "     test_R^2  train_R^2  test_pearson_r  train_pearson_r  val_RMSE   val_MAE  \\\n",
       "rf   0.059956   0.001414        0.033868         0.000632  0.250018  0.092018   \n",
       "xgb  0.040849   0.001578        0.025258         0.000843  0.175711  0.015280   \n",
       "krr  0.122404   0.000003        0.073574         0.000001  0.037452  0.158623   \n",
       "gp   0.027723   0.002170        0.109185         0.002956  0.234522  0.088449   \n",
       "\n",
       "      val_R^2  val_pearson_r  \n",
       "rf   0.035761       0.027058  \n",
       "xgb  0.016002       0.010326  \n",
       "krr  0.092987       0.023486  \n",
       "gp   0.029178       0.042197  "
      ]
     },
     "execution_count": 36,
     "metadata": {
      "tags": []
     },
     "output_type": "execute_result"
    }
   ],
   "source": [
    "all_means = pd.concat([train_test_means_df, val_means_df], axis = 1)\n",
    "all_stds = pd.concat([train_test_stds_df, val_stds_df], axis = 1)\n",
    "\n",
    "all_stds"
   ]
  },
  {
   "cell_type": "code",
   "execution_count": null,
   "metadata": {
    "colab": {},
    "colab_type": "code",
    "id": "cvLRjs2RAQWF",
    "outputId": "a5d46911-9a95-4f3a-9528-8b58c8801b7d"
   },
   "outputs": [
    {
     "data": {
      "text/plain": [
       "['fit_time',\n",
       " 'score_time',\n",
       " 'train_RMSE',\n",
       " 'val_RMSE',\n",
       " 'test_RMSE',\n",
       " 'train_MAE',\n",
       " 'val_MAE',\n",
       " 'test_MAE',\n",
       " 'train_R^2',\n",
       " 'val_R^2',\n",
       " 'test_R^2',\n",
       " 'train_pearson_r',\n",
       " 'val_pearson_r',\n",
       " 'test_pearson_r']"
      ]
     },
     "execution_count": 37,
     "metadata": {
      "tags": []
     },
     "output_type": "execute_result"
    }
   ],
   "source": [
    "col_order = ['fit_time', 'score_time']\n",
    "temp = [[f'train_{metric}', f'val_{metric}', f'test_{metric}'] for metric in metrics_to_labels]\n",
    "\n",
    "for l in temp:\n",
    "    col_order.extend(l)\n",
    "    \n",
    "col_order"
   ]
  },
  {
   "cell_type": "code",
   "execution_count": null,
   "metadata": {
    "colab": {},
    "colab_type": "code",
    "id": "zBbUUlBWAQWI",
    "outputId": "ea942e5d-7bb7-49ec-f185-6a4c5691ae09"
   },
   "outputs": [
    {
     "data": {
      "text/html": [
       "<div>\n",
       "<style scoped>\n",
       "    .dataframe tbody tr th:only-of-type {\n",
       "        vertical-align: middle;\n",
       "    }\n",
       "\n",
       "    .dataframe tbody tr th {\n",
       "        vertical-align: top;\n",
       "    }\n",
       "\n",
       "    .dataframe thead th {\n",
       "        text-align: right;\n",
       "    }\n",
       "</style>\n",
       "<table border=\"1\" class=\"dataframe\">\n",
       "  <thead>\n",
       "    <tr style=\"text-align: right;\">\n",
       "      <th></th>\n",
       "      <th>fit_time</th>\n",
       "      <th>score_time</th>\n",
       "      <th>train_RMSE</th>\n",
       "      <th>val_RMSE</th>\n",
       "      <th>test_RMSE</th>\n",
       "      <th>train_MAE</th>\n",
       "      <th>val_MAE</th>\n",
       "      <th>test_MAE</th>\n",
       "      <th>train_R^2</th>\n",
       "      <th>val_R^2</th>\n",
       "      <th>test_R^2</th>\n",
       "      <th>train_pearson_r</th>\n",
       "      <th>val_pearson_r</th>\n",
       "      <th>test_pearson_r</th>\n",
       "    </tr>\n",
       "  </thead>\n",
       "  <tbody>\n",
       "    <tr>\n",
       "      <th>rf</th>\n",
       "      <td>3.994119</td>\n",
       "      <td>0.020552</td>\n",
       "      <td>0.023265</td>\n",
       "      <td>0.250018</td>\n",
       "      <td>0.443666</td>\n",
       "      <td>0.010599</td>\n",
       "      <td>0.092018</td>\n",
       "      <td>0.129173</td>\n",
       "      <td>0.001414</td>\n",
       "      <td>0.035761</td>\n",
       "      <td>0.059956</td>\n",
       "      <td>0.000632</td>\n",
       "      <td>0.027058</td>\n",
       "      <td>0.033868</td>\n",
       "    </tr>\n",
       "    <tr>\n",
       "      <th>xgb</th>\n",
       "      <td>0.681495</td>\n",
       "      <td>0.006255</td>\n",
       "      <td>0.012556</td>\n",
       "      <td>0.175711</td>\n",
       "      <td>0.349533</td>\n",
       "      <td>0.014313</td>\n",
       "      <td>0.015280</td>\n",
       "      <td>0.179685</td>\n",
       "      <td>0.001578</td>\n",
       "      <td>0.016002</td>\n",
       "      <td>0.040849</td>\n",
       "      <td>0.000843</td>\n",
       "      <td>0.010326</td>\n",
       "      <td>0.025258</td>\n",
       "    </tr>\n",
       "    <tr>\n",
       "      <th>krr</th>\n",
       "      <td>0.026230</td>\n",
       "      <td>0.004008</td>\n",
       "      <td>0.000281</td>\n",
       "      <td>0.037452</td>\n",
       "      <td>0.227742</td>\n",
       "      <td>0.000119</td>\n",
       "      <td>0.158623</td>\n",
       "      <td>0.151326</td>\n",
       "      <td>0.000003</td>\n",
       "      <td>0.092987</td>\n",
       "      <td>0.122404</td>\n",
       "      <td>0.000001</td>\n",
       "      <td>0.023486</td>\n",
       "      <td>0.073574</td>\n",
       "    </tr>\n",
       "    <tr>\n",
       "      <th>gp</th>\n",
       "      <td>0.710641</td>\n",
       "      <td>0.011309</td>\n",
       "      <td>0.045095</td>\n",
       "      <td>0.234522</td>\n",
       "      <td>0.362189</td>\n",
       "      <td>0.011048</td>\n",
       "      <td>0.088449</td>\n",
       "      <td>0.096782</td>\n",
       "      <td>0.002170</td>\n",
       "      <td>0.029178</td>\n",
       "      <td>0.027723</td>\n",
       "      <td>0.002956</td>\n",
       "      <td>0.042197</td>\n",
       "      <td>0.109185</td>\n",
       "    </tr>\n",
       "  </tbody>\n",
       "</table>\n",
       "</div>"
      ],
      "text/plain": [
       "     fit_time  score_time  train_RMSE  val_RMSE  test_RMSE  train_MAE  \\\n",
       "rf   3.994119    0.020552    0.023265  0.250018   0.443666   0.010599   \n",
       "xgb  0.681495    0.006255    0.012556  0.175711   0.349533   0.014313   \n",
       "krr  0.026230    0.004008    0.000281  0.037452   0.227742   0.000119   \n",
       "gp   0.710641    0.011309    0.045095  0.234522   0.362189   0.011048   \n",
       "\n",
       "      val_MAE  test_MAE  train_R^2   val_R^2  test_R^2  train_pearson_r  \\\n",
       "rf   0.092018  0.129173   0.001414  0.035761  0.059956         0.000632   \n",
       "xgb  0.015280  0.179685   0.001578  0.016002  0.040849         0.000843   \n",
       "krr  0.158623  0.151326   0.000003  0.092987  0.122404         0.000001   \n",
       "gp   0.088449  0.096782   0.002170  0.029178  0.027723         0.002956   \n",
       "\n",
       "     val_pearson_r  test_pearson_r  \n",
       "rf        0.027058        0.033868  \n",
       "xgb       0.010326        0.025258  \n",
       "krr       0.023486        0.073574  \n",
       "gp        0.042197        0.109185  "
      ]
     },
     "execution_count": 38,
     "metadata": {
      "tags": []
     },
     "output_type": "execute_result"
    }
   ],
   "source": [
    "all_means = all_means[col_order]\n",
    "all_stds = all_stds[col_order]\n",
    "\n",
    "all_stds"
   ]
  },
  {
   "cell_type": "code",
   "execution_count": null,
   "metadata": {
    "colab": {},
    "colab_type": "code",
    "id": "sEsbo4pdAQWN"
   },
   "outputs": [],
   "source": [
    "# # making rmse, mae positive\n",
    "\n",
    "# for subset in ['train', 'val', 'test']:\n",
    "#     for metric in ['RMSE', 'MAE']:\n",
    "#         all_means[f'{subset}_{metric}'] = np.abs(all_scores[f'{subset}_{metric}'])"
   ]
  },
  {
   "cell_type": "markdown",
   "metadata": {
    "colab_type": "text",
    "id": "Vd69jyA1AQWY"
   },
   "source": [
    "## Presentable version"
   ]
  },
  {
   "cell_type": "code",
   "execution_count": null,
   "metadata": {
    "colab": {},
    "colab_type": "code",
    "id": "Q4HM6OPxAQWZ"
   },
   "outputs": [],
   "source": [
    "presentable_all_means = np.round(all_means, 3)\n",
    "presentable_all_stds = np.round(all_stds, 3)"
   ]
  },
  {
   "cell_type": "code",
   "execution_count": null,
   "metadata": {
    "colab": {},
    "colab_type": "code",
    "id": "bgqPA6NAAQWc",
    "outputId": "3fc26746-0c7f-4482-93d2-e5ff1f50e792"
   },
   "outputs": [
    {
     "name": "stdout",
     "output_type": "stream",
     "text": [
      "freesolv original extended\n",
      "\n",
      "Means:\n"
     ]
    },
    {
     "data": {
      "text/html": [
       "<div>\n",
       "<style scoped>\n",
       "    .dataframe tbody tr th:only-of-type {\n",
       "        vertical-align: middle;\n",
       "    }\n",
       "\n",
       "    .dataframe tbody tr th {\n",
       "        vertical-align: top;\n",
       "    }\n",
       "\n",
       "    .dataframe thead th {\n",
       "        text-align: right;\n",
       "    }\n",
       "</style>\n",
       "<table border=\"1\" class=\"dataframe\">\n",
       "  <thead>\n",
       "    <tr style=\"text-align: right;\">\n",
       "      <th></th>\n",
       "      <th>fit_time</th>\n",
       "      <th>score_time</th>\n",
       "      <th>train_RMSE</th>\n",
       "      <th>val_RMSE</th>\n",
       "      <th>test_RMSE</th>\n",
       "      <th>train_MAE</th>\n",
       "      <th>val_MAE</th>\n",
       "      <th>test_MAE</th>\n",
       "      <th>train_R^2</th>\n",
       "      <th>val_R^2</th>\n",
       "      <th>test_R^2</th>\n",
       "      <th>train_pearson_r</th>\n",
       "      <th>val_pearson_r</th>\n",
       "      <th>test_pearson_r</th>\n",
       "    </tr>\n",
       "  </thead>\n",
       "  <tbody>\n",
       "    <tr>\n",
       "      <th>rf</th>\n",
       "      <td>20.172</td>\n",
       "      <td>0.096</td>\n",
       "      <td>0.745</td>\n",
       "      <td>2.388</td>\n",
       "      <td>2.384</td>\n",
       "      <td>0.449</td>\n",
       "      <td>1.316</td>\n",
       "      <td>1.300</td>\n",
       "      <td>0.962</td>\n",
       "      <td>0.640</td>\n",
       "      <td>0.669</td>\n",
       "      <td>0.985</td>\n",
       "      <td>0.814</td>\n",
       "      <td>0.829</td>\n",
       "    </tr>\n",
       "    <tr>\n",
       "      <th>xgb</th>\n",
       "      <td>2.975</td>\n",
       "      <td>0.010</td>\n",
       "      <td>0.666</td>\n",
       "      <td>2.122</td>\n",
       "      <td>2.081</td>\n",
       "      <td>0.518</td>\n",
       "      <td>1.319</td>\n",
       "      <td>1.349</td>\n",
       "      <td>0.969</td>\n",
       "      <td>0.716</td>\n",
       "      <td>0.747</td>\n",
       "      <td>0.985</td>\n",
       "      <td>0.848</td>\n",
       "      <td>0.866</td>\n",
       "    </tr>\n",
       "    <tr>\n",
       "      <th>krr</th>\n",
       "      <td>0.093</td>\n",
       "      <td>0.015</td>\n",
       "      <td>0.050</td>\n",
       "      <td>3.924</td>\n",
       "      <td>3.348</td>\n",
       "      <td>0.014</td>\n",
       "      <td>2.367</td>\n",
       "      <td>2.044</td>\n",
       "      <td>1.000</td>\n",
       "      <td>0.019</td>\n",
       "      <td>0.326</td>\n",
       "      <td>1.000</td>\n",
       "      <td>0.434</td>\n",
       "      <td>0.655</td>\n",
       "    </tr>\n",
       "    <tr>\n",
       "      <th>gp</th>\n",
       "      <td>5.061</td>\n",
       "      <td>0.043</td>\n",
       "      <td>3.316</td>\n",
       "      <td>3.703</td>\n",
       "      <td>3.852</td>\n",
       "      <td>2.408</td>\n",
       "      <td>2.650</td>\n",
       "      <td>2.812</td>\n",
       "      <td>0.242</td>\n",
       "      <td>0.133</td>\n",
       "      <td>0.126</td>\n",
       "      <td>0.778</td>\n",
       "      <td>0.580</td>\n",
       "      <td>0.529</td>\n",
       "    </tr>\n",
       "  </tbody>\n",
       "</table>\n",
       "</div>"
      ],
      "text/plain": [
       "     fit_time  score_time  train_RMSE  val_RMSE  test_RMSE  train_MAE  \\\n",
       "rf     20.172       0.096       0.745     2.388      2.384      0.449   \n",
       "xgb     2.975       0.010       0.666     2.122      2.081      0.518   \n",
       "krr     0.093       0.015       0.050     3.924      3.348      0.014   \n",
       "gp      5.061       0.043       3.316     3.703      3.852      2.408   \n",
       "\n",
       "     val_MAE  test_MAE  train_R^2  val_R^2  test_R^2  train_pearson_r  \\\n",
       "rf     1.316     1.300      0.962    0.640     0.669            0.985   \n",
       "xgb    1.319     1.349      0.969    0.716     0.747            0.985   \n",
       "krr    2.367     2.044      1.000    0.019     0.326            1.000   \n",
       "gp     2.650     2.812      0.242    0.133     0.126            0.778   \n",
       "\n",
       "     val_pearson_r  test_pearson_r  \n",
       "rf           0.814           0.829  \n",
       "xgb          0.848           0.866  \n",
       "krr          0.434           0.655  \n",
       "gp           0.580           0.529  "
      ]
     },
     "metadata": {
      "tags": []
     },
     "output_type": "display_data"
    },
    {
     "name": "stdout",
     "output_type": "stream",
     "text": [
      "Standard deviations:\n"
     ]
    },
    {
     "data": {
      "text/html": [
       "<div>\n",
       "<style scoped>\n",
       "    .dataframe tbody tr th:only-of-type {\n",
       "        vertical-align: middle;\n",
       "    }\n",
       "\n",
       "    .dataframe tbody tr th {\n",
       "        vertical-align: top;\n",
       "    }\n",
       "\n",
       "    .dataframe thead th {\n",
       "        text-align: right;\n",
       "    }\n",
       "</style>\n",
       "<table border=\"1\" class=\"dataframe\">\n",
       "  <thead>\n",
       "    <tr style=\"text-align: right;\">\n",
       "      <th></th>\n",
       "      <th>fit_time</th>\n",
       "      <th>score_time</th>\n",
       "      <th>train_RMSE</th>\n",
       "      <th>val_RMSE</th>\n",
       "      <th>test_RMSE</th>\n",
       "      <th>train_MAE</th>\n",
       "      <th>val_MAE</th>\n",
       "      <th>test_MAE</th>\n",
       "      <th>train_R^2</th>\n",
       "      <th>val_R^2</th>\n",
       "      <th>test_R^2</th>\n",
       "      <th>train_pearson_r</th>\n",
       "      <th>val_pearson_r</th>\n",
       "      <th>test_pearson_r</th>\n",
       "    </tr>\n",
       "  </thead>\n",
       "  <tbody>\n",
       "    <tr>\n",
       "      <th>rf</th>\n",
       "      <td>3.994</td>\n",
       "      <td>0.021</td>\n",
       "      <td>0.023</td>\n",
       "      <td>0.250</td>\n",
       "      <td>0.444</td>\n",
       "      <td>0.011</td>\n",
       "      <td>0.092</td>\n",
       "      <td>0.129</td>\n",
       "      <td>0.001</td>\n",
       "      <td>0.036</td>\n",
       "      <td>0.060</td>\n",
       "      <td>0.001</td>\n",
       "      <td>0.027</td>\n",
       "      <td>0.034</td>\n",
       "    </tr>\n",
       "    <tr>\n",
       "      <th>xgb</th>\n",
       "      <td>0.681</td>\n",
       "      <td>0.006</td>\n",
       "      <td>0.013</td>\n",
       "      <td>0.176</td>\n",
       "      <td>0.350</td>\n",
       "      <td>0.014</td>\n",
       "      <td>0.015</td>\n",
       "      <td>0.180</td>\n",
       "      <td>0.002</td>\n",
       "      <td>0.016</td>\n",
       "      <td>0.041</td>\n",
       "      <td>0.001</td>\n",
       "      <td>0.010</td>\n",
       "      <td>0.025</td>\n",
       "    </tr>\n",
       "    <tr>\n",
       "      <th>krr</th>\n",
       "      <td>0.026</td>\n",
       "      <td>0.004</td>\n",
       "      <td>0.000</td>\n",
       "      <td>0.037</td>\n",
       "      <td>0.228</td>\n",
       "      <td>0.000</td>\n",
       "      <td>0.159</td>\n",
       "      <td>0.151</td>\n",
       "      <td>0.000</td>\n",
       "      <td>0.093</td>\n",
       "      <td>0.122</td>\n",
       "      <td>0.000</td>\n",
       "      <td>0.023</td>\n",
       "      <td>0.074</td>\n",
       "    </tr>\n",
       "    <tr>\n",
       "      <th>gp</th>\n",
       "      <td>0.711</td>\n",
       "      <td>0.011</td>\n",
       "      <td>0.045</td>\n",
       "      <td>0.235</td>\n",
       "      <td>0.362</td>\n",
       "      <td>0.011</td>\n",
       "      <td>0.088</td>\n",
       "      <td>0.097</td>\n",
       "      <td>0.002</td>\n",
       "      <td>0.029</td>\n",
       "      <td>0.028</td>\n",
       "      <td>0.003</td>\n",
       "      <td>0.042</td>\n",
       "      <td>0.109</td>\n",
       "    </tr>\n",
       "  </tbody>\n",
       "</table>\n",
       "</div>"
      ],
      "text/plain": [
       "     fit_time  score_time  train_RMSE  val_RMSE  test_RMSE  train_MAE  \\\n",
       "rf      3.994       0.021       0.023     0.250      0.444      0.011   \n",
       "xgb     0.681       0.006       0.013     0.176      0.350      0.014   \n",
       "krr     0.026       0.004       0.000     0.037      0.228      0.000   \n",
       "gp      0.711       0.011       0.045     0.235      0.362      0.011   \n",
       "\n",
       "     val_MAE  test_MAE  train_R^2  val_R^2  test_R^2  train_pearson_r  \\\n",
       "rf     0.092     0.129      0.001    0.036     0.060            0.001   \n",
       "xgb    0.015     0.180      0.002    0.016     0.041            0.001   \n",
       "krr    0.159     0.151      0.000    0.093     0.122            0.000   \n",
       "gp     0.088     0.097      0.002    0.029     0.028            0.003   \n",
       "\n",
       "     val_pearson_r  test_pearson_r  \n",
       "rf           0.027           0.034  \n",
       "xgb          0.010           0.025  \n",
       "krr          0.023           0.074  \n",
       "gp           0.042           0.109  "
      ]
     },
     "metadata": {
      "tags": []
     },
     "output_type": "display_data"
    }
   ],
   "source": [
    "print(dataset, smile_type, grid_search_type)\n",
    "\n",
    "print('\\nMeans:')\n",
    "display(presentable_all_means)\n",
    "\n",
    "print('Standard deviations:')\n",
    "display(presentable_all_stds)"
   ]
  },
  {
   "cell_type": "code",
   "execution_count": null,
   "metadata": {
    "colab": {},
    "colab_type": "code",
    "id": "j4ADn1TNAQWf",
    "outputId": "450430a2-5597-4a93-cac3-6e0d080256d5"
   },
   "outputs": [
    {
     "data": {
      "text/html": [
       "<div>\n",
       "<style scoped>\n",
       "    .dataframe tbody tr th:only-of-type {\n",
       "        vertical-align: middle;\n",
       "    }\n",
       "\n",
       "    .dataframe tbody tr th {\n",
       "        vertical-align: top;\n",
       "    }\n",
       "\n",
       "    .dataframe thead th {\n",
       "        text-align: right;\n",
       "    }\n",
       "</style>\n",
       "<table border=\"1\" class=\"dataframe\">\n",
       "  <thead>\n",
       "    <tr style=\"text-align: right;\">\n",
       "      <th></th>\n",
       "      <th>fit_time</th>\n",
       "      <th>score_time</th>\n",
       "      <th>train_RMSE</th>\n",
       "      <th>val_RMSE</th>\n",
       "      <th>test_RMSE</th>\n",
       "      <th>train_MAE</th>\n",
       "      <th>val_MAE</th>\n",
       "      <th>test_MAE</th>\n",
       "      <th>train_R^2</th>\n",
       "      <th>val_R^2</th>\n",
       "      <th>test_R^2</th>\n",
       "      <th>train_pearson_r</th>\n",
       "      <th>val_pearson_r</th>\n",
       "      <th>test_pearson_r</th>\n",
       "    </tr>\n",
       "  </thead>\n",
       "  <tbody>\n",
       "    <tr>\n",
       "      <th>rf</th>\n",
       "      <td>20.172 +/- 3.994</td>\n",
       "      <td>0.096 +/- 0.021</td>\n",
       "      <td>0.745 +/- 0.023</td>\n",
       "      <td>2.388 +/- 0.25</td>\n",
       "      <td>2.384 +/- 0.444</td>\n",
       "      <td>0.449 +/- 0.011</td>\n",
       "      <td>1.316 +/- 0.092</td>\n",
       "      <td>1.3 +/- 0.129</td>\n",
       "      <td>0.962 +/- 0.001</td>\n",
       "      <td>0.64 +/- 0.036</td>\n",
       "      <td>0.669 +/- 0.06</td>\n",
       "      <td>0.985 +/- 0.001</td>\n",
       "      <td>0.814 +/- 0.027</td>\n",
       "      <td>0.829 +/- 0.034</td>\n",
       "    </tr>\n",
       "    <tr>\n",
       "      <th>xgb</th>\n",
       "      <td>2.975 +/- 0.681</td>\n",
       "      <td>0.01 +/- 0.006</td>\n",
       "      <td>0.666 +/- 0.013</td>\n",
       "      <td>2.122 +/- 0.176</td>\n",
       "      <td>2.081 +/- 0.35</td>\n",
       "      <td>0.518 +/- 0.014</td>\n",
       "      <td>1.319 +/- 0.015</td>\n",
       "      <td>1.349 +/- 0.18</td>\n",
       "      <td>0.969 +/- 0.002</td>\n",
       "      <td>0.716 +/- 0.016</td>\n",
       "      <td>0.747 +/- 0.041</td>\n",
       "      <td>0.985 +/- 0.001</td>\n",
       "      <td>0.848 +/- 0.01</td>\n",
       "      <td>0.866 +/- 0.025</td>\n",
       "    </tr>\n",
       "    <tr>\n",
       "      <th>krr</th>\n",
       "      <td>0.093 +/- 0.026</td>\n",
       "      <td>0.015 +/- 0.004</td>\n",
       "      <td>0.05 +/- 0.0</td>\n",
       "      <td>3.924 +/- 0.037</td>\n",
       "      <td>3.348 +/- 0.228</td>\n",
       "      <td>0.014 +/- 0.0</td>\n",
       "      <td>2.367 +/- 0.159</td>\n",
       "      <td>2.044 +/- 0.151</td>\n",
       "      <td>1.0 +/- 0.0</td>\n",
       "      <td>0.019 +/- 0.093</td>\n",
       "      <td>0.326 +/- 0.122</td>\n",
       "      <td>1.0 +/- 0.0</td>\n",
       "      <td>0.434 +/- 0.023</td>\n",
       "      <td>0.655 +/- 0.074</td>\n",
       "    </tr>\n",
       "    <tr>\n",
       "      <th>gp</th>\n",
       "      <td>5.061 +/- 0.711</td>\n",
       "      <td>0.043 +/- 0.011</td>\n",
       "      <td>3.316 +/- 0.045</td>\n",
       "      <td>3.703 +/- 0.235</td>\n",
       "      <td>3.852 +/- 0.362</td>\n",
       "      <td>2.408 +/- 0.011</td>\n",
       "      <td>2.65 +/- 0.088</td>\n",
       "      <td>2.812 +/- 0.097</td>\n",
       "      <td>0.242 +/- 0.002</td>\n",
       "      <td>0.133 +/- 0.029</td>\n",
       "      <td>0.126 +/- 0.028</td>\n",
       "      <td>0.778 +/- 0.003</td>\n",
       "      <td>0.58 +/- 0.042</td>\n",
       "      <td>0.529 +/- 0.109</td>\n",
       "    </tr>\n",
       "  </tbody>\n",
       "</table>\n",
       "</div>"
      ],
      "text/plain": [
       "             fit_time       score_time       train_RMSE         val_RMSE  \\\n",
       "rf   20.172 +/- 3.994  0.096 +/- 0.021  0.745 +/- 0.023   2.388 +/- 0.25   \n",
       "xgb   2.975 +/- 0.681   0.01 +/- 0.006  0.666 +/- 0.013  2.122 +/- 0.176   \n",
       "krr   0.093 +/- 0.026  0.015 +/- 0.004     0.05 +/- 0.0  3.924 +/- 0.037   \n",
       "gp    5.061 +/- 0.711  0.043 +/- 0.011  3.316 +/- 0.045  3.703 +/- 0.235   \n",
       "\n",
       "           test_RMSE        train_MAE          val_MAE         test_MAE  \\\n",
       "rf   2.384 +/- 0.444  0.449 +/- 0.011  1.316 +/- 0.092    1.3 +/- 0.129   \n",
       "xgb   2.081 +/- 0.35  0.518 +/- 0.014  1.319 +/- 0.015   1.349 +/- 0.18   \n",
       "krr  3.348 +/- 0.228    0.014 +/- 0.0  2.367 +/- 0.159  2.044 +/- 0.151   \n",
       "gp   3.852 +/- 0.362  2.408 +/- 0.011   2.65 +/- 0.088  2.812 +/- 0.097   \n",
       "\n",
       "           train_R^2          val_R^2         test_R^2  train_pearson_r  \\\n",
       "rf   0.962 +/- 0.001   0.64 +/- 0.036   0.669 +/- 0.06  0.985 +/- 0.001   \n",
       "xgb  0.969 +/- 0.002  0.716 +/- 0.016  0.747 +/- 0.041  0.985 +/- 0.001   \n",
       "krr      1.0 +/- 0.0  0.019 +/- 0.093  0.326 +/- 0.122      1.0 +/- 0.0   \n",
       "gp   0.242 +/- 0.002  0.133 +/- 0.029  0.126 +/- 0.028  0.778 +/- 0.003   \n",
       "\n",
       "       val_pearson_r   test_pearson_r  \n",
       "rf   0.814 +/- 0.027  0.829 +/- 0.034  \n",
       "xgb   0.848 +/- 0.01  0.866 +/- 0.025  \n",
       "krr  0.434 +/- 0.023  0.655 +/- 0.074  \n",
       "gp    0.58 +/- 0.042  0.529 +/- 0.109  "
      ]
     },
     "execution_count": 42,
     "metadata": {
      "tags": []
     },
     "output_type": "execute_result"
    }
   ],
   "source": [
    "presentable_all_means_stds = presentable_all_means.copy()\n",
    "for i in presentable_all_means_stds.index:\n",
    "    for j in presentable_all_means_stds.columns:\n",
    "        presentable_all_means_stds.loc[i, j] = str(presentable_all_means.loc[i, j]) + ' +/- ' + str(presentable_all_stds.loc[i, j])\n",
    "        \n",
    "presentable_all_means_stds"
   ]
  },
  {
   "cell_type": "markdown",
   "metadata": {
    "colab_type": "text",
    "id": "ASA9a6vbAQWj"
   },
   "source": [
    "# Save results to csv files"
   ]
  },
  {
   "cell_type": "code",
   "execution_count": 220,
   "metadata": {
    "colab": {},
    "colab_type": "code",
    "id": "nJ74TseFAQWl"
   },
   "outputs": [],
   "source": [
    "if grid_search_type == 'reproducing':\n",
    "    presentable_all_means.to_csv(f'../tables/{dataset}_{smile_type}_{grid_search_type}_random_search_best_means.csv', index=True)\n",
    "    presentable_all_stds.to_csv(f'../tables/{dataset}_{smile_type}_{grid_search_type}_random_search_best_stds.csv', index=True)\n",
    "    presentable_all_means_stds.to_csv(f'../tables/{dataset}_{smile_type}_{grid_search_type}_random_search_best_means_pm_stds.csv', index=True)\n",
    "else:\n",
    "    pass"
   ]
  },
  {
   "cell_type": "code",
   "execution_count": null,
   "metadata": {},
   "outputs": [],
   "source": []
  }
 ],
 "metadata": {
  "colab": {
   "collapsed_sections": [],
   "name": "visualise_extended_grid_search_results.ipynb",
   "provenance": []
  },
  "kernelspec": {
   "display_name": "Python [conda env:batch-msc] *",
   "language": "python",
   "name": "conda-env-batch-msc-py"
  },
  "language_info": {
   "codemirror_mode": {
    "name": "ipython",
    "version": 3
   },
   "file_extension": ".py",
   "mimetype": "text/x-python",
   "name": "python",
   "nbconvert_exporter": "python",
   "pygments_lexer": "ipython3",
   "version": "3.6.10"
  }
 },
 "nbformat": 4,
 "nbformat_minor": 1
}
