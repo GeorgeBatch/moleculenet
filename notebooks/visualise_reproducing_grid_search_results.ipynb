{
 "cells": [
  {
   "cell_type": "markdown",
   "metadata": {},
   "source": [
    "# Setup"
   ]
  },
  {
   "cell_type": "markdown",
   "metadata": {},
   "source": [
    "## Look around"
   ]
  },
  {
   "cell_type": "code",
   "execution_count": 2,
   "metadata": {
    "colab": {},
    "colab_type": "code",
    "id": "VbUH1eOtObXp",
    "outputId": "dce5a945-dc95-4b37-b002-99aad21517b3"
   },
   "outputs": [
    {
     "name": "stdout",
     "output_type": "stream",
     "text": [
      "colab_RF_CIs_on_fingerprints_initial.ipynb\r\n",
      "colab_extended_grid_search_pipeline.ipynb\r\n",
      "colab_reproducing_grid_search_pipeline.ipynb\r\n",
      "get_protenated_from_canonical.ipynb\r\n",
      "visualise_grid_search_results.ipynb\r\n",
      "visualise_reproducing_grid_search_results.ipynb\r\n"
     ]
    }
   ],
   "source": [
    "%ls"
   ]
  },
  {
   "cell_type": "code",
   "execution_count": 3,
   "metadata": {
    "colab": {},
    "colab_type": "code",
    "id": "CyTRxipFObXw",
    "outputId": "eae6f7d2-af85-4e2e-8dcf-df43fe77be91"
   },
   "outputs": [
    {
     "name": "stdout",
     "output_type": "stream",
     "text": [
      "esol_original_reproducing_random_search_best_params.pickle\r\n",
      "esol_original_reproducing_random_search_best_train_test_scores.pickle\r\n",
      "esol_original_reproducing_random_search_best_val_scores.pickle\r\n",
      "esol_original_reproducing_random_search_grid_params.pickle\r\n",
      "freesolv_original_reproducing_random_search_best_params.pickle\r\n",
      "freesolv_original_reproducing_random_search_best_train_test_scores.pickle\r\n",
      "freesolv_original_reproducing_random_search_best_val_scores.pickle\r\n",
      "freesolv_original_reproducing_random_search_grid_params.pickle\r\n",
      "lipophilicity_original_reproducing_random_search_best_params.pickle\r\n",
      "lipophilicity_original_reproducing_random_search_best_train_test_scores.pickle\r\n",
      "lipophilicity_original_reproducing_random_search_best_val_scores.pickle\r\n",
      "lipophilicity_original_reproducing_random_search_grid_params.pickle\r\n"
     ]
    }
   ],
   "source": [
    "%ls ../results/"
   ]
  },
  {
   "cell_type": "markdown",
   "metadata": {},
   "source": [
    "## Import Modules"
   ]
  },
  {
   "cell_type": "code",
   "execution_count": 4,
   "metadata": {
    "colab": {},
    "colab_type": "code",
    "id": "FKInp93BObX0"
   },
   "outputs": [],
   "source": [
    "import pickle\n",
    "import json\n",
    "\n",
    "import numpy as np\n",
    "import pandas as pd\n",
    "import matplotlib.pyplot as plt\n",
    "import seaborn as sns"
   ]
  },
  {
   "cell_type": "markdown",
   "metadata": {},
   "source": [
    "## CHOOSE dataset, smile_type, grid_search_type to visualize"
   ]
  },
  {
   "cell_type": "code",
   "execution_count": 5,
   "metadata": {
    "colab": {},
    "colab_type": "code",
    "executionInfo": {
     "elapsed": 1190,
     "status": "ok",
     "timestamp": 1595584172806,
     "user": {
      "displayName": "George Batchkala",
      "photoUrl": "",
      "userId": "17039292136363863281"
     },
     "user_tz": -180
    },
    "id": "96CqnRUHObX3"
   },
   "outputs": [],
   "source": [
    "# root = '../backup_results'\n",
    "root = '../results'"
   ]
  },
  {
   "cell_type": "code",
   "execution_count": 6,
   "metadata": {
    "colab": {},
    "colab_type": "code",
    "id": "cyalSHrqOiqN"
   },
   "outputs": [],
   "source": [
    "dataset = 'lipophilicity'\n",
    "assert dataset in ['freesolv', 'esol', 'lipophilicity']\n",
    "\n",
    "smile_type = 'original'\n",
    "assert smile_type in ['original', 'protonated']\n",
    "\n",
    "grid_search_type = 'reproducing'\n",
    "assert grid_search_type in ['reproducing', 'extended']"
   ]
  },
  {
   "cell_type": "code",
   "execution_count": null,
   "metadata": {},
   "outputs": [],
   "source": []
  },
  {
   "cell_type": "markdown",
   "metadata": {},
   "source": [
    "## Units and Labels for datasets"
   ]
  },
  {
   "cell_type": "code",
   "execution_count": 7,
   "metadata": {},
   "outputs": [],
   "source": [
    "datasets_to_units = {\n",
    "    'freesolv': '(kcal/mol)',\n",
    "    'esol': '(mols per litre)',\n",
    "    'lipophilicity': '(logD)',\n",
    "}"
   ]
  },
  {
   "cell_type": "code",
   "execution_count": 8,
   "metadata": {},
   "outputs": [],
   "source": [
    "metrics_to_labels = {\n",
    "    'RMSE': 'root-mean-square error',\n",
    "    'MAE': 'mean absolute error',\n",
    "    'R^2': 'R^2 (coefficient of determination)',\n",
    "    'pearson_r': 'Pearson correlation'\n",
    "}"
   ]
  },
  {
   "cell_type": "markdown",
   "metadata": {},
   "source": [
    "## CHOOSE metric to display"
   ]
  },
  {
   "cell_type": "code",
   "execution_count": 9,
   "metadata": {},
   "outputs": [],
   "source": [
    "metric = 'RMSE'\n",
    "assert metric in metrics_to_labels"
   ]
  },
  {
   "cell_type": "code",
   "execution_count": 10,
   "metadata": {},
   "outputs": [],
   "source": [
    "if metric in ['RMSE', 'MAE']:\n",
    "    datasets_to_units = {\n",
    "    'freesolv': '(kcal/mol)',\n",
    "    'esol': '(mols per litre)',\n",
    "    'lipophilicity': '(logD)'\n",
    "    }\n",
    "else:\n",
    "    datasets_to_units = {\n",
    "    'freesolv': '',\n",
    "    'esol': '',\n",
    "    'lipophilicity': ''\n",
    "    }"
   ]
  },
  {
   "cell_type": "markdown",
   "metadata": {},
   "source": [
    "## Load everything"
   ]
  },
  {
   "cell_type": "code",
   "execution_count": 11,
   "metadata": {},
   "outputs": [
    {
     "name": "stdout",
     "output_type": "stream",
     "text": [
      "esol_original_reproducing_random_search_best_params.pickle\r\n",
      "esol_original_reproducing_random_search_best_train_test_scores.pickle\r\n",
      "esol_original_reproducing_random_search_best_val_scores.pickle\r\n",
      "esol_original_reproducing_random_search_grid_params.pickle\r\n",
      "freesolv_original_reproducing_random_search_best_params.pickle\r\n",
      "freesolv_original_reproducing_random_search_best_train_test_scores.pickle\r\n",
      "freesolv_original_reproducing_random_search_best_val_scores.pickle\r\n",
      "freesolv_original_reproducing_random_search_grid_params.pickle\r\n",
      "lipophilicity_original_reproducing_random_search_best_params.pickle\r\n",
      "lipophilicity_original_reproducing_random_search_best_train_test_scores.pickle\r\n",
      "lipophilicity_original_reproducing_random_search_best_val_scores.pickle\r\n",
      "lipophilicity_original_reproducing_random_search_grid_params.pickle\r\n"
     ]
    }
   ],
   "source": [
    "%ls ../results/"
   ]
  },
  {
   "cell_type": "code",
   "execution_count": 12,
   "metadata": {
    "colab": {},
    "colab_type": "code",
    "id": "X2glbcNcObX6"
   },
   "outputs": [],
   "source": [
    "with open(f'../results/{dataset}_{smile_type}_{grid_search_type}_random_search_best_val_scores.pickle', 'rb') as fp:\n",
    "    val_scores = pickle.load(fp)\n",
    "\n",
    "with open(f'../results/{dataset}_{smile_type}_{grid_search_type}_random_search_best_train_test_scores.pickle', 'rb') as fp:\n",
    "    train_test_scores = pickle.load(fp)\n",
    "\n",
    "with open(f'../results/{dataset}_{smile_type}_{grid_search_type}_random_search_best_params.pickle', 'rb') as fp:\n",
    "    best_params = pickle.load(fp)\n",
    "\n",
    "with open(f'../results/{dataset}_{smile_type}_{grid_search_type}_random_search_grid_params.pickle', 'rb') as fp:\n",
    "    params = pickle.load(fp)"
   ]
  },
  {
   "cell_type": "code",
   "execution_count": 13,
   "metadata": {},
   "outputs": [
    {
     "data": {
      "text/plain": [
       "{'1024ecfp-4': {'rf': {'rf__n_estimators': 500},\n",
       "  'xgb': {'xgb__n_estimators': 100,\n",
       "   'xgb__max_depth': 7,\n",
       "   'xgb__learning_rate': 0.2},\n",
       "  'krr': {'krr__alpha': 0.001},\n",
       "  'gp': {'gp__kernel': RBF(length_scale=1) + WhiteKernel(noise_level=1)}}}"
      ]
     },
     "execution_count": 13,
     "metadata": {},
     "output_type": "execute_result"
    }
   ],
   "source": [
    "best_params"
   ]
  },
  {
   "cell_type": "code",
   "execution_count": 12,
   "metadata": {
    "colab": {},
    "colab_type": "code",
    "id": "_-z1xc4UObX9"
   },
   "outputs": [],
   "source": [
    "# with open(f'{root}/{dataset}_{smile_type}_random_search_best_params.json', 'r') as f:\n",
    "#     best_params = json.load(f)\n",
    "\n",
    "# with open(f'{root}/{dataset}_{smile_type}_random_search_best_cv_scores.json', 'r') as f:\n",
    "#     cv_scores = json.load(f)\n",
    "    \n",
    "# with open(f'{root}/{dataset}_{smile_type}_random_search_best_test_score.json', 'r') as f:\n",
    "#     test_score = json.load(f)"
   ]
  },
  {
   "cell_type": "markdown",
   "metadata": {},
   "source": [
    "Have a look at best parameters."
   ]
  },
  {
   "cell_type": "code",
   "execution_count": 13,
   "metadata": {
    "colab": {},
    "colab_type": "code",
    "id": "9j7rbVktObYA",
    "outputId": "970b69b5-d5eb-4b3d-df18-8dca22fdfe26"
   },
   "outputs": [
    {
     "data": {
      "text/plain": [
       "{'rf': {'rf__n_estimators': 500},\n",
       " 'xgb': {'xgb__n_estimators': 100,\n",
       "  'xgb__max_depth': 7,\n",
       "  'xgb__learning_rate': 0.2},\n",
       " 'krr': {'krr__alpha': 0.001},\n",
       " 'gp': {'gp__kernel': RBF(length_scale=1) + WhiteKernel(noise_level=1)}}"
      ]
     },
     "execution_count": 13,
     "metadata": {},
     "output_type": "execute_result"
    }
   ],
   "source": [
    "best_params['1024ecfp-4']"
   ]
  },
  {
   "cell_type": "markdown",
   "metadata": {},
   "source": [
    "Have a look at the scores"
   ]
  },
  {
   "cell_type": "code",
   "execution_count": 14,
   "metadata": {},
   "outputs": [
    {
     "data": {
      "text/plain": [
       "{'1024ecfp-4': {'rf': {'fit_time': array([288.65043116, 278.72883391, 173.49422503]),\n",
       "   'score_time': array([0.17657995, 0.20581412, 0.1237886 ]),\n",
       "   'test_RMSE': array([-0.77817886, -0.85843584, -0.78466596]),\n",
       "   'test_MAE': array([-0.59970491, -0.65581735, -0.60655747]),\n",
       "   'test_R^2': array([0.5306891 , 0.49918833, 0.56852908]),\n",
       "   'test_pearson_r': array([0.73118672, 0.71388332, 0.77164285])},\n",
       "  'xgb': {'fit_time': array([21.98622727, 21.87724638, 14.08220172]),\n",
       "   'score_time': array([0.04016232, 0.03581738, 0.02289939]),\n",
       "   'test_RMSE': array([-0.78226551, -0.84769121, -0.78836076]),\n",
       "   'test_MAE': array([-0.59137107, -0.65375292, -0.60827953]),\n",
       "   'test_R^2': array([0.52574695, 0.51164671, 0.56445613]),\n",
       "   'test_pearson_r': array([0.72650633, 0.72083297, 0.75296194])},\n",
       "  'krr': {'fit_time': array([2.43701696, 2.37825322, 1.31612515]),\n",
       "   'score_time': array([0.24996305, 0.2662077 , 0.14842224]),\n",
       "   'test_RMSE': array([-0.82824068, -0.89714704, -0.85319783]),\n",
       "   'test_MAE': array([-0.61201814, -0.66827216, -0.64563791]),\n",
       "   'test_R^2': array([0.46836338, 0.45300165, 0.48986939]),\n",
       "   'test_pearson_r': array([0.71657516, 0.70712514, 0.72057099])},\n",
       "  'gp': {'fit_time': array([209.27523327, 210.44149113, 141.23593807]),\n",
       "   'score_time': array([1.93998718, 2.01911211, 1.50797105]),\n",
       "   'test_RMSE': array([-0.72918877, -0.7577273 , -0.73436602]),\n",
       "   'test_MAE': array([-0.54390625, -0.5650377 , -0.55206384]),\n",
       "   'test_R^2': array([0.58791983, 0.60980236, 0.62207375]),\n",
       "   'test_pearson_r': array([0.76876531, 0.78212198, 0.7918388 ])}}}"
      ]
     },
     "execution_count": 14,
     "metadata": {},
     "output_type": "execute_result"
    }
   ],
   "source": [
    "val_scores"
   ]
  },
  {
   "cell_type": "code",
   "execution_count": 15,
   "metadata": {},
   "outputs": [
    {
     "data": {
      "text/plain": [
       "{'1024ecfp-4': {'rf': {'fit_time': array([330.80014873, 325.62102604, 201.60219455]),\n",
       "   'score_time': array([0.17976952, 0.20776224, 0.1221118 ]),\n",
       "   'test_RMSE': array([-0.85953888, -0.78391285, -0.89462855]),\n",
       "   'train_RMSE': array([-0.31384278, -0.31515634, -0.30753617]),\n",
       "   'test_MAE': array([-0.62180754, -0.59839026, -0.69736208]),\n",
       "   'train_MAE': array([-0.23683985, -0.23804281, -0.23142906]),\n",
       "   'test_R^2': array([0.47170614, 0.49928241, 0.47190035]),\n",
       "   'train_R^2': array([0.93213043, 0.93239285, 0.93425277]),\n",
       "   'test_pearson_r': array([0.68974498, 0.71535498, 0.69549096]),\n",
       "   'train_pearson_r': array([0.97889147, 0.9788045 , 0.97981304])},\n",
       "  'xgb': {'fit_time': array([24.3690958 , 24.39726925, 15.78275752]),\n",
       "   'score_time': array([0.03514647, 0.04553127, 0.02249265]),\n",
       "   'test_RMSE': array([-0.80459484, -0.77287866, -0.91513262]),\n",
       "   'train_RMSE': array([-0.34570129, -0.3428349 , -0.33571912]),\n",
       "   'test_MAE': array([-0.59822389, -0.60311765, -0.68977477]),\n",
       "   'train_MAE': array([-0.26182158, -0.25789919, -0.25279097]),\n",
       "   'test_R^2': array([0.53708742, 0.51327919, 0.44741582]),\n",
       "   'train_R^2': array([0.91765205, 0.9199962 , 0.92165032]),\n",
       "   'test_pearson_r': array([0.73444575, 0.71957871, 0.67661585]),\n",
       "   'train_pearson_r': array([0.96654253, 0.96715513, 0.96796262])},\n",
       "  'krr': {'fit_time': array([3.28071713, 3.42672038, 2.1946075 ]),\n",
       "   'score_time': array([0.29916453, 0.30201793, 0.16396165]),\n",
       "   'test_RMSE': array([-0.75801608, -0.74630636, -0.91573003]),\n",
       "   'train_RMSE': array([-0.27481709, -0.27098652, -0.26642816]),\n",
       "   'test_MAE': array([-0.55780545, -0.55777894, -0.67070224]),\n",
       "   'train_MAE': array([-0.20561454, -0.2031749 , -0.19925844]),\n",
       "   'test_R^2': array([0.58913292, 0.54617171, 0.44669412]),\n",
       "   'train_R^2': array([0.94795988, 0.95001543, 0.95065475]),\n",
       "   'test_pearson_r': array([0.7788309 , 0.75200936, 0.69677953]),\n",
       "   'train_pearson_r': array([0.97658521, 0.97758863, 0.97777443])},\n",
       "  'gp': {'fit_time': array([302.04847908, 282.11611509, 193.30295062]),\n",
       "   'score_time': array([2.07021689, 2.37817478, 1.71554136]),\n",
       "   'test_RMSE': array([-0.70338078, -0.67779834, -0.80581739]),\n",
       "   'train_RMSE': array([-0.05491647, -0.07285237, -0.0602183 ]),\n",
       "   'test_MAE': array([-0.50782905, -0.50026738, -0.60578455]),\n",
       "   'train_MAE': array([-0.03754359, -0.05044041, -0.04072363]),\n",
       "   'test_R^2': array([0.64622634, 0.62566686, 0.57154655]),\n",
       "   'train_R^2': array([0.99792195, 0.99638733, 0.99747918]),\n",
       "   'test_pearson_r': array([0.8062008 , 0.79255202, 0.75977391]),\n",
       "   'train_pearson_r': array([0.99922015, 0.99866115, 0.99904324])}}}"
      ]
     },
     "execution_count": 15,
     "metadata": {},
     "output_type": "execute_result"
    }
   ],
   "source": [
    "train_test_scores"
   ]
  },
  {
   "cell_type": "markdown",
   "metadata": {},
   "source": [
    "Get the means over folds (cross_validate records the results as arrays even for one fold)"
   ]
  },
  {
   "cell_type": "code",
   "execution_count": 16,
   "metadata": {},
   "outputs": [
    {
     "data": {
      "text/plain": [
       "{'1024ecfp-4': {'rf': {'fit_time': 286.00778977076214,\n",
       "   'score_time': 0.16988118489583334,\n",
       "   'test_RMSE': 0.846026761770769,\n",
       "   'train_RMSE': 0.31217842855526806,\n",
       "   'test_MAE': 0.6391866257111939,\n",
       "   'train_MAE': 0.2354372383366636,\n",
       "   'test_R^2': 0.48096296770652297,\n",
       "   'train_R^2': 0.9329253487952626,\n",
       "   'test_pearson_r': 0.700196974802877,\n",
       "   'train_pearson_r': 0.9791696691189067},\n",
       "  'xgb': {'fit_time': 21.516374190648396,\n",
       "   'score_time': 0.03439013163248698,\n",
       "   'test_RMSE': 0.8308687074059141,\n",
       "   'train_RMSE': 0.3414184339003847,\n",
       "   'test_MAE': 0.6303721049711818,\n",
       "   'train_MAE': 0.25750391073443485,\n",
       "   'test_R^2': 0.4992608086420401,\n",
       "   'train_R^2': 0.9197661907654964,\n",
       "   'test_pearson_r': 0.7102134392429065,\n",
       "   'train_pearson_r': 0.9672200917495846},\n",
       "  'krr': {'fit_time': 2.967348337173462,\n",
       "   'score_time': 0.2550480365753174,\n",
       "   'test_RMSE': 0.8066841571425879,\n",
       "   'train_RMSE': 0.2707439222493459,\n",
       "   'test_MAE': 0.595428874811005,\n",
       "   'train_MAE': 0.20268262393497902,\n",
       "   'test_R^2': 0.5273329172528016,\n",
       "   'train_R^2': 0.9495433562316343,\n",
       "   'test_pearson_r': 0.7425399267264202,\n",
       "   'train_pearson_r': 0.9773160898482764},\n",
       "  'gp': {'fit_time': 259.1558482646942,\n",
       "   'score_time': 2.0546443462371826,\n",
       "   'test_RMSE': 0.7289988352686411,\n",
       "   'train_RMSE': 0.06266238060278419,\n",
       "   'test_MAE': 0.5379603238012253,\n",
       "   'train_MAE': 0.04290254451243988,\n",
       "   'test_R^2': 0.6144799161496324,\n",
       "   'train_R^2': 0.9972628204560171,\n",
       "   'test_pearson_r': 0.7861755771269247,\n",
       "   'train_pearson_r': 0.9989748468942702}}}"
      ]
     },
     "execution_count": 16,
     "metadata": {},
     "output_type": "execute_result"
    }
   ],
   "source": [
    "mean_val_scores = {features: {model: {record: np.abs(val_scores[features][model][record].mean()) for record in val_scores[features][model]} for model in val_scores[features]} for features in val_scores}\n",
    "mean_train_test_scores = {features: {model: {record: np.abs(train_test_scores[features][model][record].mean()) for record in train_test_scores[features][model]} for model in train_test_scores[features]} for features in train_test_scores}\n",
    "\n",
    "mean_train_test_scores"
   ]
  },
  {
   "cell_type": "code",
   "execution_count": 17,
   "metadata": {},
   "outputs": [
    {
     "data": {
      "text/plain": [
       "{'1024ecfp-4': {'rf': {'fit_time': 52.104289448356155,\n",
       "   'score_time': 0.03394399204462134,\n",
       "   'test_RMSE': 0.03640094347106845,\n",
       "   'test_MAE': 0.024993551816826883,\n",
       "   'test_R^2': 0.028347646887345434,\n",
       "   'test_pearson_r': 0.02420346596121016},\n",
       "  'xgb': {'fit_time': 3.7005738003150026,\n",
       "   'score_time': 0.007331530525318776,\n",
       "   'test_RMSE': 0.029510407121328675,\n",
       "   'test_MAE': 0.026342236137417745,\n",
       "   'test_R^2': 0.02232600166683176,\n",
       "   'test_pearson_r': 0.014001418298065975},\n",
       "  'krr': {'fit_time': 0.5151016789261826,\n",
       "   'score_time': 0.05211934662603384,\n",
       "   'test_RMSE': 0.028484847364855945,\n",
       "   'test_MAE': 0.02311111710242292,\n",
       "   'test_R^2': 0.015120703314281248,\n",
       "   'test_pearson_r': 0.0056377767476312075},\n",
       "  'gp': {'fit_time': 32.352424641842774,\n",
       "   'score_time': 0.2246389397970802,\n",
       "   'test_RMSE': 0.012414156252409247,\n",
       "   'test_MAE': 0.00870124881935863,\n",
       "   'test_R^2': 0.01412610889005691,\n",
       "   'test_pearson_r': 0.009458703673997476}}}"
      ]
     },
     "execution_count": 17,
     "metadata": {},
     "output_type": "execute_result"
    }
   ],
   "source": [
    "std_val_scores = {features: {model: {record: val_scores[features][model][record].std() for record in val_scores[features][model]} for model in val_scores[features]} for features in val_scores}\n",
    "std_train_test_scores = {features: {model: {record: train_test_scores[features][model][record].std() for record in train_test_scores[features][model]} for model in train_test_scores[features]} for features in train_test_scores}\n",
    "\n",
    "std_val_scores"
   ]
  },
  {
   "cell_type": "code",
   "execution_count": 18,
   "metadata": {},
   "outputs": [
    {
     "data": {
      "text/plain": [
       "{'1024ecfp-4': {'rf': {'fit_time': 246.95783003171286,\n",
       "   'score_time': 0.16872755686442056,\n",
       "   'test_RMSE': 0.8070935536718714,\n",
       "   'test_MAE': 0.6206932419489681,\n",
       "   'test_R^2': 0.5328021710376456,\n",
       "   'test_pearson_r': 0.7389042971306993},\n",
       "  'xgb': {'fit_time': 19.31522512435913,\n",
       "   'score_time': 0.032959699630737305,\n",
       "   'test_RMSE': 0.8061058253790164,\n",
       "   'test_MAE': 0.6178011728581929,\n",
       "   'test_R^2': 0.5339499276554808,\n",
       "   'test_pearson_r': 0.733433745878432},\n",
       "  'krr': {'fit_time': 2.0437984466552734,\n",
       "   'score_time': 0.22153099377950033,\n",
       "   'test_RMSE': 0.8595285120389028,\n",
       "   'test_MAE': 0.6419760694418325,\n",
       "   'test_R^2': 0.4704114745845282,\n",
       "   'test_pearson_r': 0.714757097673037},\n",
       "  'gp': {'fit_time': 186.9842208226522,\n",
       "   'score_time': 1.8223567803700764,\n",
       "   'test_RMSE': 0.7404273650161276,\n",
       "   'test_MAE': 0.5536692637676955,\n",
       "   'test_R^2': 0.6065986481308828,\n",
       "   'test_pearson_r': 0.7809086965126092}}}"
      ]
     },
     "execution_count": 18,
     "metadata": {},
     "output_type": "execute_result"
    }
   ],
   "source": [
    "mean_val_scores"
   ]
  },
  {
   "cell_type": "markdown",
   "metadata": {},
   "source": [
    "# Visualization"
   ]
  },
  {
   "cell_type": "markdown",
   "metadata": {},
   "source": [
    "## Plotting options"
   ]
  },
  {
   "cell_type": "code",
   "execution_count": 19,
   "metadata": {
    "colab": {},
    "colab_type": "code",
    "id": "Zx8K4vRIObYF"
   },
   "outputs": [],
   "source": [
    "column_order = ['1024ecfp-4']\n",
    "\n",
    "row_order = ['Random Forest', 'XGBoost', 'Kernel Ridge', 'Gaussian Process']\n",
    "mapper = {\n",
    "    'rf': 'Random Forest',\n",
    "    'xgb': 'XGBoost',\n",
    "    'krr': 'Kernel Ridge',\n",
    "    'gp': 'Gaussian Process'\n",
    "}"
   ]
  },
  {
   "cell_type": "markdown",
   "metadata": {},
   "source": [
    "## Train metric"
   ]
  },
  {
   "cell_type": "code",
   "execution_count": 20,
   "metadata": {
    "colab": {},
    "colab_type": "code",
    "id": "Vo6S1WmkObYJ",
    "outputId": "301d944b-d6a7-4fe3-d07e-42283571b794"
   },
   "outputs": [
    {
     "name": "stdout",
     "output_type": "stream",
     "text": [
      "RMSE : root-mean-square error , unit: (logD)\n"
     ]
    },
    {
     "data": {
      "text/html": [
       "<div>\n",
       "<style scoped>\n",
       "    .dataframe tbody tr th:only-of-type {\n",
       "        vertical-align: middle;\n",
       "    }\n",
       "\n",
       "    .dataframe tbody tr th {\n",
       "        vertical-align: top;\n",
       "    }\n",
       "\n",
       "    .dataframe thead th {\n",
       "        text-align: right;\n",
       "    }\n",
       "</style>\n",
       "<table border=\"1\" class=\"dataframe\">\n",
       "  <thead>\n",
       "    <tr style=\"text-align: right;\">\n",
       "      <th></th>\n",
       "      <th>1024ecfp-4</th>\n",
       "    </tr>\n",
       "  </thead>\n",
       "  <tbody>\n",
       "    <tr>\n",
       "      <th>gp</th>\n",
       "      <td>0.06</td>\n",
       "    </tr>\n",
       "    <tr>\n",
       "      <th>krr</th>\n",
       "      <td>0.27</td>\n",
       "    </tr>\n",
       "    <tr>\n",
       "      <th>rf</th>\n",
       "      <td>0.31</td>\n",
       "    </tr>\n",
       "    <tr>\n",
       "      <th>xgb</th>\n",
       "      <td>0.34</td>\n",
       "    </tr>\n",
       "  </tbody>\n",
       "</table>\n",
       "</div>"
      ],
      "text/plain": [
       "     1024ecfp-4\n",
       "gp         0.06\n",
       "krr        0.27\n",
       "rf         0.31\n",
       "xgb        0.34"
      ]
     },
     "execution_count": 20,
     "metadata": {},
     "output_type": "execute_result"
    }
   ],
   "source": [
    "## pull out train scores for all features for all models (train set is the train set when working on train/test split )\n",
    "train_metric = pd.DataFrame({features: {model: mean_train_test_scores[features][model][f'train_{metric}'] for model in mean_train_test_scores[features]} for features in mean_train_test_scores})\n",
    "\n",
    "print(metric, ':',metrics_to_labels[metric], ', unit:', datasets_to_units[dataset])\n",
    "train_metric.round(2)"
   ]
  },
  {
   "cell_type": "code",
   "execution_count": 21,
   "metadata": {
    "colab": {},
    "colab_type": "code",
    "id": "4iiKcCOMObYM",
    "outputId": "e973f26c-605b-4c34-d8c0-56b4ec602627"
   },
   "outputs": [
    {
     "data": {
      "text/plain": [
       "<matplotlib.collections.LineCollection at 0x1226a9f28>"
      ]
     },
     "execution_count": 21,
     "metadata": {},
     "output_type": "execute_result"
    },
    {
     "data": {
      "image/png": "[encoded data removed]",
      "text/plain": [
       "<Figure size 432x432 with 2 Axes>"
      ]
     },
     "metadata": {
      "needs_background": "light"
     },
     "output_type": "display_data"
    }
   ],
   "source": [
    "df = train_metric.round(2)\n",
    "df = df.rename(mapper=mapper, axis='rows')\n",
    "df = df.loc[row_order, column_order]\n",
    "\n",
    "fig, ax = plt.subplots(1,1,figsize=(6,6))\n",
    "sns.heatmap(df, annot=True, cmap='viridis',\n",
    "            cbar_kws={'label': r\"{} {}\".format(metrics_to_labels[metric], datasets_to_units[dataset])}, ax=ax)\n",
    "\n",
    "ax.set_ylabel('Algorithm')\n",
    "ax.set_xlabel('Features Used')\n",
    "ax.hlines([1, 3, 5, 7], *ax.get_xlim(), linestyle=':', linewidth=2)\n",
    "# fig.savefig('../figures/algorithm_comparison.jpg', dpi=350, bbox_inches='tight')"
   ]
  },
  {
   "cell_type": "markdown",
   "metadata": {},
   "source": [
    "## Val metric"
   ]
  },
  {
   "cell_type": "code",
   "execution_count": 22,
   "metadata": {
    "colab": {},
    "colab_type": "code",
    "id": "KhoOQLCFObYP",
    "outputId": "42aa4335-580b-4444-c3a1-50e83b83f258"
   },
   "outputs": [
    {
     "name": "stdout",
     "output_type": "stream",
     "text": [
      "RMSE : root-mean-square error , unit: (logD)\n"
     ]
    },
    {
     "data": {
      "text/html": [
       "<div>\n",
       "<style scoped>\n",
       "    .dataframe tbody tr th:only-of-type {\n",
       "        vertical-align: middle;\n",
       "    }\n",
       "\n",
       "    .dataframe tbody tr th {\n",
       "        vertical-align: top;\n",
       "    }\n",
       "\n",
       "    .dataframe thead th {\n",
       "        text-align: right;\n",
       "    }\n",
       "</style>\n",
       "<table border=\"1\" class=\"dataframe\">\n",
       "  <thead>\n",
       "    <tr style=\"text-align: right;\">\n",
       "      <th></th>\n",
       "      <th>1024ecfp-4</th>\n",
       "    </tr>\n",
       "  </thead>\n",
       "  <tbody>\n",
       "    <tr>\n",
       "      <th>gp</th>\n",
       "      <td>0.74</td>\n",
       "    </tr>\n",
       "    <tr>\n",
       "      <th>krr</th>\n",
       "      <td>0.86</td>\n",
       "    </tr>\n",
       "    <tr>\n",
       "      <th>rf</th>\n",
       "      <td>0.81</td>\n",
       "    </tr>\n",
       "    <tr>\n",
       "      <th>xgb</th>\n",
       "      <td>0.81</td>\n",
       "    </tr>\n",
       "  </tbody>\n",
       "</table>\n",
       "</div>"
      ],
      "text/plain": [
       "     1024ecfp-4\n",
       "gp         0.74\n",
       "krr        0.86\n",
       "rf         0.81\n",
       "xgb        0.81"
      ]
     },
     "execution_count": 22,
     "metadata": {},
     "output_type": "execute_result"
    }
   ],
   "source": [
    "## pull out validation scores for all features for all models (validation set is a test set when working on train/val split )\n",
    "val_metric = pd.DataFrame({features: {model: mean_val_scores[features][model][f'test_{metric}'] for model in mean_val_scores[features]} for features in mean_val_scores})\n",
    "\n",
    "print(metric, ':',metrics_to_labels[metric], ', unit:', datasets_to_units[dataset])\n",
    "val_metric.round(2)"
   ]
  },
  {
   "cell_type": "code",
   "execution_count": 23,
   "metadata": {
    "colab": {},
    "colab_type": "code",
    "id": "eMiuZLM0ObYS",
    "outputId": "b8cf8667-05e8-4394-cf88-19c3605f9b5e"
   },
   "outputs": [
    {
     "data": {
      "text/plain": [
       "<matplotlib.collections.LineCollection at 0x122716f98>"
      ]
     },
     "execution_count": 23,
     "metadata": {},
     "output_type": "execute_result"
    },
    {
     "data": {
      "image/png": "[encoded data removed]",
      "text/plain": [
       "<Figure size 432x432 with 2 Axes>"
      ]
     },
     "metadata": {
      "needs_background": "light"
     },
     "output_type": "display_data"
    }
   ],
   "source": [
    "df = val_metric.round(2)\n",
    "df = df.rename(mapper=mapper, axis='rows')\n",
    "df = df.loc[row_order, column_order]\n",
    "\n",
    "fig, ax = plt.subplots(1,1,figsize=(6,6))\n",
    "sns.heatmap(df, annot=True, cmap='viridis',\n",
    "            cbar_kws={'label': r\"{} {}\".format(metrics_to_labels[metric], datasets_to_units[dataset])}, ax=ax)\n",
    "\n",
    "ax.set_ylabel('Algorithm')\n",
    "ax.set_xlabel('Features Used')\n",
    "ax.hlines([1, 3, 5, 7], *ax.get_xlim(), linestyle=':', linewidth=2)\n",
    "# fig.savefig('../figures/algorithm_comparison.jpg', dpi=350, bbox_inches='tight')"
   ]
  },
  {
   "cell_type": "markdown",
   "metadata": {},
   "source": [
    "## Test metric"
   ]
  },
  {
   "cell_type": "code",
   "execution_count": 24,
   "metadata": {
    "colab": {},
    "colab_type": "code",
    "id": "1Npsyrn0ObYV",
    "outputId": "692f88c5-1e1f-4424-979a-8db0907141ad"
   },
   "outputs": [
    {
     "name": "stdout",
     "output_type": "stream",
     "text": [
      "RMSE : root-mean-square error , unit: (logD)\n"
     ]
    },
    {
     "data": {
      "text/html": [
       "<div>\n",
       "<style scoped>\n",
       "    .dataframe tbody tr th:only-of-type {\n",
       "        vertical-align: middle;\n",
       "    }\n",
       "\n",
       "    .dataframe tbody tr th {\n",
       "        vertical-align: top;\n",
       "    }\n",
       "\n",
       "    .dataframe thead th {\n",
       "        text-align: right;\n",
       "    }\n",
       "</style>\n",
       "<table border=\"1\" class=\"dataframe\">\n",
       "  <thead>\n",
       "    <tr style=\"text-align: right;\">\n",
       "      <th></th>\n",
       "      <th>1024ecfp-4</th>\n",
       "    </tr>\n",
       "  </thead>\n",
       "  <tbody>\n",
       "    <tr>\n",
       "      <th>gp</th>\n",
       "      <td>0.73</td>\n",
       "    </tr>\n",
       "    <tr>\n",
       "      <th>krr</th>\n",
       "      <td>0.81</td>\n",
       "    </tr>\n",
       "    <tr>\n",
       "      <th>rf</th>\n",
       "      <td>0.85</td>\n",
       "    </tr>\n",
       "    <tr>\n",
       "      <th>xgb</th>\n",
       "      <td>0.83</td>\n",
       "    </tr>\n",
       "  </tbody>\n",
       "</table>\n",
       "</div>"
      ],
      "text/plain": [
       "     1024ecfp-4\n",
       "gp         0.73\n",
       "krr        0.81\n",
       "rf         0.85\n",
       "xgb        0.83"
      ]
     },
     "execution_count": 24,
     "metadata": {},
     "output_type": "execute_result"
    }
   ],
   "source": [
    "## pull out validation scores for all features for all models (validation set is a test set when working on train/val split )\n",
    "test_metric = pd.DataFrame({features: {model: mean_train_test_scores[features][model][f'test_{metric}'] for model in mean_train_test_scores[features]} for features in mean_train_test_scores})\n",
    "\n",
    "print(metric, ':',metrics_to_labels[metric], ', unit:', datasets_to_units[dataset])\n",
    "test_metric.round(2)"
   ]
  },
  {
   "cell_type": "code",
   "execution_count": 25,
   "metadata": {
    "colab": {},
    "colab_type": "code",
    "id": "xLiKrnQAObYY",
    "outputId": "ae3f0a3d-6df0-4473-daef-07fdb6ddbc1c"
   },
   "outputs": [
    {
     "data": {
      "text/plain": [
       "<matplotlib.collections.LineCollection at 0x1229bd4a8>"
      ]
     },
     "execution_count": 25,
     "metadata": {},
     "output_type": "execute_result"
    },
    {
     "data": {
      "image/png": "[encoded data removed]",
      "text/plain": [
       "<Figure size 432x432 with 2 Axes>"
      ]
     },
     "metadata": {
      "needs_background": "light"
     },
     "output_type": "display_data"
    }
   ],
   "source": [
    "df = test_metric.round(2)\n",
    "df = df.rename(mapper=mapper, axis='rows')\n",
    "df = df.loc[row_order, column_order]\n",
    "\n",
    "fig, ax = plt.subplots(1,1,figsize=(6,6))\n",
    "sns.heatmap(df, annot=True, cmap='viridis',\n",
    "            cbar_kws={'label': r\"{} {}\".format(metrics_to_labels[metric], datasets_to_units[dataset])}, ax=ax)\n",
    "\n",
    "ax.set_ylabel('Algorithm')\n",
    "ax.set_xlabel('Features Used')\n",
    "ax.hlines([1, 3, 5, 7], *ax.get_xlim(), linestyle=':', linewidth=2)\n",
    "# fig.savefig('../figures/algorithm_comparison.jpg', dpi=350, bbox_inches='tight')"
   ]
  },
  {
   "cell_type": "markdown",
   "metadata": {
    "colab": {},
    "colab_type": "code",
    "id": "9OFPhzLsObYb"
   },
   "source": [
    "# Creating a table with all the scores"
   ]
  },
  {
   "cell_type": "markdown",
   "metadata": {},
   "source": [
    "## Train and test scores data frame"
   ]
  },
  {
   "cell_type": "code",
   "execution_count": 26,
   "metadata": {},
   "outputs": [
    {
     "data": {
      "text/html": [
       "<div>\n",
       "<style scoped>\n",
       "    .dataframe tbody tr th:only-of-type {\n",
       "        vertical-align: middle;\n",
       "    }\n",
       "\n",
       "    .dataframe tbody tr th {\n",
       "        vertical-align: top;\n",
       "    }\n",
       "\n",
       "    .dataframe thead th {\n",
       "        text-align: right;\n",
       "    }\n",
       "</style>\n",
       "<table border=\"1\" class=\"dataframe\">\n",
       "  <thead>\n",
       "    <tr style=\"text-align: right;\">\n",
       "      <th></th>\n",
       "      <th>fit_time</th>\n",
       "      <th>score_time</th>\n",
       "      <th>test_RMSE</th>\n",
       "      <th>train_RMSE</th>\n",
       "      <th>test_MAE</th>\n",
       "      <th>train_MAE</th>\n",
       "      <th>test_R^2</th>\n",
       "      <th>train_R^2</th>\n",
       "      <th>test_pearson_r</th>\n",
       "      <th>train_pearson_r</th>\n",
       "    </tr>\n",
       "  </thead>\n",
       "  <tbody>\n",
       "    <tr>\n",
       "      <th>rf</th>\n",
       "      <td>59.721209</td>\n",
       "      <td>0.035659</td>\n",
       "      <td>0.046198</td>\n",
       "      <td>0.003326</td>\n",
       "      <td>0.042233</td>\n",
       "      <td>0.002876</td>\n",
       "      <td>0.012954</td>\n",
       "      <td>0.000945</td>\n",
       "      <td>0.010972</td>\n",
       "      <td>0.000456</td>\n",
       "    </tr>\n",
       "    <tr>\n",
       "      <th>xgb</th>\n",
       "      <td>4.054296</td>\n",
       "      <td>0.009421</td>\n",
       "      <td>0.060974</td>\n",
       "      <td>0.004196</td>\n",
       "      <td>0.042052</td>\n",
       "      <td>0.003697</td>\n",
       "      <td>0.037927</td>\n",
       "      <td>0.001640</td>\n",
       "      <td>0.024520</td>\n",
       "      <td>0.000582</td>\n",
       "    </tr>\n",
       "    <tr>\n",
       "      <th>krr</th>\n",
       "      <td>0.549652</td>\n",
       "      <td>0.064418</td>\n",
       "      <td>0.077255</td>\n",
       "      <td>0.003429</td>\n",
       "      <td>0.053226</td>\n",
       "      <td>0.002618</td>\n",
       "      <td>0.059657</td>\n",
       "      <td>0.001150</td>\n",
       "      <td>0.034160</td>\n",
       "      <td>0.000522</td>\n",
       "    </tr>\n",
       "    <tr>\n",
       "      <th>gp</th>\n",
       "      <td>47.270695</td>\n",
       "      <td>0.270743</td>\n",
       "      <td>0.055314</td>\n",
       "      <td>0.007523</td>\n",
       "      <td>0.048058</td>\n",
       "      <td>0.005486</td>\n",
       "      <td>0.031497</td>\n",
       "      <td>0.000645</td>\n",
       "      <td>0.019483</td>\n",
       "      <td>0.000233</td>\n",
       "    </tr>\n",
       "  </tbody>\n",
       "</table>\n",
       "</div>"
      ],
      "text/plain": [
       "      fit_time  score_time  test_RMSE  train_RMSE  test_MAE  train_MAE  \\\n",
       "rf   59.721209    0.035659   0.046198    0.003326  0.042233   0.002876   \n",
       "xgb   4.054296    0.009421   0.060974    0.004196  0.042052   0.003697   \n",
       "krr   0.549652    0.064418   0.077255    0.003429  0.053226   0.002618   \n",
       "gp   47.270695    0.270743   0.055314    0.007523  0.048058   0.005486   \n",
       "\n",
       "     test_R^2  train_R^2  test_pearson_r  train_pearson_r  \n",
       "rf   0.012954   0.000945        0.010972         0.000456  \n",
       "xgb  0.037927   0.001640        0.024520         0.000582  \n",
       "krr  0.059657   0.001150        0.034160         0.000522  \n",
       "gp   0.031497   0.000645        0.019483         0.000233  "
      ]
     },
     "execution_count": 26,
     "metadata": {},
     "output_type": "execute_result"
    }
   ],
   "source": [
    "train_test_means_df = pd.DataFrame(mean_train_test_scores['1024ecfp-4']).T\n",
    "train_test_stds_df = pd.DataFrame(std_train_test_scores['1024ecfp-4']).T\n",
    "\n",
    "train_test_stds_df"
   ]
  },
  {
   "cell_type": "markdown",
   "metadata": {},
   "source": [
    "## Validation scores data frame"
   ]
  },
  {
   "cell_type": "markdown",
   "metadata": {},
   "source": [
    "### Changing col names to 'val_\\*' form 'test_\\*'"
   ]
  },
  {
   "cell_type": "code",
   "execution_count": 27,
   "metadata": {},
   "outputs": [
    {
     "data": {
      "text/html": [
       "<div>\n",
       "<style scoped>\n",
       "    .dataframe tbody tr th:only-of-type {\n",
       "        vertical-align: middle;\n",
       "    }\n",
       "\n",
       "    .dataframe tbody tr th {\n",
       "        vertical-align: top;\n",
       "    }\n",
       "\n",
       "    .dataframe thead th {\n",
       "        text-align: right;\n",
       "    }\n",
       "</style>\n",
       "<table border=\"1\" class=\"dataframe\">\n",
       "  <thead>\n",
       "    <tr style=\"text-align: right;\">\n",
       "      <th></th>\n",
       "      <th>fit_time</th>\n",
       "      <th>score_time</th>\n",
       "      <th>test_RMSE</th>\n",
       "      <th>test_MAE</th>\n",
       "      <th>test_R^2</th>\n",
       "      <th>test_pearson_r</th>\n",
       "    </tr>\n",
       "  </thead>\n",
       "  <tbody>\n",
       "    <tr>\n",
       "      <th>rf</th>\n",
       "      <td>52.104289</td>\n",
       "      <td>0.033944</td>\n",
       "      <td>0.036401</td>\n",
       "      <td>0.024994</td>\n",
       "      <td>0.028348</td>\n",
       "      <td>0.024203</td>\n",
       "    </tr>\n",
       "    <tr>\n",
       "      <th>xgb</th>\n",
       "      <td>3.700574</td>\n",
       "      <td>0.007332</td>\n",
       "      <td>0.029510</td>\n",
       "      <td>0.026342</td>\n",
       "      <td>0.022326</td>\n",
       "      <td>0.014001</td>\n",
       "    </tr>\n",
       "    <tr>\n",
       "      <th>krr</th>\n",
       "      <td>0.515102</td>\n",
       "      <td>0.052119</td>\n",
       "      <td>0.028485</td>\n",
       "      <td>0.023111</td>\n",
       "      <td>0.015121</td>\n",
       "      <td>0.005638</td>\n",
       "    </tr>\n",
       "    <tr>\n",
       "      <th>gp</th>\n",
       "      <td>32.352425</td>\n",
       "      <td>0.224639</td>\n",
       "      <td>0.012414</td>\n",
       "      <td>0.008701</td>\n",
       "      <td>0.014126</td>\n",
       "      <td>0.009459</td>\n",
       "    </tr>\n",
       "  </tbody>\n",
       "</table>\n",
       "</div>"
      ],
      "text/plain": [
       "      fit_time  score_time  test_RMSE  test_MAE  test_R^2  test_pearson_r\n",
       "rf   52.104289    0.033944   0.036401  0.024994  0.028348        0.024203\n",
       "xgb   3.700574    0.007332   0.029510  0.026342  0.022326        0.014001\n",
       "krr   0.515102    0.052119   0.028485  0.023111  0.015121        0.005638\n",
       "gp   32.352425    0.224639   0.012414  0.008701  0.014126        0.009459"
      ]
     },
     "execution_count": 27,
     "metadata": {},
     "output_type": "execute_result"
    }
   ],
   "source": [
    "val_means_df = pd.DataFrame(mean_val_scores['1024ecfp-4']).T\n",
    "val_stds_df = pd.DataFrame(std_val_scores['1024ecfp-4']).T\n",
    "\n",
    "val_stds_df"
   ]
  },
  {
   "cell_type": "code",
   "execution_count": 28,
   "metadata": {},
   "outputs": [
    {
     "data": {
      "text/html": [
       "<div>\n",
       "<style scoped>\n",
       "    .dataframe tbody tr th:only-of-type {\n",
       "        vertical-align: middle;\n",
       "    }\n",
       "\n",
       "    .dataframe tbody tr th {\n",
       "        vertical-align: top;\n",
       "    }\n",
       "\n",
       "    .dataframe thead th {\n",
       "        text-align: right;\n",
       "    }\n",
       "</style>\n",
       "<table border=\"1\" class=\"dataframe\">\n",
       "  <thead>\n",
       "    <tr style=\"text-align: right;\">\n",
       "      <th></th>\n",
       "      <th>test_RMSE</th>\n",
       "      <th>test_MAE</th>\n",
       "      <th>test_R^2</th>\n",
       "      <th>test_pearson_r</th>\n",
       "    </tr>\n",
       "  </thead>\n",
       "  <tbody>\n",
       "    <tr>\n",
       "      <th>rf</th>\n",
       "      <td>0.036401</td>\n",
       "      <td>0.024994</td>\n",
       "      <td>0.028348</td>\n",
       "      <td>0.024203</td>\n",
       "    </tr>\n",
       "    <tr>\n",
       "      <th>xgb</th>\n",
       "      <td>0.029510</td>\n",
       "      <td>0.026342</td>\n",
       "      <td>0.022326</td>\n",
       "      <td>0.014001</td>\n",
       "    </tr>\n",
       "    <tr>\n",
       "      <th>krr</th>\n",
       "      <td>0.028485</td>\n",
       "      <td>0.023111</td>\n",
       "      <td>0.015121</td>\n",
       "      <td>0.005638</td>\n",
       "    </tr>\n",
       "    <tr>\n",
       "      <th>gp</th>\n",
       "      <td>0.012414</td>\n",
       "      <td>0.008701</td>\n",
       "      <td>0.014126</td>\n",
       "      <td>0.009459</td>\n",
       "    </tr>\n",
       "  </tbody>\n",
       "</table>\n",
       "</div>"
      ],
      "text/plain": [
       "     test_RMSE  test_MAE  test_R^2  test_pearson_r\n",
       "rf    0.036401  0.024994  0.028348        0.024203\n",
       "xgb   0.029510  0.026342  0.022326        0.014001\n",
       "krr   0.028485  0.023111  0.015121        0.005638\n",
       "gp    0.012414  0.008701  0.014126        0.009459"
      ]
     },
     "execution_count": 28,
     "metadata": {},
     "output_type": "execute_result"
    }
   ],
   "source": [
    "val_means_df.drop(['fit_time', 'score_time'], axis=1, inplace=True)\n",
    "val_stds_df.drop(['fit_time', 'score_time'], axis=1, inplace=True)\n",
    "val_stds_df"
   ]
  },
  {
   "cell_type": "code",
   "execution_count": 29,
   "metadata": {},
   "outputs": [
    {
     "data": {
      "text/plain": [
       "['test_RMSE', 'test_MAE', 'test_R^2', 'test_pearson_r']"
      ]
     },
     "execution_count": 29,
     "metadata": {},
     "output_type": "execute_result"
    }
   ],
   "source": [
    "col_names = list(val_means_df.columns)\n",
    "col_names"
   ]
  },
  {
   "cell_type": "code",
   "execution_count": 30,
   "metadata": {},
   "outputs": [
    {
     "data": {
      "text/plain": [
       "['val_RMSE', 'val_MAE', 'val_R^2', 'val_pearson_r']"
      ]
     },
     "execution_count": 30,
     "metadata": {},
     "output_type": "execute_result"
    }
   ],
   "source": [
    "new_col_names = []\n",
    "for name in col_names:\n",
    "    new_col_names.append(name.replace(\"test\", \"val\"))\n",
    "    \n",
    "new_col_names"
   ]
  },
  {
   "cell_type": "markdown",
   "metadata": {},
   "source": [
    "### Ready validation data frame"
   ]
  },
  {
   "cell_type": "code",
   "execution_count": 31,
   "metadata": {},
   "outputs": [
    {
     "data": {
      "text/html": [
       "<div>\n",
       "<style scoped>\n",
       "    .dataframe tbody tr th:only-of-type {\n",
       "        vertical-align: middle;\n",
       "    }\n",
       "\n",
       "    .dataframe tbody tr th {\n",
       "        vertical-align: top;\n",
       "    }\n",
       "\n",
       "    .dataframe thead th {\n",
       "        text-align: right;\n",
       "    }\n",
       "</style>\n",
       "<table border=\"1\" class=\"dataframe\">\n",
       "  <thead>\n",
       "    <tr style=\"text-align: right;\">\n",
       "      <th></th>\n",
       "      <th>val_RMSE</th>\n",
       "      <th>val_MAE</th>\n",
       "      <th>val_R^2</th>\n",
       "      <th>val_pearson_r</th>\n",
       "    </tr>\n",
       "  </thead>\n",
       "  <tbody>\n",
       "    <tr>\n",
       "      <th>rf</th>\n",
       "      <td>0.036401</td>\n",
       "      <td>0.024994</td>\n",
       "      <td>0.028348</td>\n",
       "      <td>0.024203</td>\n",
       "    </tr>\n",
       "    <tr>\n",
       "      <th>xgb</th>\n",
       "      <td>0.029510</td>\n",
       "      <td>0.026342</td>\n",
       "      <td>0.022326</td>\n",
       "      <td>0.014001</td>\n",
       "    </tr>\n",
       "    <tr>\n",
       "      <th>krr</th>\n",
       "      <td>0.028485</td>\n",
       "      <td>0.023111</td>\n",
       "      <td>0.015121</td>\n",
       "      <td>0.005638</td>\n",
       "    </tr>\n",
       "    <tr>\n",
       "      <th>gp</th>\n",
       "      <td>0.012414</td>\n",
       "      <td>0.008701</td>\n",
       "      <td>0.014126</td>\n",
       "      <td>0.009459</td>\n",
       "    </tr>\n",
       "  </tbody>\n",
       "</table>\n",
       "</div>"
      ],
      "text/plain": [
       "     val_RMSE   val_MAE   val_R^2  val_pearson_r\n",
       "rf   0.036401  0.024994  0.028348       0.024203\n",
       "xgb  0.029510  0.026342  0.022326       0.014001\n",
       "krr  0.028485  0.023111  0.015121       0.005638\n",
       "gp   0.012414  0.008701  0.014126       0.009459"
      ]
     },
     "execution_count": 31,
     "metadata": {},
     "output_type": "execute_result"
    }
   ],
   "source": [
    "val_means_df.columns = new_col_names\n",
    "val_stds_df.columns = new_col_names\n",
    "\n",
    "val_stds_df"
   ]
  },
  {
   "cell_type": "markdown",
   "metadata": {},
   "source": [
    "## All scores"
   ]
  },
  {
   "cell_type": "code",
   "execution_count": 32,
   "metadata": {},
   "outputs": [
    {
     "data": {
      "text/html": [
       "<div>\n",
       "<style scoped>\n",
       "    .dataframe tbody tr th:only-of-type {\n",
       "        vertical-align: middle;\n",
       "    }\n",
       "\n",
       "    .dataframe tbody tr th {\n",
       "        vertical-align: top;\n",
       "    }\n",
       "\n",
       "    .dataframe thead th {\n",
       "        text-align: right;\n",
       "    }\n",
       "</style>\n",
       "<table border=\"1\" class=\"dataframe\">\n",
       "  <thead>\n",
       "    <tr style=\"text-align: right;\">\n",
       "      <th></th>\n",
       "      <th>fit_time</th>\n",
       "      <th>score_time</th>\n",
       "      <th>test_RMSE</th>\n",
       "      <th>train_RMSE</th>\n",
       "      <th>test_MAE</th>\n",
       "      <th>train_MAE</th>\n",
       "      <th>test_R^2</th>\n",
       "      <th>train_R^2</th>\n",
       "      <th>test_pearson_r</th>\n",
       "      <th>train_pearson_r</th>\n",
       "      <th>val_RMSE</th>\n",
       "      <th>val_MAE</th>\n",
       "      <th>val_R^2</th>\n",
       "      <th>val_pearson_r</th>\n",
       "    </tr>\n",
       "  </thead>\n",
       "  <tbody>\n",
       "    <tr>\n",
       "      <th>rf</th>\n",
       "      <td>59.721209</td>\n",
       "      <td>0.035659</td>\n",
       "      <td>0.046198</td>\n",
       "      <td>0.003326</td>\n",
       "      <td>0.042233</td>\n",
       "      <td>0.002876</td>\n",
       "      <td>0.012954</td>\n",
       "      <td>0.000945</td>\n",
       "      <td>0.010972</td>\n",
       "      <td>0.000456</td>\n",
       "      <td>0.036401</td>\n",
       "      <td>0.024994</td>\n",
       "      <td>0.028348</td>\n",
       "      <td>0.024203</td>\n",
       "    </tr>\n",
       "    <tr>\n",
       "      <th>xgb</th>\n",
       "      <td>4.054296</td>\n",
       "      <td>0.009421</td>\n",
       "      <td>0.060974</td>\n",
       "      <td>0.004196</td>\n",
       "      <td>0.042052</td>\n",
       "      <td>0.003697</td>\n",
       "      <td>0.037927</td>\n",
       "      <td>0.001640</td>\n",
       "      <td>0.024520</td>\n",
       "      <td>0.000582</td>\n",
       "      <td>0.029510</td>\n",
       "      <td>0.026342</td>\n",
       "      <td>0.022326</td>\n",
       "      <td>0.014001</td>\n",
       "    </tr>\n",
       "    <tr>\n",
       "      <th>krr</th>\n",
       "      <td>0.549652</td>\n",
       "      <td>0.064418</td>\n",
       "      <td>0.077255</td>\n",
       "      <td>0.003429</td>\n",
       "      <td>0.053226</td>\n",
       "      <td>0.002618</td>\n",
       "      <td>0.059657</td>\n",
       "      <td>0.001150</td>\n",
       "      <td>0.034160</td>\n",
       "      <td>0.000522</td>\n",
       "      <td>0.028485</td>\n",
       "      <td>0.023111</td>\n",
       "      <td>0.015121</td>\n",
       "      <td>0.005638</td>\n",
       "    </tr>\n",
       "    <tr>\n",
       "      <th>gp</th>\n",
       "      <td>47.270695</td>\n",
       "      <td>0.270743</td>\n",
       "      <td>0.055314</td>\n",
       "      <td>0.007523</td>\n",
       "      <td>0.048058</td>\n",
       "      <td>0.005486</td>\n",
       "      <td>0.031497</td>\n",
       "      <td>0.000645</td>\n",
       "      <td>0.019483</td>\n",
       "      <td>0.000233</td>\n",
       "      <td>0.012414</td>\n",
       "      <td>0.008701</td>\n",
       "      <td>0.014126</td>\n",
       "      <td>0.009459</td>\n",
       "    </tr>\n",
       "  </tbody>\n",
       "</table>\n",
       "</div>"
      ],
      "text/plain": [
       "      fit_time  score_time  test_RMSE  train_RMSE  test_MAE  train_MAE  \\\n",
       "rf   59.721209    0.035659   0.046198    0.003326  0.042233   0.002876   \n",
       "xgb   4.054296    0.009421   0.060974    0.004196  0.042052   0.003697   \n",
       "krr   0.549652    0.064418   0.077255    0.003429  0.053226   0.002618   \n",
       "gp   47.270695    0.270743   0.055314    0.007523  0.048058   0.005486   \n",
       "\n",
       "     test_R^2  train_R^2  test_pearson_r  train_pearson_r  val_RMSE   val_MAE  \\\n",
       "rf   0.012954   0.000945        0.010972         0.000456  0.036401  0.024994   \n",
       "xgb  0.037927   0.001640        0.024520         0.000582  0.029510  0.026342   \n",
       "krr  0.059657   0.001150        0.034160         0.000522  0.028485  0.023111   \n",
       "gp   0.031497   0.000645        0.019483         0.000233  0.012414  0.008701   \n",
       "\n",
       "      val_R^2  val_pearson_r  \n",
       "rf   0.028348       0.024203  \n",
       "xgb  0.022326       0.014001  \n",
       "krr  0.015121       0.005638  \n",
       "gp   0.014126       0.009459  "
      ]
     },
     "execution_count": 32,
     "metadata": {},
     "output_type": "execute_result"
    }
   ],
   "source": [
    "all_means = pd.concat([train_test_means_df, val_means_df], axis = 1)\n",
    "all_stds = pd.concat([train_test_stds_df, val_stds_df], axis = 1)\n",
    "\n",
    "all_stds"
   ]
  },
  {
   "cell_type": "code",
   "execution_count": 33,
   "metadata": {},
   "outputs": [
    {
     "data": {
      "text/plain": [
       "['fit_time',\n",
       " 'score_time',\n",
       " 'train_RMSE',\n",
       " 'val_RMSE',\n",
       " 'test_RMSE',\n",
       " 'train_MAE',\n",
       " 'val_MAE',\n",
       " 'test_MAE',\n",
       " 'train_R^2',\n",
       " 'val_R^2',\n",
       " 'test_R^2',\n",
       " 'train_pearson_r',\n",
       " 'val_pearson_r',\n",
       " 'test_pearson_r']"
      ]
     },
     "execution_count": 33,
     "metadata": {},
     "output_type": "execute_result"
    }
   ],
   "source": [
    "col_order = ['fit_time', 'score_time']\n",
    "temp = [[f'train_{metric}', f'val_{metric}', f'test_{metric}'] for metric in metrics_to_labels]\n",
    "\n",
    "for l in temp:\n",
    "    col_order.extend(l)\n",
    "    \n",
    "col_order"
   ]
  },
  {
   "cell_type": "code",
   "execution_count": 34,
   "metadata": {},
   "outputs": [
    {
     "data": {
      "text/html": [
       "<div>\n",
       "<style scoped>\n",
       "    .dataframe tbody tr th:only-of-type {\n",
       "        vertical-align: middle;\n",
       "    }\n",
       "\n",
       "    .dataframe tbody tr th {\n",
       "        vertical-align: top;\n",
       "    }\n",
       "\n",
       "    .dataframe thead th {\n",
       "        text-align: right;\n",
       "    }\n",
       "</style>\n",
       "<table border=\"1\" class=\"dataframe\">\n",
       "  <thead>\n",
       "    <tr style=\"text-align: right;\">\n",
       "      <th></th>\n",
       "      <th>fit_time</th>\n",
       "      <th>score_time</th>\n",
       "      <th>train_RMSE</th>\n",
       "      <th>val_RMSE</th>\n",
       "      <th>test_RMSE</th>\n",
       "      <th>train_MAE</th>\n",
       "      <th>val_MAE</th>\n",
       "      <th>test_MAE</th>\n",
       "      <th>train_R^2</th>\n",
       "      <th>val_R^2</th>\n",
       "      <th>test_R^2</th>\n",
       "      <th>train_pearson_r</th>\n",
       "      <th>val_pearson_r</th>\n",
       "      <th>test_pearson_r</th>\n",
       "    </tr>\n",
       "  </thead>\n",
       "  <tbody>\n",
       "    <tr>\n",
       "      <th>rf</th>\n",
       "      <td>59.721209</td>\n",
       "      <td>0.035659</td>\n",
       "      <td>0.003326</td>\n",
       "      <td>0.036401</td>\n",
       "      <td>0.046198</td>\n",
       "      <td>0.002876</td>\n",
       "      <td>0.024994</td>\n",
       "      <td>0.042233</td>\n",
       "      <td>0.000945</td>\n",
       "      <td>0.028348</td>\n",
       "      <td>0.012954</td>\n",
       "      <td>0.000456</td>\n",
       "      <td>0.024203</td>\n",
       "      <td>0.010972</td>\n",
       "    </tr>\n",
       "    <tr>\n",
       "      <th>xgb</th>\n",
       "      <td>4.054296</td>\n",
       "      <td>0.009421</td>\n",
       "      <td>0.004196</td>\n",
       "      <td>0.029510</td>\n",
       "      <td>0.060974</td>\n",
       "      <td>0.003697</td>\n",
       "      <td>0.026342</td>\n",
       "      <td>0.042052</td>\n",
       "      <td>0.001640</td>\n",
       "      <td>0.022326</td>\n",
       "      <td>0.037927</td>\n",
       "      <td>0.000582</td>\n",
       "      <td>0.014001</td>\n",
       "      <td>0.024520</td>\n",
       "    </tr>\n",
       "    <tr>\n",
       "      <th>krr</th>\n",
       "      <td>0.549652</td>\n",
       "      <td>0.064418</td>\n",
       "      <td>0.003429</td>\n",
       "      <td>0.028485</td>\n",
       "      <td>0.077255</td>\n",
       "      <td>0.002618</td>\n",
       "      <td>0.023111</td>\n",
       "      <td>0.053226</td>\n",
       "      <td>0.001150</td>\n",
       "      <td>0.015121</td>\n",
       "      <td>0.059657</td>\n",
       "      <td>0.000522</td>\n",
       "      <td>0.005638</td>\n",
       "      <td>0.034160</td>\n",
       "    </tr>\n",
       "    <tr>\n",
       "      <th>gp</th>\n",
       "      <td>47.270695</td>\n",
       "      <td>0.270743</td>\n",
       "      <td>0.007523</td>\n",
       "      <td>0.012414</td>\n",
       "      <td>0.055314</td>\n",
       "      <td>0.005486</td>\n",
       "      <td>0.008701</td>\n",
       "      <td>0.048058</td>\n",
       "      <td>0.000645</td>\n",
       "      <td>0.014126</td>\n",
       "      <td>0.031497</td>\n",
       "      <td>0.000233</td>\n",
       "      <td>0.009459</td>\n",
       "      <td>0.019483</td>\n",
       "    </tr>\n",
       "  </tbody>\n",
       "</table>\n",
       "</div>"
      ],
      "text/plain": [
       "      fit_time  score_time  train_RMSE  val_RMSE  test_RMSE  train_MAE  \\\n",
       "rf   59.721209    0.035659    0.003326  0.036401   0.046198   0.002876   \n",
       "xgb   4.054296    0.009421    0.004196  0.029510   0.060974   0.003697   \n",
       "krr   0.549652    0.064418    0.003429  0.028485   0.077255   0.002618   \n",
       "gp   47.270695    0.270743    0.007523  0.012414   0.055314   0.005486   \n",
       "\n",
       "      val_MAE  test_MAE  train_R^2   val_R^2  test_R^2  train_pearson_r  \\\n",
       "rf   0.024994  0.042233   0.000945  0.028348  0.012954         0.000456   \n",
       "xgb  0.026342  0.042052   0.001640  0.022326  0.037927         0.000582   \n",
       "krr  0.023111  0.053226   0.001150  0.015121  0.059657         0.000522   \n",
       "gp   0.008701  0.048058   0.000645  0.014126  0.031497         0.000233   \n",
       "\n",
       "     val_pearson_r  test_pearson_r  \n",
       "rf        0.024203        0.010972  \n",
       "xgb       0.014001        0.024520  \n",
       "krr       0.005638        0.034160  \n",
       "gp        0.009459        0.019483  "
      ]
     },
     "execution_count": 34,
     "metadata": {},
     "output_type": "execute_result"
    }
   ],
   "source": [
    "all_means = all_means[col_order]\n",
    "all_stds = all_stds[col_order]\n",
    "\n",
    "all_stds"
   ]
  },
  {
   "cell_type": "code",
   "execution_count": 35,
   "metadata": {},
   "outputs": [],
   "source": [
    "# # making rmse, mae positive\n",
    "\n",
    "# for subset in ['train', 'val', 'test']:\n",
    "#     for metric in ['RMSE', 'MAE']:\n",
    "#         all_means[f'{subset}_{metric}'] = np.abs(all_scores[f'{subset}_{metric}'])"
   ]
  },
  {
   "cell_type": "markdown",
   "metadata": {},
   "source": [
    "## Presentable version"
   ]
  },
  {
   "cell_type": "code",
   "execution_count": 36,
   "metadata": {},
   "outputs": [],
   "source": [
    "presentable_all_means = np.round(all_means, 3)\n",
    "presentable_all_stds = np.round(all_stds, 3)"
   ]
  },
  {
   "cell_type": "code",
   "execution_count": 37,
   "metadata": {},
   "outputs": [
    {
     "name": "stdout",
     "output_type": "stream",
     "text": [
      "lipophilicity original reproducing\n",
      "\n",
      "Means:\n"
     ]
    },
    {
     "data": {
      "text/html": [
       "<div>\n",
       "<style scoped>\n",
       "    .dataframe tbody tr th:only-of-type {\n",
       "        vertical-align: middle;\n",
       "    }\n",
       "\n",
       "    .dataframe tbody tr th {\n",
       "        vertical-align: top;\n",
       "    }\n",
       "\n",
       "    .dataframe thead th {\n",
       "        text-align: right;\n",
       "    }\n",
       "</style>\n",
       "<table border=\"1\" class=\"dataframe\">\n",
       "  <thead>\n",
       "    <tr style=\"text-align: right;\">\n",
       "      <th></th>\n",
       "      <th>fit_time</th>\n",
       "      <th>score_time</th>\n",
       "      <th>train_RMSE</th>\n",
       "      <th>val_RMSE</th>\n",
       "      <th>test_RMSE</th>\n",
       "      <th>train_MAE</th>\n",
       "      <th>val_MAE</th>\n",
       "      <th>test_MAE</th>\n",
       "      <th>train_R^2</th>\n",
       "      <th>val_R^2</th>\n",
       "      <th>test_R^2</th>\n",
       "      <th>train_pearson_r</th>\n",
       "      <th>val_pearson_r</th>\n",
       "      <th>test_pearson_r</th>\n",
       "    </tr>\n",
       "  </thead>\n",
       "  <tbody>\n",
       "    <tr>\n",
       "      <th>rf</th>\n",
       "      <td>286.008</td>\n",
       "      <td>0.170</td>\n",
       "      <td>0.312</td>\n",
       "      <td>0.807</td>\n",
       "      <td>0.846</td>\n",
       "      <td>0.235</td>\n",
       "      <td>0.621</td>\n",
       "      <td>0.639</td>\n",
       "      <td>0.933</td>\n",
       "      <td>0.533</td>\n",
       "      <td>0.481</td>\n",
       "      <td>0.979</td>\n",
       "      <td>0.739</td>\n",
       "      <td>0.700</td>\n",
       "    </tr>\n",
       "    <tr>\n",
       "      <th>xgb</th>\n",
       "      <td>21.516</td>\n",
       "      <td>0.034</td>\n",
       "      <td>0.341</td>\n",
       "      <td>0.806</td>\n",
       "      <td>0.831</td>\n",
       "      <td>0.258</td>\n",
       "      <td>0.618</td>\n",
       "      <td>0.630</td>\n",
       "      <td>0.920</td>\n",
       "      <td>0.534</td>\n",
       "      <td>0.499</td>\n",
       "      <td>0.967</td>\n",
       "      <td>0.733</td>\n",
       "      <td>0.710</td>\n",
       "    </tr>\n",
       "    <tr>\n",
       "      <th>krr</th>\n",
       "      <td>2.967</td>\n",
       "      <td>0.255</td>\n",
       "      <td>0.271</td>\n",
       "      <td>0.860</td>\n",
       "      <td>0.807</td>\n",
       "      <td>0.203</td>\n",
       "      <td>0.642</td>\n",
       "      <td>0.595</td>\n",
       "      <td>0.950</td>\n",
       "      <td>0.470</td>\n",
       "      <td>0.527</td>\n",
       "      <td>0.977</td>\n",
       "      <td>0.715</td>\n",
       "      <td>0.743</td>\n",
       "    </tr>\n",
       "    <tr>\n",
       "      <th>gp</th>\n",
       "      <td>259.156</td>\n",
       "      <td>2.055</td>\n",
       "      <td>0.063</td>\n",
       "      <td>0.740</td>\n",
       "      <td>0.729</td>\n",
       "      <td>0.043</td>\n",
       "      <td>0.554</td>\n",
       "      <td>0.538</td>\n",
       "      <td>0.997</td>\n",
       "      <td>0.607</td>\n",
       "      <td>0.614</td>\n",
       "      <td>0.999</td>\n",
       "      <td>0.781</td>\n",
       "      <td>0.786</td>\n",
       "    </tr>\n",
       "  </tbody>\n",
       "</table>\n",
       "</div>"
      ],
      "text/plain": [
       "     fit_time  score_time  train_RMSE  val_RMSE  test_RMSE  train_MAE  \\\n",
       "rf    286.008       0.170       0.312     0.807      0.846      0.235   \n",
       "xgb    21.516       0.034       0.341     0.806      0.831      0.258   \n",
       "krr     2.967       0.255       0.271     0.860      0.807      0.203   \n",
       "gp    259.156       2.055       0.063     0.740      0.729      0.043   \n",
       "\n",
       "     val_MAE  test_MAE  train_R^2  val_R^2  test_R^2  train_pearson_r  \\\n",
       "rf     0.621     0.639      0.933    0.533     0.481            0.979   \n",
       "xgb    0.618     0.630      0.920    0.534     0.499            0.967   \n",
       "krr    0.642     0.595      0.950    0.470     0.527            0.977   \n",
       "gp     0.554     0.538      0.997    0.607     0.614            0.999   \n",
       "\n",
       "     val_pearson_r  test_pearson_r  \n",
       "rf           0.739           0.700  \n",
       "xgb          0.733           0.710  \n",
       "krr          0.715           0.743  \n",
       "gp           0.781           0.786  "
      ]
     },
     "metadata": {},
     "output_type": "display_data"
    },
    {
     "name": "stdout",
     "output_type": "stream",
     "text": [
      "Standard deviations:\n"
     ]
    },
    {
     "data": {
      "text/html": [
       "<div>\n",
       "<style scoped>\n",
       "    .dataframe tbody tr th:only-of-type {\n",
       "        vertical-align: middle;\n",
       "    }\n",
       "\n",
       "    .dataframe tbody tr th {\n",
       "        vertical-align: top;\n",
       "    }\n",
       "\n",
       "    .dataframe thead th {\n",
       "        text-align: right;\n",
       "    }\n",
       "</style>\n",
       "<table border=\"1\" class=\"dataframe\">\n",
       "  <thead>\n",
       "    <tr style=\"text-align: right;\">\n",
       "      <th></th>\n",
       "      <th>fit_time</th>\n",
       "      <th>score_time</th>\n",
       "      <th>train_RMSE</th>\n",
       "      <th>val_RMSE</th>\n",
       "      <th>test_RMSE</th>\n",
       "      <th>train_MAE</th>\n",
       "      <th>val_MAE</th>\n",
       "      <th>test_MAE</th>\n",
       "      <th>train_R^2</th>\n",
       "      <th>val_R^2</th>\n",
       "      <th>test_R^2</th>\n",
       "      <th>train_pearson_r</th>\n",
       "      <th>val_pearson_r</th>\n",
       "      <th>test_pearson_r</th>\n",
       "    </tr>\n",
       "  </thead>\n",
       "  <tbody>\n",
       "    <tr>\n",
       "      <th>rf</th>\n",
       "      <td>59.721</td>\n",
       "      <td>0.036</td>\n",
       "      <td>0.003</td>\n",
       "      <td>0.036</td>\n",
       "      <td>0.046</td>\n",
       "      <td>0.003</td>\n",
       "      <td>0.025</td>\n",
       "      <td>0.042</td>\n",
       "      <td>0.001</td>\n",
       "      <td>0.028</td>\n",
       "      <td>0.013</td>\n",
       "      <td>0.000</td>\n",
       "      <td>0.024</td>\n",
       "      <td>0.011</td>\n",
       "    </tr>\n",
       "    <tr>\n",
       "      <th>xgb</th>\n",
       "      <td>4.054</td>\n",
       "      <td>0.009</td>\n",
       "      <td>0.004</td>\n",
       "      <td>0.030</td>\n",
       "      <td>0.061</td>\n",
       "      <td>0.004</td>\n",
       "      <td>0.026</td>\n",
       "      <td>0.042</td>\n",
       "      <td>0.002</td>\n",
       "      <td>0.022</td>\n",
       "      <td>0.038</td>\n",
       "      <td>0.001</td>\n",
       "      <td>0.014</td>\n",
       "      <td>0.025</td>\n",
       "    </tr>\n",
       "    <tr>\n",
       "      <th>krr</th>\n",
       "      <td>0.550</td>\n",
       "      <td>0.064</td>\n",
       "      <td>0.003</td>\n",
       "      <td>0.028</td>\n",
       "      <td>0.077</td>\n",
       "      <td>0.003</td>\n",
       "      <td>0.023</td>\n",
       "      <td>0.053</td>\n",
       "      <td>0.001</td>\n",
       "      <td>0.015</td>\n",
       "      <td>0.060</td>\n",
       "      <td>0.001</td>\n",
       "      <td>0.006</td>\n",
       "      <td>0.034</td>\n",
       "    </tr>\n",
       "    <tr>\n",
       "      <th>gp</th>\n",
       "      <td>47.271</td>\n",
       "      <td>0.271</td>\n",
       "      <td>0.008</td>\n",
       "      <td>0.012</td>\n",
       "      <td>0.055</td>\n",
       "      <td>0.005</td>\n",
       "      <td>0.009</td>\n",
       "      <td>0.048</td>\n",
       "      <td>0.001</td>\n",
       "      <td>0.014</td>\n",
       "      <td>0.031</td>\n",
       "      <td>0.000</td>\n",
       "      <td>0.009</td>\n",
       "      <td>0.019</td>\n",
       "    </tr>\n",
       "  </tbody>\n",
       "</table>\n",
       "</div>"
      ],
      "text/plain": [
       "     fit_time  score_time  train_RMSE  val_RMSE  test_RMSE  train_MAE  \\\n",
       "rf     59.721       0.036       0.003     0.036      0.046      0.003   \n",
       "xgb     4.054       0.009       0.004     0.030      0.061      0.004   \n",
       "krr     0.550       0.064       0.003     0.028      0.077      0.003   \n",
       "gp     47.271       0.271       0.008     0.012      0.055      0.005   \n",
       "\n",
       "     val_MAE  test_MAE  train_R^2  val_R^2  test_R^2  train_pearson_r  \\\n",
       "rf     0.025     0.042      0.001    0.028     0.013            0.000   \n",
       "xgb    0.026     0.042      0.002    0.022     0.038            0.001   \n",
       "krr    0.023     0.053      0.001    0.015     0.060            0.001   \n",
       "gp     0.009     0.048      0.001    0.014     0.031            0.000   \n",
       "\n",
       "     val_pearson_r  test_pearson_r  \n",
       "rf           0.024           0.011  \n",
       "xgb          0.014           0.025  \n",
       "krr          0.006           0.034  \n",
       "gp           0.009           0.019  "
      ]
     },
     "metadata": {},
     "output_type": "display_data"
    }
   ],
   "source": [
    "print(dataset, smile_type, grid_search_type)\n",
    "\n",
    "print('\\nMeans:')\n",
    "display(presentable_all_means)\n",
    "\n",
    "print('Standard deviations:')\n",
    "display(presentable_all_stds)"
   ]
  },
  {
   "cell_type": "code",
   "execution_count": 38,
   "metadata": {},
   "outputs": [
    {
     "data": {
      "text/html": [
       "<div>\n",
       "<style scoped>\n",
       "    .dataframe tbody tr th:only-of-type {\n",
       "        vertical-align: middle;\n",
       "    }\n",
       "\n",
       "    .dataframe tbody tr th {\n",
       "        vertical-align: top;\n",
       "    }\n",
       "\n",
       "    .dataframe thead th {\n",
       "        text-align: right;\n",
       "    }\n",
       "</style>\n",
       "<table border=\"1\" class=\"dataframe\">\n",
       "  <thead>\n",
       "    <tr style=\"text-align: right;\">\n",
       "      <th></th>\n",
       "      <th>fit_time</th>\n",
       "      <th>score_time</th>\n",
       "      <th>train_RMSE</th>\n",
       "      <th>val_RMSE</th>\n",
       "      <th>test_RMSE</th>\n",
       "      <th>train_MAE</th>\n",
       "      <th>val_MAE</th>\n",
       "      <th>test_MAE</th>\n",
       "      <th>train_R^2</th>\n",
       "      <th>val_R^2</th>\n",
       "      <th>test_R^2</th>\n",
       "      <th>train_pearson_r</th>\n",
       "      <th>val_pearson_r</th>\n",
       "      <th>test_pearson_r</th>\n",
       "    </tr>\n",
       "  </thead>\n",
       "  <tbody>\n",
       "    <tr>\n",
       "      <th>rf</th>\n",
       "      <td>286.008 +/- 59.721</td>\n",
       "      <td>0.17 +/- 0.036</td>\n",
       "      <td>0.312 +/- 0.003</td>\n",
       "      <td>0.807 +/- 0.036</td>\n",
       "      <td>0.846 +/- 0.046</td>\n",
       "      <td>0.235 +/- 0.003</td>\n",
       "      <td>0.621 +/- 0.025</td>\n",
       "      <td>0.639 +/- 0.042</td>\n",
       "      <td>0.933 +/- 0.001</td>\n",
       "      <td>0.533 +/- 0.028</td>\n",
       "      <td>0.481 +/- 0.013</td>\n",
       "      <td>0.979 +/- 0.0</td>\n",
       "      <td>0.739 +/- 0.024</td>\n",
       "      <td>0.7 +/- 0.011</td>\n",
       "    </tr>\n",
       "    <tr>\n",
       "      <th>xgb</th>\n",
       "      <td>21.516 +/- 4.054</td>\n",
       "      <td>0.034 +/- 0.009</td>\n",
       "      <td>0.341 +/- 0.004</td>\n",
       "      <td>0.806 +/- 0.03</td>\n",
       "      <td>0.831 +/- 0.061</td>\n",
       "      <td>0.258 +/- 0.004</td>\n",
       "      <td>0.618 +/- 0.026</td>\n",
       "      <td>0.63 +/- 0.042</td>\n",
       "      <td>0.92 +/- 0.002</td>\n",
       "      <td>0.534 +/- 0.022</td>\n",
       "      <td>0.499 +/- 0.038</td>\n",
       "      <td>0.967 +/- 0.001</td>\n",
       "      <td>0.733 +/- 0.014</td>\n",
       "      <td>0.71 +/- 0.025</td>\n",
       "    </tr>\n",
       "    <tr>\n",
       "      <th>krr</th>\n",
       "      <td>2.967 +/- 0.55</td>\n",
       "      <td>0.255 +/- 0.064</td>\n",
       "      <td>0.271 +/- 0.003</td>\n",
       "      <td>0.86 +/- 0.028</td>\n",
       "      <td>0.807 +/- 0.077</td>\n",
       "      <td>0.203 +/- 0.003</td>\n",
       "      <td>0.642 +/- 0.023</td>\n",
       "      <td>0.595 +/- 0.053</td>\n",
       "      <td>0.95 +/- 0.001</td>\n",
       "      <td>0.47 +/- 0.015</td>\n",
       "      <td>0.527 +/- 0.06</td>\n",
       "      <td>0.977 +/- 0.001</td>\n",
       "      <td>0.715 +/- 0.006</td>\n",
       "      <td>0.743 +/- 0.034</td>\n",
       "    </tr>\n",
       "    <tr>\n",
       "      <th>gp</th>\n",
       "      <td>259.156 +/- 47.271</td>\n",
       "      <td>2.055 +/- 0.271</td>\n",
       "      <td>0.063 +/- 0.008</td>\n",
       "      <td>0.74 +/- 0.012</td>\n",
       "      <td>0.729 +/- 0.055</td>\n",
       "      <td>0.043 +/- 0.005</td>\n",
       "      <td>0.554 +/- 0.009</td>\n",
       "      <td>0.538 +/- 0.048</td>\n",
       "      <td>0.997 +/- 0.001</td>\n",
       "      <td>0.607 +/- 0.014</td>\n",
       "      <td>0.614 +/- 0.031</td>\n",
       "      <td>0.999 +/- 0.0</td>\n",
       "      <td>0.781 +/- 0.009</td>\n",
       "      <td>0.786 +/- 0.019</td>\n",
       "    </tr>\n",
       "  </tbody>\n",
       "</table>\n",
       "</div>"
      ],
      "text/plain": [
       "               fit_time       score_time       train_RMSE         val_RMSE  \\\n",
       "rf   286.008 +/- 59.721   0.17 +/- 0.036  0.312 +/- 0.003  0.807 +/- 0.036   \n",
       "xgb    21.516 +/- 4.054  0.034 +/- 0.009  0.341 +/- 0.004   0.806 +/- 0.03   \n",
       "krr      2.967 +/- 0.55  0.255 +/- 0.064  0.271 +/- 0.003   0.86 +/- 0.028   \n",
       "gp   259.156 +/- 47.271  2.055 +/- 0.271  0.063 +/- 0.008   0.74 +/- 0.012   \n",
       "\n",
       "           test_RMSE        train_MAE          val_MAE         test_MAE  \\\n",
       "rf   0.846 +/- 0.046  0.235 +/- 0.003  0.621 +/- 0.025  0.639 +/- 0.042   \n",
       "xgb  0.831 +/- 0.061  0.258 +/- 0.004  0.618 +/- 0.026   0.63 +/- 0.042   \n",
       "krr  0.807 +/- 0.077  0.203 +/- 0.003  0.642 +/- 0.023  0.595 +/- 0.053   \n",
       "gp   0.729 +/- 0.055  0.043 +/- 0.005  0.554 +/- 0.009  0.538 +/- 0.048   \n",
       "\n",
       "           train_R^2          val_R^2         test_R^2  train_pearson_r  \\\n",
       "rf   0.933 +/- 0.001  0.533 +/- 0.028  0.481 +/- 0.013    0.979 +/- 0.0   \n",
       "xgb   0.92 +/- 0.002  0.534 +/- 0.022  0.499 +/- 0.038  0.967 +/- 0.001   \n",
       "krr   0.95 +/- 0.001   0.47 +/- 0.015   0.527 +/- 0.06  0.977 +/- 0.001   \n",
       "gp   0.997 +/- 0.001  0.607 +/- 0.014  0.614 +/- 0.031    0.999 +/- 0.0   \n",
       "\n",
       "       val_pearson_r   test_pearson_r  \n",
       "rf   0.739 +/- 0.024    0.7 +/- 0.011  \n",
       "xgb  0.733 +/- 0.014   0.71 +/- 0.025  \n",
       "krr  0.715 +/- 0.006  0.743 +/- 0.034  \n",
       "gp   0.781 +/- 0.009  0.786 +/- 0.019  "
      ]
     },
     "execution_count": 38,
     "metadata": {},
     "output_type": "execute_result"
    }
   ],
   "source": [
    "presentable_all_means_stds = presentable_all_means.copy()\n",
    "for i in presentable_all_means_stds.index:\n",
    "    for j in presentable_all_means_stds.columns:\n",
    "        presentable_all_means_stds.loc[i, j] = str(presentable_all_means.loc[i, j]) + ' +/- ' + str(presentable_all_stds.loc[i, j])\n",
    "        \n",
    "presentable_all_means_stds"
   ]
  },
  {
   "cell_type": "markdown",
   "metadata": {},
   "source": [
    "# Save results to csv files"
   ]
  },
  {
   "cell_type": "code",
   "execution_count": 39,
   "metadata": {},
   "outputs": [],
   "source": [
    "presentable_all_means.to_csv(f'../tables/{dataset}_{smile_type}_{grid_search_type}_random_search_best_means.csv', index=True)"
   ]
  },
  {
   "cell_type": "code",
   "execution_count": 40,
   "metadata": {},
   "outputs": [],
   "source": [
    "presentable_all_stds.to_csv(f'../tables/{dataset}_{smile_type}_{grid_search_type}_random_search_best_stds.csv', index=True)"
   ]
  },
  {
   "cell_type": "code",
   "execution_count": 41,
   "metadata": {},
   "outputs": [],
   "source": [
    "presentable_all_means_stds.to_csv(f'../tables/{dataset}_{smile_type}_{grid_search_type}_random_search_best_means_pm_stds.csv', index=True)"
   ]
  },
  {
   "cell_type": "code",
   "execution_count": null,
   "metadata": {},
   "outputs": [],
   "source": []
  }
 ],
 "metadata": {
  "colab": {
   "collapsed_sections": [],
   "name": "Copy of visualise_grid_search_results.ipynb",
   "provenance": []
  },
  "kernelspec": {
   "display_name": "Python [conda env:batch-msc] *",
   "language": "python",
   "name": "conda-env-batch-msc-py"
  },
  "language_info": {
   "codemirror_mode": {
    "name": "ipython",
    "version": 3
   },
   "file_extension": ".py",
   "mimetype": "text/x-python",
   "name": "python",
   "nbconvert_exporter": "python",
   "pygments_lexer": "ipython3",
   "version": "3.6.10"
  }
 },
 "nbformat": 4,
 "nbformat_minor": 1
}
