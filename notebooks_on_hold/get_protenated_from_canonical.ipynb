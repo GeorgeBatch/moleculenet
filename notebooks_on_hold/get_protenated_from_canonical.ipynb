{
 "cells": [
  {
   "cell_type": "code",
   "execution_count": 1,
   "metadata": {
    "colab": {
     "base_uri": "https://localhost:8080/",
     "height": 68
    },
    "colab_type": "code",
    "executionInfo": {
     "elapsed": 2036,
     "status": "ok",
     "timestamp": 1593507634558,
     "user": {
      "displayName": "George Batchkala",
      "photoUrl": "",
      "userId": "17039292136363863281"
     },
     "user_tz": -60
    },
    "id": "KXdDhDGgeIeq",
    "outputId": "d264ab67-bb16-42a9-832c-4c50f93a3969"
   },
   "outputs": [
    {
     "name": "stdout",
     "output_type": "stream",
     "text": [
      "get_protenated_from_canonical.ipynb\r\n"
     ]
    }
   ],
   "source": [
    "%ls"
   ]
  },
  {
   "cell_type": "code",
   "execution_count": 2,
   "metadata": {},
   "outputs": [
    {
     "name": "stdout",
     "output_type": "stream",
     "text": [
      "ESOL_README\r\n",
      "FreeSolv_README\r\n",
      "Lipo_README\r\n",
      "esol_original.csv\r\n",
      "esol_original_1024ecfp4_features.csv\r\n",
      "esol_original_1024ecfp6_features.csv\r\n",
      "esol_original_2048ecfp4_features.csv\r\n",
      "esol_original_2048ecfp6_features.csv\r\n",
      "esol_original_IdSmilesLabels.csv\r\n",
      "esol_original_extra_features.csv\r\n",
      "esol_original_rdkit_features.csv\r\n",
      "freesolv_original.csv\r\n",
      "freesolv_original_1024ecfp4_features.csv\r\n",
      "freesolv_original_1024ecfp6_features.csv\r\n",
      "freesolv_original_2048ecfp4_features.csv\r\n",
      "freesolv_original_2048ecfp6_features.csv\r\n",
      "freesolv_original_IdSmilesLabels.csv\r\n",
      "freesolv_original_rdkit_features.csv\r\n",
      "lipophilicity_original.csv\r\n",
      "lipophilicity_original_1024ecfp4_features.csv\r\n",
      "lipophilicity_original_1024ecfp6_features.csv\r\n",
      "lipophilicity_original_2048ecfp4_features.csv\r\n",
      "lipophilicity_original_2048ecfp6_features.csv\r\n",
      "lipophilicity_original_IdSmilesLabels.csv\r\n",
      "lipophilicity_original_rdkit_features.csv\r\n"
     ]
    }
   ],
   "source": [
    "%ls ../data/"
   ]
  },
  {
   "cell_type": "markdown",
   "metadata": {
    "colab_type": "text",
    "id": "cG9tpt04e0iN"
   },
   "source": [
    "# Import modules"
   ]
  },
  {
   "cell_type": "code",
   "execution_count": 3,
   "metadata": {
    "colab": {},
    "colab_type": "code",
    "executionInfo": {
     "elapsed": 423,
     "status": "ok",
     "timestamp": 1593507643409,
     "user": {
      "displayName": "George Batchkala",
      "photoUrl": "",
      "userId": "17039292136363863281"
     },
     "user_tz": -60
    },
    "id": "sjl-QAB5e4I3"
   },
   "outputs": [],
   "source": [
    "import pathlib\n",
    "\n",
    "import numpy as np\n",
    "import pandas as pd\n",
    "\n",
    "from rdkit import Chem\n",
    "from rdkit.Chem import AllChem\n",
    "from rdkit.Chem.rdmolfiles import SmilesWriter"
   ]
  },
  {
   "cell_type": "markdown",
   "metadata": {},
   "source": [
    "# Load Data"
   ]
  },
  {
   "cell_type": "code",
   "execution_count": 7,
   "metadata": {},
   "outputs": [],
   "source": [
    "dataset = 'lipophilicity'"
   ]
  },
  {
   "cell_type": "code",
   "execution_count": 8,
   "metadata": {},
   "outputs": [
    {
     "name": "stdout",
     "output_type": "stream",
     "text": [
      "ESOL_README\r\n",
      "FreeSolv_README\r\n",
      "Lipo_README\r\n",
      "esol_original.csv\r\n",
      "esol_original_1024ecfp4_features.csv\r\n",
      "esol_original_1024ecfp6_features.csv\r\n",
      "esol_original_2048ecfp4_features.csv\r\n",
      "esol_original_2048ecfp6_features.csv\r\n",
      "esol_original_IdSmilesLabels.csv\r\n",
      "esol_original_extra_features.csv\r\n",
      "esol_original_rdkit_features.csv\r\n",
      "freesolv_original.csv\r\n",
      "freesolv_original_1024ecfp4_features.csv\r\n",
      "freesolv_original_1024ecfp6_features.csv\r\n",
      "freesolv_original_2048ecfp4_features.csv\r\n",
      "freesolv_original_2048ecfp6_features.csv\r\n",
      "freesolv_original_IdSmilesLabels.csv\r\n",
      "freesolv_original_rdkit_features.csv\r\n",
      "lipophilicity_original.csv\r\n",
      "lipophilicity_original_1024ecfp4_features.csv\r\n",
      "lipophilicity_original_1024ecfp6_features.csv\r\n",
      "lipophilicity_original_2048ecfp4_features.csv\r\n",
      "lipophilicity_original_2048ecfp6_features.csv\r\n",
      "lipophilicity_original_IdSmilesLabels.csv\r\n",
      "lipophilicity_original_rdkit_features.csv\r\n"
     ]
    }
   ],
   "source": [
    "%ls ../data/"
   ]
  },
  {
   "cell_type": "code",
   "execution_count": 9,
   "metadata": {
    "colab": {
     "base_uri": "https://localhost:8080/",
     "height": 170
    },
    "colab_type": "code",
    "executionInfo": {
     "elapsed": 925,
     "status": "ok",
     "timestamp": 1593005977272,
     "user": {
      "displayName": "George Batchkala",
      "photoUrl": "",
      "userId": "17039292136363863281"
     },
     "user_tz": -60
    },
    "id": "xmL5nV-BeOcC",
    "outputId": "e2ee0fad-ca78-455e-a45c-6465ec2418e8"
   },
   "outputs": [
    {
     "name": "stdout",
     "output_type": "stream",
     "text": [
      "              id                                             smiles  labels\n",
      "0   CHEMBL596271            Cn1c(CN2CCN(CC2)c3ccc(Cl)cc3)nc4ccccc14    3.54\n",
      "1  CHEMBL1951080  COc1cc(OC)c(cc1NC(=O)CSCC(=O)O)S(=O)(=O)N2C(C)...   -1.18\n",
      "2     CHEMBL1771             COC(=O)[C@@H](N1CCc2sccc2C1)c3ccccc3Cl    3.69\n",
      "3   CHEMBL234951  OC[C@H](O)CN1C(=O)C(Cc2ccccc12)NC(=O)c3cc4cc(C...    3.37\n",
      "4   CHEMBL565079  Cc1cccc(C[C@H](NC(=O)c2cc(nn2C)C(C)(C)C)C(=O)N...    3.10 \n",
      "\n"
     ]
    },
    {
     "data": {
      "text/plain": [
       "(4200, 3)"
      ]
     },
     "execution_count": 9,
     "metadata": {},
     "output_type": "execute_result"
    }
   ],
   "source": [
    "data = pd.read_csv(f'../data/{dataset}_original_IdSmilesLabels.csv')\n",
    "print(data.head(), '\\n')\n",
    "data.shape"
   ]
  },
  {
   "cell_type": "markdown",
   "metadata": {},
   "source": [
    "# Create molecules from smiles"
   ]
  },
  {
   "cell_type": "code",
   "execution_count": 11,
   "metadata": {},
   "outputs": [
    {
     "data": {
      "text/plain": [
       "'Cn1c(CN2CCN(CC2)c3ccc(Cl)cc3)nc4ccccc14'"
      ]
     },
     "execution_count": 11,
     "metadata": {},
     "output_type": "execute_result"
    }
   ],
   "source": [
    "data['smiles'][0]"
   ]
  },
  {
   "cell_type": "code",
   "execution_count": 12,
   "metadata": {},
   "outputs": [
    {
     "data": {
      "text/plain": [
       "'CHEMBL596271'"
      ]
     },
     "execution_count": 12,
     "metadata": {},
     "output_type": "execute_result"
    }
   ],
   "source": [
    "data['id'][0]"
   ]
  },
  {
   "cell_type": "code",
   "execution_count": 14,
   "metadata": {},
   "outputs": [],
   "source": [
    "# write the original molecules in the .smi file\n",
    "ms = []\n",
    "\n",
    "# 2.5 seconds for lipophilicity\n",
    "for i in range(data.shape[0]):\n",
    "    m = Chem.MolFromSmiles(data['smiles'][i])\n",
    "    m.SetProp(\"_Name\", data['id'][i])\n",
    "    ms.append(m)"
   ]
  },
  {
   "cell_type": "markdown",
   "metadata": {},
   "source": [
    "# Write the molecules in the `smiles.smi` file"
   ]
  },
  {
   "cell_type": "markdown",
   "metadata": {},
   "source": [
    "## All molecules"
   ]
  },
  {
   "cell_type": "code",
   "execution_count": 15,
   "metadata": {},
   "outputs": [],
   "source": [
    "#The way of writing molecules can perform common way.\n",
    "writer = SmilesWriter(f'../data/{dataset}_original_smiles.smi')\n",
    "\n",
    "for m in ms:\n",
    "    writer.write(m)\n",
    "    \n",
    "\n",
    "writer.close()"
   ]
  },
  {
   "cell_type": "code",
   "execution_count": 16,
   "metadata": {},
   "outputs": [],
   "source": [
    "from IPython.display import clear_output"
   ]
  },
  {
   "cell_type": "code",
   "execution_count": 17,
   "metadata": {},
   "outputs": [],
   "source": [
    "# check how we can read the molecules\n",
    "check_suppl = Chem.SmilesMolSupplier(f'../data/{dataset}_original_smiles.smi')\n",
    "\n",
    "for mol in check_suppl:\n",
    "    print(Chem.MolToSmiles(mol))\n",
    "\n",
    "\n",
    "clear_output()"
   ]
  },
  {
   "cell_type": "markdown",
   "metadata": {},
   "source": [
    "## 20 molecules (for speedup)"
   ]
  },
  {
   "cell_type": "code",
   "execution_count": 18,
   "metadata": {},
   "outputs": [],
   "source": [
    "# get a small subset of molecules - will work with them for now (faster)\n",
    "ms20 = ms[:20]"
   ]
  },
  {
   "cell_type": "code",
   "execution_count": 19,
   "metadata": {},
   "outputs": [],
   "source": [
    "# small version to run fast\n",
    "writer = SmilesWriter(f'../data/{dataset}_original_smiles20.smi')\n",
    "\n",
    "#The way of writing molecules can perform common way.\n",
    "for m in ms20:\n",
    "    writer.write(m)\n",
    "writer.close()"
   ]
  },
  {
   "cell_type": "code",
   "execution_count": 20,
   "metadata": {},
   "outputs": [
    {
     "name": "stdout",
     "output_type": "stream",
     "text": [
      "ESOL_README\r\n",
      "FreeSolv_README\r\n",
      "Lipo_README\r\n",
      "esol_original.csv\r\n",
      "esol_original_1024ecfp4_features.csv\r\n",
      "esol_original_1024ecfp6_features.csv\r\n",
      "esol_original_2048ecfp4_features.csv\r\n",
      "esol_original_2048ecfp6_features.csv\r\n",
      "esol_original_IdSmilesLabels.csv\r\n",
      "esol_original_extra_features.csv\r\n",
      "esol_original_rdkit_features.csv\r\n",
      "freesolv_original.csv\r\n",
      "freesolv_original_1024ecfp4_features.csv\r\n",
      "freesolv_original_1024ecfp6_features.csv\r\n",
      "freesolv_original_2048ecfp4_features.csv\r\n",
      "freesolv_original_2048ecfp6_features.csv\r\n",
      "freesolv_original_IdSmilesLabels.csv\r\n",
      "freesolv_original_rdkit_features.csv\r\n",
      "lipophilicity_original.csv\r\n",
      "lipophilicity_original_1024ecfp4_features.csv\r\n",
      "lipophilicity_original_1024ecfp6_features.csv\r\n",
      "lipophilicity_original_2048ecfp4_features.csv\r\n",
      "lipophilicity_original_2048ecfp6_features.csv\r\n",
      "lipophilicity_original_IdSmilesLabels.csv\r\n",
      "lipophilicity_original_rdkit_features.csv\r\n",
      "lipophilicity_original_smiles.smi\r\n",
      "lipophilicity_original_smiles20.smi\r\n"
     ]
    }
   ],
   "source": [
    "%ls ../data/"
   ]
  },
  {
   "cell_type": "markdown",
   "metadata": {},
   "source": [
    "# Compare smiles written from the molecules to the original smiles"
   ]
  },
  {
   "cell_type": "code",
   "execution_count": 22,
   "metadata": {},
   "outputs": [
    {
     "name": "stdout",
     "output_type": "stream",
     "text": [
      "['Cn1c(CN2CCN(CC2)c3ccc(Cl)cc3)nc4ccccc14', 'COc1cc(OC)c(cc1NC(=O)CSCC(=O)O)S(=O)(=O)N2C(C)CCc3ccccc23', 'COC(=O)[C@@H](N1CCc2sccc2C1)c3ccccc3Cl', 'OC[C@H](O)CN1C(=O)C(Cc2ccccc12)NC(=O)c3cc4cc(Cl)sc4[nH]3', 'Cc1cccc(C[C@H](NC(=O)c2cc(nn2C)C(C)(C)C)C(=O)NCC#N)c1']\n"
     ]
    }
   ],
   "source": [
    "smiles_list = list(data.smiles)\n",
    "\n",
    "print(smiles_list[:5])"
   ]
  },
  {
   "cell_type": "code",
   "execution_count": 23,
   "metadata": {},
   "outputs": [
    {
     "name": "stdout",
     "output_type": "stream",
     "text": [
      "4200\n"
     ]
    },
    {
     "data": {
      "text/plain": [
       "['Cn1c(CN2CCN(c3ccc(Cl)cc3)CC2)nc2ccccc21',\n",
       " 'COc1cc(OC)c(S(=O)(=O)N2c3ccccc3CCC2C)cc1NC(=O)CSCC(=O)O',\n",
       " 'COC(=O)[C@H](c1ccccc1Cl)N1CCc2sccc2C1',\n",
       " 'O=C(NC1Cc2ccccc2N(C[C@@H](O)CO)C1=O)c1cc2cc(Cl)sc2[nH]1',\n",
       " 'Cc1cccc(C[C@H](NC(=O)c2cc(C(C)(C)C)nn2C)C(=O)NCC#N)c1']"
      ]
     },
     "execution_count": 23,
     "metadata": {},
     "output_type": "execute_result"
    }
   ],
   "source": [
    "check_suppl = Chem.SmilesMolSupplier(f'../data/{dataset}_original_smiles.smi')\n",
    "check_smiles_list = [Chem.MolToSmiles(mol) for mol in check_suppl if mol != None]\n",
    "\n",
    "print(len(check_smiles_list))\n",
    "check_smiles_list[:5]"
   ]
  },
  {
   "cell_type": "code",
   "execution_count": 24,
   "metadata": {},
   "outputs": [
    {
     "data": {
      "text/plain": [
       "False"
      ]
     },
     "execution_count": 24,
     "metadata": {},
     "output_type": "execute_result"
    }
   ],
   "source": [
    "set(check_smiles_list) == set(smiles_list)"
   ]
  },
  {
   "cell_type": "code",
   "execution_count": 25,
   "metadata": {},
   "outputs": [
    {
     "data": {
      "text/plain": [
       "354"
      ]
     },
     "execution_count": 25,
     "metadata": {},
     "output_type": "execute_result"
    }
   ],
   "source": [
    "len(set(check_smiles_list).intersection(set(smiles_list)))"
   ]
  },
  {
   "cell_type": "code",
   "execution_count": 26,
   "metadata": {},
   "outputs": [
    {
     "data": {
      "text/plain": [
       "4200"
      ]
     },
     "execution_count": 26,
     "metadata": {},
     "output_type": "execute_result"
    }
   ],
   "source": [
    "len(smiles_list)"
   ]
  },
  {
   "cell_type": "code",
   "execution_count": 27,
   "metadata": {},
   "outputs": [
    {
     "name": "stdout",
     "output_type": "stream",
     "text": [
      "Original:\n",
      " Cn1c(CN2CCN(CC2)c3ccc(Cl)cc3)nc4ccccc14\n"
     ]
    },
    {
     "data": {
      "text/plain": [
       "'Cn1c(CN2CCN(c3ccc(Cl)cc3)CC2)nc2ccccc21'"
      ]
     },
     "execution_count": 27,
     "metadata": {},
     "output_type": "execute_result"
    }
   ],
   "source": [
    "print(\"Original:\\n\", smiles_list[0])\n",
    "Chem.MolToSmiles(Chem.MolFromSmiles(smiles_list[0]))"
   ]
  },
  {
   "cell_type": "code",
   "execution_count": 28,
   "metadata": {},
   "outputs": [
    {
     "name": "stdout",
     "output_type": "stream",
     "text": [
      "After:\n",
      " Cn1c(CN2CCN(c3ccc(Cl)cc3)CC2)nc2ccccc21\n"
     ]
    },
    {
     "data": {
      "text/plain": [
       "'Cn1c(CN2CCN(c3ccc(Cl)cc3)CC2)nc2ccccc21'"
      ]
     },
     "execution_count": 28,
     "metadata": {},
     "output_type": "execute_result"
    }
   ],
   "source": [
    "print(\"After:\\n\", check_smiles_list[0])\n",
    "Chem.MolToSmiles(Chem.MolFromSmiles(check_smiles_list[0]))"
   ]
  },
  {
   "cell_type": "code",
   "execution_count": 29,
   "metadata": {},
   "outputs": [
    {
     "data": {
      "text/plain": [
       "True"
      ]
     },
     "execution_count": 29,
     "metadata": {},
     "output_type": "execute_result"
    }
   ],
   "source": [
    "[Chem.MolToSmiles(Chem.MolFromSmiles(smiles_list[i])) for i in range(len(smiles_list))] == check_smiles_list"
   ]
  },
  {
   "cell_type": "markdown",
   "metadata": {},
   "source": [
    "The `check_smiles_list` and `smiles_list` are the same except that `check_smiles_list` has all the smiles in the canonical form"
   ]
  },
  {
   "cell_type": "markdown",
   "metadata": {},
   "source": [
    "# Create a file with protonated smiles"
   ]
  },
  {
   "cell_type": "code",
   "execution_count": 30,
   "metadata": {},
   "outputs": [
    {
     "name": "stdout",
     "output_type": "stream",
     "text": [
      "\u001b[31mCHANGES.md\u001b[m\u001b[m*                \u001b[34m__pycache__\u001b[m\u001b[m/\r\n",
      "\u001b[31mCONTRIBUTORS.md\u001b[m\u001b[m*           \u001b[31mdimorphite_dl.py\u001b[m\u001b[m*\r\n",
      "\u001b[31mLICENSE.txt\u001b[m\u001b[m*               \u001b[31msample_molecules.smi\u001b[m\u001b[m*\r\n",
      "\u001b[31mREADME.md\u001b[m\u001b[m*                 \u001b[31msite_substructures.smarts\u001b[m\u001b[m*\r\n",
      "\u001b[31m__init__.py\u001b[m\u001b[m*               \u001b[34mtraining_data\u001b[m\u001b[m/\r\n"
     ]
    }
   ],
   "source": [
    "# check the directory of dimorphite_dl.py file\n",
    "\n",
    "%ls ../../../packages/dimorphite_dl-1.2.4/"
   ]
  },
  {
   "cell_type": "code",
   "execution_count": 31,
   "metadata": {},
   "outputs": [
    {
     "name": "stdout",
     "output_type": "stream",
     "text": [
      "\n",
      "For help, use: python dimorphite_dl.py --help\n",
      "\n",
      "If you use Dimorphite-DL in your research, please cite:\n",
      "Ropp PJ, Kaminsky JC, Yablonski S, Durrant JD (2019) Dimorphite-DL: An\n",
      "open-source program for enumerating the ionization states of drug-like small\n",
      "molecules. J Cheminform 11:14. doi:10.1186/s13321-019-0336-9.\n",
      "\n",
      "\n",
      "PARAMETERS:\n",
      "\n",
      " label_states: False\n",
      "       max_ph: 7.4\n",
      " max_variants: 128\n",
      "       min_ph: 7.4\n",
      "  output_file: None\n",
      "pka_precision: 1.0\n",
      "       silent: False\n",
      "       smiles: None\n",
      "  smiles_file: ../data/lipophilicity_original_smiles20.smi\n",
      "         test: False\n",
      "\n",
      "WARNING: Skipping poorly formed SMILES string: SMILES Name \n",
      "\n",
      "Cn1c(CN2CCN(c3ccc(Cl)cc3)CC2)nc2ccccc21\tCHEMBL596271\n",
      "Cn1c(C[NH+]2CCN(c3ccc(Cl)cc3)CC2)nc2ccccc21\tCHEMBL596271\n",
      "COc1cc(OC)c(S(=O)(=O)[NH+]2c3ccccc3CCC2C)cc1NC(=O)CSCC(=O)[O-]\tCHEMBL1951080\n",
      "COc1cc(OC)c(S(=O)(=O)N2c3ccccc3CCC2C)cc1NC(=O)CSCC(=O)[O-]\tCHEMBL1951080\n",
      "COC(=O)[C@H](c1ccccc1Cl)N1CCc2sccc2C1\tCHEMBL1771\n",
      "COC(=O)[C@H](c1ccccc1Cl)[NH+]1CCc2sccc2C1\tCHEMBL1771\n",
      "O=C(NC1Cc2ccccc2N(C[C@@H](O)CO)C1=O)c1cc2cc(Cl)sc2[nH]1\tCHEMBL234951\n",
      "Cc1cccc(C[C@H](NC(=O)c2cc(C(C)(C)C)nn2C)C(=O)NCC#N)c1\tCHEMBL565079\n",
      "OC1(C#Cc2ccc(-c3ccccc3)cc2)CN2CCC1CC2\tCHEMBL317462\n",
      "OC1(C#Cc2ccc(-c3ccccc3)cc2)C[NH+]2CCC1CC2\tCHEMBL317462\n",
      "COc1cc(OC)c(S(=O)(=O)[N-]Cc2ccccc2N2CCCCC2)cc1NC(=O)CCC(=O)[O-]\tCHEMBL1951182\n",
      "COc1cc(OC)c(S(=O)(=O)NCc2ccccc2N2CCCCC2)cc1NC(=O)CCC(=O)[O-]\tCHEMBL1951182\n",
      "CNc1cccc(CCOc2ccc(C[C@H](NC(=O)c3c(Cl)cccc3Cl)C(=O)[O-])cc2C)n1\tCHEMBL2030960\n",
      "COc1ccc(-c2coc3cc(OC)cc(OC)c3c2=O)cc1\tCHEMBL13097\n",
      "Oc1ncnc2scc(-c3ccsc3)c12\tCHEMBL1527751\n",
      "[O-]c1ncnc2scc(-c3ccsc3)c12\tCHEMBL1527751\n",
      "CS(=O)(=O)c1ccc(Oc2ccc(C#C[C@]3(O)CN4CCC3CC4)cc2)cc1\tCHEMBL1940306\n",
      "CS(=O)(=O)c1ccc(Oc2ccc(C#C[C@]3(O)C[NH+]4CCC3CC4)cc2)cc1\tCHEMBL1940306\n",
      "Cc1cc(Nc2nc([NH2+][C@@H](C)c3ccc(F)cn3)c(C#N)nc2C)n[nH]1\tCHEMBL578201\n",
      "Cc1cc(Nc2nc(N[C@@H](C)c3ccc(F)cn3)c(C#N)nc2C)n[n-]1\tCHEMBL578201\n",
      "Cc1cc(Nc2nc(N[C@@H](C)c3ccc(F)cn3)c(C#N)nc2C)n[nH]1\tCHEMBL578201\n",
      "Cc1cc(Nc2nc([NH2+][C@@H](C)c3ccc(F)cn3)c(C#N)nc2C)n[n-]1\tCHEMBL578201\n",
      "O=C1CCCCCN1\tCHEMBL276218\n",
      "CCCSc1ncccc1C(=O)[NH+]1CCCC1c1ccncc1\tCHEMBL2153181\n",
      "CCCSc1ncccc1C(=O)N1CCCC1c1ccncc1\tCHEMBL2153181\n",
      "Cc1ccc(S(=O)(=O)[N-]c2c(C(=O)NC3CCCCC3C)cnn2-c2ccccc2)cc1\tCHEMBL1916276\n",
      "Cc1ccc(S(=O)(=O)Nc2c(C(=O)NC3CCCCC3C)cnn2-c2ccccc2)cc1\tCHEMBL1916276\n",
      "Nc1ccc(-c2nc3ccc(O)cc3s2)cc1\tCHEMBL93884\n",
      "Nc1ccc(-c2nc3ccc([O-])cc3s2)cc1\tCHEMBL93884\n",
      "COc1ccc(N2CC[NH+](C(=O)[C@@H]3CCCC[C@H]3C(=O)NCC#N)CC2)cc1\tCHEMBL2171986\n",
      "COc1ccc(N2CCN(C(=O)[C@@H]3CCCC[C@H]3C(=O)NCC#N)CC2)cc1\tCHEMBL2171986\n",
      "CCC(COC(=O)c1cc(OC)c(OC)c(OC)c1)(c1ccccc1)N(C)C\tCHEMBL190044\n",
      "CCC(COC(=O)c1cc(OC)c(OC)c(OC)c1)(c1ccccc1)[NH+](C)C\tCHEMBL190044\n",
      "COc1cc(-n2nnc3cc(-c4ccc(Cl)cc4)sc3c2=O)ccc1N1CC[C@@H](O)C1\tCHEMBL469790\n",
      "CO[C@H]1CN(CCn2c(=O)ccc3ccc(C#N)cc32)CC[C@H]1[NH2+]Cc1ccc2c(n1)NC(=O)CO2\tCHEMBL2165055\n",
      "CO[C@H]1CN(CCn2c(=O)ccc3ccc(C#N)cc32)CC[C@H]1NCc1ccc2c(n1)NC(=O)CO2\tCHEMBL2165055\n",
      "CO[C@H]1C[NH+](CCn2c(=O)ccc3ccc(C#N)cc32)CC[C@H]1[NH2+]Cc1ccc2c(n1)NC(=O)CO2\tCHEMBL2165055\n",
      "CO[C@H]1C[NH+](CCn2c(=O)ccc3ccc(C#N)cc32)CC[C@H]1NCc1ccc2c(n1)NC(=O)CO2\tCHEMBL2165055\n"
     ]
    }
   ],
   "source": [
    "# print output (do not write the file)\n",
    "! python ../../../packages/dimorphite_dl-1.2.4/dimorphite_dl.py --smiles_file ../data/lipophilicity_original_smiles20.smi --min_ph 7.4 --max_ph 7.4"
   ]
  },
  {
   "cell_type": "code",
   "execution_count": 32,
   "metadata": {},
   "outputs": [
    {
     "name": "stdout",
     "output_type": "stream",
     "text": [
      "Cn1c(C[NH+]2CCN(c3ccc(Cl)cc3)CC2)nc2ccccc21\tCHEMBL596271\n",
      "Cn1c(CN2CCN(c3ccc(Cl)cc3)CC2)nc2ccccc21\tCHEMBL596271\n",
      "COc1cc(OC)c(S(=O)(=O)N2c3ccccc3CCC2C)cc1NC(=O)CSCC(=O)[O-]\tCHEMBL1951080\n",
      "COc1cc(OC)c(S(=O)(=O)[NH+]2c3ccccc3CCC2C)cc1NC(=O)CSCC(=O)[O-]\tCHEMBL1951080\n",
      "COC(=O)[C@H](c1ccccc1Cl)N1CCc2sccc2C1\tCHEMBL1771\n",
      "COC(=O)[C@H](c1ccccc1Cl)[NH+]1CCc2sccc2C1\tCHEMBL1771\n",
      "O=C(NC1Cc2ccccc2N(C[C@@H](O)CO)C1=O)c1cc2cc(Cl)sc2[nH]1\tCHEMBL234951\n",
      "Cc1cccc(C[C@H](NC(=O)c2cc(C(C)(C)C)nn2C)C(=O)NCC#N)c1\tCHEMBL565079\n",
      "OC1(C#Cc2ccc(-c3ccccc3)cc2)C[NH+]2CCC1CC2\tCHEMBL317462\n",
      "OC1(C#Cc2ccc(-c3ccccc3)cc2)CN2CCC1CC2\tCHEMBL317462\n",
      "COc1cc(OC)c(S(=O)(=O)NCc2ccccc2N2CCCCC2)cc1NC(=O)CCC(=O)[O-]\tCHEMBL1951182\n",
      "COc1cc(OC)c(S(=O)(=O)[N-]Cc2ccccc2N2CCCCC2)cc1NC(=O)CCC(=O)[O-]\tCHEMBL1951182\n",
      "CNc1cccc(CCOc2ccc(C[C@H](NC(=O)c3c(Cl)cccc3Cl)C(=O)[O-])cc2C)n1\tCHEMBL2030960\n",
      "COc1ccc(-c2coc3cc(OC)cc(OC)c3c2=O)cc1\tCHEMBL13097\n",
      "[O-]c1ncnc2scc(-c3ccsc3)c12\tCHEMBL1527751\n",
      "Oc1ncnc2scc(-c3ccsc3)c12\tCHEMBL1527751\n",
      "CS(=O)(=O)c1ccc(Oc2ccc(C#C[C@]3(O)CN4CCC3CC4)cc2)cc1\tCHEMBL1940306\n",
      "CS(=O)(=O)c1ccc(Oc2ccc(C#C[C@]3(O)C[NH+]4CCC3CC4)cc2)cc1\tCHEMBL1940306\n",
      "Cc1cc(Nc2nc(N[C@@H](C)c3ccc(F)cn3)c(C#N)nc2C)n[nH]1\tCHEMBL578201\n",
      "Cc1cc(Nc2nc([NH2+][C@@H](C)c3ccc(F)cn3)c(C#N)nc2C)n[nH]1\tCHEMBL578201\n",
      "Cc1cc(Nc2nc(N[C@@H](C)c3ccc(F)cn3)c(C#N)nc2C)n[n-]1\tCHEMBL578201\n",
      "Cc1cc(Nc2nc([NH2+][C@@H](C)c3ccc(F)cn3)c(C#N)nc2C)n[n-]1\tCHEMBL578201\n",
      "O=C1CCCCCN1\tCHEMBL276218\n",
      "CCCSc1ncccc1C(=O)N1CCCC1c1ccncc1\tCHEMBL2153181\n",
      "CCCSc1ncccc1C(=O)[NH+]1CCCC1c1ccncc1\tCHEMBL2153181\n",
      "Cc1ccc(S(=O)(=O)[N-]c2c(C(=O)NC3CCCCC3C)cnn2-c2ccccc2)cc1\tCHEMBL1916276\n",
      "Cc1ccc(S(=O)(=O)Nc2c(C(=O)NC3CCCCC3C)cnn2-c2ccccc2)cc1\tCHEMBL1916276\n",
      "Nc1ccc(-c2nc3ccc(O)cc3s2)cc1\tCHEMBL93884\n",
      "Nc1ccc(-c2nc3ccc([O-])cc3s2)cc1\tCHEMBL93884\n",
      "COc1ccc(N2CC[NH+](C(=O)[C@@H]3CCCC[C@H]3C(=O)NCC#N)CC2)cc1\tCHEMBL2171986\n",
      "COc1ccc(N2CCN(C(=O)[C@@H]3CCCC[C@H]3C(=O)NCC#N)CC2)cc1\tCHEMBL2171986\n",
      "CCC(COC(=O)c1cc(OC)c(OC)c(OC)c1)(c1ccccc1)N(C)C\tCHEMBL190044\n",
      "CCC(COC(=O)c1cc(OC)c(OC)c(OC)c1)(c1ccccc1)[NH+](C)C\tCHEMBL190044\n",
      "COc1cc(-n2nnc3cc(-c4ccc(Cl)cc4)sc3c2=O)ccc1N1CC[C@@H](O)C1\tCHEMBL469790\n",
      "CO[C@H]1CN(CCn2c(=O)ccc3ccc(C#N)cc32)CC[C@H]1NCc1ccc2c(n1)NC(=O)CO2\tCHEMBL2165055\n",
      "CO[C@H]1C[NH+](CCn2c(=O)ccc3ccc(C#N)cc32)CC[C@H]1[NH2+]Cc1ccc2c(n1)NC(=O)CO2\tCHEMBL2165055\n",
      "CO[C@H]1CN(CCn2c(=O)ccc3ccc(C#N)cc32)CC[C@H]1[NH2+]Cc1ccc2c(n1)NC(=O)CO2\tCHEMBL2165055\n",
      "CO[C@H]1C[NH+](CCn2c(=O)ccc3ccc(C#N)cc32)CC[C@H]1NCc1ccc2c(n1)NC(=O)CO2\tCHEMBL2165055\n"
     ]
    }
   ],
   "source": [
    "! python ../../../packages/dimorphite_dl-1.2.4/dimorphite_dl.py --smiles_file ../data/lipophilicity_original_smiles20.smi --min_ph 7.4 --max_ph 7.4 --silent"
   ]
  },
  {
   "cell_type": "code",
   "execution_count": 33,
   "metadata": {},
   "outputs": [],
   "source": [
    "# print output in silent mode (do not write the file)\n",
    "! python ../../../packages/dimorphite_dl-1.2.4/dimorphite_dl.py --smiles_file ../data/lipophilicity_original_smiles20.smi --min_ph 7.4 --max_ph 7.4 --silent > ../data/lipophilicity_protonated_smiles20_messy.txt"
   ]
  },
  {
   "cell_type": "code",
   "execution_count": 34,
   "metadata": {},
   "outputs": [
    {
     "name": "stdout",
     "output_type": "stream",
     "text": [
      "ESOL_README\r\n",
      "FreeSolv_README\r\n",
      "Lipo_README\r\n",
      "esol_original.csv\r\n",
      "esol_original_1024ecfp4_features.csv\r\n",
      "esol_original_1024ecfp6_features.csv\r\n",
      "esol_original_2048ecfp4_features.csv\r\n",
      "esol_original_2048ecfp6_features.csv\r\n",
      "esol_original_IdSmilesLabels.csv\r\n",
      "esol_original_extra_features.csv\r\n",
      "esol_original_rdkit_features.csv\r\n",
      "freesolv_original.csv\r\n",
      "freesolv_original_1024ecfp4_features.csv\r\n",
      "freesolv_original_1024ecfp6_features.csv\r\n",
      "freesolv_original_2048ecfp4_features.csv\r\n",
      "freesolv_original_2048ecfp6_features.csv\r\n",
      "freesolv_original_IdSmilesLabels.csv\r\n",
      "freesolv_original_rdkit_features.csv\r\n",
      "lipophilicity_original.csv\r\n",
      "lipophilicity_original_1024ecfp4_features.csv\r\n",
      "lipophilicity_original_1024ecfp6_features.csv\r\n",
      "lipophilicity_original_2048ecfp4_features.csv\r\n",
      "lipophilicity_original_2048ecfp6_features.csv\r\n",
      "lipophilicity_original_IdSmilesLabels.csv\r\n",
      "lipophilicity_original_rdkit_features.csv\r\n",
      "lipophilicity_original_smiles.smi\r\n",
      "lipophilicity_original_smiles20.smi\r\n",
      "lipophilicity_protonated_smiles20_messy.txt\r\n"
     ]
    }
   ],
   "source": [
    "%ls ../data"
   ]
  },
  {
   "cell_type": "code",
   "execution_count": 35,
   "metadata": {},
   "outputs": [],
   "source": [
    "smiles = []\n",
    "names = []\n",
    "\n",
    "with open(f'../data/{dataset}_protonated_smiles20_messy.txt', 'r') as f:\n",
    "    for line in f:\n",
    "        #print(line.strip().split())\n",
    "        smile, name = line.strip().split()\n",
    "        smiles.append(smile)\n",
    "        names.append(name)"
   ]
  },
  {
   "cell_type": "code",
   "execution_count": 43,
   "metadata": {},
   "outputs": [],
   "source": [
    "df = pd.DataFrame({'id': names, 'smile': smiles})"
   ]
  },
  {
   "cell_type": "code",
   "execution_count": 44,
   "metadata": {},
   "outputs": [
    {
     "data": {
      "text/html": [
       "<div>\n",
       "<style scoped>\n",
       "    .dataframe tbody tr th:only-of-type {\n",
       "        vertical-align: middle;\n",
       "    }\n",
       "\n",
       "    .dataframe tbody tr th {\n",
       "        vertical-align: top;\n",
       "    }\n",
       "\n",
       "    .dataframe thead th {\n",
       "        text-align: right;\n",
       "    }\n",
       "</style>\n",
       "<table border=\"1\" class=\"dataframe\">\n",
       "  <thead>\n",
       "    <tr style=\"text-align: right;\">\n",
       "      <th></th>\n",
       "      <th>id</th>\n",
       "      <th>smile</th>\n",
       "    </tr>\n",
       "  </thead>\n",
       "  <tbody>\n",
       "    <tr>\n",
       "      <th>0</th>\n",
       "      <td>CHEMBL596271</td>\n",
       "      <td>Cn1c(C[NH+]2CCN(c3ccc(Cl)cc3)CC2)nc2ccccc21</td>\n",
       "    </tr>\n",
       "    <tr>\n",
       "      <th>1</th>\n",
       "      <td>CHEMBL596271</td>\n",
       "      <td>Cn1c(CN2CCN(c3ccc(Cl)cc3)CC2)nc2ccccc21</td>\n",
       "    </tr>\n",
       "    <tr>\n",
       "      <th>2</th>\n",
       "      <td>CHEMBL1951080</td>\n",
       "      <td>COc1cc(OC)c(S(=O)(=O)[NH+]2c3ccccc3CCC2C)cc1NC...</td>\n",
       "    </tr>\n",
       "    <tr>\n",
       "      <th>3</th>\n",
       "      <td>CHEMBL1951080</td>\n",
       "      <td>COc1cc(OC)c(S(=O)(=O)N2c3ccccc3CCC2C)cc1NC(=O)...</td>\n",
       "    </tr>\n",
       "    <tr>\n",
       "      <th>4</th>\n",
       "      <td>CHEMBL1771</td>\n",
       "      <td>COC(=O)[C@H](c1ccccc1Cl)[NH+]1CCc2sccc2C1</td>\n",
       "    </tr>\n",
       "    <tr>\n",
       "      <th>5</th>\n",
       "      <td>CHEMBL1771</td>\n",
       "      <td>COC(=O)[C@H](c1ccccc1Cl)N1CCc2sccc2C1</td>\n",
       "    </tr>\n",
       "    <tr>\n",
       "      <th>6</th>\n",
       "      <td>CHEMBL234951</td>\n",
       "      <td>O=C(NC1Cc2ccccc2N(C[C@@H](O)CO)C1=O)c1cc2cc(Cl...</td>\n",
       "    </tr>\n",
       "    <tr>\n",
       "      <th>7</th>\n",
       "      <td>CHEMBL565079</td>\n",
       "      <td>Cc1cccc(C[C@H](NC(=O)c2cc(C(C)(C)C)nn2C)C(=O)N...</td>\n",
       "    </tr>\n",
       "    <tr>\n",
       "      <th>8</th>\n",
       "      <td>CHEMBL317462</td>\n",
       "      <td>OC1(C#Cc2ccc(-c3ccccc3)cc2)C[NH+]2CCC1CC2</td>\n",
       "    </tr>\n",
       "    <tr>\n",
       "      <th>9</th>\n",
       "      <td>CHEMBL317462</td>\n",
       "      <td>OC1(C#Cc2ccc(-c3ccccc3)cc2)CN2CCC1CC2</td>\n",
       "    </tr>\n",
       "    <tr>\n",
       "      <th>10</th>\n",
       "      <td>CHEMBL1951182</td>\n",
       "      <td>COc1cc(OC)c(S(=O)(=O)NCc2ccccc2N2CCCCC2)cc1NC(...</td>\n",
       "    </tr>\n",
       "    <tr>\n",
       "      <th>11</th>\n",
       "      <td>CHEMBL1951182</td>\n",
       "      <td>COc1cc(OC)c(S(=O)(=O)[N-]Cc2ccccc2N2CCCCC2)cc1...</td>\n",
       "    </tr>\n",
       "    <tr>\n",
       "      <th>12</th>\n",
       "      <td>CHEMBL2030960</td>\n",
       "      <td>CNc1cccc(CCOc2ccc(C[C@H](NC(=O)c3c(Cl)cccc3Cl)...</td>\n",
       "    </tr>\n",
       "    <tr>\n",
       "      <th>13</th>\n",
       "      <td>CHEMBL13097</td>\n",
       "      <td>COc1ccc(-c2coc3cc(OC)cc(OC)c3c2=O)cc1</td>\n",
       "    </tr>\n",
       "    <tr>\n",
       "      <th>14</th>\n",
       "      <td>CHEMBL1527751</td>\n",
       "      <td>[O-]c1ncnc2scc(-c3ccsc3)c12</td>\n",
       "    </tr>\n",
       "    <tr>\n",
       "      <th>15</th>\n",
       "      <td>CHEMBL1527751</td>\n",
       "      <td>Oc1ncnc2scc(-c3ccsc3)c12</td>\n",
       "    </tr>\n",
       "    <tr>\n",
       "      <th>16</th>\n",
       "      <td>CHEMBL1940306</td>\n",
       "      <td>CS(=O)(=O)c1ccc(Oc2ccc(C#C[C@]3(O)C[NH+]4CCC3C...</td>\n",
       "    </tr>\n",
       "    <tr>\n",
       "      <th>17</th>\n",
       "      <td>CHEMBL1940306</td>\n",
       "      <td>CS(=O)(=O)c1ccc(Oc2ccc(C#C[C@]3(O)CN4CCC3CC4)c...</td>\n",
       "    </tr>\n",
       "    <tr>\n",
       "      <th>18</th>\n",
       "      <td>CHEMBL578201</td>\n",
       "      <td>Cc1cc(Nc2nc([NH2+][C@@H](C)c3ccc(F)cn3)c(C#N)n...</td>\n",
       "    </tr>\n",
       "    <tr>\n",
       "      <th>19</th>\n",
       "      <td>CHEMBL578201</td>\n",
       "      <td>Cc1cc(Nc2nc([NH2+][C@@H](C)c3ccc(F)cn3)c(C#N)n...</td>\n",
       "    </tr>\n",
       "    <tr>\n",
       "      <th>20</th>\n",
       "      <td>CHEMBL578201</td>\n",
       "      <td>Cc1cc(Nc2nc(N[C@@H](C)c3ccc(F)cn3)c(C#N)nc2C)n...</td>\n",
       "    </tr>\n",
       "    <tr>\n",
       "      <th>21</th>\n",
       "      <td>CHEMBL578201</td>\n",
       "      <td>Cc1cc(Nc2nc(N[C@@H](C)c3ccc(F)cn3)c(C#N)nc2C)n...</td>\n",
       "    </tr>\n",
       "    <tr>\n",
       "      <th>22</th>\n",
       "      <td>CHEMBL276218</td>\n",
       "      <td>O=C1CCCCCN1</td>\n",
       "    </tr>\n",
       "    <tr>\n",
       "      <th>23</th>\n",
       "      <td>CHEMBL2153181</td>\n",
       "      <td>CCCSc1ncccc1C(=O)[NH+]1CCCC1c1ccncc1</td>\n",
       "    </tr>\n",
       "    <tr>\n",
       "      <th>24</th>\n",
       "      <td>CHEMBL2153181</td>\n",
       "      <td>CCCSc1ncccc1C(=O)N1CCCC1c1ccncc1</td>\n",
       "    </tr>\n",
       "    <tr>\n",
       "      <th>25</th>\n",
       "      <td>CHEMBL1916276</td>\n",
       "      <td>Cc1ccc(S(=O)(=O)[N-]c2c(C(=O)NC3CCCCC3C)cnn2-c...</td>\n",
       "    </tr>\n",
       "    <tr>\n",
       "      <th>26</th>\n",
       "      <td>CHEMBL1916276</td>\n",
       "      <td>Cc1ccc(S(=O)(=O)Nc2c(C(=O)NC3CCCCC3C)cnn2-c2cc...</td>\n",
       "    </tr>\n",
       "    <tr>\n",
       "      <th>27</th>\n",
       "      <td>CHEMBL93884</td>\n",
       "      <td>Nc1ccc(-c2nc3ccc([O-])cc3s2)cc1</td>\n",
       "    </tr>\n",
       "    <tr>\n",
       "      <th>28</th>\n",
       "      <td>CHEMBL93884</td>\n",
       "      <td>Nc1ccc(-c2nc3ccc(O)cc3s2)cc1</td>\n",
       "    </tr>\n",
       "    <tr>\n",
       "      <th>29</th>\n",
       "      <td>CHEMBL2171986</td>\n",
       "      <td>COc1ccc(N2CC[NH+](C(=O)[C@@H]3CCCC[C@H]3C(=O)N...</td>\n",
       "    </tr>\n",
       "    <tr>\n",
       "      <th>30</th>\n",
       "      <td>CHEMBL2171986</td>\n",
       "      <td>COc1ccc(N2CCN(C(=O)[C@@H]3CCCC[C@H]3C(=O)NCC#N...</td>\n",
       "    </tr>\n",
       "    <tr>\n",
       "      <th>31</th>\n",
       "      <td>CHEMBL190044</td>\n",
       "      <td>CCC(COC(=O)c1cc(OC)c(OC)c(OC)c1)(c1ccccc1)[NH+...</td>\n",
       "    </tr>\n",
       "    <tr>\n",
       "      <th>32</th>\n",
       "      <td>CHEMBL190044</td>\n",
       "      <td>CCC(COC(=O)c1cc(OC)c(OC)c(OC)c1)(c1ccccc1)N(C)C</td>\n",
       "    </tr>\n",
       "    <tr>\n",
       "      <th>33</th>\n",
       "      <td>CHEMBL469790</td>\n",
       "      <td>COc1cc(-n2nnc3cc(-c4ccc(Cl)cc4)sc3c2=O)ccc1N1C...</td>\n",
       "    </tr>\n",
       "    <tr>\n",
       "      <th>34</th>\n",
       "      <td>CHEMBL2165055</td>\n",
       "      <td>CO[C@H]1C[NH+](CCn2c(=O)ccc3ccc(C#N)cc32)CC[C@...</td>\n",
       "    </tr>\n",
       "    <tr>\n",
       "      <th>35</th>\n",
       "      <td>CHEMBL2165055</td>\n",
       "      <td>CO[C@H]1C[NH+](CCn2c(=O)ccc3ccc(C#N)cc32)CC[C@...</td>\n",
       "    </tr>\n",
       "    <tr>\n",
       "      <th>36</th>\n",
       "      <td>CHEMBL2165055</td>\n",
       "      <td>CO[C@H]1CN(CCn2c(=O)ccc3ccc(C#N)cc32)CC[C@H]1N...</td>\n",
       "    </tr>\n",
       "    <tr>\n",
       "      <th>37</th>\n",
       "      <td>CHEMBL2165055</td>\n",
       "      <td>CO[C@H]1CN(CCn2c(=O)ccc3ccc(C#N)cc32)CC[C@H]1[...</td>\n",
       "    </tr>\n",
       "  </tbody>\n",
       "</table>\n",
       "</div>"
      ],
      "text/plain": [
       "               id                                              smile\n",
       "0    CHEMBL596271        Cn1c(C[NH+]2CCN(c3ccc(Cl)cc3)CC2)nc2ccccc21\n",
       "1    CHEMBL596271            Cn1c(CN2CCN(c3ccc(Cl)cc3)CC2)nc2ccccc21\n",
       "2   CHEMBL1951080  COc1cc(OC)c(S(=O)(=O)[NH+]2c3ccccc3CCC2C)cc1NC...\n",
       "3   CHEMBL1951080  COc1cc(OC)c(S(=O)(=O)N2c3ccccc3CCC2C)cc1NC(=O)...\n",
       "4      CHEMBL1771          COC(=O)[C@H](c1ccccc1Cl)[NH+]1CCc2sccc2C1\n",
       "5      CHEMBL1771              COC(=O)[C@H](c1ccccc1Cl)N1CCc2sccc2C1\n",
       "6    CHEMBL234951  O=C(NC1Cc2ccccc2N(C[C@@H](O)CO)C1=O)c1cc2cc(Cl...\n",
       "7    CHEMBL565079  Cc1cccc(C[C@H](NC(=O)c2cc(C(C)(C)C)nn2C)C(=O)N...\n",
       "8    CHEMBL317462          OC1(C#Cc2ccc(-c3ccccc3)cc2)C[NH+]2CCC1CC2\n",
       "9    CHEMBL317462              OC1(C#Cc2ccc(-c3ccccc3)cc2)CN2CCC1CC2\n",
       "10  CHEMBL1951182  COc1cc(OC)c(S(=O)(=O)NCc2ccccc2N2CCCCC2)cc1NC(...\n",
       "11  CHEMBL1951182  COc1cc(OC)c(S(=O)(=O)[N-]Cc2ccccc2N2CCCCC2)cc1...\n",
       "12  CHEMBL2030960  CNc1cccc(CCOc2ccc(C[C@H](NC(=O)c3c(Cl)cccc3Cl)...\n",
       "13    CHEMBL13097              COc1ccc(-c2coc3cc(OC)cc(OC)c3c2=O)cc1\n",
       "14  CHEMBL1527751                        [O-]c1ncnc2scc(-c3ccsc3)c12\n",
       "15  CHEMBL1527751                           Oc1ncnc2scc(-c3ccsc3)c12\n",
       "16  CHEMBL1940306  CS(=O)(=O)c1ccc(Oc2ccc(C#C[C@]3(O)C[NH+]4CCC3C...\n",
       "17  CHEMBL1940306  CS(=O)(=O)c1ccc(Oc2ccc(C#C[C@]3(O)CN4CCC3CC4)c...\n",
       "18   CHEMBL578201  Cc1cc(Nc2nc([NH2+][C@@H](C)c3ccc(F)cn3)c(C#N)n...\n",
       "19   CHEMBL578201  Cc1cc(Nc2nc([NH2+][C@@H](C)c3ccc(F)cn3)c(C#N)n...\n",
       "20   CHEMBL578201  Cc1cc(Nc2nc(N[C@@H](C)c3ccc(F)cn3)c(C#N)nc2C)n...\n",
       "21   CHEMBL578201  Cc1cc(Nc2nc(N[C@@H](C)c3ccc(F)cn3)c(C#N)nc2C)n...\n",
       "22   CHEMBL276218                                        O=C1CCCCCN1\n",
       "23  CHEMBL2153181               CCCSc1ncccc1C(=O)[NH+]1CCCC1c1ccncc1\n",
       "24  CHEMBL2153181                   CCCSc1ncccc1C(=O)N1CCCC1c1ccncc1\n",
       "25  CHEMBL1916276  Cc1ccc(S(=O)(=O)[N-]c2c(C(=O)NC3CCCCC3C)cnn2-c...\n",
       "26  CHEMBL1916276  Cc1ccc(S(=O)(=O)Nc2c(C(=O)NC3CCCCC3C)cnn2-c2cc...\n",
       "27    CHEMBL93884                    Nc1ccc(-c2nc3ccc([O-])cc3s2)cc1\n",
       "28    CHEMBL93884                       Nc1ccc(-c2nc3ccc(O)cc3s2)cc1\n",
       "29  CHEMBL2171986  COc1ccc(N2CC[NH+](C(=O)[C@@H]3CCCC[C@H]3C(=O)N...\n",
       "30  CHEMBL2171986  COc1ccc(N2CCN(C(=O)[C@@H]3CCCC[C@H]3C(=O)NCC#N...\n",
       "31   CHEMBL190044  CCC(COC(=O)c1cc(OC)c(OC)c(OC)c1)(c1ccccc1)[NH+...\n",
       "32   CHEMBL190044    CCC(COC(=O)c1cc(OC)c(OC)c(OC)c1)(c1ccccc1)N(C)C\n",
       "33   CHEMBL469790  COc1cc(-n2nnc3cc(-c4ccc(Cl)cc4)sc3c2=O)ccc1N1C...\n",
       "34  CHEMBL2165055  CO[C@H]1C[NH+](CCn2c(=O)ccc3ccc(C#N)cc32)CC[C@...\n",
       "35  CHEMBL2165055  CO[C@H]1C[NH+](CCn2c(=O)ccc3ccc(C#N)cc32)CC[C@...\n",
       "36  CHEMBL2165055  CO[C@H]1CN(CCn2c(=O)ccc3ccc(C#N)cc32)CC[C@H]1N...\n",
       "37  CHEMBL2165055  CO[C@H]1CN(CCn2c(=O)ccc3ccc(C#N)cc32)CC[C@H]1[..."
      ]
     },
     "execution_count": 44,
     "metadata": {},
     "output_type": "execute_result"
    }
   ],
   "source": [
    "df"
   ]
  },
  {
   "cell_type": "code",
   "execution_count": 51,
   "metadata": {},
   "outputs": [
    {
     "name": "stdout",
     "output_type": "stream",
     "text": [
      "Cc1cc(Nc2nc([NH2+][C@@H](C)c3ccc(F)cn3)c(C#N)nc2C)n[n-]1\n",
      "Cc1cc(Nc2nc([NH2+][C@@H](C)c3ccc(F)cn3)c(C#N)nc2C)n[nH]1\n",
      "Cc1cc(Nc2nc(N[C@@H](C)c3ccc(F)cn3)c(C#N)nc2C)n[nH]1\n",
      "Cc1cc(Nc2nc(N[C@@H](C)c3ccc(F)cn3)c(C#N)nc2C)n[n-]1\n"
     ]
    }
   ],
   "source": [
    "for s in df[df.id == 'CHEMBL578201'].smile:\n",
    "    print(s)"
   ]
  },
  {
   "cell_type": "code",
   "execution_count": 47,
   "metadata": {},
   "outputs": [
    {
     "data": {
      "text/plain": [
       "CHEMBL578201     4\n",
       "CHEMBL2165055    4\n",
       "CHEMBL317462     2\n",
       "CHEMBL1951182    2\n",
       "CHEMBL1951080    2\n",
       "CHEMBL596271     2\n",
       "CHEMBL2153181    2\n",
       "CHEMBL2171986    2\n",
       "CHEMBL93884      2\n",
       "CHEMBL1771       2\n",
       "CHEMBL1916276    2\n",
       "CHEMBL1527751    2\n",
       "CHEMBL1940306    2\n",
       "CHEMBL190044     2\n",
       "CHEMBL469790     1\n",
       "CHEMBL2030960    1\n",
       "CHEMBL565079     1\n",
       "CHEMBL13097      1\n",
       "CHEMBL234951     1\n",
       "CHEMBL276218     1\n",
       "Name: id, dtype: int64"
      ]
     },
     "execution_count": 47,
     "metadata": {},
     "output_type": "execute_result"
    }
   ],
   "source": [
    "df.id.value_counts()"
   ]
  },
  {
   "cell_type": "code",
   "execution_count": null,
   "metadata": {},
   "outputs": [],
   "source": []
  }
 ],
 "metadata": {
  "colab": {
   "authorship_tag": "ABX9TyOg9MJ0O+zofNPhfqKPki2H",
   "collapsed_sections": [
    "1GZlT0HZkIPZ",
    "jxzJYRinkNb2"
   ],
   "name": "get_fingerprints.ipynb",
   "provenance": [],
   "toc_visible": true
  },
  "kernelspec": {
   "display_name": "Python [conda env:batch-msc] *",
   "language": "python",
   "name": "conda-env-batch-msc-py"
  },
  "language_info": {
   "codemirror_mode": {
    "name": "ipython",
    "version": 3
   },
   "file_extension": ".py",
   "mimetype": "text/x-python",
   "name": "python",
   "nbconvert_exporter": "python",
   "pygments_lexer": "ipython3",
   "version": "3.6.10"
  }
 },
 "nbformat": 4,
 "nbformat_minor": 1
}
